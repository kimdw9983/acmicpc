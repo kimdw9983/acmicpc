{
 "cells": [
  {
   "cell_type": "code",
   "execution_count": null,
   "metadata": {},
   "outputs": [],
   "source": [
    "MAX = 32\n",
    "class Trie:\n",
    "  def __init__(self):\n",
    "    self.r = {}\n",
    "\n",
    "  def add(self, s):\n",
    "    cur = self.r\n",
    "    for c in s:\n",
    "      cur = cur.setdefault(c, {})\n",
    "\n",
    "  def query(self, s):\n",
    "    s = s[::-1]\n",
    "    cur = self.r\n",
    "    res = 0\n",
    "    for i in reversed(range(MAX)) :\n",
    "      v = s[i]\n",
    "      nxt = '1' if v == '0' else '0'\n",
    "      if nxt in cur :\n",
    "        cur = cur[nxt]\n",
    "        res += 1 << i\n",
    "      else :\n",
    "        cur = cur[v]\n",
    "    return res\n",
    "\n",
    "def sol() :\n",
    "  N = int(input())\n",
    "  parse= lambda x: bin(int(x))[2:].zfill(MAX)\n",
    "  L = list(map(parse, input().split()))\n",
    "  trie = Trie()\n",
    "  for l in L:\n",
    "    trie.add(l)\n",
    "  \n",
    "  ans = -1\n",
    "  for l in L :\n",
    "    ans = max(ans, trie.query(l))\n",
    "  print(ans)\n",
    "\n",
    "sol()"
   ]
  },
  {
   "cell_type": "markdown",
   "metadata": {},
   "source": [
    "- 웰노운에 개쳐맞았다."
   ]
  }
 ],
 "metadata": {
  "language_info": {
   "name": "python"
  }
 },
 "nbformat": 4,
 "nbformat_minor": 2
}
