{
 "cells": [
  {
   "cell_type": "markdown",
   "metadata": {},
   "source": [
    "### 해석\n",
    "- N이 1일때 주의해야할듯\n",
    "\n",
    "### 접근\n",
    "- 두 영역을 커버할 수 있는 배치를 최대한 많이 두고, 2N - (두 영역을 커버할 수 있는 배치의 수)를 출력하면 될 것 같은데.\n",
    "- 각 칸마다 위(-1), 좌(-1), 우(+1)를 살펴보면서 두 영역을 커버할 수 있는 배치가 있는지 확인해보고, 그 가능여부를 DP에 저장한다는 아이디어가 먼저 생각났다.\n",
    "  - 직접 구현을 먼저 해보는편이 좋아보인다.\n",
    "\n"
   ]
  },
  {
   "cell_type": "code",
   "execution_count": null,
   "metadata": {},
   "outputs": [],
   "source": [
    "import io, os\n",
    "input=io.BytesIO(os.read(0,os.fstat(0).st_size)).readline\n",
    "\n",
    "def sol() :\n",
    "  N, W = map(int, input().split())\n",
    "  L = [[*map(int, input().split())], [*map(int, input().split())]]\n",
    "  DP = [[[0] * 3 for _ in range(N)] for _ in range(2)] #좌, 우, 하\n",
    "  for x, l in enumerate(L) :\n",
    "    for y, v in enumerate(l) :\n",
    "      for i, (dx, dy) in enumerate([(0, 1), (0, -1), (1, 0)]) :\n",
    "        nx = (x + dx) % 2\n",
    "        ny = (y + dy) % N\n",
    "        if v + L[nx][ny] <= W :\n",
    "          DP[x][y][i] = 1\n",
    "  pprint(DP)\n",
    "        \n",
    "for _ in range(int(input())) :\n",
    "  sol()"
   ]
  },
  {
   "cell_type": "markdown",
   "metadata": {},
   "source": [
    "### 아이디어2\n",
    "- DP[i][dir]: 현재(i) 칸에서 상/하/좌/우(dir)와 합칠 수 있으면 합쳤을 때 필요한 최소 부대원 수"
   ]
  }
 ],
 "metadata": {
  "language_info": {
   "name": "python"
  },
  "orig_nbformat": 4
 },
 "nbformat": 4,
 "nbformat_minor": 2
}
