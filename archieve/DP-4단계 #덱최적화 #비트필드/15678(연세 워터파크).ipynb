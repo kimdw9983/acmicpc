{
 "cells": [
  {
   "cell_type": "code",
   "execution_count": null,
   "metadata": {},
   "outputs": [],
   "source": [
    "import io, os, collections\n",
    "input=io.BytesIO(os.read(0,os.fstat(0).st_size)).readline\n",
    "\n",
    "def sol(): \n",
    "  N, D = map(int, input().split())\n",
    "  DQ = collections.deque([0])\n",
    "  DP = [0] * N #i번째 까지 점수의 최대값\n",
    "  answer = -float(\"inf\")\n",
    "  for i, v in enumerate(map(int, input().split())) :\n",
    "    if DQ and DQ[0] < i - D : DQ.popleft()\n",
    "    DP[i] = max(DP[DQ[0]] + v, v) #현재 징검다리부터 시작하는 경우 vs 이전의 최대값을 가지는 징검다리를 밟고 건너온\n",
    "    answer = max(answer, DP[i])\n",
    "    while DQ and DP[DQ[-1]] <= DP[i] : DQ.pop() #front에 최대값을 유지시키도록 만든다.\n",
    "    DQ.append(i)\n",
    "\n",
    "  print(answer)\n",
    "\n",
    "sol()"
   ]
  },
  {
   "cell_type": "markdown",
   "metadata": {},
   "source": [
    "### 풀이\n",
    "- DP[i] = i번째 징검다리까지 고려했을 때 얻을 수 있는 최대 점수.\n",
    "  - 덱은 `현재 값을 제외한 길이 D의 범위에서 얻을 수 있는 최대값`을 유지할 수 있도록 한다.\n",
    "  - 이때 현재 값을 제외시키기 위해 L[i]를 enqueue하는 작업을 정답 후보를 계산한 다음에 수행한다.\n",
    "- `i`번째 징검다리를 밟으려 할 때, 이전에 밟은 징검다리를 `j`라고 한다면\n",
    "  - 이전에 밟아야 할 징검다리의 후보는 `DP[j] + L[i]` 단, $i-D \\le j \\le i-1$ 사이에 있을 것이며 이중 최대값을 가지는 징검다리를 밟으면 된다.\n",
    "  - 이 부분은 단조 큐 테크닉으로 구하여 DQ[0]에 나오도록 만들 수 있다.\n",
    "- 그러나 L은 음수가 포함되어있고, 어디서든 시작할 수 있기 때문에 이전 다리를 밟아서 누적하는 것이 해가 아닐 수 있다.\n",
    "  - 현재 징검다리부터 시작하는 경우도 고려해야 한다.\n",
    "  - 따라서 DP[i] = max(`이전 다리를 밟아와서 누적하는 경우`, `현재 다리부터 시작하는 경우`) = `max(DP[DQ[0], L[i])`이다.\n",
    "- 그리고 어디서든지 끝낼 수도 있기 때문에, 해는 징검다리를 밟는 도중에 나올 수 있다. \n",
    "  - 따라서 `DP[i]`를 갱신할 때마다 그 최대값을 갱신시킨다.\n",
    "  - L을 모두 순회하고 남은 최대값이 정답이 된다."
   ]
  }
 ],
 "metadata": {
  "language_info": {
   "name": "python"
  },
  "orig_nbformat": 4
 },
 "nbformat": 4,
 "nbformat_minor": 2
}
