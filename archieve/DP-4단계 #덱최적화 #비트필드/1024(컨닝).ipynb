{
 "cells": [
  {
   "cell_type": "code",
   "execution_count": null,
   "metadata": {},
   "outputs": [],
   "source": [
    "def sol() :\n",
    "  N, M = map(int, input().split()) #가로 세로\n",
    "  G = [[*input()] for _ in range(N)]\n",
    "  DP = [[0] * (1 << (M+1)) for _ in range(N * M + 1)]  #i칸까지 채우고 지금까지 채운 최근 M+1칸의 상태(밀고난 다음에 추가)\n",
    "  for i in range(N * M) :\n",
    "    for j in range(1 << (M+1)) :\n",
    "      possible = False\n",
    "\n",
    "      if G[i//M][i%M] != 'x' : #배치할 자리가 이미 부숴진 자리면 안된다\n",
    "        if i < M  : #M이하라면 왼쪽만 확인하면 된다.\n",
    "          possible = j & (1 << M) == 0\n",
    "        else:\n",
    "          if i % M == 0 : #왼쪽 끝에 있는 경우: 우상\n",
    "            possible = j & (1 << 2) == 0\n",
    "          elif i % M == M-1 : #오른쪽 끝에있는 경우: 좌, 좌상\n",
    "            possible = j & (1 << M | 1 << 0) == 0\n",
    "          else : #그 외의 경우 : 좌, 우상, 좌상\n",
    "            possible = j & (1 << M | 1 << 2 | 1 << 0) == 0\n",
    "\n",
    "      if possible :\n",
    "        DP[i+1][j >> 1 | 1 << M] = max(DP[i+1][j >> 1 | 1 << M], DP[i][j] + 1)\n",
    "      DP[i+1][j >> 1] = max(DP[i+1][j >> 1], DP[i][j])\n",
    "\n",
    "  print(max(DP[-1]))  \n",
    "\n",
    "for _ in range(int(input())):\n",
    "  sol()"
   ]
  },
  {
   "cell_type": "markdown",
   "metadata": {},
   "source": [
    "### 자력솔\n",
    "- Bitfield를 이용하는 풀이지만 이번엔 Bottom-Up으로 i번째 이전의 M+1개의 좌석 배치 상태를 저장하는 식으로 구현했다.\n",
    "  - 다른 풀이를 보니까 기존 재귀 방식처럼도 할 수도 있는 것 같다.\n",
    "  - 이전의 필드를 보는 방식이기 때문에 현재 칸을 채우는 것은 `| 0b1`이 아닌 비트자릿수 $M$만큼 쉬프트한 `| 1 << M`을 해야 했던 것에 주의해야 했다. 그 외에 모든 보는 방향이 재귀 구현과는 반대였다.\n",
    "- 디버깅을 정말 오랫동안 했고, possible이 아닐 때에도 그냥 넘기는 경우를 계속 처리하지 않고있었다..\n",
    "- 시간복잡도 $O(2^{M+1} * MN)$\n",
    "- Flow를 통한 풀이는 컨닝2에서 해봐야겟다."
   ]
  }
 ],
 "metadata": {
  "language_info": {
   "name": "python"
  },
  "orig_nbformat": 4
 },
 "nbformat": 4,
 "nbformat_minor": 2
}
