{
 "cells": [
  {
   "attachments": {},
   "cell_type": "markdown",
   "metadata": {},
   "source": [
    "### 풀이\n",
    "- 전광판은 `광고` + `광고의 접두사`의 형태로 이루어져 있다.\n",
    "- 즉, `전광판의 접미사`가 `광고의 접두사`와 일치한다면 그 부분이 전광판의 반복되는 지점이라고 생각해도 된다.\n",
    "- 그래서 어떤 문자열의 접미사가 접두사와 일치하는 최대 길이만큼 전광판의 문자열을 감소시킬 수 있다.\n",
    "- 따라서 `전광판의 길이` - `실패함수의 마지막 값`이 문제의 정답이 된다."
   ]
  },
  {
   "cell_type": "code",
   "execution_count": null,
   "metadata": {},
   "outputs": [],
   "source": [
    "import io, os\n",
    "\n",
    "def ff(s):\n",
    "  g, pi = 0, [0] * len(s)\n",
    "  for i, c in enumerate(s[1:], 1):\n",
    "    while g and (s[g] != c):\n",
    "      g = pi[g - 1]\n",
    "    pi[i] = g = g + (s[g] == c)\n",
    "  \n",
    "  return pi\n",
    "\n",
    "input = io.BytesIO(os.read(0, os.fstat(0).st_size)).readline\n",
    "input()\n",
    "s = input()[:-1]\n",
    "print(len(s) - ff(s)[-1])"
   ]
  }
 ],
 "metadata": {
  "language_info": {
   "name": "python"
  },
  "orig_nbformat": 4
 },
 "nbformat": 4,
 "nbformat_minor": 2
}
