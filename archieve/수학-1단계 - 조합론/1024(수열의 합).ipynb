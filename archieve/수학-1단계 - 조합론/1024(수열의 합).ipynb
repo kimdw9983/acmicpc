{
 "cells": [
  {
   "cell_type": "code",
   "execution_count": null,
   "metadata": {},
   "outputs": [],
   "source": [
    "import io, os\n",
    "input= io.BytesIO(os.read(0, os.fstat(0).st_size)).readline\n",
    "\n",
    "def sol():\n",
    "  acc = 0\n",
    "  A = []\n",
    "  for i in range(101) :\n",
    "    acc += i\n",
    "    A.append(acc)\n",
    "  \n",
    "  N, L = map(int, input().split())\n",
    "  ans = []\n",
    "\n",
    "  for i in range(L, 101) :\n",
    "    if N - A[i] < 0 : break\n",
    "    if (N - A[i]) % i == 0 :\n",
    "      start = (N - A[i]) // i + 1\n",
    "      for j in range(i) :\n",
    "        ans.append(start + j)\n",
    "      return print(*ans)\n",
    "  \n",
    "  if N in A and L:\n",
    "    pos = A.index(N)\n",
    "    if L <= pos+1 :\n",
    "      for j in range(A.index(N)+1) :\n",
    "        ans.append(j)\n",
    "      return print(*ans)\n",
    "  print(-1)\n",
    "sol()"
   ]
  },
  {
   "cell_type": "markdown",
   "metadata": {},
   "source": [
    "### 자력솔\n",
    "- x + (x+1) + (x+2) + (x+3) = N\n",
    "\n",
    "Lx + sum_{0 \\to L-1} = N <= 100번만 하면 됨\n",
    "\n",
    "\n",
    "k = L \\to 100 = (수열을 만들 수 있는 최소 길이)\n",
    "let sum_{0 \\to k - 1} A\n",
    "N - A = kx\n",
    "\n",
    "x = (N - A) / k\n",
    "의 나머지가 없으면 정답\n",
    "- off-by-one. 수열 길이 100이면 101까지 했어야.\n",
    "- 합 자체가 포함됐을 때의 케이스를 따로 처리하는게 나았다.\n",
    "  - 0을 포함하는지의 여부를 제외하면 반복문 내부가 깔끔해지기 때문."
   ]
  }
 ],
 "metadata": {
  "language_info": {
   "name": "python"
  }
 },
 "nbformat": 4,
 "nbformat_minor": 2
}
