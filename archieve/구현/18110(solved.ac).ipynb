{
 "cells": [
  {
   "cell_type": "code",
   "execution_count": null,
   "metadata": {},
   "outputs": [],
   "source": [
    "import io, os, sys\n",
    "input=io.BytesIO(os.read(0,os.fstat(0).st_size)).readline\n",
    "round = lambda x : int(x)+1 if x-int(x) >= .5 else int(x)\n",
    "\n",
    "n = int(input())\n",
    "L = [int(input()) for _ in range(n)]\n",
    "L.sort()\n",
    "\n",
    "if n :\n",
    "  thres = round(n * .15)\n",
    "  answer = round(sum(L[thres:-thres] if thres else L) / (n - 2 * thres))\n",
    "else :\n",
    "  answer = 0\n",
    "sys.stdout.write(str(answer))"
   ]
  },
  {
   "attachments": {},
   "cell_type": "markdown",
   "metadata": {},
   "source": [
    "- 사사오입 평균법에 대해서 언어간 차이가 좀있었다\n",
    "- 앞뒤 thres만큼 자르는데`L[thres:-thres]`를 썼다. 근데 , thres가 0이면 `L[0:-0]`이 돼서 아무것도 없는 list를 반환하므로 문제가 생김."
   ]
  }
 ],
 "metadata": {
  "language_info": {
   "name": "python"
  },
  "orig_nbformat": 4
 },
 "nbformat": 4,
 "nbformat_minor": 2
}
