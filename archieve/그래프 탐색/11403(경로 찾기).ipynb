{
 "cells": [
  {
   "cell_type": "code",
   "execution_count": null,
   "metadata": {},
   "outputs": [],
   "source": [
    "import io, os, sys\n",
    "input=io.BytesIO(os.read(0,os.fstat(0).st_size)).readline\n",
    "N = int(input())\n",
    "G = [[*map(int, input().split())] for _ in range(N)]\n",
    "\n",
    "def trav(G):\n",
    "  for k in range(N):\n",
    "    for i, l in enumerate(G):\n",
    "      for j, v in enumerate(l):\n",
    "        if not G[i][k] or not G[k][j] : continue\n",
    "        G[i][j] = 1\n",
    "\n",
    "  return G\n",
    "\n",
    "ans = trav(G)\n",
    "\n",
    "for l in ans :\n",
    "  sys.stdout.write(' '.join(map(str, l)) + '\\n')"
   ]
  },
  {
   "cell_type": "markdown",
   "metadata": {},
   "source": [
    "- 플로이드 워셜의 아이디어를 사용해서 어떤 인접 벡터가 주워졌을 때 해당 경로에 도달할 수 있는지의 여부를 확인할 수 있다."
   ]
  }
 ],
 "metadata": {
  "language_info": {
   "name": "python"
  },
  "orig_nbformat": 4
 },
 "nbformat": 4,
 "nbformat_minor": 2
}
