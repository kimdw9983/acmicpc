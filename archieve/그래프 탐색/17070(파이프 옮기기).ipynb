{
 "cells": [
  {
   "cell_type": "code",
   "execution_count": null,
   "metadata": {},
   "outputs": [],
   "source": [
    "import io, os\n",
    "input=io.BytesIO(os.read(0,os.fstat(0).st_size)).readline\n",
    "\n",
    "N = int(input())\n",
    "G = [[*map(int, input().split())] for _ in range(N)]\n",
    "\n",
    "def trav(G, s, N, M) :\n",
    "  Q = [s]\n",
    "  answer = 0\n",
    "  while Q :\n",
    "    x, y, d = Q.pop() \n",
    "\n",
    "    for id, (dx, dy) in enumerate([(0, 1), (1, 0), (1, 1)]) :\n",
    "      if d == 0 and id == 1: continue #45도 방향이면 아래, 오른쪽을 바라볼 수 있지만, 그게 아니라면 방향을 유지하거나, 45도 방향으로밖에 갈 수 없다.\n",
    "      if d == 1 and id == 0: continue\n",
    "      nx = x + dx\n",
    "      ny = y + dy\n",
    "\n",
    "      if not (0 <= nx < N and 0 <= ny < M): continue\n",
    "      if G[nx][ny]: continue\n",
    "      if id == 2 and (G[nx-1][ny] or G[nx][ny-1]): continue #대각선으로 이동하려는데 아래나 오른쪽이 벽일 경우\n",
    "      if nx == N-1 and ny == M-1: \n",
    "        answer += 1\n",
    "        continue\n",
    "\n",
    "      Q.append((nx, ny, id)) \n",
    "\n",
    "  return answer\n",
    "\n",
    "if G[N-1][N-1] == 1 :\n",
    "  print(0)\n",
    "else :\n",
    "  #가장 처음에 파이프는 (1, 1)와 (1, 2)를 차지하고 있고, 방향은 가로\n",
    "  print(trav(G, (0, 1, 0), N, N))"
   ]
  },
  {
   "attachments": {},
   "cell_type": "markdown",
   "metadata": {},
   "source": [
    "- DP가 분명히 생각이 나긴 했는데, 문제에 넘버링이 있고 어떻게 하는지 약간 감이 안잡아서, 그래프 탐색의 경우를 모두 따지는 것만으로 푸는 것으로 아이디어를 유기했는데 아니나 다를까 그거 때문에 TLE가 났다.\n",
    "- 최악 케이스를 직접 처리해주는게 맞는가 싶긴 한데, `G[N-1][N-1]`에 벽이 있다면 정답을 만들 수 없으므로 0 을 출력하게 한다는(내 발상이 아닌) 코드를 집어넣으니 겨우 통과했다."
   ]
  }
 ],
 "metadata": {
  "language_info": {
   "name": "python"
  },
  "orig_nbformat": 4
 },
 "nbformat": 4,
 "nbformat_minor": 2
}
