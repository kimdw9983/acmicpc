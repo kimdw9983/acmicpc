{
 "cells": [
  {
   "cell_type": "code",
   "execution_count": null,
   "metadata": {},
   "outputs": [],
   "source": [
    "import sys\n",
    "input=sys.stdin.readline\n",
    "\n",
    "M, N, H = map(int, input().split())\n",
    "G = [[[*map(int, input().split())] for _ in range(N)] for _ in range(H)] #G이자 vis이다.\n",
    "\n",
    "Q = []\n",
    "for i, l in enumerate(G) :\n",
    "  for j, ll in enumerate(l) :\n",
    "    for k, v in enumerate(ll) :\n",
    "      if v == 1 :\n",
    "        Q.append((i, j, k))\n",
    "\n",
    "dx = [0, 0, 0, 0, 1, -1]\n",
    "dy = [0, 0, 1, -1, 0, 0]\n",
    "dz = [1, -1, 0, 0, 0, 0]\n",
    "def trav(Q, G):\n",
    "  l = []\n",
    "  while Q :\n",
    "    z, y, x = Q.pop()\n",
    "    for i, d in enumerate(dx) :\n",
    "      nz, ny, nx = z+dz[i], y+dy[i], x+d\n",
    "\n",
    "      if not (0 <= nz < H and 0 <= ny < N and 0 <= nx < M): continue\n",
    "      if G[nz][ny][nx]: continue\n",
    "\n",
    "      G[nz][ny][nx] = 1\n",
    "      l.append((nz, ny, nx))\n",
    "    \n",
    "  return l\n",
    "\n",
    "answer = 0\n",
    "while Q:\n",
    "  nextQ = trav(Q, G)\n",
    "  \n",
    "  if not nextQ: break\n",
    "  answer += 1\n",
    "  Q += nextQ\n",
    "\n",
    "c = True\n",
    "for i, l in enumerate(G):\n",
    "  for j, ll in enumerate(l):\n",
    "      for k, v in enumerate(ll):\n",
    "        if not v :\n",
    "          c = False\n",
    "          break\n",
    "\n",
    "print(answer if c else -1)"
   ]
  }
 ],
 "metadata": {
  "language_info": {
   "name": "python"
  },
  "orig_nbformat": 4
 },
 "nbformat": 4,
 "nbformat_minor": 2
}
