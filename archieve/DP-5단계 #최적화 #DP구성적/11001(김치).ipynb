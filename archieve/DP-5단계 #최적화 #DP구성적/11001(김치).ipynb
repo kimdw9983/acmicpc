{
 "cells": [
  {
   "cell_type": "markdown",
   "metadata": {},
   "source": [
    "### 관찰\n",
    "- DP[i] = `i 번째(1-index) 장독대에 넣은 김치의 최대 가치` 라고 정의할 수 있고, 점화식은 다음과 같다\n",
    "- $\\displaystyle DP[i] = V_i + \\max_{j=1 \\to N}(\\min(N-j-i-1, D, 0) \\cdot T_j)$\n",
    "- (유도 과정 및 관찰) 김치를 넣은 날짜는 곧 장독대의 번호와 같고, 넣은 장독대의 가치는 언제 김치를 빼내든 빼내든 유지가 된다. \\\n",
    "따라서 $i$ 번째 날에는 $V_i$ 가 고정적으로 더해진다.\\\n",
    "이제, 빼는 날짜에 따라 김치싸대기의 가치가 달라질텐데, 우선 $D = N$ 이라고 가정하고 규칙성을 관찰해보기로 했다.\\\n",
    "1번째 장독대에 대해, 0일 숙성 후 꺼내면 $0 \\cdot T_1$, 1일 숙성 후 꺼내면 $1 \\cdot T_2$ , $a$ 일 숙성 후 꺼내면 $a \\cdot T_{a+1}$ 가 된다.\\\n",
    "$DP[1] = V_1 + \\max(0 \\cdot T_1, 1 \\cdot T_2, \\cdots, (N-1) \\cdot T_N)$\\\n",
    "2번째 장독대는 1번째 장독대보다 1일 늦게 김치를 넣었으므로, 0일 숙성 후 꺼내면 $0 \\cdot T_2$, 1일 숙성 후 꺼내면 $1 \\cdot T_3$ , $a$ 일 숙성 후 꺼내면 $a \\cdot T_{a+2}$ 가 된다.\\\n",
    "$DP[2] = V_2 + \\max(0 \\cdot T_2, 1 \\cdot T_3, \\cdots, (N-2) \\cdot T_N)$\\\n",
    "$n$ 번째 장독대는 $a$ 일 숙성할 때, $a \\cdot T_{a+n}$ 이 된다.\\\n",
    "$DP[n] = V_n + \\max(0 \\cdot T_n, 1 \\cdot T_{n+1}, \\cdots, (N-n) \\cdot T_N)$\\\n",
    "이때, max 안의 맨 마지막 항을 관찰해보면, $T_i > 0$ 이므로, $T_N$ 앞에 붙은 계수가 클 수록 큰 값이 된다는 것을 발견할 수 있다.\\\n",
    "즉, $x \\cdot T_i \\geq T_i, (x \\geq 1)$ 이다. (숙성 시간이 길수록 김치의 맛이 좋아진다)\n",
    "- 이제 $N \\ne D$ 즉, $N > D$ 인 경우를 생각해보자.\\\n",
    "숙성시간이 $D$ 이하면, 아무리 장독대를 일찍 많아야 $D$ 일 이후에는 김치를 꺼내야 한다.\\\n",
    "그런데, 숙성시간이 길수록 김치의 맛이 좋아지는 것을 알고 있으므로, $D$ 일 이후에 김치를 꺼내는 것만 고려하면 된다.\\\n",
    "$i$ 번째 장독대에 김치를 넣었을 때, $i + D$ 번째 장독이 있으면 $D$ 일 숙성치 만큼까지 계산하면 되고, 없다면 $N$ 번째 장독대까지 계산하게 된다.\\\n",
    "그리고, T_i 앞에 0이 곱해지면 계산에 영향을 주지 않는 점을 이용해서 $j = 1 \\to N$ 에 대해서, 가능하면 $D$ 일만큼 숙성시키고, \\\n",
    "그렇지 않으면 $N$ 번째 장독대까지 숙성시킨 일수 만큼 가치를 곱하게 하게끔 계수를 만든 점화식이 된다."
   ]
  },
  {
   "cell_type": "markdown",
   "metadata": {},
   "source": [
    "### 아이디어\n",
    "- 우선 점화식 그대로 naive하게 푼다면 $\\Omicron(N^2)$ 이 걸린다. N은 10만이므로 최적화가 필요하단 것을 알 수 있다.\n",
    "- 문제가 분할정복 트릭을 사용하는 것을 알고 있고, 그 방법이 아마 내가 유도할 수 없을만큼 복잡하겠지만, 몇 분 정도는 상상해보고 답지를 보기로 마음먹었다.\n",
    "  - 겁내 어려운 분할정복 문제나, 세그먼트 트리의 원리같이 구역을 2개씩 분할하고 각 부분에 대해서 정답을 구해내서 $\\Omicron(N \\log N)$ 으로 풀 수도 있겠다.\\\n",
    "  근데 이게 어떻게 절반으로 나눠질 수 있단 말인가.\n",
    "  - 혹은 행렬 고속계산 테크닉이나 $a^b \\mod c$ 를 계산할 때 사용했던 분할정복처럼, 적절한 특성을 이용해서 분할된 부분에 대해서 딱딱딱 하는게 아닐까? \\\n",
    "  이쪽이 현실성 있어보인다."
   ]
  },
  {
   "cell_type": "markdown",
   "metadata": {},
   "source": [
    "### 풀이\n",
    "- 넣은 날짜를 $i$, 꺼낸 날짜를 $j$ 이고, $i \\leq j$ 에 대해서, $C(i, j) = (j - i) \\cdot T_j + V_i$ 로 정의할 수 있다, \\\n",
    "문제의 정의에서 $T_i \\geq T_{i+1}$ 이라고 했다.\\\n",
    "김치를 넣은 날을 $i$ 번째 날이라 했을 때, 제일 맛있는 날을 $opt_i$ 라고 하자.\\\n",
    "$i < i'$ 일 때, $opt_i \\leq opt_{i'}$ 이므로 DnC를 적용할 수 있다.\n",
    "- (증명) 날짜가 지날수록 $T_i$ 는 감소하지만, 그럼에도 $opt_i$ 가 최적의 위치라는 것은, \\\n",
    "그 사이 구간($i \\to opt_i$) 동안의 김치의 맛이 증가했다는 뜻이고, 그 이후부터는 적어도 맛이 같거나, 감소할 수 있다는 의미이다.\\\n",
    "그렇다면, $opt_{i'}$ 김치의 가치를 증가시키는 구간 $[i, opt_i]$ 을 적어도 포함해야 한다. 따라서 $opt_i \\leq opt_{i'}$ 이다."
   ]
  },
  {
   "cell_type": "code",
   "execution_count": null,
   "metadata": {},
   "outputs": [],
   "source": [
    "import io, os\n",
    "input=io.BytesIO(os.read(0,os.fstat(0).st_size)).readline\n",
    "\n",
    "def sol() :\n",
    "  N, D = map(int, input().split())\n",
    "  T = list(map(int, input().split()))\n",
    "  V = list(map(int, input().split()))\n",
    "\n",
    "  calc = lambda i, j: (j-i) * T[j] + V[i]\n",
    "  ans = 0\n",
    "  def DnC(s, e, l, r) :\n",
    "    nonlocal ans\n",
    "    if s > e : return\n",
    "\n",
    "    m = (s + e) // 2\n",
    "    k = max(l, m - D)\n",
    "    for i in range(k, min(m, r) + 1) :\n",
    "      if calc(k, m) < calc(i, m) :\n",
    "        k = i\n",
    "\n",
    "    ans = max(ans, calc(k, m))\n",
    "    DnC(s, m-1, l, k)\n",
    "    DnC(m+1, e, k, r)\n",
    "  DnC(0, N-1, 0, N-1)\n",
    "\n",
    "  print(ans)\n",
    "\n",
    "sol()"
   ]
  },
  {
   "cell_type": "markdown",
   "metadata": {},
   "source": [
    "- iterative. 변환이 많이 어렵지 않으면서 속도 향상은 있었다."
   ]
  },
  {
   "cell_type": "code",
   "execution_count": null,
   "metadata": {},
   "outputs": [],
   "source": [
    "import io, os\n",
    "input=io.BytesIO(os.read(0,os.fstat(0).st_size)).readline\n",
    "\n",
    "def DnC(N, D, T, V):\n",
    "  S = [(0, N - 1, 0, N - 1)]\n",
    "  ans = 0\n",
    "  calc = lambda i, j: (j - i) * T[j] + V[i]\n",
    "\n",
    "  while S:\n",
    "    s, e, l, r = S.pop()\n",
    "\n",
    "    if s > e: continue\n",
    "\n",
    "    m = (s + e) // 2\n",
    "    k = max(l, m - D)\n",
    "    for i in range(k, min(m, r) + 1):\n",
    "      if calc(k, m) < calc(i, m):\n",
    "        k = i\n",
    "\n",
    "    ans = max(ans, calc(k, m))\n",
    "\n",
    "    S.append((s, m - 1, l, k))\n",
    "    S.append((m + 1, e, k, r))\n",
    "\n",
    "  return ans\n",
    "\n",
    "def sol() :\n",
    "  N, D = map(int, input().split())\n",
    "  T = list(map(int, input().split()))\n",
    "  V = list(map(int, input().split()))\n",
    "\n",
    "  print(DnC(N, D, T, V))\n",
    "\n",
    "sol()"
   ]
  }
 ],
 "metadata": {
  "language_info": {
   "name": "python"
  }
 },
 "nbformat": 4,
 "nbformat_minor": 2
}
