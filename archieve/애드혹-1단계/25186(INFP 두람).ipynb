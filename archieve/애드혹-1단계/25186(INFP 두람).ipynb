{
 "cells": [
  {
   "cell_type": "code",
   "execution_count": null,
   "metadata": {},
   "outputs": [],
   "source": [
    "import io, os\n",
    "input=io.BytesIO(os.read(0,os.fstat(0).st_size)).readline\n",
    "\n",
    "def sol() :\n",
    "  N = int(input())\n",
    "  L = [*map(int, input().split())]\n",
    "  x = sum(L)\n",
    "\n",
    "  thres = x // 2\n",
    "  for n in L :\n",
    "    if n == 1 : continue # 옷 종류가 하나면 영향을 끼치지 않는다?\n",
    "    if n > thres :\n",
    "      return print(\"Unhappy\")\n",
    "  print(\"Happy\")\n",
    "\n",
    "sol()"
   ]
  },
  {
   "cell_type": "markdown",
   "metadata": {},
   "source": [
    "1\n",
    "1\n",
    ";; Unhappy\n",
    "1\n",
    "2\n",
    ";; happy\n",
    "2\n",
    "1 1\n",
    ";; Happy\n",
    "3\n",
    "1 1 1\n",
    ";; Happy\n",
    "2\n",
    "10 10\n",
    "2\n",
    "10 9"
   ]
  },
  {
   "cell_type": "markdown",
   "metadata": {},
   "source": [
    "### 자력솔(with 정답률 힌트)\n",
    "- 한 종류의 옷 옆에 다른 종류를 배치하는 방법으로 배치한다면 최적으로 배치할 수 있다.\n",
    "  - ex) ABACAB... \n",
    "- 그렇다면 어떻게 배치하더라도 옷이 겹칠 수 밖에 없다는 것은, 어떤 한 옷 옆에 다른 옷을 배치할 자리가 없는 경우일 것이다.\\\n",
    "가장 많은 옷의 개수를 A라고 한다면, $\\sum(L)$ 의 절반보다 A의 개수가 많아진다면 더 이상 배치할 곳이 없을 것이다.\n",
    "- 단, 옷의 개수가 1개일 때는 어떤 경우가 되더라도 항상 배치할 수 있으므로, 예외 처리해주어야 한다. "
   ]
  }
 ],
 "metadata": {
  "language_info": {
   "name": "python"
  },
  "orig_nbformat": 4
 },
 "nbformat": 4,
 "nbformat_minor": 2
}
