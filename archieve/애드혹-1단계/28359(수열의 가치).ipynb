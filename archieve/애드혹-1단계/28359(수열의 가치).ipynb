{
 "cells": [
  {
   "cell_type": "code",
   "execution_count": null,
   "metadata": {},
   "outputs": [],
   "source": [
    "import io, os, sys\n",
    "input = io.BytesIO(os.read(0, os.fstat(0).st_size)).readline\n",
    "\n",
    "def sol():\n",
    "  N = int(input())\n",
    "  L = list(map(int, input().split()))\n",
    "  L.sort(reverse=True)\n",
    "\n",
    "  res = 0\n",
    "  last = 0 \n",
    "  cnt = 0\n",
    "  for i, v in enumerate(L) :\n",
    "    if v != last :\n",
    "      res = max(res, cnt * last)\n",
    "      cnt = 1\n",
    "      last = v\n",
    "    else :\n",
    "      cnt += 1\n",
    "  res = max(res, cnt * last)\n",
    "  \n",
    "  ans = sum(L) + res\n",
    "  sys.stdout.write(str(ans) + '\\n' + \" \".join(map(str, L)))\n",
    "\n",
    "sol()"
   ]
  },
  {
   "cell_type": "markdown",
   "metadata": {},
   "source": [
    "### 자력솔\n",
    "- 수열을 어떻게 배치해도 수열의 가치는, 수열을 재배치해서 만들 수 있는 maximum LIS의 합과 그렇게 배치된 수열에서의 Longest Decreasing Subsequence의 합보다는 크지 않음을 증명할 수 있다.\n",
    "  - 그것보다 큰 배치가 가능하다고 했을 경우, LDS의 길이를 더 늘린 수열의 배치는 maximum LIS의 원소에서 그만큼 빠지게 된다.\n",
    "- 주워진 수열을 재배치해서 만들 수 있는 maximum LIS는 오름차순으로 정렬된 수열과 같으므로, (정렬된 수열의 총합) + (LDS의 총합)을 구한 것이 정답과 같다."
   ]
  }
 ],
 "metadata": {
  "language_info": {
   "name": "python"
  },
  "orig_nbformat": 4
 },
 "nbformat": 4,
 "nbformat_minor": 2
}
