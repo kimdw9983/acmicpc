{
 "cells": [
  {
   "cell_type": "code",
   "execution_count": null,
   "metadata": {},
   "outputs": [],
   "source": [
    "import io, os\n",
    "input=io.BytesIO(os.read(0,os.fstat(0).st_size)).readline\n",
    "\n",
    "def sol() :\n",
    "  N = int(input())\n",
    "  L = list(map(int, input().split()))\n",
    "\n",
    "  C = lambda i, j: L[i] ^ L[j]\n",
    "  def calc(ans) :\n",
    "    for i in range(N) :\n",
    "      for j in range(i) :\n",
    "        DP[i][j] = DP[i-1][j]\n",
    "        DP[i][i] = max(DP[i][i], DP[i-1][j] + C(i, j))\n",
    "        ans = max(ans, DP[i][i])\n",
    "    \n",
    "    for j in range(N) :\n",
    "      DP[0][0] = max(DP[0][j], DP[-1][j] + C(0, j))\n",
    "      ans = max(ans, DP[0][0])\n",
    "    return ans\n",
    "  \n",
    "  DP = [[0] * N for _ in range(N)] #L[:i] 까지 봤을 때, 마지막에 합친 구슬이 j번째 구슬일 때 최대 점수\n",
    "  ans = calc(0)\n",
    "  N -= 1\n",
    "  DP = [[0] * N for _ in range(N)]\n",
    "  L = L[1:]\n",
    "  ans = calc(ans)\n",
    "  print(ans)\n",
    "\n",
    "for _ in range(int(input())) :\n",
    "  sol()"
   ]
  },
  {
   "cell_type": "markdown",
   "metadata": {},
   "source": [
    "### 자력솔\n",
    "- `DP[i][j]` = `L[:i]` 까지 봤을 때, 마지막에 합친 구슬이 `j`인 최대 점수.\n",
    "  - 단, 원형 수열이므로, $i = 1 \\to N, j = 1 \\to i$ 의 루프를 돈 이후, 0번째에 대해 $j = 1 \\to N$ 의 루프를 한번 더 돌아야 한다.\n",
    "  - 다만 DP 설계를 올바르게 구현을 못해서 WA도 몇번 맞고 시간도 오래걸렸다.\n",
    "- 흔한 원형 수열에 대한 DP라고 생각했는데 ad hoc인 정해가 따로 있었다. 만약 N이 높았다면 그쪽부터 의심해봤을 것.\n",
    "  - 알고 있었던 xor 연산의 특징중 하나로 $a \\oplus a = 0$ 이라는 것 정도였다. 대충 $C(a, a) = 0$ 인것만 알고 그걸 활용한게 전부였다."
   ]
  },
  {
   "cell_type": "code",
   "execution_count": null,
   "metadata": {},
   "outputs": [],
   "source": [
    "import io, os\n",
    "input=io.BytesIO(os.read(0,os.fstat(0).st_size)).readline\n",
    "\n",
    "def sol() :\n",
    "  N = int(input())\n",
    "  L = list(map(int, input().split()))\n",
    "\n",
    "  C = lambda i, j: L[i] ^ L[j]\n",
    "  def calc(ans) :\n",
    "    CUR, PREV = 0, 1 #N = 2일때, 바로 아래의 for문을 돌지 않으면 CUR과 PREV가 초기화되지 않아 unboundlocal error가 발생한다.\n",
    "    for i in range(N) :\n",
    "      for j in range(i) :\n",
    "        CUR = ~i & 1 #toggling\n",
    "        PREV = i & 1\n",
    "        DP[CUR][j] = DP[PREV][j]\n",
    "        DP[CUR][i] = max(DP[CUR][i], DP[i & 1][j] + C(i, j))\n",
    "        ans = max(ans, DP[CUR][i])\n",
    "\n",
    "    for j in range(N) :\n",
    "      #i 가 이번엔 갱신이 안됐지만, 마지막 구슬을 계산해야 하므로 PREV와 CUR을 바꿔야 한다.\n",
    "      DP[PREV][0] = max(DP[PREV][j], DP[CUR][j] + C(0, j))\n",
    "      ans = max(ans, DP[PREV][0])\n",
    "    return ans\n",
    "\n",
    "  DP = [[0] * N for _ in range(2)] #L[:i] 까지 봤을 때, 마지막에 합친 구슬이 j번째 구슬일 때 최대 점수 + toggling\n",
    "  ans = calc(0)\n",
    "  # N -= 1\n",
    "  # DP = [[0] * N for _ in range(2)]\n",
    "  # L = L[1:]\n",
    "  # ans = calc(ans)\n",
    "  print(ans)\n",
    "\n",
    "for _ in range(int(input())) :\n",
    "  sol()"
   ]
  },
  {
   "cell_type": "markdown",
   "metadata": {},
   "source": [
    "- 메모리 사용량을 줄이기 위해 toggling을 사용한 코드. 주석에 적힌 내용을 주의해야 겠다.\n",
    "- 주석 부분은 원래 원형 수열을 고려하는 DP라면 필수인 부분이다. \n",
    "  - 처음이자 마지막 부분이 없는 경우와 있는 경우를 모두 고려해야 하기 때문\n",
    "  - 하지만 후술할 xor연산의 특성에 의해 이 부분이 주석처리 되어도 정답을 받을 수 있다."
   ]
  },
  {
   "cell_type": "markdown",
   "metadata": {},
   "source": [
    "### 애드혹 풀이\n",
    "- 아무 구슬도 빼지 않는 것이 이득이다. 따라서 구슬을 빼는 것을 고려하지 않고 점수를 누적한 것이 정답.\n",
    "  - (증명) $A \\oplus B = A + B - 2 \\cdot (A \\land B) $ 이다.\\\n",
    "  그런데 $A \\land B \\leq A, B$ 이므로 $A \\oplus B \\geq 0$ 이다. \\\n",
    "  따라서 가능한 모든 구슬을 합치는 것이 이득이다."
   ]
  },
  {
   "cell_type": "code",
   "execution_count": null,
   "metadata": {},
   "outputs": [],
   "source": [
    "import io, os\n",
    "input=io.BytesIO(os.read(0,os.fstat(0).st_size)).readline\n",
    "\n",
    "def sol() :\n",
    "  input()\n",
    "  L = list(map(int, input().split()))\n",
    "  \n",
    "  ans = 0\n",
    "  for i, v in enumerate(L) :\n",
    "    ans += v ^ L[i-1]\n",
    "  print(ans)\n",
    "\n",
    "for _ in range(int(input())) :\n",
    "  sol()"
   ]
  }
 ],
 "metadata": {
  "language_info": {
   "name": "python"
  }
 },
 "nbformat": 4,
 "nbformat_minor": 2
}
