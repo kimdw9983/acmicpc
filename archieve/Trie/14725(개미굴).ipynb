{
 "cells": [
  {
   "cell_type": "code",
   "execution_count": null,
   "metadata": {},
   "outputs": [],
   "source": [
    "import sys\n",
    "input=sys.stdin.readline\n",
    "\n",
    "class Trie:\n",
    "  def __init__(self):\n",
    "    self.r = {}\n",
    "\n",
    "  def add(self, s):\n",
    "    cur = self.r\n",
    "    for c in s.split():\n",
    "      cur = cur.setdefault(c, {})\n",
    "\n",
    "T = Trie()\n",
    "for _ in range(int(input())):\n",
    "  l = [*input().split()] #2:-1\n",
    "  T.add(' '.join(l[1:]))\n",
    "\n",
    "def DFS(node, depth) :\n",
    "  for k, v in sorted(node.items()) :\n",
    "    sys.stdout.write('--'*depth + k + '\\n')\n",
    "    DFS(v, depth+1)\n",
    "  \n",
    "DFS(T.r, 0)"
   ]
  },
  {
   "attachments": {},
   "cell_type": "markdown",
   "metadata": {},
   "source": [
    "- `input=io.BytesIO(os.read(0,os.fstat(0).st_size)).readline`을 하면 string이 바이너리로 저장되므로, decode 전까지 원하는 결과를 얻을 수 없으므로 주의"
   ]
  }
 ],
 "metadata": {
  "language_info": {
   "name": "python"
  },
  "orig_nbformat": 4
 },
 "nbformat": 4,
 "nbformat_minor": 2
}
