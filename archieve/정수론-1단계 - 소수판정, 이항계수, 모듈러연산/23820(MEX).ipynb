{
 "cells": [
  {
   "cell_type": "code",
   "execution_count": null,
   "metadata": {},
   "outputs": [],
   "source": [
    "import io, os\n",
    "input= io.BytesIO(os.read(0, os.fstat(0).st_size)).readline\n",
    "def eratos(n):\n",
    "  p = [False] * 2 + [True for _ in range(n-1)]\n",
    "  r = 2\n",
    "  while (r * r <= n):\n",
    "    if p[r]:\n",
    "      for i in range(r**2, n+1, r):\n",
    "        p[i] = False\n",
    "    r += 1\n",
    "  return p\n",
    "MAX = 2_000_000\n",
    "ET = eratos(MAX)\n",
    "def sol() :\n",
    "  N = int(input())\n",
    "  L = list(map(int, input().split()))\n",
    "  LP = set(L)\n",
    "  if 0 not in L: return print(0)\n",
    "  if 1 not in L: return print(1)\n",
    "  MESH = {0, 1}\n",
    "  P = []\n",
    "\n",
    "  for p in ET :\n",
    "    if not p : continue\n",
    "    P.append(p)\n",
    "    if p in LP :\n",
    "      MESH.add(p)\n",
    "    else :\n",
    "      return print(p) #어떤 소수가 존재하지 않는다면 그 수는 다른 수의 곱에 의해 만들 수 없다.\n",
    "  \n",
    "  #mesh에도 없고 L에도 없으면 정답.\n",
    "  for p in P :\n",
    "    for p in range(p+1, p ** 2) :\n",
    "      if p not in MESH :\n",
    "        return print(p)\n",
    "    # p의 소수의 L상의 인덱스를 저장해둔것을 보면서, 그것과 곱한것을 MESH에 추가한다.\n",
    "\n",
    "\n",
    "\n",
    "\n",
    "# sol()"
   ]
  },
  {
   "cell_type": "markdown",
   "metadata": {},
   "source": [
    "- TLE 풀이"
   ]
  },
  {
   "cell_type": "code",
   "execution_count": null,
   "metadata": {},
   "outputs": [],
   "source": [
    "import io, os\n",
    "input= io.BytesIO(os.read(0, os.fstat(0).st_size)).readline\n",
    "def eratos(n):\n",
    "  p = [False] * 2 + [True for _ in range(n-1)]\n",
    "  r = 2\n",
    "  while (r * r <= n):\n",
    "    if p[r]:\n",
    "      for i in range(r**2, n+1, r):\n",
    "        p[i] = False\n",
    "    r += 1\n",
    "  return p\n",
    "MAX = 2_000_000\n",
    "ET = eratos(MAX)\n",
    "\n",
    "def sol() :\n",
    "  N = int(input())\n",
    "  L = list(map(int, input().split()))\n",
    "  LP = set(L)\n",
    "  if 0 not in L: return print(0)\n",
    "  if 1 not in L: return print(1)\n",
    "  MESH = {0, 1}\n",
    "  P = []\n",
    "  for p, is_prime in enumerate(ET) :\n",
    "    if p in LP : \n",
    "      MESH.add(p)\n",
    "      if is_prime : P.append(p)\n",
    "    elif is_prime and p not in LP :return print(p) #어떤 소수가 존재하지 않는다면 그 수는 다른 수의 곱에 의해 만들 수 없다.\n",
    "\n",
    "  # 모든 소수끼리의 곱으로 만들 수 있는 수들을 구한다.\n",
    "  for p1 in P :\n",
    "    for p2 in P :\n",
    "      if p1 * p2 <= MAX : MESH.add(p1 * p2)\n",
    "      else : break\n",
    "\n",
    "  for p in P :\n",
    "    for c in ET[:MAX // p + 1] : #소수와 합성수의 조합\n",
    "      if c : continue\n",
    "      if c in MESH or c * p in MESH : MESH.add(c * p)\n",
    "\n",
    "  for i in range(MAX+1) :\n",
    "    if i not in MESH : return print(i)\n",
    "\n",
    "  return print(2000003) #MAX 다음의 소수\n",
    "\n",
    "sol()"
   ]
  },
  {
   "cell_type": "markdown",
   "metadata": {},
   "source": [
    "- 무한 WA. 정신이 나갈거같다."
   ]
  },
  {
   "cell_type": "code",
   "execution_count": null,
   "metadata": {},
   "outputs": [],
   "source": [
    "import io, os\n",
    "input= io.BytesIO(os.read(0, os.fstat(0).st_size)).readline\n",
    "\n",
    "MAX = 2000003\n",
    "def sol() :\n",
    "  N = int(input())\n",
    "  L = [False] * (MAX + 77777)\n",
    "  for v in map(int, input().split()) :\n",
    "    L[v] = True\n",
    "  if not L[0]: return print(0)\n",
    "  if not L[1]: return print(1)\n",
    "  \n",
    "  MESH = [False] * (MAX + 77777)\n",
    "  MESH[0] = True\n",
    "  MESH[1] = True\n",
    "  for i in range(1, MAX + 1) :\n",
    "    if not L[i]: continue\n",
    "    for i2 in range(1, MAX // i + 1):\n",
    "      if not L[i2]: continue\n",
    "      MESH[i * i2] = True\n",
    "  \n",
    "  for i, v in enumerate(MESH) :\n",
    "    if not v: return print(i)\n",
    "  print(MAX)\n",
    "\n",
    "sol()"
   ]
  },
  {
   "cell_type": "markdown",
   "metadata": {},
   "source": [
    "- 수행횟수의 UPPER LIMIT을 한다는 발상을 하고 wolfram alpha를 돌려봤었는데, 그게 TLE가 안날꺼라는 발상까지 닿질 못했다."
   ]
  },
  {
   "cell_type": "markdown",
   "metadata": {},
   "source": [
    "### 성능이슈\n",
    "-  외부 루프를 `for i in range(1, MAX + 1) :` 으로 돈 것과 `for v in L` 로 돈 것은 각각 1036ms, TLE(4000 + @ ms)의 차이로 심각하게 많았다. \n",
    "    - PyPy의 최적화 여부에 따라 달라진 것으로 추정된다."
   ]
  }
 ],
 "metadata": {
  "language_info": {
   "name": "python"
  }
 },
 "nbformat": 4,
 "nbformat_minor": 2
}
