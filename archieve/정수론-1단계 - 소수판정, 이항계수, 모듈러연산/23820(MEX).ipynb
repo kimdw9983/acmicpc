{
 "cells": [
  {
   "cell_type": "code",
   "execution_count": null,
   "metadata": {},
   "outputs": [],
   "source": [
    "import io, os\n",
    "input= io.BytesIO(os.read(0, os.fstat(0).st_size)).readline\n",
    "def eratos(n):\n",
    "  p = [False] * 2 + [True for _ in range(n-1)]\n",
    "  r = 2\n",
    "  while (r * r <= n):\n",
    "    if p[r]:\n",
    "      for i in range(r**2, n+1, r):\n",
    "        p[i] = False\n",
    "    r += 1\n",
    "  return p\n",
    "MAX = 2_000_000\n",
    "ET = eratos(MAX)\n",
    "def sol() :\n",
    "  N = int(input())\n",
    "  L = list(map(int, input().split()))\n",
    "  LP = set(L)\n",
    "  if 0 not in L: return print(0)\n",
    "  if 1 not in L: return print(1)\n",
    "  MESH = {0, 1}\n",
    "  P = []\n",
    "\n",
    "  for p in ET :\n",
    "    if not p : continue\n",
    "    P.append(p)\n",
    "    if p in LP :\n",
    "      MESH.add(p)\n",
    "    else :\n",
    "      return print(p) #어떤 소수가 존재하지 않는다면 그 수는 다른 수의 곱에 의해 만들 수 없다.\n",
    "  \n",
    "  #mesh에도 없고 L에도 없으면 정답.\n",
    "  for p in P :\n",
    "    for p in range(p+1, p ** 2) :\n",
    "      if p not in MESH :\n",
    "        return print(p)\n",
    "    # p의 소수의 L상의 인덱스를 저장해둔것을 보면서, 그것과 곱한것을 MESH에 추가한다.\n",
    "\n",
    "\n",
    "\n",
    "\n",
    "# sol()"
   ]
  }
 ],
 "metadata": {
  "language_info": {
   "name": "python"
  }
 },
 "nbformat": 4,
 "nbformat_minor": 2
}
