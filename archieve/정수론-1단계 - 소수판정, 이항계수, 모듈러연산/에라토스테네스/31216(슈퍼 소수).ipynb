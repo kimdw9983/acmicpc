{
 "cells": [
  {
   "cell_type": "code",
   "execution_count": null,
   "metadata": {},
   "outputs": [],
   "source": [
    "import io, os\n",
    "input=io.BytesIO(os.read(0,os.fstat(0).st_size)).readline\n",
    "\n",
    "import math\n",
    "def sol(n):\n",
    "  n += 1\n",
    "  P = [1] * (n//2)\n",
    "  for i in range(3, math.isqrt(n) + 1, 2):\n",
    "    if P[i//2]: P[i**2//2::i] = [0]*((n-i**2-1)//(2*i) + 1)\n",
    "\n",
    "  S = [2] + [2*i+1 for i in range(1, n//2) if P[i]]\n",
    "  print('\\n'.join(map(str, [S[S[int(input())-1]-1] for _ in range(int(input()))])))\n",
    "\n",
    "sol(318137)"
   ]
  },
  {
   "cell_type": "markdown",
   "metadata": {},
   "source": [
    "### 자력솔\n",
    "- 소수집합 $P$ 에 대한 슈퍼소수 $p_k \\in P$ 는 $p_k$ 와 $k$ 가 모두 소수일 때 성립하는 수이다.\n",
    "- 이를 판단하는 함수를 $f$ 라고 정의하자.\n",
    "- 정수 $n$ 에 대해 $\\{p_k \\in P : f(k)\\}[n]$ 를 출력한다."
   ]
  },
  {
   "cell_type": "markdown",
   "metadata": {},
   "source": [
    "- 출제자의 철학이 마음에 들어 문제의 최대 범위인 3000번째 슈퍼소수가 몇인지를 구해보고 싶었다.\n",
    "  - https://ko.numberempire.com/3000 에서 3000th 소수는 `27449`라고 한다. \n",
    "    - 즉, 27449번째 소수가 3000번째 슈퍼소수이라는 뜻이다.\n",
    "  - https://ko.numberempire.com/27449 에서 27449th 소수는 `318137`라고 한다.\n",
    "  - 따라서 3000번째 슈퍼소수가 `318137`임을 알았다.\n",
    "- 그런데 문제의 예제 출력에 버젓히 `318137`가 있었다. 난 병신이야."
   ]
  }
 ],
 "metadata": {
  "language_info": {
   "name": "python"
  }
 },
 "nbformat": 4,
 "nbformat_minor": 2
}
