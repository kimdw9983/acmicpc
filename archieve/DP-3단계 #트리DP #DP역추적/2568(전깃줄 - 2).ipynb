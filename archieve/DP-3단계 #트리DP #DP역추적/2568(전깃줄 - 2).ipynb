{
 "cells": [
  {
   "cell_type": "code",
   "execution_count": null,
   "metadata": {},
   "outputs": [],
   "source": [
    "import io, os, bisect, sys\n",
    "input=io.BytesIO(os.read(0,os.fstat(0).st_size)).readline\n",
    "\n",
    "def sol():\n",
    "  N = int(input())\n",
    "  P = [tuple(map(int, input().split())) for _ in range(N)]\n",
    "  P.sort()\n",
    "\n",
    "  iP = {p:i for i, p in P}\n",
    "  P = [p for _, p in P]\n",
    "  setP = set(P)\n",
    "\n",
    "  l = [0] * N\n",
    "  DP = [-float(\"inf\")]\n",
    "  MAX = 0 \n",
    "  for i, n in enumerate(P) : \n",
    "    if DP[-1] < n: \n",
    "      DP.append(n)\n",
    "      l[i] = len(DP) - 1\n",
    "      MAX = l[i]\n",
    "    else:\n",
    "      l[i] = bisect.bisect_left(DP, n)\n",
    "      DP[l[i]] = n  \n",
    "\n",
    "  for i, v in enumerate(l[::-1]):\n",
    "    if v == MAX:\n",
    "      setP.remove(P[N-i-1])\n",
    "      MAX -= 1\n",
    "  \n",
    "  ans = []\n",
    "  for p in setP :\n",
    "    ans.append(iP[p])\n",
    "  \n",
    "  sys.stdout.write(str(len(ans)) + \"\\n\")\n",
    "  sys.stdout.write(\"\\n\".join(map(str, sorted(ans))))\n",
    "\n",
    "sol()"
   ]
  },
  {
   "cell_type": "markdown",
   "metadata": {},
   "source": [
    "### 자력솔\n",
    "- $\\Omicron(n \\log n)$ LIS 원리는 맨날 햇갈리는거 같은데, 어쨋든 전깃줄이 교차되지 않게 자르는 방법은 LIS에 해당하는 전깃줄만 남기는 방법이라는 사실은 기억하고 있었다.\n",
    "- 적당히 P에 대한 역P 리스트를 이용해서 빠르게 푼 문제."
   ]
  }
 ],
 "metadata": {
  "language_info": {
   "name": "python"
  },
  "orig_nbformat": 4
 },
 "nbformat": 4,
 "nbformat_minor": 2
}
