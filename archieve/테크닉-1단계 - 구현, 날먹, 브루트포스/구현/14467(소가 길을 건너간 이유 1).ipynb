{
 "cells": [
  {
   "cell_type": "code",
   "execution_count": null,
   "metadata": {},
   "outputs": [],
   "source": [
    "N = int(input())\n",
    "D = {}\n",
    "\n",
    "ans = 0\n",
    "for _ in range(N):\n",
    "  cow, pos = map(int, input().split())\n",
    "  if cow in D:\n",
    "    ans += D[cow] != pos\n",
    "    D[cow] = pos\n",
    "  else :\n",
    "    D[cow] = pos\n",
    "\n",
    "print(ans)"
   ]
  }
 ],
 "metadata": {
  "language_info": {
   "name": "python"
  },
  "orig_nbformat": 4
 },
 "nbformat": 4,
 "nbformat_minor": 2
}
