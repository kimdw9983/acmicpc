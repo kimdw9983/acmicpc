{
 "cells": [
  {
   "cell_type": "code",
   "execution_count": null,
   "metadata": {},
   "outputs": [],
   "source": [
    "#brute force\n",
    "import itertools\n",
    "l = [*map(int, input().split())]\n",
    "\n",
    "def ccw(R, P, Q) :\n",
    "  RxPy = (P[0] - R[0]) * (Q[1] - R[1])\n",
    "  RyPx = (P[1] - R[1]) * (Q[0] - R[0])\n",
    "  result = RxPy - RyPx\n",
    "\n",
    "  if result > 0 :\n",
    "    return 1\n",
    "  elif result < 0 :\n",
    "    return -1\n",
    "  else :\n",
    "    return 0\n",
    "\n",
    "C = 0.7071067811865476 #cos(45도) = sin(45도)\n",
    "def judge(w):\n",
    "  p1 = 0, w[0]\n",
    "  p2 = w[1] * C, w[1] * C\n",
    "  p3 = w[2], 0\n",
    "  p4 = w[3] * C, -w[3] * C\n",
    "  p5 = 0, -w[4]\n",
    "  p6 = -w[5] * C, -w[5] * C\n",
    "  p7 = -w[6], 0\n",
    "  p8 = -w[7] * C, w[7] * C\n",
    "  \n",
    "  x = max(\n",
    "    ccw(p1, p2, p3),\n",
    "    ccw(p2, p3, p4),\n",
    "    ccw(p3, p4, p5),\n",
    "    ccw(p4, p5, p6),\n",
    "    ccw(p5, p6, p7),\n",
    "    ccw(p6, p7, p8),\n",
    "    ccw(p7, p8, p1),\n",
    "    ccw(p8, p1, p2)\n",
    "  )\n",
    "  return x == -1\n",
    "\n",
    "cnt = 0\n",
    "for w in itertools.permutations(l, 8) :\n",
    "  cnt += 1 if judge(w) else 0\n",
    "\n",
    "print(cnt)"
   ]
  },
  {
   "attachments": {},
   "cell_type": "markdown",
   "metadata": {},
   "source": [
    "### 접근\n",
    "- 제한시간 2초, 8개의 능력치를 배치하는 경우의 수 8! = 40320, 각 경우의 수에 대해 CCW를 8번 수행한다.\n",
    "- 8! * 8 = 322560 이므로 완전탐색으로 풀이 가능하다.\n",
    "\n",
    "### 풀이\n",
    "- 만들어진 다각형이 오목한지 판단하는 방법은 CCW를 이용한다.\n",
    "  - CCW를 위한 점 3개를 고르는 기준을 한가지로 정하고 거기서 나온 CCW 값중에 다른 값이 있다면, 오목한 부분이 있는 다각형이다. \n",
    "- CCW를 적용하기 위해선 (x, y)로 된 좌표가 필요하다. https://m.blog.naver.com/ldj1725/80204069157\n",
    "  - (x, y)의 형태로 된 좌표계를 직교좌표계라고 한다.\n",
    "  - (r, θ)의 형태로 된 좌표계를 극좌표계라고 한다.\n",
    "  - 하지만 문제에 주어진 좌표는 원점을 중심으로 그린 정8각형의 꼭짓점 사이의 거리라고 볼 수 있다.\n",
    "    - 정 8각형은 각 변마다 45도씩 기울어지므로 이를 극좌표계에 옮긴다면 각도는 45도씩 증가하고, 반지름은 변의 길이가 된다.\n",
    "      - 즉, 이것을 극좌표계로 해석한다면 (r, θ) = (1, 45), (1, 90), (1, 135), (1, 180), (1, 225), (1, 270), (1, 315), (1, 360)이 된다.\n",
    "    - 이를 x, y좌표로 변환하는 방법은, $a = radian(θ)$라고 했을 때 $(cos(a), sin(a))$ 이다.\n",
    "      - https://3001ssw.tistory.com/154\n",
    "      - θ가 45도이면 `cos(a) == sin(a)`이다. 삼각함수의 특징인듯 하다...\n",
    "- 8개의 능력치에서 8개를 순서 상관 있게 고르는 방법은 순열이므로, `itertools.permutation`을 사용한다."
   ]
  }
 ],
 "metadata": {
  "language_info": {
   "name": "python"
  },
  "orig_nbformat": 4
 },
 "nbformat": 4,
 "nbformat_minor": 2
}
