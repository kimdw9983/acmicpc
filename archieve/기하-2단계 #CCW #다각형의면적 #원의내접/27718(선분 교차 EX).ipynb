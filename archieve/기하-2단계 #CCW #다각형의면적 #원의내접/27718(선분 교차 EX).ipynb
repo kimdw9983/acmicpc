{
 "cells": [
  {
   "cell_type": "code",
   "execution_count": null,
   "metadata": {},
   "outputs": [],
   "source": [
    "import io, os, sys\n",
    "input=io.BytesIO(os.read(0,os.fstat(0).st_size)).readline\n",
    "\n",
    "ccw = lambda o, a, b: (a[0] - o[0]) * (b[1] - o[1]) - (a[1] - o[1]) * (b[0] - o[0])\n",
    "def swap(A, B) :\n",
    "  A, B = sorted([A, B], key= lambda x: (x[0], x[1]))\n",
    "  return *A, *B\n",
    "\n",
    "def cmp(ax, ay, bx, by) :\n",
    "  if ax == bx :  return ay <= by\n",
    "  else : return ax <= bx \n",
    "\n",
    "def cross(a, b):\n",
    "  c1 = ccw(a[0], a[1], b[0])\n",
    "  c2 = ccw(a[0], a[1], b[1])\n",
    "  c3 = ccw(b[0], b[1], a[0])\n",
    "  c4 = ccw(b[0], b[1], a[1])\n",
    "  t1 = c1 * c2\n",
    "  t2 = c3 * c4\n",
    "\n",
    "  if t1 > 0 or t2 > 0: return 0\n",
    "  elif t1 < 0 and t2 < 0: return 2\n",
    "  elif t1 == 0 and t2 == 0:\n",
    "    x1, y1, x2, y2 = swap((a[0][0], a[0][1]), (a[1][0], a[1][1]))\n",
    "    x3, y3, x4, y4 = swap((b[0][0], b[0][1]), (b[1][0], b[1][1]))\n",
    "\n",
    "    if not (cmp(x3, y3, x2, y2) and cmp(x1, y1, x4, y4)) : return 0\n",
    "    if ((c1 * c4) == 0 and c2 != 0) or ((c2 * c3) == 0 and c1 != 0) or (x2 == x3 and y2 == y3) or (x1 == x4 and y1 == y4) : return 1\n",
    "    return 3\n",
    "  return 1\n",
    "\n",
    "def sol():\n",
    "  N = int(input())\n",
    "  P = []\n",
    "  for _ in range(N) :\n",
    "    x1, y1, x2, y2 = map(int, input().split())\n",
    "    P.append([(x1, y1), (x2, y2)])\n",
    "  G = [[0] * N for _ in range(N)]\n",
    "\n",
    "  for i, v1 in enumerate(P) :\n",
    "    for j, v2 in enumerate(P) :\n",
    "      G[i][j] = cross(v1, v2)\n",
    "  \n",
    "  for l in G:\n",
    "    sys.stdout.write(''.join(map(str, l)) + '\\n')\n",
    "\n",
    "sol()"
   ]
  },
  {
   "cell_type": "markdown",
   "metadata": {},
   "source": [
    "아싸 꼴등"
   ]
  }
 ],
 "metadata": {
  "language_info": {
   "name": "python"
  },
  "orig_nbformat": 4
 },
 "nbformat": 4,
 "nbformat_minor": 2
}
