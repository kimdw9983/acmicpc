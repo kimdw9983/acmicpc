{
 "cells": [
  {
   "cell_type": "code",
   "execution_count": null,
   "metadata": {},
   "outputs": [],
   "source": [
    "import io, os\n",
    "input=io.BytesIO(os.read(0,os.fstat(0).st_size)).readline\n",
    "\n",
    "class UF:\n",
    "  def __init__(self, n):\n",
    "    self.p = list(range(n))\n",
    "\n",
    "  def find(self, a):\n",
    "    a_ = a\n",
    "    while a != self.p[a]:\n",
    "      a = self.p[a]\n",
    "    while a_ != a:\n",
    "      self.p[a_], a_ = a, self.p[a_]\n",
    "    return a\n",
    "\n",
    "  def merge(self, a, b):\n",
    "    self.p[self.find(b)] = self.find(a)\n",
    "\n",
    "def sol() :\n",
    "  G = int(input())\n",
    "  P = int(input())\n",
    "  dsu = UF(G + 1) #0: 도킹 불가능, 1~G: 도킹 가능한 게이트\n",
    "  L = [int(input()) for _ in range(P)]\n",
    "\n",
    "  ans = 0\n",
    "  for p in L :\n",
    "    dock = dsu.find(p)\n",
    "    if dock == 0 : break\n",
    "    dsu.merge(dock-1, dock) #dock의 부모를 dock-1로 설정\n",
    "    ans += 1\n",
    "\n",
    "  print(ans)\n",
    "  \n",
    "sol()"
   ]
  },
  {
   "cell_type": "markdown",
   "metadata": {},
   "source": [
    "### 풀이\n",
    "- (자력 발상)비행기의 번호 `p`가 주워졌을 때, `p`번 이하의 비어있는 게이트중 가장 큰 숫자를 넣으면 된다. \n",
    "- 이를 구현하기 위해 Union find를 이용한다.\n",
    "  - `P` 0이 들어가있다면 그 게이트는 꽉차있는 것이다.\n",
    "  - `p`번 이하의 비어있는 게이트중 가장 큰 숫자를 찾기 위해 `p`번 게이트의 부모가 0인지 여부를 확인한다.\n",
    "  - 게이트가 비어있다면 `p`번 게이트의 부모를 `p-1`로 설정한다. \n",
    "- 가능한 집합과 불가능한 집합으로 나뉘어져있으면 Union find를 발상해야겠다."
   ]
  }
 ],
 "metadata": {
  "kernelspec": {
   "display_name": "Python 3",
   "language": "python",
   "name": "python3"
  },
  "language_info": {
   "codemirror_mode": {
    "name": "ipython",
    "version": 3
   },
   "file_extension": ".py",
   "mimetype": "text/x-python",
   "name": "python",
   "nbconvert_exporter": "python",
   "pygments_lexer": "ipython3",
   "version": "3.11.4"
  },
  "orig_nbformat": 4
 },
 "nbformat": 4,
 "nbformat_minor": 2
}
