{
 "cells": [
  {
   "cell_type": "code",
   "execution_count": null,
   "metadata": {},
   "outputs": [],
   "source": [
    "import io, os, heapq\n",
    "input=io.BytesIO(os.read(0,os.fstat(0).st_size)).readline\n",
    "\n",
    "def sol() :\n",
    "  C, N = map(int, input().split())\n",
    "  L1 = [int(input()) for _ in range(C)]\n",
    "  L1.sort()\n",
    "\n",
    "  L2 = [tuple(map(int, input().split())) for _ in range(N)]\n",
    "  L2.sort()\n",
    "  \n",
    "  hQ = []\n",
    "  ans = n = 0\n",
    "  for cur in L1 :\n",
    "    while n < N : #시작 시간이 현재 시간보다 작거나 같은 것들을 모두 힙에 넣는다.\n",
    "      s, e = L2[n]\n",
    "      if s <= cur :\n",
    "        heapq.heappush(hQ, (e, s))\n",
    "        n += 1\n",
    "      else:\n",
    "        break\n",
    "    while hQ :\n",
    "      e, s = heapq.heappop(hQ) #닭이 지나가는 시점에서 가장 빨리 끝나는 것을 매칭한다.\n",
    "      if s <= cur <= e :\n",
    "        ans += 1\n",
    "        break\n",
    "  \n",
    "  print(ans)\n",
    "\n",
    "sol()"
   ]
  }
 ],
 "metadata": {
  "language_info": {
   "name": "python"
  },
  "orig_nbformat": 4
 },
 "nbformat": 4,
 "nbformat_minor": 2
}
