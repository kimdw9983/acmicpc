{
 "cells": [
  {
   "cell_type": "code",
   "execution_count": null,
   "metadata": {},
   "outputs": [],
   "source": [
    "import sys\n",
    "input()\n",
    "L = [*map(int, input().split())]\n",
    "\n",
    "L2 = []\n",
    "for v in L :\n",
    "  x = str(v)\n",
    "  i = 0\n",
    "  l2 = []\n",
    "  while i < 10 :\n",
    "    if i > len(x)-1 :\n",
    "      l2.append(x[i%len(x)])\n",
    "    else :\n",
    "      l2.append(x[i])\n",
    "    i += 1\n",
    "  L2.append(int(''.join(l2)))\n",
    "\n",
    "L3 = [x for _, x in sorted(zip(L2, L), key=lambda pair:-pair[0])]\n",
    "\n",
    "if set(L3) == set([0]) :\n",
    "  print(0)\n",
    "else :\n",
    "  for v in L3 :\n",
    "    sys.stdout.write(str(v))"
   ]
  },
  {
   "cell_type": "markdown",
   "metadata": {},
   "source": [
    "### 자력솔\n",
    "- 1422(숫자의 신)과 비슷하지만 같은 숫자가 주워지지 않아서 좀 더 쉬운 문제"
   ]
  }
 ],
 "metadata": {
  "language_info": {
   "name": "python"
  },
  "orig_nbformat": 4
 },
 "nbformat": 4,
 "nbformat_minor": 2
}
