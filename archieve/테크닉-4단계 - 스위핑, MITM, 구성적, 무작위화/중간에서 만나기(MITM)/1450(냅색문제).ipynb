{
 "cells": [
  {
   "cell_type": "code",
   "execution_count": null,
   "metadata": {},
   "outputs": [],
   "source": [
    "import itertools, sys\n",
    "input= sys.stdin.readline\n",
    "N, S = map(int, input().split())\n",
    "l = [*map(int, input().split())]\n",
    "\n",
    "def calc(l) :\n",
    "  d = {}\n",
    "\n",
    "  #l의 부분 집합들의 합을 모두 구해본다 (2/N)^2\n",
    "  for c in itertools.chain.from_iterable(itertools.combinations(l, r+1) for r in range(N)) :\n",
    "    x = sum(c)\n",
    "    d[x] = d.get(x, 0) + 1\n",
    "\n",
    "  return d\n",
    "\n",
    "A, B = calc(l[:N//2]), calc(l[N//2:])\n",
    "B = dict(sorted(B.items()))\n",
    "accB = [0] #무게가 i까지인 가방에 넣는 방법의 수를\n",
    "for k, v in B.items() :\n",
    "  accB.append(accB[-1] + k * v)"
   ]
  },
  {
   "attachments": {},
   "cell_type": "markdown",
   "metadata": {},
   "source": [
    "# 잘못된 접근\n",
    "- A집합에서 누적합이 S-x와 `같은 것`이 아닌, `작거나 같은 것들`과 합쳐야 한다고 오해해서 누적합을 생각했다.\n",
    "- 해답을 본 시점에서, 알고리즘 분류에 누적 합이 없으면 의심하지 말았어야 했다."
   ]
  },
  {
   "cell_type": "code",
   "execution_count": null,
   "metadata": {},
   "outputs": [],
   "source": [
    "import itertools, sys, bisect\n",
    "input= sys.stdin.readline\n",
    "N, C = map(int, input().split())\n",
    "l = [*map(int, input().split())]\n",
    "\n",
    "def calc(l) :\n",
    "  acc = []\n",
    "\n",
    "  for c in itertools.chain.from_iterable(itertools.combinations(l, r+1) for r in range(N)) :\n",
    "    x = sum(c)\n",
    "    if x > C : continue #최대 넣을 수 있는 무게 C보다 큰 경우는 무시한다\n",
    "    acc.append(x)\n",
    "\n",
    "  return acc\n",
    "\n",
    "A, B = calc(l[:N//2]), calc(l[N//2:])\n",
    "B.sort()\n",
    "answer = len(A) + len(B) #A만으로 구할 수 있는 경우 + B만으로 구할 수 있는 경우\n",
    "for v in A : \n",
    "  answer += bisect.bisect_right(B, C-v) #A와 B를 모두 사용하는 경우 중에서, A에서 뽑은 무게를 제외한 나머지 무게들(C-v) 중 B에서 뽑은 무게를 더했을 때 C를 넘지 않는 경우의 수\n",
    "\n",
    "print(answer + 1) #공집합 1개 추가"
   ]
  },
  {
   "attachments": {},
   "cell_type": "markdown",
   "metadata": {},
   "source": [
    ";; 1073741824\n",
    "30 30\n",
    "1 1 1 1 1 1 1 1 1 1 1 1 1 1 1 1 1 1 1 1 1 1 1 1 1 1 1 1 1 1\n",
    ";; 1073741824\n",
    "30 2147483647\n",
    "536870912 1 2 4 8 16 32 64 128 256 512 1024 2048 4096 8192 16384 32768 65536 131072 262144 524288 1048576 2097152 4194304 8388608 16777216 33554432 67108864 134217728 268435456 \n",
    ";; 3\n",
    "2 1\n",
    "1 1\n",
    ";; 2\n",
    "1 1\n",
    "1\n",
    ";; 2\n",
    "1 2\n",
    "1\n",
    ";; 4\n",
    "2 1\n",
    "2 2\n",
    ";; 4\n",
    "2 2\n",
    "1 1"
   ]
  }
 ],
 "metadata": {
  "language_info": {
   "name": "python"
  },
  "orig_nbformat": 4
 },
 "nbformat": 4,
 "nbformat_minor": 2
}
