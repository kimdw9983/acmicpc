{
 "cells": [
  {
   "cell_type": "code",
   "execution_count": null,
   "metadata": {},
   "outputs": [],
   "source": [
    "import io, os, math\n",
    "input=io.BytesIO(os.read(0,os.fstat(0).st_size)).readline\n",
    "\n",
    "MAX = 300000\n",
    "def sol() :\n",
    "  N, C = map(int, input().split())\n",
    "  L = list(map(int, input().split()))\n",
    "\n",
    "  Q = []\n",
    "  M = int(input())\n",
    "  for i in range(M) :\n",
    "    a, b = map(int, input().split())\n",
    "    Q.append((a-1, b-1, i))\n",
    "  Q.sort(key=lambda x: (x[0] // math.isqrt(N), x[1]))\n",
    "\n",
    "  ans = [\"no\"] * M\n",
    "  s, e = Q[0][0], Q[0][1]\n",
    "  cnt = [0] * 10001\n",
    "  for i in range(s, e+1) :\n",
    "    cnt[L[i]] += 1\n",
    "  \n",
    "  def query(s, e, x) :\n",
    "    for i, v in enumerate(cnt) :\n",
    "      if v * 2 > (e-s+1) : #절반을 넘는 경우. 우변을 나누기보다, 좌변을 곱한다.\n",
    "        ans[x] = f\"yes {i}\"\n",
    "        return\n",
    "\n",
    "  query(s, e, Q[0][2])\n",
    "\n",
    "  for k, (ns, ne, ni) in enumerate(Q[1:],1) :\n",
    "    while s < ns :\n",
    "      cnt[L[s]] -= 1\n",
    "      s += 1\n",
    "    while s > ns :\n",
    "      s -= 1\n",
    "      cnt[L[s]] += 1\n",
    "    while e < ne :\n",
    "      e += 1\n",
    "      cnt[L[e]] += 1\n",
    "    while e > ne :\n",
    "      cnt[L[e]] -= 1\n",
    "      e -= 1\n",
    "\n",
    "    query(ns, ne, ni)\n",
    "  \n",
    "  print(*ans, sep=\"\\n\")\n",
    "\n",
    "sol()"
   ]
  },
  {
   "cell_type": "markdown",
   "metadata": {},
   "source": [
    "- 아이디어는 자력솔에 가까운데 Mo's가 워낙 난해해서 결국 풀이를 봐버렸다."
   ]
  },
  {
   "cell_type": "markdown",
   "metadata": {},
   "source": [
    "### 무작위화 풀이\n",
    "- 오프라인 쿼리라면 가능해봄직한 풀이일듯 하다\n",
    "- https://justicehui.github.io/coci/2019/10/06/BOJ2912/"
   ]
  }
 ],
 "metadata": {
  "language_info": {
   "name": "python"
  }
 },
 "nbformat": 4,
 "nbformat_minor": 2
}
