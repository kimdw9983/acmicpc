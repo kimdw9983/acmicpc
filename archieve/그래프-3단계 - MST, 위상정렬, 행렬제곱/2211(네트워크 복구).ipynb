{
 "cells": [
  {
   "cell_type": "code",
   "execution_count": null,
   "metadata": {},
   "outputs": [],
   "source": [
    "import sys\n",
    "input=sys.stdin.readline\n",
    "\n",
    "from heapq import heappop, heappush\n",
    "\n",
    "INF = 1234567891\n",
    "def DIJ(G: list, s: int):\n",
    "  D = [INF] * len(G)\n",
    "  P = [-1] * len(G)\n",
    "  D[s] = 0\n",
    "\n",
    "  Q = [(0, s)]\n",
    "  while Q:\n",
    "    uw, u = heappop(Q)\n",
    "    if uw != D[u]: continue\n",
    "    for v, vw in G[u]:\n",
    "      if vw + uw >= D[v]: continue\n",
    "      D[v] = vw + uw\n",
    "      P[v] = u\n",
    "      heappush(Q, (vw + uw, v))\n",
    "\n",
    "  return D, P\n",
    "\n",
    "def sol() :\n",
    "  N, E = map(int, input().split())\n",
    "  G = [[] for _ in range(N+1)]\n",
    "  for _ in range(E) :\n",
    "    u, v, w = map(int, input().split())\n",
    "    G[u].append((v, w))\n",
    "    G[v].append((u, w))\n",
    "  \n",
    "  D, P = DIJ(G, 1)\n",
    "  print(N-1)\n",
    "  ans = []\n",
    "  for u, v in zip(range(N+1), P) :\n",
    "    if u == 0 or u == 1 : continue\n",
    "    ans.append(f\"{u} {v}\")\n",
    "  print(*ans, sep = \"\\n\")\n",
    "\n",
    "sol()"
   ]
  },
  {
   "cell_type": "markdown",
   "metadata": {},
   "source": [
    "- 처음에 MST로 접근했다가 틀렸다. \n",
    "  - 1번 노드와 연결된 모든 reachable node까지의 최단거리인 정점들을 출력하는 문제이다.\n",
    "  - MST는 기존 연결 간선 외의 경로를 거쳐서 가는 경로를 고려하지 않는다.\n",
    "- 첫줄이 N-1으로 고정출력해도 되는 이유\n",
    "  - 모든 정점은 1번 정점으로부터 reachable하다.\n",
    "  - 다익스트라로 만들어진 최단거리 배열은 트리형태로 만들어진다."
   ]
  }
 ],
 "metadata": {
  "language_info": {
   "name": "python"
  }
 },
 "nbformat": 4,
 "nbformat_minor": 2
}
