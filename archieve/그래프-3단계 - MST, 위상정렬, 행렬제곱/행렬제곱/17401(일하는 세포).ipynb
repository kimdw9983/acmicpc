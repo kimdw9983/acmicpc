{
 "cells": [
  {
   "cell_type": "markdown",
   "metadata": {},
   "source": [
    "### 아이디어\n",
    "- 문제의 출력을 보니 행렬곱과 관련된 문제임을 볼 수 있었다.\n",
    "- 1번 행렬로부터 시작해서, (i % T+1)초가 흐를 때마다의 행렬을 매번 곱한 값이 정답인 것 같다.\n",
    "- 그런데 D가 많이 크다. 행렬 연산의 특징을 잘 활용해야 할듯하다.\n",
    "  - 우선, 행렬 제곱끼리의 값들을 미리 구해놓고 그 값끼리 곱해봤다.\\\n",
    "  그랬더니 정답이 제대로 나오지 않는다.\\\n",
    "  그렇다면, 행렬을 곱하는 순서가 중요하다는 것을 알 수 있다.\n",
    "  - 2번 예시의 행렬을 $A, B, C$ 라고 했을 때, 정답은 $A \\cdot B \\cdot C \\cdot A \\cdot B$ 이 정답이다.\n",
    "  - 그렇다면, $ABC$ 를 미리 구하고, 나중에 $AB$ 를 다시 곱하면 되지 않을까 하는 생각이 들었다.\n",
    "  - 맞는 것 같다. 미리 행렬을 곱해두고, 그걸 활용하여 빠르게 제곱시키면 될 것 같다.\n",
    "- 주어진 행렬을 $G_i (1 \\leq i \\leq T)$ 라고 하자.\\\n",
    "그리고 행렬을 모두 곱한 것을 $G = \\prod_{i=1}^{T} G_i$ 라고 하자. $G$ 의 제곱횟수는 $D \\div T$ 이다.\\\n",
    "그리고 그 나머지 $p = D \\mod T$ 에 대해, $G' = \\prod_{i=1}^{p} G_i$ 를 구하면 된다.\\\n",
    "정답은 $G \\cdot G'$ 일 것이다."
   ]
  },
  {
   "cell_type": "code",
   "execution_count": null,
   "metadata": {},
   "outputs": [],
   "source": [
    "import io, os, sys, copy\n",
    "input=io.BytesIO(os.read(0,os.fstat(0).st_size)).readline\n",
    "\n",
    "mod = 10**9 + 7\n",
    "m_mul = lambda A, B: [[sum(i * j % mod for i, j in zip(row, col)) % mod for col in zip(*B)] for row in A]\n",
    "def eye(l) :\n",
    "  m = [[0] * l for _ in range(l)]\n",
    "  for i, row in enumerate(m):\n",
    "    row[i] = 1\n",
    "  return m\n",
    "\n",
    "def m_pow(m, p):\n",
    "  base = eye(len(m))\n",
    "\n",
    "  if p == 0:\n",
    "    return base\n",
    "\n",
    "  while p > 1:\n",
    "    if p & 1 == 1:\n",
    "      base = m_mul(base, m)\n",
    "    m = m_mul(m, m)\n",
    "    p >>= 1\n",
    "  return m_mul(base, m)\n",
    "\n",
    "def sol():\n",
    "  T, N, D = map(int, input().split())\n",
    "  y = D % T\n",
    "\n",
    "  G = [[1 if i == j else 0 for i in range(N)] for j in range(N)]\n",
    "  G2 = [[1 if i == j else 0 for i in range(N)] for j in range(N)]\n",
    "  for t in range(1, T+1) :\n",
    "    M = int(input())\n",
    "    dG = [[0] * N for _ in range(N)]\n",
    "    \n",
    "    for _ in range(M):\n",
    "      u, v, w = map(int, input().split())\n",
    "      dG[u-1][v-1] = w\n",
    "    \n",
    "    G = m_mul(G, dG)\n",
    "    if t == y : G2 = copy.deepcopy(G)\n",
    "  \n",
    "  G = m_pow(G, D // T)\n",
    "  G = m_mul(G, G2)\n",
    "  for i in range(N):\n",
    "    for j in range(N):\n",
    "      sys.stdout.write(f'{G[i][j]} ')\n",
    "    sys.stdout.write('\\n')\n",
    "\n",
    "sol()"
   ]
  },
  {
   "cell_type": "markdown",
   "metadata": {},
   "source": [
    "### 자력솔"
   ]
  }
 ],
 "metadata": {
  "language_info": {
   "name": "python"
  }
 },
 "nbformat": 4,
 "nbformat_minor": 2
}
