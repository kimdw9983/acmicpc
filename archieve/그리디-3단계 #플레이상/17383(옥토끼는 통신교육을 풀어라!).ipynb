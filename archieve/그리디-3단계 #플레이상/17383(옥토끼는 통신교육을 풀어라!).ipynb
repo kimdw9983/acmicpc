{
 "cells": [
  {
   "cell_type": "code",
   "execution_count": null,
   "metadata": {},
   "outputs": [],
   "source": [
    "import io, os, bisect\n",
    "input=io.BytesIO(os.read(0,os.fstat(0).st_size)).readline\n",
    "\n",
    "def sol() :\n",
    "  def desc(n) : #n초안에 적어도 한 문제를 풀 수 있게끔 배치할 수 있는지의 여부 반환\n",
    "    x = bisect.bisect_left(L, n) #푸는 시간이 n 보다 작은 문제의 개수 \n",
    "    needed = 0 #x번째 문제부터 큰 수는 n으로 나눈 몫만큼 풀 수 있음\n",
    "    for v in L[x:] :\n",
    "      needed += v // n\n",
    "    debug(needed, x, n)\n",
    "    return needed <= x\n",
    "\n",
    "  N = int(input())\n",
    "  L = [*map(int, input().split())]\n",
    "  L.sort()\n",
    "\n",
    "  lo, hi = 0, 10**9 + 1\n",
    "  while lo + 1 < hi:\n",
    "    mid = (lo + hi) // 2\n",
    "    if desc(mid):\n",
    "      hi = mid\n",
    "      ans = mid\n",
    "    else:\n",
    "      lo = mid\n",
    "\n",
    "  print(ans)\n",
    "\n",
    "sol()"
   ]
  },
  {
   "cell_type": "markdown",
   "metadata": {},
   "source": [
    "7\n",
    "3 4 5 9 10 14 15"
   ]
  }
 ],
 "metadata": {
  "language_info": {
   "name": "python"
  },
  "orig_nbformat": 4
 },
 "nbformat": 4,
 "nbformat_minor": 2
}
