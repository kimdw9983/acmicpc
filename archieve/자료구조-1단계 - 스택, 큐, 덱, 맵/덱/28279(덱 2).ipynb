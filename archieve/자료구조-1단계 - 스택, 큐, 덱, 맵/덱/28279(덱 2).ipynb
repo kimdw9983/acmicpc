{
 "cells": [
  {
   "cell_type": "code",
   "execution_count": null,
   "metadata": {},
   "outputs": [],
   "source": [
    "import io, os, sys, collections \n",
    "input=io.BytesIO(os.read(0,os.fstat(0).st_size)).readline\n",
    "\n",
    "def sol() :\n",
    "  N = int(input())\n",
    "\n",
    "  ans = []\n",
    "  Q = collections.deque()\n",
    "  for _ in range(N) :\n",
    "    q, *l = map(int, input().split())\n",
    "    if q == 1 :\n",
    "      Q.appendleft(l[0])\n",
    "    elif q == 2 :\n",
    "      Q.append(l[0])\n",
    "    elif q == 3 :\n",
    "      ans.append(Q.popleft() if Q else -1)\n",
    "    elif q == 4 :\n",
    "      ans.append(Q.pop() if Q else -1)\n",
    "    elif q == 5 :\n",
    "      ans.append(len(Q))\n",
    "    elif q == 6 :\n",
    "      ans.append(0 if Q else 1)\n",
    "    elif q == 7 :\n",
    "      ans.append(Q[0] if Q else -1)\n",
    "    elif q == 8 :\n",
    "      ans.append(Q[-1] if Q else -1)\n",
    "    \n",
    "  sys.stdout.write('\\n'.join(map(str, ans)))\n",
    "sol()"
   ]
  }
 ],
 "metadata": {
  "language_info": {
   "name": "python"
  },
  "orig_nbformat": 4
 },
 "nbformat": 4,
 "nbformat_minor": 2
}
