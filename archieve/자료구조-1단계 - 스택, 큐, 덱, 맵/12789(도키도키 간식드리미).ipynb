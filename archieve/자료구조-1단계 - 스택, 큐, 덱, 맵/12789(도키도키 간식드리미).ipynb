{
 "cells": [
  {
   "cell_type": "code",
   "execution_count": null,
   "metadata": {},
   "outputs": [],
   "source": [
    "import io, os\n",
    "input=io.BytesIO(os.read(0,os.fstat(0).st_size)).readline\n",
    "\n",
    "def sol():\n",
    "  N = int(input())\n",
    "  L = [*map(int, input().split())]\n",
    "  L.reverse()\n",
    "  S = []\n",
    "\n",
    "  for i in range(1, N+1) :\n",
    "    if L and L[-1] == i : \n",
    "      L.pop()\n",
    "      continue\n",
    "    elif S and S[-1] == i: \n",
    "      S.pop()\n",
    "      continue\n",
    "    elif L :\n",
    "      while L : #i번째 숫자를 찾을 때 까지 스택에 넣는다.\n",
    "        x = L.pop()\n",
    "        if x == i : break\n",
    "        S.append(x)\n",
    "      else : #break없이 빠져나온경우 = 순서에 맞는 숫가 없는 경우\n",
    "        return print(\"Sad\")\n",
    "    else : #L이 비어있고 S에도 맞는 순서가 없는 경우\n",
    "      return print(\"Sad\")\n",
    "  else : #모든 숫자를 찾은 경우\n",
    "    return print(\"Nice\")\n",
    "\n",
    "sol()"
   ]
  },
  {
   "cell_type": "markdown",
   "metadata": {},
   "source": [
    "### 자력솔 \n",
    "- 우선 줄을 뒤집어 본뒤 생각한다. 줄과 번호표를 각각 `L`과 `S`라고 했을 때, i를 1번부터 N번까지 전부 볼 수 있으면 Nice.\n",
    "  - L의 top과 S의 top을 비교할 수 있고, L이 빌때까지 pop할 수 있다.\n",
    "  - 위의 상황을 모두 실행해도 순서에 맞는 i가 나오지 않을 경우 Sad"
   ]
  }
 ],
 "metadata": {
  "language_info": {
   "name": "python"
  },
  "orig_nbformat": 4
 },
 "nbformat": 4,
 "nbformat_minor": 2
}
