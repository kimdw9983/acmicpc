{
 "cells": [
  {
   "cell_type": "code",
   "execution_count": null,
   "metadata": {},
   "outputs": [],
   "source": [
    "import sys, io, os\n",
    "input = io.BytesIO(os.read(0, os.fstat(0).st_size)).readline\n",
    "\n",
    "class SegmentTree:\n",
    "  def __init__(self, data, default=0, func=max):\n",
    "    self._default = default\n",
    "    self._func = func\n",
    "    self._len = len(data)\n",
    "    self._size = _size = 1 << (self._len - 1).bit_length()\n",
    "\n",
    "    self.data = [default] * (2 * _size)\n",
    "    self.data[_size:_size + self._len] = data\n",
    "    for i in reversed(range(_size)):\n",
    "      self.data[i] = func(self.data[i + i], self.data[i + i + 1])\n",
    "\n",
    "  def __delitem__(self, idx):\n",
    "    self[idx] = self._default\n",
    "\n",
    "  def __getitem__(self, idx):\n",
    "    return self.data[idx + self._size]\n",
    "\n",
    "  def __setitem__(self, idx, value):\n",
    "    idx += self._size\n",
    "    self.data[idx] = value\n",
    "    idx >>= 1\n",
    "    while idx:\n",
    "      self.data[idx] = self._func(self.data[2 * idx], self.data[2 * idx + 1])\n",
    "      idx >>= 1\n",
    "\n",
    "  def __len__(self):\n",
    "    return self._len\n",
    "\n",
    "  def query(self, start, stop): #[start, stop)\n",
    "    start += self._size\n",
    "    stop += self._size\n",
    "\n",
    "    res_left = res_right = self._default\n",
    "    while start < stop:\n",
    "      if start & 1:\n",
    "        res_left = self._func(res_left, self.data[start])\n",
    "        start += 1\n",
    "      if stop & 1:\n",
    "        stop -= 1\n",
    "        res_right = self._func(self.data[stop], res_right)\n",
    "      start >>= 1\n",
    "      stop >>= 1\n",
    "\n",
    "    return self._func(res_left, res_right)\n",
    "\n",
    "  def __repr__(self):\n",
    "    return \"SegmentTree({0})\".format(self.data)\n"
   ]
  },
  {
   "cell_type": "code",
   "execution_count": null,
   "metadata": {},
   "outputs": [],
   "source": [
    "class SegmentTree:\n",
    "  def __init__(self, L, f, default):\n",
    "    self._def = default\n",
    "    self._f = f\n",
    "    self._len = len(L)\n",
    "    self._size = _size = 1 << (self._len - 1).bit_length()\n",
    "\n",
    "    self.L = [default] * (2 * _size)\n",
    "    self.L[_size:_size + self._len] = L\n",
    "    for i in reversed(range(_size)):\n",
    "      self.L[i] = f(self.L[i + i], self.L[i + i + 1])\n",
    "\n",
    "  def __delitem__(self, i):\n",
    "    self[i] = self._def\n",
    "\n",
    "  def __getitem__(self, i):\n",
    "    return self.L[i + self._size]\n",
    "\n",
    "  def __setitem__(self, i, v):\n",
    "    i += self._size\n",
    "    self.L[i] = v\n",
    "    i >>= 1\n",
    "    while i:\n",
    "      self.L[i] = self._f(self.L[2 * i], self.L[2 * i + 1])\n",
    "      i >>= 1\n",
    "\n",
    "  def __len__(self):\n",
    "    return self._len\n",
    "\n",
    "  def __query(self, s, e, l, r, i): #[s, e)\n",
    "      if r <= s or e <= l:\n",
    "          return self._def\n",
    "      if s <= l and r <= e:\n",
    "          return self.L[i]\n",
    "      mid = (l + r) // 2\n",
    "      return self._f(self.__query(s, e, l, mid, i * 2), self.__query(s, e, mid, r, i * 2 + 1))\n",
    "  \n",
    "  def query(self, s, e):\n",
    "    return self.__query(s, e, 0, self._size, 1)"
   ]
  },
  {
   "cell_type": "markdown",
   "metadata": {},
   "source": [
    "- 재귀적인 Segment tree 구현"
   ]
  },
  {
   "attachments": {},
   "cell_type": "markdown",
   "metadata": {},
   "source": [
    "### 구간 합\n",
    "- 항등원: 0"
   ]
  },
  {
   "cell_type": "code",
   "execution_count": null,
   "metadata": {},
   "outputs": [],
   "source": [
    "N, M, K = map(int,input().split())\n",
    "L = [0] * N\n",
    "for i in range(N) :\n",
    "  L[i] = int(input())\n",
    "\n",
    "tree = SegmentTree(L, default=0, func=lambda x, y: x + y)\n",
    "for _ in range(M + K) :\n",
    "  a, b, c = map(int,input().split())\n",
    "  if a == 1 :\n",
    "    tree[b - 1] = c\n",
    "  else :\n",
    "    sys.stdout.write(f\"{tree.query(b - 1, c)}\\n\")"
   ]
  },
  {
   "attachments": {},
   "cell_type": "markdown",
   "metadata": {},
   "source": [
    "### 구간 곱\n",
    "- 항등원: 1"
   ]
  },
  {
   "cell_type": "code",
   "execution_count": null,
   "metadata": {},
   "outputs": [],
   "source": [
    "tree = SegmentTree(L, default=1, func=lambda x, y: (x*y) % 1000000007)"
   ]
  }
 ],
 "metadata": {
  "language_info": {
   "name": "python"
  },
  "orig_nbformat": 4
 },
 "nbformat": 4,
 "nbformat_minor": 2
}
