{
 "cells": [
  {
   "cell_type": "code",
   "execution_count": null,
   "metadata": {},
   "outputs": [],
   "source": [
    "import io, os, sys\n",
    "input=io.BytesIO(os.read(0,os.fstat(0).st_size)).readline\n",
    "\n",
    "def sol() :\n",
    "  n = int(input())\n",
    "  S = []\n",
    "  ans = []\n",
    "  for _ in range(n) :\n",
    "    q, *l = map(int, input().split())\n",
    "    if q == 1 :\n",
    "      S.append(l[0])\n",
    "    elif q == 2 :\n",
    "      ans.append(S.pop() if S else -1)\n",
    "    elif q == 3 :\n",
    "      ans.append(len(S))\n",
    "    elif q == 4 :\n",
    "      ans.append(0 if S else 1)\n",
    "    elif q == 5 :\n",
    "      ans.append(S[-1] if S else -1)\n",
    "\n",
    "  sys.stdout.write('\\n'.join(map(str, ans)))\n",
    "\n",
    "sol()"
   ]
  },
  {
   "cell_type": "markdown",
   "metadata": {},
   "source": [
    "- 입출력 젤 빠른거 연구중\n",
    "- pypy가 좀더 빠른데 match ~ case문은 현재 pypy에 존재하지 않아서 Python으로 이렇게 푼게 지금까진 제일 빠른것같다."
   ]
  }
 ],
 "metadata": {
  "language_info": {
   "name": "python"
  },
  "orig_nbformat": 4
 },
 "nbformat": 4,
 "nbformat_minor": 2
}
