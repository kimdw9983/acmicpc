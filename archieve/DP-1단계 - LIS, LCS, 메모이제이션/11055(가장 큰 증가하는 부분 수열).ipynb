{
 "cells": [
  {
   "cell_type": "code",
   "execution_count": null,
   "metadata": {},
   "outputs": [],
   "source": [
    "import io, os\n",
    "input=io.BytesIO(os.read(0,os.fstat(0).st_size)).readline\n",
    "\n",
    "def sol() :\n",
    "  N = int(input())\n",
    "  L = list(map(int, input().split()))\n",
    "\n",
    "  DP = L.copy() # DP[i]: i번째 원소를 가장 큰 원소로 하는 부분 수열의 최대 합\n",
    "  for i, v in enumerate(L) :\n",
    "    for j in range(i) :\n",
    "      if L[j] < v :\n",
    "        DP[i] = max(DP[i], DP[j] + v)\n",
    "  print(max(DP))\n",
    "      \n",
    "sol()"
   ]
  },
  {
   "cell_type": "markdown",
   "metadata": {},
   "source": [
    "### 자력솔\n",
    "- 솔직히 말해서 못풀 뻔했다. 15분 이상 걸렸던 것 같다.\n",
    "- DP를 i번째 원소를 Increasing Subsequence의 가장 큰 값(수열의 가장 오른쪽에 있는 값)이라고 가정하니 대략 풀이가 보였다.\\\n",
    "그러기 위해선 다음 조건을 만족해야 한다.\n",
    "  - $i$ 번째 원소보다 왼쪽에 있어야 한다. 이는 loop에서 $j = 1 \\to (i-1)$ 일 때로 가정한다.\n",
    "  - 정의에 의해 L[i]보다 큰 값을 최적해에 포함시킬 순 없으므로, `L[j] <= L[i]` 여야한다.\n",
    "  - 이전에 골랐던 수열, 즉 `DP[j]`는 LIS를 만족해야 한다. 이는 DP[j]를 만들 때 `L[j] < L[i]` 인 원소들만 골라야만 한다는 뜻이다.\n",
    "- 위 조건을 모두 만족하는 조건은 매 loop마다 `L[j] < L[i]`인 원소들 중 가장 큰 값을 고르는 것이다.\n",
    "  - 다만 `증가하는 수열` 이라는 정의상 $L[j] = L[i]$ 인 케이스는 없나보다. 좀 마음에 안든다. \\\n",
    "  increasing이랑 monotonically increasing을 동시에 아는 사람이 보면 분명 햇갈릴만한 주제이다."
   ]
  }
 ],
 "metadata": {
  "language_info": {
   "name": "python"
  }
 },
 "nbformat": 4,
 "nbformat_minor": 2
}
