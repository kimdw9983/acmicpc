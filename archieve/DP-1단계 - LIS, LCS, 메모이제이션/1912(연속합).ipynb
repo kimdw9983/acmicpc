{
 "cells": [
  {
   "cell_type": "code",
   "execution_count": null,
   "metadata": {},
   "outputs": [],
   "source": [
    "input()\n",
    "DP = list()\n",
    "NONE = -9999 #초기값\n",
    "sum = NONE\n",
    "\n",
    "for s in input().split() :\n",
    "  n = int(s)\n",
    "  if n >= 0 :#양수면 더한다, 초기값이였다면, n으로 바꾼다\n",
    "    sum += (n-NONE) if sum == NONE else n  \n",
    "  elif sum == NONE and n < 0 : #초기값인데 음수만 존재한다면 그냥 넣는다(예제 3번 케이스 방지)\n",
    "    DP.append(n) \n",
    "  elif sum + n < 0 : #더해서 음수가 되는 경우\n",
    "    if sum != NONE : #초기값이 아니라면 현재 합계를 넣는다. 이 뒤에나오는 숫자가 계속 음수일지 알 수 없기 때문.\n",
    "      DP.append(sum)\n",
    "    sum = NONE #초기화 한다\n",
    "  else : #그렇지 않은 경우. 적어도 더해서 양수이므로, 계속해서 더해서 값이 증가할 수 있다.\n",
    "    DP.append(sum)\n",
    "    sum += n\n",
    "    DP.append(sum)\n",
    "    \n",
    "if sum != NONE : \n",
    "  DP.append(sum)\n",
    "\n",
    "print(max(DP))"
   ]
  },
  {
   "cell_type": "markdown",
   "metadata": {},
   "source": [
    "### 풀이\n",
    "- 연속된 구간 속의 어떤 숫자가 음수라고 해서 그 수를 함부로 제외시킬 수 없다. 즉, 그리디로 접근할 수 없다.\\\n",
    "  그 뒤에 나오는 숫자가 양수라면, 그 숫자를 포함시켜야 최대값을 구할 수 있기 때문이다.\\\n",
    "  따라서 문제는 DP로 푸는 것이 가장 적합하다.\n",
    "- 누적합 $acc$와 고려할 가치가 있는 값들을 메모해두는 list를 만든다. 이를 $DP$ 라고 하자. \\\n",
    "$acc$ 의 기저상태로, default값을 둔다. 이 값은 누적합으로 도달할 수 없는 값으로 설정해야 한다. 편의상 이 숫자는 아주 낮은 음수라고 가정한다. 기저상태는 $DP$ 에 넣지 않는다. \\\n",
    "이때 $|L| = N$ 인 수열 $L$ 의 각 원소 $L_i$ 대해 다음 케이스를 처리한다.\n",
    "  - $acc = default$ 이고, $L_i > 0$ 일 때\n",
    "    - $acc := L_i$ (로 하고, $DP := DP + [L_i]$ (append) 한다.)\n",
    "  - $acc + L_i \\le 0$ 일 때\n",
    "    - $acc \\ne default$ 라면 $DP := DP + [acc]$ 한다.\n",
    "    - $acc = default$ 라면 $DP := DP + [L_i]$ 한다.\n",
    "    - $acc := default$ 한다.\n",
    "  - $acc + L_i > 0$ 일 때\n",
    "    - $DP := DP + [acc]$ 하고, $acc := acc + L_i$ 한 뒤, $DP := DP + [acc]$ 한다.\n",
    "- 이후 $\\max(DP, acc)$ 을 출력한다."
   ]
  }
 ],
 "metadata": {
  "language_info": {
   "name": "python"
  },
  "orig_nbformat": 4
 },
 "nbformat": 4,
 "nbformat_minor": 2
}
