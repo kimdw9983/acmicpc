{
 "cells": [
  {
   "attachments": {
    "image.png": {
     "image/png": "[encoded data removed]"
    }
   },
   "cell_type": "markdown",
   "metadata": {},
   "source": [
    "### 접근\n",
    "- DP[i][j] = `i-1`번째 줄까지의 두부를 자르고, 현재 줄의 두부 상태가 `j`일 때 최대 가격\n",
    "- 1648(격자판 채우기)와 다르게 이번엔 i번째 줄을 빈틈없이 채울 필요가 없다.\n",
    "  - ![image.png](attachment:image.png)\n",
    "  - 이런식으로 자르는 것이 정답일 수 있다.\n"
   ]
  }
 ],
 "metadata": {
  "language_info": {
   "name": "python"
  },
  "orig_nbformat": 4
 },
 "nbformat": 4,
 "nbformat_minor": 2
}
