{
 "cells": [
  {
   "cell_type": "markdown",
   "metadata": {},
   "source": [
    "### 풀이\n",
    "- 점화식 고속연산 테크닉을 활용한 문제.\n",
    "- 점화식은 다음과 같다\n",
    "  - $a_1 = 1$\n",
    "  - $a_2 = 3$\n",
    "  - $a_{n+2} = 4a_{n+1} - a_i$\n",
    "- 이를 행렬로 나타낸다면\n",
    "  - $\\begin{bmatrix}a_{n+2}\\\\a_{n+1}\\end{bmatrix} = \\begin{bmatrix}4&-1\\\\1&0\\end{bmatrix}\\begin{bmatrix}a_{n+1}\\\\a_{n}\\end{bmatrix}$\n",
    "  - 따라서 계산할 행렬은 \n",
    "  - $\\begin{bmatrix}4&-1\\\\1&0\\end{bmatrix}^{n-1}$"
   ]
  }
 ],
 "metadata": {
  "language_info": {
   "name": "python"
  },
  "orig_nbformat": 4
 },
 "nbformat": 4,
 "nbformat_minor": 2
}
