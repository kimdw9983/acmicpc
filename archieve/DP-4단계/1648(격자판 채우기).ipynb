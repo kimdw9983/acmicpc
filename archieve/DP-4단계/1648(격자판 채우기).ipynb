{
 "cells": [
  {
   "attachments": {
    "image-2.png": {
     "image/png": "[encoded data removed]"
    },
    "image.png": {
     "image/png": "[encoded data removed]"
    }
   },
   "cell_type": "markdown",
   "metadata": {},
   "source": [
    "### 풀이\n",
    "- 격자판을 왼쪽부터 오른쪽으로 빈틈없이 세로 한줄씩 채워나간다고 상상해보자. \\\n",
    "  그렇다면 어떠한 배치는 한쪽 줄을 채우고서 다음 줄에 격자를 남기는 경우도 있을 것이다.\n",
    "  - 예를 들어 세로가 3인 격자의 경우\n",
    "  - ![image-2.png](attachment:image-2.png)\n",
    "- 이렇게 (왼쪽에서) i-1번째 줄까지 빈틈없이 채웠을 때 i번째 줄의 격자의 배치 상태를 비트마스크로 볼 수 있다.\n",
    "  - 0인 경우 격자가 없음(= 격자을 놓을 수 있는 상태), 1인 경우 격자가 있음(= 격자를 놓을 수 없는 상태)\n",
    "  - i-1번째 줄을 채우고 그 다음 격자의 상태를 j라고 할때, DP를 정의할 수 있다.\n",
    "- `DP[i][j]` = 격자를 `i-1`번째까지 채우고 그 다음 격자 상태가 j가 될 수 있는 경우의 수\n",
    "  - 기저상태 DP[0][$000_2$] = 1\n",
    "    - 아무것도 채워져 있지 않고 모든 칸이 비어있는 상태인 경우의 수를 1로 본다는 의미라고 굳이 해석할 수 있다.\n",
    "  - 위 예시의 경우 DP[1][$001_2$] = 1, DP[1][$100_2$] = 1, DP[1][$111_2$] = 1\n",
    "  - 그 다음 가능한 경우의 수는 $011_2, 110_2, 000_2$이 될 것이다.\n",
    "    - ![image.png](attachment:image.png)\n",
    "- 현재 줄의 격자 상태가 `x`였을 때, 이를 빈틈없이 채웠을때 나올 수 있는 다음 상태를 `y`라고 하고, \\\n",
    "  `x` 상태에서 `y`상태으로 갈 수 있다는 표현을 $x \\rightarrow y$라고 한다면, 다음과 같은 점화식을 세울 수 있다.\n",
    "  - $d_y(m+1) = \\sum_{x \\rightarrow y} d_x(m)$\n",
    "- 그리고 N * M이 홀수면 빈공간없이 채울 수 없으므로 0을 출력한다.\n",
    "\n",
    "#### x -> y의 패턴 구하기\n",
    "- 참고한 풀이에서 적절한 트릭을 보여주긴 했지만, 조금 더 일반화된 방법으로 만들 수 있게 접근해보자.\n",
    "- 아주 오랜만에 yield를 사용할 순간이 온 것 같다.\n",
    "- 원래 1은 무조건 0이 되어야 한다. 그래야 빈틈없이 채워진 격자가 된다.\n",
    "  - 그러나 이는 격자모양이 달라질 때 조금 다르게 해석할 여지는 있다.\n",
    "- 그 빈칸 하나마다 가로 모양 격자를 놓는 경우를 만들 수 있다. \n",
    "  - 이 경우 원래 0이였던 공간이 1로 되는 것이라고 생각할 수 있다.\n",
    "- 연속으로 0가 2번 나오는 경우는 세로 모양의 격자를 둘 수 있다.\n",
    "  - 이 경우 0은 그대로 유지된다.\n",
    "- `i-1`번째는 빈틈없이 채워야 하므로, 세로로 놓지 않은 공간은 전부 가로 모양의 격자를 놓는다고 했을 때  \\\n",
    "  세로모양의 격자를 0개 놓을 수 있는 경우, 1개 놓을 수 있는 경우, ...,N//2개 놓을 수 있는 경우를 생성하면 될 것 같다."
   ]
  },
  {
   "cell_type": "code",
   "execution_count": null,
   "metadata": {},
   "outputs": [],
   "source": [
    "def make(ret, cur, N) :\n",
    "  for i in range(N-1): \n",
    "    if (cur >> i) & 1 and (cur >> (i + 1)) & 1 : #연속하는 2개의 비트가 1이면 0으로 바꾼 것을 추가한다.\n",
    "      res = cur & ~(1 << i) & ~(1 << (i + 1))\n",
    "      ret.add(res)\n",
    "      make(ret, res, N)\n",
    "\n",
    "memo = {}\n",
    "def next(cur, N) : #현재 상태가 cur일 때 다음 상태\n",
    "  if cur in memo :\n",
    "    return memo[cur]\n",
    "\n",
    "  ret = set()\n",
    "  base = cur ^ (1 << N) - 1\n",
    "  ret.add(base)\n",
    "\n",
    "  make(ret, base, N)\n",
    "\n",
    "  memo[cur] = ret\n",
    "  return ret\n",
    "\n",
    "def sol() :\n",
    "  N, M = map(int, input().split())\n",
    "  MOD = 9901\n",
    "  if N * M % 2 :\n",
    "    print(0)\n",
    "    return\n",
    "\n",
    "  DP = [[0] * (1 << N) for _ in range(M+1)]\n",
    "  DP[0][0] = 1\n",
    "  for i, l in enumerate(DP[:-1]) :\n",
    "    for state, cnt in enumerate(l) :\n",
    "      if not cnt: continue\n",
    "      for k in next(state, N) :\n",
    "        DP[i+1][k] = (DP[i+1][k] + cnt) % MOD\n",
    "\n",
    "  print(DP[M][0] % MOD)\n",
    "\n",
    "sol()"
   ]
  },
  {
   "cell_type": "markdown",
   "metadata": {},
   "source": [
    "- 연속하는 2개의 비트를 처리하는 구현 자체도 어려웠고, 그러한 경우가 여러개 있는 경우를 고려하지 못해서 디버깅도 오래걸렸다.\n",
    "- dfs를 언제 활용해야 할지 떠올리는데에 좋은 도움이 됐다."
   ]
  },
  {
   "cell_type": "markdown",
   "metadata": {},
   "source": [
    "### 개선\n",
    "- 비트 필드를 뒤집는 부분을 약간 개선했다. \n",
    "- 사용성을 위해 약간 더 설명적인 코드를 적었다."
   ]
  },
  {
   "cell_type": "code",
   "execution_count": null,
   "metadata": {},
   "outputs": [],
   "source": [
    "def make(ret, cur, N) :\n",
    "  for i in range(N-1): \n",
    "    if (cur >> i) & 1 and (cur >> i + 1) & 1 : #연속하는 2개의 비트가 1이면 0으로 바꾼 것을 추가한다.\n",
    "      res = cur & ~(3 << i)\n",
    "      ret.add(res)\n",
    "      make(ret, res, N)\n",
    "  \n",
    "memo = {}\n",
    "def next(cur, N) : #현재 상태가 cur일 때 다음 상태\n",
    "  if cur in memo :\n",
    "    return memo[cur]\n",
    "\n",
    "  ret = set()\n",
    "  mask = (1 << N) - 1\n",
    "  base = cur ^ mask\n",
    "  ret.add(base)\n",
    "\n",
    "  make(ret, base, N)\n",
    "\n",
    "  memo[cur] = ret\n",
    "  return ret"
   ]
  },
  {
   "cell_type": "code",
   "execution_count": null,
   "metadata": {},
   "outputs": [],
   "source": [
    "MOD = 9901\n",
    "\n",
    "def go(N, M, DP, i, B) :\n",
    "  if i >= N * M :\n",
    "    if i == N * M and B == 0 : \n",
    "      return 1 #모든 칸을 지나가고 마지막 칸이 비어있는 경우\n",
    "    return 0\n",
    "\n",
    "  if DP[i][B] != -1 :\n",
    "    return DP[i][B]\n",
    "\n",
    "  res = 0\n",
    "  if B & 1 : #현재 칸이 채워져있을 경우 자르지 않는다\n",
    "    res += go(N, M, DP, i + 1, B >> 1)\n",
    "    res %= MOD\n",
    "  else : #그렇지 않을경우 어떻게든 자른다 (빈칸이 있어선 안된다)\n",
    "    res += go(N, M, DP, i + 1, B >> 1 | (1 << (M-1))) #세로로 자른 결과를 더한다 \n",
    "    res %= MOD\n",
    "    if i % M != (M-1) and B & 2 == 0 : #가로로 자를 수 있는 경우 그 결과를 더한다\n",
    "      res += go(N, M, DP, i + 2, B >> 2)\n",
    "      res %= MOD\n",
    "  DP[i][B] = res % MOD\n",
    "  return DP[i][B]\n",
    "\n",
    "def sol() :\n",
    "  N, M = map(int, input().split()) #가로 세로\n",
    "  DP = [[-1] * (1 << M) for _ in range(N * M)] #DP[i][j] = i번째 칸 뒤 M개의 칸의 상태가 j일 때 격자판을 채울 수 있는 경우의 수. 단, i-1번째 칸 까지는 모두 채워져야 한다.\n",
    "  go(N, M, DP, 0, 0)\n",
    "  print(DP[0][0] % MOD)\n",
    "  \n",
    "sol()"
   ]
  },
  {
   "cell_type": "markdown",
   "metadata": {},
   "source": [
    "좀더 잘 알려진 풀이로 푼 방법."
   ]
  }
 ],
 "metadata": {
  "language_info": {
   "name": "python"
  },
  "orig_nbformat": 4
 },
 "nbformat": 4,
 "nbformat_minor": 2
}
