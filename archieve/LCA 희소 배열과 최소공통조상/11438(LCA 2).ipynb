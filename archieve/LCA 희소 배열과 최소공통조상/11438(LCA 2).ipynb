{
 "cells": [
  {
   "attachments": {},
   "cell_type": "markdown",
   "metadata": {},
   "source": [
    "### 풀이\n",
    "- LCA의 부모를 구할 때 1개의 부모만을 기록했던 것을 2^i번째 부모를 기록하도록 변경하는 아이디어를 사용한다."
   ]
  },
  {
   "attachments": {},
   "cell_type": "markdown",
   "metadata": {},
   "source": [
    "\n",
    "- 우선 주워진 입력으로부터(root 노드가 1) 각 노드의 level을 기록할 방법에 대해서 생각해보자.\n",
    "  - 루트 노드에서 BFS로 탐색하면 각 노드의 level을 기록할 수 있다. (어찌보면 \"거리\"로 생각할 수도 있다)\n",
    "  - 연결 정보의 쌍 `(a, b)`에서, 반드시 `a`가 `b`의 부모라는 표현이 없으므로 연결 정보를 입력할 때 `a`와 `b`를 서로 이어놓고, 순회할 때 `visited`도 써야한다. 아마도.\n",
    "  - 트리 문제는 이렇게 전처리 과정이 들어간다고 한다."
   ]
  },
  {
   "cell_type": "code",
   "execution_count": null,
   "metadata": {},
   "outputs": [],
   "source": [
    "def dfs(T, level) :\n",
    "  vis = [False] * (N+1)\n",
    "  vis[1] = True\n",
    "  Q = [1]\n",
    "  l = 1\n",
    "  while Q :\n",
    "    nextQ = []\n",
    "    while Q:\n",
    "      u = Q.pop()\n",
    "      for v in T[u] :\n",
    "        if not vis[v] :\n",
    "          vis[v] = True\n",
    "          level[v] = l\n",
    "          nextQ.append(v)\n",
    "    Q = nextQ\n",
    "    l += 1"
   ]
  },
  {
   "attachments": {},
   "cell_type": "markdown",
   "metadata": {},
   "source": [
    "- 희소 테이블을 만들어야 한다. \n",
    "  - 연결정보를 이용해 트리를 구성하면서 각 노드의 (1번째)부모 노드를 구한다."
   ]
  },
  {
   "cell_type": "code",
   "execution_count": null,
   "metadata": {},
   "outputs": [],
   "source": [
    "import sys, io, os\n",
    "input=io.BytesIO(os.read(0,os.fstat(0).st_size)).readline\n",
    "\n",
    "N = int(input())\n",
    "T = [[] for _ in range(N+1)]\n",
    "P = [-1] * (N+1) #부모 노드 \n",
    "L = [0] * (N+1) #노드의 높이\n",
    "for _ in range(N-1) :\n",
    "  a, b = map(int, input().split())\n",
    "  T[a].append(b)\n",
    "  T[b].append(a)\n",
    "\n",
    "def dfs(T, P, L) : #각 노드에 대해 부모 노드와 노드의 높이를 저장\n",
    "  vis = [False] * (N+1)\n",
    "  vis[1] = True\n",
    "  Q = [1]\n",
    "  l = 1\n",
    "  while Q :\n",
    "    nextQ = []\n",
    "    while Q:\n",
    "      u = Q.pop()\n",
    "      for v in T[u] :\n",
    "        if not vis[v] :\n",
    "          vis[v] = True\n",
    "          P[v] = u\n",
    "          L[v] = l\n",
    "          nextQ.append(v)\n",
    "    Q = nextQ\n",
    "    l += 1\n",
    "\n",
    "dfs(T, P, L)\n",
    "MAX = 18 #2^18 > 100000\n",
    "DP = [P] + [[0] * (N+1) for _ in range(MAX)] #DP[i][j] : j의 2^i번째 부모\n",
    "for i, l in enumerate(DP[1:], 1) : #O(NlogN)\n",
    "  for j in range(N+1) :\n",
    "    l[j] = DP[i-1][DP[i-1][j]]\n",
    "\n",
    "for _ in range(int(input())) :\n",
    "  a, b = map(int, input().split())\n",
    "  \n",
    "  if L[a] < L[b] : #a가 더 깊은 노드가 되도록\n",
    "    a, b = b, a\n",
    "  \n",
    "  for i in range(MAX-1, -1, -1) : #a와 b의 높이를 맞춰준다. (logN)\n",
    "    if L[a] - L[b] >= (1 << i) :\n",
    "      a = DP[i][a]\n",
    "\n",
    "  #두 정점의 높이가 같으므로 2^i와 2^(i+1) 안에 공통 조상이 존재한다. 즉, P에서 찾을 수 있게된다.\n",
    "  #2^i씩 동시에 올라가면서 공통 조상을 찾는다. (logN)\n",
    "  if a != b:\n",
    "    for i in range(MAX-1, -1, -1) :\n",
    "      # print(i)\n",
    "      if DP[i][a] != -1 and DP[i][a] != DP[i][b] :\n",
    "        a = DP[i][a]\n",
    "        b = DP[i][b]\n",
    "    a = DP[0][a] #a와 b의 부모가 같으므로, a의 부모를 출력한다.\n",
    "  sys.stdout.write(str(a) + '\\n')"
   ]
  },
  {
   "attachments": {},
   "cell_type": "markdown",
   "metadata": {},
   "source": [
    "- a와 b의 높이를 맞추는 아이디어를 다시 잘 읽어볼 필요가 있다."
   ]
  }
 ],
 "metadata": {
  "language_info": {
   "name": "python"
  },
  "orig_nbformat": 4
 },
 "nbformat": 4,
 "nbformat_minor": 2
}
