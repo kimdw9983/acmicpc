{
 "cells": [
  {
   "cell_type": "markdown",
   "metadata": {},
   "source": [
    "### 관찰 및 아이디어\n",
    "- $S_i$ 는 delta의 개념으로 볼 수 있다.\\\n",
    "어떤 등불이 날아갈 때 이전에 날아갔던 등불보다 그 속력이 빠르다면, 언젠간 반드시 추월하게 되어있다.\\\n",
    "따라서 연속하는 구간에 대해 $S_j < S_i (i < j)$인 개수를 센다면 정답을 구할 수 있을 것이다.\\\n",
    "여기서 Counting Inversion이 생각났다.\n",
    "- 잘 생각하면, 구간이 증가하는 구간일 때 추월하는 수가 최대가 된다.\n",
    "  - 가장 긴 strictly increasing 하는 구간에 대해서 Counting Inversion을 세면 된다.\n",
    "  - 뭔가 구간 Counting Inversion을 구한다고 봐야 할 것 같은데, 여기서 좀 막힌다. $S$ 를 도대체 어떻게 처리해야 할까?"
   ]
  },
  {
   "cell_type": "code",
   "execution_count": null,
   "metadata": {},
   "outputs": [],
   "source": [
    "import io, os, operator\n",
    "input = io.BytesIO(os.read(0, os.fstat(0).st_size)).readline\n",
    "\n",
    "class SegmentTree:\n",
    "  def __init__(self, L, default, f):\n",
    "    self._def = default\n",
    "    self._f = f\n",
    "    self._len = len(L)\n",
    "    self._size = _size = 1 << (self._len - 1).bit_length()\n",
    "\n",
    "    self.L = [default] * (2 * _size)\n",
    "    self.L[_size:_size + self._len] = L\n",
    "    for i in reversed(range(_size)):\n",
    "      self.L[i] = f(self.L[i + i], self.L[i + i + 1])\n",
    "\n",
    "  def __delitem__(self, idx):\n",
    "    self[idx] = self._def\n",
    "\n",
    "  def __getitem__(self, idx):\n",
    "    return self.L[idx + self._size]\n",
    "\n",
    "  def __setitem__(self, idx, value):\n",
    "    idx += self._size\n",
    "    self.L[idx] = value\n",
    "    idx >>= 1\n",
    "    while idx:\n",
    "      self.L[idx] = self._f(self.L[2 * idx], self.L[2 * idx + 1])\n",
    "      idx >>= 1\n",
    "\n",
    "  def __len__(self):\n",
    "    return self._len\n",
    "\n",
    "  def query(self, s, e):\n",
    "    s += self._size\n",
    "    e += self._size\n",
    "\n",
    "    l = r = self._def\n",
    "    while s < e: \n",
    "      if s & 1:\n",
    "        l = self._f(l, self.L[s])\n",
    "        s += 1\n",
    "      if e & 1:\n",
    "        e -= 1\n",
    "        r = self._f(self.L[e], r)\n",
    "      s >>= 1\n",
    "      e >>= 1\n",
    "\n",
    "    return self._f(l, r)\n",
    "\n",
    "MAX = 100000\n",
    "def sol() :\n",
    "  N, S = map(int, input().split())\n",
    "  L = list(map(int, input().split()))\n",
    "  Lzip = {v: i for i, v in enumerate(sorted(set(L)))}\n",
    "  \n",
    "  seg = SegmentTree([0] * N, 0, operator.add)\n",
    "  acc = 0\n",
    "  ans = 0\n",
    "  for i, v in enumerate(L): \n",
    "    v = Lzip[v]\n",
    "    if i >= S: \n",
    "      v2 = Lzip[L[i - S]] # 제거될 등불의 위치\n",
    "      acc -= seg.query(v2+1, N)\n",
    "      seg[v2] -= 1\n",
    "    acc += seg.query(0, v)\n",
    "    seg[v] += 1\n",
    "    ans = max(ans, acc)\n",
    "  \n",
    "  print(ans)\n",
    "sol()"
   ]
  },
  {
   "cell_type": "markdown",
   "metadata": {},
   "source": [
    "### 풀이\n",
    "- 아이디어는 거의 맞았고, 구현도 맞는 방향으로 잡았지만 `감소시켜야 하는 값`을 제대로 생각해내지 못했다.\n",
    "  - $k$ 번째 등불을 고려할 때 $k-S$ 번째 등불을 제거한다면, 구간 $(v, N)$ 의 값도 제거해야 한다."
   ]
  },
  {
   "cell_type": "markdown",
   "metadata": {},
   "source": [
    "### 시도해봣던 것\n",
    "- imos로 변환시켜서 그 변화량을 기록하기\n",
    "  - 본질적으로 감소시켜야 하는 값이 무엇인지 계산할 수 없었다."
   ]
  }
 ],
 "metadata": {
  "language_info": {
   "name": "python"
  }
 },
 "nbformat": 4,
 "nbformat_minor": 2
}
