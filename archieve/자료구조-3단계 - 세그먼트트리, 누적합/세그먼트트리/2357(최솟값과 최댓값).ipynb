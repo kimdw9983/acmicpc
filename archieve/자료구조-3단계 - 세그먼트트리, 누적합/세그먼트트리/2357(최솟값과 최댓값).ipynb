{
 "cells": [
  {
   "cell_type": "code",
   "execution_count": null,
   "metadata": {},
   "outputs": [],
   "source": [
    "min_tree = SegmentTree(L, default=1000000001, func=min)\n",
    "max_tree = SegmentTree(L, default=0, func=max)\n",
    "\n",
    "for _ in range(M) :\n",
    "  a, b = map(int,input().split())\n",
    "  sys.stdout.write(f\"{min_tree.query(a-1, b)} {max_tree.query(a-1, b)}\\n\")"
   ]
  },
  {
   "attachments": {},
   "cell_type": "markdown",
   "metadata": {},
   "source": [
    "- 기본 값으로 나올 수 없는 값을 입력하는 입력하는 것에 주의한다."
   ]
  }
 ],
 "metadata": {
  "language_info": {
   "name": "python"
  },
  "orig_nbformat": 4
 },
 "nbformat": 4,
 "nbformat_minor": 2
}
