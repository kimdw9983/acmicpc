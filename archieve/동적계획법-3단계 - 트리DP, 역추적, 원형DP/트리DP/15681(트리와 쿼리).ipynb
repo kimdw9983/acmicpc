{
 "cells": [
  {
   "attachments": {},
   "cell_type": "markdown",
   "metadata": {},
   "source": [
    "# Top down Method\n",
    "- 입력을 토대로 root부터 시작하여 인접한 노드중 방문하지 않은 노드들은 자식이므로, 그 정보를 이용해 자식 리스트를 만든다.\n",
    "- 만들어진 자식 리스트를 이용해 다시 root부터 쿼리를 수행한다\n",
    "- 입력 최적화가 됐음에도 상당히 느리다. (664ms)"
   ]
  },
  {
   "cell_type": "code",
   "execution_count": null,
   "metadata": {},
   "outputs": [],
   "source": [
    "import io, os, sys\n",
    "sys.setrecursionlimit(10**6)\n",
    "input=io.BytesIO(os.read(0,os.fstat(0).st_size)).readline\n",
    "N, R, Q = map(int, input().split())\n",
    "G = [[] for _ in range(N)]\n",
    "P = [-1] * N\n",
    "for _ in range(N-1):\n",
    "  a, b = map(int, input().split())\n",
    "  G[a-1].append(b-1)\n",
    "  G[b-1].append(a-1)\n",
    "\n",
    "child = [[] for _ in range(N)] #i 번째 노드의 자식들\n",
    "def make_tree(cur, p) :\n",
    "  for n in G[cur] : #연결된 노드중에서\n",
    "    if n == p : continue #부모 노드가 아니면\n",
    "    child[cur].append(n)\n",
    "    P[n] = cur #내가 부모가 되며, 이 연결된 노드의 부모가 내가 된다.\n",
    "    make_tree(n, cur)\n",
    "make_tree(R-1, -1)\n",
    "\n",
    "size = [1] * N\n",
    "def q(cur) :\n",
    "  for n in child[cur] :\n",
    "    q(n)\n",
    "    size[cur] += size[n]\n",
    "q(R-1)\n",
    "\n",
    "for _ in range(Q) :\n",
    "  x = int(input())\n",
    "  sys.stdout.write(f'{str(size[x-1])}\\n')"
   ]
  },
  {
   "attachments": {},
   "cell_type": "markdown",
   "metadata": {},
   "source": [
    "# Bottom Up(후위 순회) Method\n",
    "- stack을 이용해 후위 순회 리스트를 만들고, 후위 순회리스트의 특성을 이용해 서브트리 갯수의 값을 누적시킨다.\n",
    "  - 후위 순위는 리프가 없는 자식 노드 -> 루트 노드 -> 형제 노드 순서대로 방문한다. 따라서 이때마다 방문하지 않은 자식 노드의 서브트리 갯수를 누적시키면 된다.\n",
    "- 비효율적으로 처리되는 재귀가 없어 빠르다. (280ms)"
   ]
  },
  {
   "cell_type": "code",
   "execution_count": null,
   "metadata": {},
   "outputs": [],
   "source": [
    "import io, os, sys\n",
    "input=io.BytesIO(os.read(0,os.fstat(0).st_size)).readline\n",
    "\n",
    "def sol() :\n",
    "  N, R, Q = map(int, input().split())\n",
    "  G = [[] for _ in range(N)]\n",
    "  for _ in range(N-1):\n",
    "    a, b = map(int, input().split())\n",
    "    G[a-1].append(b-1)\n",
    "    G[b-1].append(a-1)\n",
    "\n",
    "  vis = [False] * N\n",
    "  S = [R-1] #루트 노드 부터 시작\n",
    "  PO = [] #후위 순위\n",
    "\n",
    "  while S: #리프 뜯기\n",
    "    cur = S[-1] #top, 바로 pop하지 않음에 유의\n",
    "    vis[cur] = True #방문\n",
    "    leaf = True\n",
    "    for n in G[cur] :\n",
    "      if not vis[n] : #방문하지 않은 노드 = 자식이 있는 노드 = 당장은 leaf가 아닌 노드\n",
    "        S.append(n)\n",
    "        leaf = False\n",
    "    \n",
    "    if leaf :\n",
    "      PO.append(S.pop()) #리프 노드를 뜯어서 후위 순위 traversal에 넣는다.\n",
    "\n",
    "  size = [1] * N #자기 자신을 포함한 서브트리의 크기\n",
    "  for cur in PO: #이때 vis는 False가 이미 방문한 노드가 된다.\n",
    "    for p in G[cur] : #연결된 노드중에서\n",
    "      if vis[p] : #방문하지 않은 노드면 = 부모노드이면 = (후위순위이기 때문에)자식이 아니라는 뜻 \n",
    "        size[p] += size[cur] #자식의 크기를 더한다.\n",
    "    vis[cur] = False #방문\n",
    "\n",
    "  for _ in range(Q) :\n",
    "    x = int(input())\n",
    "    sys.stdout.write(f'{str(size[x-1])}\\n')\n",
    "\n",
    "sol()"
   ]
  },
  {
   "attachments": {},
   "cell_type": "markdown",
   "metadata": {},
   "source": [
    "# 출력 조금더 최적화\n",
    "- `Q`가 큰 경우 `sys.stdout.write`를 여러번 호출 하는 것보단 `join`을 이용해 한번에 출력하는 것이 더 빨랐다.\n",
    "- list에서 append를 할 때 메모리 할당을 추가로 해야 할 때 느려지기 때문.\n",
    "  - 또 하나 확인할 수 있는 점은 파이썬의 메모리 오버 할당에 대한 behavior이다.\n",
    "  - `append`를 사용했을 때의 메모리 사용량은 143808이였고 정적 할당을 했을 때의 메모리 사용량은 143804였다. \n",
    "    - 어느시점에 얼만큼 초과할당을 했는진 모르지만, 어쨋든 초과할당을 한 것을 확인할 수 있다."
   ]
  },
  {
   "cell_type": "code",
   "execution_count": null,
   "metadata": {},
   "outputs": [],
   "source": [
    "answer = []\n",
    "for i in range(Q) :\n",
    "  x = int(input())\n",
    "  answer.append(size[x-1])\n",
    "\n",
    "sys.stdout.write('\\n'.join(map(str, answer)))"
   ]
  }
 ],
 "metadata": {
  "language_info": {
   "name": "python"
  },
  "orig_nbformat": 4
 },
 "nbformat": 4,
 "nbformat_minor": 2
}
