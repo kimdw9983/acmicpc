{
 "cells": [
  {
   "cell_type": "code",
   "execution_count": null,
   "metadata": {},
   "outputs": [],
   "source": [
    "import io, os\n",
    "input=io.BytesIO(os.read(0,os.fstat(0).st_size)).readline\n",
    "\n",
    "def sol() :\n",
    "  N, M = map(int, input().split())\n",
    "  L = [*map(int, input().split())]\n",
    "  L.sort(reverse=True)\n",
    "  G = [0] * M\n",
    "\n",
    "  for v in L :\n",
    "    G[G.index(min(G))] += v\n",
    "  \n",
    "  print(max(G))\n",
    "\n",
    "sol()"
   ]
  },
  {
   "cell_type": "markdown",
   "metadata": {},
   "source": [
    "### 자력솔\n",
    "- 전자기기를 내림차순으로 정리한 뒤, 매번 가장 적은 충전시간 누적을 가진 콘센트에 전자기기를 꽂는다.\n",
    "- 증명 해야할수도?"
   ]
  }
 ],
 "metadata": {
  "language_info": {
   "name": "python"
  },
  "orig_nbformat": 4
 },
 "nbformat": 4,
 "nbformat_minor": 2
}
