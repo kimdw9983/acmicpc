{
 "cells": [
  {
   "cell_type": "code",
   "execution_count": null,
   "metadata": {},
   "outputs": [],
   "source": [
    "import io, os\n",
    "input=io.BytesIO(os.read(0, os.fstat(0).st_size)).readline\n",
    "\n",
    "def sol():\n",
    "  N = int(input())\n",
    "  L = [tuple(map(int, input().split())) for _ in range(N)] \n",
    "  L.sort(key=lambda x: (x[1], -x[1]+x[0]))\n",
    "\n",
    "  x = cnt = 0\n",
    "  for s, e in L :\n",
    "    if s >= x :\n",
    "      cnt += 1\n",
    "      x = e\n",
    "  \n",
    "  print(cnt)\n",
    "\n",
    "sol()"
   ]
  },
  {
   "cell_type": "markdown",
   "metadata": {},
   "source": [
    "### 풀이\n",
    "- 회의가 끝나는 시간을 기준으로 정렬한다. \n",
    "- 단 시작시간과 끝나는 시간이 같을 수 있는데, 이러한 반례에 주의한다.\n",
    "  - 1 3 / 2 3 / 3 3 / 4 4\n",
    "  - 따라서 끝나는 시간 오름차순 -> 회의 진행시간 내림차순으로 정렬해야 한다."
   ]
  }
 ],
 "metadata": {
  "language_info": {
   "name": "python"
  },
  "orig_nbformat": 4
 },
 "nbformat": 4,
 "nbformat_minor": 2
}
