{
 "cells": [
  {
   "cell_type": "markdown",
   "metadata": {},
   "source": [
    "- 숫자를 누르는 것도 횟수 +1이다.\n",
    "- 숫자를 누르면 눌려있던 100은 초기화되는듯 하다.\n",
    "- 100번이 가고싶은 채널이면 정답은 0일것이다.\n",
    "\n",
    "### 접근\n",
    "- 많은 엣지케이스가 있을 것이다. 일단 그것을 제외하고 생각해본다면\n",
    "  - 자릿수마다 가장 가까운 수를 누르고, 거기서 +, -를 눌러서 조정하면 될 것같다.\n",
    "  - 아닌듯 하다. 80000은 77777을 눌러야한다.\n",
    "  - 누르는 숫자의 조합으로 N에서 가장 가까운 수를 만들어야 한다.\n",
    "- 생각나는 케이스\n",
    "  - 10개 다 벤: 정답 - 100 (우선 100에서 +, -로 이동하는 경우부터 세어놔야 할 듯 하다.)\n",
    "  - 같은 숫자 = 번호판의 거리를 따진다\n",
    "  - 작거나 큰 숫자 = +,-를 누를 숫자가 최소가 되도록 누른다. 작으면 최대한 큰 숫자로, 크면 최대한 작은 숫자로"
   ]
  },
  {
   "cell_type": "code",
   "execution_count": null,
   "metadata": {
    "vscode": {
     "languageId": "ini"
    }
   },
   "outputs": [],
   "source": [
    "N = int(input())\n",
    "M = int(input())\n",
    "if M :\n",
    "  L = [*map(int,input().split())] #banned\n",
    "\n",
    "answer = N - 100\n",
    "left = N\n",
    "for i, c in enumerate(str(N)) :\n",
    "  if len(str(10 ** (len(str(N))-i-1))) == len(str(left)) : # 지금까지 자릿수와 같은 숫자를 눌러온 경우\n",
    "    #번호판의 거리 기준으로 가까운 숫자를 누른다.\n",
    "    pass\n",
    "  else :\n",
    "    #left를 최소한 줄일 수 있는 숫자를 누른다.\n",
    "    pass    "
   ]
  },
  {
   "cell_type": "markdown",
   "metadata": {},
   "source": [
    ";; 6\n",
    "5457\n",
    "3\n",
    "6 7 8\n",
    ";; 0\n",
    "100\n",
    "5\n",
    "0 1 2 3 4\n",
    ";; 11117\n",
    "500000\n",
    "8\n",
    "0 2 3 4 6 7 8 9\n",
    ";; 0\n",
    "100\n",
    "3\n",
    "1 0 5\n",
    ";; 5\n",
    "14124\n",
    "0\n",
    ";; 2\n",
    "1\n",
    "9\n",
    "1 2 3 4 5 6 7 8 9\n",
    ";; 2228\n",
    "80000\n",
    "2\n",
    "8 9"
   ]
  }
 ],
 "metadata": {
  "language_info": {
   "name": "python"
  },
  "orig_nbformat": 4
 },
 "nbformat": 4,
 "nbformat_minor": 2
}
