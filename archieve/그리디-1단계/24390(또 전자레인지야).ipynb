{
 "cells": [
  {
   "cell_type": "code",
   "execution_count": null,
   "metadata": {},
   "outputs": [],
   "source": [
    "m, s = map(int, input().split(\":\"))\n",
    "x = m * 60 + s\n",
    "\n",
    "ans = float(\"inf\")\n",
    "if x % 30 == 0 :\n",
    "  ans = x // 30\n",
    "\n",
    "res = 0\n",
    "started = False\n",
    "while x :\n",
    "  for n in (600, 60, 30, 10) :\n",
    "    if x >= n :\n",
    "      if n == 30 : started = True\n",
    "      x -= n\n",
    "      res += 1\n",
    "      break\n",
    "\n",
    "ans = min(ans, res+(not started))\n",
    "if m == s == 0:\n",
    "  ans = 1\n",
    "print(ans)"
   ]
  },
  {
   "cell_type": "markdown",
   "metadata": {},
   "source": [
    "### 자력솔\n",
    "- 가능한 큰 단위의 시간이 적힌 버튼을 눌러서 그리디하게 숫자를 줄인다.\n",
    "- 이떄 30초 버튼이자 시작버튼인 조리시작버튼은 처리를 해준다. 조리 시작전에 한번이라도 눌렀으면 누르지 않아도 된다.\n",
    "- 시간이 0초일땐 조리시작을 눌러야 한다."
   ]
  }
 ],
 "metadata": {
  "language_info": {
   "name": "python"
  },
  "orig_nbformat": 4
 },
 "nbformat": 4,
 "nbformat_minor": 2
}
