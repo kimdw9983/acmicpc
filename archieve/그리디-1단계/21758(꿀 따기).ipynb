{
 "cells": [
  {
   "cell_type": "code",
   "execution_count": null,
   "metadata": {},
   "outputs": [],
   "source": [
    "import io, os\n",
    "input=io.BytesIO(os.read(0,os.fstat(0).st_size)).readline\n",
    "\n",
    "def sol() :\n",
    "  N = int(input())\n",
    "  L = [*map(int, input().split())]\n",
    "  acc = [0] * (N+1)\n",
    "\n",
    "  for i, v in enumerate(L) :\n",
    "    acc[i+1] = acc[i] + v\n",
    "  \n",
    "  #맨 왼쪽에 벌, 맨 오른쪽에 벌통\n",
    "  ans = 0\n",
    "  #(구간 [1, N)의 누적합 - (구간 [e, e+1)의 누적합) )  + 2 * (구간 (e, N]의 누적합)\n",
    "  for e in range(1, N-1) :\n",
    "    ans = max(ans, acc[N] - acc[0] - L[e] + 2 * (acc[N] - acc[e]) )\n",
    "  print(ans)\n",
    "sol()"
   ]
  },
  {
   "cell_type": "markdown",
   "metadata": {},
   "source": [
    "- 가운데에 꿀통이 있는 경우.."
   ]
  },
  {
   "cell_type": "code",
   "execution_count": null,
   "metadata": {},
   "outputs": [],
   "source": [
    "import io, os\n",
    "input=io.BytesIO(os.read(0,os.fstat(0).st_size)).readline\n",
    "\n",
    "def sol() :\n",
    "  N = int(input())\n",
    "  L = [*map(int, input().split())]\n",
    "  acc = [0] * (N+1)\n",
    "\n",
    "  for i, v in enumerate(L) :\n",
    "    acc[i+1] = acc[i] + v\n",
    "  \n",
    "  ans = 0\n",
    "  #acc[x] = [0, x-1]까지의 합\n",
    "  for e, v in enumerate(acc[1:N-1], 1) : \n",
    "    #맨 왼쪽에 벌집, e는 2번째 벌집의 위치, 맨 오른쪽에 벌통\n",
    "    ans = max(ans, v - L[0] + 2 * (acc[N] - acc[e+1]))\n",
    "    #e에 벌집, 맨 오른쪽에 벌집, 맨왼쪽이 벌통\n",
    "    ans = max(ans, 2 * v + acc[N] - L[N-1] - acc[e+1])\n",
    "    #양쪽 끝에 벌집, e에 벌통\n",
    "    ans = max(ans, acc[e+1] - L[0] + (acc[N] - L[N-1] - v)) \n",
    "\n",
    "  print(ans)\n",
    "\n",
    "sol()"
   ]
  },
  {
   "cell_type": "markdown",
   "metadata": {},
   "source": [
    "### 자력솔\n",
    "- 3가지 경우를 고려하여 가장 큰 값이 나오는 경우가 정답이다.\n",
    "  - 맨 왼쪽에 벌통, 맨 오른쪽에 벌집, 2번째 벌통이 그 사이에 있는 경우\n",
    "  - 맨 오른쪽에 벌통, 맨 왼쪽이 벌집, 2번째 벌통이 그 사이에 있는 경우\n",
    "  - 양쪽에 벌집에 있고, 그 사이에 벌통이 있는 경우\n",
    "- 누적합을 계산하는게 너무 햇갈려서 오래걸렸다..\n",
    "  - acc[$x$] = $a_1 + a_2 + ... + a_{x-1}$"
   ]
  }
 ],
 "metadata": {
  "language_info": {
   "name": "python"
  },
  "orig_nbformat": 4
 },
 "nbformat": 4,
 "nbformat_minor": 2
}
