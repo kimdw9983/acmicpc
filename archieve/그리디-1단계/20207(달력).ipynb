{
 "cells": [
  {
   "cell_type": "code",
   "execution_count": null,
   "metadata": {},
   "outputs": [],
   "source": [
    "import io, os\n",
    "input=io.BytesIO(os.read(0,os.fstat(0).st_size)).readline\n",
    "\n",
    "def sol() :\n",
    "  N = int(input())\n",
    "  L = [tuple(map(int, input().split())) for _ in range(N)]\n",
    "  L.sort(key=lambda x: (x[0], -x[1]+x[0]))\n",
    "  \n",
    "  DA = [0] * 366 #n일차에 일정이 겹쳐있는 횟수\n",
    "  for s, e in L :\n",
    "    for i in range(s, e+1) : #1000 * 365\n",
    "      DA[i] += 1\n",
    "  \n",
    "  DA.reverse()\n",
    "  width  = height = ans = 0\n",
    "  while DA :\n",
    "    x = DA.pop()\n",
    "    if x == 0 :\n",
    "      ans += width * height\n",
    "      width = height = 0\n",
    "    else :\n",
    "      width += 1\n",
    "      height = max(height, x)\n",
    "  print(ans)\n",
    "  \n",
    "sol()"
   ]
  },
  {
   "cell_type": "markdown",
   "metadata": {},
   "source": [
    "### 접근\n",
    "- 스위핑처럼 접근해봤지만 틀렸다."
   ]
  },
  {
   "cell_type": "code",
   "execution_count": null,
   "metadata": {},
   "outputs": [],
   "source": [
    "import io, os\n",
    "input=io.BytesIO(os.read(0,os.fstat(0).st_size)).readline\n",
    "\n",
    "def sol() :\n",
    "  N = int(input())\n",
    "  L = [tuple(map(int, input().split())) for _ in range(N)]\n",
    "  \n",
    "  DA = [0] * 366 #n일차에 일정이 겹쳐있는 횟수\n",
    "  for s, e in L :\n",
    "    for i in range(s, e+1) : #1000 * 365\n",
    "      DA[i] += 1\n",
    "  \n",
    "  DA.reverse()\n",
    "  width  = height = ans = 0\n",
    "  while DA :\n",
    "    x = DA.pop()\n",
    "    if x == 0 :\n",
    "      ans += width * height\n",
    "      width = height = 0\n",
    "    else :\n",
    "      width += 1\n",
    "      height = max(height, x)\n",
    "  print(ans + width * height)\n",
    "  \n",
    "sol()"
   ]
  },
  {
   "cell_type": "markdown",
   "metadata": {},
   "source": [
    "### 풀이\n",
    "- 마지막 width * height를 정답에서 안더해줘서 틀렷다..\n",
    "- 정렬도 하지 않아도 되긴 한다. 자명하니까 별로 고려하지 않겠다. 오히려 이 부분이 그리디인 이유인 것 같다.\n",
    "- Difference array를 쓰는 풀이(imos)법도 있다. 사실 제일 먼저 생각한게 이거였다"
   ]
  }
 ],
 "metadata": {
  "language_info": {
   "name": "python"
  },
  "orig_nbformat": 4
 },
 "nbformat": 4,
 "nbformat_minor": 2
}
