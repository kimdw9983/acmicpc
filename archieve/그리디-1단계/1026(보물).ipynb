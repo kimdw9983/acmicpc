{
 "cells": [
  {
   "cell_type": "code",
   "execution_count": null,
   "metadata": {},
   "outputs": [],
   "source": [
    "input()\n",
    "A = list(map(int, input().split()))\n",
    "B = list(map(int, input().split()))\n",
    "\n",
    "A.sort()\n",
    "B.sort(reverse=True)\n",
    "res = 0\n",
    "for a, b in zip(A, B) :\n",
    "  res += a * b\n",
    "\n",
    "print(res)"
   ]
  },
  {
   "cell_type": "markdown",
   "metadata": {},
   "source": [
    "### 자력솔\n",
    "- A는 오름차순, B는 내림차순으로 더한 뒤 각 값을 더해서 누적시킨 것이 정답.\n",
    "- B는 재배열 하면 안된다는 조건이 붙어있으나, 구해야 하는 값이 그 합을 구하는 것이므로 더하는 순서 정보가 중요하지 않게 된다."
   ]
  }
 ],
 "metadata": {
  "language_info": {
   "name": "python"
  },
  "orig_nbformat": 4
 },
 "nbformat": 4,
 "nbformat_minor": 2
}
