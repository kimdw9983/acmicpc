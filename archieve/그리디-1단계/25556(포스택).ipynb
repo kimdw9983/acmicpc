{
 "cells": [
  {
   "cell_type": "code",
   "execution_count": null,
   "metadata": {},
   "outputs": [],
   "source": [
    "import io, os\n",
    "input=io.BytesIO(os.read(0,os.fstat(0).st_size)).readline\n",
    "\n",
    "def sol() :\n",
    "  N = int(input())\n",
    "  L = list(map(int, input().split()))\n",
    "  S = [[0] for _ in range(4)]\n",
    "\n",
    "  for i, v in enumerate(L) :\n",
    "    for l in S :\n",
    "      if l[-1] < v :\n",
    "        l.append(v)\n",
    "        break\n",
    "    else :\n",
    "      return print(\"NO\")\n",
    "  return print(\"YES\")\n",
    "\n",
    "sol()"
   ]
  },
  {
   "cell_type": "markdown",
   "metadata": {},
   "source": [
    "### 자력솔\n",
    "- 관찰: 현재 원소 v가 4개의 스택의 top보다 크면 NO를 출력할 수 밖에 없었다."
   ]
  },
  {
   "cell_type": "markdown",
   "metadata": {},
   "source": [
    "### 증명(모순에 의한 증명)\n",
    "- 모든 스택의 top이 현재 원소보다 클 때에도 올바르게 정렬할 수 있다고 가정해보자.\n",
    "- 숫자를 오른쪽에서 왼쪽으로 오름차순으로 배치하니까, 매번 N부터 1씩 감소하는 숫자를 스택에서 top에서 빼내야 한다.\n",
    "- 어느 순간에 필요한 숫자가 top이 아닌곳에 반드시 있게 된다.\n",
    "- 스택에서 수를 빼기 위해선 그 숫자가 top에 있어야 하므로 모순이다."
   ]
  }
 ],
 "metadata": {
  "language_info": {
   "name": "python"
  },
  "orig_nbformat": 4
 },
 "nbformat": 4,
 "nbformat_minor": 2
}
