{
 "cells": [
  {
   "cell_type": "code",
   "execution_count": null,
   "metadata": {},
   "outputs": [],
   "source": [
    "N = int(input())\n",
    "\n",
    "n = 1\n",
    "res = 0\n",
    "while res < N:\n",
    "  res += n\n",
    "  n += 1\n",
    "\n",
    "if res == N :\n",
    "  print(n-1)\n",
    "elif res - n > N:\n",
    "  print(n-1)\n",
    "else :\n",
    "  print(n-2)"
   ]
  },
  {
   "cell_type": "markdown",
   "metadata": {},
   "source": [
    "### 자력솔\n",
    "- 서로 다른 숫자이므로 N이 최대값이 되려면 1 + 2 + 3 + ... 의 꼴로 더해야 한다.\n",
    "- 이때 누계를 `acc`, 마지막으로 더한 숫자를 `k`라고 할 때\n",
    "  - `acc - k`가 `N`보다 크면 마지막 숫자만 앞의 숫자를 순서대로 더하다가 마지막 숫자만 크게 더한것이고,\n",
    "  - 작다면 마지막 두개의 숫자를 제거하고 남는 나머지를 더한 숫자로 구성하게 된다.\n"
   ]
  }
 ],
 "metadata": {
  "language_info": {
   "name": "python"
  },
  "orig_nbformat": 4
 },
 "nbformat": 4,
 "nbformat_minor": 2
}
