{
 "cells": [
  {
   "cell_type": "code",
   "execution_count": null,
   "metadata": {},
   "outputs": [],
   "source": [
    "import collections\n",
    "\n",
    "N, K = map(int, input().split())\n",
    "L = collections.deque([*range(1, N+1)])\n",
    "cnt = 1\n",
    "while K :\n",
    "  if K >= N - cnt :\n",
    "    x = L.popleft()\n",
    "    L.insert(N - cnt, x)\n",
    "    K -= N - cnt\n",
    "    cnt += 1\n",
    "  else :\n",
    "    x = L.popleft()\n",
    "    L.insert(K, x)\n",
    "    break\n",
    "\n",
    "print(L)"
   ]
  },
  {
   "cell_type": "markdown",
   "metadata": {},
   "source": [
    "### 접근\n",
    "- 이게 정답을 반환하는 코드이지만 TLE날게 뻔해서 최적화를 해야겠다."
   ]
  },
  {
   "cell_type": "code",
   "execution_count": null,
   "metadata": {},
   "outputs": [],
   "source": [
    "import collections, sys\n",
    "\n",
    "N, K = map(int, input().split())\n",
    "cnt = 1\n",
    "if not K :\n",
    "  L = [*range(1, N+1)]\n",
    "else :\n",
    "  while K :\n",
    "    if K > N - cnt :\n",
    "      K -= N - cnt\n",
    "      cnt += 1\n",
    "    elif K == N - cnt :\n",
    "      L = [*range(cnt+1, N+1)] + [*range(cnt, 0, -1)]\n",
    "      break\n",
    "    else :\n",
    "      L = collections.deque([*range(cnt, N+1)] + [*range(cnt-1, 0, -1)])\n",
    "      x = L.popleft()\n",
    "      L.insert(K, x)\n",
    "      break\n",
    "\n",
    "sys.stdout.write(\" \".join(map(str, L)))"
   ]
  },
  {
   "cell_type": "markdown",
   "metadata": {},
   "source": [
    "### 자력솔\n",
    "- 관찰1.  오름차순으로 정렬된 수열은 반전의 개수가 0이고, 내림차순으로 정렬된 수열은 반전의 개수가 $\\binom {N}{2}$ 이자, 최대치이다.\n",
    "- 관찰2. 맨 왼쪽 수를 맨 오른쪽으로 옮겼을 때 반전의 개수가 N개 증가한다. \n",
    "  - 그 상태에서 다시 맨 왼쪽 수를 맨 오른쪽에서 2번째 위치로 옮겼을 때 반전의 개수가 $N-1$ 개 증가했다.\n",
    "  - 위와 같은 것을 반복한다면 어느순간 수열은 내림차순으로 정렬될 것이고 그 때 반전의 개수는 $\\binom {N}{2}$ 가 된다.\n",
    "- 코너케이스 디버깅이 좀 오래걸렸다. K가 처음에 0으로 들어왔을 때.\n"
   ]
  }
 ],
 "metadata": {
  "language_info": {
   "name": "python"
  },
  "orig_nbformat": 4
 },
 "nbformat": 4,
 "nbformat_minor": 2
}
