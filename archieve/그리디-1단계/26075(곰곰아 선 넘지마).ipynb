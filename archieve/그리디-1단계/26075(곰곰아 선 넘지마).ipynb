{
 "cells": [
  {
   "cell_type": "code",
   "execution_count": null,
   "metadata": {},
   "outputs": [],
   "source": [
    "import io, os\n",
    "input=io.BytesIO(os.read(0,os.fstat(0).st_size)).readline\n",
    "\n",
    "def sol() :\n",
    "  input()\n",
    "  L = [i for i, v in enumerate(input().rstrip()) if v == 49]\n",
    "  L2 = [i for i, v in enumerate(input().rstrip()) if v == 49]\n",
    "  diff = 0 #각 i번째 1의 위치의 차이를 더함 \n",
    "  for a, b in zip(L, L2) :\n",
    "    diff += abs(a - b)\n",
    "\n",
    "  print((diff // 2) ** 2 + ((diff // 2) + (diff & 1)) ** 2)\n",
    "\n",
    "sol()"
   ]
  },
  {
   "cell_type": "markdown",
   "metadata": {},
   "source": [
    "- https://cochin-man.tistory.com/42\n",
    "- 거지같네"
   ]
  }
 ],
 "metadata": {
  "language_info": {
   "name": "python"
  }
 },
 "nbformat": 4,
 "nbformat_minor": 2
}
