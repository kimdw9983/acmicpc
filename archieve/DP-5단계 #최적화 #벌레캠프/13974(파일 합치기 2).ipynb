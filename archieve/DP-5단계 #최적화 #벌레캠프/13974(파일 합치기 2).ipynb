{
 "cells": [
  {
   "cell_type": "markdown",
   "metadata": {},
   "source": [
    "### 관찰\n",
    "- 2년 전에 풀었던 문제의 강화판이다. 우선 11066(파일 합치기)의 풀이를 다시 발상해보자.\n",
    "  - 어떤 파일을 합치면, 그 파일의 크기와, 그 파일을 만드는데에 필요했던 누적 합치는 비용 끼리를 더하는 것과 같다.\n",
    "  - 즉, 임의의 두 원소를 합치고, 그 과정에서 나오는 최소 비용의 합을 DP에 저장시키는 과정을 $N-1$ 회 반복하면 된다.\n",
    "  - ...인줄 알았는데 문제 조건에 `연속하는 파일을` 합쳐야 한다고 적혀있었다. 저번에도 이걸 잊었었던거 같은데, 배열의 위치를 바꿀 수 있다는 내용을 또 안 읽고 말았다.\\\n",
    "  애초에 생각했던 풀이대로라면, 정렬을 하거나, 매번 합친 비용과 누적된 합칠 비용이 가장 작은 것만 매번 골라서 더 빠르게 풀 수 있다. 그것이 13975(파일 합치기 3)의 풀이이기도 하고..\\\n",
    "  어쨋든 이러한 풀이도 $O(N^3)$ 일 것이다. 매번 sequence 원소 중 2개를 고르는 경우는, 현재의 sequence 길이가 $n$ 이라고 할때, $\\binom{n}{2}$ 이므로 $O(N^2)$ 이다.\\\n",
    "  이 과정을 $N-1$ 번 반복하므로, 총 $O(N^3)$ 이다.\n",
    "  - 정해는, 누적합을 구해놓고 구간의 길이 $d = 1 \\to k$ 에 따라, $DP[i][j] = [i, j) \\text{ 까지 파일을 합쳤을 때 최솟값}$ 을 갱신하는 것이다.\\\n",
    "  마찬가지로 시간복잡도는 $O(N^3)$ 이겠지만, 연산량이 절반 보다 조금 많을 것이고, 연속하게 합치는 경우만 고려할 것이다.\n",
    "    - $DP[i][j] = \\min_{i < k < j}(DP[i][k] + DP[k][j]) + \\sum_{i \\leq l < j}L[l]$\n",
    "  - sequence가 주워지는 문제에선 반드시 순서를 바꿔도 되는지 먼저 확인하는 습관을 가져보자.\n",
    "    - 구간합, 인접한, 연속하는 등의 단어에 민감하게 반응해야 할 것이다."
   ]
  },
  {
   "cell_type": "markdown",
   "metadata": {},
   "source": [
    "### 풀이\n",
    "  - Knuth 최적화 문제임을 알고 있었고, 관련해서 기본적인 활용법을 공부했다.\n",
    "    - Knuth 점화식: $DP[i][j] = \\min_{i \\leq k < j}(DP[i][k] + DP[k+1][j] + C[i][j])$\n",
    "    - $C[i][j] = [i, j) \\text{구간의 파일들을 합치는 비용}$ 이라고 할때, $C[i][j] = \\sum_{i < k < j}L[i]$ 이다.\\\n",
    "    $L_i$ 는 양수이고, 양수의 누적합은 단조증가 하므로, $C$ 는 monge array 이며 동시에 단조증가성을 띄므로 Knuth 최적화를 적용할 수 있다."
   ]
  },
  {
   "cell_type": "code",
   "execution_count": null,
   "metadata": {},
   "outputs": [],
   "source": [
    "import io, os, sys\n",
    "input=io.BytesIO(os.read(0,os.fstat(0).st_size)).readline\n",
    "\n",
    "INF = 1e9 + 7777\n",
    "def sol() :\n",
    "  N = int(input())\n",
    "  L = list(map(int, input().split()))\n",
    "  MAX = N + 2\n",
    "  acc = [0]\n",
    "  for i, l in enumerate(L) :\n",
    "    acc.append(acc[i] + l)\n",
    "  \n",
    "  C = lambda i, j: acc[j] - acc[i] #C[i][j] = [i, j) 까지 파일을 합치는 비용(monge array와 단조성을 만족)\n",
    "  DP = [[INF] * MAX for _ in range(MAX)] #DP[i][j] [i, j) 까지 파일을 합쳤을 때 최소 비용\n",
    "  K = [[0] * MAX for _ in range(MAX)] #DP[i][j] 가 최소가 되게하는 그러한 인덱스 k중 최솟값\n",
    "  for d in range(1, N+1) : #한번도 합쳐지지 않은 파일 = d-j = 1 \n",
    "    DP[d-1][d] = 0 \n",
    "    K[d-1][d] = d\n",
    "  \n",
    "  for d in range(2, N+1) : #Knuth Optimization\n",
    "    for i in range(N-d+1) :\n",
    "      j = i + d\n",
    "      for k in range(K[i][j-1], K[i+1][j]+1) :\n",
    "        cost = DP[i][k] + DP[k][j] + C(i, j)\n",
    "        if DP[i][j] > cost :\n",
    "          DP[i][j] = cost\n",
    "          K[i][j] = k\n",
    "\n",
    "  return DP[0][N]\n",
    "\n",
    "ans = []\n",
    "for _ in range(int(input())) :\n",
    "  ans.append(sol())\n",
    "\n",
    "sys.stdout.write('\\n'.join(map(str, ans)))"
   ]
  }
 ],
 "metadata": {
  "language_info": {
   "name": "python"
  }
 },
 "nbformat": 4,
 "nbformat_minor": 2
}
