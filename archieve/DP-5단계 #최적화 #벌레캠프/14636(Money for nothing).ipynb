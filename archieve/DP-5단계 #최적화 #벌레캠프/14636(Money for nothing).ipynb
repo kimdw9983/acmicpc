{
 "cells": [
  {
   "cell_type": "markdown",
   "metadata": {},
   "source": [
    "### 문제\n",
    "- 공급처의 원재료 판매 가격 $p_i$, 공급 가능 가능일 $d_i$, 소비자의 구매 가격 $q_j$, 계약종료일 $e_j$ 이라 할 때, \\\n",
    "어떤 공급처와 소비자 회사 한쌍을 골라 계약을 맺고, 날짜 구간 $[d_i, e_j)$ 까지 물건을 한개씩 만든다고 할 때, 물건을 모두 팔았을 때의 최대 이익을 구하는 문제.\n",
    "- 이익을 만들 수 없다면 0을 출력."
   ]
  },
  {
   "cell_type": "markdown",
   "metadata": {},
   "source": [
    "### 관찰\n",
    "- 원재료가 $a$, 판매가 $b$, 계약 시작일 $s$, 계약 종료일 $e$ 라고 할 때, 해당 계약의 판매 이익은 $(b-a) \\cdot (e-s)$ 이다.\n",
    "- $N, M$ 이 50만이다. 적당히 $O(NM \\log M)$ 정도의 시간복잡도를 가지는 알고리즘을 생각해야 한다.\n",
    "- 좌표압축을 필요로 하는 값이 구성돼있다."
   ]
  },
  {
   "cell_type": "markdown",
   "metadata": {},
   "source": [
    "### 아이디어\n",
    "- 우선 공급처와 판매처 모두 정렬 가능하다. $i, j$ 를 정렬된 list상에서의 공급처, 판매처의 인덱스라고 하자.\n",
    "- $C[i][j] = i\\text{ 번째 공급처에서 사고, } j \\text{ 번째 소비자에게 팔 때 최대 이익 }$ \n",
    "  - (그리디)이때 같은 날짜의 공급처가 여러개 있으면, 공급 가격이 최소인 것을 고르고, 판매처가 여러개면 판매 가격이 최대인 것만 남겨서, $C$ 에서 $\\max$를 고려하지 않아도 되게 한다.\\\n",
    "  즉, $i$ 번째 회사라는 것은, $cmp[i]$ 를 시작일로 가지는 회사중에서 가장 공급 가격이 싼 회사를 의미하고, $j$ 도 vice versa를 의미한다.\n",
    "    - 좌표 압축시 추가 구현하면 될 것이다.\n",
    "  - $C[i][j] = (e_j - d_i) \\cdot  (q_j - p_i)$\n",
    "  - 이렇게 해봤는데 $opt_c \\leq opt_d$ 가 성립하지 않는다. 설령 그렇게 되도록 할 수 있다고 해도, 내가 아는 방법으로는 $O(N^2)$ 이하로 내릴 수 없었다.\n",
    "- $DP[i][j] = i\\text{ 번째 회사를 공급처로 정하고 } j \\text{ 번째 소비자까지 고려했을 때 최대 이익 }$ \n",
    "- 지금보니 $O(NM \\log N)$ 부터 문제가 있다. 둘다 50만인데 어떻게 풀것인가."
   ]
  },
  {
   "cell_type": "markdown",
   "metadata": {},
   "source": [
    "### 아이디어2\n",
    "- 다른 접근이 필요한 것 같다. 만약 어떤 날짜에 대해서 각 회사마다 비용과 이익을 미리 알 수 있다면 어떨까?\n",
    "  - 두 문제를 특정 날짜 $k$ 일에 대해서 일반화할 수 있어야 할 것이다.\n",
    "  - 모든 공급처의 계약 일짜가 1일차부터 $k$ 일차라고 가정해보자. 즉, $d_i$ 가 높을수록 손해이도록 만드는 것이다. \\\n",
    "  $i$ 번째 구매처가 1일 부터 $k$ 일까지 계약한다고 했을 때 비용 $C(i, k)$ 은 다음과 같이 정의할 수 있다.\\\n",
    "  $C(i, k) = p_i \\cdot \\text{(계약 일수)} + (d-1) \\cdot p_i = p_i \\cdot (k - d_i) + (d - 1) \\cdot p_i$\n",
    "  - 비슷하게, $j$ 번째 판매처가 1일부터 $k$ 일까지 계약한다고 했을 때, $q_j$ 가 높을수록 이익이 높아지고, 초과 일자부터는 손해를 보도록 만들어보자\\\n",
    "   이익 $P(j, k)$ 는 다음과 같이 정의할 수 있다.\\\n",
    "    $P(j, k) = -|q_j \\cdot (k - e_j + 1)| + (e_j - 1) \\cdot q_j$\n",
    "- 답이 안나온다 $opt_c \\leq opt_d$ 를 도저히 보일 수 없음."
   ]
  },
  {
   "cell_type": "code",
   "execution_count": null,
   "metadata": {},
   "outputs": [],
   "source": [
    "import io, os\n",
    "input=io.BytesIO(os.read(0,os.fstat(0).st_size)).readline\n",
    "\n",
    "INF = 4e18 + 7777\n",
    "def sol() :\n",
    "  M, N = map(int, input().split())\n",
    "  P = [tuple(map(int, input().split())) for _ in range(M)]\n",
    "  C = [tuple(map(int, input().split())) for _ in range(N)]\n",
    "  P.sort()\n",
    "  C.sort(reverse=True)\n",
    "\n",
    "  A = []\n",
    "  B = []\n",
    "  for p in P :\n",
    "    if not A or A[-1][1] > p[1] :\n",
    "      A.append(p)\n",
    "  \n",
    "  for c in C :\n",
    "    if not B or B[-1][1] < c[1] :\n",
    "      B.append(c)\n",
    "  B.reverse()\n",
    "  \n",
    "  S = [(0, len(A)-1, 0, len(B)-1)]\n",
    "  ans = 0\n",
    "  while S:\n",
    "    s, e, l, r = S.pop()\n",
    "    if s > e: continue\n",
    "\n",
    "    m = (s + e) // 2\n",
    "    res = -INF\n",
    "\n",
    "    k = s\n",
    "    for i in range(l, r+1) :\n",
    "      dx = B[i][0] - A[m][0]\n",
    "      dy = B[i][1] - A[m][1]\n",
    "      area = 0 if dx < 0 and dy < 0 else dx * dy\n",
    "      if area > res :\n",
    "        res = area\n",
    "        k = i\n",
    "\n",
    "    S.append((s, m - 1, l, k))\n",
    "    S.append((m + 1, e, k, r))\n",
    "    ans = max(ans, res)\n",
    "  print(ans)\n",
    "\n",
    "sol()"
   ]
  },
  {
   "cell_type": "markdown",
   "metadata": {},
   "source": [
    "### 풀이\n",
    "- 기하학 풀이는 너무 어지럽다. $d_i < e_j$ 일때만 단조성을 띄는 것을 관찰하긴 했었는데, 그걸로 풀이를 할 생각을 안해봤다. 그것 먼저 해보자."
   ]
  }
 ],
 "metadata": {
  "language_info": {
   "name": "python"
  }
 },
 "nbformat": 4,
 "nbformat_minor": 2
}
