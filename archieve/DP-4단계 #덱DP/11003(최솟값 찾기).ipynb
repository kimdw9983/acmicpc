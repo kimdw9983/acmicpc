{
 "cells": [
  {
   "cell_type": "code",
   "execution_count": null,
   "metadata": {},
   "outputs": [],
   "source": [
    "import io, os, sys, collections\n",
    "input=io.BytesIO(os.read(0,os.fstat(0).st_size)).readline\n",
    "\n",
    "N, L = map(int, input().split())\n",
    "A = [*map(int, input().split())]\n",
    "\n",
    "DP = collections.deque() #오름차순 정렬을 유지하면서, 길이가 최대 L인 deque\n",
    "for i, a in enumerate(A) :\n",
    "  if DP and i == DP[0][0] + L : #나갈 타이밍이 된 원소를 배출한다. \n",
    "    DP.popleft()\n",
    "  while DP and DP[-1][1] >= a : #a가 들어왔을 때, a보다 값이 큰 원소들을 배출한다. 이를 통해 정렬성이 유지된다.\n",
    "    DP.pop()\n",
    "  DP.append((i, a))\n",
    "  sys.stdout.write(f'{DP[0][1]} ') #DP의 첫번째 원소가 현재의 최솟값이다."
   ]
  },
  {
   "cell_type": "markdown",
   "metadata": {},
   "source": [
    "### 접근\n",
    "- 직관적으로 생각했을 때 길이가 최대 3인 슬라이딩 윈도우에서 최소값을 찾는 문제라고 보면 될 것 같다."
   ]
  }
 ],
 "metadata": {
  "language_info": {
   "name": "python"
  },
  "orig_nbformat": 4
 },
 "nbformat": 4,
 "nbformat_minor": 2
}
