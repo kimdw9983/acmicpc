{
 "cells": [
  {
   "attachments": {
    "image.png": {
     "image/png": "[encoded data removed]"
    }
   },
   "cell_type": "markdown",
   "metadata": {},
   "source": [
    "### 보조정리\n",
    "- 총 $n$개의 원소 중에서 같은것이 각각 $a_1$, $a_2$, ... $a_k$개씩 있을 때, 이중 $n$개를 골라서 배열하는 순열의 수는\n",
    "   - $\\frac{n!}{a_1!a_2!...a_k!}$\n",
    "\n",
    "### 풀이(자력솔? 날먹?)\n",
    "- 가로가 2칸인 타일을 채우는 경우의 수는 3개이다.\n",
    "- 가로가 2를 초과하는인 짝수 N칸 타일을 N칸 이하의 타일을 조합해서 만드는 경우를 제외하면 2가지 경우가 있다.\n",
    "  - ![image.png](attachment:image.png)\n",
    "  - 위와 같은 모양과 그것을 180도 뒤집은 모양을 포함해서 총 2개.\n",
    "- 대충 구해야 하는 수열의 패턴을 보자면 이러하다\n",
    "  - 3*N타일에 대해 2칸만으로 배치하는 경우의 수 + 4칸만으로 배치하는 경우의 수 + ... + N칸만으로 배치하는 경우의 수 + 2칸 N-2칸으로 배치하는 경우의 수 + ... + N-2칸 2칸으로 배치하는 경우의 수`(= 2개의 항으로 배치하는 경우의 수)` + 서로 다른 3개의 항으로 배치하는 경우의 수 + ... + 서로 다른 N개의 항으로 배치하는 경우의 수\n",
    "- 내겐 저러한 수열을 일반화할 능력이 없기 때문에, 몇개의 항까지 직접 구한 뒤 OEIS에서 수열을 검색한 후 점화식을 찾아냈다.. 이게 맞나?\n",
    "  - $\\begin{cases} 1 &\\text {if }n = 1 \\\\ 3 &\\text {if }n = 2 \\\\ a_{n+2} = 4a_{n-1} - a_{n-2} &\\text {if }n >= 3 \\end{cases}$\n",
    "  - A079935 수열을 구현했다."
   ]
  },
  {
   "cell_type": "code",
   "execution_count": null,
   "metadata": {},
   "outputs": [],
   "source": [
    "n = int(input())\n",
    "MOD = 1_000_000_007\n",
    "\n",
    "if n % 2 :\n",
    "  print(0)\n",
    "else :\n",
    "  DP = [1, 3]\n",
    "  for i in range(2, n//2 + 1) :\n",
    "    x = 4 * DP[-1] - DP[-2]\n",
    "    DP.append(x % MOD)\n",
    "  print(DP[-1])"
   ]
  },
  {
   "cell_type": "markdown",
   "metadata": {},
   "source": [
    "- 나중에 점화식을 세우는 정석을 찾아보자"
   ]
  }
 ],
 "metadata": {
  "language_info": {
   "name": "python"
  },
  "orig_nbformat": 4
 },
 "nbformat": 4,
 "nbformat_minor": 2
}
