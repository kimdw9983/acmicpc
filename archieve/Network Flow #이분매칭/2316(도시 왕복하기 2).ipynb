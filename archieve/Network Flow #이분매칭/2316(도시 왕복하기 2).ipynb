{
 "cells": [
  {
   "cell_type": "code",
   "execution_count": null,
   "metadata": {},
   "outputs": [],
   "source": [
    "import io, os\n",
    "input=io.BytesIO(os.read(0,os.fstat(0).st_size)).readline\n",
    "\n",
    "def dfs(C, F, vis, V, u, snk, cur= 1 << 63) :\n",
    "  if u == snk: return cur\n",
    "\n",
    "  vis[u] = True\n",
    "  for v in range(V) :\n",
    "    if vis[v] or F[u][v] >= C[u][v] : continue\n",
    "    A = min(cur, C[u][v] - F[u][v])\n",
    "    tmp = dfs(C, F, vis, V, v, snk, A)\n",
    "    if tmp :\n",
    "      F[u][v] += tmp\n",
    "      F[v][u] -= tmp\n",
    "      return tmp\n",
    "  return 0\n",
    "\n",
    "def fulkerson(C, src, snk) :\n",
    "  V = len(C)\n",
    "  F = [[0] * V for _ in range(V)]\n",
    "  ret = 0\n",
    "\n",
    "  while True :\n",
    "    vis = [False] * V\n",
    "    cur = dfs(C, F, vis, V, src, snk)\n",
    "    if cur == 0 : break\n",
    "    ret += cur\n",
    "\n",
    "  return ret\n",
    "\n",
    "def sol() :\n",
    "  N, P = map(int, input().split())\n",
    "  V = 2 * N\n",
    "  C = [[0] * V for _ in range(V)]\n",
    "\n",
    "  for i in range(0, V, 2) :\n",
    "    C[i][i + 1] = 1 #각 정점의 in에서 out으로 가는 간선의 용량을 1로 설정한다. 이를통해 각 정점은 한번만 지나갈 수 있게 된다.\n",
    "\n",
    "  for _ in range(P) :\n",
    "    a, b = map(lambda x : int(x) - 1, input().split())\n",
    "    C[a*2+1][b*2] = float(\"inf\") #출발 간선의 out에서 도착 간선의 in으로 가는 간선의 용량을 1로 설정한다.\n",
    "    C[b*2+1][a*2] = float(\"inf\")\n",
    "\n",
    "  C[0][1] = float(\"inf\")\n",
    "  C[2][3] = float(\"inf\")\n",
    "  print(fulkerson(C, 0, 3))\n",
    "\n",
    "sol()"
   ]
  },
  {
   "cell_type": "markdown",
   "metadata": {},
   "source": [
    "### 풀이\n",
    "- 1533(길의 개수)에서 사용됐던 테크닉을 정식으로 사용해보는 문제.\n",
    "- 간선이 아닌 정점을 한번만 가게 하는 방법은 간선을 in -> out으로 보내는 정점으로 나누고, 어떤 간선 `a, b`의 연결을 `a`의 진출 정점에서 `b`진입정점으로 들어가도록 만들면 된다.\n",
    "  - 이렇게 하면 간선을 한번만 지나가게 할 수 있다.\n",
    "- 그리고 문제를 좀 읽는 편이 좋을 것 같다. 양방향 연결인걸 안읽고 WA를 여러번 받았다."
   ]
  }
 ],
 "metadata": {
  "language_info": {
   "name": "python"
  },
  "orig_nbformat": 4
 },
 "nbformat": 4,
 "nbformat_minor": 2
}
