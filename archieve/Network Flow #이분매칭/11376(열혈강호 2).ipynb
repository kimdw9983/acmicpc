{
 "cells": [
  {
   "cell_type": "code",
   "execution_count": null,
   "metadata": {},
   "outputs": [],
   "source": [
    "import io, os\n",
    "input=io.BytesIO(os.read(0,os.fstat(0).st_size)).readline\n",
    "\n",
    "def bipartite(G, N, M) :\n",
    "  def dfs(x) :\n",
    "    if vis[x]: return False\n",
    "\n",
    "    vis[x] = True\n",
    "    for y in G[x]:\n",
    "      if sel[y] == -1 :\n",
    "        sel[y] = x\n",
    "        return True\n",
    "      \n",
    "    for y in G[x] :\n",
    "      if dfs(sel[y]):\n",
    "        sel[y] = x\n",
    "        return True\n",
    "    return False\n",
    "\n",
    "  sel = [-1] * M\n",
    "  res = 0\n",
    "  for i in range(N) :\n",
    "    vis = [False] * N\n",
    "    if dfs(i) : res += 1\n",
    "  return res, sel\n",
    "\n",
    "def sol():\n",
    "  N, M = map(int, input().split())\n",
    "  V = N * 2\n",
    "  G = [[] for _ in range(V)]\n",
    "  for i in range(N):\n",
    "    _, *l = map(int, input().split())\n",
    "    for j in l :\n",
    "      G[i*2].append(j - 1)\n",
    "      G[i*2 + 1].append(j - 1)\n",
    "  \n",
    "  ans, sel = bipartite(G, V, M)\n",
    "  print(ans)\n",
    "\n",
    "sol()"
   ]
  },
  {
   "cell_type": "markdown",
   "metadata": {},
   "source": [
    "- 정점 나누기 테크닉을 사용한 문제.\n",
    "- 코드 동작이 최적화된줄 알았는데 많이 느렸다. 다른 정답 코드 분석예정"
   ]
  }
 ],
 "metadata": {
  "language_info": {
   "name": "python"
  },
  "orig_nbformat": 4
 },
 "nbformat": 4,
 "nbformat_minor": 2
}
