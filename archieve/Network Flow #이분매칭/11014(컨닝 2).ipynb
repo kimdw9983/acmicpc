{
 "cells": [
  {
   "cell_type": "markdown",
   "metadata": {},
   "source": [
    "### 풀이\n",
    "- "
   ]
  },
  {
   "cell_type": "code",
   "execution_count": null,
   "metadata": {
    "vscode": {
     "languageId": "plaintext"
    }
   },
   "outputs": [],
   "source": [
    "import io, os\n",
    "input=io.BytesIO(os.read(0,os.fstat(0).st_size)).readline\n",
    "\n",
    "def bipartite(cls, G, N, M) :\n",
    "  def dfs(x) :\n",
    "    if vis[x] : return False\n",
    "    vis[x] = True\n",
    "\n",
    "    for y in G[x]:\n",
    "      if sel[y] == -1:\n",
    "        sel[y] = x\n",
    "        return True\n",
    "\n",
    "    for y in G[x]:\n",
    "      if dfs(sel[y]):\n",
    "        sel[y] = x\n",
    "        return True\n",
    "    return False\n",
    "\n",
    "  sel = [-1] * (N * M)\n",
    "  res = 0\n",
    "  for i, l in enumerate(cls) :\n",
    "    for e, v in enumerate(l[::2]):\n",
    "      if v == 120 : continue\n",
    "      j = e * 2\n",
    "      vis = [False] * (N * M)\n",
    "      res += dfs(i*M+j)\n",
    "  return res, sel\n",
    "\n",
    "#. == 46, x == 120\n",
    "def sol() :\n",
    "  N, M = map(int, input().split())\n",
    "  cls = [[*input().rstrip()] for _ in range(N)]\n",
    "\n",
    "  cnt = 0\n",
    "  G = [[] for _ in range(N * M)]\n",
    "  for i, l in enumerate(cls) :\n",
    "    for j, c in enumerate(l) :\n",
    "      if c == 120 : continue #현재 좌석이 부숴진 경우 배치할 수 없다.\n",
    "      cnt += 1\n",
    "      for nx, ny in ((i-1, j-1), (i-1, j+1), (i, j-1), (i, j+1), (i+1, j-1), (i+1, j+1)) :\n",
    "        if not (0 <= nx < N and 0 <= ny < M): continue\n",
    "        if cls[nx][ny] == 120: continue\n",
    "        G[i*M+j].append(nx*M+ny)\n",
    "\n",
    "  res, sel = bipartite(cls, G, N, M)\n",
    "  print(cnt - res)\n",
    "\n",
    "for _ in range(int(input())) :\n",
    "  sol()\n"
   ]
  }
 ],
 "metadata": {
  "language_info": {
   "name": "python"
  },
  "orig_nbformat": 4
 },
 "nbformat": 4,
 "nbformat_minor": 2
}
