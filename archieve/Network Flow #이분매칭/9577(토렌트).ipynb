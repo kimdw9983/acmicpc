{
 "cells": [
  {
   "cell_type": "code",
   "execution_count": null,
   "metadata": {},
   "outputs": [],
   "source": [
    "import io, os\n",
    "input=io.BytesIO(os.read(0,os.fstat(0).st_size)).readline\n",
    "\n",
    "def bipartite(G, N, M) :\n",
    "  def dfs(x) :\n",
    "    if vis[x]: return False\n",
    "\n",
    "    vis[x] = True\n",
    "    for y in G[x]:\n",
    "      if sel[y] == -1 :\n",
    "        sel[y] = x\n",
    "        return True\n",
    "      \n",
    "    for y in G[x] :\n",
    "      if dfs(sel[y]):\n",
    "        sel[y] = x\n",
    "        return True\n",
    "    return False\n",
    "\n",
    "  sel = [-1] * M\n",
    "  res = 0\n",
    "  for i in range(N) :\n",
    "    if res == M-1: return i #일찍 끝나면 더 빠른 시간 출력\n",
    "    vis = [False] * N\n",
    "    res += dfs(i)\n",
    "  \n",
    "  return -1\n",
    "\n",
    "def sol() :\n",
    "  n, m = map(int, input().split())\n",
    "  G = [set() for _ in range(101)]\n",
    "  \n",
    "  for _ in range(m) :\n",
    "    t1, t2, _, *l = map(int, input().split())\n",
    "    for t in range(t1, t2) :\n",
    "      G[t].update(l)\n",
    "  \n",
    "  print(bipartite(G, 101, n+1))\n",
    "\n",
    "for _ in range(int(input())) :\n",
    "  sol()"
   ]
  },
  {
   "cell_type": "markdown",
   "metadata": {},
   "source": [
    "### 자력솔\n",
    "- 시간과 조각번호를 기준으로 이분매칭을 시도하였다.\n",
    "- bipartite를 개조하여 초마다 해당 초에 받을 수 있는 조각번호를 확인하는 루프(N == `시간`) 중에 매칭수가 도달하는 순간 값을 리턴한다.\\\n",
    "이를 통해 최소 시간을 출력할 수 있다."
   ]
  }
 ],
 "metadata": {
  "language_info": {
   "name": "python"
  },
  "orig_nbformat": 4
 },
 "nbformat": 4,
 "nbformat_minor": 2
}
