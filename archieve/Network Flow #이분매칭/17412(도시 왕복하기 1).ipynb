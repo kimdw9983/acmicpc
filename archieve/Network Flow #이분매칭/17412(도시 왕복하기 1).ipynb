{
 "cells": [
  {
   "cell_type": "code",
   "execution_count": null,
   "metadata": {},
   "outputs": [],
   "source": [
    "import io, os\n",
    "input=io.BytesIO(os.read(0,os.fstat(0).st_size)).readline\n",
    "\n",
    "def dfs(C, F, vis, V, u, snk, cur= 1 << 63) :\n",
    "  if u == snk: return cur\n",
    "\n",
    "  vis[u] = True\n",
    "  for v in range(V) :\n",
    "    if vis[v] or F[u][v] >= C[u][v] : continue\n",
    "    A = min(cur, C[u][v] - F[u][v])\n",
    "    tmp = dfs(C, F, vis, V, v, snk, A)\n",
    "    if tmp :\n",
    "      F[u][v] += tmp\n",
    "      F[v][u] -= tmp\n",
    "      return tmp\n",
    "  return 0\n",
    "\n",
    "def fulkerson(C, src, snk) :\n",
    "  V = len(C)\n",
    "  F = [[0] * V for _ in range(V)]\n",
    "  ret = 0\n",
    "\n",
    "  while True :\n",
    "    vis = [False] * V\n",
    "    cur = dfs(C, F, vis, V, src, snk)\n",
    "    if cur == 0 : break\n",
    "    ret += cur\n",
    "\n",
    "  return ret\n",
    "\n",
    "def sol() :\n",
    "  N, P = map(int, input().split())\n",
    "  G = [[0] * N for _ in range(N)]\n",
    "  for _ in range(P) :\n",
    "    a, b = map(lambda x : int(x) - 1, input().split())\n",
    "    G[a][b] = 1\n",
    "\n",
    "  print(fulkerson(G, 0, 1))\n",
    "\n",
    "sol()"
   ]
  },
  {
   "cell_type": "markdown",
   "metadata": {},
   "source": [
    "### 자력솔\n",
    "- 한 경로에 포함된 길이 다른 경로에 포함되어선 안된다.\n",
    "  - 간선이 겹치지 말아야 한다\\\n",
    "  = 간선의 용량이 1인 유량 그래프로 생각할 수 있다."
   ]
  }
 ],
 "metadata": {
  "language_info": {
   "name": "python"
  },
  "orig_nbformat": 4
 },
 "nbformat": 4,
 "nbformat_minor": 2
}
