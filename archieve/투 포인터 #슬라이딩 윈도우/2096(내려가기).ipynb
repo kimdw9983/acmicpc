{
 "cells": [
  {
   "cell_type": "code",
   "execution_count": null,
   "metadata": {},
   "outputs": [],
   "source": [
    "import sys\n",
    "input=sys.stdin.readline\n",
    "\n",
    "def sol() :\n",
    "  N = int(input())\n",
    "  a, b, c= map(int, input().split())\n",
    "  minDP = [a, b, c] #이번에 i번째 수를 골랐을 때 최솟값\n",
    "  maxDP = [a, b, c]\n",
    "\n",
    "  for _ in range(N-1) :\n",
    "    a, b, c = map(int, input().split())\n",
    "    x = a + min(minDP[0], minDP[1])\n",
    "    y = b + min(minDP[0], minDP[1], minDP[2])\n",
    "    z = c + min(minDP[1], minDP[2])\n",
    "    minDP[0] = x\n",
    "    minDP[1] = y \n",
    "    minDP[2] = z\n",
    "\n",
    "    x = a + max(maxDP[0], maxDP[1])\n",
    "    y = b + max(maxDP[0], maxDP[1], maxDP[2])\n",
    "    z = c + max(maxDP[1], maxDP[2])\n",
    "    maxDP[0] = x\n",
    "    maxDP[1] = y\n",
    "    maxDP[2] = z\n",
    "\n",
    "  print(max(maxDP), min(minDP))\n",
    "\n",
    "sol()"
   ]
  },
  {
   "cell_type": "markdown",
   "metadata": {},
   "source": [
    "### 풀이\n",
    "- maxDP, minDP를 각각 만들어서 이번에 i번째 수를 고를때 최대값/최대값을 구한다\n",
    "- 이전의 최대값/최소값을 이용해서 현재의 최대값/최소값을 구한다"
   ]
  }
 ],
 "metadata": {
  "language_info": {
   "name": "python"
  },
  "orig_nbformat": 4
 },
 "nbformat": 4,
 "nbformat_minor": 2
}
