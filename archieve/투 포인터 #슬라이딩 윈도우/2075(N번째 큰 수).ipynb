{
 "cells": [
  {
   "cell_type": "code",
   "execution_count": null,
   "metadata": {},
   "outputs": [],
   "source": [
    "import heapq, sys\n",
    "input = sys.stdin.readline\n",
    "N = int(input())\n",
    "H = [*map(int, input().split())] #min heap\n",
    "heapq.heapify(H)\n",
    "\n",
    "for _ in range(N-1):\n",
    "  for v in map(int, input().split()):\n",
    "    heapq.heappushpop(H, v)\n",
    "\n",
    "print(heapq.heappop(H))"
   ]
  },
  {
   "cell_type": "markdown",
   "metadata": {},
   "source": [
    "### 풀이\n",
    "- 매번 슬라이딩 때마다 N번째로 작은 수를 유지시키는 방법으로 Heap을 사용한다."
   ]
  }
 ],
 "metadata": {
  "language_info": {
   "name": "python"
  },
  "orig_nbformat": 4
 },
 "nbformat": 4,
 "nbformat_minor": 2
}
