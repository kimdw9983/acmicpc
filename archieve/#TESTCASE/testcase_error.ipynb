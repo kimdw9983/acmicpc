{
 "cells": [
  {
   "cell_type": "markdown",
   "metadata": {},
   "source": [
    "### Runtime error\n",
    "- NameError, IndexError 등 실행 중에 발생하는 에러\n",
    "- (Expected behavior) 에러가 발생하면, 에러 메시지를 출력하고, 붉은색으로 `[Runtime Error]`를 출력한다."
   ]
  },
  {
   "cell_type": "raw",
   "metadata": {},
   "source": [
    "Traceback (most recent call last):\n",
    "  File \"C:\\Codding\\acmicpc\\source\\test.py\", line 4, in <module>\n",
    "    print([\"\"][1])\n",
    "          ~~~~^^^\n",
    "IndexError: list index out of range\n",
    "Runtime Error"
   ]
  },
  {
   "cell_type": "code",
   "execution_count": null,
   "metadata": {},
   "outputs": [],
   "source": [
    "print([\"\"][1])"
   ]
  },
  {
   "cell_type": "markdown",
   "metadata": {},
   "source": [
    "### Compile Error\n",
    "- SyntaxError에서 발생하는 에러\n",
    "- (Expected behavior) 에러가 발생하면, 에러 메시지를 출력하고, 붉은색으로 `[Runtime Error]`를 출력한다."
   ]
  },
  {
   "cell_type": "raw",
   "metadata": {},
   "source": [
    "Traceback (most recent call last):\n",
    "  File \"C:\\Codding\\acmicpc\\wrapper.py\", line 37, in <module>\n",
    "    spec.loader.exec_module(module)\n",
    "  File \"C:\\Codding\\acmicpc\\source\\test.py\", line 1\n",
    "    8 0 0 0 0 0 0 0 0\n",
    "      ^\n",
    "SyntaxError: invalid syntax\n",
    "Compile Error"
   ]
  },
  {
   "cell_type": "code",
   "execution_count": null,
   "metadata": {},
   "outputs": [],
   "source": [
    "8 0 0 0 0 0 0 0 0"
   ]
  }
 ],
 "metadata": {
  "language_info": {
   "name": "python"
  }
 },
 "nbformat": 4,
 "nbformat_minor": 2
}
