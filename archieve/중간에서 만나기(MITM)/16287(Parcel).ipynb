{
 "cells": [
  {
   "attachments": {},
   "cell_type": "markdown",
   "metadata": {},
   "source": [
    "### 접근\n",
    "- 어떤 수 2개를 골라서 합이 n이 나오는 모든 조합을 기록하는 DP를 만든다.\n",
    "- DP의 인덱스끼리 더해서 w가 되는 경우가 존재하면, 그 숫자중에서 겹치는 숫자가 있는지 확인한다."
   ]
  },
  {
   "cell_type": "code",
   "execution_count": null,
   "metadata": {},
   "outputs": [],
   "source": [
    "import io, os, itertools\n",
    "input=io.BytesIO(os.read(0,os.fstat(0).st_size)).readline\n",
    "M, N = map(int, input().split())\n",
    "L = [*map(int, input().split())]\n",
    "\n",
    "DP = [[] for _ in range(M+1)] #2개를 골라서 그 합이 i가 되는 조합.\n",
    "for w in itertools.combinations(range(N), 2) :\n",
    "  sum = L[w[0]]+L[w[1]]\n",
    "  if sum >= M : continue\n",
    "  DP[sum].append(w)\n",
    "\n",
    "def sol() :\n",
    "  for i, v in enumerate(DP[:M//2+1]) :\n",
    "    if not v or not DP[M-i] : continue\n",
    "    for x in v :\n",
    "      for y in DP[M-i] : \n",
    "        x1, x2 = x\n",
    "        y1, y2 = y\n",
    "        if x1 != y1 and x1 != y2 and x2 != y1 and x2 != y2 :\n",
    "          print(\"YES\")\n",
    "          return\n",
    "  print(\"NO\")\n",
    "\n",
    "sol()"
   ]
  },
  {
   "attachments": {},
   "cell_type": "markdown",
   "metadata": {},
   "source": [
    "- 시간 초과가 났다. 조합을 기록하는 부분에서 시간이 오래걸린게 분명하다. 그렇다면 도대체 어떻게 중복을 확인한다는 것일까?\n",
    "\n",
    "### 풀이\n",
    "- 대략적인 DP의 접근은 맞았던 것 같다. 그러나 중복을 처리하는 부분에서 인사이트가 부족했다.\n",
    "- 모든 수가 중복하지 않는다.\n",
    "  - 어떤 $i, j$에 대해 $w = a_i + a_j$라고 해보자\n",
    "  - 이때 $j \\ne k$인 $k$에 대해, 항상 $w \\ne a_i + a_k$이 성립한다.\n",
    "    - 잘 이해가 안되는데 일단 그렇다고 해보자.\n",
    "  - 즉, 어떤 무게를 만들 수 있는 여러 인덱스 쌍이 있어도 그 인덱스들은 겹치지 않는다.\n",
    "    - 따라서 어떤 두 수의 합을 저장할 때 그 수가 여러개여도 한개만 저장하면 된다."
   ]
  },
  {
   "cell_type": "code",
   "execution_count": null,
   "metadata": {},
   "outputs": [],
   "source": [
    "import io, os, itertools\n",
    "input=io.BytesIO(os.read(0,os.fstat(0).st_size)).readline\n",
    "M, N = map(int, input().split())\n",
    "MAX = 200000\n",
    "L = [*map(int, input().split())]\n",
    "L.sort()\n",
    "\n",
    "DP = [[] for _ in range(MAX * 2 + 1)] #2개를 골라서 그 합이 i가 되는 조합.\n",
    "for w in itertools.combinations(range(N), 2) :\n",
    "  sum = L[w[0]]+L[w[1]]\n",
    "  # if sum >= M : continue #구하려는 합보다 커질경우\n",
    "  if DP[sum] : continue #해당 합이 이미 존재할 경우\n",
    "  DP[sum] = w\n",
    "\n",
    "def sol() :\n",
    "  # for i, v in enumerate(DP[:M//2]) :\n",
    "  #   if not v or not DP[M-i] : continue\n",
    "  #   x1, x2 = v\n",
    "  #   y1, y2 = DP[M-i]\n",
    "  #   if x1 != y1 and x1 != y2 and x2 != y1 and x2 != y2 :\n",
    "  #     print(\"YES\")\n",
    "  #     return\n",
    "  # print(\"NO\")\n",
    "  for i in range(N): \n",
    "    for j in range(i+1, N):\n",
    "      w = M - L[i] - L[j]\n",
    "      if w > 400000 or w < 0 or not DP[w] : continue\n",
    "      x1, x2 = DP[w]\n",
    "      if x1 != i and x1 != j and x2 != i and x2 != j :\n",
    "        print(\"YES\")\n",
    "        return\n",
    "  print(\"NO\")\n",
    "\n",
    "sol()"
   ]
  }
 ],
 "metadata": {
  "language_info": {
   "name": "python"
  },
  "orig_nbformat": 4
 },
 "nbformat": 4,
 "nbformat_minor": 2
}
