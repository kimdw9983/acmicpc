{
 "cells": [
  {
   "cell_type": "code",
   "execution_count": null,
   "metadata": {},
   "outputs": [],
   "source": [
    "import sys, io, os\n",
    "input=io.BytesIO(os.read(0,os.fstat(0).st_size)).readline\n",
    "\n",
    "N = int(input())\n",
    "X = [int(input()) for _ in range(N)] #i번째 개미의 남은 에너지\n",
    "G = [[] for _ in range(N+1)]\n",
    "L = [0] * (N+1)\n",
    "for _ in range(N-1) :\n",
    "  a, b, w = map(int, input().split())\n",
    "  G[a].append((b, w))\n",
    "  G[b].append((a, w))\n",
    "\n",
    "def dfs(G, P, L, W, root=1) :\n",
    "  vis = [False] * (N+1)\n",
    "  vis[1] = True\n",
    "  Q = [root]\n",
    "  l = 1\n",
    "  while Q :\n",
    "    nextQ = []\n",
    "    while Q:\n",
    "      u = Q.pop()\n",
    "      for v, w in G[u] :\n",
    "        if not vis[v] :\n",
    "          vis[v] = True\n",
    "          P[0][v] = u\n",
    "          W[0][v] = w\n",
    "          L[v] = l\n",
    "          nextQ.append(v)\n",
    "    Q = nextQ\n",
    "    l += 1\n",
    "\n",
    "MAX = 17\n",
    "W = [[0] * (N+1) for _ in range(MAX)] #W[i][j] : j의 2^i번째 까지 이동하는데 드는 에너지\n",
    "W[0][1] = 9999999999 #루프에서 더 올라가는거 방지(템플릿을 수정하는게 더 좋을듯)\n",
    "P = [[0] * (N+1) for _ in range(MAX)] #P[i][j] : j의 2^i번째 부모\n",
    "dfs(G, P, L, W)\n",
    "for i, l in enumerate(P[1:], 1) :\n",
    "  for j in range(N+1) :\n",
    "    tmp = P[i-1][j]\n",
    "    W[i][j] = W[i-1][j] + W[i-1][tmp]\n",
    "    l[j] = P[i-1][tmp]\n",
    "for x, w in enumerate(X) :\n",
    "  cur = x+1 #개미의 현재 위치\n",
    "  answer = -1\n",
    "  for i in range(MAX-1, -1, -1) :\n",
    "    if X[x] >= W[i][cur] : #남아있는 에너지가 더 높으면\n",
    "      X[x] -= W[i][cur] #에너지를 소모하고\n",
    "      cur = P[i][cur] #위치를 옮긴다.\n",
    "  else :\n",
    "    answer = 1\n",
    "  answer = cur\n",
    "  sys.stdout.write(str(answer) + '\\n')"
   ]
  },
  {
   "attachments": {},
   "cell_type": "markdown",
   "metadata": {},
   "source": [
    "### 아이디어\n",
    "- 에너지가 되는만큼 부모 동굴로 올라가면서 에너지를 뺀다.\n",
    "  - 이때 필요한 에너지의 양을 희소배열로 저장한다.\n",
    "\n",
    "### 정답 이후\n",
    "- 한번에 정답을 맞았다만, 템플릿이 아주 엉망이었다."
   ]
  }
 ],
 "metadata": {
  "language_info": {
   "name": "python"
  },
  "orig_nbformat": 4
 },
 "nbformat": 4,
 "nbformat_minor": 2
}
