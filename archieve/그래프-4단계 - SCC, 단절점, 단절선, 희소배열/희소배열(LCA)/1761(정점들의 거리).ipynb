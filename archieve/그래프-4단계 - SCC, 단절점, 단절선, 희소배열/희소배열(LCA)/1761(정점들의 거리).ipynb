{
 "cells": [
  {
   "attachments": {},
   "cell_type": "markdown",
   "metadata": {},
   "source": [
    "### 접근\n",
    "- 13511(트리와 쿼리2)의 하위호환 문제같다.\n",
    "- 트리에서 두 정점사이의 거리는 반드시 그것들의 공통조상을 거쳐가므로 공통조상 `x`을 찾고 `x`에서 두 정점사이의 거리를 구해 서로 더하면 그것이 답일 것이다."
   ]
  },
  {
   "cell_type": "code",
   "execution_count": null,
   "metadata": {},
   "outputs": [],
   "source": [
    "import sys, io, os\n",
    "input=io.BytesIO(os.read(0,os.fstat(0).st_size)).readline\n",
    "\n",
    "N = int(input())\n",
    "G = [[] for _ in range(N+1)]\n",
    "L = [0] * (N+1)\n",
    "for _ in range(N-1) :\n",
    "  a, b, w = map(int, input().split())\n",
    "  G[a].append((b, w))\n",
    "  G[b].append((a, w))\n",
    "\n",
    "def dfs(G, P, L, W, root=1) :\n",
    "  vis = [False] * (N+1)\n",
    "  vis[1] = True\n",
    "  Q = [root]\n",
    "  l = 1\n",
    "  while Q :\n",
    "    nextQ = []\n",
    "    while Q:\n",
    "      u = Q.pop()\n",
    "      for v, w in G[u] :\n",
    "        if not vis[v] :\n",
    "          vis[v] = True\n",
    "          P[0][v] = u\n",
    "          W[0][v] = w\n",
    "          L[v] = l\n",
    "          nextQ.append(v)\n",
    "    Q = nextQ\n",
    "    l += 1\n",
    "\n",
    "MAX = 16\n",
    "P = [[0] * (N+1) for _ in range(MAX)] #P[i][j] : j의 2^i번째 부모\n",
    "W = [[0] * (N+1) for _ in range(MAX)] #W[i][j] : j의 2^i번째 까지의 거리\n",
    "dfs(G, P, L, W)\n",
    "for i, l in enumerate(P[1:], 1) :\n",
    "  for j in range(N+1) :\n",
    "    tmp = P[i-1][j]\n",
    "    W[i][j] = W[i-1][j] + W[i-1][tmp]\n",
    "    l[j] = P[i-1][tmp]\n",
    "\n",
    "def dist() :\n",
    "  a, b = map(int, input().split())\n",
    "  if L[a] < L[b] :\n",
    "    a, b = b, a\n",
    "\n",
    "  a_l = 0 #a에서 LCA(a, b)까지의 거리\n",
    "  for i in range(MAX-1, -1, -1) :\n",
    "    if L[a] - L[b] >= (1 << i) :\n",
    "      a_l += W[i][a]\n",
    "      a = P[i][a]\n",
    "\n",
    "  b_l = 0\n",
    "  if a != b:\n",
    "    for i in range(MAX-1, -1, -1) :\n",
    "      if P[i][a] != -1 and P[i][a] != P[i][b] :\n",
    "        a_l += W[i][a]\n",
    "        b_l += W[i][b]\n",
    "        a = P[i][a]\n",
    "        b = P[i][b]\n",
    "    a_l += W[0][a]\n",
    "    b_l += W[0][b]\n",
    "\n",
    "  sys.stdout.write(str(a_l + b_l) + \"\\n\")\n",
    "\n",
    "for _ in range(int(input())) :\n",
    "  dist()"
   ]
  },
  {
   "attachments": {},
   "cell_type": "markdown",
   "metadata": {},
   "source": [
    "또 문안분이 될 뻔했다.\n",
    "- 가중치가 문제에 주워졌던 문제였다."
   ]
  }
 ],
 "metadata": {
  "language_info": {
   "name": "python"
  },
  "orig_nbformat": 4
 },
 "nbformat": 4,
 "nbformat_minor": 2
}
