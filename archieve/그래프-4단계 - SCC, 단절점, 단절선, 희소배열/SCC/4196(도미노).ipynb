{
 "cells": [
  {
   "attachments": {},
   "cell_type": "markdown",
   "metadata": {},
   "source": [
    "- `x, y`: `x`번 블록이 넘어지면 `y`번 블럭도 넘어진다.\n",
    "  - 항상 이런 부분에서 무섭다. 반대로 설정하면 어떡하지?\n",
    "  - 어쨋든 `x`, `y`는 `u` -> `v`로 보기로 했다. 반대로도 해볼 예정\n",
    "  - 초장부터 문제가 생겼다. 예제 입력의 1->2, 2->3만 쓰면 SCC가 하나도 없다. 무엇을 의미하는 것이지?\n",
    "    - 사실 이게 맞는것 같다. SCC일 필요가 없는데"
   ]
  },
  {
   "cell_type": "code",
   "execution_count": null,
   "metadata": {},
   "outputs": [],
   "source": [
    "import sys, os, io\n",
    "input=io.BytesIO(os.read(0,os.fstat(0).st_size)).readline\n",
    "\n",
    "def tarjan(G): #O(N+M)\n",
    "  SCC, S, P = [], [], []\n",
    "  D = [0] * len(G)\n",
    " \n",
    "  s = [*range(len(G))]\n",
    "  while s:\n",
    "    x = s.pop()\n",
    "    if x < 0:\n",
    "      d = D[~x] - 1\n",
    "      if P[-1] > d:\n",
    "        SCC.append(S[d:])\n",
    "        del S[d:], P[-1]\n",
    "        for x in SCC[-1]:\n",
    "          D[x] = -1\n",
    "    elif D[x] > 0:\n",
    "      while P[-1] > D[x]:\n",
    "        P.pop()\n",
    "    elif D[x] == 0:\n",
    "      S.append(x)\n",
    "      P.append(len(S))\n",
    "      D[x] = len(S)\n",
    "      s.append(~x)\n",
    "      s += G[x]\n",
    "  return SCC[::-1]\n",
    "\n",
    "def sol():\n",
    "  N, M = map(int, input().split())\n",
    "  G = [[] for _ in range(N)]\n",
    "  for _ in range(M):\n",
    "    u, v = map(int, input().split())\n",
    "    G[u-1].append(v-1)\n",
    "  \n",
    "  SCC = {}\n",
    "  for i, scc in enumerate(tarjan(G)): #O(1)만에 몇 번 SCC에 속하는지 찾을 수 있게 해싱한다. (O(N)\n",
    "    for v in scc:\n",
    "      SCC[v] = i \n",
    "  \n",
    "  IN = [0] * (i + 1) #i는 아낌없이 사용한다\n",
    "  for i, V in enumerate(G): #O(N+M)\n",
    "    for v in V:\n",
    "      if SCC[i] != SCC[v]: #외부의 SCC를 가리키고 있는 것이라면\n",
    "        IN[SCC[v]] += 1 #해당 SCC의 진입차수를 1 증가시킨다.\n",
    "  \n",
    "  sys.stdout.write(str(IN.count(0)) + '\\n') #진입차수가 0인 SCC의 개수를 센다.\n",
    "\n",
    "for _ in range(int(input())) :\n",
    "  sol()"
   ]
  }
 ],
 "metadata": {
  "language_info": {
   "name": "python"
  },
  "orig_nbformat": 4
 },
 "nbformat": 4,
 "nbformat_minor": 2
}
