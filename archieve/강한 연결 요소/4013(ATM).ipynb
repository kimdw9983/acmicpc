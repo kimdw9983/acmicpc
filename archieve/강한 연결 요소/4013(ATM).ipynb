{
 "cells": [
  {
   "attachments": {},
   "cell_type": "markdown",
   "metadata": {},
   "source": [
    "### 접근\n",
    "- 압축한 SCC를 기반으로 새로운 그래프를 구성한다.\n",
    "  - set을 사용하면 될 것 같다.\n",
    "- 진입 차수가 0인 노드를 시작점으로 가중치를 더한다.\n",
    "  - SCC단위로 가중치의 합을 미리 구해놓는다.\n",
    "- 이런, 문제를 읽어보니 시작지점은 정해져있었다.\n",
    "  - 이러면 시작 지점을 기준으로 위상정렬 하면 될 것 같다\n",
    "- 레스토링; 아무 레스토랑 중 하나를 그래프의 마지막으로 정할 수 있다는 의미인 것 같다.\n",
    "- (고려) 최종 진입 지점이 레스토랑이 아니라면 그곳을 정답에 포함시키면 안된다.\n",
    "- (고려) 시작지점의 진입 차수가 0이 아닐 수 있다. 이러면 위상정렬할 때 어떻게 되는걸까?\n",
    "  - 처음의 아이디어를 이용하고 위상정렬 대신 BFS로 구현해보는 것으로 접근해본다. 진입차수는 계산하지 않는다."
   ]
  },
  {
   "attachments": {
    "image.png": {
     "image/png": "[encoded data removed]"
    }
   },
   "cell_type": "markdown",
   "metadata": {},
   "source": [
    "![image.png](attachment:image.png)"
   ]
  },
  {
   "cell_type": "code",
   "execution_count": null,
   "metadata": {},
   "outputs": [],
   "source": [
    "import os, io\n",
    "input=io.BytesIO(os.read(0,os.fstat(0).st_size)).readline\n",
    "\n",
    "def tarjan(G): #O(N+M)\n",
    "  SCC, S, P = [], [], []\n",
    "  D = [0] * len(G)\n",
    " \n",
    "  s = [*range(len(G))]\n",
    "  while s:\n",
    "    x = s.pop()\n",
    "    if x < 0:\n",
    "      d = D[~x] - 1\n",
    "      if P[-1] > d:\n",
    "        SCC.append(S[d:])\n",
    "        del S[d:], P[-1]\n",
    "        for x in SCC[-1]:\n",
    "          D[x] = -1\n",
    "    elif D[x] > 0:\n",
    "      while P[-1] > D[x]:\n",
    "        P.pop()\n",
    "    elif D[x] == 0:\n",
    "      S.append(x)\n",
    "      P.append(len(S))\n",
    "      D[x] = len(S)\n",
    "      s.append(~x)\n",
    "      s += G[x]\n",
    "  return SCC[::-1]\n",
    "\n",
    "def sol():\n",
    "  N, M = map(int, input().split())\n",
    "  G = [[] for _ in range(N)]\n",
    "  for _ in range(M):\n",
    "    u, v = map(int, input().split())\n",
    "    G[u-1].append(v-1)\n",
    "  \n",
    "  W = [0] * N\n",
    "  for i in range(N):\n",
    "    W[i] = int(input())\n",
    "\n",
    "  SCC = {}\n",
    "  for i, scc in enumerate(tarjan(G)): #O(1)만에 몇 번 SCC에 속하는지 찾을 수 있게 해싱한다. (O(N)\n",
    "    for v in scc:\n",
    "      SCC[v] = i \n",
    "  \n",
    "  G2 = [set() for _ in range(i + 1)]\n",
    "  for i, V in enumerate(G): \n",
    "    for v in V:\n",
    "      if SCC[i] != SCC[v]: #즉 i번째 정점이 속한 압축 SCC 번호 a에서 v번째 정점이 속한 압축 SCC 번호로 가는 간선b가 있다면 = a -> b로 가는 간선\n",
    "        G2[SCC[i]].add(SCC[v])\n",
    "  print(G2)\n",
    "  \n",
    "\n",
    "  S, p = map(int, input().split())\n",
    "  P = [*map(int, input().split())]\n",
    "\n",
    "sol()"
   ]
  }
 ],
 "metadata": {
  "language_info": {
   "name": "python"
  },
  "orig_nbformat": 4
 },
 "nbformat": 4,
 "nbformat_minor": 2
}
