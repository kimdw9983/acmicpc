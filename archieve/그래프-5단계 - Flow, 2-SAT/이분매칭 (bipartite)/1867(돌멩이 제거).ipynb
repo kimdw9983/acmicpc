{
 "cells": [
  {
   "cell_type": "code",
   "execution_count": null,
   "metadata": {},
   "outputs": [],
   "source": [
    "import io, os\n",
    "input=io.BytesIO(os.read(0,os.fstat(0).st_size)).readline\n",
    "\n",
    "def bipartite(G, N, M) :\n",
    "  def dfs(x) :\n",
    "    if vis[x]: return False\n",
    "\n",
    "    vis[x] = True\n",
    "    for y in G[x]:\n",
    "      if sel[y] == -1 :\n",
    "        sel[y] = x\n",
    "        return True\n",
    "      \n",
    "    for y in G[x] :\n",
    "      if dfs(sel[y]):\n",
    "        sel[y] = x\n",
    "        return True\n",
    "    return False\n",
    "\n",
    "  sel = [-1] * M\n",
    "  res = 0\n",
    "  for i in range(N) :\n",
    "    vis = [False] * N\n",
    "    if dfs(i) : res += 1\n",
    "  return res, sel\n",
    "\n",
    "def sol() :\n",
    "  N, K = map(int, input().split())\n",
    "  G = [[] for _ in range(N)]\n",
    "\n",
    "  for _ in range(K) :\n",
    "    a, b = map(int, input().split())\n",
    "    G[a-1].append(b-1)\n",
    "\n",
    "  res, sel = bipartite(G, N, N)\n",
    "  print(res)\n",
    "\n",
    "sol()"
   ]
  },
  {
   "cell_type": "markdown",
   "metadata": {},
   "source": [
    "### 자력솔\n",
    "- 쾨닉의 정리는 어느정도 알고 있었다.\n",
    "  - |최소 정점 커버| = |최대 매칭|\n",
    "- 이 문제를 최대 매칭 문제로 변환해서 풀 수 있다.\n",
    "  - `G(a, b)`에 돌멩이가 놓여져 있다는 내용 대신, 돌멩이 `a`번과 `b`번이 짝지어져 있다고 해석했을 때, ..."
   ]
  }
 ],
 "metadata": {
  "language_info": {
   "name": "python"
  },
  "orig_nbformat": 4
 },
 "nbformat": 4,
 "nbformat_minor": 2
}
