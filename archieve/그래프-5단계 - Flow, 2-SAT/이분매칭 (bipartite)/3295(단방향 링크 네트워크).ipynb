{
 "cells": [
  {
   "cell_type": "code",
   "execution_count": null,
   "metadata": {},
   "outputs": [],
   "source": [
    "def bipartite(G, N, M) :\n",
    "  def dfs(x) :\n",
    "    if vis[x]: return False\n",
    "\n",
    "    vis[x] = True\n",
    "    for y in G[x]:\n",
    "      if sel[y] == -1 :\n",
    "        sel[y] = x\n",
    "        return True\n",
    "      \n",
    "    for y in G[x] :\n",
    "      if dfs(sel[y]):\n",
    "        sel[y] = x\n",
    "        return True\n",
    "    return False\n",
    "\n",
    "  sel = [-1] * N\n",
    "  res = 0\n",
    "  for i in range(N) :\n",
    "    vis = [False] * N\n",
    "    res += dfs(i)\n",
    "  return res, sel\n",
    "\n",
    "def sol() :\n",
    "  N, M = map(int, input().split())\n",
    "  G = [[] for _ in range(N)]\n",
    "  for _ in range(M) :\n",
    "    u, v = map(int, input().split())\n",
    "    G[u].append(v)\n",
    "  res, sel = bipartite(G, N, M)\n",
    "  return res\n",
    "\n",
    "ans = []\n",
    "for _ in range(int(input())) :\n",
    "  ans.append(sol())\n",
    "\n",
    "print(*ans, sep='\\n')"
   ]
  },
  {
   "cell_type": "markdown",
   "metadata": {},
   "source": [
    "- 템플릿 이슈로 뒤지게 오래걸렸다.\n",
    "### 풀이\n",
    "- 모든 그래프 연결은 링 또는 선형 배열로 이루어져있다고 볼 수 있고, 서브 시스템이 공통된 노드를 공유할 수 없다.\n",
    "  - 따라서 각 정점에서의 진출/진입 차수가 최대 1이라는 의미이다. \n",
    "- 위 조건을 따르는 알고리즘은 이분매칭."
   ]
  }
 ],
 "metadata": {
  "language_info": {
   "name": "python"
  }
 },
 "nbformat": 4,
 "nbformat_minor": 2
}
