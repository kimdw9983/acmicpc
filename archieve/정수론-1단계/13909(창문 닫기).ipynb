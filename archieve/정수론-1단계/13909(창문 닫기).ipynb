{
 "cells": [
  {
   "attachments": {},
   "cell_type": "markdown",
   "metadata": {},
   "source": [
    "# 정답 함수(N^2)"
   ]
  },
  {
   "cell_type": "code",
   "execution_count": 1,
   "metadata": {},
   "outputs": [],
   "source": [
    "def answer(N) :\n",
    "  l = [False] * (N + 1)\n",
    "  for i in range(1, N+1):\n",
    "    for j in range(i, N+1, i):\n",
    "      l[j] = not l[j]\n",
    "  print(len([x for x in l if x]))"
   ]
  },
  {
   "attachments": {},
   "cell_type": "markdown",
   "metadata": {},
   "source": [
    "# 제출한 함수(N ^ 0.5)"
   ]
  },
  {
   "cell_type": "code",
   "execution_count": null,
   "metadata": {},
   "outputs": [],
   "source": [
    "N = int(input())\n",
    "def res(x):\n",
    "  i = 1\n",
    "  a = 3\n",
    "  sum = 0\n",
    "  while True:\n",
    "    sum += a\n",
    "    if sum >= x: return i\n",
    "    a += 2\n",
    "    i += 1\n",
    "print(res(N))"
   ]
  },
  {
   "attachments": {},
   "cell_type": "markdown",
   "metadata": {},
   "source": [
    "# 유사함수(log N)\n",
    "- https://www.geeksforgeeks.org/square-root-of-an-integer/\n",
    "- exp(log(x) / 2) 이므로 O(1)일 수도 있음\n",
    "- 오차가 존재하는 유사함수이나, 입력 범위가 충분히 낮아 항상 정답"
   ]
  },
  {
   "cell_type": "code",
   "execution_count": 3,
   "metadata": {},
   "outputs": [
    {
     "name": "stdout",
     "output_type": "stream",
     "text": [
      "2\n"
     ]
    }
   ],
   "source": [
    "print(int(int(input())**.5))"
   ]
  }
 ],
 "metadata": {
  "kernelspec": {
   "display_name": "Python 3",
   "language": "python",
   "name": "python3"
  },
  "language_info": {
   "codemirror_mode": {
    "name": "ipython",
    "version": 3
   },
   "file_extension": ".py",
   "mimetype": "text/x-python",
   "name": "python",
   "nbconvert_exporter": "python",
   "pygments_lexer": "ipython3",
   "version": "3.11.0"
  },
  "orig_nbformat": 4
 },
 "nbformat": 4,
 "nbformat_minor": 2
}
