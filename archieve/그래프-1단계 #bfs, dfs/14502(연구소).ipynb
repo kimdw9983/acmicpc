{
 "cells": [
  {
   "attachments": {},
   "cell_type": "markdown",
   "metadata": {},
   "source": [
    "### 접근\n",
    "- 알고 있던 유형의 문제는 아니였다\n",
    "- 풀이가 생각이 나지 않아서 분류를 봤더니 브루트포스가 있다. \n",
    "  - 벽을 세우는 모든 경우의 수를 고려해본다고 생각해보자.\n",
    "  - 맵의 크기는 최대 8 * 8이므로 64C3의 경우의 수를 모두 구해도 64 * 63 * 62 = 250,488개이다. 따라서 브루트포스로 풀어도 된다고 생각한다.\n",
    "  - 시간 복잡도가 이 문제를 푸는 열쇠였던거 같다.\n",
    "\n",
    "### 풀이\n",
    "- 벽을 세울 수 있는 모든 경우의 수를 구한다.\n",
    "- 벽을 세운 후 바이러스를 퍼트린다.\n",
    "- (N * M)의 공간에서 가벽을 세우는 조합은 $\\dbinom {N*M}{3}$ 으로 나온걸 N과 M의 몫과 나머지로 구현하면 될 듯.\n",
    "\n",
    "### 고민\n",
    "- 그래프 탐색에서 G는 vis로도 사용해야 한다. 그렇다면 매번마다 G를 깊은 복사 해야함을 의미할까?\n",
    "  - 챗봇이 보여준 구현은 원본 그래프에 가벽을 세웠다가 다시 허무는 방식이였다. 그러면 바이러스가 퍼진것도 다르게 구현해야겠다.\n",
    "    - 원본 바이러스가 2, 원본벽이 1이니, 가벽은3, 퍼진파이러스는 4로 표시한다."
   ]
  },
  {
   "cell_type": "code",
   "execution_count": null,
   "metadata": {},
   "outputs": [],
   "source": [
    "import sys, itertools\n",
    "input= sys.stdin.readline\n",
    "N, M = map(int, input().split())\n",
    "G = []\n",
    "for _ in range(N) :\n",
    "  G.append([*map(int, input().split())])\n",
    "\n",
    "def trav(G, s, N, M) : \n",
    "  Q = s\n",
    "  while Q :\n",
    "    x, y = Q.pop()\n",
    "\n",
    "    for dx, dy in [(0, 1), (1, 0), (0, -1), (-1, 0)] :\n",
    "      nx = x + dx\n",
    "      ny = y + dy\n",
    "\n",
    "      if not (0 <= nx < N and 0 <= ny < M): continue\n",
    "      if G[nx][ny]: continue\n",
    "\n",
    "      G[nx][ny] = 4 #퍼진 바이러스\n",
    "      Q.append((nx, ny)) \n",
    "\n",
    "_S = []\n",
    "for i, l in enumerate(G) :\n",
    "  for j, v in enumerate(l) :\n",
    "    if v == 2 :\n",
    "      _S += [(i, j)]\n",
    "\n",
    "answer = 0\n",
    "for w in itertools.combinations(range(N*M), 3) :\n",
    "  W = [(i//M, i%M) for i in w]\n",
    "  invalid = False #빈공간이 아닌 공간에 가벽을 채우려고 하는 경우를 제외\n",
    "  for x, y in W :\n",
    "    if G[x][y] : invalid = True\n",
    "  if invalid : continue\n",
    "\n",
    "  for x, y in W : #예쁜 구현은 갖다 버린다.\n",
    "    G[x][y] = 3 #가벽\n",
    "  \n",
    "  trav(G, _S[:], N, M)\n",
    "\n",
    "  cnt = 0\n",
    "  for l in G :\n",
    "    for j, v in enumerate(l) :\n",
    "      if not v : cnt += 1 #안전구역의 개수\n",
    "      if v in (3, 4) : l[j] = 0 #가벽과 퍼진 바이러스를 제거\n",
    "  answer = max(answer, cnt)\n",
    "\n",
    "print(answer)"
   ]
  },
  {
   "attachments": {},
   "cell_type": "markdown",
   "metadata": {},
   "source": [
    "뭔놈의 코파일럿이 자꾸 N*N 이라고 해서 이상한 버그가 있었다. 생각해내서 다행이지."
   ]
  }
 ],
 "metadata": {
  "language_info": {
   "name": "python"
  },
  "orig_nbformat": 4
 },
 "nbformat": 4,
 "nbformat_minor": 2
}
