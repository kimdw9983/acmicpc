{
 "cells": [
  {
   "cell_type": "code",
   "execution_count": null,
   "metadata": {},
   "outputs": [],
   "source": [
    "import io, os, sys\n",
    "input=io.BytesIO(os.read(0,os.fstat(0).st_size)).readline\n",
    "\n",
    "def validate(n, G): #모든 정점의 차수가 짝수인지 확인\n",
    "  global start\n",
    "  for i, l in enumerate(G) :\n",
    "    cnt = 0\n",
    "    for v in l : #연결된 간선의 개수를 세면 된다\n",
    "      cnt += v \n",
    "    if cnt & 1: return False #간선의 개수가 홀수\n",
    "    if start == 0 and cnt > 0 : start = i\n",
    "\n",
    "  return True\n",
    "\n",
    "start = 0\n",
    "def sol() :\n",
    "  def dfs(u) :\n",
    "    S = [u]\n",
    "    while S :\n",
    "      u = S[-1]\n",
    "      for v, x in enumerate(G[u]):\n",
    "        if x > 0 :\n",
    "          G[u][v] -= 1\n",
    "          G[v][u] -= 1\n",
    "          S.append(v)\n",
    "          break\n",
    "      else :\n",
    "        S.pop()\n",
    "        ans.append(u)\n",
    "\n",
    "  N = int(input())\n",
    "  G = [[*map(int, input().split())] for _ in range(N)]\n",
    "  ans = []\n",
    "  if not validate(N, G) :\n",
    "    return sys.stdout.write(\"-1\")\n",
    "  dfs(start)\n",
    "\n",
    "  sys.stdout.write(' '.join(map(lambda x: str(x+1), ans)))\n",
    "sol()"
   ]
  },
  {
   "cell_type": "markdown",
   "metadata": {},
   "source": [
    "### 풀이\n",
    "- 오일러 회로를 출력하는 문제.\n",
    "- 지옥의 TLE를 맛보기 전에 입력 최적화와 재귀함수의 Iterative화를 통해 풀어냈다. "
   ]
  }
 ],
 "metadata": {
  "language_info": {
   "name": "python"
  },
  "orig_nbformat": 4
 },
 "nbformat": 4,
 "nbformat_minor": 2
}
