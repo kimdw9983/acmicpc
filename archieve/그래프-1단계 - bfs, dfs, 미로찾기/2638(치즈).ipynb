{
 "cells": [
  {
   "cell_type": "code",
   "execution_count": null,
   "metadata": {},
   "outputs": [],
   "source": [
    "import io, os\n",
    "input = io.BytesIO(os.read(0, os.fstat(0).st_size)).readline\n",
    "\n",
    "N, M = map(int, input().split())\n",
    "G = [[*map(int, input().split())] for _ in range(N)]\n",
    "# 0: 공기\n",
    "# 1: 치즈\n",
    "# 2: 외부 공기\n",
    "\n",
    "def trav(G, s, N, M) :\n",
    "  Q = [s]\n",
    "  while Q :\n",
    "    x, y = Q.pop()\n",
    "    \n",
    "    for dx, dy in [(0, 1), (1, 0), (0, -1), (-1, 0)] :\n",
    "      nx = x + dx\n",
    "      ny = y + dy\n",
    "\n",
    "      if not (0 <= nx < N and 0 <= ny < M): continue\n",
    "      if G[nx][ny] : continue\n",
    "\n",
    "      G[nx][ny] = 2\n",
    "      Q.append((nx, ny)) \n",
    "\n",
    "def melt(G, N, M, Q: list) :\n",
    "  res=[]\n",
    "  while Q :\n",
    "    x, y = Q.pop()\n",
    "    cnt = 0\n",
    "    for dx, dy in [(0, 1), (1, 0), (0, -1), (-1, 0)] :\n",
    "      nx = x + dx\n",
    "      ny = y + dy\n",
    "\n",
    "      if not (0 <= nx < N and 0 <= ny < M): continue\n",
    "      if G[nx][ny] == 2 : cnt += 1\n",
    "\n",
    "    if cnt >= 2 : res.append((x, y))\n",
    "  return res\n",
    "\n",
    "ans = 0\n",
    "while True:\n",
    "  trav(G, (0, 0), N, M)\n",
    "  cheese = [(i, j) for i in range(N) for j in range(M) if G[i][j] == 1]\n",
    "  \n",
    "  if not cheese :\n",
    "    print(ans)\n",
    "    break\n",
    "  ans += 1\n",
    "  res = melt(G, N, M, cheese)\n",
    "  for x, y in res :\n",
    "    G[x][y] = 0\n",
    "\n",
    "  for x, l in enumerate(G) :\n",
    "    for y, v in enumerate(l) :\n",
    "      if v == 2 : G[x][y] = 0"
   ]
  },
  {
   "attachments": {},
   "cell_type": "markdown",
   "metadata": {},
   "source": [
    "### 풀이\n",
    "- 외부임이 보장되는 0,0부터 외부를 탐색하는 BFS를 진행하고 외부와 맞닿은 곳이 2개 이상이면 녹게 하는 과정을 반복해서 그 숫자를 출력하도록 했다.\n",
    "- 외부 판단하는 알고리즘을 좀더 개선하면 더 빨랐을지도"
   ]
  }
 ],
 "metadata": {
  "language_info": {
   "name": "python"
  },
  "orig_nbformat": 4
 },
 "nbformat": 4,
 "nbformat_minor": 2
}
