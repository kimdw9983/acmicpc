{
 "cells": [
  {
   "cell_type": "code",
   "execution_count": null,
   "metadata": {},
   "outputs": [],
   "source": [
    "import io, os\n",
    "input=io.BytesIO(os.read(0,os.fstat(0).st_size)).readline\n",
    "N, M = map(int, input().split())\n",
    "G = [[] for _ in range(N)]\n",
    "for _ in range(M):\n",
    "  a, b = map(int, input().split())\n",
    "  G[a-1].append(b-1)\n",
    "  G[b-1].append(a-1)\n",
    "\n",
    "def bfs(G, s):\n",
    "  vis = [False] * N\n",
    "  vis[s] = True\n",
    "  Q = [s]\n",
    "  res = 0\n",
    "  level = 1\n",
    "  while Q:\n",
    "    nextQ = []\n",
    "    while Q :\n",
    "      u = Q.pop()\n",
    "      for v in G[u]:\n",
    "        if vis[v]: continue\n",
    "        vis[v] = True\n",
    "        res += level\n",
    "        nextQ.append(v)\n",
    "    Q = nextQ\n",
    "    level += 1\n",
    "  return res\n",
    "\n",
    "answer = 0\n",
    "lowest = 9999999999\n",
    "for i in range(N):\n",
    "  res = bfs(G, i)\n",
    "  if lowest > res :\n",
    "    answer = i + 1\n",
    "    lowest = res\n",
    "\n",
    "print(answer)"
   ]
  },
  {
   "cell_type": "markdown",
   "metadata": {},
   "source": [
    "bfs하면서 각 정점사이의 거리를 누적시킨것이 정답이다."
   ]
  }
 ],
 "metadata": {
  "language_info": {
   "name": "python"
  },
  "orig_nbformat": 4
 },
 "nbformat": 4,
 "nbformat_minor": 2
}
