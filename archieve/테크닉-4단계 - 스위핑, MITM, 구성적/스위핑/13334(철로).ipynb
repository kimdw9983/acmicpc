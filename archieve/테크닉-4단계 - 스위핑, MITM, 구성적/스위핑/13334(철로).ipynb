{
 "cells": [
  {
   "attachments": {},
   "cell_type": "markdown",
   "metadata": {},
   "source": [
    "### 접근\n",
    "- n이 10만이므로 O(n^2)으로 풀면 안될 것 같다.\n",
    "  - 이분탐색?\n",
    "- 시작선에서 추가했다가 끝선에서 제거하는 방식을 생각했다.\n",
    "  - 근데 어디와 연결돼있는지의 정보를 어떻게 해야 할까\n",
    "  - 선분이 짧을수록 답이 더 빨리 줄어든다.\n",
    "- 시작점을 정해놓고 끝점이 `시작점 + 철로` 이하인 인덱스를 이분탐색 찾는다. `bisect_right`\n",
    "  - 정렬을 끝점 오름차순 -> 시작점 오름차순으로 한다\n",
    "  - 시작점 `i`를 고를 때 저장하고 최대 끝점을 찾았을때의 인덱스`j`의 차이 만큼이 정답의 후보일 것이다.\n",
    "  - (문제점) 그렇게 찾은 집의 길이가 `d`를 넘어갈 수 있다.\n",
    "    - 애초에 길이차이가 `d`를 넘기는 것을 처음부터 빼버린다면?\n",
    "    - 틀렸다. 반례는 d=50 / 15 50, 35 40, 15 45, ... 라고 했을때 35를 기준으로 이분탐색을 하면 15 45라는 범위에 없는 선분을 정답에 포함하게 된다. 따라서 틀림.\n",
    "\n",
    "### 힌트\n",
    "- 우선순위 큐, 정렬"
   ]
  },
  {
   "cell_type": "code",
   "execution_count": null,
   "metadata": {},
   "outputs": [],
   "source": [
    "import io, os, heapq\n",
    "input=io.BytesIO(os.read(0,os.fstat(0).st_size)).readline\n",
    "N = int(input())\n",
    "L = []\n",
    "sorted = lambda a, b: (b, a) if a > b else (a, b)\n",
    "for _ in range(N):\n",
    "  L.append(sorted(*map(int, input().split())))\n",
    "d = int(input())\n",
    "L.sort(key=lambda x: x[1])\n",
    "\n",
    "answer = 0 \n",
    "q = [L[0][0]] #철로 범위 안에 포함되는 지점\n",
    "for s, e in L[1:] :\n",
    "  if e - s > d: continue\n",
    "  while q and q[0] < e - d : #지점의 시작점이 철로의 시작점보다 왼쪽에 있으면, 있는만큼 제거\n",
    "    heapq.heappop(q)\n",
    "  else:\n",
    "    heapq.heappush(q, s)\n",
    "  answer = max(answer, len(q))\n",
    "\n",
    "print(answer)"
   ]
  },
  {
   "attachments": {},
   "cell_type": "markdown",
   "metadata": {},
   "source": [
    "### 풀이\n",
    "- 집의 끝점을 기준으로 정렬하여 철로를 왼쪽으로 지으면서 집의 시작점을 우선순위 큐에 넣는다.\n",
    "- 우선순위 큐를 이용해 집의 시작점이 철로범위보다 왼쪽으로 가는 집들을 제외시키는 것으로 철로의 길이를 반영시킨다.\n",
    "- 집을 순회할 때마다 우선순위 큐의 길이가 정답의 후보이다.\n",
    "\n",
    "### 배운 점\n",
    "- 두개의 정렬 기준이 있을 때 우선순위 큐를 이용하여 일정 구간안에 들어아 하는 숫자들을 관리할 수 있다."
   ]
  }
 ],
 "metadata": {
  "language_info": {
   "name": "python"
  },
  "orig_nbformat": 4
 },
 "nbformat": 4,
 "nbformat_minor": 2
}
