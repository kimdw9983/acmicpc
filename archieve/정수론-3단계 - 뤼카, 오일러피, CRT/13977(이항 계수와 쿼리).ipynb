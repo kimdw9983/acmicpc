{
 "cells": [
  {
   "cell_type": "code",
   "execution_count": null,
   "metadata": {},
   "outputs": [],
   "source": [
    "import io, os, sys\n",
    "input=io.BytesIO(os.read(0,os.fstat(0).st_size)).readline\n",
    "\n",
    "def gnCr(max_n, mod=10**9 + 7):\n",
    "  max_n = min(max_n, mod - 1)\n",
    "\n",
    "  fact, inv_fact = [0] * (max_n + 1), [0] * (max_n + 1)\n",
    "  fact[0] = 1\n",
    "  for i in range(max_n):\n",
    "    fact[i + 1] = fact[i] * (i + 1) % mod\n",
    "\n",
    "  inv_fact[-1] = pow(fact[-1], mod - 2, mod)\n",
    "  for i in reversed(range(max_n)):\n",
    "    inv_fact[i] = inv_fact[i + 1] * (i + 1) % mod\n",
    "\n",
    "  def nCr(n, r):\n",
    "    res = 1\n",
    "    while n or r:\n",
    "      a, b = n % mod, r % mod\n",
    "      if a < b: return 0\n",
    "      res = res * fact[a] % mod * inv_fact[b] % mod * inv_fact[a - b] % mod\n",
    "      n //= mod\n",
    "      r //= mod\n",
    "    return res\n",
    "\n",
    "  return nCr\n",
    "\n",
    "def sol() :\n",
    "  M = int(input())\n",
    "  nCr = gnCr(4000000)\n",
    "\n",
    "  ans = []\n",
    "  for _ in range(M) :\n",
    "    N, K = map(int, input().split())\n",
    "    ans.append(nCr(N, K))\n",
    "\n",
    "  sys.stdout.write('\\n'.join(map(str, ans)))\n",
    "\n",
    "sol()"
   ]
  }
 ],
 "metadata": {
  "language_info": {
   "name": "python"
  }
 },
 "nbformat": 4,
 "nbformat_minor": 2
}
