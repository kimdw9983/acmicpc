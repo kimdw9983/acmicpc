{
 "cells": [
  {
   "cell_type": "markdown",
   "metadata": {},
   "source": [
    "### 풀이\n",
    "- 이항계수 수식은 다음과 같다\n",
    "  - $\\binom{n}{r} = \\frac {n!}{r!(n-r)!}$\n",
    "- 13977(이항 계수와 쿼리)에서도 살펴봤지만, 최대 $n$ 의 팩토리얼까지 미리 구해두는 방식으로 풀 수 있다.\n",
    "- 그런데, `gnCr`은 사용할 수 없다. 역원을 사용하는 특성상 $p$ 가 소수여야 하기 때문. 문제의 $p$ 인 $m$ 은 소수가 아닐 수 있다.\n",
    "- 2004(조합 0의 개수) 의 확장인 문제이다. \n",
    "  - 0의 개수라 함은 팩토리얼을 구성하는 수 중에서, 10으로 나뉘어 떨어지는 수의 개수를 세는 것과 같다.\n",
    "  - 이는 곧 10의 소인수인 2와 5의 개수를 구하고, 2의 배수이면서 5의 배수인 수의 개수, 즉, 둘 중에 더 작은 개수를 구하면 된다.\n",
    "  - 팩토리얼을 구할 때, 통분을 하면 그 수가 없어지는 것과 같다. 그걸 고려한 개수 공식은 다음과 같다.\\\n",
    "  $\\binom{n}{r}$ 에 대한 소수 $p$ 의 개수 $k$ 는 다음과 같다.\n",
    "  - $k = {n \\over p} - {r \\over p} - {(n-r) \\over p}$\n",
    "    - $p$ 는 소수이다. 그리고 2와 5만 구하면 됐었다.\n",
    "    - 이 때 소수 $p$ 에 대해 어떤 항도 정수가 아니지 않다는 증명: https://kin.naver.com/qna/detail.nhn?d1id=11&dirId=1113&docId=53607443\n",
    "- 위의 공식을 조금 응용한다. 우선 개수를 세는 공식을 약간 확장해야 한다.\n",
    "  - $n!$ 에 곱해진 소수의 거듭제곱 꼴로 되어있는 수들도 올바르게 세어야 한다.\n",
    "  - 2로 예시를 든다면, $n!$ 에 대해 2의 배수를 세었다는 것은, $n!$ 에 2가 한 번 곱해진 수를 센 것이다.\n",
    "  - 그런데, $4, 8, 16, 32, \\cdots$ 와 같이 2의 거듭제곱 꼴로 되어있는 수들은 2가 여러 번 곱해진 수이다.\n",
    "  - 다시 표현해보자. 2의 배수를 세기전에는, $2^1$ 의 개수, $2^2$ 의 개수, $\\cdots 2^{log_2 n}$ 가 더해져 있는 형태이다.\n",
    "  - 그런데, $2^1$ 의 배수를 센 순간, $2^2$ 의 배수의 개수는 $2^1$ 의 배수의 개수로 reduce 된다.\n",
    "  - 나머지 거듭제곱 꼴들도 마찬가지이다. 마지막 항만 $2^{{log_2 n} - 1}$ 으로 감소한다.\n",
    "  - 이를 마지막 항이 전부 소모될 때 까지 반복할 수 있다.\n",
    "  - 소수 $p$ 에 대해, $n!$ 에서 $p$ 의 모든 거듭제골 꼴을 포함하는 개수를 세는 공식은 다음과 같다.\n",
    "  - $\\displaystyle {n \\over p} + {n \\over p^2} + \\cdots {n \\over p^{log_p n}} = \\sum_{i=1}^{log_p n} k_p$\n",
    "    - $k_p$ 는 $n!$ 에서 소수 $p$ 의 개수\n",
    "- 이제 $n$ 까지의 소수를 구하면 된다. 에라토스테네스의 체를 사용하면 된다.\n",
    "  - $n$ 까지의 소수를 모은 집합을 $E$ 라고 할 때 각 수가 더해진 개수는\n",
    "  - $\\displaystyle \\sum_{p \\in E} \\sum_{i=1}^{log_p n} k_p$\n",
    "  - 위에껀 사실 구할필욘 없다. 이항계수의 값을 출력해야 하니까.\n",
    "  - $p \\in E$ 에 대해서 각각 몇 개있는지만 세두면 된다."
   ]
  },
  {
   "cell_type": "code",
   "execution_count": null,
   "metadata": {},
   "outputs": [],
   "source": [
    "import math\n",
    "def sieve(n):\n",
    "  if n < 2: return set()\n",
    "  n += 1\n",
    "  P = [1] * (n//2)\n",
    "  for i in range(3, math.isqrt(n) + 1, 2):\n",
    "    if P[i//2]: P[i**2//2::i] = [0]*((n-i**2-1)//(2*i) + 1)\n",
    "\n",
    "  return [2] + [2*i+1 for i in range(1, n//2) if P[i]]\n",
    "\n",
    "def sol() :\n",
    "  N, K, M = map(int, input().split())\n",
    "  S = sieve(N)\n",
    "  cnt = [0] * len(S)\n",
    "  \n",
    "  for i, p in enumerate(S) :\n",
    "    j = p\n",
    "    while j <= N :\n",
    "      cnt[i] += ((N // j) - (K // j) - ((N-K) // j))\n",
    "      j *= p\n",
    "\n",
    "  ans = 1\n",
    "  for i, c in enumerate(cnt) :\n",
    "    for _ in range(c) :\n",
    "      ans = (ans * S[i]) % M\n",
    "      if ans == 0 : return print(0)\n",
    "  print(ans)\n",
    "\n",
    "sol()"
   ]
  },
  {
   "cell_type": "markdown",
   "metadata": {},
   "source": [
    "- 왤케 많아"
   ]
  }
 ],
 "metadata": {
  "language_info": {
   "name": "python"
  }
 },
 "nbformat": 4,
 "nbformat_minor": 2
}
