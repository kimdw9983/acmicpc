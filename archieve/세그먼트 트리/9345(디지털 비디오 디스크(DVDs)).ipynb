{
 "cells": [
  {
   "attachments": {},
   "cell_type": "markdown",
   "metadata": {},
   "source": [
    "### 아이디어\n",
    "- 구간 합 트리를 이용해서 풀면 될 것 같다.\n",
    "- 1번 쿼리를 하는데에 있어, [a, b] 구간 사이에 모든 DVD가 존재한다면, a에서 b까지 1씩 증가하면서 누적된 값이 나올 것이다.\n",
    "  - ex) Q2(3, 5) => 3 + 4 + 5 = 12 (DVD가 존재하는 상태)\n",
    "- 매번 sum(range(a, b+1))을 할 순 없을테니, 세그트리를 한개 더 만들어놓아서 그것과 비교하면 될 것 같다.\n",
    "- 0-indexed 문제임에 유의\n",
    "\n",
    "### 반례\n",
    "- 2 1 3 5 4 인 상태라고 했을 때 Q2(1, 3)는 YES라고 답할 것이다"
   ]
  }
 ],
 "metadata": {
  "language_info": {
   "name": "python"
  },
  "orig_nbformat": 4
 },
 "nbformat": 4,
 "nbformat_minor": 2
}
