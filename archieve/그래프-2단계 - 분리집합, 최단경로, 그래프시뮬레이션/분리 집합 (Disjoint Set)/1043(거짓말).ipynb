{
 "cells": [
  {
   "cell_type": "code",
   "execution_count": null,
   "metadata": {},
   "outputs": [],
   "source": [
    "import io, os\n",
    "input=io.BytesIO(os.read(0,os.fstat(0).st_size)).readline\n",
    "\n",
    "class DSU:\n",
    "  def __init__(self, n):\n",
    "    self.P = list(range(n))\n",
    "    self.s = [1] * n\n",
    "\n",
    "  def find(self, a):\n",
    "    _a = a\n",
    "    while a != self.P[a]:\n",
    "      a = self.P[a]\n",
    "    while _a != a:\n",
    "      self.P[_a], _a = a, self.P[_a]\n",
    "    return a\n",
    "\n",
    "  def union(self, a, b):\n",
    "    a, b = self.find(a), self.find(b)\n",
    "    if a != b:\n",
    "      if self.s[a] < self.s[b]:\n",
    "        a, b = b, a\n",
    "\n",
    "      self.P[b] = a\n",
    "      self.s[a] += self.s[b]\n",
    "\n",
    "def sol():\n",
    "  N, M = map(int, input().split())\n",
    "  dsu = DSU(N+1)\n",
    "  L = [*map(int, input().split())] #진실을 아는 사람들\n",
    "  if L[0] == 0 :\n",
    "    L = []\n",
    "  else :\n",
    "    for v in L[1:] :\n",
    "      dsu.union(0, v) #0 = 진실을 아는 사람들의 그룹\n",
    "\n",
    "  #파티에 있는 모든 사람이 진실을 아는 사람이 아니여야 cnt를 올린다.\n",
    "  L1 = []\n",
    "  for _ in range(M):\n",
    "    X = [*map(int, input().split())]\n",
    "    L1.append(X[1:])\n",
    "    if X[0] == 1 : continue\n",
    "    for v in X[2:] :\n",
    "      dsu.union(X[1], v)\n",
    "  \n",
    "  ans = 0\n",
    "  for X in L1 :\n",
    "    for x in X :\n",
    "      if dsu.find(x) == dsu.find(0) : break\n",
    "    else : #braek에 걸려서 나온 것이 아닐 때\n",
    "      ans += 1\n",
    "\n",
    "  print(ans)\n",
    "sol()\n"
   ]
  },
  {
   "cell_type": "markdown",
   "metadata": {},
   "source": [
    "### 자력솔\n",
    "- 분리 집합을 이용해서 푸는 문제.\n",
    "- 진실을 아는 사람들을 0과의 union한 것으로 정의해놓고, 파티 참석한 사람들끼리 union 시켜준다.\n",
    "  - 이때 참가한 사람이 1명이면 union할 사람이 없기때문에 pass한다.\n",
    "- 가능하면 거짓말을 하게 되므로, 먼저 일어난 파티에서 진실을 알고 있지 않았더라도 진실을 알고있는 사람과 한번이라도 파티에 끼게 될 예정이라면 거짓말을 할 수 없다.\n",
    "  - 따라서 입력이 들어왔을 때 바로 처리할 수 없고, 모든 파티를 전부 순회해서 union한 다음에\\\n",
    "  다시 순회하여 그 파티에 들어있는 사람들 각각마다 진실을 아는지 여부를 판단하고, 한명이라도 진실을 알고 있는 그룹에 있다면 `ans`를 올리지 않는다.\n",
    "    - 여기서 이 부분에 대한 구현을 `for~ else`를 사용했다.\n",
    "    - break에 걸려서 나온게 아니라면 else문이 실행된다."
   ]
  }
 ],
 "metadata": {
  "language_info": {
   "name": "python"
  },
  "orig_nbformat": 4
 },
 "nbformat": 4,
 "nbformat_minor": 2
}
