{
 "cells": [
  {
   "cell_type": "markdown",
   "metadata": {},
   "source": [
    "### 관찰\n",
    "- N이 10만. Naive하게 풀 순 없다.\n",
    "- 연결 비용이 min(각 좌표의 차이)로 주어진다. 무언가 greedy하게 접근할 수 있을 것 같다.\n",
    "\n",
    "### 아이디어\n",
    "- prim의 아이디어를 빌려, 가장 거리가 짧은 정점끼리 greedy하게 잇다가 이미 연결한 정점이면 제외시키는 방법으로 구하면 되지 않을까?\n",
    "- 기준행성 하나를 잡고 그것과 상대적인 거리가 짧은 기준으로 정렬하면 될 것 같다는 생각.\n",
    "  - 아무 기준점이나 잡아도 optimal한 해가 나올까? 그리고 그렇다면 어떻게 증명할 수 있을까?"
   ]
  }
 ],
 "metadata": {
  "language_info": {
   "name": "python"
  },
  "orig_nbformat": 4
 },
 "nbformat": 4,
 "nbformat_minor": 2
}
