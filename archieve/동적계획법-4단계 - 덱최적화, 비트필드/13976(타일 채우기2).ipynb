{
 "cells": [
  {
   "cell_type": "markdown",
   "metadata": {},
   "source": [
    "### 풀이\n",
    "- 점화식 고속연산 테크닉을 활용한 문제.\n",
    "- 점화식은 다음과 같다\n",
    "  - $a_1 = 1$\n",
    "  - $a_2 = 3$\n",
    "  - $a_{n+2} = 4a_{n+1} - a_i$\n",
    "- 이를 행렬로 나타낸다면\n",
    "  - $\\begin{bmatrix}a_{n+2}\\\\a_{n+1}\\end{bmatrix} = \\begin{bmatrix}4&-1\\\\1&0\\end{bmatrix}\\begin{bmatrix}a_{n+1}\\\\a_{n}\\end{bmatrix}$\n",
    "  - 따라서 계산할 행렬은 \n",
    "  - $\\begin{bmatrix}4&-1\\\\1&0\\end{bmatrix}^{n-1}$"
   ]
  },
  {
   "cell_type": "code",
   "execution_count": null,
   "metadata": {},
   "outputs": [],
   "source": [
    "mod = 1_000_000_007\n",
    "m_mul = lambda A, B: [[sum(i * j % mod for i, j in zip(row, col)) % mod for col in zip(*B)] for row in A]\n",
    "\n",
    "def eye(l) :\n",
    "  m = [[0] * l for _ in range(l)]\n",
    "  for i, row in enumerate(m):\n",
    "    row[i] = 1\n",
    "  return m\n",
    "\n",
    "def m_pow(m, p):\n",
    "  base = eye(len(m))\n",
    "\n",
    "  if p == 0:\n",
    "    return base\n",
    "\n",
    "  while p > 1:\n",
    "    if p & 1 == 1:\n",
    "      base = m_mul(base, m)\n",
    "    m = m_mul(m, m)\n",
    "    p >>= 1\n",
    "  return m_mul(base, m)\n",
    "\n",
    "N = int(input())\n",
    "if N % 2 :\n",
    "  print(0)\n",
    "else :\n",
    "  p = N // 2 - 1\n",
    "  m = [[4, mod-1], [1, 0]]\n",
    "  a_1 = 1\n",
    "  a_2 = 3\n",
    "  print(m_mul(m_pow(m, p), [[a_2], [a_1]])[0][0])"
   ]
  }
 ],
 "metadata": {
  "language_info": {
   "name": "python"
  },
  "orig_nbformat": 4
 },
 "nbformat": 4,
 "nbformat_minor": 2
}
