{
 "cells": [
  {
   "cell_type": "code",
   "execution_count": null,
   "metadata": {},
   "outputs": [],
   "source": [
    "# naive solution\n",
    "import io, os, itertools\n",
    "input=io.BytesIO(os.read(0,os.fstat(0).st_size)).readline\n",
    "\n",
    "N = int(input())\n",
    "L = [*map(int, input().split())]\n",
    "D = {}\n",
    "for w in itertools.chain.from_iterable(itertools.combinations(L, n) for n in range(2, N+1)) :\n",
    "  x = max(w) - min(w)\n",
    "  D[x] = D.get(x, 0) + 1\n",
    "\n",
    "print(sum([k*v for k, v in D.items()]))"
   ]
  },
  {
   "attachments": {},
   "cell_type": "markdown",
   "metadata": {},
   "source": [
    "### 힌트\n",
    "- 분할정복을 이용한 거듭제곱\n",
    "\n",
    "### 접근\n",
    "- 조합과 해싱을 잘 활용해서 naive하게 풀 수 있다.\n",
    "- 이때 `D`의 키값이 언제 나올까를 생각해보면, $N \\choose 2$를 만들때 나온다는 것을 알 수 있다.\n",
    "  - 즉 이후에 나오는 D의 키값들은 적당히 반복돼서 나온다는 것을 알 수 있다.\n",
    "  - 1 2 4 8 16 32의 데이터를 넣어서 정답을 구해보면 다음과 같은 결과가 나온다.\n",
    "  - `{31: 16, 15: 8, 30: 8, 7: 4, 14: 4, 28: 4, 3: 2, 6: 2, 12: 2, 24: 2, 1: 1, 2: 1, 4: 1, 8: 1, 16: 1}`\n",
    "  - 수의 차이가 가장 큰 수는 2^(N-1)번 반복된다\n",
    "  - 아주 자세히 분석해보니, 정렬된 `L`에 대해 원소 사이의 거리 `d`인 어떤 숫자 쌍을 골랐을 때, 그 숫자 쌍의 차이 `x`가 반복되는 횟수는 $2^d$회였다.\n",
    "  - 이를 이용해 거듭제곱으로 문제를 풀면 될 것 같다.\n",
    "- 문제는 N이 30만일 때, $N \\choose 2$를 `itertools.combinations`로는 제한시간 내에 구할 수가 없다. 초기 키 값을 좀더 빠르게 구해야 한다.\n"
   ]
  }
 ],
 "metadata": {
  "language_info": {
   "name": "python"
  },
  "orig_nbformat": 4
 },
 "nbformat": 4,
 "nbformat_minor": 2
}
