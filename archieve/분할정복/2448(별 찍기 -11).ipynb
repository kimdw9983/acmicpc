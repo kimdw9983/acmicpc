{
 "cells": [
  {
   "cell_type": "code",
   "execution_count": null,
   "metadata": {},
   "outputs": [],
   "source": [
    "import sys \n",
    "\n",
    "def r(n, m, x) :\n",
    "  if x == 3 :\n",
    "    G[n][m] = \"*\"\n",
    "    G[n+1][m-1] = G[n+1][m+1] = \"*\"\n",
    "    G[n+2][m-2] = G[n+2][m-1] = G[n+2][m] = G[n+2][m+1] = G[n+2][m+2] = \"*\"\n",
    "    return\n",
    "  \n",
    "  r(n, m, x//2)\n",
    "  r(n+x//2, m-x//2, x//2)\n",
    "  r(n+x//2, m+x//2, x//2)\n",
    "\n",
    "N = int(input())\n",
    "G = [[\" \" for _ in range(2*N)] for _ in range(N)]\n",
    "r(0, N-1, N)\n",
    "\n",
    "for l in G:\n",
    "  sys.stdout.write(\"\".join(l)+\"\\n\")"
   ]
  },
  {
   "cell_type": "code",
   "execution_count": null,
   "metadata": {},
   "outputs": [],
   "source": [
    "def star(n):\n",
    "  if n == 3: return ['  *  ', ' * * ', '*****']\n",
    "  p = star(n // 2)\n",
    "  r1 = [' ' * (n//2) + i + ' ' * (n//2) for i in p]\n",
    "  r2 = [i + ' ' + i for i in p]\n",
    "  return r1 + r2\n",
    "\n",
    "print('\\n'.join(star(int(input()))))"
   ]
  }
 ],
 "metadata": {
  "language_info": {
   "name": "python"
  },
  "orig_nbformat": 4
 },
 "nbformat": 4,
 "nbformat_minor": 2
}
