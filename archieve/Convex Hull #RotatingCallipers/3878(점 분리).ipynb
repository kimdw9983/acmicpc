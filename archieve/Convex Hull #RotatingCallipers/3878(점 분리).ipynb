{
 "cells": [
  {
   "cell_type": "markdown",
   "metadata": {},
   "source": [
    "### 접근\n",
    "- 검은 점과 흰 점으로 볼록껍질을 각각 구한 뒤, 그 직선끼리 닿는지 여부를 파악한다.\n",
    "- 닿지 않는다면 분리할 수 있는 것일 것이다.\n",
    "- 꼭짓점의 개수 n+m개에 대해서 $O((n+m)^2)$만큼 걸릴 것 같다.\n",
    "  - 그런데 어떤 볼록껍질이 다른 볼록껍질을 완전히 포함하는 경우가 있는데, 이 경우를 처리할 수 없다.."
   ]
  },
  {
   "cell_type": "code",
   "execution_count": null,
   "metadata": {},
   "outputs": [],
   "source": [
    "import io, os\n",
    "input=io.BytesIO(os.read(0,os.fstat(0).st_size)).readline\n",
    "\n",
    "ccw = lambda o, a, b: (a[0] - o[0]) * (b[1] - o[1]) - (a[1] - o[1]) * (b[0] - o[0])\n",
    "def cross(a, b) :\n",
    "  t1 = ccw(a[0], a[1], b[0]) * ccw(a[0], a[1], b[1])\n",
    "  t2 = ccw(b[0], b[1], a[0]) * ccw(b[0], b[1], a[1])\n",
    "  if t1 < 0 and t2 < 0 : return True\n",
    "  if t1 == 0 and t2 == 0: return b[0] <= a[1] and a[0] <= b[1]\n",
    "  return t1 <= 0 and t2 <= 0\n",
    "\n",
    "def andrews(P):\n",
    "  P = sorted(P)\n",
    "\n",
    "  lo = []\n",
    "  for p in P:\n",
    "    while len(lo) >= 2 and ccw(lo[-2], lo[-1], p) <= 0:\n",
    "      lo.pop()\n",
    "    lo.append(p)\n",
    "  lo.pop()\n",
    "\n",
    "  up = []\n",
    "  for p in reversed(P) :\n",
    "    while len(up) >= 2 and ccw(up[-2], up[-1], p) <= 0:\n",
    "      up.pop()\n",
    "    up.append(p)\n",
    "  up.pop()\n",
    "  \n",
    "  return lo + up\n",
    "\n",
    "def sol() :\n",
    "  N, M = map(int, input().split())\n",
    "  H1 = andrews([tuple(map(int, input().split())) for _ in range(N)])\n",
    "  H2 = andrews([tuple(map(int, input().split())) for _ in range(M)])\n",
    "  \n",
    "\n",
    "for _ in range(int(input())) :\n",
    "  sol()"
   ]
  },
  {
   "cell_type": "markdown",
   "metadata": {},
   "source": [
    "- 볼록다각형 내부 점 판정문제부터 풀고 다시 재개"
   ]
  }
 ],
 "metadata": {
  "language_info": {
   "name": "python"
  },
  "orig_nbformat": 4
 },
 "nbformat": 4,
 "nbformat_minor": 2
}
