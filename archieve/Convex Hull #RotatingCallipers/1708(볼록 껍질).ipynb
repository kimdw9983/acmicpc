{
 "cells": [
  {
   "cell_type": "code",
   "execution_count": null,
   "metadata": {},
   "outputs": [],
   "source": [
    "import io, os\n",
    "input=io.BytesIO(os.read(0,os.fstat(0).st_size)).readline\n",
    "\n",
    "def remove_middle(a, b, c):\n",
    "  cross = (a[0] - b[0]) * (c[1] - b[1]) - (a[1] - b[1]) * (c[0] - b[0])\n",
    "  dot = (a[0] - b[0]) * (c[0] - b[0]) + (a[1] - b[1]) * (c[1] - b[1])\n",
    "  return cross < 0 or cross == 0 and dot <= 0\n",
    "\n",
    "\n",
    "def convex_hull(points):\n",
    "  spoints = sorted(points)\n",
    "  hull = []\n",
    "  for p in spoints + spoints[::-1]:\n",
    "    while len(hull) >= 2 and remove_middle(hull[-2], hull[-1], p):\n",
    "      hull.pop()\n",
    "    hull.append(p)\n",
    "  hull.pop()\n",
    "  return hull\n",
    "\n",
    "N = int(input())\n",
    "L = [tuple(map(int, input().split())) for _ in range(N)]\n",
    "hull = convex_hull(L)\n",
    "print(len(hull))"
   ]
  }
 ],
 "metadata": {
  "language_info": {
   "name": "python"
  },
  "orig_nbformat": 4
 },
 "nbformat": 4,
 "nbformat_minor": 2
}
