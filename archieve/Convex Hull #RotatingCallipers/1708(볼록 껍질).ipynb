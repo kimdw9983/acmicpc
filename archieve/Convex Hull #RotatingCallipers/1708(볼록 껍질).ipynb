{
 "cells": [
  {
   "cell_type": "code",
   "execution_count": null,
   "metadata": {},
   "outputs": [],
   "source": [
    "import io, os\n",
    "input=io.BytesIO(os.read(0,os.fstat(0).st_size)).readline\n",
    "\n",
    "def remove_middle(a, b, c):\n",
    "  cross = (a[0] - b[0]) * (c[1] - b[1]) - (a[1] - b[1]) * (c[0] - b[0])\n",
    "  dot = (a[0] - b[0]) * (c[0] - b[0]) + (a[1] - b[1]) * (c[1] - b[1])\n",
    "  return cross < 0 or cross == 0 and dot <= 0\n",
    "\n",
    "\n",
    "def convex_hull(points):\n",
    "  spoints = sorted(points)\n",
    "  hull = []\n",
    "  for p in spoints + spoints[::-1]:\n",
    "    while len(hull) >= 2 and remove_middle(hull[-2], hull[-1], p):\n",
    "      hull.pop()\n",
    "    hull.append(p)\n",
    "  hull.pop()\n",
    "  return hull\n",
    "\n",
    "N = int(input())\n",
    "L = [tuple(map(int, input().split())) for _ in range(N)]\n",
    "hull = convex_hull(L)\n",
    "print(len(hull))"
   ]
  },
  {
   "cell_type": "markdown",
   "metadata": {},
   "source": [
    "- 그라함 스캔으로 푼 문제"
   ]
  },
  {
   "cell_type": "code",
   "execution_count": null,
   "metadata": {},
   "outputs": [],
   "source": [
    "import math, io, os\n",
    "input=io.BytesIO(os.read(0,os.fstat(0).st_size)).readline\n",
    "\n",
    "def sol() :\n",
    "  N = int(input())\n",
    "  L = [tuple(map(int, input().split())) for _ in range(N)]\n",
    "\n",
    "  x = max(L)\n",
    "  cross = lambda a, b, c: a[0] * b[1] + b[0] * c[1] + c[0] * a[1] - (b[0] * a[1] + c[0] * b[1] + a[0] * c[1])\n",
    "  L.sort(key=lambda p: (math.atan2(p[1] - x[1], p[0] - x[0]) % (2*math.pi), math.dist(x, p)))\n",
    "\n",
    "  S = []\n",
    "  for p in L:\n",
    "    while len(S) >= 2 and cross(S[-2], S[-1], p) <= 0 :\n",
    "      S.pop()\n",
    "    S.append(p)\n",
    "\n",
    "  print(len(S))\n",
    "\n",
    "sol()"
   ]
  }
 ],
 "metadata": {
  "language_info": {
   "name": "python"
  },
  "orig_nbformat": 4
 },
 "nbformat": 4,
 "nbformat_minor": 2
}
