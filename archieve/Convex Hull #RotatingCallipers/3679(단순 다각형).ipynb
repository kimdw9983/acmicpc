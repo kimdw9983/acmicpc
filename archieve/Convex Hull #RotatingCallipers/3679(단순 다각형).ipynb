{
 "cells": [
  {
   "cell_type": "code",
   "execution_count": null,
   "metadata": {},
   "outputs": [],
   "source": [
    "import io, os, math, sys, functools\n",
    "input=io.BytesIO(os.read(0,os.fstat(0).st_size)).readline\n",
    "\n",
    "def ccw(a, b, c): \n",
    "  return a[0] * b[1] + b[0] * c[1] + c[0] * a[1] - (b[0] * a[1] + c[0] * b[1] + a[0] * c[1])\n",
    "\n",
    "def sol() :\n",
    "  S = input().split()\n",
    "  P = []\n",
    "  for i, (x, y) in enumerate(zip(S[1::2], S[2::2])) :\n",
    "    P.append((i, int(x), int(y)))\n",
    "  \n",
    "  gi, gx, gy = min(P, key=lambda p: (p[1], p[2]))\n",
    "  P[0], P[gi] = P[gi], P[0]\n",
    "  def cmp(a, b) :\n",
    "    cw = ccw(P[0][1:], a[1:], b[1:])\n",
    "    if cw : \n",
    "      return -1 if cw > 0 else 1\n",
    "    return -1 if math.dist(P[0][1:], a[1:]) < math.dist(P[0][1:], b[1:]) else 1\n",
    "\n",
    "  res = [P[0]] + sorted(P[1:], key=functools.cmp_to_key(cmp))\n",
    "  # res = sorted(P, key=lambda p: (math.atan2(p[2] - gy, p[1] - gx) % (2*math.pi), math.dist((gx, gy), (p[1], p[2]))))\n",
    "\n",
    "  pt = len(res) - 1\n",
    "  for i in range(pt, 0, -1) :\n",
    "    if ccw(res[0][1:], res[pt][1:], res[pt-1][1:]) == 0 :\n",
    "      pt -= 1\n",
    "    else :\n",
    "      break\n",
    "\n",
    "  res[pt:] = res[pt:][::-1]\n",
    "  for i, _, _ in res:\n",
    "    sys.stdout.write(str(i) + \" \")\n",
    "  sys.stdout.write(\"\\n\")\n",
    "\n",
    "for _ in range(int(input())) :\n",
    "  sol()"
   ]
  },
  {
   "cell_type": "markdown",
   "metadata": {},
   "source": [
    "- 그라함 정렬 기준으로 정렬하되, 첫번째 점과 평행한 점은 멀리있는 점이 먼저오게 뒤집어야한다."
   ]
  }
 ],
 "metadata": {
  "language_info": {
   "name": "python"
  },
  "orig_nbformat": 4
 },
 "nbformat": 4,
 "nbformat_minor": 2
}
