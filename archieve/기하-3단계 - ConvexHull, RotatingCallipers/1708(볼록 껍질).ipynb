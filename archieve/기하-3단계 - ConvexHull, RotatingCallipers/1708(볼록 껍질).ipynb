{
 "cells": [
  {
   "cell_type": "code",
   "execution_count": null,
   "metadata": {},
   "outputs": [],
   "source": [
    "import io, os\n",
    "input=io.BytesIO(os.read(0,os.fstat(0).st_size)).readline\n",
    "\n",
    "def ccw(o, a, b):  # OA와 OB의 외적을 통해 방향성을 확인한다. 0보다 크면 반시계 방향.\n",
    "  return (a[0] - o[0]) * (b[1] - o[1]) - (a[1] - o[1]) * (b[0] - o[0])\n",
    "\n",
    "def andrews(points):\n",
    "  spoints = sorted(points) #실질적인 시간복잡도. NlogN\n",
    "\n",
    "  lower = []\n",
    "  for p in spoints: #아래쪽 껍질을 구성한다.\n",
    "    while len(lower) >= 2 and ccw(lower[-2], lower[-1], p) <= 0: #시계방향이거나 일직선상에 있을경우 가운데 점을 제거한다.\n",
    "      lower.pop()\n",
    "    lower.append(p)\n",
    "  lower.pop() #마지막 점은 시작점과 겹치므로 제거한다.\n",
    "\n",
    "  upper = []\n",
    "  for p in reversed(spoints) : #윗쪽 껍질을 구성한다.\n",
    "    while len(upper) >= 2 and ccw(upper[-2], upper[-1], p) <= 0 :\n",
    "      upper.pop()\n",
    "    upper.append(p)\n",
    "  upper.pop()\n",
    "  \n",
    "  return lower + upper\n",
    "\n",
    "N = int(input())\n",
    "L = [tuple(map(int, input().split())) for _ in range(N)]\n",
    "hull = andrews(L)\n",
    "print(len(hull))"
   ]
  },
  {
   "cell_type": "markdown",
   "metadata": {},
   "source": [
    "- 그라함 스캔으로 푼 문제"
   ]
  },
  {
   "cell_type": "code",
   "execution_count": null,
   "metadata": {},
   "outputs": [],
   "source": [
    "import math, io, os\n",
    "input=io.BytesIO(os.read(0,os.fstat(0).st_size)).readline\n",
    "\n",
    "ccw = lambda o, a, b: (a[0] - o[0]) * (b[1] - o[1]) - (a[1] - o[1]) * (b[0] - o[0])\n",
    "def grahams(P: list[tuple[int, int]]) -> list[tuple[int, int]]:\n",
    "  m = max(P)\n",
    "  S = []\n",
    "  for p in sorted(P, key=lambda p: (math.atan2(p[1] - m[1], p[0] - m[0]) % (2*math.pi), math.dist(m, p))):\n",
    "    while len(S) > 1 and ccw(S[-2], S[-1], p) <= 0:\n",
    "      S.pop()\n",
    "    S.append(p)\n",
    "  \n",
    "  return S\n",
    "\n",
    "def sol() :\n",
    "  N = int(input())\n",
    "  P = [tuple(map(int, input().split())) for _ in range(N)]\n",
    "  P = grahams(P)\n",
    "\n",
    "  print(len(P))\n",
    "\n",
    "sol()"
   ]
  }
 ],
 "metadata": {
  "language_info": {
   "name": "python"
  },
  "orig_nbformat": 4
 },
 "nbformat": 4,
 "nbformat_minor": 2
}
