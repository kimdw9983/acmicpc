{
 "cells": [
  {
   "attachments": {
    "image-3.png": {
     "image/png": "[encoded data removed]"
    },
    "image.png": {
     "image/png": "[encoded data removed]"
    }
   },
   "cell_type": "markdown",
   "metadata": {},
   "source": [
    "### 풀이\n",
    "- ![image.png](attachment:image.png)\n",
    "- 볼록 껍질을 구성했을 때 그 바깥에 거리가 L인 점들의 집합을 표현하면 위의 그림과 같다.\n",
    "- 노란선은 볼록껍질에 있는 점들을 바깥쪽으로 L만큼 떨어뜨린 것이다.\n",
    "- 그리고 노란선 사이를 가장 가까운 점에서 반지름이 L인 원을 그린것에 바깥쪽과 연결시킨다. (초록선)\n",
    "- ![image-3.png](attachment:image-3.png)\n",
    "- 이때 초록선의 길이는 중심각이 $\\theta$인 원의 반지름이 L일때의 길이이다.\n",
    "\n",
    "### 구현\n",
    "- 볼록껍질을 구하고, 구해진 볼록껍질 좌표를 통해 `각 변끼리의 길이` + `둥근 부분의 길이`를 구한다.\n",
    "  - 각 변들을 순회한다고 했을때 이전에 있는 점을 `A`, 현재 점을 B, 다음 점을 C라고 할때 변의 길이는 한번만 더하면 되므로, AB의 길이를 구하는 것으로 정했다.\n",
    "- 그리고 둥근 부분의 길이는, 반지름의 길이가 `L`이고 중심각이 $\\theta$인 호의 길이인 `L * theta`를 구하면 된다.\n",
    "  - 이때 중심각은 `BA와 BC의 내적`을 구하면 구할 수 있다.\n",
    "  - 템플릿에 있는 내적함수는 이미 `BA`와 `BC`의 내적을 구하기 때문에 구하려 하는 내적과 같다."
   ]
  },
  {
   "cell_type": "code",
   "execution_count": null,
   "metadata": {},
   "outputs": [],
   "source": [
    "import io, os, math\n",
    "input=io.BytesIO(os.read(0,os.fstat(0).st_size)).readline\n",
    "\n",
    "cross = lambda a, b, c: (a[0] - b[0]) * (c[1] - b[1]) - (a[1] - b[1]) * (c[0] - b[0])\n",
    "dot = lambda a, b, c: (a[0] - b[0]) * (c[0] - b[0]) + (a[1] - b[1]) * (c[1] - b[1])\n",
    "\n",
    "def check(a, b, c):\n",
    "  cr = cross(a, b, c)\n",
    "  d = dot(a, b, c)\n",
    "  return cr < 0 or cr == 0 and d <= 0\n",
    "\n",
    "def ch(points):\n",
    "  P = sorted(points)\n",
    "  S = []\n",
    "  for p in P + P[::-1]:\n",
    "    while len(S) >= 2 and check(S[-2], S[-1], p):\n",
    "      S.pop()\n",
    "    S.append(p)\n",
    "  S.pop()\n",
    "  return S\n",
    "\n",
    "N, L = map(int, input().split())\n",
    "P = [tuple(map(int, input().split())) for _ in range(N)]\n",
    "P = ch(P)\n",
    "lenP = len(P)\n",
    "\n",
    "ans = 0\n",
    "for i, B in enumerate(P) :\n",
    "  A, C = P[i-1], P[(i+1)%lenP]\n",
    "  d1 = math.dist(A, B)\n",
    "  d2 = math.dist(B, C)\n",
    "  ans += d1\n",
    "\n",
    "  inner = dot(A, B, C)\n",
    "  th = math.acos(inner / (d1 * d2))\n",
    "  th = math.pi - th\n",
    "  ans += th * L\n",
    "\n",
    "print(round(ans))"
   ]
  }
 ],
 "metadata": {
  "language_info": {
   "name": "python"
  },
  "orig_nbformat": 4
 },
 "nbformat": 4,
 "nbformat_minor": 2
}
