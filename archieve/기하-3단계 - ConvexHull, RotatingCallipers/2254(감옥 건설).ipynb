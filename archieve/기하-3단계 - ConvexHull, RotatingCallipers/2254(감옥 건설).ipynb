{
 "cells": [
  {
   "cell_type": "code",
   "execution_count": null,
   "metadata": {},
   "outputs": [],
   "source": [
    "import io, os\n",
    "input=io.BytesIO(os.read(0,os.fstat(0).st_size)).readline\n",
    "\n",
    "ccw = lambda o, a, b: (a[0] - o[0]) * (b[1] - o[1]) - (a[1] - o[1]) * (b[0] - o[0])\n",
    "def andrews(P):\n",
    "  P = sorted(P)\n",
    "\n",
    "  lo = []\n",
    "  for p in P:\n",
    "    while len(lo) >= 2 and ccw(lo[-2], lo[-1], p) <= 0:\n",
    "      lo.pop()\n",
    "    lo.append(p)\n",
    "  lo.pop()\n",
    "\n",
    "  up = []\n",
    "  for p in reversed(P) :\n",
    "    while len(up) >= 2 and ccw(up[-2], up[-1], p) <= 0:\n",
    "      up.pop()\n",
    "    up.append(p)\n",
    "  up.pop()\n",
    "  \n",
    "  return lo + up\n",
    "\n",
    "def inside(L, s) :\n",
    "  if ccw(L[0], L[1], s) < 0 : return False\n",
    "  if ccw(L[0], L[-1], s) > 0 : return False\n",
    "\n",
    "  l, r = 1, len(L) - 1\n",
    "  while l + 1 < r :\n",
    "    mid = (l + r) // 2\n",
    "    if ccw(L[0], L[mid], s) > 0 : l = mid\n",
    "    else : r = mid\n",
    "\n",
    "  A, B = l, l+1\n",
    "  return ccw(L[A], s, L[B]) < 0\n",
    "\n",
    "def sol() :\n",
    "  N, Px, Py = map(int, input().split())\n",
    "  walls = set([tuple(map(int, input().split())) for _ in range(N)])\n",
    "  ans = 0\n",
    "  while len(walls) > 2 :\n",
    "    P = andrews(walls)\n",
    "    if len(P) < 3 : break\n",
    "    if not inside(P, (Px, Py)) : break\n",
    "    \n",
    "    for v in P :\n",
    "      walls.remove(v)\n",
    "    ans += 1\n",
    "    \n",
    "  print(ans)\n",
    "sol()\n"
   ]
  },
  {
   "cell_type": "markdown",
   "metadata": {},
   "source": [
    "### 자력솔 with hint\n",
    "1. 현재 남아있는 기둥들로 볼록껍질을 구성한다.\n",
    "2. 방금 만든 다각형이 감옥을 포함하고 있는지 확인한다.\n",
    "    - 단, 다각형을 만들 수 있어야 한다.\n",
    "3. `ans`를 1 올리고 볼록껍질에 사용된 기둥들을 제거한다.\n",
    "4. 다각형을 만들 수 있을 때까지 1번으로 되돌아간다."
   ]
  }
 ],
 "metadata": {
  "language_info": {
   "name": "python"
  },
  "orig_nbformat": 4
 },
 "nbformat": 4,
 "nbformat_minor": 2
}
