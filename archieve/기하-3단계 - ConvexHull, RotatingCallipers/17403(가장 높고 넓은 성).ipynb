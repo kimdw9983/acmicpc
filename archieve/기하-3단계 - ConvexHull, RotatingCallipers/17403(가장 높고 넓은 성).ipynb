{
 "cells": [
  {
   "cell_type": "code",
   "execution_count": null,
   "metadata": {},
   "outputs": [],
   "source": [
    "import io, os\n",
    "input=io.BytesIO(os.read(0,os.fstat(0).st_size)).readline\n",
    "\n",
    "ccw = lambda o, a, b: (a[0] - o[0]) * (b[1] - o[1]) - (a[1] - o[1]) * (b[0] - o[0])\n",
    "def andrews(P):\n",
    "  P = sorted(P)\n",
    "\n",
    "  lo = []\n",
    "  for p in P:\n",
    "    while len(lo) >= 2 and ccw(lo[-2], lo[-1], p) <= 0:\n",
    "      lo.pop()\n",
    "    lo.append(p)\n",
    "  lo.pop()\n",
    "\n",
    "  up = []\n",
    "  for p in reversed(P) :\n",
    "    while len(up) >= 2 and ccw(up[-2], up[-1], p) <= 0:\n",
    "      up.pop()\n",
    "    up.append(p)\n",
    "  up.pop()\n",
    "  \n",
    "  return lo + up\n",
    "\n",
    "def sol() :\n",
    "  N = int(input())\n",
    "  K = {}\n",
    "  P = []\n",
    "  for i in range(N) :\n",
    "    X = tuple(map(int, input().split()))\n",
    "    K[X] = i\n",
    "    P.append(X)\n",
    "  \n",
    "  ans = [0] * N\n",
    "  cur = 1\n",
    "  while len(P) > 2 :\n",
    "    nP = andrews(P)\n",
    "    if len(nP) < 3: break\n",
    "    for p in nP :\n",
    "      P.remove(p)\n",
    "      ans[K[p]] = cur\n",
    "    cur += 1\n",
    "  \n",
    "  print(*ans)\n",
    "\n",
    "sol()"
   ]
  },
  {
   "cell_type": "markdown",
   "metadata": {},
   "source": [
    "### 자력솔\n",
    "- 2254(감옥 건설)와 비슷한 문제.\n",
    "- 마찬가지로 볼록껍질을 구성한 뒤 남아있는 표지판에서 제거시키는 방식으로 구하되, 몇층에 사용됐는지의 정보를 저장한다."
   ]
  }
 ],
 "metadata": {
  "language_info": {
   "name": "python"
  },
  "orig_nbformat": 4
 },
 "nbformat": 4,
 "nbformat_minor": 2
}
