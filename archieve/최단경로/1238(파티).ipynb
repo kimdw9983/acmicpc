{
 "cells": [
  {
   "attachments": {},
   "cell_type": "markdown",
   "metadata": {},
   "source": [
    "- 플로이드로 자신을 제외한 모든 정점끼리의 최단거리를 구하고,\n",
    "  - A -> X -> A로 구하면 되지 않을까??\n",
    "  - 항상 경로가 있음이 보장되고, 다익스트라의 논리대로라면 항상 최단경로로 길을 구한다면 그것이 자신으로 돌아오는 경로여도 최단경로가 될 것이라는게 나의 이론이다."
   ]
  },
  {
   "cell_type": "code",
   "execution_count": null,
   "metadata": {},
   "outputs": [],
   "source": [
    "import io, os\n",
    "input=io.BytesIO(os.read(0,os.fstat(0).st_size)).readline\n",
    "\n",
    "INF = 1234567891\n",
    "N, M, X = map(int, input().split())\n",
    "E = []\n",
    "for _ in range(M): \n",
    "  u, v, d = map(int, input().split())\n",
    "  E.append((u-1, v-1, d))\n",
    "\n",
    "def fw(V, E):\n",
    "  D = [[0 if a == b else INF for a in range(V)] for b in range(V)]\n",
    "\n",
    "  for u, v, d in E:\n",
    "    D[u][v] = d\n",
    "\n",
    "  for m in range(V):\n",
    "    for l in D:\n",
    "      for b, v in enumerate(l):\n",
    "        if l[m] + D[m][b] >= v: continue\n",
    "        l[b] = l[m] + D[m][b]\n",
    "\n",
    "  return D\n",
    "\n",
    "G = fw(N, E)\n",
    "ans = 0\n",
    "for u, l in enumerate(G):\n",
    "  for v, n in enumerate(l):\n",
    "    ans = max(ans, l[X-1] + G[X-1][u]) #파티 참가자 집으로 가는 비용\n",
    "\n",
    "print(ans)"
   ]
  },
  {
   "attachments": {},
   "cell_type": "markdown",
   "metadata": {},
   "source": [
    "- 애초에 플로이드 문제도 아니였다. 데이크스트라가 정해다.\n",
    "- 숫자가 적어서 AC를 맞긴 했는데, 입력최적화 안했으면 TLE떴을듯"
   ]
  }
 ],
 "metadata": {
  "language_info": {
   "name": "python"
  },
  "orig_nbformat": 4
 },
 "nbformat": 4,
 "nbformat_minor": 2
}
