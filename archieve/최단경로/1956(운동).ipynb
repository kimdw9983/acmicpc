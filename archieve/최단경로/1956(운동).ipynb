{
 "cells": [
  {
   "cell_type": "code",
   "execution_count": null,
   "metadata": {},
   "outputs": [],
   "source": [
    "INF = 1234567891\n",
    "V, e = map(int, input().split())\n",
    "E = []\n",
    "G = [[] for _ in range(V)]\n",
    "for _ in range(e) :\n",
    "  u, v, d = map(int, input().split())\n",
    "  E.append((u-1, v-1, d))\n",
    "  G[u-1].append(v-1)\n",
    "\n",
    "def fw(V, E):\n",
    "  D = [[0 if i == j else INF for i in range(V)] for j in range(V)]\n",
    "\n",
    "  for u, v, d in E:\n",
    "    D[u][v] = d\n",
    "\n",
    "  for k in range(V):\n",
    "    for l in D:\n",
    "      for j, v in enumerate(l):\n",
    "        if l[k] + D[k][j] >= v: continue\n",
    "        l[j] = l[k] + D[k][j]\n",
    "\n",
    "  return D\n",
    "\n",
    "answer = INF\n",
    "\n",
    "D = fw(V, E)\n",
    "for i, l in enumerate(D): \n",
    "  for j, v in enumerate(l):\n",
    "    if i == j: continue\n",
    "    if not v or not D[j][i]: continue\n",
    "    answer = min(answer, v + D[j][i])\n",
    "\n",
    "print(answer if answer != INF else -1)"
   ]
  }
 ],
 "metadata": {
  "language_info": {
   "name": "python"
  },
  "orig_nbformat": 4
 },
 "nbformat": 4,
 "nbformat_minor": 2
}
