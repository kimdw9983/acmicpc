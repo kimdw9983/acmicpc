{
 "cells": [
  {
   "cell_type": "code",
   "execution_count": null,
   "metadata": {},
   "outputs": [],
   "source": [
    "from heapq import heappop, heappush\n",
    "import sys\n",
    "input=sys.stdin.readline\n",
    "\n",
    "V, E = map(int, input().split())\n",
    "G = [[] for _ in range(V+1)]\n",
    "for _ in range(E) :\n",
    "  u, v, w = map(int, input().split())\n",
    "  G[u].append((v, w))\n",
    "  G[v].append((u, w))\n",
    "V1, V2 = map(int, input().split())\n",
    "\n",
    "def dij(G, s):\n",
    "  n = len(G)\n",
    "  dist = [float(\"inf\")] * n\n",
    "  dist[s] = 0\n",
    "\n",
    "  Q = [(0, s)]\n",
    "  while Q:\n",
    "    path_len, v = heappop(Q)\n",
    "    if path_len != dist[v]: continue\n",
    "    for w, edge_len in G[v]:\n",
    "      if edge_len + path_len < dist[w]:\n",
    "        dist[w] = edge_len + path_len\n",
    "        heappush(Q, (edge_len + path_len, w))\n",
    "\n",
    "  return dist\n",
    "\n",
    "d1 = dij(G, 1)\n",
    "d2 = dij(G, V1)\n",
    "d3 = dij(G, V2)\n",
    "answer = min(d1[V1] + d2[V2] + d3[V],\n",
    "             d1[V2] + d3[V1] + d2[V]) \n",
    "\n",
    "print(answer if answer < float(\"inf\") else -1)"
   ]
  },
  {
   "attachments": {},
   "cell_type": "markdown",
   "metadata": {},
   "source": [
    "- 다익스트라는 각 경로간의 최단경로를 계산하므로, 다음과 같은 경로로 가는 값과 같다\n",
    "  - 1 -> V1 -> V2 -> END\n",
    "  - 1 -> V2 -> V1 -> END\n"
   ]
  }
 ],
 "metadata": {
  "language_info": {
   "name": "python"
  },
  "orig_nbformat": 4
 },
 "nbformat": 4,
 "nbformat_minor": 2
}
