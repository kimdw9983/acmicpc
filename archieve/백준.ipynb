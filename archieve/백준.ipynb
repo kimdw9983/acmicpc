{
 "cells": [
  {
   "cell_type": "markdown",
   "metadata": {},
   "source": [
    "### PyPy3가 빠른 이유\n",
    "- https://www.acmicpc.net/board/view/131452\n",
    "- [131452](./assets/131452)"
   ]
  },
  {
   "cell_type": "markdown",
   "metadata": {},
   "source": [
    "### 모듈러계 설명\n",
    "- https://www.acmicpc.net/board/view/130299\n",
    "- [130299](./assets/130299)"
   ]
  },
  {
   "cell_type": "markdown",
   "metadata": {},
   "source": [
    "### string concat은 O(N^2), 튜플,리스트 만들기는 느리다\n",
    "- https://www.acmicpc.net/board/view/118344\n",
    "- [118344](./assets/118344)"
   ]
  },
  {
   "cell_type": "markdown",
   "metadata": {},
   "source": [
    "### bfs 햇갈리지 않게 하기\n",
    "- https://www.acmicpc.net/board/view/130940\n",
    "- [130940](./assets/130940)"
   ]
  },
  {
   "cell_type": "markdown",
   "metadata": {},
   "source": [
    "### 백준의 채점 시스템 (\\a쓰면 틀리는 이유)\n",
    "- https://www.acmicpc.net/board/view/133672\n",
    "- [133672](./assets/133672)"
   ]
  }
 ],
 "metadata": {
  "language_info": {
   "name": "python"
  }
 },
 "nbformat": 4,
 "nbformat_minor": 2
}
