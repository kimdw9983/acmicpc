{
 "cells": [
  {
   "cell_type": "code",
   "execution_count": null,
   "metadata": {},
   "outputs": [],
   "source": [
    "import sys\n",
    "input=sys.stdin.readline\n",
    "\n",
    "def sol() :\n",
    "  N = int(input())\n",
    "  L1 = list(map(int, input().split()))\n",
    "  L2 = L1.copy()\n",
    "  L1.sort(reverse=True)\n",
    "\n",
    "  cnt = int(input())\n",
    "  for i in range(N) : #원소를 옮겨야 하는 위치\n",
    "    for j in range(N, i, -1) :\n",
    "      k = L2.index(max(L1[i:j]))\n",
    "      if k - i <= 0 : continue\n",
    "      cnt -= k - i\n",
    "      x = L2.pop(k)\n",
    "      L2.insert(i, x)\n",
    "      break\n",
    "  print(*L2)\n",
    "\n",
    "sol()"
   ]
  },
  {
   "cell_type": "markdown",
   "metadata": {},
   "source": [
    "교환이 N회 남았을 때, 가장 큰 원소를 내림차순 순서로 정렬할 수 있는지를 확인.\n",
    "- 우선 내림차순 정렬한 뒤 k번째로 큰 숫자가 올 수 있는지의 여부를 확인한다.\n",
    "  - 이미 k번째 원소가 정렬돼있으면 패스\n",
    "  - 올 수 있다면 k의 위치를 옮기고 `인덱스 거리`만큼 N에서 뺀다.\n",
    "  - 올 수 없다면 k+1번째 원소의 위치변환 가능 여부를 확인한다.\n",
    "\n",
    "- 사전순으로 앞서는것 != 숫자로 앞서는 것\n",
    "- 가장 큰 수가 최대한 앞서는 것이 중요했다. 옮기지 못하면 무조건 안되는 것이 아니라.\n",
    "  - 너무 복잡하게 생각한건지 증명안한게 잘못인지 모르겠네"
   ]
  },
  {
   "cell_type": "code",
   "execution_count": null,
   "metadata": {},
   "outputs": [],
   "source": [
    "import sys\n",
    "input=sys.stdin.readline\n",
    "\n",
    "def sol() :\n",
    "  N = int(input())\n",
    "  L = list(map(int, input().split()))\n",
    "\n",
    "  cnt = int(input())\n",
    "  for i in range(N) : #원소를 옮겨야 하는 위치\n",
    "    j = N\n",
    "    while True :\n",
    "      if i == L.index(max(L[i:j])) : break\n",
    "      else :\n",
    "        if (k := L.index(max(L[i:j]))) - i <= cnt :\n",
    "          cnt -= k - i\n",
    "          for k in range(k-1, i-1, -1) :\n",
    "            L[k], L[k+1] = L[k+1], L[k]\n",
    "        else :\n",
    "          j -= 1\n",
    "  \n",
    "  print(*L)\n",
    "sol()"
   ]
  },
  {
   "cell_type": "markdown",
   "metadata": {},
   "source": [
    "- 주워진 S번 안에 가능한 가장 큰 수를 swap해야 하는 문제."
   ]
  }
 ],
 "metadata": {
  "language_info": {
   "name": "python"
  }
 },
 "nbformat": 4,
 "nbformat_minor": 2
}
