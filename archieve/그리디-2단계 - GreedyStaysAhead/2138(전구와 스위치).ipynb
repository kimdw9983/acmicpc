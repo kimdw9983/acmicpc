{
 "cells": [
  {
   "cell_type": "code",
   "execution_count": null,
   "metadata": {},
   "outputs": [],
   "source": [
    "import io, os \n",
    "input=io.BytesIO(os.read(0,os.fstat(0).st_size)).readline\n",
    "\n",
    "#0 = 48\n",
    "def sol() :\n",
    "  N = int(input())\n",
    "  X1 = [*map(lambda x: x-48, input().rstrip())] #처음에 누르지 않고 시작하는 경우\n",
    "  X2 = X1[:] #처음에 누르고 시작하는 경우\n",
    "  Y = [*map(lambda x: x-48, input().rstrip())]\n",
    "\n",
    "  def switch(L, i) :\n",
    "    for di in (-1, 0, 1) :\n",
    "      if 0 <= i+di < N :\n",
    "        L[i+di] ^= 1\n",
    "\n",
    "  switch(X2, 0)\n",
    "  cnt1, cnt2 = 0, 1\n",
    "  for i in range(1, N) :\n",
    "    if X1[i-1] != Y[i-1] :\n",
    "      switch(X1, i)\n",
    "      cnt1 += 1\n",
    "    if X2[i-1] != Y[i-1] :\n",
    "      switch(X2, i)\n",
    "      cnt2 += 1\n",
    "  \n",
    "  if X1 != Y : cnt1 = float('inf')\n",
    "  if X2 != Y : cnt2 = float('inf')\n",
    "  ans = min(cnt1, cnt2)\n",
    "  print(ans if ans != float('inf') else -1)\n",
    "\n",
    "sol()"
   ]
  },
  {
   "cell_type": "markdown",
   "metadata": {},
   "source": [
    "### 풀이\n",
    "- n-1 번째의 전구에 영향을 끼칠 수 있는 마지막 스위치는 n번째 스위치다.\n",
    "  - `n번째 스위치의 조작을 통해 n-1번째의 상태를 확정할 수 있다.`\n",
    "  - 따라서 Y를 살펴보면서 n-1번째 전구의 상태를 누를지 말지 정하면 된다.\n",
    "- 단, 1번째 전구는 n-1번째가 존재하지 않으므로, 기저상태로서 `스위치를 키고시작하는 경우`와 그렇지 않은 경우로 나누어서 둘의 최솟값을 출력하면 된다."
   ]
  }
 ],
 "metadata": {
  "language_info": {
   "name": "python"
  },
  "orig_nbformat": 4
 },
 "nbformat": 4,
 "nbformat_minor": 2
}
