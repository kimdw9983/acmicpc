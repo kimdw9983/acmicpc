{
 "cells": [
  {
   "cell_type": "code",
   "execution_count": null,
   "metadata": {},
   "outputs": [],
   "source": [
    "import io, os\n",
    "input=io.BytesIO(os.read(0,os.fstat(0).st_size)).readline\n",
    "N = int(input())\n",
    "L = [int(input()) for _ in range(N)]\n",
    "L.sort()\n",
    "\n",
    "ans = 0\n",
    "for i, v in enumerate(L) :\n",
    "  ans = max(ans, v * (N - i))\n",
    "\n",
    "print(ans)"
   ]
  },
  {
   "cell_type": "markdown",
   "metadata": {},
   "source": [
    "- 당연히 자력솔\n",
    "\n",
    "### 증명\n",
    "- 중량이 `W`인 물체를 들어올릴 때 사용한 로프가 `k`개 라고 한다면\\\n",
    "`로프 각각이 지탱하는 중량` $\\le \\frac W k$를 항상 만족한다.\n",
    "- 따라서 `k`개의 로프를 사용하여 물체를 들어올릴 수 있는 가능한 최대의 `W`는\n",
    "  - `사용한 로프 중 가장 작은 중량을 지탱하는 로프` $\\times$ `사용한 로프의 개수` = $\\frac W k \\times k = W$ 이다.\n",
    "  - 이때 `사용한 로프 중 가장 작은 중량을 지탱하는 로프`의 최대값은 중량 중 `k`번째로 큰 로프의 중량이다.\n",
    "- 그러나 로프의 개수만으로는 중량을 구할 수 없으므로, 사용할 로프의 개수를 1~N개로 늘려가며 최대 중량을 갱신하는 것이 답이다."
   ]
  }
 ],
 "metadata": {
  "language_info": {
   "name": "python"
  },
  "orig_nbformat": 4
 },
 "nbformat": 4,
 "nbformat_minor": 2
}
