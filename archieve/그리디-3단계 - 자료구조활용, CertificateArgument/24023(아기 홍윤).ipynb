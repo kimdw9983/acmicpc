{
 "cells": [
  {
   "cell_type": "code",
   "execution_count": null,
   "metadata": {},
   "outputs": [],
   "source": [
    "import io, os\n",
    "input=io.BytesIO(os.read(0,os.fstat(0).st_size)).readline\n",
    "\n",
    "def sol() :\n",
    "  N, K = map(int, input().split())\n",
    "  mask = (1 << 30) - 1\n",
    "  check = K ^ mask\n",
    "  \n",
    "  s = e = 1 #구간 [s, e]의 bit합 x\n",
    "  x = 0\n",
    "  for i, v in enumerate(map(int, input().split()), 1) :\n",
    "    if v & check : #필요하지 않은 bit가 있을 경우 초기화\n",
    "      s = i + 1\n",
    "      x = 0\n",
    "      continue\n",
    "    else :\n",
    "      e = i #그렇지 않다면 구간 확장\n",
    "      if x | v == K : \n",
    "        return print(s, e)\n",
    "      x |= v\n",
    "\n",
    "  print(-1)\n",
    "\n",
    "sol()"
   ]
  },
  {
   "cell_type": "markdown",
   "metadata": {},
   "source": [
    "5 7\n",
    "8 1 2 5 9\n",
    "5 6\n",
    "2 7 4 1 4\n",
    "5 15\n",
    "1 2 4 8 16"
   ]
  },
  {
   "cell_type": "markdown",
   "metadata": {},
   "source": [
    "### 자력솔\n",
    "- 매번 구간의 비트합을 구하다가 K에 포함되지 않은 bit가 포함되면 구간을 초기화하는 식으로 구현하면 된다.\n",
    "  - (관찰) K에 포함되지 않은 bit와의 bit합을 구하면 그 누적합은 절대로 K를 만들 수 없기 때문이다.\n",
    "- 그리디는 엣지케이스를 특히 잘 깎아야 하는 것 같다. 첫번째 원소가 포함된 구간이 있으면 0이아니라 1을 출력해야 했다."
   ]
  }
 ],
 "metadata": {
  "language_info": {
   "name": "python"
  },
  "orig_nbformat": 4
 },
 "nbformat": 4,
 "nbformat_minor": 2
}
