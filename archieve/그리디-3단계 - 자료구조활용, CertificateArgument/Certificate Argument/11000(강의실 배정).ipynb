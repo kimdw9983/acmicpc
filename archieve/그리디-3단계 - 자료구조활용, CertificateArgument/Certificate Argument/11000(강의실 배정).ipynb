{
 "cells": [
  {
   "cell_type": "markdown",
   "metadata": {},
   "source": [
    "### 시간초과난 풀이"
   ]
  },
  {
   "cell_type": "code",
   "execution_count": null,
   "metadata": {},
   "outputs": [],
   "source": [
    "import io, os\n",
    "input=io.BytesIO(os.read(0,os.fstat(0).st_size)).readline\n",
    "\n",
    "def sol() :\n",
    "  N = int(input())\n",
    "  L = [tuple(map(int, input().split())) for _ in range(N)]\n",
    "  L.sort()\n",
    "  \n",
    "  G = []\n",
    "  for s, e in L :\n",
    "    for l in G :\n",
    "      if l[-1][1] <= s : \n",
    "        l.append((s, e))\n",
    "        break\n",
    "    else :\n",
    "      G.append([(s, e)])\n",
    "  \n",
    "  print(len(G)) \n",
    "\n",
    "sol()"
   ]
  },
  {
   "cell_type": "markdown",
   "metadata": {},
   "source": [
    "- 20만개의 데이터를 정렬하는데까지 1초면 된다고 생각했는데, list안에 list를 추가하는 과정에서 시간이 굉장히 오래걸린 듯 하다."
   ]
  },
  {
   "cell_type": "code",
   "execution_count": null,
   "metadata": {},
   "outputs": [],
   "source": [
    "import io, os, heapq\n",
    "input=io.BytesIO(os.read(0,os.fstat(0).st_size)).readline\n",
    "\n",
    "def sol() :\n",
    "  N = int(input())\n",
    "  L = [tuple(map(int, input().split())) for _ in range(N)]\n",
    "  L.sort()\n",
    "\n",
    "  G = [L[0][1]]\n",
    "  for s, e in L[1:] :\n",
    "    if s < G[0] : #가장 먼저 끝나는 회의보다도 시작시간이 빠르면\n",
    "      heapq.heappush(G, e) #새로운 회의를 추가\n",
    "    else :\n",
    "      heapq.heappushpop(G, e) #적어도 한 공간엔 회의를 배정할 수 있고, 가장 빨리 끝나는 회의는 반드시 그 공간에 포함되어 있다. 따라서 그것과 교체.\n",
    "  \n",
    "  print(len(G)) \n",
    "\n",
    "sol()"
   ]
  },
  {
   "cell_type": "markdown",
   "metadata": {},
   "source": [
    "### 풀이\n",
    "- 주석에 거의 나와있지만, 회의의 시작시간 기준으로 정렬 후 종료시간을 heap에 넣는 것으로 풀 수 있다. 자세한건 algorithm 증명파트에서 다루겠다."
   ]
  }
 ],
 "metadata": {
  "language_info": {
   "name": "python"
  },
  "orig_nbformat": 4
 },
 "nbformat": 4,
 "nbformat_minor": 2
}
