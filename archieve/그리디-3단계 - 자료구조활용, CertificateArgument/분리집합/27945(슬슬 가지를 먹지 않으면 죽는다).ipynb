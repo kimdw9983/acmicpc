{
 "cells": [
  {
   "cell_type": "code",
   "execution_count": null,
   "metadata": {},
   "outputs": [],
   "source": [
    "import io, os, collections\n",
    "input=io.BytesIO(os.read(0,os.fstat(0).st_size)).readline\n",
    "\n",
    "MAX = 10**5 * 5\n",
    "def sol() :\n",
    "  N, M = map(int, input().split())\n",
    "  G = [[] for _ in range(N)]\n",
    "  for _ in range(M) :\n",
    "    u, v, t = map(int, input().split())\n",
    "    G[u-1].append(v-1)\n",
    "    G[v-1].append(u-1)\n",
    "    if t <= MAX : #간선의 총 개수보다 길게살 수 없음.\n",
    "      G[u-1].append(t-1+N) #경로 탐색에서 추가할 경로는 아님. vis에는 추가됨.\n",
    "      G[v-1].append(t-1+N)\n",
    "    if t == 1 :\n",
    "      s = [u-1, v-1]\n",
    "\n",
    "  vis = [False] * (N + MAX)\n",
    "  # bfs with level limit of N\n",
    "  Q = s\n",
    "  lvl = 0\n",
    "  while lvl < N-1 :\n",
    "    nextQ = []\n",
    "    while Q :\n",
    "      u = Q.pop()\n",
    "      for v in G[u] :\n",
    "        if not vis[v] :\n",
    "          vis[v] = True\n",
    "          if v >= N: continue\n",
    "          nextQ.append(v)\n",
    "    lvl += 1\n",
    "    Q = nextQ\n",
    "  \n",
    "  print(vis[N:N+10])\n",
    "\n",
    "sol()"
   ]
  },
  {
   "cell_type": "markdown",
   "metadata": {},
   "source": [
    "- 1일차에 접근할 수 있는 노점에서부터 깊이가 N-1인 BFS를 수행하는 것으로 접근했다.\n",
    "  - 하지만 BFS로 접근했을 때 기억할 수 있는 간선의 숫자보다 더 많은 간선을 보게 되므로 원하는 정답이 나오지 않았다."
   ]
  },
  {
   "cell_type": "code",
   "execution_count": null,
   "metadata": {},
   "outputs": [],
   "source": [
    "import io, os\n",
    "input=io.BytesIO(os.read(0,os.fstat(0).st_size)).readline\n",
    "\n",
    "class DSU:\n",
    "  def __init__(self, n):\n",
    "    self.P = list(range(n))\n",
    "    self.s = [1] * n\n",
    "\n",
    "  def find(self, a):\n",
    "    _a = a\n",
    "    while a != self.P[a]:\n",
    "      a = self.P[a]\n",
    "    while _a != a:\n",
    "      self.P[_a], _a = a, self.P[_a]\n",
    "    return a\n",
    "\n",
    "  def union(self, a, b):\n",
    "    a, b = self.find(a), self.find(b)\n",
    "    if a != b:\n",
    "      if self.s[a] < self.s[b]:\n",
    "        a, b = b, a\n",
    "\n",
    "      self.P[b] = a\n",
    "      self.s[a] += self.s[b]\n",
    "\n",
    "def sol() :\n",
    "  N, M = map(int, input().split())\n",
    "  E = [tuple(map(int, input().split())) for _ in range(M)]\n",
    "  E.sort(key=lambda x: x[2])\n",
    "\n",
    "  uf = DSU(N)\n",
    "  ans = 1\n",
    "  for i, (u, v, t) in enumerate(E, 1):\n",
    "    if i != t: break #연속하는 날짜가 아니면 키위는 쓰러질 것이다.\n",
    "    #두 요리학원을 잇는 길은 많아야 하나이며, 최대 N-1개의 길만 기억할 수 있으므로, 모든 간선은 모든 정점에 도달가능하게 연결되어야 한다.\n",
    "    if uf.find(u-1) == uf.find(v-1): break #두 정점을 이어야 하는 간선이 사이클을 이루게 되면, 모든 간선에 도달하게 연결할 수 없게 되므로 이을 수 없는 간선이 된다.\n",
    "    uf.union(u-1, v-1)\n",
    "    ans += 1\n",
    "    \n",
    "  print(ans)\n",
    "  \n",
    "sol()"
   ]
  },
  {
   "cell_type": "markdown",
   "metadata": {},
   "source": [
    "- Union Find 문제였다. 설명은 주석에 적어두었다.\n",
    "- 문제를 좀 더 잘읽어야할것같다.."
   ]
  }
 ],
 "metadata": {
  "language_info": {
   "name": "python"
  },
  "orig_nbformat": 4
 },
 "nbformat": 4,
 "nbformat_minor": 2
}
