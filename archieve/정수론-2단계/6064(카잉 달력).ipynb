{
 "cells": [
  {
   "cell_type": "markdown",
   "metadata": {},
   "source": [
    "### 해석\n",
    "- N과 M의 최소공배수마다 1, 1로 돌아온다는 사실을 알 수 있다.\n",
    "- 각 숫자는 N과 M마다 돌아온다. 즉 <x: y>은 `M`으로 나눴을 때 나머지가 `x`, `N`으로 나눴을 때 나머지가 `y`인 숫자를 한다고 볼 수 있다.\n",
    "  - 예제1. T1 => 10으로 나눴을때 나머지가 3, 12로 나눴을때 나머지가 9인 숫자 = 33\n",
    "  - 구하고 싶은 답을 `a`, 왼쪽 값을 `x`라고 한다면, $a \\equiv x \\pmod{N}$, 즉 a에 N의 배수를 더했을 때 계속 x가 나온다.\n",
    "\n",
    "### 풀이\n",
    "- 둘중 하나의 값(이 문제에선 x)를 미리 정해놓고 거기에 M씩 더하면서 나머지가 y인 값을 찾는다.\n",
    "- 그런데 이 값이 lcm(N, M)보다 커지면 더 이상 답이 없는 것이므로 -1을 출력한다."
   ]
  },
  {
   "cell_type": "code",
   "execution_count": null,
   "metadata": {},
   "outputs": [],
   "source": [
    "import io, os\n",
    "input=io.BytesIO(os.read(0,os.fstat(0).st_size)).readline\n",
    "\n",
    "def sol():\n",
    "  M, N, x, y = map(int, input().split())\n",
    "\n",
    "  res = x\n",
    "  y %= N\n",
    "  while res <= N * M and res % N != y:\n",
    "    res += M\n",
    "\n",
    "  if res > M * N :\n",
    "    return -1\n",
    "  return res\n",
    "\n",
    "for _ in range(int(input())) :\n",
    "  print(sol())"
   ]
  },
  {
   "cell_type": "markdown",
   "metadata": {},
   "source": [
    "### 확장유클리드알고리즘(xGCD) 활용풀이"
   ]
  },
  {
   "cell_type": "code",
   "execution_count": null,
   "metadata": {},
   "outputs": [],
   "source": [
    "import io, os\n",
    "input=io.BytesIO(os.read(0,os.fstat(0).st_size)).readline\n",
    "\n",
    "def xGCD(a, b):\n",
    "  s, old_s = 0, 1\n",
    "  r, old_r = b, a\n",
    "  while r:\n",
    "    q = old_r // r\n",
    "    old_r, r = r, old_r - q * r\n",
    "    old_s, s = s, old_s - q * s\n",
    "  return old_r, old_s, (old_r - old_s * a) // b if b else 0\n",
    "\n",
    "def sol():\n",
    "  M, N, x, y = map(int, input().split())\n",
    "  d = x-y\n",
    "\n",
    "  g, a, b = xGCD(M, N)\n",
    "  if d % g :\n",
    "    return -1\n",
    "\n",
    "  k = d // g\n",
    "  k = x - k * a * M\n",
    "  return (k-1) % (M*N//g) + 1\n",
    "\n",
    "for _ in range(int(input())) :\n",
    "  print(sol())"
   ]
  }
 ],
 "metadata": {
  "language_info": {
   "name": "python"
  },
  "orig_nbformat": 4
 },
 "nbformat": 4,
 "nbformat_minor": 2
}
