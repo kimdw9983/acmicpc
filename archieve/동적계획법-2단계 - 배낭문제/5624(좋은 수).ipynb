{
 "cells": [
  {
   "cell_type": "markdown",
   "metadata": {},
   "source": [
    "### 접근\n",
    "- i보다 앞에있는 수를 여러번 더할 수 있으나, 수를 정확히 3번 써야 하기 때문에 단일 숫자로 $a_i$를 만들려면 그 숫자의 3배가 $a_i$여야 한다.\n",
    "- 어떤 두 수의 합만으로 만들 수 있는 조합들을 모두 구해놓고 그걸로 푸는 문제일까?\n",
    "  - 2500개의 숫자중 중복을 허용하여 2개씩 고르는 경우의 수는 2500^2 = 6,250,000 개\n",
    "  - 나올 수 있는 숫자의 범위는 각 숫자가 3번씩 나올 수 있으므로 [-300_000,  300_000]로 총 600,000개\n",
    "- 혹시 모르니 브루트포스가 가능한지 고민해보자.\n",
    "  - 3개중 중복을 허용하여 숫자 3개를 고른 합을 고르는 경우의 수 3^3 = 27, 숫자가 5000개니까 27 * 5000 = 135,000 \n",
    "\n",
    "### 접근2\n",
    "- 문제를 잘못읽었다. i의 앞에있는 모든 수의 조합이였다.\n",
    "- 두 수의 합으로 만들 수 있는 경우의 수를 모두 구해보는데, i번째보다 앞에있는 수들로만 만들 수 있다는 표시를 해야 할 것이다.\n",
    "  - `DP[i] = j(or None)` DP[i]는 j보다 앞에있는 숫자들의 합으로 만들 수 있다.\n",
    "  - 즉 j < k 인 수에 대해 `a_i + a_k`로 어떤 수 n을 만들 수 있다면 DP[n] = k인 식이다."
   ]
  },
  {
   "cell_type": "code",
   "execution_count": null,
   "metadata": {},
   "outputs": [],
   "source": [
    "import itertools, sys\n",
    "input= sys.stdin.readline\n",
    "N = int(input())\n",
    "L = [*map(int, input().split())]\n",
    "MAX = 100000 #[-MAX: MAX]\n",
    "\n",
    "DP = [float(\"inf\")] * (MAX *2 *2 + 1) #DP[i] = y; 어떤 두 수의 합 i는 y번째 인덱스 앞에서 만들 수 있다.\n",
    "for w in itertools.product(zip(L, range(N)), repeat=2) :\n",
    "  n = w[0][0] + w[1][0] + MAX\n",
    "  DP[n] = min(DP[n], max(w, key = lambda x: x[1])[1])\n",
    "  \n",
    "answer = 0\n",
    "for i, v in enumerate(L[1:], 1) :  \n",
    "  if L[i-1] * 3 == v :\n",
    "    answer += 1\n",
    "    continue\n",
    "\n",
    "  has = False\n",
    "  for j in range(i-1) :\n",
    "    X = DP[MAX + v - L[j]]\n",
    "    if (X != float(\"inf\") and X < i) :\n",
    "      has = True\n",
    "      break\n",
    "  answer += 1 if has else 0\n",
    "print(answer)"
   ]
  },
  {
   "cell_type": "markdown",
   "metadata": {},
   "source": [
    "- PyPy 풀이시간 꼴등 달성\n",
    "\n",
    "### 풀이\n",
    "- 문제를 플레급 발상으로 느리게 풀었다..\n",
    "- DP[i] = j(or None) DP[i]는 j보다 앞에있는 숫자들의 합으로 만들 수 있다.\n",
    "  - 수열 L에서 모든 두 수의 합을 구하고, 그 두수의 합의 인덱스 중에서 높은 것 y를 DP[i]의 값과 비교하여 더 낮은 숫자로 갱신하면 된다.\n",
    "- i번째 숫자들에 대해 j < i인 모든 숫자들을 살펴보면서, DP[$a_i - a_j$]가 현재 i보다 작으면, 즉 앞에있는 숫자들의 합으로만 만들 수 있는 수라면 정답을 1 증가시킨다.\n",
    "  - 그리고 i-1에 등장한 수를 3번 써서 만들 수 있는 경우도 고려해야 한다."
   ]
  },
  {
   "cell_type": "markdown",
   "metadata": {},
   "source": [
    "### 더 빠른 풀이\n",
    "- 처음에 무조건 시간초과가 날 것이라고 생각해서 배제했던 풀이가 가장 빠른 것이였다.\n",
    "- 다만 여기서 n의 범위가 적당하게 정해져있어 해싱 문제가 없으므로 set을 사용하는 발상이 추가된 풀이이다.\n",
    "  - `num` = i보다 앞에있는 숫자 set\n",
    "  - `sum` = i보다 앞에있는 숫자 2개의 합으로 만들 수 있는 숫자 set\n",
    "- $a_i$를 `num`안의 숫자 `j`를 살펴보면서 $a_i - a_j$가 sum안에 있으면 정답을 1 증가시킨다.\n",
    "- 그리고 $a_i$가 `num`안에 없으면 추가하고, `sum`안에 있는 모든 숫자 `s`들에 대해 $a_i + s$를 `sum`에 추가한다."
   ]
  },
  {
   "cell_type": "code",
   "execution_count": null,
   "metadata": {},
   "outputs": [],
   "source": [
    "import sys\n",
    "input= sys.stdin.readline\n",
    "def sol() :\n",
    "  input()\n",
    "  L = [*map(int, input().split())]\n",
    "\n",
    "  answer = 0 \n",
    "  num = set() #i보다 왼쪽에 있는 수\n",
    "  sum = set() #i보다 앞에있는 수 2개의 합으로 만들 수 있는 수\n",
    "  for n in L :\n",
    "    for pre_n in num :\n",
    "      if n - pre_n in sum :\n",
    "        answer += 1\n",
    "        break\n",
    "    \n",
    "    if n not in num :\n",
    "      num.add(n)\n",
    "      for pre_n in num :\n",
    "        sum.add(n + pre_n)\n",
    "  \n",
    "  print(answer)\n",
    "\n",
    "sol()"
   ]
  }
 ],
 "metadata": {
  "language_info": {
   "name": "python"
  },
  "orig_nbformat": 4
 },
 "nbformat": 4,
 "nbformat_minor": 2
}
