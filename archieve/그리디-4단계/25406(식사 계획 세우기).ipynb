{
 "cells": [
  {
   "cell_type": "markdown",
   "metadata": {},
   "source": [
    "- 뭐이리 어려웠나 싶더니만, Python에는 std::set같은 자료구조가 없었다.\n",
    "  - 상급 그리디 정렬문제들은 발상의 궤를 좀 바꿔야할것같다."
   ]
  },
  {
   "cell_type": "markdown",
   "metadata": {},
   "source": [
    "### std:set\n",
    "- key(, compare, allocator)\n",
    "- 중복 허용 X\n",
    "- key 기준으로 정렬"
   ]
  },
  {
   "cell_type": "markdown",
   "metadata": {},
   "source": [
    "### 풀이\n",
    "- https://koi.or.kr/assets/koi/2022/2/solutions/meal-plan.pdf\n",
    "- 각 음식 종류를 카운팅 하는것까진 맞았다. \n",
    "- 현재 식당 집합 $S$ 의 각 음식 종류 집합 $X$ 에 대해 $X_i$ 번째 음식의 개수를 $K_i$ 라고 하자.\n",
    "- 그리고 $\\arg\\max_{i} K_i$ 를 $K_{\\max}$ 라고 하자.\n",
    "- 올바른 식사 계획조건을 배치할 수 있다는 것은 $K_{\\max} \\leq \\lceil \\frac {M}{2} \\rceil$ 을 만족한다는 뜻이다. \n",
    "  - 가운데에 끼워넣는 방법으로 항상 배치할 수 있기 때문\n",
    "- $S$ 에서 식사 배치를 사전순으로 앞서는 것을 구성하면서 $K_{\\max}$ 를 관리하면 된다."
   ]
  },
  {
   "cell_type": "markdown",
   "metadata": {},
   "source": [
    "### 구현\n",
    "- std:set이 없다. list로 변환하고 sorted(key= ...)을 이용하면 될것같다."
   ]
  },
  {
   "cell_type": "code",
   "execution_count": null,
   "metadata": {},
   "outputs": [],
   "source": [
    "import io, os, heapq, math\n",
    "input=io.BytesIO(os.read(0,os.fstat(0).st_size)).readline\n",
    "\n",
    "def sol() :\n",
    "  N = int(input())\n",
    "  L = list(map(int, input().split()))\n",
    "\n",
    "  Hq = [[] for _ in range(max(L)+1)]\n",
    "  for i, v in enumerate(L) :\n",
    "    heapq.heappush(Hq[v], i+1)\n",
    "    if len(Hq[v]) > math.ceil(N/2): return print(-1)\n",
    "\n",
    "  S, I = {}, {}\n",
    "  for i, h in enumerate(Hq) :\n",
    "    if lh := len(h): \n",
    "      S[lh, i] = (lh, i)\n",
    "      I[h[0], i] = (h[0], i)\n",
    "  Si, Ii = sorted(S, key=S.__getitem__), sorted(I, key=I.__getitem__, reverse=True)\n",
    "\n",
    "  last = -1\n",
    "  left = N\n",
    "  ans = []\n",
    "  while left :\n",
    "    left -= 1\n",
    "    if Si[-1][0] > math.ceil(left/2) :\n",
    "      cnt, v = Si.pop()\n",
    "      i = heapq.heappop(Hq[v])\n",
    "      \n",
    "      last = v\n",
    "      ans.append(i)\n",
    "      del I[i, v]\n",
    "      del S[cnt, v]\n",
    "      \n",
    "      if cnt-1 :\n",
    "        S[cnt-1, v] = (cnt-1, v)\n",
    "        I[Hq[v][0], v] = (Hq[v][0], v)\n",
    "      Si, Ii = sorted(S, key=S.__getitem__), sorted(I, key=I.__getitem__, reverse=True)\n",
    "    else :\n",
    "      i, v = Ii.pop()\n",
    "      while v == last and Ii : i, v = Ii.pop()\n",
    "      cnt = len(Hq[v])\n",
    "\n",
    "      last = v\n",
    "      ans.append(i)\n",
    "\n",
    "      heapq.heappop(Hq[v])\n",
    "      del I[i, v]\n",
    "      del S[cnt, v]\n",
    "\n",
    "      if cnt-1 :\n",
    "        S[cnt-1, v] = (cnt-1, v)\n",
    "        I[Hq[v][0], v] = (Hq[v][0], v)\n",
    "\n",
    "      Si, Ii = sorted(S, key=S.__getitem__), sorted(I, key=I.__getitem__, reverse=True)\n",
    "\n",
    "  print(*ans)\n",
    "sol()"
   ]
  },
  {
   "cell_type": "markdown",
   "metadata": {},
   "source": [
    "- 시간복잡도 답도없네. SortedSet 자체구현전까지 봉인해야겠다."
   ]
  }
 ],
 "metadata": {
  "language_info": {
   "name": "python"
  }
 },
 "nbformat": 4,
 "nbformat_minor": 2
}
