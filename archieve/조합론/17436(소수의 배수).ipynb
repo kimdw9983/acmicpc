{
 "cells": [
  {
   "cell_type": "code",
   "execution_count": null,
   "metadata": {},
   "outputs": [],
   "source": [
    "import itertools\n",
    "N, M = map(int, input().split())\n",
    "L = [*map(int, input().split())]\n",
    "\n",
    "answer = 0\n",
    "for i in range(1, N+1) :\n",
    "  for w in itertools.combinations(L, i) :\n",
    "    res = 1\n",
    "    for a in w :\n",
    "      res *= a\n",
    "    answer += (M // res) * (-1)**(i+1)\n",
    "print(answer)"
   ]
  },
  {
   "attachments": {},
   "cell_type": "markdown",
   "metadata": {},
   "source": [
    "### 풀이(자력솔?)\n",
    "- 포함배제의 원리 기본문제\n",
    "- `M이하에서 N으로 적어도 하나로 나누어 떨어지는 수의 개수` = `M // N`인 개수\n",
    "- 2와 3을 기준으로 생각한다면 `2의 배수의 개수` + `3의 배수의 개수` - `6(2*3)의 배수의 개수`라고 생각할 수 있다. 이를 포함배제원리식에 적용시켜서 정답을 출력한다."
   ]
  }
 ],
 "metadata": {
  "language_info": {
   "name": "python"
  },
  "orig_nbformat": 4
 },
 "nbformat": 4,
 "nbformat_minor": 2
}
