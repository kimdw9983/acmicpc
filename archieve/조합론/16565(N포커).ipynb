{
 "cells": [
  {
   "cell_type": "code",
   "execution_count": null,
   "metadata": {},
   "outputs": [],
   "source": [
    "def gnCr(max_n=2 * 10**5, mod=10**9 + 7):\n",
    "  max_n = min(max_n, mod - 1)\n",
    "\n",
    "  fact, inv_fact = [0] * (max_n + 1), [0] * (max_n + 1)\n",
    "  fact[0] = 1\n",
    "  for i in range(max_n):\n",
    "    fact[i + 1] = fact[i] * (i + 1) % mod\n",
    "\n",
    "  inv_fact[-1] = pow(fact[-1], mod - 2, mod)\n",
    "  for i in reversed(range(max_n)):\n",
    "    inv_fact[i] = inv_fact[i + 1] * (i + 1) % mod\n",
    "\n",
    "  def nCr_mod(n, r):\n",
    "    res = 1\n",
    "    while n or r:\n",
    "      a, b = n % mod, r % mod\n",
    "      if a < b:\n",
    "        return 0\n",
    "      res = res * fact[a] % mod * inv_fact[b] % mod * inv_fact[a - b] % mod\n",
    "      n //= mod\n",
    "      r //= mod\n",
    "    return res\n",
    "\n",
    "  return nCr_mod\n",
    "\n",
    "MOD = 10007\n",
    "nCr = gnCr(48, MOD)\n",
    "def sol() :\n",
    "  N = int(input())\n",
    "  X = 0\n",
    "  for i in range(1, 14) :\n",
    "    X += nCr(13, i) * nCr(52-(4*i), N-(i*4)) % MOD * (-1)**(i+1)\n",
    "    X %= MOD\n",
    "  print(X)\n",
    "\n",
    "sol()"
   ]
  },
  {
   "attachments": {},
   "cell_type": "markdown",
   "metadata": {},
   "source": [
    "### 풀이\n",
    "- N장의 카드 중에서 포카드가 1개, 2개, 3개, ...n개 나오는 경우의 수를 구하면 된다.\n",
    "- 이때 1개 이상 나온경우 모두 똑같은 '우승'이라는 개념으로 생략되기 때문에 합집합으로 생각할 수 있다.\n",
    "- 이에따라 포함배제원리를 통해 포카드가 홀수개 나올땐 더하고, 짝수개 나올땐 빼는식으로 구하면 된다."
   ]
  }
 ],
 "metadata": {
  "language_info": {
   "name": "python"
  },
  "orig_nbformat": 4
 },
 "nbformat": 4,
 "nbformat_minor": 2
}
