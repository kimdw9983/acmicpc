{
 "cells": [
  {
   "cell_type": "code",
   "execution_count": null,
   "metadata": {},
   "outputs": [],
   "source": [
    "import math\n",
    "\n",
    "def lcm(a, b) :\n",
    "  return abs(a * b) // math.gcd(a, b)\n",
    "\n",
    "D, P, Q = map(int, input().split())\n",
    "l = lcm(P, Q)\n",
    "if D > 2 * l :\n",
    "  D = D % l + l\n",
    "\n",
    "ans = 10 ** 9 + 1\n",
    "P, Q = sorted([P, Q])\n",
    "for i in range(2 * P) :\n",
    "  x = math.ceil((D - i * Q) / P)\n",
    "  if x < 0 : continue\n",
    "  ans = min(ans, P * x + i * Q)\n",
    "\n",
    "print(ans)"
   ]
  },
  {
   "cell_type": "markdown",
   "metadata": {},
   "source": [
    "17 7 13\n",
    "21 7 13\n",
    "17 7 9\n",
    "37 9 17\n",
    "287341 2345 7253\n",
    "2 99999971 99999989"
   ]
  },
  {
   "cell_type": "markdown",
   "metadata": {},
   "source": [
    "- 2 99999971 99999989\n",
    "- 69999989 99999971 99999989\n",
    "- 위 방법으로 찾으면 위의 테케에서 시간초과가 난다."
   ]
  },
  {
   "cell_type": "code",
   "execution_count": null,
   "metadata": {},
   "outputs": [],
   "source": [
    "def sol() :\n",
    "  D, P, Q = map(int, input().split())\n",
    "  if not D % P or not D % Q : #나누어 떨어질 경우 D를 그대로 출력한다.\n",
    "    return print(D)\n",
    "  \n",
    "  P, Q = sorted([P, Q])\n",
    "  x = D // Q + 1 #D 이상이 되게 하는 Q의 배수 중 가장 작은 수\n",
    "  ans = Q * x\n",
    "\n",
    "  for i in range(x-1, -1, -1) : #Q의 개수를 하나씩 줄여가면서 D 이상의 수를 만드는 P의 배수를 찾는다.\n",
    "    div, mod = divmod(D - (i * Q), P)\n",
    "    if not mod : return print(D) #나누어 떨어질 경우 D를 그대로 출력한다.\n",
    "    y = (i * Q) + ((div + 1) * P) #iQ가 더해져 있는 상황에서, D 이상이 되게 하는 P의 배수 중 가장 작은 수\n",
    "    if ans == y : break #answer이 반복되는 경우, 더 이상 탐색할 필요가 없다.\n",
    "    ans = min(ans, y)\n",
    "  \n",
    "  return print(ans)\n",
    "\n",
    "sol()"
   ]
  },
  {
   "cell_type": "markdown",
   "metadata": {},
   "source": [
    "### 풀이\n",
    "- `D` 이상이 되는 최소의 `Q`의 배수 $x = Qn$(n은 자연수) 를 기준으로, 범위 $i := [0, n-1]$ 를 순회하면서 $Qi + Pm <= D$ 이 성립하는 $m$ 의 최소값을 구하여, 순회중에 나온 최솟값을 구하면 된다.\n",
    "- 단, 여기서 `D`의 범위가 $[0, 10^9]$ 으로 아주 크므로 시간복잡도를 줄여야 한다.\n",
    "  - `P`와 `Q` 공배수인지 뭔지 모를 어떤 수를 기준으로 이 정답은 순환할 것이다. 따라서 현재까지의 최솟값 `ans` 가 또 나오면 반복지점을 찾은 것이므로 반복을 멈추고 `ans` 를 출력한다.\n",
    "  - 이때, loop는 0에서 n-1로 가지 않고, n-1에서 0으로 간다. (반례, 51, 6, 9; 답 53, 결과 54)\n"
   ]
  }
 ],
 "metadata": {
  "language_info": {
   "name": "python"
  },
  "orig_nbformat": 4
 },
 "nbformat": 4,
 "nbformat_minor": 2
}
