{
 "cells": [
  {
   "cell_type": "code",
   "execution_count": null,
   "metadata": {},
   "outputs": [],
   "source": [
    "import math, io, os\n",
    "input=io.BytesIO(os.read(0,os.fstat(0).st_size)).readline\n",
    "\n",
    "def sol() :\n",
    "  N = int(input())\n",
    "  A = list(map(int, input().split()))\n",
    "  B = A.copy()\n",
    "  A.sort()\n",
    "\n",
    "  print(\"NO\" if any(math.isqrt(a * b) ** 2 != a * b for a, b in zip(A, B)) else \"YES\")\n",
    "\n",
    "sol()"
   ]
  },
  {
   "cell_type": "markdown",
   "metadata": {},
   "source": [
    "### 아이디어\n",
    "- 어떤 수가 swap 가능하다면 정렬 가능하다.\n",
    "- 소인수분해하고 개 염병을 다했는데도 시간복잡도가 해결이 안되길래 보니까 애드혹 문제였다.."
   ]
  },
  {
   "cell_type": "markdown",
   "metadata": {},
   "source": [
    "### 풀이 \n",
    "- 배열을 비내림차순으로 정렬한게 결과물이라는 발상부터 해야할 듯 하다.\n",
    "- 배열이 어떻게 돼있던간에, 이미 비내림차순으로 배치된게 아니라면 out-of-order이므로, swap해야 한다.\n",
    "- out-of-order한 수가 swap 불가능 하다면, 문제의 정답이 즉시 NO가 된다.\n",
    "- 정렬될 배열을 $A$, 기존 배열을 $B$ 라고 했을 때, $A_i \\cdot B_i$ 가 제곱수가 아니라면 swap 불가능 하다."
   ]
  },
  {
   "cell_type": "code",
   "execution_count": null,
   "metadata": {},
   "outputs": [],
   "source": [
    "import math\n",
    "*A,=map(int,[*open(0)][1].split())\n",
    "print(\"NO\"*any(a*b>math.isqrt(a*b)**2for a,b in zip(A,sorted(A)))or\"YES\")"
   ]
  },
  {
   "cell_type": "markdown",
   "metadata": {},
   "source": [
    "- 이거는 숏코딩이 겁나 맛있어보여서 정리.\n",
    "  - 입력 부분은 unpack을 해서 list로 만드는거 같다\n",
    "  - `!=`를 `>` 로 줄임\n",
    "  - `if ~ else` 의 삼항문 대신, 조건부를 곱해서 진리값에 대한 YES와 NO를 판단"
   ]
  }
 ],
 "metadata": {
  "language_info": {
   "name": "python"
  }
 },
 "nbformat": 4,
 "nbformat_minor": 2
}
