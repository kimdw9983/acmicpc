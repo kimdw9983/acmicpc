{
 "cells": [
  {
   "cell_type": "code",
   "execution_count": null,
   "metadata": {},
   "outputs": [],
   "source": [
    "import sys \n",
    "sys.setrecursionlimit(10**6) \n",
    "\n",
    "def paint_star(LEN): \n",
    "  DIV3 = LEN//3 \n",
    "  if LEN == 3: \n",
    "    g[1] = ['*', ' ', '*'] \n",
    "    g[0][:3] = g[2][:3] = ['*']*3 \n",
    "    return \n",
    "    \n",
    "  paint_star(DIV3) \n",
    "  \n",
    "  for i in range(0, LEN, DIV3): \n",
    "    for j in range(0, LEN, DIV3): \n",
    "      if i != DIV3 or j != DIV3: \n",
    "        for k in range(DIV3): \n",
    "          g[i+k][j:j+DIV3] = g[k][:DIV3] \n",
    "                \n",
    "n = int(input().strip()) \n",
    "g = [[' ' for _ in range(n)] for _ in range(n)]\n",
    "paint_star(n) \n",
    "\n",
    "for i in range(n): \n",
    "  for j in range(n): \n",
    "    print(g[i][j], end='') \n",
    "  print()"
   ]
  },
  {
   "cell_type": "code",
   "execution_count": null,
   "metadata": {},
   "outputs": [],
   "source": [
    "def concatenate(r1, r2):\n",
    "    return [''.join(x) for x in zip(r1, r2, r1)]\n",
    "def star10(n):\n",
    "    if n == 1:\n",
    "        return ['*']\n",
    "    n //= 3\n",
    "    x = star10(n)\n",
    "    a = concatenate(x, x)\n",
    "    b = concatenate(x, [' '*n]*n)\n",
    "    return a + b + a\n",
    "print('\\n'.join(star10(int(input()))))"
   ]
  },
  {
   "cell_type": "code",
   "execution_count": null,
   "metadata": {},
   "outputs": [],
   "source": [
    "pattern = [\"***\", \"* *\", \"***\"]\n",
    "n = int(input())\n",
    "po = -1\n",
    "while n:\n",
    "    po += 1\n",
    "    n //= 3\n",
    "for i in range(1, po):\n",
    "    p1 = [j*3 for j in pattern]\n",
    "    p2 = [j+\" \"*3**i+j for j in pattern]\n",
    "    pattern = [*p1, *p2, *p1]\n",
    "print(\"\\n\".join(pattern))"
   ]
  }
 ],
 "metadata": {
  "language_info": {
   "name": "python"
  },
  "orig_nbformat": 4
 },
 "nbformat": 4,
 "nbformat_minor": 2
}
