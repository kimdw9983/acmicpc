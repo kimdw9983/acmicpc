{
 "cells": [
  {
   "cell_type": "markdown",
   "metadata": {},
   "source": [
    "### 아이디어\n",
    "- N이 30만이기 때문에 $O(N)$ 정도로 풀어야 할 것 같다.\n",
    "  - 슬라이딩 윈도우가 생각났다.\n",
    "- 대소문자 알파벳의 순열을 다룬다. 즉, 52개의 문자열만 생각하면 된다.\n",
    "- 순열을 만들어놓고 그 순열이 S에 존재하는지 확인하는 방법을 생각했다.\n",
    "  - 당연히 TLE가 나는 접근법이였고 여기서 풀이를 확인했다.\n",
    "\n",
    "### 풀이\n",
    "- 길이가 $|W|$ 인 $S$ 의 부분 문자열 $s$ 가 있고, 어떤 문자열의 각 문자의 등장 횟수(frequency)를 반환하는 함수를 $f(P)$ 라고 하자.\n",
    "  - $f(s) = f(W)$ 라면 $s$ 는 $W$ 의 순열이다.\n",
    "- 따라서 길이가 $|W|$ 인 S의 모든 부분 문자열 $[s_1, s_2, ..., s_n] \\in s$ 에 대해 $f(s_i) = f(W)$ 인 $s_i$ 의 개수를 구하면 된다.\n",
    "  - 슬라이딩 윈도우로 구현하면 되겠다."
   ]
  },
  {
   "cell_type": "code",
   "execution_count": null,
   "metadata": {},
   "outputs": [],
   "source": [
    "import io, os\n",
    "input=io.BytesIO(os.read(0,os.fstat(0).st_size)).readline\n",
    "\n",
    "def sol() :\n",
    "  input()\n",
    "  W = input().rstrip()\n",
    "  S = input().rstrip()\n",
    "\n",
    "  freq = [0] * 58 #대소문자 연속 ASCII\n",
    "  perW = [0] * 58\n",
    "  for v in W :\n",
    "    perW[v-65] += 1\n",
    "  for v in S[:len(W)] :\n",
    "    freq[v-65] += 1\n",
    "\n",
    "  ans = freq == perW #첫번째 문자열 비교\n",
    "\n",
    "  if len(S) == len(W) : return print(ans)\n",
    "  for i, v in enumerate(S[len(W):], len(W)) : #슬라이딩 윈도우\n",
    "    freq[v-65] += 1\n",
    "    freq[S[i-len(W)]-65] -= 1\n",
    "    ans += freq == perW\n",
    "  \n",
    "  print(ans)\n",
    "    \n",
    "sol()"
   ]
  },
  {
   "cell_type": "markdown",
   "metadata": {},
   "source": [
    "- 비트마스크 및 연산범위 최적화\n",
    "  - 376ms -> 232ms"
   ]
  },
  {
   "cell_type": "code",
   "execution_count": null,
   "metadata": {},
   "outputs": [],
   "source": [
    "import io, os, sys\n",
    "input=io.BytesIO(os.read(0,os.fstat(0).st_size)).readline\n",
    "\n",
    "parse = lambda x: x-65 if x < 97 else x-97+26\n",
    "def sol() :\n",
    "  g, s = map(int, input().split())\n",
    "  W = input().rstrip()\n",
    "  S = input().rstrip()\n",
    "\n",
    "  pattern = 0 #W의 비트마스크\n",
    "  cnt = 0 #S의 부분문자열의 각 문자열 등장횟수 비트마스크\n",
    "  for v in W :\n",
    "    pattern += 1 << parse(v)\n",
    "\n",
    "  for v in S[:g] :\n",
    "    cnt += 1 << parse(v)\n",
    "\n",
    "  ans = cnt == pattern #첫번째 문자열 비교\n",
    "  if g == s : return print(int(ans))\n",
    "\n",
    "  for i, v in enumerate(S[g:], g) : #슬라이딩 윈도우\n",
    "    cnt += 1 << parse(v)\n",
    "    cnt -= 1 << parse(S[i-g])\n",
    "    ans += 1 if cnt == pattern else 0\n",
    "  \n",
    "  sys.stdout.write(str(ans))\n",
    "    \n",
    "sol()"
   ]
  }
 ],
 "metadata": {
  "language_info": {
   "name": "python"
  },
  "orig_nbformat": 4
 },
 "nbformat": 4,
 "nbformat_minor": 2
}
