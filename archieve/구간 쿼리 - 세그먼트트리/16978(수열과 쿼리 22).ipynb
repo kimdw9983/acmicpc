{
 "cells": [
  {
   "cell_type": "markdown",
   "metadata": {},
   "source": [
    "### 아이디어\n",
    "- 처음에 레이지 쿼리로 생각했다. 그런데, 조금 생각해보니 쿼리 순서를 멋대로 바꿔도 될 것 같단 생각이 들었다.\n",
    "  - 자력발상인진 모르겠고, 애초에 오프라인쿼리 접근법을 배운적이 있다.\n",
    "- 쿼리를 정렬하면 될 것 같다. 1번 쿼리 > 2번쿼리 순으로.\n",
    "  - 단, 1번쿼리의 위치가 움직이면 안된다. 자명하다. 2번 쿼리만 적절히 k번째만 생각하면 된다.\n",
    "- 구현이 재밌을 것 같다.\n",
    "  - 쿼리 list에서 1번 쿼리가 나온 순서대로 정렬한다.\n",
    "  - 2번쿼리는 설명이 좀 귀찮으니 알아서 해야지"
   ]
  },
  {
   "cell_type": "code",
   "execution_count": null,
   "metadata": {},
   "outputs": [],
   "source": [
    "# type: ignore\n",
    "  while Q2 and Q1 : \n",
    "    while cur == Q2[-1][1] :\n",
    "      j, k, s, e = Q2.pop()\n",
    "      ans[j] = st.query(s - 1, e)\n",
    "    i, v = Q1.pop()\n",
    "    st[i - 1] = v\n",
    "    cur += 1"
   ]
  },
  {
   "cell_type": "markdown",
   "metadata": {},
   "source": [
    "- IndexError. 내부 while문의 Q2가 비어있을 수 있다"
   ]
  },
  {
   "cell_type": "code",
   "execution_count": null,
   "metadata": {},
   "outputs": [],
   "source": [
    "import io, os, sys\n",
    "input=io.BytesIO(os.read(0,os.fstat(0).st_size)).readline\n",
    "\n",
    "class ST:\n",
    "  def __init__(self, L, f, default=0):\n",
    "    self._def = default\n",
    "    self._f = f\n",
    "    self._len = len(L)\n",
    "    self._size = _size = 1 << (self._len - 1).bit_length()\n",
    "\n",
    "    self.seg = [default] * (2 * _size)\n",
    "    self.seg[_size:_size + self._len] = L\n",
    "    for i in reversed(range(_size)):\n",
    "      self.seg[i] = f(self.seg[i + i], self.seg[i + i + 1])\n",
    "\n",
    "  def __getitem__(self, i):\n",
    "    return self.seg[i + self._size]\n",
    "\n",
    "  def __setitem__(self, i, v):\n",
    "    i += self._size\n",
    "    self.seg[i] = v\n",
    "    i //= 2\n",
    "    while i:\n",
    "      self.seg[i] = self._f(self.seg[2 * i], self.seg[2 * i + 1])\n",
    "      i //= 2\n",
    "\n",
    "  def query(self, s, e):\n",
    "    s += self._size\n",
    "    e += self._size\n",
    "\n",
    "    l = r = self._def\n",
    "    while s < e: \n",
    "      if s & 1:\n",
    "        l = self._f(l, self.seg[s])\n",
    "        s += 1\n",
    "      if e & 1:\n",
    "        e -= 1\n",
    "        r = self._f(self.seg[e], r)\n",
    "      s //= 2\n",
    "      e //= 2\n",
    "\n",
    "    return self._f(l, r)\n",
    "\n",
    "def sol() :\n",
    "  N = int(input())\n",
    "  L = list(map(int, input().split()))\n",
    "\n",
    "  M = int(input())\n",
    "  Q1, Q2 = [], []\n",
    "  cnt = 0\n",
    "  for _ in range(M) :\n",
    "    q, *l = list(map(int, input().split()))\n",
    "    if q == 1 :\n",
    "      Q1.append(l)\n",
    "    else :\n",
    "      l = [cnt] + l \n",
    "      Q2.append(l)\n",
    "      cnt += 1\n",
    "\n",
    "  Q2.sort(key=lambda x : x[1], reverse=True)\n",
    "  Q1.reverse()\n",
    "\n",
    "  st = ST(L, lambda x, y : x + y)\n",
    "  cur = 0 #현재까지 진행된 쿼리 번호\n",
    "  ans = [0] * cnt\n",
    "  while Q2 and Q1 :\n",
    "    while Q2 and cur == Q2[-1][1] :\n",
    "      j, k, s, e = Q2.pop()\n",
    "      ans[j] = st.query(s - 1, e)\n",
    "    i, v = Q1.pop()\n",
    "    st[i - 1] = v\n",
    "    cur += 1\n",
    "\n",
    "  while Q2 :\n",
    "    j, k, s, e = Q2.pop()\n",
    "    ans[j] = st.query(s - 1, e)\n",
    "  \n",
    "  sys.stdout.write('\\n'.join(map(str, ans)))\n",
    "\n",
    "sol()"
   ]
  },
  {
   "cell_type": "markdown",
   "metadata": {},
   "source": [
    "### 자력솔\n",
    "- 따이"
   ]
  }
 ],
 "metadata": {
  "language_info": {
   "name": "python"
  }
 },
 "nbformat": 4,
 "nbformat_minor": 2
}
