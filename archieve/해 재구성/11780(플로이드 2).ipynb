{
 "cells": [
  {
   "cell_type": "code",
   "execution_count": null,
   "metadata": {},
   "outputs": [],
   "source": [
    "import io, os, sys\n",
    "input=io.BytesIO(os.read(0,os.fstat(0).st_size)).readline\n",
    "N = int(input())\n",
    "M = int(input())\n",
    "E = []\n",
    "for _ in range(M): \n",
    "  u, v, d = map(int, input().split())\n",
    "  E.append((u-1, v-1, d))\n",
    "\n",
    "INF = 1234567891\n",
    "def fw(V, E):\n",
    "  D = [[0 if i == j else INF for i in range(V)] for j in range(V)]\n",
    "  P = [[None] * (V) for _ in range(V)]\n",
    "\n",
    "  for u, v, d in E:\n",
    "    D[u][v] = min(D[u][v], d)\n",
    "    P[u][v] = u\n",
    "\n",
    "  for k in range(V):\n",
    "    for i, l in enumerate(D):\n",
    "      for j, v in enumerate(l):\n",
    "        if l[k] + D[k][j] >= v: continue\n",
    "        l[j] = l[k] + D[k][j]\n",
    "        P[i][j] = P[k][j]\n",
    "\n",
    "  return D, P\n",
    "\n",
    "D, P = fw(N, E)\n",
    "for i, l in enumerate(D) :\n",
    "  for j, v in enumerate(l) :\n",
    "    sys.stdout.write(f'{str(v)} ' if v != INF else '0 ')\n",
    "  sys.stdout.write('\\n')\n",
    "\n",
    "for i, l in enumerate(P) :\n",
    "  for j, v in enumerate(l) :\n",
    "    s = v\n",
    "    answer = [j+1] if v is not None else []\n",
    "    while s != None :\n",
    "      answer.append(s + 1)\n",
    "      s = P[i][s]\n",
    "    sys.stdout.write(f'{len(answer)} {\" \".join(map(str, answer[::-1]))} ' if answer else '0 ')\n",
    "    sys.stdout.write('\\n')"
   ]
  },
  {
   "attachments": {},
   "cell_type": "markdown",
   "metadata": {},
   "source": [
    "- 224ms "
   ]
  }
 ],
 "metadata": {
  "language_info": {
   "name": "python"
  },
  "orig_nbformat": 4
 },
 "nbformat": 4,
 "nbformat_minor": 2
}
