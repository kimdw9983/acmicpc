{
 "cells": [
  {
   "cell_type": "code",
   "execution_count": null,
   "metadata": {},
   "outputs": [],
   "source": [
    "from math import gcd, isqrt\n",
    "def pollard_rho(n):\n",
    "  for x in reversed(range(10)):\n",
    "    for c in reversed(range(10)):\n",
    "      y = x\n",
    "      d = 1\n",
    "      while d == 1:\n",
    "        x = (x * x + c) % n\n",
    "        y = (y * y + c) % n\n",
    "        y = (y * y + c) % n\n",
    "        d = gcd(n, abs(x - y))\n",
    "      if d != n:\n",
    "        return d\n",
    "\n",
    "def miller(n, a) : \n",
    "  if not a % n : return True\n",
    "  k = n-1\n",
    "  while True :\n",
    "    tmp = pow(a, k, n)\n",
    "    if tmp == n-1 : return True\n",
    "    if k & 1 : return tmp == 1 or tmp == n-1\n",
    "    k >>= 1\n",
    "\n",
    "def is_prime(a) :\n",
    "  res = True\n",
    "  for n in (2, 3, 5, 7, 11, 13, 31, 61, 73) : \n",
    "    res &= miller(a, n)\n",
    "    if not res : break\n",
    "  return res\n",
    "\n",
    "def factorization(n):\n",
    "  f = []\n",
    "  while not is_prime(n):\n",
    "    s = isqrt(n)\n",
    "    k = s * (s - 1)\n",
    "    d = gcd(n, k)\n",
    "    if d == 1:\n",
    "      d = pollard_rho(n)\n",
    "    n //= d\n",
    "    f += factorization(d)\n",
    "  if n != 1:\n",
    "    f.append(n)\n",
    "  return f\n",
    "\n",
    "print(*sorted(factorization(int(input()))), sep=\"\\n\")"
   ]
  }
 ],
 "metadata": {
  "language_info": {
   "name": "python"
  },
  "orig_nbformat": 4
 },
 "nbformat": 4,
 "nbformat_minor": 2
}
