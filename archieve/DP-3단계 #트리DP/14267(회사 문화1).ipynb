{
 "cells": [
  {
   "cell_type": "code",
   "execution_count": null,
   "metadata": {},
   "outputs": [],
   "source": [
    "import io, os, sys\n",
    "input=io.BytesIO(os.read(0,os.fstat(0).st_size)).readline\n",
    "\n",
    "def sol() :\n",
    "  N, M = map(int, input().split())\n",
    "  G = [[] for _ in range(N+1)]\n",
    "\n",
    "  for i, p in enumerate(map(int, input().split()), 1) :\n",
    "    if p == -1 : continue\n",
    "    G[p].append(i)\n",
    "\n",
    "  dp = [0] * (N+1)\n",
    "  for _ in range(M) :\n",
    "    v, w = map(int, input().split())\n",
    "    dp[v] += w\n",
    "\n",
    "  vis = [False] * (N+1)\n",
    "  S = [1] \n",
    "  while S :\n",
    "    v = S.pop()\n",
    "    vis[v] = True\n",
    "    for u in G[v] :\n",
    "      if vis[u] : continue\n",
    "      dp[u] += dp[v]\n",
    "      S.append(u)\n",
    "  \n",
    "  sys.stdout.write(' '.join(map(str, dp[1:])))\n",
    "  \n",
    "sol()"
   ]
  },
  {
   "cell_type": "markdown",
   "metadata": {},
   "source": [
    "### 자력솔\n",
    "- 칭찬받은 횟수를 누적해둔 뒤, 마지막에 dfs를 돌려서 부하 직원에게 칭찬을 cascade한다."
   ]
  },
  {
   "cell_type": "markdown",
   "metadata": {},
   "source": [
    "### DP 풀이\n",
    "- 직속 상사의 번호는 자신의 번호보다 작다는 조건이 있다.\n",
    "- 자신의 상사의 index가 항상 더 크기 때문에 순차적으로 처리해도 된다. \n",
    "  - 직속 상사의 칭찬량을 더해도, 자신의 상사가 더 높은 상사에게 칭찬받는 경우가 없어지기 때문이다."
   ]
  },
  {
   "cell_type": "code",
   "execution_count": null,
   "metadata": {},
   "outputs": [],
   "source": [
    "import io, os, sys\n",
    "input=io.BytesIO(os.read(0,os.fstat(0).st_size)).readline\n",
    "\n",
    "def sol() :\n",
    "  N, M = map(int, input().split())\n",
    "  G = [0] + [*map(int, input().split())]\n",
    "\n",
    "  dp = [0] * (N+1)\n",
    "  for _ in range(M):\n",
    "    i, w = map(int, input().split())\n",
    "    dp[i] += w\n",
    "  \n",
    "  ans = [0]\n",
    "  for i in range(2, N+1): #직속 상사의 번호가 자신의 번호보다 작으므로 순차적으로 처리해도 된다.\n",
    "    dp[i] += dp[G[i]] #직속 상사가 받는 칭찬의 양을 자신에게도 더해준다.\n",
    "    ans.append(dp[i])\n",
    "  \n",
    "  sys.stdout.write(' '.join(map(str, ans)))\n",
    "  \n",
    "sol()"
   ]
  }
 ],
 "metadata": {
  "language_info": {
   "name": "python"
  },
  "orig_nbformat": 4
 },
 "nbformat": 4,
 "nbformat_minor": 2
}
