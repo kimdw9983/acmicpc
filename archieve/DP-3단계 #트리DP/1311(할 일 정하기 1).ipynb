{
 "cells": [
  {
   "cell_type": "code",
   "execution_count": null,
   "metadata": {},
   "outputs": [],
   "source": [
    "import itertools\n",
    "N = int(input())\n",
    "D = [[*map(int, input().split())] for _ in range(N)]\n",
    "DP = [float('inf')] * (1 << N)\n",
    "\n",
    "def subsets(n): #n보다 비트가 한개 적은 서브셋들 반환\n",
    "  len = n.bit_length()\n",
    "  for i in range(len):\n",
    "    if n & (1 << i):\n",
    "      sub = n & ~(1 << i)\n",
    "      yield sub\n",
    "\n",
    "for i in range(N) :\n",
    "  DP[1 << i] = D[0][i]\n",
    "\n",
    "def p2(n) : #n이 2의 몇승인지(math.log(n, 2))\n",
    "  p = 0\n",
    "  while n > 1:\n",
    "    n = n >> 1\n",
    "    p += 1\n",
    "  return p\n",
    "\n",
    "# pprint(D)\n",
    "for i in range(2, N+1) :\n",
    "  for w in itertools.combinations(range(N), i) :\n",
    "    n = 0\n",
    "    for e in w :\n",
    "      n = n | 1 << e\n",
    "\n",
    "    for s in subsets(n) : #s = 메모돼있는 것\n",
    "      # print(f'DP[{n}] = DP[{s}] + D[{i-1}][{p2(n^s)}] = {DP[s]} + {D[i-1][p2(n^s)]} = {DP[s] + D[i-1][p2(n^s)]}')\n",
    "      DP[n] = min(DP[n], D[i-1][p2(n^s)] + DP[s])\n",
    "\n",
    "print(DP[-1])"
   ]
  },
  {
   "attachments": {},
   "cell_type": "markdown",
   "metadata": {},
   "source": [
    "### 풀이\n",
    "- TLE. itertools.combinations에서 이미 지수적인 접근이 발생하는데 subset을 구하는 과정이 오래걸리는 듯 하다.\n",
    "- Top-down으로 접근해보자"
   ]
  },
  {
   "cell_type": "code",
   "execution_count": null,
   "metadata": {},
   "outputs": [],
   "source": [
    "import itertools\n",
    "N = int(input())\n",
    "D = [[*map(int, input().split())] for _ in range(N)]\n",
    "DP = [float('inf')] * (1 << N)\n",
    "\n",
    "def subsets(n): #n보다 비트가 한개 적은 서브셋들 반환\n",
    "  len = n.bit_length()\n",
    "  for i in range(len):\n",
    "    if n & (1 << i):\n",
    "      sub = n & ~(1 << i)\n",
    "      yield sub\n",
    "\n",
    "for i in range(N) :\n",
    "  DP[1 << i] = D[0][i]\n",
    "\n",
    "def p2(n) : #n이 2의 몇승인지(math.log(n, 2))\n",
    "  p = 0\n",
    "  while n > 1:\n",
    "    n = n >> 1\n",
    "    p += 1\n",
    "  return p\n",
    "\n",
    "\n",
    "def dp(m, n):  #m의 상태에서, n번째 사람이 작업을 고를 때의 최소값\n",
    "  if DP[m] != float('inf'):\n",
    "    return DP[m]\n",
    "  else:\n",
    "    for s in subsets(m):\n",
    "      DP[m] = min(DP[m], dp(s, n-1) + D[n][p2(m^s)])\n",
    "      # print(f'm: {m}, s: {s} m^s: {m^s}, p2(m^s): {p2(m^s)}, n: {n}')\n",
    "    return DP[m]\n",
    "\n",
    "dp((1 << N) - 1, N-1)\n",
    "print(DP[-1])"
   ]
  },
  {
   "attachments": {},
   "cell_type": "markdown",
   "metadata": {},
   "source": [
    "### 풀이\n",
    "- ChatGPT가 내 실수를 고쳐줬다. `DP[m] = min(DP[m], dp(s, n-1) + D[n][p2(m^s)])`에서 `D[n]`을 `D[i]`로 적고 있었다..\n",
    "- Hungarian 알고리즘이라고 이러한 할당 문제(assignment problem)을 효율적으로 푸는 알고리즘이 존재하는 것 같다.\n",
    "  - 이 문제는 n이 20이하일때의 문제지만, 헝가리안은 n이 500이하일 때도 풀 수 있는 듯 하다. 알려진 시간복잡도는 O(n^3)이다."
   ]
  },
  {
   "attachments": {},
   "cell_type": "markdown",
   "metadata": {},
   "source": [
    ";; 6\n",
    "3\n",
    "2 3 3\n",
    "3 2 3\n",
    "3 3 2\n",
    ";; 11\n",
    "3\n",
    "1 5 5\n",
    "1 5 5\n",
    "1 5 5\n",
    ";; 11\n",
    "3\n",
    "1 5 5\n",
    "5 1 5 \n",
    "5 5 10"
   ]
  }
 ],
 "metadata": {
  "language_info": {
   "name": "python"
  },
  "orig_nbformat": 4
 },
 "nbformat": 4,
 "nbformat_minor": 2
}
