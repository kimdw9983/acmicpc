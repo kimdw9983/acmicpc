{
 "cells": [
  {
   "cell_type": "code",
   "execution_count": null,
   "metadata": {},
   "outputs": [],
   "source": [
    "ccw = lambda o, a, b: (a[0] - o[0]) * (b[1] - o[1]) - (a[1] - o[1]) * (b[0] - o[0])\n",
    "def cross(a, b) :\n",
    "  t1 = ccw(a[0], a[1], b[0]) * ccw(a[0], a[1], b[1])\n",
    "  t2 = ccw(b[0], b[1], a[0]) * ccw(b[0], b[1], a[1])\n",
    "  if t1 < 0 and t2 < 0 : return True\n",
    "  if t1 == 0 and t2 == 0: return b[0] <= a[1] and a[0] <= b[1]\n",
    "  return t1 <= 0 and t2 <= 0\n",
    "\n",
    "def sol(): \n",
    "  N = int(input())\n",
    "  L = [*map(int, input().split())]\n",
    "  lenL = len(L)\n",
    "  if lenL == 1: return print(0)\n",
    "  if lenL == 2: return print(1)\n",
    "  \n",
    "  Rres = [1] * (lenL-1) + [0] #i번째 건물에서 오른쪽을 바라봤을 때 볼 수 있는 건물의 수\n",
    "  for i, h in enumerate(L[:-2]):\n",
    "    for j in range(2, lenL-i) :\n",
    "      sight = ((i, h), (i+j, L[i+j]))\n",
    "      for k in range(i+1, i+j):\n",
    "        if cross(sight, ((k, L[k]), (k, 0))) : break #어떠한 선분과도 교차하면 볼 수 없음\n",
    "      else :\n",
    "        Rres[i] += 1\n",
    "  \n",
    "  Lres = [0] + [1] * (lenL-1)\n",
    "  L.reverse()\n",
    "  for i, h in enumerate(L[:-2]):\n",
    "    for j in range(2, lenL-i) :\n",
    "      sight = ((i, h), (i+j, L[i+j]))\n",
    "      for k in range(i+1, i+j):\n",
    "        if cross(sight, ((k, L[k]), (k, 0))) : break #어떠한 선분과도 교차하면 볼 수 없음\n",
    "      else :\n",
    "        Lres[lenL-i-1] += 1\n",
    "\n",
    "  ans = 0\n",
    "  for i in range(lenL) :\n",
    "    ans = max(ans, Rres[i] + Lres[i])\n",
    "  print(ans)\n",
    "\n",
    "sol()"
   ]
  },
  {
   "cell_type": "markdown",
   "metadata": {},
   "source": [
    "### 자력솔\n",
    "- 분명히 이렇게 푸는게 정해가 아님을 알지만 어쨋든 선분교차판정으로 풀었다.\n",
    "- 오른쪽에서 본 건물의 수와 왼쪽에서 봤을때 건물의 수를 구해서 더해준 것의 최댓값을 구하면 된다.\n",
    "- 구현에 있어서 오른쪽과 왼쪽의 관계가 뒤집어진 것이라는걸 빨리 알고 구현했으면 더 빨리 풀었을 것 같다."
   ]
  }
 ],
 "metadata": {
  "language_info": {
   "name": "python"
  },
  "orig_nbformat": 4
 },
 "nbformat": 4,
 "nbformat_minor": 2
}
