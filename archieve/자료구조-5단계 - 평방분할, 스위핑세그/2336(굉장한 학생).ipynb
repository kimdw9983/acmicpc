{
 "cells": [
  {
   "cell_type": "code",
   "execution_count": null,
   "metadata": {},
   "outputs": [],
   "source": [
    "import io, os\n",
    "input=io.BytesIO(os.read(0,os.fstat(0).st_size)).readline\n",
    "\n",
    "class ST:\n",
    "  def __init__(self, L, f, default=0):\n",
    "    self.default = default\n",
    "    self.f = f\n",
    "    self.len = len(L)\n",
    "    self.size = size = 1 << (self.len - 1).bit_length()\n",
    "\n",
    "    self.seg = [default] * (2 * size)\n",
    "    self.seg[size:size + self.len] = L\n",
    "    for i in reversed(range(size)):\n",
    "      self.seg[i] = f(self.seg[i + i], self.seg[i + i + 1])\n",
    "\n",
    "  def __getitem__(self, i):\n",
    "    return self.seg[i + self.size]\n",
    "\n",
    "  def __setitem__(self, i, v):\n",
    "    i += self.size\n",
    "    self.seg[i] = v\n",
    "    i //= 2\n",
    "    while i:\n",
    "      self.seg[i] = self.f(self.seg[2 * i], self.seg[2 * i + 1])\n",
    "      i //= 2\n",
    "\n",
    "  def query(self, s, e): # [s, e)\n",
    "    s += self.size\n",
    "    e += self.size\n",
    "\n",
    "    l = r = self.default\n",
    "    while s < e: \n",
    "      if s & 1:\n",
    "        l = self.f(l, self.seg[s])\n",
    "        s += 1\n",
    "      if e & 1:\n",
    "        e -= 1\n",
    "        r = self.f(self.seg[e], r)\n",
    "      s //= 2\n",
    "      e //= 2\n",
    "\n",
    "    return self.f(l, r)\n",
    "\n",
    "INF = 10 ** 9 + 7\n",
    "def sol():\n",
    "  N = int(input())\n",
    "  L = [[] for _ in range(N)]\n",
    "  for _ in range(3) :\n",
    "    l = list(map(int, input().split()))\n",
    "    for i, v in enumerate(l) :\n",
    "      L[v-1].append(i)\n",
    "  \n",
    "  L.sort(key=lambda x: x[0])\n",
    "  st = ST([INF] * N, min, INF)\n",
    "  ans = 0\n",
    "  for x, y, z in L :\n",
    "    if st.query(0, y) > z:\n",
    "      ans += 1\n",
    "    st[y] = z\n",
    "\n",
    "  print(ans)\n",
    "\n",
    "sol()"
   ]
  },
  {
   "cell_type": "markdown",
   "metadata": {},
   "source": [
    "- https://justicehui.github.io/boi/2018/12/02/BOJ2336/"
   ]
  }
 ],
 "metadata": {
  "language_info": {
   "name": "python"
  }
 },
 "nbformat": 4,
 "nbformat_minor": 2
}
