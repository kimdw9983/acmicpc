{
 "cells": [
  {
   "cell_type": "markdown",
   "metadata": {},
   "source": [
    "### 아이디어\n",
    "- Mo's algorithm을 사용하는 것을 알고 있지만, 그래도 가능한 관찰해보기로 했다.\n",
    "- 관찰1. 구간을 넓히기 위해서 현재 무슨 숫자를 셌는지 전부 알아야 한다.\n",
    "- 관찰2. 문제에서 요구하는 쿼리를 $q(s, e)$ 라고 하고, 연속한 구간 $p_1 < p_2 < p_3$ 인 세 개의 구간이 있다고 하자.\n",
    "  - $q(p_2, p_3) = q(p_1, p_3)$ 라면, $[p_1, p_2]$ 사이의 의 어떤 구간을 잡더라도(그러한 구간을 $q_x$ 라고 할 때), $q(q_x, q_3) = q(p_1, p_3)$ 이다.\n",
    "  - 그런데 이 관찰은 $A_i$ 의 범위(100만)가 수열의 크기(10만)보다 커서 의미가 없는 것 같다. (배열내의 모든 원소값이 다를경우 이러한 성질이 나오지 않는다)\n",
    "- 결론. (서로 다른 수의 개수)를 구하기 위해선 (서로 다른 수의 집합)이 반드시 필요하지만, 그 반대 방향으로 생각하는 것은 의미가 없다. 따라서 다른 접근이 필요한 것 같다."
   ]
  },
  {
   "cell_type": "markdown",
   "metadata": {},
   "source": [
    "### 풀이\n",
    "- $A_i$ 전체를 커버할 수 있는 크기의 배열을 만들고, 각 숫자가 몇번 나왔는지 기록하면서 구간을 넓혀간다."
   ]
  },
  {
   "cell_type": "code",
   "execution_count": null,
   "metadata": {},
   "outputs": [],
   "source": [
    "import io, os, math, sys\n",
    "input=io.BytesIO(os.read(0,os.fstat(0).st_size)).readline\n",
    "\n",
    "MAX = 1000000\n",
    "def sol() :\n",
    "  N = int(input())\n",
    "  L = [*map(int, input().split())]\n",
    "\n",
    "  sqrtN = math.isqrt(N)\n",
    "  Q = []\n",
    "\n",
    "  M = int(input())\n",
    "  for i in range(M):\n",
    "    s, e = map(int, input().split())\n",
    "    Q.append((s-1, e, i))\n",
    "  Q.sort(key=lambda x: (x[0] // sqrtN, x[1]))\n",
    "\n",
    "  res = 0\n",
    "  cnt = [0] * (MAX + 1)\n",
    "  ans = [0] * M\n",
    "  s, e = Q[0][0], Q[0][1]\n",
    "  for i in range(s, e):\n",
    "    cnt[L[i]] += 1\n",
    "    if cnt[L[i]] == 1:\n",
    "      res += 1\n",
    "  ans[Q[0][2]] = res\n",
    "\n",
    "\n",
    "  for ns, ne, idx in Q[1:]:\n",
    "    while ns < s:\n",
    "      s -= 1\n",
    "      cnt[L[s]] += 1\n",
    "      if cnt[L[s]] == 1:\n",
    "        res += 1\n",
    "    \n",
    "    while e < ne: \n",
    "      cnt[L[e]] += 1\n",
    "      if cnt[L[e]] == 1:\n",
    "        res += 1\n",
    "      e += 1\n",
    "    \n",
    "    while ns > s: \n",
    "      cnt[L[s]] -= 1\n",
    "      if cnt[L[s]] == 0:\n",
    "        res -= 1\n",
    "      s += 1\n",
    "    \n",
    "    while e > ne: \n",
    "      e -= 1\n",
    "      cnt[L[e]] -= 1\n",
    "      if cnt[L[e]] == 0:\n",
    "        res -= 1\n",
    "    \n",
    "    ans[idx] = res\n",
    "  \n",
    "  sys.stdout.write('\\n'.join(map(str, ans)))\n",
    "\n",
    "sol()"
   ]
  },
  {
   "cell_type": "markdown",
   "metadata": {},
   "source": [
    "- 별해로 A_i에 대해 좌표압축을 한 뒤 오프라인쿼리로 푸는 풀이가 있는 것 같다."
   ]
  }
 ],
 "metadata": {
  "language_info": {
   "name": "python"
  },
  "orig_nbformat": 4
 },
 "nbformat": 4,
 "nbformat_minor": 2
}
