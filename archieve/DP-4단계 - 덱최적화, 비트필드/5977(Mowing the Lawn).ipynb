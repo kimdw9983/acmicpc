{
 "cells": [
  {
   "cell_type": "code",
   "execution_count": null,
   "metadata": {},
   "outputs": [],
   "source": [
    "import io, os, collections\n",
    "input=io.BytesIO(os.read(0,os.fstat(0).st_size)).readline\n",
    "\n",
    "def sol() :\n",
    "  N, K = map(int, input().split())\n",
    "  \n",
    "  acc = [0] * (N + 1)\n",
    "  for i in range(N) :\n",
    "    n = int(input())\n",
    "    acc[i + 1] = acc[i] + n\n",
    "\n",
    "  DQ = collections.deque()\n",
    "  DP = [0] * (N+1)\n",
    "  C = lambda i: DP[i - 1] - acc[i]\n",
    "  for i, c in enumerate(acc) :\n",
    "    if DQ and DQ[0] < i - K : DQ.popleft()\n",
    "    while DQ and C(DQ[-1]) <= C(i) : DQ.pop()\n",
    "    DQ.append(i)\n",
    "    DP[i] = c + C(DQ[0])\n",
    "    if (i <= K): DP[i] = max(DP[i], c)\n",
    "  print(DP[N])\n",
    "\n",
    "sol()"
   ]
  },
  {
   "cell_type": "markdown",
   "metadata": {},
   "source": [
    "### 고찰\n",
    "- 수열에서 최대 K개의 연속하는 구간을 묶어서 그 구간들의 합을 최대로 만드는 문제이다.\n",
    "- 최대 K개 까지의 연속하는 구간을 묶을 수 있다. 이때 정답에 포함되는 묶음은 수열의 구성에 따라 K이하의 모든 숫자가 가능하다.\n",
    "  - 가령 K가 3이라고 할때 수열이 \\\n",
    "  `[1, 10, 10, 10, 1]` 혹은 `[10, 10, 1, 10, 10, 1, 10]`과 같은 식으로 되어있으면 K보다 더 작은 그룹으로 구성하는 것이 정답을 구성하는 해가 될 수 있음을 의미한다.\n",
    "  - 따라서 수열L[:i]에서 마지막에 묶이는 그룹의 길이는 0부터 K까지 모든 경우를 고려해봐야 한다.\n",
    "\n",
    "### 풀이\n",
    "- 최적화; 느린 방법의 점화식을 세운 뒤 관찰을 통해 최적화 하는 방법.\n",
    "- `DP[i]` = 길이가 `i`인 수열을 적절하게 묶어서 나온 최대값 이라고 정의하고\\\n",
    "(최대 `K`개까지 분리할 수 있으므로)`[i-K+1: i]`인 j에 대해\n",
    "`DP[i]` = max(DP[j-1] + `L[i-j:j] 구간의 누적합`) = max(DP[j-1] + acc[i] - acc[j]) 이라고 할 수 있다.\n",
    "- 이 경우 j의 범위가 K까지 될 수 있으므로 O(NK) = O(N^2)의 시간복잡도를 가지게 되므로 최적화가 필요하다.\n",
    "- 점화식에서 `acc[i]`는 `j`에 상관없이 항상 같으므로, 이 `j` 구간에서 `DP[j-1] - acc[j]`의 최대값을 구하는 것이 관건이라고 할 수 있다.\n",
    "- `DQ` = 길이가 최대 K인 연속하는 수열을 `DP[j-1] - acc[j]`을 기준으로 정렬한 덱 이라고 정렬해서 문제를 풀 수 있다."
   ]
  }
 ],
 "metadata": {
  "language_info": {
   "name": "python"
  },
  "orig_nbformat": 4
 },
 "nbformat": 4,
 "nbformat_minor": 2
}
