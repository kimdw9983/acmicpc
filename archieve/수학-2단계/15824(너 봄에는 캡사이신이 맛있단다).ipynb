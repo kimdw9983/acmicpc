{
 "cells": [
  {
   "cell_type": "code",
   "execution_count": null,
   "metadata": {},
   "outputs": [],
   "source": [
    "# naive solution\n",
    "import io, os, itertools, collections\n",
    "input=io.BytesIO(os.read(0,os.fstat(0).st_size)).readline\n",
    "\n",
    "N = int(input())\n",
    "L = [*map(int, input().split())]\n",
    "D = {}\n",
    "for w in itertools.combinations(L, 2) :\n",
    "  x = max(w)-min(w)\n",
    "  D[x] = D.get(x, 0) + 1\n",
    "# debug(collections.Counter(D))\n",
    "\n",
    "D = {}\n",
    "for w in itertools.chain.from_iterable(itertools.combinations(L, n) for n in range(2, N+1)) :\n",
    "  x = max(w)- min(w)\n",
    "  D[x] = D.get(x, 0) + 1\n",
    "\n",
    "# debug(collections.Counter(D))\n",
    "print(sum([k*v for k, v in D.items()]))"
   ]
  },
  {
   "attachments": {},
   "cell_type": "markdown",
   "metadata": {},
   "source": [
    "### 힌트\n",
    "- 분할정복을 이용한 거듭제곱\n",
    "\n",
    "### 접근\n",
    "- 조합과 해싱을 잘 활용해서 naive하게 풀 수 있다.\n",
    "- 이때 `D`의 키값이 언제 나올까를 생각해보면, $N \\choose 2$를 만들때 나온다는 것을 알 수 있다.\n",
    "  - 즉 이후에 나오는 D의 키값들은 적당히 반복돼서 나온다는 것을 알 수 있다.\n",
    "  - 1 2 4 8 16 32의 데이터를 넣어서 정답을 구해보면 다음과 같은 결과가 나온다.\n",
    "  - `{31: 16, 15: 8, 30: 8, 7: 4, 14: 4, 28: 4, 3: 2, 6: 2, 12: 2, 24: 2, 1: 1, 2: 1, 4: 1, 8: 1, 16: 1}`\n",
    "  - 수의 차이가 가장 큰 수는 2^(N-1)번 반복된다\n",
    "  - 아주 자세히 분석해보니, 정렬된 `L`에 대해 원소 사이의 거리 `d`인 어떤 숫자 쌍을 골랐을 때, 그 숫자 쌍의 차이 `x`가 반복되는 횟수는 $2^d$회였다.\n",
    "  - 이를 이용해 거듭제곱으로 문제를 풀면 될 것 같다.\n",
    "- 문제는 N이 30만일 때, $N \\choose 2$를 `itertools.combinations`로는 제한시간 내에 구할 수가 없다.\n",
    "- 약간 다르게 접근해보기로 했다. 예시 데이터로 1 2 4 8을 두고 다시 D를 구해보면\n",
    "  - `{7: 4, 3: 2, 6: 2, 1: 1, 2: 1, 4: 1}`\n",
    "  - 여기서 정답에 반영되기 위한 각 숫자들은 이렇게 해석할 수 있다.\n",
    "  - 7 * 4 = 8 * 4 - 1 * 4\n",
    "  - 3 * 2 = 4 * 2 - 1 * 2\n",
    "  - 1 * 1 = 2 * 1 - 1 * 1\n",
    "  - 6 * 2 = 8 * 2 - 2 * 2\n",
    "  - 2 * 1 = 4 * 1 - 2 * 1\n",
    "  - 4 * 1 = 8 * 1 - 4 * 1\n",
    "  - 이것들의 합이 정답이 된다. 이를 정리하면\n",
    "  - 8 * (4 + 2 + 1) + 4 * (2 + 1) + 2 * (1) - 1 * (4 + 2 + 1) - 2 * (2 + 1) - 4 * (1)\n",
    "  - 이를 n번째로 큰 수$a_n$(0부터 시작)과 수열의 길이 `l`을 기준으로 패턴이 보인다. 이를 식으로 표현하면\n",
    "  - $a_n * (2^{l-1} - 1) + a_{n+1} * (2^{l-2} - 1) + ... a_{l-1} * (2^{l-(l-1)} - 1) + \\sout{a_l * (2^{l-l} - 1)} - \\sout{a_n * (2^{l-l} - 1)} - a_{n+1} * (2^{l-(l-1)}-1) - ... - a_{l-1} * (2^{l-2} - 1) - a_l * (2^{l-1} - 1)$\n",
    "  - 이 될 것 같다."
   ]
  },
  {
   "cell_type": "code",
   "execution_count": null,
   "metadata": {},
   "outputs": [],
   "source": [
    "import io, os\n",
    "input=io.BytesIO(os.read(0,os.fstat(0).st_size)).readline\n",
    "N = int(input())\n",
    "L = [*map(int, input().split())]\n",
    "L.sort(reverse=True)\n",
    "\n",
    "answer = 0 \n",
    "for i, v in enumerate(L) :\n",
    "  answer += v * (2 ** (N-i-1) - 1) - v * (2 ** i - 1)"
   ]
  },
  {
   "cell_type": "markdown",
   "metadata": {},
   "source": [
    "- 대충 맞는거 같다. 이제 % MOD를 적용시켜보자"
   ]
  },
  {
   "cell_type": "code",
   "execution_count": null,
   "metadata": {},
   "outputs": [],
   "source": [
    "import io, os\n",
    "input=io.BytesIO(os.read(0,os.fstat(0).st_size)).readline\n",
    "N = int(input())\n",
    "L = [*map(int, input().split())]\n",
    "L.sort(reverse=True)\n",
    "\n",
    "MOD = 1_000_000_007\n",
    "answer = 0 \n",
    "for i, v in enumerate(L) :\n",
    "  answer += ((v % MOD) * (pow(2, N-i-1, MOD) - 1) % MOD - (v % MOD) * (pow(2, i, MOD) - 1) % MOD) % MOD\n",
    "answer %= MOD\n",
    "\n",
    "print(answer)"
   ]
  }
 ],
 "metadata": {
  "language_info": {
   "name": "python"
  },
  "orig_nbformat": 4
 },
 "nbformat": 4,
 "nbformat_minor": 2
}
