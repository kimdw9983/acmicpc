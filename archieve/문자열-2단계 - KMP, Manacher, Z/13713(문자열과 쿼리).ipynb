{
 "cells": [
  {
   "cell_type": "code",
   "execution_count": null,
   "metadata": {},
   "outputs": [],
   "source": [
    "import io, os, sys\n",
    "input=io.BytesIO(os.read(0,os.fstat(0).st_size)).readline\n",
    "\n",
    "def genZ(S):\n",
    "  n = len(S)\n",
    "  Z = [0] * n\n",
    "\n",
    "  l = r = 0\n",
    "  for i in range(1, n):\n",
    "    z = Z[i - l]\n",
    "    if i + z >= r: #현재 위치가 지금까지 처리했던 구간을 벗어나는 경우\n",
    "      z = max(r - i, 0) #현재 위치에서부터 매칭을 시작해야 함\n",
    "      while i + z < n and S[z] == S[i + z]: #배열 범위를 벗어나지 않는 선에서 문자 하나하나 naive하게 비교한다.\n",
    "        z += 1\n",
    "      l, r = i, i + z #구간 업데이트\n",
    "    Z[i] = z\n",
    "\n",
    "  Z[0] = n\n",
    "  return Z\n",
    "\n",
    "def sol() :\n",
    "  S = input().rstrip()\n",
    "  Z = genZ(S[::-1])\n",
    "  ans = [Z[-int(input())] for _ in range(int(input()))]\n",
    "  sys.stdout.write('\\n'.join(map(str, ans)))\n",
    "\n",
    "sol()"
   ]
  },
  {
   "cell_type": "markdown",
   "metadata": {},
   "source": [
    "### 풀이\n",
    "- 가장 긴 공통접미사의 길이를 출력하는 문제.\n",
    "- Z 배열은 가장긴 공통 접`두`사의 길이를 저장하므로, 이를 적당히 활용하면 된다.\n",
    "- 입력 문자열을 뒤집고, 쿼리의 입력에 대해서 뒤에서 n번째 있는 Z배열의 원소, 즉 Z[-q]를 출력하게 하면 된다"
   ]
  }
 ],
 "metadata": {
  "language_info": {
   "name": "python"
  },
  "orig_nbformat": 4
 },
 "nbformat": 4,
 "nbformat_minor": 2
}
