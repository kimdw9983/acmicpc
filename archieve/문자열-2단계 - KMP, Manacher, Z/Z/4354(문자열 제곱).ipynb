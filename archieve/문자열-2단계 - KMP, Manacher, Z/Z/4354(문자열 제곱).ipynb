{
 "cells": [
  {
   "cell_type": "markdown",
   "metadata": {},
   "source": [
    "### 아이디어\n",
    "- border 문제같다.\n",
    "- n이 1인 경우를 먼저 생각해보자.\n",
    "  - 전체문자열, 즉 $s$ 가 border이 아니라는 의미.\n",
    "  - 이 경우 `BD`는 길이가 1일 것이다 (필요충분, 아마도???)\n",
    "- 1이 아닌경우\n",
    "  - 우선 `BD`의 길이가 1보다 클 것.\n",
    "  - `BD`로 나오는 리스트를 생각해보면, border의 rightmost 인덱스를 반환한다.\\\n",
    "  `BD`가 1보다 크다는건, 적어도 `BD[-1]` 과 `BD[-2]` 차이 만큼은 반복된다는 뜻. \n",
    "- 가장 큰 n을 찾으라는 건, 가장 작은 border을 몇 번 반복해서 $s$ 를 만들 수 있는지 찾으라는 뜻일것."
   ]
  },
  {
   "cell_type": "code",
   "execution_count": null,
   "metadata": {},
   "outputs": [],
   "source": [
    "import io, os, sys\n",
    "input=io.BytesIO(os.read(0,os.fstat(0).st_size)).readline\n",
    "\n",
    "def genZ(S):\n",
    "  n = len(S)\n",
    "  Z = [0] * n\n",
    "\n",
    "  l = r = 0\n",
    "  for i in range(1, n):\n",
    "    z = Z[i - l]\n",
    "    if i + z >= r:\n",
    "      z = max(r - i, 0)\n",
    "      while i + z < n and S[z] == S[i + z]:\n",
    "        z += 1\n",
    "      l, r = i, i + z\n",
    "    Z[i] = z\n",
    "  Z[0] = n\n",
    "  return Z\n",
    "\n",
    "def sol() :\n",
    "  s = input().rstrip()\n",
    "  if s == b\".\" : return\n",
    "  \n",
    "  Z = genZ(s)\n",
    "  BD = [i-1 for i, z_i in enumerate(reversed(Z), 1) if i == z_i]\n",
    "  if len(BD) == 1: \n",
    "    sys.stdout.write(\"1\\n\")\n",
    "    return True\n",
    "  \n",
    "  exp = BD[-1] - BD[-2]\n",
    "  sys.stdout.write(f\"{len(s) // exp}\\n\")\n",
    "\n",
    "  return True\n",
    "\n",
    "while sol() : pass"
   ]
  },
  {
   "cell_type": "markdown",
   "metadata": {},
   "source": [
    "- WA."
   ]
  },
  {
   "cell_type": "code",
   "execution_count": null,
   "metadata": {},
   "outputs": [],
   "source": [
    "def sol() :\n",
    "  s = input().rstrip()\n",
    "  Z = genZ(s)\n",
    "  BD = [i for i, z_i in enumerate(reversed(Z), 1) if i == z_i]\n",
    "  #...\n",
    "  exp = BD[0]\n",
    "  acc = 0\n",
    "  for v in BD:\n",
    "    acc += exp\n",
    "    if v != acc: # 어느 하나라도 패턴을 맞출 수 없다면 \n",
    "      sys.stdout.write(\"1\\n\")\n",
    "      return True\n",
    "  sys.stdout.write(f\"{len(s) // exp}\\n\")\n",
    "\n",
    "  return True"
   ]
  },
  {
   "cell_type": "markdown",
   "metadata": {},
   "source": [
    "- 95퍼?!\n",
    "  - \"abaaba\". 팰린드롬이면서 border인것\n",
    "  - 팰린드롬은 왜 BD[0] 이 1인가?\n",
    "    - 팰린드롬이 아니다. S[0] == S[-1] 일 때이다."
   ]
  },
  {
   "cell_type": "code",
   "execution_count": null,
   "metadata": {},
   "outputs": [],
   "source": [
    "def sol() :\n",
    "  s = input().rstrip()\n",
    "  if s == b\".\" : return\n",
    "  \n",
    "  Z = genZ(s)\n",
    "  BD = [i for i, z in enumerate(reversed(Z), 1) if i == z]\n",
    "  #...\n",
    "  \n",
    "  if s[-1] == s[0] : #Z 배열의 특성상 특수 케이스\n",
    "    if len(BD) == len(s) : #한개의 문자로 되어있는 경우\n",
    "      sys.stdout.write(f\"{len(s)}\\n\")\n",
    "      return True\n",
    "    else :\n",
    "      BD = BD[1:] #구현상 이렇게 하고싶은데, 이게 맞나..?\n",
    "  \n",
    "  exp = BD[0]\n",
    "  acc = 0\n",
    "  for v in BD:\n",
    "    acc += exp\n",
    "    if v != acc: # 어느 하나라도 패턴을 맞출 수 없다면 \n",
    "      sys.stdout.write(\"1\\n\")\n",
    "      return True\n",
    "  sys.stdout.write(f\"{len(s) // exp}\\n\")\n",
    "\n",
    "  return True\n",
    "\n",
    "while sol() : pass"
   ]
  },
  {
   "cell_type": "markdown",
   "metadata": {},
   "source": [
    "### 자력솔\n",
    "- 정해는 kmp이다. 다시 풀어보자."
   ]
  }
 ],
 "metadata": {
  "language_info": {
   "name": "python"
  }
 },
 "nbformat": 4,
 "nbformat_minor": 2
}
