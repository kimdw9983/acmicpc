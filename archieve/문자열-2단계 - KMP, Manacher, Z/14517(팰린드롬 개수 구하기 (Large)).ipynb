{
 "cells": [
  {
   "cell_type": "code",
   "execution_count": null,
   "metadata": {},
   "outputs": [],
   "source": [
    "import io, os\n",
    "input=io.BytesIO(os.read(0,os.fstat(0).st_size)).readline\n",
    "\n",
    "def LPS(s):\n",
    "  n = len(s)\n",
    "  p = [[0] * (n + 1), [0] * n]\n",
    "\n",
    "  for z, p_z in enumerate(p):\n",
    "    left, right = 0, 0\n",
    "    for i in range(n):\n",
    "      t = right - i + 1 - z\n",
    "      if i < right:\n",
    "        p_z[i] = min(t, p_z[left + t])\n",
    "      L, R = i - p_z[i], i + p_z[i] - 1 + z\n",
    "      while (L >= 1) and (R + 1 < n) and (s[L - 1] == s[R + 1]):\n",
    "        p_z[i] += 1\n",
    "        L -= 1 \n",
    "        R += 1\n",
    "      if R > right:\n",
    "        left, right = L, R\n",
    "  return p\n",
    "\n",
    "def sol(): \n",
    "  S = input().rstrip()\n",
    "  print(sum(map(sum, LPS(S))) + len(S))\n",
    "\n",
    "sol()"
   ]
  },
  {
   "cell_type": "markdown",
   "metadata": {},
   "source": [
    "- 인접하지 않은 문자열끼리도 합쳤을 때 팰린드롬일지 알아야 한다.\n",
    "- 부분문자열을 골라놓고 팰린드롬인지 확인하는 naive하게 방법은 $O(2^N)$ 이다."
   ]
  },
  {
   "cell_type": "markdown",
   "metadata": {},
   "source": [
    "### 태그힌트\n",
    "- 포함배제의 원리가 있었다.\n",
    "- 우선 팰린드롬에 성질에 의해 길이 $n$ 인 문자열 $s$ 가 팰린드롬이였다면, $s + c'$ 는 $c'$ 가 $s$ 의 모든 문자와 같아야만 $s+c'$ 가 팰린드롬이다.\n",
    "  - $s + c$ 가 팰린드롬이려면 $s$ 가 팰린드롬이고, $c_n = c'$ 인지만 보면 될 것이다.\n",
    "- 가장 바깥쪽 문자열 쌍을 하나씩 벗겨봤을 때, 그 문자열 쌍이 서로 같아야 한다.\n",
    "  - $s = c_1c_2c_3...c_{n-1}c_n$ 라고 했을 때, $(c_1 = c_n) \\land (c_2 = c_{n-1}) \\land ... \\land (c_{\\frac{n}{2}} = c_{\\frac{n}{2}+1})$ 일 때에만 팰린드롬이다.\n",
    "- 두 가지를 어떻게든 합쳐 생각해보자. \\\n",
    "$1\\leq a < b \\leq N$ 인 $c_a$ 와 $c_b$ 사이의 $a < i \\leq j < b$ 인 $c_i, c_j$ 쌍 중에서 $S[c_i] = S[c_j]$ 인 쌍의 개수를 세면 되지 않을까?\n",
    "  - $i = j$ 일 경우 팰린드롬이니 1이다."
   ]
  },
  {
   "cell_type": "code",
   "execution_count": null,
   "metadata": {},
   "outputs": [],
   "source": [
    "import io, os\n",
    "input=io.BytesIO(os.read(0,os.fstat(0).st_size)).readline\n",
    "\n",
    "MOD = 10007\n",
    "def sol(): \n",
    "  S = b'0' + input().rstrip()\n",
    "  N = len(S) - 1\n",
    "  \n",
    "  DP = [[0] * (N+7) for _ in range(N+7)]\n",
    "  DP2 = [[0] * (N+7) for _ in range(N+7)]\n",
    "  \n",
    "  ans = N\n",
    "  for s in range(1, N) :\n",
    "    for e in range(N, s, -1):\n",
    "      if S[s] == S[e] :\n",
    "        DP2[s][e] = (1 + DP[s-1][e+1]) % MOD\n",
    "      DP[s][e] = (DP2[s][e] + DP[s][e+1] + DP[s-1][e] - DP[s-1][e+1]) % MOD\n",
    "      ans = (ans + DP2[s][e] * (e-s)) % MOD\n",
    "  print(ans % MOD)\n",
    "\n",
    "sol()"
   ]
  },
  {
   "cell_type": "markdown",
   "metadata": {},
   "source": [
    "### 풀이\n",
    "- https://upload.acmicpc.net/f5dfebd0-f21a-4110-84ea-a8391b90f268/"
   ]
  }
 ],
 "metadata": {
  "language_info": {
   "name": "python"
  }
 },
 "nbformat": 4,
 "nbformat_minor": 2
}
