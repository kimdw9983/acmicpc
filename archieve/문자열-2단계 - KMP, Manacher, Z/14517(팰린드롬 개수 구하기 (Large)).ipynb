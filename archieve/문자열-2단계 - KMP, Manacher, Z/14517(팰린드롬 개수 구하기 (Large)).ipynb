{
 "cells": [
  {
   "cell_type": "code",
   "execution_count": null,
   "metadata": {},
   "outputs": [],
   "source": [
    "import io, os\n",
    "input=io.BytesIO(os.read(0,os.fstat(0).st_size)).readline\n",
    "\n",
    "def LPS(s):\n",
    "  n = len(s)\n",
    "  p = [[0] * (n + 1), [0] * n]\n",
    "\n",
    "  for z, p_z in enumerate(p):\n",
    "    left, right = 0, 0\n",
    "    for i in range(n):\n",
    "      t = right - i + 1 - z\n",
    "      if i < right:\n",
    "        p_z[i] = min(t, p_z[left + t])\n",
    "      L, R = i - p_z[i], i + p_z[i] - 1 + z\n",
    "      while (L >= 1) and (R + 1 < n) and (s[L - 1] == s[R + 1]):\n",
    "        p_z[i] += 1\n",
    "        L -= 1 \n",
    "        R += 1\n",
    "      if R > right:\n",
    "        left, right = L, R\n",
    "  return p\n",
    "\n",
    "def sol(): \n",
    "  S = input().rstrip()\n",
    "  print(sum(map(sum, LPS(S))) + len(S))\n",
    "\n",
    "sol()"
   ]
  },
  {
   "cell_type": "markdown",
   "metadata": {},
   "source": [
    "- 인접하지 않은 문자열끼리도 합쳤을 때 팰린드롬일지 알아야 한다.\n",
    "- 부분문자열을 골라놓고 팰린드롬인지 확인하는 naive하게 방법은 $O(2^N)$ 이다."
   ]
  }
 ],
 "metadata": {
  "language_info": {
   "name": "python"
  }
 },
 "nbformat": 4,
 "nbformat_minor": 2
}
