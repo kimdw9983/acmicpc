{
 "cells": [
  {
   "cell_type": "code",
   "execution_count": null,
   "metadata": {},
   "outputs": [],
   "source": [
    "def fail(s):\n",
    "  g, pi = 0, [0] * len(s)\n",
    "  for i in range(1, len(s)):\n",
    "    while g and (s[g] != s[i]):\n",
    "      g = pi[g - 1]\n",
    "    pi[i] = g = g + (s[g] == s[i])\n",
    "\n",
    "  return pi\n",
    "\n",
    "def sol() :\n",
    "  input()\n",
    "  S = list(map(int,input().split()))\n",
    "  lenS = len(S)\n",
    "  S.reverse()\n",
    "  F = fail(S)\n",
    "\n",
    "  can_k = 0\n",
    "  can_p = 0\n",
    "  kp = float(\"inf\") #모든 문자열이 초기 난수생성 문자일 경우\n",
    "  for i, c in enumerate(S) : #문자열은 뒤집혀져있음에 주의\n",
    "    k = lenS - (i+1) #현재 위치를 유사 난수가 선택한 위치로 생각한다. 즉, 이 뒤의 문자들은 생각하지 않는다.\n",
    "    p = (i+1) - F[i] #border를 구한다.\n",
    "    #아래는 문제의 조건에 맞는 k, p를 찾는 과정\n",
    "    if k + p < kp : \n",
    "      kp = k + p\n",
    "      can_k = k\n",
    "      can_p = p\n",
    "  print(can_k,can_p)\n",
    "\n",
    "sol()"
   ]
  },
  {
   "cell_type": "markdown",
   "metadata": {},
   "source": [
    "### 풀이\n",
    "- border 응용문제.\n",
    "- 문자열을 뒤집는 아이디어까진 자력으로 떠올렸다.\n",
    "- kmp에서 border는 `i - F[i]` 를 하면 나온다는 사실을 알았다."
   ]
  },
  {
   "cell_type": "markdown",
   "metadata": {},
   "source": [
    "- 초기값 관련으로 wa를 여러번 받았다."
   ]
  }
 ],
 "metadata": {
  "language_info": {
   "name": "python"
  }
 },
 "nbformat": 4,
 "nbformat_minor": 2
}
