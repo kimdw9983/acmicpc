{
 "cells": [
  {
   "cell_type": "markdown",
   "metadata": {},
   "source": [
    "### 아이디어\n",
    "- 일단 문제의 느낌이 불안해서 태그는 깠다. KMP가 나왔다.\n",
    "- 270000이 90000이랑 같다. 모듈러 360000으로 생각하면, 각각 270000은 -90000으로 볼수 있고, 90000도 270000으로 볼 수 있다.\n",
    "  - 뭔가, 이렇게 표현하는게 맞긴 한가 싶은데 표현할 테크닉을 잘 모르겠다. 삼각함수를 제대로 배웠으면 표현할 수 있었을까 싶다.\n",
    "- 바늘의 각도가 특정 순서대로 주어지지 않는다고 했다. 즉, 순서를 아무렇게나 생각해도 된다는 뜻이다.\n",
    "  - 여기서 각 숫자를 카운팅하면 순서 관계를 무너지면서, 모두 동일한 형태로 만들 수 있다.\n",
    "- 카운팅 리스트를 하나의 문자열로 보고, 이게 같은지를 비교하면 될 것 같다.\n",
    "  - 여기서 KMP가 나오는것 같은데, border개념을 생각하면 같은지 비교가능 할것이다.\n",
    "  - 구현 방법이 생각이 안난다. border 제대로 공부한게 맞나..\n"
   ]
  },
  {
   "cell_type": "code",
   "execution_count": null,
   "metadata": {},
   "outputs": [],
   "source": [
    "import io, os\n",
    "input=io.BytesIO(os.read(0,os.fstat(0).st_size)).readline\n",
    "\n",
    "def fail(s):\n",
    "  g, pi = 0, [0] * len(s)\n",
    "  for i in range(1, len(s)):\n",
    "    while g and (s[g] != s[i]):\n",
    "      g = pi[g - 1]\n",
    "    pi[i] = g = g + (s[g] == s[i])\n",
    "\n",
    "  return pi\n",
    "\n",
    "def find(s, p):\n",
    "  pi = fail(p)\n",
    "\n",
    "  g = 0\n",
    "  for i in range(len(s)):\n",
    "    while g and p[g] != s[i]:\n",
    "      g = pi[g - 1]\n",
    "    g += p[g] == s[i]\n",
    "    if g == len(pi):\n",
    "      return True\n",
    "\n",
    "  return False\n",
    "\n",
    "MAX = 360000\n",
    "def sol():\n",
    "  N = int(input())\n",
    "  L1 = list(map(int, input().split()))\n",
    "  L2 = list(map(int, input().split()))\n",
    "  cnt1 = [0] * (MAX * 2)\n",
    "  for v in L1 : \n",
    "    cnt1[v] = 1\n",
    "    cnt1[v + MAX] = 1\n",
    "  \n",
    "  cnt2 = [0] * MAX\n",
    "  for v in L2 :\n",
    "    cnt2[v] = 1\n",
    "  \n",
    "  print(\"possible\" if find(cnt1, cnt2) else \"impossible\")\n",
    "  \n",
    "sol()"
   ]
  },
  {
   "cell_type": "markdown",
   "metadata": {},
   "source": [
    "- enumerate의 저주에서 해방될 날이 머지않아 오고있다. 템플릿 문제였다."
   ]
  }
 ],
 "metadata": {
  "language_info": {
   "name": "python"
  }
 },
 "nbformat": 4,
 "nbformat_minor": 2
}
