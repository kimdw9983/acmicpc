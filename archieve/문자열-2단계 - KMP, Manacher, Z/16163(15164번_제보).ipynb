{
 "cells": [
  {
   "cell_type": "code",
   "execution_count": null,
   "metadata": {},
   "outputs": [],
   "source": [
    "import io,os\n",
    "input=io.BytesIO(os.read(0,os.fstat(0).st_size)).readline\n",
    "\n",
    "def LPS(s):\n",
    "  n = len(s)\n",
    "  p = [[0] * (n + 1), [0] * n]\n",
    "\n",
    "  for z, p_z in enumerate(p):\n",
    "    left, right = 0, 0\n",
    "    for i in range(n):\n",
    "      t = right - i + 1 - z\n",
    "      if i < right:\n",
    "        p_z[i] = min(t, p_z[left + t])\n",
    "      L, R = i - p_z[i], i + p_z[i] - 1 + z\n",
    "      while (L >= 1) and (R + 1 < n) and (s[L - 1] == s[R + 1]):\n",
    "        p_z[i] += 1\n",
    "        L -= 1 \n",
    "        R += 1\n",
    "      if R > right:\n",
    "        left, right = L, R\n",
    "\n",
    "  return p\n",
    "\n",
    "def sol() :\n",
    "  S = input().rstrip()\n",
    "  even, odd = LPS(S)\n",
    "  l = len(S)\n",
    "  print(l + sum(odd) + sum(even))\n",
    "\n",
    "sol()"
   ]
  },
  {
   "cell_type": "markdown",
   "metadata": {},
   "source": [
    ";; 7\n",
    "ABCBA\n",
    ";; 11\n",
    "ABCBAZXZ\n",
    ";; 10\n",
    "ABCDCBA\n",
    ";; 28\n",
    "AAAAAAA"
   ]
  },
  {
   "cell_type": "markdown",
   "metadata": {},
   "source": [
    "### 자력솔\n",
    "- 지문이 굉장히 어지럽다.\n",
    "- manacher 배열에 들어있는 값의 의미를 생각하면, `각 인덱스를 중심에서 만들 수 있는 팰린드롬의 개수 - 1` 이라고 생각할 수 있다.\n",
    "  - 따라서 manacher 배열의 합을 구해준뒤 `길이가 1인 팰림드롬의 개수` 즉, 문자열의 길이만큼 더해준 것이 답이다.\n",
    "- 이 구현에선 짝수길이의 manacher 배열과 홀수길이의 manacher 배열을 따로 구하므로, 각각의 합을 구하고 문자열의 길이를 더한것이 정답이 된다."
   ]
  }
 ],
 "metadata": {
  "language_info": {
   "name": "python"
  },
  "orig_nbformat": 4
 },
 "nbformat": 4,
 "nbformat_minor": 2
}
