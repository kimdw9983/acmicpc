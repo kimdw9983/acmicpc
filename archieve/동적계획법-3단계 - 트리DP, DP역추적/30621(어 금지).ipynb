{
 "cells": [
  {
   "cell_type": "code",
   "execution_count": null,
   "metadata": {},
   "outputs": [],
   "source": [
    "import io, os, operator, bisect\n",
    "input=io.BytesIO(os.read(0,os.fstat(0).st_size)).readline\n",
    "\n",
    "class ST:\n",
    "  def __init__(self, seg, f, default=0):\n",
    "    self._def = default\n",
    "    self._f = f\n",
    "    self._len = len(seg)\n",
    "    self._size = _size = 1 << (self._len - 1).bit_length()\n",
    "\n",
    "    self.seg = [default] * (2 * _size)\n",
    "    self.seg[_size:_size + self._len] = seg\n",
    "    for i in reversed(range(_size)):\n",
    "      self.seg[i] = f(self.seg[i + i], self.seg[i + i + 1])\n",
    "\n",
    "  def __getitem__(self, i):\n",
    "    return self.seg[i + self._size]\n",
    "\n",
    "  def __setitem__(self, i, v):\n",
    "    i += self._size\n",
    "    self.seg[i] = v\n",
    "    i //= 2\n",
    "    while i:\n",
    "      self.seg[i] = self._f(self.seg[2 * i], self.seg[2 * i + 1])\n",
    "      i //= 2\n",
    "\n",
    "  def query(self, s, e):\n",
    "    s += self._size\n",
    "    e += self._size\n",
    "\n",
    "    l = r = self._def\n",
    "    while s < e: \n",
    "      if s & 1:\n",
    "        l = self._f(l, self.seg[s])\n",
    "        s += 1\n",
    "      if e & 1:\n",
    "        e -= 1\n",
    "        r = self._f(self.seg[e], r)\n",
    "      s //= 2\n",
    "      e //= 2\n",
    "\n",
    "    return self._f(l, r)\n",
    "\n",
    "MAX = 100000\n",
    "def sol() :\n",
    "  N = int(input())\n",
    "  T = list(map(int, input().split()))\n",
    "  Tzip = {v:i for i, v in enumerate(T)}\n",
    "  B = list(map(int, input().split()))\n",
    "  C = list(map(int, input().split()))\n",
    "\n",
    "  st = ST([0] * (MAX + 1), operator.add) # 시각 N에서 얻을 수 있는 최대의 혼란\n",
    "  for i, (t, b, c) in enumerate(zip(T, B, C)) :\n",
    "    res = st.query(bisect.bisect_left(T, t-b), i) #해당 시간에서 얻을 수 있는 혼란의 증가량\n",
    "    if res > c : continue\n",
    "    st[i] = c - res\n",
    "  print(st.seg[1])\n",
    "\n",
    "sol()"
   ]
  },
  {
   "cell_type": "markdown",
   "metadata": {},
   "source": [
    "### 자력솔\n",
    "- 뭔가 그리디나 DP인거 같은데, 자꾸만 구간합을 구해야 한다는 생각에 지배당해 세그먼트 트리로 푼 문제.\n",
    "- IndexError가 나서 뭔가 싶었는데 좌표압축이 필요한것 같아 보였다. 다만, 이미 T는 strictly increasing 하므로 이분탐색만 진행해도 됐다. 필요한 쿼리는 `bisect_left()`"
   ]
  }
 ],
 "metadata": {
  "language_info": {
   "name": "python"
  }
 },
 "nbformat": 4,
 "nbformat_minor": 2
}
