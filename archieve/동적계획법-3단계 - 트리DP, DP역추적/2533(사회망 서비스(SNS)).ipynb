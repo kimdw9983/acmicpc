{
 "cells": [
  {
   "cell_type": "code",
   "execution_count": null,
   "metadata": {},
   "outputs": [],
   "source": [
    "import io, os\n",
    "input=io.BytesIO(os.read(0,os.fstat(0).st_size)).readline\n",
    "\n",
    "def sol() :\n",
    "  N = int(input())\n",
    "  G = [[] for _ in range(N)]\n",
    "  for _ in range(N-1):\n",
    "    a, b = map(int, input().split())\n",
    "    G[a-1].append(b-1)\n",
    "    G[b-1].append(a-1)\n",
    "\n",
    "  S = [0]\n",
    "  vis = [False] * N\n",
    "  PO = []\n",
    "  while S:\n",
    "    cur = S[-1]\n",
    "    vis[cur] = True\n",
    "    leaf = True\n",
    "    for n in G[cur] :\n",
    "      if not vis[n] :\n",
    "        S.append(n)\n",
    "        leaf = False\n",
    "    if leaf :\n",
    "      PO.append(S.pop())\n",
    "\n",
    "  DP = [[0] * 2 for _ in range(N)] #최소 얼리어답터의 수\n",
    "  for cur in PO:\n",
    "    DP[cur][0] += 0 # cur is not EA, 자식들은 모두 EA여야 함 \n",
    "    DP[cur][1] += 1 # cur is EA, 자식들은 EA거나 EA가 아닐 수 있음\n",
    "    for d in G[cur] :\n",
    "      if vis[d] :\n",
    "        DP[d][0] += DP[cur][1]\n",
    "        DP[d][1] += min(DP[cur][0], DP[cur][1])\n",
    "    vis[cur] = False\n",
    "  \n",
    "  print(min(DP[0]))\n",
    "\n",
    "sol()"
   ]
  },
  {
   "attachments": {},
   "cell_type": "markdown",
   "metadata": {},
   "source": [
    "# tree pruning?"
   ]
  },
  {
   "cell_type": "code",
   "execution_count": null,
   "metadata": {},
   "outputs": [],
   "source": [
    "def solve(tree):\n",
    "  leaf = [i for i in range(n) if len(tree[i]) == 1]\n",
    "  visited = [0]*n\n",
    "  while leaf:\n",
    "    node = leaf.pop()\n",
    "    for par in tree[node]:\n",
    "      for gra_par in tree[par]:\n",
    "        tree[gra_par].remove(par)\n",
    "        if len(tree[gra_par]) == 1:\n",
    "          leaf.append(gra_par)\n",
    "      visited[par] = 1\n",
    "      tree[par].clear()\n",
    "  return sum(visited)"
   ]
  }
 ],
 "metadata": {
  "language_info": {
   "name": "python"
  },
  "orig_nbformat": 4
 },
 "nbformat": 4,
 "nbformat_minor": 2
}
