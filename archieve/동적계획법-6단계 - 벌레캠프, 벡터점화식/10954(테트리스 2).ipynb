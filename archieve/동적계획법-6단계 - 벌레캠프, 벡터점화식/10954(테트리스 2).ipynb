{
 "cells": [
  {
   "cell_type": "code",
   "execution_count": null,
   "metadata": {},
   "outputs": [],
   "source": [
    "def ans(n):\n",
    "  m = 1000000\n",
    "  a, p, d, q, g = [0]*(m+1), [0]*(m+1), [0]*(m+1), [0]*(m+1), [0]*(m+1)\n",
    "\n",
    "  a[1], a[2], a[3] = 0, 0, 0\n",
    "  p[1], p[2], p[3] = 0, 2, 0\n",
    "  d[1], d[2], d[3] = 0, 1, 0\n",
    "  q[1], q[2], q[3] = 0, 0, 8\n",
    "  g[1], g[2], g[3] = 0, 0, 2\n",
    "\n",
    "  for i in range(4, n+1):\n",
    "    a[i] = (2*p[i-2] + 2*d[i-2] + q[i-1] + g[i-1]) % m\n",
    "    p[i] = (2*a[i-2] + p[i-4] + 2*q[i-3] + 2*g[i-3]) % m\n",
    "    d[i] = (a[i-2] + p[i-4] + q[i-3] + 2*g[i-3]) % m\n",
    "    q[i] = (4*a[i-3] + 2*p[i-1] + 2*p[i-5] + q[i-4] + 2*g[i-4]) % m\n",
    "    g[i] = 2*a[i-3] % m\n",
    "\n",
    "  return a[n]\n",
    "\n",
    "print(ans(int(input())))"
   ]
  },
  {
   "cell_type": "markdown",
   "metadata": {},
   "source": [
    "In a problem like this, we're generally trying to count the number of ways to fill a 3xN grid with Tetris pieces, excluding the straight line piece. Each piece is 1x4, and can be arranged in different configurations: horizontal, vertical, or various L-shapes. These are represented by the functions A, P, D, Q, and G.\n",
    "\n",
    "A(n): This represents the total number of ways to fill a 3xN grid. It can be computed based on the sums of the other configurations.\n",
    "\n",
    "P(n): This configuration represents a 3xN grid with a 1x4 block extending from the top left to the top right, with the rest of the grid filled. The recurrence relation for P(n) is derived from the configurations that result when a block is placed in one of the possible positions.\n",
    "\n",
    "D(n): This configuration represents a 3xN grid with a 1x4 block extending from the top left to the bottom left, with the rest of the grid filled. The recurrence relation for D(n) is similarly derived from the configurations that result when a block is placed in one of the possible positions.\n",
    "\n",
    "Q(n): This configuration represents a 3xN grid with a 1x4 block in a \"squatting\" position, with the rest of the grid filled. The recurrence relation for Q(n) is derived from the configurations that result when a block is placed in one of the possible positions.\n",
    "\n",
    "G(n): This configuration represents a 3xN grid with a 1x4 block in a \"standing\" position, with the rest of the grid filled. The recurrence relation for G(n) is derived from the configurations that result when a block is placed in one of the possible positions.\n",
    "\n",
    "Each recurrence relation is a function of the previous values because each new configuration can be thought of as an extension of a previous configuration by adding a new block in a certain position.\n",
    "\n",
    "It's also worth noting that each configuration is multiplied by the number of ways to arrange the remaining blocks, and then all possibilities are summed up to get the total number of ways to fill the grid.\n",
    "\n",
    "The modulo operation is used to keep the numbers manageable and to avoid overflow, which is a common technique in dynamic programming problems."
   ]
  }
 ],
 "metadata": {
  "language_info": {
   "name": "python"
  },
  "orig_nbformat": 4
 },
 "nbformat": 4,
 "nbformat_minor": 2
}
