{
 "cells": [
  {
   "cell_type": "code",
   "execution_count": null,
   "metadata": {},
   "outputs": [],
   "source": [
    "import io, os\n",
    "input=io.BytesIO(os.read(0,os.fstat(0).st_size)).readline\n",
    "\n",
    "MAX = 100\n",
    "def sol():\n",
    "  N = int(input())\n",
    "  C = [[0]*(MAX+1) for _ in range(MAX+1)]\n",
    "  for _ in range(N):\n",
    "    a, b = map(int, input().split())\n",
    "    C[a][b] = C[b][a] = 1\n",
    "  \n",
    "  DP = [[0]*(MAX+1) for _ in range(MAX+1)]\n",
    "  for i in range(1, MAX+1) :\n",
    "    for j in range(i, 0, -1) :\n",
    "      for k in range(j, i) :\n",
    "        DP[j][i] = max(DP[j][i], DP[j][k] + DP[k][i] + C[i][j])\n",
    "\n",
    "  print(DP[1][MAX])\n",
    "\n",
    "sol()"
   ]
  },
  {
   "cell_type": "markdown",
   "metadata": {},
   "source": [
    "### 풀이\n",
    "- $C[i][j]$ : $i$ 에서 $j$ 까지 선분을 통과하는 비용 \n",
    "  - 즉, $u$ 번에서 $v$ 번이 연결돼있으면 $u \\to v$ 랑 $v \\to u$ 의 비용이 1있는 것과 같다.\n",
    "  - (자력) 교차하는 현이 없다는 뜻은, 임의의 선들이 그어져있을 때, 하나의 현으로 몇개의 선들을 교차시킬 수 있는지와 같다.\n",
    "- `DP[i][j]`: $i < j$ 인 범위 $[i, j]$ 에 있는 점들을 끝점으로 하는 정답의 후보값\n",
    "- $DP[i][j] = \\max_{i \\leq k < j}(DP[i][k] + DP[k][j] + C[i][j])$"
   ]
  },
  {
   "cell_type": "markdown",
   "metadata": {},
   "source": [
    "### 다른 풀이\n",
    "- 오른쪽 선을 포함하는 경우, 왼쪽 선을 포함하는 경우, 구간내 최댓값을 포함하는 경우?\n",
    "- 현을 하나 선택하면 원의 영역이 두 부분으로 나뉜다는 점을 이용한 풀이\n",
    "  - https://www.acmicpc.net/source/54362556"
   ]
  },
  {
   "cell_type": "code",
   "execution_count": null,
   "metadata": {
    "vscode": {
     "languageId": "cpp"
    }
   },
   "outputs": [],
   "source": [
    "#include <iostream>\n",
    "#include <cstring>\n",
    "using namespace std;\n",
    "\n",
    "int arr[101][101];\n",
    "int line[101];\n",
    "\n",
    "int dp(int start, int end) {\n",
    "\tif (start >= end)\n",
    "\t\treturn 0;\n",
    "\n",
    "\tif (arr[start][end] == -1) {\n",
    "\t\tint ans = 0;\n",
    "\t\tfor (int i = start; i <= end; i++) {\n",
    "\t\t\tif (line[i] && start <= line[i] && line[i] <= end) {\n",
    "\t\t\t\tans = max(ans, dp(i + 1, end));\n",
    "\t\t\t\tans = max(ans, 1 + dp(i + 1, line[i] - 1) + dp(line[i] + 1, end));\n",
    "\t\t\t\tbreak;\n",
    "\t\t\t}\n",
    "\t\t}\n",
    "\t\tarr[start][end] = ans;\n",
    "\t}\n",
    "\treturn arr[start][end];\n",
    "}\n",
    "\n",
    "int main() {\n",
    "\tmemset(arr, -1, sizeof(arr));\n",
    "\n",
    "\tint N; cin >> N;\n",
    "\tfor (int i = 0; i < N; i++) {\n",
    "\t\tint a, b; cin >> a >> b;\n",
    "\t\tline[a] = b;\n",
    "\t\tline[b] = a;\n",
    "\t}\n",
    "\n",
    "\tcout << dp(1, 100) << endl;\n",
    "\n",
    "\treturn 0;\n",
    "}"
   ]
  }
 ],
 "metadata": {
  "language_info": {
   "name": "python"
  }
 },
 "nbformat": 4,
 "nbformat_minor": 2
}
