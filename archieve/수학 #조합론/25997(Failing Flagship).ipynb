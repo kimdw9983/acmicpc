{
 "cells": [
  {
   "cell_type": "code",
   "execution_count": null,
   "metadata": {},
   "outputs": [],
   "source": [
    "DELTA = [90 / 2 ** i for i in range(1000)]\n",
    "X, Y = input().split()\n",
    "\n",
    "dx = dy = 0\n",
    "if len(X) > 1 :\n",
    "  for i, v in enumerate(X[1:], 1) :\n",
    "    dx += DELTA[i] if v == X[0] else -DELTA[i]\n",
    "      \n",
    "if len(Y) > 1 :\n",
    "  for i, v in enumerate(Y[1:], 1) :\n",
    "    dy += DELTA[i] if v == Y[0] else -DELTA[i]\n",
    "\n",
    "def tf(c) :\n",
    "  if c == 'N' : return 0\n",
    "  elif c == \"E\" : return 90\n",
    "  elif c == \"S\" : return 180\n",
    "  elif c == \"W\" : return 270\n",
    "\n",
    "ans = tf(X[0]) + dx - (tf(Y[0]) + dy)\n",
    "print(min(abs(ans), 360 - abs(ans)))"
   ]
  },
  {
   "cell_type": "markdown",
   "metadata": {},
   "source": [
    "이런"
   ]
  }
 ],
 "metadata": {
  "language_info": {
   "name": "python"
  },
  "orig_nbformat": 4
 },
 "nbformat": 4,
 "nbformat_minor": 2
}
