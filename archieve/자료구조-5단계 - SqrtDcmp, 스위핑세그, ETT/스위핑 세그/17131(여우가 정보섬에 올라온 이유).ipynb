{
 "cells": [
  {
   "attachments": {
    "image-2.png": {
     "image/png": "[encoded data removed]"
    },
    "image-3.png": {
     "image/png": "[encoded data removed]"
    },
    "image.png": {
     "image/png": "[encoded data removed]"
    }
   },
   "cell_type": "markdown",
   "metadata": {},
   "source": [
    "- N이 20만이므로 $O(N^2)$으로 풀 수 없다. 적어도 $O(N \\log N)$으로 풀어야 한다.\n",
    "\n",
    "### 풀이\n",
    "- ![image.png](attachment:image.png)\n",
    "- 별이 위와같이 배치돼있다고 했을 때, 노란색으로 된 별 기준으로 별자리를 만들 수 있는 개수는 다음과 같다.\n",
    "- ![image-2.png](attachment:image-2.png)\n",
    "- ![image-3.png](attachment:image-3.png)\n",
    "- 각 두 구간의 별들의 개수를 곱하면 된다. 이때 같은 축에 있는 별들은 제외된다는 점에 유의하자.\n",
    "- 5419(북서풍) 때와 비슷한 풀이로 이번엔 위에서 아래로 스위핑하되, 세그먼트 트리의 업데이트는 y축이 변할 때에만 수행한다.\n",
    "  - 같은 y축에 존재하는 별들은 list에 저장해놓고 y축이 변할 때 한꺼번에 업데이트한다 ( 이를 batch라고 하는듯 하다 )"
   ]
  },
  {
   "cell_type": "code",
   "execution_count": null,
   "metadata": {},
   "outputs": [],
   "source": [
    "import io, os, sys\n",
    "input=io.BytesIO(os.read(0,os.fstat(0).st_size)).readline\n",
    "\n",
    "class ST:\n",
    "  def __init__(self, L, default, f):\n",
    "    self._def = default\n",
    "    self._f = f\n",
    "    self._len = len(L)\n",
    "    self._size = _size = 1 << (self._len - 1).bit_length()\n",
    "\n",
    "    self.L = [default] * (2 * _size)\n",
    "    self.L[_size:_size + self._len] = L\n",
    "    for i in reversed(range(_size)):\n",
    "      self.L[i] = f(self.L[i + i], self.L[i + i + 1])\n",
    "\n",
    "  def __delitem__(self, i):\n",
    "    self[i] = self._def\n",
    "\n",
    "  def __getitem__(self, i):\n",
    "    return self.L[i + self._size]\n",
    "\n",
    "  def __setitem__(self, i, v):\n",
    "    i += self._size\n",
    "    self.L[i] = v\n",
    "    i >>= 1\n",
    "    while i:\n",
    "      self.L[i] = self._f(self.L[2 * i], self.L[2 * i + 1])\n",
    "      i >>= 1\n",
    "\n",
    "  def __len__(self):\n",
    "    return self._len\n",
    "\n",
    "  def query(self, s, e):\n",
    "    s += self._size\n",
    "    e += self._size\n",
    "\n",
    "    l = r = self._def\n",
    "    while s < e: \n",
    "      if s & 1:\n",
    "        l = self._f(l, self.L[s])\n",
    "        s += 1\n",
    "      if e & 1:\n",
    "        e -= 1\n",
    "        r = self._f(self.L[e], r)\n",
    "      s >>= 1\n",
    "      e >>= 1\n",
    "\n",
    "    return self._f(l, r)\n",
    "\n",
    "def sol():\n",
    "  N = int(input())\n",
    "  MAX = 2 * 10**5\n",
    "  MOD = 10 ** 9 + 7\n",
    "  L = []\n",
    "  for _ in range(N):\n",
    "    L.append([*map(int, input().split())])\n",
    "  \n",
    "  L.sort(key= lambda x: (-x[1], x[0]))\n",
    "\n",
    "  answer = 0\n",
    "  st = ST([0] * (MAX * 2 + 1), 0, lambda x, y: x + y)\n",
    "  last_y = L[0][1]\n",
    "  tmp = []\n",
    "  for x, y in L:\n",
    "    x += MAX #원점 기준으로 이동\n",
    "    if y != last_y:\n",
    "      while tmp : #수평선에 포함됐던 별들을 한번에 추가(batch)\n",
    "        st[tmp.pop()] += 1 \n",
    "      last_y = y\n",
    "    tmp.append(x)\n",
    "\n",
    "    a = st.query(0, x)\n",
    "    b = st.query(x+1, MAX*2+1)\n",
    "    answer += (a * b) % MOD\n",
    "  \n",
    "  sys.stdout.write(str(answer % MOD) + '\\n')\n",
    "\n",
    "sol()"
   ]
  },
  {
   "attachments": {},
   "cell_type": "markdown",
   "metadata": {},
   "source": [
    "- `tmp.append(x)`부분을 잘못 처리해서 디버깅이 조금 오래걸렸다"
   ]
  }
 ],
 "metadata": {
  "language_info": {
   "name": "python"
  },
  "orig_nbformat": 4
 },
 "nbformat": 4,
 "nbformat_minor": 2
}
