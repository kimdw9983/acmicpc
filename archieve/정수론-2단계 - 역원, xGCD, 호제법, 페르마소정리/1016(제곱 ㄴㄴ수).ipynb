{
 "cells": [
  {
   "cell_type": "code",
   "execution_count": null,
   "metadata": {},
   "outputs": [],
   "source": [
    "def sol() :\n",
    "  a, b = map(int, input().split())\n",
    "  len = b - a + 1\n",
    "\n",
    "  ans = len\n",
    "  P = [False] * len\n",
    "  i = 2 \n",
    "  while i * i <= b : #sqrt b까지만 검사하면 된다\n",
    "    q = i * i #제곱수\n",
    "    r = bool(a % q) #q로 나누어 떨어지는지 여부\n",
    "    j = a // q + r #arg min_k {kq >= a} a보다 크거나 같은 q의 배수 중 가장 작은 수. \n",
    "    while q * j <= b : #sieve\n",
    "      if not P[q * j - a] :\n",
    "        P[q * j - a] = True\n",
    "        ans -= 1\n",
    "      j += 1\n",
    "    i += 1\n",
    "  print(ans)\n",
    "\n",
    "sol()"
   ]
  },
  {
   "cell_type": "markdown",
   "metadata": {},
   "source": [
    "### 풀이\n",
    "- 제곱수의 배수에 대해서 sieve하는 아이디어\n",
    "- 배수여야 하므로 $a$ 로 나눈 나머지가 존재하면 그 수에 대해서 올림해줘야 한다. \n",
    "  - 제곱수 $i' = i * i$ 에 대해, 확인할 배수를 $j$ 라고 할 때, 구간  $[a, b]$ 에 대해 $j = \\lceil \\frac{a}{j} \\rceil \\to b$ 가 제곱 ㄴㄴ수 1개이다. 이 횟수를 센다.\n",
    "  - $i = 2 \\to \\sqrt N$ 까지 위 과정을 반복한다."
   ]
  }
 ],
 "metadata": {
  "language_info": {
   "name": "python"
  }
 },
 "nbformat": 4,
 "nbformat_minor": 2
}
