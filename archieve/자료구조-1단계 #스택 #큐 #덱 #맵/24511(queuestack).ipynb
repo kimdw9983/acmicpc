{
 "cells": [
  {
   "cell_type": "code",
   "execution_count": null,
   "metadata": {},
   "outputs": [],
   "source": [
    "import io, os, sys, collections \n",
    "input=io.BytesIO(os.read(0,os.fstat(0).st_size)).readline\n",
    "\n",
    "def sol() :\n",
    "  N = int(input())\n",
    "  L = [*map(int, input().split())]\n",
    "  L2 = [*map(int, input().split())]\n",
    "  \n",
    "  L3 = collections.deque()\n",
    "  for n, is_stack in zip(L2, L) :\n",
    "    if is_stack : continue\n",
    "    L3.append(n)\n",
    "  \n",
    "  input()\n",
    "  to_insert = [*map(int, input().split())]\n",
    "  ans = []\n",
    "  for v in to_insert :\n",
    "    L3.appendleft(v)\n",
    "    ans.append(L3.pop())\n",
    "  \n",
    "  sys.stdout.write(' '.join(map(str, ans)))\n",
    "  \n",
    "sol()"
   ]
  },
  {
   "cell_type": "markdown",
   "metadata": {},
   "source": [
    "### 자력솔\n",
    "- 자세한 관찰을 통해 확인해본 결과, 임의의 deque `L`을 만들고 i번째 자료구조가 큐인 경우 그 원소를 `L`에 넣어 길이가 `n개의 자료구조중 큐였던 자료구조의 개수`인 deque을 유지하면서,\\\n",
    "`새로 넣을 값`은 왼쪽에 넣고 매번 오른쪽의 값을 출력하면 정답이다."
   ]
  }
 ],
 "metadata": {
  "language_info": {
   "name": "python"
  },
  "orig_nbformat": 4
 },
 "nbformat": 4,
 "nbformat_minor": 2
}
