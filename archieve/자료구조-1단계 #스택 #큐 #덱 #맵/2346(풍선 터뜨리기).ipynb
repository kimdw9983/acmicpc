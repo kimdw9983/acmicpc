{
 "cells": [
  {
   "cell_type": "code",
   "execution_count": null,
   "metadata": {},
   "outputs": [],
   "source": [
    "import io, os, sys, collections \n",
    "input=io.BytesIO(os.read(0,os.fstat(0).st_size)).readline\n",
    "\n",
    "def sol() :\n",
    "  input()\n",
    "  DQ = collections.deque([(i, v) for i, v in enumerate(map(int, input().split()), 1)])\n",
    "\n",
    "  ans = []\n",
    "  while DQ :\n",
    "    i, n = DQ.popleft()\n",
    "    ans.append(i)\n",
    "    DQ.rotate(-n if n < 0 else -n+1)\n",
    "\n",
    "  sys.stdout.write(\" \".join(map(str, ans)))\n",
    "sol()"
   ]
  },
  {
   "cell_type": "markdown",
   "metadata": {},
   "source": [
    "- 혼자 비밀스럽게 헤매버리기"
   ]
  }
 ],
 "metadata": {
  "language_info": {
   "name": "python"
  },
  "orig_nbformat": 4
 },
 "nbformat": 4,
 "nbformat_minor": 2
}
