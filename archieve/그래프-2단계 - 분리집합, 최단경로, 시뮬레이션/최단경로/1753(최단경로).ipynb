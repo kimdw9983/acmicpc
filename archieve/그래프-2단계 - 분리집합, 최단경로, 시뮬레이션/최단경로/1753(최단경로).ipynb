{
 "cells": [
  {
   "cell_type": "code",
   "execution_count": null,
   "metadata": {},
   "outputs": [],
   "source": [
    "from heapq import heappop, heappush\n",
    "import sys\n",
    "input=sys.stdin.readline\n",
    "\n",
    "V, E = map(int, input().split())\n",
    "s = int(input())\n",
    "G = [[] for _ in range(V+1)]\n",
    "for _ in range(E) :\n",
    "  u, u, v = map(int, input().split())\n",
    "  G[u].append((u, v))\n",
    "\n",
    "INF = float(\"inf\") #inf로 안되는 경우가 있으므로 주의\n",
    "def dij(G, s):\n",
    "  n = len(G)\n",
    "  dist, parents = [INF] * n, [-1] * n\n",
    "  dist[s] = 0\n",
    "\n",
    "  Q = [(0, s)]\n",
    "  while Q:\n",
    "    path_len, u = heappop(Q)\n",
    "    if path_len != dist[u]: continue # 이미 더 빠른 경로로 고쳐져있었을 경우(heap이기 때문에 큐 안의 w의 값을 직접 바꿀 수 없다)\n",
    "    for v, edge_len in G[u]: #인접한 경로들을 탐색\n",
    "      if edge_len + path_len < dist[v]: #중간 경로를 경유한 것(P[A] + P[A][B])이 더 가까우면 갱신\n",
    "        dist[v], parents[v] = edge_len + path_len, u\n",
    "        heappush(Q, (edge_len + path_len, v))\n",
    "\n",
    "  return dist\n",
    "\n",
    "dist = dij(G, s)\n",
    "sys.stdout.write(\"\\n\".join(map(lambda x: str(x).upper(), dist[1:])))"
   ]
  },
  {
   "cell_type": "markdown",
   "metadata": {},
   "source": [
    "### 풀이\n",
    "- 다익스트라 기본 문제"
   ]
  }
 ],
 "metadata": {
  "language_info": {
   "name": "python"
  },
  "orig_nbformat": 4
 },
 "nbformat": 4,
 "nbformat_minor": 2
}
