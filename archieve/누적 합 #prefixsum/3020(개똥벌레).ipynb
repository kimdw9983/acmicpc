{
 "cells": [
  {
   "cell_type": "code",
   "execution_count": null,
   "metadata": {},
   "outputs": [],
   "source": [
    "import io, os\n",
    "input=io.BytesIO(os.read(0,os.fstat(0).st_size)).readline\n",
    "\n",
    "#No prefix sum\n",
    "def sol():\n",
    "  N, H = map(int, input().split())\n",
    "  L = [int(input()) for _ in range(N)]\n",
    "  DA = [0] * H\n",
    "\n",
    "  for a, b in zip(L[::2], L[1::2]):\n",
    "    for i in range(a) :\n",
    "      DA[i] += 1\n",
    "    \n",
    "    for i in range(b) :\n",
    "      DA[H-i-1] += 1\n",
    "\n",
    "  print(DA)\n",
    "  print(min(DA), DA.count(min(DA)))"
   ]
  },
  {
   "cell_type": "markdown",
   "metadata": {},
   "source": [
    "### 자력솔\n",
    "- imos법 연습문제."
   ]
  },
  {
   "cell_type": "code",
   "execution_count": null,
   "metadata": {},
   "outputs": [],
   "source": [
    "import io, os\n",
    "input=io.BytesIO(os.read(0,os.fstat(0).st_size)).readline\n",
    "\n",
    "#Prefix sum\n",
    "def sol():\n",
    "  N, H = map(int, input().split())\n",
    "  L = [int(input()) for _ in range(N)]\n",
    "  DA = [0] * H\n",
    "  \n",
    "  for a, b in zip(L[::2], L[1::2]):\n",
    "    DA[0] += 1\n",
    "    DA[a-1] -= 1\n",
    "    \n",
    "    DA[H-b-1] += 1\n",
    "  \n",
    "  for i in range(1, H) :\n",
    "    DA[i] += DA[i-1]\n",
    "\n",
    "  print(min(DA), DA.count(min(DA)))\n",
    "  \n",
    "sol()"
   ]
  }
 ],
 "metadata": {
  "language_info": {
   "name": "python"
  },
  "orig_nbformat": 4
 },
 "nbformat": 4,
 "nbformat_minor": 2
}
