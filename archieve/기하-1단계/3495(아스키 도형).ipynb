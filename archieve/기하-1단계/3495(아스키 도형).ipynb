{
 "cells": [
  {
   "cell_type": "code",
   "execution_count": null,
   "metadata": {},
   "outputs": [],
   "source": [
    "import sys\n",
    "input=sys.stdin.readline\n",
    "\n",
    "def sol() :\n",
    "  h, w = map(int, input().split())\n",
    "  opened = False\n",
    "  acc = 0\n",
    "  for _ in range(h) :\n",
    "    s = input()\n",
    "    for c in s :\n",
    "      if c == '\\\\' or c == '/' :\n",
    "        acc += 0.5\n",
    "        opened = not opened\n",
    "      else :\n",
    "        acc += opened\n",
    "  print(int(acc))\n",
    "sol()"
   ]
  },
  {
   "cell_type": "markdown",
   "metadata": {},
   "source": [
    "### 자력솔\n",
    "- .이 도형 내부에 있는지 판단하기 위해 toggle용 변수를 하나 두는 아이디어."
   ]
  }
 ],
 "metadata": {
  "language_info": {
   "name": "python"
  }
 },
 "nbformat": 4,
 "nbformat_minor": 2
}
