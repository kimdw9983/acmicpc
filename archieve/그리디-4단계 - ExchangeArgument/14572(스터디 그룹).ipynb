{
 "cells": [
  {
   "cell_type": "markdown",
   "metadata": {},
   "source": [
    "### 아이디어\n",
    "- $E$ 는 대충 `(합집합 - 교집합) * 그룹원 수` 라고 볼 수 있다.\n",
    "  - 어떻게 해야 $E$ 를 최대화 할 수 있을까에 대해 생각해봤다. 겹치는 부분은 적으면서, 넓어야 한다는 느낌.\n",
    "  - (조건상 불가능하지만) 알고리즘을 아는게 없는 팀원을 추가하는 경우: 교집합이 공집합으로 바뀐다. 인원수는 늘어나므로 반드시 이득이다.\n",
    "  - 모든 알고리즘을 아는 팀원: 교집합은 그대로이지만, 합집합이 넓어진다. 모든 팀원이 모든 알고리즘을 알고있더라도 손해보지는 않으므로, 적어도 손해가 아니다.\n",
    "  - 위 조건에 의해 어떤 알고리즘을 알고있던간에, 팀원은 추가할수록 이득이다.\n",
    "- 실력차이가 $D$ 이하여야 한다.\n",
    "  - 위의 조건과 합쳐서 정리하면, `실력차이가 D 이하이면서 최대한 팀원을 많이 추가해야 한다`\n",
    "- 구현. 처음에 DP를 생각했지만 뭔가 안될거 같았다. K까지 들어가면 $O(N^2)$ 이 나올 것 같아서.\n",
    "  - 각 학생당 $d_i$ 을 기준으로 정렬하면 슬라이딩 윈도우 같은 방식으로 접근할 수 있어보였다.\n",
    "  - 양쪽의 포인터가 state마다 고정적이지 않고, 조건에 따라 유동적으로 움직이므로 투 포인터가 더 어울릴 것이다.\n",
    "- 합집합과 교집합의 판단\n",
    "  - 길이 $K$ 의 cnt 배열을 만들고, 합집합과 교집합을 판단할 수 있을 것 같아 보였다.\n",
    "  - 현재 후보 그룹의 그룹원 수를 $x$ 라고 할 때, $cnt_k$ 의 값이 1 이상이면 합집합, $x$ 이면 교집합이라고 보았다."
   ]
  },
  {
   "cell_type": "code",
   "execution_count": null,
   "metadata": {},
   "outputs": [],
   "source": [
    "import io, os\n",
    "input=io.BytesIO(os.read(0,os.fstat(0).st_size)).readline\n",
    "\n",
    "def sol() :\n",
    "  N, K, D = map(int, input().split())\n",
    "  MAP = {}\n",
    "  S = []\n",
    "  for i in range(N) :\n",
    "    M, d = map(int, input().split())\n",
    "    S.append((d, M, i))\n",
    "    l = tuple(map(int, input().split()))\n",
    "    MAP[i] = l\n",
    "  \n",
    "  S.sort()\n",
    "  cnt = [0] * K\n",
    "  def fwd(i) :\n",
    "    for j in MAP[i] :\n",
    "      cnt[j-1] += 1\n",
    "  \n",
    "  def bwd(i) :\n",
    "    for j in MAP[i] :\n",
    "      cnt[j-1] -= 1\n",
    "\n",
    "  l = r = 0\n",
    "  ans = 0\n",
    "  for d, M, i in S :\n",
    "    r += 1\n",
    "    fwd(i)\n",
    "    while l < r and d - S[l][0] > D :\n",
    "      bwd(S[l][2])\n",
    "      l += 1\n",
    "    \n",
    "    uni = 0\n",
    "    inter = 0\n",
    "    for v in cnt  :\n",
    "      if not v : continue\n",
    "      uni += 1\n",
    "      if inter == r - l : inter += 1\n",
    "    ans = max(ans, (uni - inter) * (r-l))\n",
    "  \n",
    "  print(ans)\n",
    "\n",
    "sol()"
   ]
  },
  {
   "cell_type": "markdown",
   "metadata": {},
   "source": [
    "- 오타 이슈"
   ]
  },
  {
   "cell_type": "code",
   "execution_count": null,
   "metadata": {},
   "outputs": [],
   "source": [
    "# type: ignore\n",
    "if v == r - l : inter += 1"
   ]
  },
  {
   "cell_type": "markdown",
   "metadata": {},
   "source": [
    "### 자력솔\n",
    "- 태그만 잠깐 봤다."
   ]
  }
 ],
 "metadata": {
  "language_info": {
   "name": "python"
  }
 },
 "nbformat": 4,
 "nbformat_minor": 2
}
