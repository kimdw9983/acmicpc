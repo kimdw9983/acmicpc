{
 "cells": [
  {
   "cell_type": "markdown",
   "metadata": {},
   "source": [
    "### 아이디어\n",
    "- Exchange argument를 사용하는 그리디 문제일 것이다.\n",
    "- 우선 같은 보상금을 가진 구두들이 여러개 있을 때, 먼저 끝나는 작업을 먼저해야 하는지, 늦게 끝나는 작업을 먼저해야 하는지 생각해보자.\n",
    "  - `1 1000, 2 1000` 을 생각해볼 수 있다. 대충 구두를 만들어 낸 날에도 보상금을 줘야한다고 가정하고 계산해보면,\\\n",
    "  2일 걸리는 작업을 먼저하면 5000 만큼을, 1일 걸리는 작업을 먼저하면 4000 만큼 보상해야 한다. \\\n",
    "  따라서 매번 빨리 끝나는 작업을 우선으로 끝내야 이득이다.\n",
    "- 이번엔 수선 기간이 같고, 보상금만 다른 것을 생각해보자.\n",
    "  - `1 100, 1 1`. 100짜리를 먼저 수선해준다면 102 만큼을, 1짜리를 먼저 수선한다면 201만큼 보상해야 한다.\\\n",
    "  따라서 수선기같이 같다면, 보상금이 큰 것을 먼저 수선해야 이득이다.\n",
    "- 두 가지 기준 중에서 어느것이 더 먼저 고려되어야 할지도 생각해봐야 한다."
   ]
  },
  {
   "cell_type": "markdown",
   "metadata": {},
   "source": [
    "- 문제를 좀더 잘 읽을 필요가 있었다. `i번째 작업을 시작하기 전에 하루가 지연될 때마다`, \\\n",
    "즉 $i$ 번째를 수선하기로 고른 순간 $i$ 번째 손님으로부터 발생하는 보상금은 고려하지 말아야 하는 것 같다.\\\n",
    "위의 경우를 다시 계산해보자.\n",
    "  - `1 1000, 2 1000`, 간단하게 생각해서 전자를 고르면 1000만큼만 보상하여 최소로 보상할 수 있다. \\\n",
    "  보상금이 같다면 더 빨리 끝나는것을 우선으로 선택해야 한다.\n",
    "  - `1 100, 1 1` 전자를 고른다면 1만 보상하면 된다.\\\n",
    "  기간이 같다면, 보상이 더 큰것을 우선으로 선택해야 한다.\n",
    "  - `1 1000, 2 500, 4 250`, 둘의 곱이 같은 경우. 1번째 것을 골라 1250으로 최소화할 수 있다.\\\n",
    "  둘의 곱이 같더라도, 빨리 끝나는 것을 고르면 된다.\n",
    "- 매번 가장 빨리 끝나면서, 보상금이 큰 것을 고르면 된다."
   ]
  },
  {
   "cell_type": "markdown",
   "metadata": {},
   "source": [
    "- 이런, 스페셜 저지가 아니였다. $N$ 이 많이 낮길래 뭔가 수상했는데, 오름차순으로 정렬한 가장 첫번째 해답을 출력하는 문제였다."
   ]
  },
  {
   "cell_type": "code",
   "execution_count": null,
   "metadata": {},
   "outputs": [],
   "source": [
    "import io, os\n",
    "input=io.BytesIO(os.read(0,os.fstat(0).st_size)).readline\n",
    "\n",
    "def sol() :\n",
    "  N = int(input())\n",
    "  L = []\n",
    "  for i in range(N) :\n",
    "    a, b = map(int, input().split())\n",
    "    L.append((a, b, i))\n",
    "    \n",
    "  L.sort(key=lambda x: (x[0], -(x[1] / x[0]), x[2]))\n",
    "  print(L)\n",
    "  for v in L :\n",
    "    print(v[2] + 1, end=' ')\n",
    "\n",
    "sol()"
   ]
  },
  {
   "cell_type": "markdown",
   "metadata": {},
   "source": [
    "- 엄...."
   ]
  },
  {
   "cell_type": "code",
   "execution_count": null,
   "metadata": {},
   "outputs": [],
   "source": [
    "import io, os, sys\n",
    "input=io.BytesIO(os.read(0,os.fstat(0).st_size)).readline\n",
    "\n",
    "def sol() :\n",
    "  N = int(input())\n",
    "  L = []\n",
    "  for i in range(N) :\n",
    "    a, b = map(int, input().split())\n",
    "    L.append((-b/a , i + 1))\n",
    "  L.sort()\n",
    "    \n",
    "  sys.stdout.write(\" \".join(map(str, map(lambda x: x[1], L))))\n",
    "\n",
    "sol()"
   ]
  },
  {
   "cell_type": "markdown",
   "metadata": {},
   "source": [
    "- 구현 이슈였다. 풀이는 맞았는데, 그걸 올바르게 정렬하려면 값을 입력할 때 $-\\frac{b}{a}$ 를 입력해야 했다."
   ]
  }
 ],
 "metadata": {
  "language_info": {
   "name": "python"
  }
 },
 "nbformat": 4,
 "nbformat_minor": 2
}
