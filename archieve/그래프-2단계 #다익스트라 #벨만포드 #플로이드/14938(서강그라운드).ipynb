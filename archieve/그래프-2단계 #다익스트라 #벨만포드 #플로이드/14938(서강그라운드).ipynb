{
 "cells": [
  {
   "cell_type": "code",
   "execution_count": null,
   "metadata": {},
   "outputs": [],
   "source": [
    "import io, os\n",
    "input=io.BytesIO(os.read(0,os.fstat(0).st_size)).readline\n",
    "\n",
    "INF = 1234567891\n",
    "def fw(V: int, E: list):\n",
    "  D = [[0 if a == b else INF for a in range(V)] for b in range(V)]\n",
    "  par = [[None] * V for _ in range(V)]\n",
    "\n",
    "  for u, v, w in E:\n",
    "    D[u][v] = w\n",
    "\n",
    "  for m in range(V):\n",
    "    for a, l in enumerate(D):\n",
    "      for b, v in enumerate(l):\n",
    "        if l[m] + D[m][b] >= v: continue\n",
    "        l[b] = l[m] + D[m][b]\n",
    "        par[a][b] = par[m][b]\n",
    "\n",
    "  return D, par\n",
    "\n",
    "def sol() :\n",
    "  N, M, R = map(int, input().split())\n",
    "  item = [*map(int, input().split())]\n",
    "  E = []\n",
    "  for a, b, w in (map(int, input().split()) for _ in range(R)) :\n",
    "    E.append((a-1, b-1, w))\n",
    "    E.append((b-1, a-1, w))\n",
    "  \n",
    "  D, _ = fw(N, E)\n",
    "  ans = 0\n",
    "  for d in D :\n",
    "    tmp = 0\n",
    "    for i, v in enumerate(d):\n",
    "      if v <= M :\n",
    "        tmp += item[i]\n",
    "    ans = max(ans, tmp)\n",
    "  \n",
    "  print(ans)\n",
    "\n",
    "sol()"
   ]
  },
  {
   "cell_type": "markdown",
   "metadata": {},
   "source": [
    "### 자력솔\n",
    "- 플로이드 워셜을 구해놓고, 각 정점에서의 최단거리 리스트에 대해, 정점까지의 가중치가 M 이하인 정점에 대한 아이템 수를 더해준 것을 구해고, 그중의 최댓값이 정답이다."
   ]
  }
 ],
 "metadata": {
  "language_info": {
   "name": "python"
  },
  "orig_nbformat": 4
 },
 "nbformat": 4,
 "nbformat_minor": 2
}
