{
 "cells": [
  {
   "cell_type": "markdown",
   "metadata": {},
   "source": [
    "### 문제 해석\n",
    "- 입력으로 K, C 가 주워지고, $Cx = 1 \\pmod K$ 를 만들 수 있는 $x$를 구하는 문제이다.\n",
    "\n",
    "### 풀이\n",
    "- $x \\equiv C^{-1} \\pmod K$ 이므로, $C$ 의 모듈러 역원을 구하면 된다.\n",
    "- 예외1. 가능한 K의 범위가 0부터 $10^9$ 로 정해져있으므로, 해당 범위 내에서 모듈로 역원을 구할 수 없으면 불가능하다.\n",
    "- 예외2. K와 C가 서로소가 아닌 경우, $C^{-1}$ 이 존재하지 않으므로 불가능하다."
   ]
  },
  {
   "cell_type": "code",
   "execution_count": null,
   "metadata": {},
   "outputs": [],
   "source": [
    "import io, os, math, sys\n",
    "input=io.BytesIO(os.read(0,os.fstat(0).st_size)).readline\n",
    "\n",
    "def xGCD(a, b):\n",
    "  s, old_s = 0, 1\n",
    "  r, old_r = b, a\n",
    "  while r:\n",
    "    q = old_r // r\n",
    "    old_r, r = r, old_r - q * r\n",
    "    old_s, s = s, old_s - q * s\n",
    "  return old_r, old_s, (old_r - old_s * a) // b if b else 0\n",
    "\n",
    "def modinv(a, m):\n",
    "  g, x, _ = xGCD(a % m, m)\n",
    "  return x % m if g == 1 else None\n",
    "\n",
    "def w(x):\n",
    "  sys.stdout.write(str(x) + '\\n')\n",
    "\n",
    "NO = 'IMPOSSIBLE'\n",
    "MAX = 10 ** 9\n",
    "def sol() :\n",
    "  K, C = map(int, input().split())\n",
    "  if K == C == 1 : return w(2)\n",
    "  if C == 1 : return w(NO if K + 1 > MAX else K + 1)\n",
    "  if K == 1 : return w(1)\n",
    "  if math.gcd(K, C) != 1 : return w(NO)\n",
    "\n",
    "  inv = modinv(C, K)\n",
    "  if inv > MAX : return w(NO)\n",
    "  w(inv)\n",
    "\n",
    "for _ in range(int(input())) :\n",
    "  sol()"
   ]
  }
 ],
 "metadata": {
  "language_info": {
   "name": "python"
  },
  "orig_nbformat": 4
 },
 "nbformat": 4,
 "nbformat_minor": 2
}
