{
 "cells": [
  {
   "attachments": {},
   "cell_type": "markdown",
   "metadata": {},
   "source": [
    "### 풀이\n",
    "- (자력) 어떤 수 $A, B$를 합치는 것($AB$라고 표현)은 $A * 10^{|B|} + B$와 같다.\n",
    "  - $\\scriptsize |B|$는 $B$의 자릿수를 의미한다.\n",
    "- $A$와 $B$를 합친것을 $AB$라고 할 때, $AB \\mod k = (A * 10^{|B|} + B) \\mod k = (A * 10^{|B|} \\mod k + B \\mod k) \\mod k$이다.\n",
    "  - 수식은 모듈러 연산의 분배법칙에 의해 유도된 것이다.\n",
    "  - 따라서 숫자를 직접 합칠 필요 없이, 두 수의 나머지를 이용한 연산으로 나온 모든 값도, $k$가 100이하이므로, 모두 저장할 수 있다. (이 문제풀이의 핵심)\n",
    "- `DP[i][j]` = 숫자를 합친 것이 `i` 상태일 때, 나머지가 j인 순열의 개수\n",
    "  - `DP[현재 상태][합친 나머지] += DP[이전상태][이전 나머지]`\n",
    "\n",
    "#### 순열에 대해\n",
    "- DP의 상태를 나타내는 bit field가 (그것을 고르는)순열이 아닌 조합이 아닌가에 대한 의혹을 해결하기 위해 자세히 고찰해보았다.\n",
    "- 예를들어 DP의 상태가 4bit라고 할 때, 0011은 0010과 0001에서 넘어온다.\n",
    "  - 즉 0010에서 4번째 숫자를 추가한 경우와 0001에서 3번째 숫자를 추가한 경우와 같다고 볼 수 있다.\n",
    "  - 따라서 0011은 이전 상태에서 순서를 고려했으므로 순열이라고 할 수 있다.\n",
    "- 0111의 경우도 0011, 0101, 0110 에서 넘어오고, 이 과정에서 추가될 때 순서가 고려되므로 순열이라고 볼 수 있다."
   ]
  },
  {
   "cell_type": "code",
   "execution_count": null,
   "metadata": {},
   "outputs": [],
   "source": [
    "import math\n",
    "\n",
    "N = int(input())\n",
    "L = [int(input()) for _ in range(N)]\n",
    "K = int(input())\n",
    "DP = [[-1] * K for _ in range(1 << N)] # DP[bit][mod]\n",
    "DP[0][0] = 1 # 0개를 골라서 나머지가 0인 경우는 1가지\n",
    "\n",
    "def len(n) :\n",
    "  return int(math.log10(int(n))) + 1\n",
    "\n",
    "def p2(n) :\n",
    "  return int(math.log2(n))\n",
    "\n",
    "def sub(n):\n",
    "  len = n.bit_length()\n",
    "  for i in range(len):\n",
    "    if n & (1 << i):\n",
    "      sub = n & ~(1 << i)\n",
    "      yield sub\n",
    "\n",
    "def dp(bit, mod):\n",
    "  if DP[bit][mod] != -1:\n",
    "    return DP[bit][mod]\n",
    "\n",
    "  DP[bit][mod] = 0\n",
    "  for s in sub(bit): # s는 bit의 부분집합\n",
    "    x = p2(bit^s)\n",
    "    b = L[x]\n",
    "    for j in range(K) :\n",
    "      m = ((j * (10 ** len(b))) % K + b % K) % K\n",
    "      DP[bit][m] += dp(s, j)\n",
    "  return DP[bit][mod]\n",
    "dp((1 << N) - 1, 0)"
   ]
  },
  {
   "attachments": {},
   "cell_type": "markdown",
   "metadata": {},
   "source": [
    "- 뭔가 이해를 잘못한 코드"
   ]
  },
  {
   "cell_type": "code",
   "execution_count": null,
   "metadata": {},
   "outputs": [],
   "source": [
    "import sys\n",
    "import math\n",
    "input = sys.stdin.readline\n",
    "\n",
    "n = int(input())\n",
    "s = [int(input()) for _ in range(n)]\n",
    "k = int(input())\n",
    "r = [[(j*10**len(str(s[i]))+s[i])%k for j in range(k)] for i in range(n)]\n",
    "dp = [[0]*k for _ in range(1<<n)]\n",
    "dp[0][0]=1\n",
    "\n",
    "for b in range(1<<n):\n",
    "    for i in range(n):\n",
    "        if b&(1<<i): continue\n",
    "        for j in range(k):\n",
    "            dp[b|(1<<i)][r[i][j]]+=dp[b][j]\n",
    "p = dp[(1<<n)-1][0]\n",
    "q = sum(dp[(1<<n)-1])\n",
    "g = math.gcd(p,q)\n",
    "print(f'{p//g}/{q//g}')"
   ]
  }
 ],
 "metadata": {
  "language_info": {
   "name": "python"
  },
  "orig_nbformat": 4
 },
 "nbformat": 4,
 "nbformat_minor": 2
}
