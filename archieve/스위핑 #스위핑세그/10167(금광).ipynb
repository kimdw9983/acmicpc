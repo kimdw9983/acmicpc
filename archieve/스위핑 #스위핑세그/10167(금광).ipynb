{
 "cells": [
  {
   "cell_type": "markdown",
   "metadata": {
    "notebookRunGroups": {
     "groupValue": ""
    }
   },
   "source": [
    "### 아이디어\n",
    "- 기존에 풀었던 스위핑 세그 문제처럼 한 축을 잡고 스위핑하면서 푼다고 했을 때, 곤란해지는 지점은 y축이나 x축 위에 여러개의 광산이 있을때이다. \n",
    "- 광산의 개수가 3000개로, 구분 가능한 x, y좌표는 6000개만 나온다. \\\n",
    "만약 가능한 x, y좌표에 대해 모든 쌍을 구한다면 $6000^2$ 개 정도가 나오는데, 만약 쿼리를 구하는 것이 $\\log N$ 정도라면 충분히 구할 수 있을 것이다."
   ]
  },
  {
   "cell_type": "code",
   "execution_count": null,
   "metadata": {},
   "outputs": [],
   "source": [
    "import io, os\n",
    "input=io.BytesIO(os.read(0,os.fstat(0).st_size)).readline\n",
    "\n",
    "from dataclasses import dataclass\n",
    "@dataclass\n",
    "class Node :\n",
    "  ls: int = 0\n",
    "  rs: int = 0\n",
    "  ms: int = 0\n",
    "  s: int = 0\n",
    "\n",
    "class ST : \n",
    "  def __init__(self, size): #default는 Node()이다.\n",
    "    self._size = _size = 1 << (size - 1).bit_length()\n",
    "    self.seg = [Node() for _ in range(2 * _size)]\n",
    "\n",
    "  def __getitem__(self, i):\n",
    "    return self.seg[i + self._size]\n",
    "\n",
    "  def update(self, i, v) :\n",
    "    i += self._size\n",
    "    self.seg[i].ms += v\n",
    "    self.seg[i].ls = self.seg[i].rs = self.seg[i].s = self.seg[i].ms\n",
    "    while i > 1 :\n",
    "      i >>= 1\n",
    "      self.seg[i] = self.merge(self.seg[i*2], self.seg[i*2+1])\n",
    "\n",
    "  def merge(self, l: Node, r: Node):\n",
    "    ret = Node()\n",
    "    ret.s = l.s + r.s\n",
    "    ret.ls = max(l.ls, l.s + r.ls)\n",
    "    ret.rs = max(r.rs, r.s + l.rs)\n",
    "    ret.ms = max(ret.s, l.ms, r.ms, l.rs + r.ls)\n",
    "    return ret\n",
    "\n",
    "  def query(self, s, e): #[s, e]\n",
    "    s += self._size - 1\n",
    "    e += self._size\n",
    "\n",
    "    ret = Node()\n",
    "    while s < e :\n",
    "      if s & 1 :\n",
    "        ret = self.merge(ret, self.seg[s])\n",
    "        s += 1\n",
    "      if e & 1 :\n",
    "        e -= 1\n",
    "        ret = self.merge(self.seg[e], ret)\n",
    "      s >>= 1\n",
    "      e >>= 1\n",
    "    return ret\n",
    "\n",
    "def sol() :\n",
    "  N = int(input())\n",
    "  X = set()\n",
    "  Y = set()\n",
    "  T = []\n",
    "  for _ in range(N) :\n",
    "    x, y, w = map(int, input().split())\n",
    "    T.append([x, y, w])\n",
    "    X.add(x)\n",
    "    Y.add(y)\n",
    "  \n",
    "  X = {x: i for i, x in enumerate(sorted(X))}\n",
    "  Y = {y: i for i, y in enumerate(sorted(Y))}\n",
    "  T = [[X[x], Y[y], w] for x, y, w in T] #compression\n",
    "  T.sort(key=lambda x: (x[1], x[0]))\n",
    "\n",
    "  ans = 0\n",
    "  for i in range(N) :\n",
    "    if i and T[i][1] == T[i-1][1] : continue #같은 y좌표는 한번만\n",
    "    st = ST(len(X) + len(Y))\n",
    "    for j in range(i, N) :\n",
    "      st.update(T[j][0], T[j][2])\n",
    "      if j == N - 1 or T[j][1] != T[j+1][1] :\n",
    "        ans = max(ans, st.seg[1].ms)  \n",
    "  print(ans)\n",
    "\n",
    "sol()"
   ]
  },
  {
   "cell_type": "markdown",
   "metadata": {},
   "source": [
    "### 풀이\n",
    "- 가능한 x, y 좌표 쌍에 대해 모두 시도해보는 아이디어는 맞았다.\n",
    "- 16993(연속합과 쿼리)에서 사용된 최대 연속누적합 세그트리의 아이디어를 사용하여 구역 $p_1, p_2$ 에 대한 개발 이익을 $\\Omicron(\\log N)$ 에 구할 수 있다.\n",
    "- $y$ 기준으로 좌표를 정렬한 뒤, $x$ 기준으로 스위핑하면서 구간 $[p_1, p_2]$ 에 대한 개발 이익을 구한다. 그 과정에서 쿼리의 최댓값이 정답이다."
   ]
  }
 ],
 "metadata": {
  "language_info": {
   "name": "python"
  },
  "orig_nbformat": 4
 },
 "nbformat": 4,
 "nbformat_minor": 2
}
