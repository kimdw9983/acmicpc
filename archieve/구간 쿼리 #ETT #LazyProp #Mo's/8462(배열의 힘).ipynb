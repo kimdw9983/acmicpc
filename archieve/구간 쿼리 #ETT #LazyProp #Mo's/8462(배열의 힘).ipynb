{
 "cells": [
  {
   "cell_type": "code",
   "execution_count": null,
   "metadata": {},
   "outputs": [],
   "source": [
    "import io, os, math, sys\n",
    "input=io.BytesIO(os.read(0,os.fstat(0).st_size)).readline\n",
    "\n",
    "MAX = 10 ** 6\n",
    "def sol() :\n",
    "  N, T = map(int, input().split())\n",
    "  L = [*map(int, input().split())]\n",
    "  sqrtN = math.isqrt(N)\n",
    "\n",
    "  Q = []\n",
    "  for i in range(T):\n",
    "    s, e = map(int, input().split())\n",
    "    Q.append((s-1, e, i))\n",
    "  Q.sort(key=lambda x: (x[0] // sqrtN, x[1]))\n",
    "\n",
    "  cnt = [0] * (MAX + 1)\n",
    "  ans = [0] * T\n",
    "  res = 0\n",
    "  PoA = lambda x: cnt[L[x]] ** 2 * L[x]\n",
    "\n",
    "  s = e = 0\n",
    "  for ns, ne, idx in Q:\n",
    "    while ns < s:\n",
    "      s -= 1\n",
    "      if cnt[L[s]] : #이미 해당 숫자에 대한 값이 구해져있었으면\n",
    "        res -= PoA(s)\n",
    "      cnt[L[s]] += 1\n",
    "      res += PoA(s)\n",
    "    while e < ne: \n",
    "      if cnt[L[e]] : \n",
    "        res -= PoA(e)\n",
    "      cnt[L[e]] += 1\n",
    "      res += PoA(e)\n",
    "      e += 1\n",
    "    while ns > s: \n",
    "      res -= PoA(s)\n",
    "      cnt[L[s]] -= 1\n",
    "      if cnt[L[s]] : # 값을 감소시켜도 해당 숫자가 존재하면\n",
    "        res += PoA(s)\n",
    "      s += 1\n",
    "    while e > ne: \n",
    "      e -= 1\n",
    "      res -= PoA(e)\n",
    "      cnt[L[e]] -= 1\n",
    "      if cnt[L[e]] :\n",
    "        res += PoA(e)\n",
    "    \n",
    "    ans[idx] = res\n",
    "  \n",
    "  sys.stdout.write('\\n'.join(map(str, ans)))\n",
    "\n",
    "sol()"
   ]
  },
  {
   "cell_type": "markdown",
   "metadata": {},
   "source": [
    "### 자력솔\n",
    "- $T(N)$ 이 $\\Omicron(N)$ 인 문제인줄 알았는데, 계속 생각해보니 $\\Omicron(1)$ 만에 해결가능해보여서 다시 고쳤다.\n",
    "- **오늘의 상식: 10 ** 6 은 10만이 아니라 100만이다.**"
   ]
  }
 ],
 "metadata": {
  "language_info": {
   "name": "python"
  },
  "orig_nbformat": 4
 },
 "nbformat": 4,
 "nbformat_minor": 2
}
