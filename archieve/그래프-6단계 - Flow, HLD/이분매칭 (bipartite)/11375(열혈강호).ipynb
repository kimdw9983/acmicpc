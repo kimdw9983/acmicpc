{
 "cells": [
  {
   "cell_type": "code",
   "execution_count": null,
   "metadata": {},
   "outputs": [],
   "source": [
    "import io, os\n",
    "input=io.BytesIO(os.read(0,os.fstat(0).st_size)).readline\n",
    "\n",
    "def bipartite(G, N, M) : #직원(왼쪽 그룹), 일(오른쪽 그룹)\n",
    "  def dfs(x) : #x에서 시작하는 증강경로를 찾는다\n",
    "    if vis[x]: return False\n",
    "\n",
    "    vis[x] = True\n",
    "    for y in G[x]: #일이 할당되지 않은 경우 가능한 일을 매칭한다.\n",
    "      if sel[y] == -1 :\n",
    "        sel[y] = x\n",
    "        return True\n",
    "      \n",
    "    for y in G[x] : #해당 직원이 다른 일에도 배정할 수 있는지 확인한다. 이때 이미 매칭된 일은 다른 직원에게 재귀적으로 배정한다.\n",
    "      if dfs(sel[y]):\n",
    "        sel[y] = x\n",
    "        return True\n",
    "    return False\n",
    "\n",
    "  sel = [-1] * M #일을 선택한 직원의 index\n",
    "  res = 0\n",
    "  for i in range(N) :\n",
    "    vis = [False] * N\n",
    "    if dfs(i) : res += 1\n",
    "  return res, sel\n",
    "\n",
    "def sol():\n",
    "  N, M = map(int, input().split())\n",
    "  G = [[] for _ in range(N)]\n",
    "  for i in range(N):\n",
    "    _, *G[i] = map(lambda x: int(x)-1, input().split())\n",
    "  \n",
    "  ans, sel = bipartite(G, N, M)\n",
    "  print(ans)\n",
    "\n",
    "sol()"
   ]
  },
  {
   "cell_type": "markdown",
   "metadata": {},
   "source": [
    "- 이분매칭 기본 문제. 제출 했던 코드중 가장 빠른 코드로 작성됐다."
   ]
  }
 ],
 "metadata": {
  "language_info": {
   "name": "python"
  },
  "orig_nbformat": 4
 },
 "nbformat": 4,
 "nbformat_minor": 2
}
