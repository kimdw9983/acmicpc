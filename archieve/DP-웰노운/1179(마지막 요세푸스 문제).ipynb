{
 "cells": [
  {
   "attachments": {},
   "cell_type": "markdown",
   "metadata": {},
   "source": [
    "- 요새푸스 수열의 마지막 숫자를 구하는 문제 `J(n, k)`에서 `k`가 작은 숫자일 경우 다음과 같은 점화식을 통해 문제를 해결할 수 있다.\n",
    "  - `J(n, k) = n명의 사람 중 k번째 사람을 제거하는 원순열이 있다고 할 때, 마지막에 남는 사람의 번호(0-index)` \n",
    "  - $J(n, k) = \\begin{cases} 0 &\\text {if }n = 1 \\\\ (J(n-1, k) + k) \\mod n &\\text {if } 1 < n < k \\\\ \\text{for } h := J(n - \\lfloor\\frac {n}{k}\\rfloor, k) - (n \\mod k), \\begin{cases} h + n &\\text {if }h < 0 \\\\ h + \\lfloor\\frac {h}{k-1}\\rfloor &\\text {otherwise} \\end{cases} &\\text {otherwise} \\end{cases}$\n",
    "  - $O(k \\log n)$\n",
    " \n",
    "### 설명\n"
   ]
  },
  {
   "cell_type": "code",
   "execution_count": null,
   "metadata": {},
   "outputs": [],
   "source": [
    "import sys\n",
    "sys.setrecursionlimit(10**6)\n",
    "N, K = map(int, input().split())\n",
    "def J(n, k):\n",
    "  if k == 1: \n",
    "    return n-1\n",
    "  if n == 1:\n",
    "    return 0\n",
    "  elif 1 < n < k:\n",
    "    return (J(n - 1, k) + k) % n\n",
    "  else:\n",
    "    NN = n - n//k #k가 n의 약수가 아닌 경우, n%k만큼 shift\n",
    "    tmp = (J(NN, k) - n%k) % NN \n",
    "    return k * tmp // (K-1)\n",
    "    \n",
    "print(J(N, K) + 1)"
   ]
  }
 ],
 "metadata": {
  "language_info": {
   "name": "python"
  },
  "orig_nbformat": 4
 },
 "nbformat": 4,
 "nbformat_minor": 2
}
