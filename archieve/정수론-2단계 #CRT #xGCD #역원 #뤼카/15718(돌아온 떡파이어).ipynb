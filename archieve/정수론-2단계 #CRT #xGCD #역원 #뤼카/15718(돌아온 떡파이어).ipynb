{
 "cells": [
  {
   "cell_type": "markdown",
   "metadata": {},
   "source": [
    "### 풀이\n",
    "- 떡국 N개를 M-1개의 날짜에 최소한 1개씩은 먹도록 배치하는 경우의 수와 같다.\n",
    "  - 따라서 $\\binom{n-1}{m-2}$ 을 구하는 문제라고 생각할 수 있다.\n",
    "- 100007은 97 * 1031 이고, 각각은 소수이다. 소수가 적당히 작으므로 뤼카의 정리를 이용하여 풀 수 있다.\n",
    "- 뤼카의 정리를 이용하여 $\\binom{n-1}{m-2} \\mod 97$ 과 $\\binom{n-1}{m-2} \\mod 1031$ 을 구한다."
   ]
  },
  {
   "cell_type": "code",
   "execution_count": null,
   "metadata": {},
   "outputs": [],
   "source": [
    "import math\n",
    "import operator as op\n",
    "from functools import reduce\n",
    "lcm = lambda a, b: a * b // math.gcd(a, b)\n",
    "def crt(a, p):\n",
    "  prod = reduce(op.mul, p, 1)\n",
    "  x = [prod // pi for pi in p]\n",
    "  return sum(a[i] * pow(x[i], p[i] - 2, p[i]) * x[i] for i in range(len(a))) % prod\n",
    "\n",
    "def gnCr(max_n=2 * 10**5, mod=10**9 + 7):\n",
    "  max_n = min(max_n, mod - 1)\n",
    "\n",
    "  fact, inv_fact = [0] * (max_n + 1), [0] * (max_n + 1)\n",
    "  fact[0] = 1\n",
    "  for i in range(max_n):\n",
    "    fact[i + 1] = fact[i] * (i + 1) % mod\n",
    "\n",
    "  inv_fact[-1] = pow(fact[-1], mod - 2, mod) #modinv using fermat's little theorem\n",
    "  for i in reversed(range(max_n)):\n",
    "    inv_fact[i] = inv_fact[i + 1] * (i + 1) % mod\n",
    "\n",
    "  def nCr_mod(n, r):\n",
    "    res = 1\n",
    "    while n or r:\n",
    "      a, b = n % mod, r % mod\n",
    "      if a < b: return 0\n",
    "      res = res * fact[a] % mod * inv_fact[b] % mod * inv_fact[a - b] % mod\n",
    "      n //= mod\n",
    "      r //= mod\n",
    "    return res\n",
    "\n",
    "  return nCr_mod\n",
    "\n",
    "#100007 = 1031 * 97\n",
    "l97 = gnCr(97, 97)\n",
    "l1031 = gnCr(1031, 1031)\n",
    "def sol() :\n",
    "  N, M = map(int, input().split())\n",
    "  if N == 0 and M == 1 : return print(1)\n",
    "  if N == 0 and M != 1 : return print(0)\n",
    "\n",
    "  a1 = l97(N - 1 , M - 2)\n",
    "  a2 = l1031(N - 1, M - 2)\n",
    "  a3 = crt([a1, a2], [97, 1031])\n",
    "  print(a3)\n",
    "\n",
    "for _ in range(int(input())):\n",
    "  sol()"
   ]
  }
 ],
 "metadata": {
  "language_info": {
   "name": "python"
  },
  "orig_nbformat": 4
 },
 "nbformat": 4,
 "nbformat_minor": 2
}
