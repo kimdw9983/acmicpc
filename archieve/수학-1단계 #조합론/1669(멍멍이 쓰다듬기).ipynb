{
 "cells": [
  {
   "cell_type": "code",
   "execution_count": null,
   "metadata": {},
   "outputs": [],
   "source": [
    "X, Y = map(int, input().split())\n",
    "goal = Y - X\n",
    "\n",
    "acc = d = 0\n",
    "while acc < goal :\n",
    "  d += 1\n",
    "  acc += d\n",
    "\n",
    "if acc == goal :\n",
    "  print(d)\n",
    "elif acc - 1 == goal :\n",
    "  print(d + 1)\n",
    "else :\n",
    "  print(d)"
   ]
  },
  {
   "cell_type": "markdown",
   "metadata": {},
   "source": [
    "### 문제를 잘못읽었다.\n",
    "- 첫째날과 마지막날의 키는 +1으로 돼야 한다. 즉 -x^2의 개형을 가진 그래프를 그려야 한다..\n",
    "- 문제 지문을 잘못읽은 탓을 해야할까? 잘못된 해석을 한게 문제인지\n",
    "\n",
    "### 정리\n",
    "- +1에서 시작해서 +1로 끝난다. 즉 2차식을 떠올릴 수 있어야 한다.\n",
    "  - 좀더 일반화하자면, 변곡점이 n개라면 1+n차식을 떠올릴 수 있어야 한다.\n",
    "- 2차식이 예상되는 문제에 대해선 모든 상호작용을 2차식과 관련된 것으로 하는것이 좋을 것 같다.\n",
    "  - 예를들어 관련된 규칙 찾기를 n의 제곱수에서 찾아본다던가"
   ]
  },
  {
   "cell_type": "code",
   "execution_count": null,
   "metadata": {},
   "outputs": [],
   "source": [
    "import math\n",
    "X, Y = map(int, input().split())\n",
    "goal = Y - X\n",
    "\n",
    "N = math.isqrt(goal)\n",
    "if goal == 0 :\n",
    "  print(0)\n",
    "elif N ** 2 == goal :\n",
    "  print(2 * N - 1)\n",
    "elif N ** 2 + N >= goal :\n",
    "  print(2 * N)\n",
    "else :\n",
    "  print(2 * N + 1)"
   ]
  }
 ],
 "metadata": {
  "language_info": {
   "name": "python"
  },
  "orig_nbformat": 4
 },
 "nbformat": 4,
 "nbformat_minor": 2
}
