{
 "cells": [
  {
   "cell_type": "code",
   "execution_count": null,
   "metadata": {},
   "outputs": [],
   "source": [
    "import io, os, sys\n",
    "input=io.BytesIO(os.read(0,os.fstat(0).st_size)).readline\n",
    "\n",
    "def genZ(S):\n",
    "  n = len(S)\n",
    "  Z = [0] * n\n",
    "  l = r = 0\n",
    "\n",
    "  for i in range(1, n):\n",
    "    z = Z[i - l]\n",
    "    if i + z >= r:\n",
    "      z = max(r - i, 0)\n",
    "      while i + z < n and S[z] == S[i + z]:\n",
    "        z += 1\n",
    "\n",
    "      l, r = i, i + z\n",
    "\n",
    "    Z[i] = z\n",
    "\n",
    "  Z[0] = n\n",
    "  return Z\n",
    "\n",
    "def sol() :\n",
    "  S = input().rstrip()\n",
    "  Z = genZ(S[::-1])\n",
    "  ans = [Z[-int(input())] for _ in range(int(input()))]\n",
    "  sys.stdout.write('\\n'.join(map(str, ans)))\n",
    "\n",
    "sol()"
   ]
  },
  {
   "cell_type": "markdown",
   "metadata": {},
   "source": [
    "### 풀이\n",
    "- 가장 긴 공통접미사의 길이를 출력하는 문제.\n",
    "- Z 배열은 가장긴 공통 접`두`사의 길이를 저장하므로, 이를 적당히 활용하면 된다.\n",
    "- 입력 문자열을 뒤집고, 쿼리의 입력에 대해서 뒤에서 n번째 있는 Z배열의 원소, 즉 Z[-q]를 출력하게 하면 된다"
   ]
  }
 ],
 "metadata": {
  "language_info": {
   "name": "python"
  },
  "orig_nbformat": 4
 },
 "nbformat": 4,
 "nbformat_minor": 2
}
