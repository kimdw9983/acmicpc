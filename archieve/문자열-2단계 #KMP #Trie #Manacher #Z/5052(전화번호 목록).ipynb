{
 "cells": [
  {
   "cell_type": "code",
   "execution_count": null,
   "metadata": {},
   "outputs": [],
   "source": [
    "import io, os\n",
    "input=io.BytesIO(os.read(0,os.fstat(0).st_size)).readline\n",
    "\n",
    "class Trie:\n",
    "  def __init__(self, *words):\n",
    "    self.root = {}\n",
    "    for word in words: #실제 구현에선 별로 필요없을듯\n",
    "      self.add(word)\n",
    "\n",
    "  def add(self, word):\n",
    "    current_dict = self.root\n",
    "    for letter in word:\n",
    "      current_dict = current_dict.setdefault(letter, {})\n",
    "    current_dict[\"_end_\"] = True #추가한 단어임을 표시한다(add를 추가했는데 ad도 있다고 나오는 것을 방지하기 위해). __contains__가 있을 때 부터 사용\n",
    "    #단어에 \"_end_\"가 포함될 수도 있는 경우 주의\n",
    "\n",
    "  def __contains__(self, word):\n",
    "    current_dict = self.root\n",
    "    for letter in word:\n",
    "      if letter not in current_dict: #해당 노드가 존재하지 않음\n",
    "        return False\n",
    "      current_dict = current_dict[letter]\n",
    "    return \"_end_\" in current_dict #가는 경로는 존재하나(어떤 단어의 접두사이나), 추가한 단어는 아님\n",
    "\n",
    "  def query(self, word) :\n",
    "    current_dict = self.root\n",
    "    for letter in word:\n",
    "      if letter not in current_dict: #해당 노드가 존재하지 않음\n",
    "        return False\n",
    "      current_dict = current_dict[letter]\n",
    "    return any(node != \"_end_\" for node in current_dict) #추가한 단어가 아닌데도 다른 경로가 존재하면 일관성이 없는 것\n",
    "\n",
    "  def __delitem__(self, word):\n",
    "    current_dict = self.root\n",
    "    nodes = [current_dict]\n",
    "    for letter in word:\n",
    "      current_dict = current_dict[letter]\n",
    "      nodes.append(current_dict)\n",
    "    del current_dict[\"_end_\"]\n",
    "\n",
    "def sol() :\n",
    "  N = int(input())\n",
    "  trie = Trie()\n",
    "  S = [input().rstrip() for _ in range(N)]\n",
    "  for s in S :\n",
    "    trie.add(s)\n",
    "  \n",
    "  for s in S :\n",
    "    if trie.query(s) :\n",
    "      return print(\"NO\")\n",
    "    trie.add(s)\n",
    "  \n",
    "  return print(\"YES\")\n",
    "  \n",
    "for _ in range(int(input())) :             \n",
    "  sol()"
   ]
  },
  {
   "cell_type": "markdown",
   "metadata": {},
   "source": [
    "### 자력솔\n",
    "- 추가한 단어가 아닌데도 다른 경로가 존재하면, 즉 _end_ 이외에 다른 노드가 존재하면 일관성이 없는 것이다."
   ]
  }
 ],
 "metadata": {
  "language_info": {
   "name": "python"
  },
  "orig_nbformat": 4
 },
 "nbformat": 4,
 "nbformat_minor": 2
}
