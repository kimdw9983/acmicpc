{
 "cells": [
  {
   "cell_type": "code",
   "execution_count": null,
   "metadata": {},
   "outputs": [],
   "source": [
    "import io,os\n",
    "input=io.BytesIO(os.read(0,os.fstat(0).st_size)).readline\n",
    "\n",
    "def LPS(s):\n",
    "  n = len(s)\n",
    "  p = [[0] * (n + 1), [0] * n]\n",
    "\n",
    "  for z, p_z in enumerate(p): #z가 1이면 홀짝량을 바꾼 것, 0이면 그대로\n",
    "    left, right = 0, 0\n",
    "    for i in range(n):\n",
    "      t = right - i + 1 - z #이전까지 발견한 right의 반대쪽 인덱스\n",
    "      if i < right: #현재 중심이 left/right의 바운더리 안에 있을 경우\n",
    "        p_z[i] = min(t, p_z[left + t])\n",
    "      L, R = i - p_z[i], i + p_z[i] - 1 + z\n",
    "      while (L >= 1) and (R + 1 < n) and (s[L - 1] == s[R + 1]): #양쪽의 포인터가 같은 문자열인지 판단한다.\n",
    "        p_z[i] += 1 #반지름의 길이를 1 늘리고\n",
    "        L -= 1 #바운더리를 확장한다\n",
    "        R += 1\n",
    "      if R > right: #바운더리가 확장됐을 경우 갱신해준다.\n",
    "        left, right = L, R\n",
    "\n",
    "  i1, x1 = max(enumerate(p[0]), key=lambda x: x[1])\n",
    "  i2, x2 = max(enumerate(p[1]), key=lambda x: x[1])\n",
    "\n",
    "  return s[i1 - x1:i1 + x1], s[i2 - x2:i2 + x2 + 1]\n",
    "\n",
    "def sol() :\n",
    "  S = input().rstrip()\n",
    "  ans = max(map(len, LPS(S)))\n",
    "  print(ans)\n",
    "\n",
    "sol()"
   ]
  }
 ],
 "metadata": {
  "language_info": {
   "name": "python"
  },
  "orig_nbformat": 4
 },
 "nbformat": 4,
 "nbformat_minor": 2
}
