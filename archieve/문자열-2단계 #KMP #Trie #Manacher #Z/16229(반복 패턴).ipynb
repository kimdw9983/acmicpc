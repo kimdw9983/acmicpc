{
 "cells": [
  {
   "cell_type": "code",
   "execution_count": null,
   "metadata": {},
   "outputs": [],
   "source": [
    "Z:list"
   ]
  },
  {
   "cell_type": "markdown",
   "metadata": {},
   "source": [
    "### 관찰 및 아이디어\n",
    "- K는 최대 N까지이다. K = N일경우 문자열 전체를 반복패턴으로 쓰면 되니까 정답은 N과 같다.\n",
    "- ababa의 경우 아무 점에서 반복지점을 찾을 수 없다. 예를들어 ab와 abab, ababa는 반복패턴으로 만들 수 있지만, a나 aba는 반복패턴으로 만들 수 없다.\n",
    "  - 조금 더 구체적으로 살펴보자. ab를 반복패턴으로 결정했을 경우 ab를 적절히 반복했을 때 `S` 전체를 부분문자열, 더 나아가 접두사로 가지고 있어야 한다.\n",
    "    - ab를 반복패턴으로, ababab를 만들었으면, S가 접두사이므로 만들 수 있다.\n",
    "  - aba로 결정한 경우 aba를 반복하는 과정에서 S를 만들 수 없게 된다. 따라서 aba는 반복패턴으로 만들 수 없다.\n",
    "    - abaaba -> S가 접두사가 아니므로 만들 수 없다.\n",
    "- 결국 어떤 문자열을 반복패턴으로 가져야 할지 구하는 아이디어가 부족해서 풀이를 보기로 했다."
   ]
  },
  {
   "cell_type": "code",
   "execution_count": null,
   "metadata": {},
   "outputs": [],
   "source": [
    "import io, os\n",
    "input=io.BytesIO(os.read(0,os.fstat(0).st_size)).readline\n",
    "\n",
    "def genZ(S):\n",
    "  n = len(S)\n",
    "  Z = [0] * n\n",
    "\n",
    "  l = r = 0\n",
    "  for i in range(1, n):\n",
    "    z = Z[i - l]\n",
    "    if i + z >= r:\n",
    "      z = max(r - i, 0)\n",
    "      while i + z < n and S[z] == S[i + z]:\n",
    "        z += 1\n",
    "      l, r = i, i + z\n",
    "    Z[i] = z\n",
    "  # Z[0] = n\n",
    "  return Z\n",
    "\n",
    "def sol() :\n",
    "  N, K = map(int, input().split())\n",
    "  S = input().rstrip()\n",
    "  if K >= N : return print(N)\n",
    "\n",
    "  Z = genZ(S)\n",
    "\n",
    "  for i, z_i in enumerate(reversed(Z), 1) :\n",
    "    if i == z_i and -N % (N-i) <= K :\n",
    "      return print(N-i)\n",
    "  print(0)\n",
    "sol()"
   ]
  },
  {
   "cell_type": "markdown",
   "metadata": {},
   "source": [
    "\n",
    "### border 찾기\n",
    "- border은 어떤 문자열의 접두사이면서 동시에 접미사인 부분문자열을 말한다.\n",
    "- 어떤 문자열 $S$ 가 부분문자열 $s$ 와 $s$ 의 부분 문자열의 반복으로 표현할 수 있다고 하자.\\\n",
    "즉, $S = s * n + s[:k], (0 < k < |s|)$ 이때 $s$ 를 반복 문자열이라고 부르자.\n",
    "  - 이때 $|s| = l$ 인 반복 문자열이 있다는 것은 $s[:k]$ 가 문자열의 border이라는 것과 같다.\n",
    "  - 그리고 $S = s * p + s[:q]$ 이고, $|S| = N$ 이라면 $p = N // l$ 이고, $q = N \\mod l$ 이다.\n",
    "  - 예를들어 S = `abcdabcdabcdabc` 일 경우, 가능한 $s$ 는 `abcd`, `abcdabcd`, `abcdabcdabcd` 이고, border은 각각 `abc`, `abcdabc`, `abc` 가 된다.\n",
    "- 다음 구현으로 문자열 내의 모든 border를 찾을 수 있다.\n",
    "  - 오름차순으로 정렬된 border길이의 후보가 반환된다."
   ]
  },
  {
   "cell_type": "code",
   "execution_count": null,
   "metadata": {},
   "outputs": [],
   "source": [
    "borders = [i for i, z_i in enumerate(reversed(Z), 1) if i == z_i]"
   ]
  },
  {
   "cell_type": "markdown",
   "metadata": {},
   "source": [
    "### 풀이\n",
    "- 모든 반복패턴의 후보를 찾고, 그 후보에서 가장 큰 값을 가져오면 된다.\n",
    "- 반복 패턴을 찾는 것은 모든 border를 찾는 것으로 해결할 수 있다.\n",
    "  - 반복패턴의 길이의 후보 배열 $P$ 에 대해서 덧붙여야할 최소 문자열의 길이 $x = -N \\mod P_i$ 이고, $x \\le K$ 인지 확인한다.\n"
   ]
  }
 ],
 "metadata": {
  "language_info": {
   "name": "python"
  },
  "orig_nbformat": 4
 },
 "nbformat": 4,
 "nbformat_minor": 2
}
