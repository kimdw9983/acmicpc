{
 "cells": [
  {
   "cell_type": "code",
   "execution_count": null,
   "metadata": {},
   "outputs": [],
   "source": [
    "import io, os, math, sys\n",
    "input=io.BytesIO(os.read(0,os.fstat(0).st_size)).readline\n",
    "\n",
    "def LPS(s):\n",
    "  n = len(s)\n",
    "  p = [[0] * (n + 1), [0] * n]\n",
    "\n",
    "  for z, p_z in enumerate(p):\n",
    "    left, right = 0, 0\n",
    "    for i in range(n):\n",
    "      t = right - i + 1 - z\n",
    "      if i < right:\n",
    "        p_z[i] = min(t, p_z[left + t])\n",
    "      L, R = i - p_z[i], i + p_z[i] - 1 + z\n",
    "      while (L >= 1) and (R + 1 < n) and (s[L - 1] == s[R + 1]):\n",
    "        p_z[i] += 1\n",
    "        L -= 1 \n",
    "        R += 1\n",
    "      if R > right:\n",
    "        left, right = L, R\n",
    "\n",
    "  return p\n",
    "\n",
    "def sol() :\n",
    "  N = int(input())\n",
    "  L = list(map(int, input().split()))\n",
    "  res = LPS(L)\n",
    "\n",
    "  M = int(input())\n",
    "  ans = []\n",
    "  for _ in range(M) :\n",
    "    s, e = map(lambda x: int(x)-1, input().split())\n",
    "    if s == e : #최적화\n",
    "      ans.append(1)\n",
    "      continue\n",
    "    i = not ((e - s) & 1) #쿼리로 확인할 문자열 길이 구간에 따라 짝수/홀수 팰린드롬을 확인\n",
    "    mid = math.ceil((s + e) / 2)\n",
    "    thres = math.ceil((e - s) / 2)\n",
    "    ans.append(int(res[i][mid] >= thres))\n",
    "  \n",
    "  sys.stdout.write('\\n'.join(map(str, ans)))\n",
    "\n",
    "sol()"
   ]
  },
  {
   "cell_type": "markdown",
   "metadata": {},
   "source": [
    "### 자력솔\n",
    "- Manacher 배열을 자세히 관찰하는 문제이다.\n",
    "- 두 수의 평균 지점(을 올림한)의 인덱스에 있는 manacher 배열이 두 수 차이를 2로 나눈 것(을 올림한) 숫자보다 높으면 팰린드롬이다.\n",
    "  - 단, 이때 쿼리할 문자열이 홀수개인지 짝수개인지 주의하면서 구해야 한다."
   ]
  },
  {
   "cell_type": "markdown",
   "metadata": {},
   "source": [
    "### 별해\n",
    "- 문자열 문제들을 해싱으로 날먹하는 방법이 있는 듯 하다.\n",
    "  - https://algoshitpo.github.io/2020/02/09/hashingtechnique/#%ED%8C%B0%EB%A6%B0%EB%93%9C%EB%A1%AC%EA%B3%BC-%EC%BF%BC%EB%A6%AC"
   ]
  }
 ],
 "metadata": {
  "language_info": {
   "name": "python"
  },
  "orig_nbformat": 4
 },
 "nbformat": 4,
 "nbformat_minor": 2
}
