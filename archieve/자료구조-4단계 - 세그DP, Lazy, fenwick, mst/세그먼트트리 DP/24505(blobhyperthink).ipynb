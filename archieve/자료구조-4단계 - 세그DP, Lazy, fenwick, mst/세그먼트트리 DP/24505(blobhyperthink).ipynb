{
 "cells": [
  {
   "cell_type": "code",
   "execution_count": null,
   "metadata": {},
   "outputs": [],
   "source": [
    "import io, os\n",
    "input=io.BytesIO(os.read(0,os.fstat(0).st_size)).readline\n",
    "\n",
    "class ST:\n",
    "  def __init__(self, L, f, default=0):\n",
    "    self._def = default\n",
    "    self.f = f\n",
    "    self.len = len(L) + 10\n",
    "    self.size = size = 1 << (self.len - 1).bit_length()\n",
    "\n",
    "    self.seg = [default] * (2 * size)\n",
    "    self.seg[size:size + self.len] = L\n",
    "    for i in reversed(range(size)):\n",
    "      self.seg[i] = f(self.seg[i + i], self.seg[i + i + 1])\n",
    "\n",
    "  def __getitem__(self, i):\n",
    "    return self.seg[i + self.size]\n",
    "\n",
    "  def __setitem__(self, i, v):\n",
    "    i += self.size\n",
    "    self.seg[i] = v\n",
    "    i //= 2\n",
    "    while i:\n",
    "      self.seg[i] = self.f(self.seg[2 * i], self.seg[2 * i + 1])\n",
    "      i //= 2\n",
    "\n",
    "  def query(self, s, e): # [s, e)\n",
    "    s += self.size\n",
    "    e += self.size\n",
    "\n",
    "    l = r = self._def\n",
    "    while s < e: \n",
    "      if s & 1:\n",
    "        l = self.f(l, self.seg[s])\n",
    "        s += 1\n",
    "      if e & 1:\n",
    "        e -= 1\n",
    "        r = self.f(self.seg[e], r)\n",
    "      s //= 2\n",
    "      e //= 2\n",
    "\n",
    "    return self.f(l, r)\n",
    "\n",
    "MOD = 10**9 + 7\n",
    "def sol() :\n",
    "  N = int(input())\n",
    "  L = list(map(int, input().split()))\n",
    "  st = [ST([0] * (N+10), lambda x, y: (x+y) % MOD) for _ in range(11)]\n",
    "\n",
    "  for v in L : \n",
    "    st[0][v] += 1\n",
    "    for k in range(1, 11) :\n",
    "      st[k][v] += st[k - 1].query(0, v) % MOD\n",
    "  \n",
    "  print(st[10].query(0, N+1) % MOD)\n",
    "\n",
    "sol()"
   ]
  },
  {
   "cell_type": "markdown",
   "metadata": {},
   "source": [
    "- 길이 11의 LIS의 개수를 출력하는 문제이다. 17409(증가 수열의 개수)와 비슷."
   ]
  }
 ],
 "metadata": {
  "language_info": {
   "name": "python"
  }
 },
 "nbformat": 4,
 "nbformat_minor": 2
}
