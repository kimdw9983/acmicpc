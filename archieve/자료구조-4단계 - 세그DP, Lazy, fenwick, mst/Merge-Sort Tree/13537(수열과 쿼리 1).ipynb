{
 "cells": [
  {
   "cell_type": "code",
   "execution_count": null,
   "metadata": {},
   "outputs": [],
   "source": [
    "from bisect import bisect\n",
    "\n",
    "class MST : \n",
    "  def __init__(self, L):\n",
    "    self.size = size = 1 << (len(L) - 1).bit_length()\n",
    "    self.seg: list[int] = [[] for _ in range(2 * size)]\n",
    "    self.seg[size:size + len(L)] = [[v] for v in L]\n",
    "    for i in reversed(range(self.size)) :\n",
    "      l = self.seg[i * 2]\n",
    "      r = self.seg[i * 2 + 1]\n",
    "      v = self.seg[i] = [None] * (len(l) + len(r))\n",
    "      p = q = 0\n",
    "      for i in range(len(v)) :\n",
    "        if q == len(r) or (p < len(l) and l[p] < r[q]) :\n",
    "          v[i] = l[p]\n",
    "          p += 1\n",
    "        else :\n",
    "          v[i] = r[q]\n",
    "          q += 1\n",
    "\n",
    "  def __getitem__(self, i) -> list[int] :\n",
    "    return self.seg[i + self.size]\n",
    "\n",
    "  def query(self, s, e, x, i, ns, ne): #[s, e)\n",
    "    if ne <= s or e <= ns : return 0\n",
    "    if s <= ns and ne <= e : return len(self[i]) - bisect(self[i], x)\n",
    "    mid = (ns + ne) // 2\n",
    "    return self.query(s, e, x, i * 2, ns, mid) + self.query(s, e, x, i * 2 + 1, mid, ne)\n",
    "\n",
    "def sol() :\n",
    "  input()\n",
    "  L = list(map(int, input().split()))\n",
    "  mst = MST(L)\n",
    "  for _ in range(int(input())) :\n",
    "    s, e, x = map(int, input().split())\n",
    "    print(mst.query(s - 1, e, x, 1, 0, mst.size // 2))\n",
    "\n",
    "sol()"
   ]
  }
 ],
 "metadata": {
  "language_info": {
   "name": "python"
  }
 },
 "nbformat": 4,
 "nbformat_minor": 2
}
