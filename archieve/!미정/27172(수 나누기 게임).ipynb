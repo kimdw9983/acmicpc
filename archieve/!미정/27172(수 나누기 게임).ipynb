{
 "cells": [
  {
   "attachments": {},
   "cell_type": "markdown",
   "metadata": {},
   "source": [
    "### 접근\n",
    "- DP 문제 같다. 각 플레이어끼리 카드를 비교해보는 경우를 모두 비교해야 하므로, 2차원 배열로 DP를 정의할 수 있을 것 같다.\n",
    "  - `DP[x][n]` = 플레이어가 `x`명 있을 때 `n`번째 사람의 최종 점수\n",
    "- DP라면 나눌 수 있는 문제에 대해서 관계가 있을 것이다.\n",
    "  - 굳이 말하자면, i와 n이 1씩 늘어나면서 비교를 할텐데, 늘어날때마다 이전의 점수 상태에서 변화가 일어난다는 것이다.\n",
    "- 아마 $O(N^2)$로 접근할 수 있을 것 같다. 근데 N=10만이라 이렇게 풀 순 없다.\n",
    "  - `x`가 1씩 늘어날때마다 DP[x-1]의 점수판에서, 내부 loop를 돌때 j(0 -> j-1)번쨰 사람의 카드 `a`랑, j번째 사람의 카드 `b`로 나누면서, 나눌 수 있는 쪽을 +1, 나뉘어진 쪽을 -1하면 될 것 같다.\n",
    "  - TLE"
   ]
  },
  {
   "cell_type": "code",
   "execution_count": null,
   "metadata": {},
   "outputs": [],
   "source": [
    "import io, os, sys\n",
    "input=io.BytesIO(os.read(0, os.fstat(0).st_size)).readline\n",
    "\n",
    "N = int(input())\n",
    "L = [*map(int, input().split())]\n",
    "DP = [[0] * N for _ in range(N)] #DP[x][n] = x명의 사람이 게임을 할때 n번째 플레이어의 최종 점수\n",
    "\n",
    "def judge(a, b) :\n",
    "  if not a % b : return (-1, 1) #b의 승리\n",
    "  if not b % a : return (1, -1) #a의 승리\n",
    "  return (0, 0)\n",
    "\n",
    "for i, l in enumerate(DP):\n",
    "  if i == 0 : continue\n",
    "  for j in range(i) :\n",
    "    if i == j : continue\n",
    "    da, db = judge(L[i], L[j])\n",
    "    l[i] = DP[i-1][i] + DP[i][i] + da\n",
    "    l[j] = DP[i-1][j] + DP[i][j] + db\n",
    "\n",
    "sys.stdout.write(\" \".join(map(str, DP[-1])) + \"\\n\")"
   ]
  },
  {
   "attachments": {},
   "cell_type": "markdown",
   "metadata": {},
   "source": [
    "\n",
    "### 풀이\n",
    "- 에라토스테네스의 채와 비슷한 아이디어로 푸는 문제였다.\n",
    "- 100만의 범위에서 어떤 수 `x`의 배수 `y`에 해당하는 카드가 존재하면 `x`의 점수를 1씩 올리고, `y`의 점수는 1이 내려가는 식으로 구현하면 된다.\n",
    "\n",
    "### 결과\n",
    "- 배수와 약수, 나머지 등을 다루는 문제에선 소수와 관련된 쪽으로 좀더 생각해봐야겠다."
   ]
  },
  {
   "cell_type": "code",
   "execution_count": null,
   "metadata": {},
   "outputs": [],
   "source": [
    "import io, os, sys\n",
    "input=io.BytesIO(os.read(0, os.fstat(0).st_size)).readline\n",
    "\n",
    "N = int(input())\n",
    "MAX = 1000000\n",
    "L = [*map(int, input().split())]\n",
    "X = [0] * (MAX + 1) #점수\n",
    "\n",
    "has = [False] * (MAX + 1)\n",
    "for i in L :\n",
    "  has[i] = True\n",
    "\n",
    "for i in sorted(L) :\n",
    "  for j in range(i * 2, MAX+1, i) :\n",
    "    if has[j] :\n",
    "      X[j] -= 1\n",
    "      X[i] += 1\n",
    "\n",
    "for i in L :\n",
    "  sys.stdout.write(str(X[i]) + \" \")"
   ]
  }
 ],
 "metadata": {
  "language_info": {
   "name": "python"
  },
  "orig_nbformat": 4
 },
 "nbformat": 4,
 "nbformat_minor": 2
}
