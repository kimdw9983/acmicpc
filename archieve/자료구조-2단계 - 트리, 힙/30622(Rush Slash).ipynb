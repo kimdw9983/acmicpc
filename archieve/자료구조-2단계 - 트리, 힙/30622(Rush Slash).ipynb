{
 "cells": [
  {
   "cell_type": "code",
   "execution_count": null,
   "metadata": {},
   "outputs": [],
   "source": [
    "import io, os\n",
    "input=io.BytesIO(os.read(0,os.fstat(0).st_size)).readline\n",
    "\n",
    "def sol() :\n",
    "  N = int(input())\n",
    "  X, Y = [], []\n",
    "  Q = set()\n",
    "  for _ in range(N) :\n",
    "    x, y = map(int, input().split())\n",
    "    Q.add((x, y))\n",
    "\n",
    "  clusters = {}\n",
    "  dist = []\n",
    "  while Q:\n",
    "    key = Q.pop()\n",
    "    S = [key]\n",
    "    clusters[key] = [key]\n",
    "    while S :\n",
    "      x, y = S.pop()\n",
    "      for dx, dy in (1, 0), (-1, 0), (0, 1), (0, -1), (-1, -1), (1, 1), (-1, 1), (1, -1) :\n",
    "        nx, ny = x + dx, y + dy\n",
    "        if (nx, ny) not in Q : continue\n",
    "        S.append((nx, ny))\n",
    "        Q.remove((nx, ny))\n",
    "        clusters[key].append((nx, ny))\n",
    "    clusters[key].sort(key=lambda x: (abs(x[0]) + abs(x[1])))\n",
    "    \n",
    "    shortest = clusters[key][0]\n",
    "    dist.append(abs(shortest[0]) + abs(shortest[1]))\n",
    "  dist.sort()\n",
    "  x = dist.pop()\n",
    "  ans = sum(dist) * 2 + x\n",
    "  print(ans)\n",
    "  \n",
    "sol()"
   ]
  },
  {
   "cell_type": "markdown",
   "metadata": {},
   "source": [
    "### 자력솔(with unintended tag hint)\n",
    "- 연결된 좌표들을 하나의 cluster로 묶은 뒤, 0,0 기준에서 택시 거리상 가장 가까운 cluster 거리들을 구해둔다.\\\n",
    "cluster 거리들을 정렬한 뒤, 가장 먼 거리를 제외한 거리합의 2배 + 가장 먼거리를 더한것이 정답.\n",
    "- `트리를 이용한 집합과 맵`이 배우지 않은 태그여서 뭔가싶어서 태그를 보고말았다. \\\n",
    "별로 중요한건 아니였다. 아마 Python의 set()은 그걸 자연스럽게 구현해주는듯.\n",
    "- 좌표압축을 시도한 코드가 있었는데, 결국 필요는 없었다. 뭐 상관없겠지"
   ]
  }
 ],
 "metadata": {
  "language_info": {
   "name": "python"
  }
 },
 "nbformat": 4,
 "nbformat_minor": 2
}
