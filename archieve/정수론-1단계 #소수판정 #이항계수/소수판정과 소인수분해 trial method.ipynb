{
 "cells": [
  {
   "cell_type": "markdown",
   "metadata": {},
   "source": [
    "# 소수 판별(Trial Division)\n",
    "- $O(\\sqrt{n})$\n",
    "- $n$이 소수인지 판별하기 위해서는 $2$부터 $\\sqrt{n}$까지의 수로 나누어 떨어지는지 확인하면 된다는 아이디어로 만든 알고리즘이다."
   ]
  },
  {
   "cell_type": "code",
   "execution_count": null,
   "metadata": {},
   "outputs": [],
   "source": [
    "import math\n",
    "def is_prime(n):\n",
    "  if n == 2 or n == 3: return True\n",
    "  if n < 2 or n % 2 == 0: return False\n",
    "  if n < 9: return True\n",
    "  if n % 3 == 0: return False\n",
    "  r = math.isqrt(n)\n",
    "  f = 5\n",
    "  while f <= r:\n",
    "    if n % f == 0: return False\n",
    "    if n % (f + 2) == 0: return False\n",
    "    f += 6\n",
    "  return True"
   ]
  },
  {
   "cell_type": "markdown",
   "metadata": {},
   "source": [
    "### 소인수분해(trial method)\n",
    "- n을 나눌 어떤수 n을 1씩 늘려가면서 제곱근까지만 나누어 떨어지는지 확인하는 방법.\n",
    "- 시간복잡도 : $O(\\sqrt n)$"
   ]
  },
  {
   "cell_type": "code",
   "execution_count": null,
   "metadata": {},
   "outputs": [],
   "source": [
    "import math\n",
    "def prime_factos(n):\n",
    "  res = {}\n",
    "  while n % 2 == 0:\n",
    "    res[2] = res.get(2, 0) + 1\n",
    "    n = n // 2\n",
    "     \n",
    "  for i in range(3, int(math.isqrt(n))+1, 2):\n",
    "    while n % i== 0:\n",
    "      res[i] -= res.get(i, 0) + 1\n",
    "      n = n // i\n",
    "      \n",
    "  if n > 2:\n",
    "    res[n] = 1\n",
    "  \n",
    "  return res"
   ]
  },
  {
   "cell_type": "markdown",
   "metadata": {},
   "source": [
    "- 소수만 출력하는 버전"
   ]
  },
  {
   "cell_type": "code",
   "execution_count": null,
   "metadata": {},
   "outputs": [],
   "source": [
    "def prime_factos(n):\n",
    "  i = 2\n",
    "  factos = []\n",
    "  while i * i <= n:\n",
    "    if n % i:\n",
    "      i += 1\n",
    "    else:\n",
    "      n //= i\n",
    "      factos.append(i)\n",
    "  if n > 1:\n",
    "    factos.append(n)\n",
    "  return factos"
   ]
  }
 ],
 "metadata": {
  "language_info": {
   "name": "python"
  },
  "orig_nbformat": 4
 },
 "nbformat": 4,
 "nbformat_minor": 2
}
