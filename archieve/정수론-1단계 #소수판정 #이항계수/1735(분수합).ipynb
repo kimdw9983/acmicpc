{
 "cells": [
  {
   "cell_type": "code",
   "execution_count": 1,
   "metadata": {},
   "outputs": [
    {
     "name": "stdout",
     "output_type": "stream",
     "text": [
      "31 35\n"
     ]
    }
   ],
   "source": [
    "import math \n",
    "gcd = math.gcd\n",
    "\n",
    "A, B = map(int, input().split())\n",
    "C, D = map(int, input().split())\n",
    "\n",
    "def lcm(m, n) :\n",
    "  return m*n//gcd(m,n)\n",
    "\n",
    "lc = lcm(B, D)\n",
    "num = D * A + B * C\n",
    "\n",
    "AC = num // gcd(B, D)\n",
    "BD = B * D // gcd(B, D)\n",
    "\n",
    "print(AC // gcd(AC, BD), BD // gcd(AC, BD))"
   ]
  },
  {
   "attachments": {},
   "cell_type": "markdown",
   "metadata": {},
   "source": [
    "반대편 분모 * 분자로 구한 분수의 합을 gcd를 통해 통분"
   ]
  }
 ],
 "metadata": {
  "kernelspec": {
   "display_name": "Python 3",
   "language": "python",
   "name": "python3"
  },
  "language_info": {
   "codemirror_mode": {
    "name": "ipython",
    "version": 3
   },
   "file_extension": ".py",
   "mimetype": "text/x-python",
   "name": "python",
   "nbconvert_exporter": "python",
   "pygments_lexer": "ipython3",
   "version": "3.11.0"
  },
  "orig_nbformat": 4
 },
 "nbformat": 4,
 "nbformat_minor": 2
}
