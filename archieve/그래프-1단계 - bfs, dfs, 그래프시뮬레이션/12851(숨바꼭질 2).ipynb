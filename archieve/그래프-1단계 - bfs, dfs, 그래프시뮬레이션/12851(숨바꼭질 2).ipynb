{
 "cells": [
  {
   "cell_type": "code",
   "execution_count": null,
   "metadata": {},
   "outputs": [],
   "source": [
    "MAX = 100000\n",
    "N, K = map(int, input().split())\n",
    "\n",
    "cnt = 0\n",
    "dep = 0\n",
    "Q = [N]\n",
    "vis = [0] * (MAX + 1)\n",
    "found = False\n",
    "if N == K :\n",
    "  dep = 0\n",
    "  cnt = 1\n",
    "else :\n",
    "  while Q:\n",
    "    nextQ = []\n",
    "    while Q:\n",
    "      u = Q.pop()\n",
    "      vis[u] = dep\n",
    "      for v in (u - 1, u + 1, u * 2):\n",
    "        if v == K and (not vis[v] or vis[v] == dep):\n",
    "          cnt += 1\n",
    "          found = True\n",
    "        if 0 <= v <= MAX and not vis[v]:\n",
    "          nextQ.append(v)\n",
    "    Q = nextQ\n",
    "    dep += 1\n",
    "    if found : break\n",
    "\n",
    "print(dep)\n",
    "print(cnt)"
   ]
  },
  {
   "attachments": {},
   "cell_type": "markdown",
   "metadata": {},
   "source": [
    "### 풀이\n",
    "- K를 찾았을 때 바로 break하지 말고 현재 Q의 방문을 전부 끝내면서 K에 도달할 수 있는 다른 방법 수(`cnt`)를 찾는다. "
   ]
  }
 ],
 "metadata": {
  "language_info": {
   "name": "python"
  },
  "orig_nbformat": 4
 },
 "nbformat": 4,
 "nbformat_minor": 2
}
