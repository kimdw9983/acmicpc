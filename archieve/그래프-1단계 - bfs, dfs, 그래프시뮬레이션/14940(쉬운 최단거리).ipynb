{
 "cells": [
  {
   "cell_type": "code",
   "execution_count": null,
   "metadata": {},
   "outputs": [],
   "source": [
    "import io, os, sys, collections\n",
    "input=io.BytesIO(os.read(0,os.fstat(0).st_size)).readline\n",
    "N, M = map(int, input().split())\n",
    "\n",
    "G = [[*map(int, input().split())] for _ in range(N)]\n",
    "for x, l in enumerate(G) :\n",
    "  for y, v in enumerate(l) :\n",
    "    if v == 2 :\n",
    "      s = (x, y, 0)\n",
    "\n",
    "def trav(G, s, N, M) :\n",
    "  Q = collections.deque([s])\n",
    "  vis = [[-1] * M for _ in range(N)]\n",
    "  while Q :\n",
    "    x, y, i = Q.popleft()\n",
    "\n",
    "    for dx, dy in [(0, 1), (1, 0), (0, -1), (-1, 0)] :\n",
    "      nx = x + dx\n",
    "      ny = y + dy\n",
    "\n",
    "      if not (0 <= nx < N and 0 <= ny < M): continue\n",
    "      if vis[nx][ny] != -1: continue\n",
    "      if not G[nx][ny]: continue\n",
    "\n",
    "      vis[nx][ny] = i + 1\n",
    "      Q.append((nx, ny, i + 1)) \n",
    "  return vis\n",
    "\n",
    "vis = trav(G, s, N, M)\n",
    "vis[s[0]][s[1]] = 0\n",
    "for x, l in enumerate(G) :\n",
    "  for y, v in enumerate(l) :\n",
    "    if not v :\n",
    "      vis[x][y] = 0\n",
    "\n",
    "for l in vis :\n",
    "  sys.stdout.write(\" \".join(map(str, l)) + \"\\n\")"
   ]
  }
 ],
 "metadata": {
  "language_info": {
   "name": "python"
  },
  "orig_nbformat": 4
 },
 "nbformat": 4,
 "nbformat_minor": 2
}
