{
 "cells": [
  {
   "cell_type": "code",
   "execution_count": null,
   "metadata": {},
   "outputs": [],
   "source": [
    "import collections\n",
    "N, K = map(int, input().split())\n",
    "\n",
    "NONE = -1\n",
    "START = 100002\n",
    "\n",
    "def recon(vis) :\n",
    "  X = vis[K]\n",
    "  answer = [K]\n",
    "  while X != START :\n",
    "    answer.append(X)\n",
    "    X = vis[X]\n",
    "  \n",
    "  print(len(answer)-1)\n",
    "  print(\" \".join(map(str, answer[::-1])))\n",
    "\n",
    "def bfs(s) :\n",
    "  vis = [NONE] * 100001\n",
    "  Q = collections.deque([s])\n",
    "  vis[s] = START\n",
    "\n",
    "  while Q :\n",
    "    x = Q.popleft()\n",
    "    if x == K : return recon(vis)\n",
    "    \n",
    "    for nx in (x-1, x+1, 2*x) :\n",
    "      if not(0 <= nx <= 100000 and vis[nx] == NONE): continue\n",
    "      Q.append(nx)\n",
    "      vis[nx] = x #마지막에 접근한 index를 기록......\n",
    "\n",
    "bfs(N)"
   ]
  },
  {
   "attachments": {},
   "cell_type": "markdown",
   "metadata": {},
   "source": [
    "- 이전에 풀었던 문제에 역추적 로직을 추가했다.\n",
    "- vis에 이전에 방문했던 노드의 index를 저장하고, 이를 역추적하여 출력한다."
   ]
  }
 ],
 "metadata": {
  "language_info": {
   "name": "python"
  },
  "orig_nbformat": 4
 },
 "nbformat": 4,
 "nbformat_minor": 2
}
