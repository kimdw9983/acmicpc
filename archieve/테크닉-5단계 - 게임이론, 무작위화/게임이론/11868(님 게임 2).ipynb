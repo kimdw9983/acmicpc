{
 "cells": [
  {
   "cell_type": "code",
   "execution_count": null,
   "metadata": {},
   "outputs": [],
   "source": [
    "import io, os\n",
    "input=io.BytesIO(os.read(0,os.fstat(0).st_size)).readline\n",
    "\n",
    "def sol() :\n",
    "  input()\n",
    "  g = 0\n",
    "  for p in map(int, input().split()):\n",
    "    g ^= p\n",
    "  \n",
    "  print(\"koosaga\" if g else \"cubelover\")\n",
    "\n",
    "sol()"
   ]
  },
  {
   "cell_type": "markdown",
   "metadata": {},
   "source": [
    "1\n",
    "1\n",
    ";;\n",
    "1\n",
    "2\n",
    ";;\n",
    "2\n",
    "1 1\n",
    ";;\n",
    "2\n",
    "1 2\n",
    ";;\n",
    "2\n",
    "2 2\n",
    ";;\n",
    "4\n",
    "1 2 3 4\n",
    ";;\n",
    "6\n",
    "9 8 9 8 9 9\n",
    ";;\n",
    "3\n",
    "2 4 6"
   ]
  },
  {
   "cell_type": "markdown",
   "metadata": {},
   "source": []
  }
 ],
 "metadata": {
  "language_info": {
   "name": "python"
  }
 },
 "nbformat": 4,
 "nbformat_minor": 2
}
