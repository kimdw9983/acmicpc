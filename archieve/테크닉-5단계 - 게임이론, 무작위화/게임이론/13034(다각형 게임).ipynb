{
 "cells": [
  {
   "cell_type": "markdown",
   "metadata": {},
   "source": [
    "### 풀이\n",
    "- 스프라그-그런디 정리를 이용해서 푸는 게임이론 문제이다.\n",
    "- $0 \\leq N \\leq 1000$ 이다. $N^2$ 이상을 생각해볼 수 있다.\n",
    "- 게임판의 상황을 그런디 수로 표현할 수 있어야 한다. 어떤 방식으로 xor 연산을 했는지 살펴보자.\n",
    "- 우선 Base Case들을 살펴볼 수 있다.\n",
    "  - 점이 0개 인 경우, 선분을 그릴 수 없다. 0\n",
    "    - $g(0) = 0$\n",
    "  - 점이 1개 인 경우, 선분을 그을 수 없으므로 0\n",
    "    - $g(1) = 0$\n",
    "  - 점이 2개 인 경우, 선분을 그을 수 있으므로 1\n",
    "    - $g(2) = 1$\n",
    "- 다각형에 선분을 그리는 것은 그 기준으로 다각형이 양분된다. 즉, 게임판의 상황을 두 개로 나누게 된다. \n",
    "  - 게임판의 분기는 총 $O(N^2)$ 개 나올 수 있으므로 이 경우에 대해 xor연산을 취하면 그런디 수를 구할 수 있다.\n",
    "  - 점이 3개인 경우 총 (0/1)의 분기가 존재한다.\n",
    "    - $g(3) = \\text{mex}(\\{g(0) \\oplus g(1)\\}) =  \\text{mex}(\\{0\\}) = 1$\n",
    "  - 점이 4개인 경우 총 (0/2, 1/1)의 분기가 존재한다.\n",
    "    - $g(4) = \\text{mex}(\\{g(0) \\oplus g(2), g(1) \\oplus g(1)\\}) = \\text{mex}(\\{1, 0\\})= 2$\n",
    "  - 점이 5개인 경우 (0/3, 1/2)이 존재한다.\n",
    "    - $g(5) = \\text{mex}(\\{g(0) \\oplus g(3), g(1) \\oplus g(2)\\}) = \\text{mex}(\\{1, 2\\}) = 0$\n",
    "- 위와 같은 식으로 $O(N^2)$의 시간복잡도로 그런디 수를 구할 수 있다."
   ]
  },
  {
   "cell_type": "code",
   "execution_count": null,
   "metadata": {},
   "outputs": [],
   "source": [
    "import io, os\n",
    "input=io.BytesIO(os.read(0,os.fstat(0).st_size)).readline\n",
    "\n",
    "def sol() :\n",
    "  N = int(input())\n",
    "  g = [0, 0, 1]\n",
    "  for i in range(3, N+1) :\n",
    "    mex = 0\n",
    "    S = set()\n",
    "    for j in range(i-1) :\n",
    "      x = g[j] ^ g[i-2-j]\n",
    "      S.add(x)\n",
    "      while mex in S :\n",
    "        mex += 1\n",
    "    g.append(mex)\n",
    "  \n",
    "  print(2 - bool(g[N]))\n",
    "sol()"
   ]
  }
 ],
 "metadata": {
  "language_info": {
   "name": "python"
  }
 },
 "nbformat": 4,
 "nbformat_minor": 2
}
