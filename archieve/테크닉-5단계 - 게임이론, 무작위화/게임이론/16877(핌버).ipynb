{
 "cells": [
  {
   "cell_type": "markdown",
   "metadata": {},
   "source": [
    "### 풀이\n",
    "- 3e6까지의 피보나치 수는 33개밖에 안된다. \n",
    "  - 3e6 * 33 개 만큼의 수를 전처리하여 그런디 수의 후보들을 구해둘 수 있다.\n",
    "- 스프라그 그런디는 모든 경우의 수의 각 숫자들을 구하는 경우가 많다."
   ]
  },
  {
   "cell_type": "code",
   "execution_count": null,
   "metadata": {},
   "outputs": [],
   "source": [
    "import io, os\n",
    "input=io.BytesIO(os.read(0,os.fstat(0).st_size)).readline\n",
    "\n",
    "MAX = int(3e6)\n",
    "fib = [1, 1]\n",
    "while fib[-1] <= MAX :\n",
    "  fib.append(fib[-1] + fib[-2])\n",
    "\n",
    "bs = [0] * 32\n",
    "g = [0] * int(MAX + 1)\n",
    "def sol() :\n",
    "  for n in range(1, MAX) :\n",
    "    bit = 0\n",
    "    for f in fib :\n",
    "      x = n - f\n",
    "      if x < 0 : break\n",
    "      bit |= 1 << g[x]\n",
    "    for j in range(32) :\n",
    "      if ~bit >> j & 1 :\n",
    "        g[n] = j\n",
    "        break\n",
    "\n",
    "  input()\n",
    "  p = 0\n",
    "  for v in map(int, input().split()) :\n",
    "    p ^= g[v]\n",
    "  print('koosaga' if p else 'cubelover')\n",
    "\n",
    "sol()"
   ]
  }
 ],
 "metadata": {
  "language_info": {
   "name": "python"
  }
 },
 "nbformat": 4,
 "nbformat_minor": 2
}
