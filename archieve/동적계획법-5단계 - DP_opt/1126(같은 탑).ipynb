{
 "cells": [
  {
   "cell_type": "markdown",
   "metadata": {},
   "source": [
    "### 아이디어\n",
    "- 투포인터로 접근했으나, Parcel 이랑 다르게 중복되는 숫자가 존재해서 합칠수가 없었다.\n",
    "- set()으로 합쳐보는걸 생각했지만, 각 탑을 이루는 집합에서 한번씩 사용하는 경우를 구분할 수 없었다.\n",
    "- 비트마스킹은 $N$ 이 너무 커서 안됨."
   ]
  },
  {
   "cell_type": "markdown",
   "metadata": {},
   "source": [
    "### 풀이\n",
    "- $DP[i][j]$: $L[:i]$ 까지 두 탑의 높이차이가 $j$ 일 때 최대 높이\n",
    "- $i$를 전이할 때 다음의 세 경우를 고려한다\n",
    "  - 블럭을 사용하지 않는 경우\n",
    "  - 높이 차이를 키우는 경우\n",
    "  - 높이 차이를 줄이는 경우"
   ]
  },
  {
   "cell_type": "code",
   "execution_count": null,
   "metadata": {},
   "outputs": [],
   "source": [
    "import io, os\n",
    "input=io.BytesIO(os.read(0,os.fstat(0).st_size)).readline\n",
    "\n",
    "NONE = -1\n",
    "MAX = 250001\n",
    "def sol() :\n",
    "  N = int(input())\n",
    "  L = list(map(int, input().split()))\n",
    "  DP = [[NONE] * MAX for _ in range(2)]\n",
    "  DP[0][0] = 0\n",
    "\n",
    "  CUR = 0\n",
    "  for v in L :\n",
    "    NXT = CUR^1\n",
    "    for j in range(MAX) :\n",
    "      cur = DP[CUR][j]\n",
    "      if cur == NONE : continue\n",
    "      a = j+v #높이차이를 늘리는 경우\n",
    "      b = abs(j-v) #높이차이를 줄이는 경우\n",
    "      DP[NXT][j] = max(DP[NXT][j], cur)\n",
    "      if a < MAX : DP[NXT][a] = max(DP[NXT][a], cur + v)\n",
    "      if b < MAX : DP[NXT][b] = max(DP[NXT][b], cur + b * (j < v)) #높이 차이가 작아질 때에만 b를 더해준다.\n",
    "    CUR = NXT\n",
    "\n",
    "  print(DP[CUR][0])\n",
    "\n",
    "sol()"
   ]
  }
 ],
 "metadata": {
  "language_info": {
   "name": "python"
  }
 },
 "nbformat": 4,
 "nbformat_minor": 2
}
