{
 "cells": [
  {
   "attachments": {},
   "cell_type": "markdown",
   "metadata": {},
   "source": [
    "- 분류를 보고 행렬제곱을 사용해야 한다는 짐작밖에 해내지 못했다.\n",
    "- 인접 행렬을 제곱한다는 것은 무엇을 의미할까?\n",
    "\n",
    "### 인접 행렬의 제곱\n",
    "- 결론만 말하면, 행렬을 N번 제곱한 결과의 행렬은 `간선을 N개 거쳐서 가는 경우의 수`를 담고 있게 된다.\n",
    "\n",
    "### 14289 본대산책3\n",
    "- 간선을 N번 거쳐서 0번 노드로 돌아오는 경우의 수를 구하는 문제.\n",
    "- 그래프 연결정보를 인접행렬로 만든 후 N번 제곱 한다."
   ]
  },
  {
   "cell_type": "code",
   "execution_count": null,
   "metadata": {},
   "outputs": [],
   "source": [
    "N, M = map(int, input().split())\n",
    "G = [[0] * N for _ in range(N)]\n",
    "for _ in range(M) :\n",
    "  a, b = map(int, input().split())\n",
    "  G[a-1][b-1] = 1\n",
    "  G[b-1][a-1] = 1\n",
    "\n",
    "B = int(input())\n",
    "\n",
    "def calc(a, a_) :\n",
    "  res = 0\n",
    "  for i, v in enumerate(a) :\n",
    "    res += v * a_[i]\n",
    "  return res % 1000000007\n",
    "\n",
    "def power(A) :\n",
    "  A_ = list(zip(*A))\n",
    "  AA = [[0] * N for i in range(N)]\n",
    "  for i, l in enumerate(AA) : \n",
    "    for j, v in enumerate(l) :\n",
    "      l[j] = calc(A[i], A_[j])\n",
    "  return AA\n",
    "\n",
    "dp = [G]\n",
    "answer = [[0]*i+[1]+[0]*(N-i-1) for i in range(N)]\n",
    "for b in range(B.bit_length()) :\n",
    "  A = dp[-1]\n",
    "  dp.append(power(A))\n",
    "  if B&(1<<b) : #해당 비트가 1이면\n",
    "    tmp = [[0] * N for _ in range(N)]\n",
    "    for i, l in enumerate(tmp) :\n",
    "      for j, v in enumerate(l) :\n",
    "        l[j] = calc(answer[i], list(zip(*A))[j])\n",
    "    answer = tmp\n",
    "\n",
    "print(answer[0][0])"
   ]
  },
  {
   "attachments": {},
   "cell_type": "markdown",
   "metadata": {},
   "source": [
    "### 정점 분할\n",
    "- 네트워크 플로우에서 자주 사용하는 기법이라고 한다. 미리 알아놔서 나쁠건 없겠지."
   ]
  }
 ],
 "metadata": {
  "language_info": {
   "name": "python"
  },
  "orig_nbformat": 4
 },
 "nbformat": 4,
 "nbformat_minor": 2
}
