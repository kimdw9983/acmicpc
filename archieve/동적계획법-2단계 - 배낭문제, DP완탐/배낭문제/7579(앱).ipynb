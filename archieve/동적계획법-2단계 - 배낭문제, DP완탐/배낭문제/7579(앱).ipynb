{
 "cells": [
  {
   "cell_type": "code",
   "execution_count": null,
   "metadata": {},
   "outputs": [],
   "source": [
    "import sys\n",
    "input = sys.stdin.readline\n",
    "N, K = map(int, input().split())\n",
    "W = [*map(int, input().split())]\n",
    "V = [*map(int, input().split())]\n",
    "Vsum = sum(V)\n",
    "dp = [[0] * (Vsum+1) for _ in range(N)]\n",
    "\n",
    "for i in range(N):\n",
    "  for j in range(1, Vsum+1):\n",
    "    w = W[i]\n",
    "    v = V[i]\n",
    "    if j < v:\n",
    "      X = dp[i-1][j]\n",
    "      dp[i][j] = X\n",
    "    else:\n",
    "      X = max(w + dp[i-1][j-v], dp[i-1][j])\n",
    "      dp[i][j] = X\n",
    "    if X >= K :\n",
    "      answer = j\n",
    "      break\n",
    "      \n",
    "print(answer)"
   ]
  },
  {
   "cell_type": "markdown",
   "metadata": {},
   "source": [
    "### 재채점\n",
    "- 0이 많이 들어오는 입력에 대해 틀왜맞이랜다. 다시 풀어보자."
   ]
  },
  {
   "cell_type": "code",
   "execution_count": null,
   "metadata": {},
   "outputs": [],
   "source": [
    "import io, os\n",
    "input=io.BytesIO(os.read(0,os.fstat(0).st_size)).readline\n",
    "\n",
    "def sol() :\n",
    "  N, K = map(int, input().split())\n",
    "  _W = [*map(int, input().split())]\n",
    "  _C = [*map(int, input().split())]\n",
    "  W = []\n",
    "  C = []  \n",
    "  for w, c in zip(_W, _C) :\n",
    "    if c : \n",
    "      W.append(w)\n",
    "      C.append(c)\n",
    "    else :\n",
    "      K -= w\n",
    "      N -= 1\n",
    "  if K <= 0 : return print(0)\n",
    "  \n",
    "  CSum = sum(C)\n",
    "  DP = [[0] * (CSum+1) for _ in range(2)]\n",
    "  ans = float('inf')\n",
    "  for i in range(N) :\n",
    "    for j in range(1, CSum + 1) :\n",
    "      if j < C[i] :\n",
    "        DP[i&1][j] = DP[(i-1)&1][j]\n",
    "      else :\n",
    "        DP[i&1][j] = max(W[i] + DP[(i-1)&1][j-C[i]], DP[(i-1)&1][j])\n",
    "      if DP[i&1][j] >= K :\n",
    "        ans = min(ans, j)\n",
    "  \n",
    "  print(ans)\n",
    "\n",
    "sol()"
   ]
  },
  {
   "cell_type": "markdown",
   "metadata": {},
   "source": [
    "- 왜 맞는지에 대해서 틀린구석이 2개나 있었다. 도대체 얼마나 잘못푼 문제였던걸까??\n",
    "  - K이하가 되자마자 early return으로 정답을 출력했다. 애초에 `C`를 다 보지도 않았는데 왜 그게 정답이였는지\n",
    "  - 0이 여러개 있으면 무조건 선택하면 되니까 W와 C에서 c가 0인 것을 무조건 포함한 후 K를 그만큼 줄이는 전처리 과정을 하면 된다.\n",
    "- 채신-테크닉 토글링을 넣어서 memory 사용량을 줄였다. 1492ms -> 140ms"
   ]
  }
 ],
 "metadata": {
  "language_info": {
   "name": "python"
  }
 },
 "nbformat": 4,
 "nbformat_minor": 2
}
