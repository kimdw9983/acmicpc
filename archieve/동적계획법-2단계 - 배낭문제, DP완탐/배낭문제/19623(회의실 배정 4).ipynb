{
 "cells": [
  {
   "cell_type": "markdown",
   "metadata": {},
   "source": [
    "### 아이디어(with 태그)\n",
    "- 회의를 어디까지 골랐고, 마지막 회의가 끝난 시간이 얼마인지 알면 될것 같다.\n",
    "- 마지막으로 끝난 회의시간이 I일 때 최대 인수?\n",
    "  - 끝나는 시간과 가장 가까운 시작시간을 i2라고 할 때, 다시 끝나는 시간이 i2일 때 최댓값으로 나눠지긴 한다.\n",
    "  - 끝나는 시간 기준으로 정렬.\n",
    "- DP[i] : 회의시간을 i까지 배정했을 때 최대 인수"
   ]
  },
  {
   "cell_type": "code",
   "execution_count": null,
   "metadata": {},
   "outputs": [],
   "source": [
    "import io, os, bisect\n",
    "input=io.BytesIO(os.read(0,os.fstat(0).st_size)).readline\n",
    "\n",
    "def sol() :\n",
    "  N = int(input())\n",
    "  L = [tuple(map(int, input().split())) for _ in range(N)]\n",
    "  L.sort(key=lambda x: (x[1], x[0]))\n",
    "  \n",
    "  DP = [0] * N\n",
    "  DP[0] = L[0][2]\n",
    "  for i, (s, e, x) in enumerate(L[1:], 1) :\n",
    "    t = bisect.bisect_left(L, s, key=lambda l: l[1]) #현재 회의가 끝나는 시간중에서 가장 늦게 종료되는 회의의 인덱스\n",
    "    if t :\n",
    "      DP[i] = max(DP[i-1], DP[t-1] + x)\n",
    "    else :\n",
    "      DP[i] = max(DP[i-1], x)\n",
    "  print(DP[N-1])\n",
    "sol()"
   ]
  },
  {
   "cell_type": "markdown",
   "metadata": {},
   "source": [
    "- 아이디어는 맞았는데 구현을 빠르게 못했어서 그냥 답지봤다.."
   ]
  }
 ],
 "metadata": {
  "language_info": {
   "name": "python"
  },
  "orig_nbformat": 4
 },
 "nbformat": 4,
 "nbformat_minor": 2
}
