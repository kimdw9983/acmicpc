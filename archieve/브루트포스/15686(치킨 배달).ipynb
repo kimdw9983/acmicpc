{
 "cells": [
  {
   "attachments": {},
   "cell_type": "markdown",
   "metadata": {},
   "source": [
    "### 접근\n",
    "- 치킨집에서 BFS하면서 집을 만나면 visited. 모든 1을 다 만나면 종료\n",
    "- 인줄 알았는데 치킨집을 최대 N개까지 줄여야 한다.\n",
    "- 집에서 BFS를 하고, 치킨집을 만났을 때 그 숫자가 M이 되면 종료?\n",
    "  - 동시에 여러 치킨집을 만나면 어떻게 해야하는가\n",
    "    - ~~일단 이 부분이 미심쩍긴 하지만 구현을 해보고 틀리면 다시 생각해보자~~\n",
    "    - 각 집은 모두 치킨집에 닿을 수 있지만, 같은 치킨집이 아니여서 모두 포함하기엔 M이 부족한 경우가 있을 수 있다.\n",
    "    - 서로 다른 치킨집을 발견할 때마다 M을 하나씩 줄여나가는 아이디어를 생각해볼 수 있다.\n",
    "      - 이 부분은 치킨집을 발견할때마다 해당 치킨집 vis에 cnt를 1씩 늘려가면서 체크를 하면 될 것 같다. \n",
    "  - 위 방법으론 뭔가 구현을 못해먹겠다.\n",
    "- `DP[집좌표][n] = 해당 집이 자신의 위치에서 n번째로 가까운 치킨집을 발견하는데 필요했던 최소 거리` << 여러개 있으면 어떻게 처리함?\n",
    "- 뭔가 유니온 파인드로 할 수 있을 것 같은데 이쯤에서 풀이를 보는것이 낫겠다.\n",
    "\n",
    "### 풀이\n",
    "- N크기도 작고 M이 충분히 작은것에서 브루트포스를 생각해야 했다.\n",
    "  - 그리고 치킨집의 수도 최대 M개까지이다. 충분히 가능하다.\n",
    "- 거리를 구하는건 BFS를 해보지 않아도 된다. 애초에 지문에 거리를 구하는 방법이 나와있다."
   ]
  },
  {
   "cell_type": "code",
   "execution_count": null,
   "metadata": {},
   "outputs": [],
   "source": [
    "import itertools\n",
    "\n",
    "N, M = map(int, input().split())\n",
    "G = [[*map(int, input().split())] for _ in range(N)]\n",
    "\n",
    "H = [] #집 좌표\n",
    "C = [] #치킨집 좌표\n",
    "for i, l in enumerate(G) :\n",
    "  for j, v in enumerate(l) :\n",
    "    if v == 1 :\n",
    "      H.append((i, j))\n",
    "    elif v == 2:\n",
    "      C.append((i, j))\n",
    "\n",
    "answer = 999999999\n",
    "for W in itertools.combinations(C, M): \n",
    "  sum = 0\n",
    "  for h in H:\n",
    "    X = 999999999\n",
    "    for w in W :\n",
    "      X = min(X, abs(h[0]-w[0]) + abs(h[1]-w[1]))#현재 케이스에서 각 집이 모두 치킨집에 도달할 수 있는 최소 거리\n",
    "    sum += X\n",
    "  answer = min(answer, sum)\n",
    "\n",
    "print(answer)"
   ]
  },
  {
   "attachments": {},
   "cell_type": "markdown",
   "metadata": {},
   "source": [
    "- 태그 가리고 하는 연습을 할땐, 값의 조건을 항상 읽어보고 어느 정도가 가장 적당할지, naive한 접근부터 등등을 꼭 생각해보자."
   ]
  }
 ],
 "metadata": {
  "language_info": {
   "name": "python"
  },
  "orig_nbformat": 4
 },
 "nbformat": 4,
 "nbformat_minor": 2
}
