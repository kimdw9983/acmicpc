{
 "cells": [
  {
   "cell_type": "code",
   "execution_count": null,
   "metadata": {},
   "outputs": [],
   "source": [
    "import sys\n",
    "input=sys.stdin.readline\n",
    "def cmp(A, B) :\n",
    "  res = 0\n",
    "  for i, c in enumerate(A) :\n",
    "    if c != B[i] : res += 1\n",
    "  return res\n",
    "\n",
    "MBTI = ('INTP', 'INTJ', 'INFP', 'INFJ', 'ISTP', 'ISTJ', 'ISFP', 'ISFJ', 'ENTP', 'ENTJ', 'ENFP', 'ENFJ', 'ESTP', 'ESTJ', 'ESFP', 'ESFJ')\n",
    "def sol() :\n",
    "  N = int(input())\n",
    "  L = [*input().split()]\n",
    "  D = {}\n",
    "  for mbti in MBTI :\n",
    "    D[mbti] = 0\n",
    "\n",
    "  for v in L :\n",
    "    if D[v] == 2 : \n",
    "      return sys.stdout.write('0\\n')\n",
    "    D[v] = D[v] + 1\n",
    "  \n",
    "  answer = 999999 \n",
    "  for mbti in MBTI :\n",
    "    if D[mbti] == 0 : continue\n",
    "    D[mbti] -= 1\n",
    "    res = 0\n",
    "    for mbti2 in MBTI :\n",
    "      if D[mbti2] == 0 : continue\n",
    "      D[mbti2] -= 1\n",
    "      tmp = cmp(mbti, mbti2)\n",
    "      res += tmp\n",
    "\n",
    "      for mbti3 in MBTI :\n",
    "        if D[mbti3] == 0 : continue\n",
    "        D[mbti3] -= 1\n",
    "        res += cmp(mbti, mbti3)\n",
    "        res += cmp(mbti2, mbti3)\n",
    "        answer = min(answer, res)\n",
    "        res = tmp\n",
    "        D[mbti3] += 1\n",
    "      D[mbti2] += 1\n",
    "    D[mbti] += 1\n",
    "    \n",
    "    \n",
    "  print(answer)\n",
    "\n",
    "for _ in range(int(input())) :\n",
    "  sol()"
   ]
  },
  {
   "cell_type": "markdown",
   "metadata": {},
   "source": [
    "- 왜 이렇게 풀엇을까...\n",
    "- itertools.combinations로 푸는게 더 좋았을텐데"
   ]
  },
  {
   "cell_type": "code",
   "execution_count": null,
   "metadata": {},
   "outputs": [],
   "source": [
    "import io, os, sys, itertools\n",
    "input=io.BytesIO(os.read(0,os.fstat(0).st_size)).readline\n",
    "\n",
    "def sol():\n",
    "  N = int(input())\n",
    "  L = input()\n",
    "  if N > 32 : return sys.stdout.write(\"0\\n\")\n",
    "  L = L.split()\n",
    "\n",
    "  d = 8\n",
    "  for w in itertools.combinations(L, 3):\n",
    "    d = min(d, sum((c1!=c2) + (c2!=c3) + (c1!=c3) for c1, c2, c3 in zip(*w)))\n",
    "    if d == 2: break\n",
    "  sys.stdout.write(str(d) + \"\\n\")\n",
    "\n",
    "for _ in range(int(input())):\n",
    "  sol()"
   ]
  }
 ],
 "metadata": {
  "language_info": {
   "name": "python"
  },
  "orig_nbformat": 4
 },
 "nbformat": 4,
 "nbformat_minor": 2
}
