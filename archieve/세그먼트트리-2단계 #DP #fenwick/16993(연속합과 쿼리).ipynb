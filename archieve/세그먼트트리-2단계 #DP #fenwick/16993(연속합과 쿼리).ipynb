{
 "cells": [
  {
   "cell_type": "markdown",
   "metadata": {},
   "source": [
    "### 아이디어\n",
    "- 1912(연속합)를 10만번 푸는 문제이다. \n",
    "- 위 문제를 활용하고자 한다면, $acc$ 이 $default$ 로 초기화 한다는 것은, 그 이전까지의 누적합을 더하는 것이 의미없다는 것을 의미한다.\n",
    "  - 길이 $N$ 인 수열의 최대 연속 부분 누적합을 구할 수는 있겠는데, 시작점이 0이 아닌 경우에 대해선 아이디어가 필요하다.\n",
    "  - 초기화해야 하는 지점을 $\\Omicron(\\log N)$ 만에 찾을 수 있지 않을까?"
   ]
  },
  {
   "cell_type": "markdown",
   "metadata": {},
   "source": [
    "### 풀이\n",
    "- 빨리 보길 잘한거 같다. 자력으로 절대 떠올릴 수 없을 법한 세그먼트의 사용법이 사용됐다.\n",
    "- https://wbjeon2k.github.io/ps/almight/2021/09/19/BOJ16993.html"
   ]
  },
  {
   "cell_type": "code",
   "execution_count": null,
   "metadata": {
    "vscode": {
     "languageId": "plaintext"
    }
   },
   "outputs": [],
   "source": [
    "import io, os\n",
    "input=io.BytesIO(os.read(0,os.fstat(0).st_size)).readline\n",
    "\n",
    "class ST:\n",
    "  def __init__(self, L, f, default=0):\n",
    "    self._def = default\n",
    "    self._f = f\n",
    "    self._len = len(L)\n",
    "    self._size = _size = 1 << (self._len - 1).bit_length()\n",
    "\n",
    "    self._L = L\n",
    "    self.lL = [default] * (2 * _size) #s 부터 시작하는 구간의 최대값\n",
    "    self.rL = [default] * (2 * _size) #s 까지의 구간의 최대값\n",
    "    self.L = [default] * (2 * _size) #가운데를 지나는 구간의 최대값\n",
    "    self.init(0, _size, 1)\n",
    "\n",
    "\n",
    "  def init(self, left, right, node) :\n",
    "    if right - left == 1 :\n",
    "      if left < self._len :\n",
    "        self.lL[node] = self.rL[node] = self.L[node] = self._L[left]\n",
    "      return self.L[node]\n",
    "\n",
    "    mid = (left + right) // 2\n",
    "    linit = self.init(left, mid, node * 2)\n",
    "    rinit = self.init(mid, right, node * 2 + 1)\n",
    "\n",
    "    self.lL[node] = self._f(linit, self._L[mid] - self._L[left - 1] + rinit)\n",
    "    self.L[node] = self._f(self.lL[node], self.rL[node])\n",
    "    return self.L[node]  \n",
    "\n",
    "  def query(self, s, e):\n",
    "    s += self._size\n",
    "    e += self._size\n",
    "\n",
    "    l1 = l2 = l3 = r1 = r2 = r3 = self._def\n",
    "    while s < e: \n",
    "      if s & 1:\n",
    "        l1 = self._f(l1, self.L[s])\n",
    "        l2 = self._f(self.lL[s], l2)\n",
    "        l3 = self._f(self.L[s], l3)\n",
    "        s += 1\n",
    "      if e & 1:\n",
    "        e -= 1\n",
    "        r1 = self._f(self.L[e], r1)\n",
    "        r2 = self._f(r2, self.rL[e])\n",
    "        r3 = self._f(r3, self.L[e])\n",
    "      s //= 2\n",
    "      e //= 2\n",
    "\n",
    "    return self._f(l1, l2, l3, r1, r2, r3)\n",
    "\n",
    "def sol():\n",
    "  N = int(input())\n",
    "  L = list(map(int, input().split()))\n",
    "  acc = [0] * (N + 1)\n",
    "  for i in range(N):\n",
    "    acc[i + 1] = acc[i] + L[i]\n",
    "  print(acc)\n",
    "\n",
    "  st = ST(acc + [0] * 10, f=max, default=-1e12)\n",
    "  ans = []\n",
    "  M = int(input())\n",
    "  for i in range(M):\n",
    "    s, e = map(int, input().split())\n",
    "    ans.append(st.query(s, e + 1))\n",
    "  \n",
    "  print(*ans)\n",
    "\n",
    "sol()"
   ]
  }
 ],
 "metadata": {
  "language_info": {
   "name": "python"
  },
  "orig_nbformat": 4
 },
 "nbformat": 4,
 "nbformat_minor": 2
}
