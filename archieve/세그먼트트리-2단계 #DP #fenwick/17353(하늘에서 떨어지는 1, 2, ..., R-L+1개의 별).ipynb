{
 "cells": [
  {
   "cell_type": "markdown",
   "metadata": {},
   "source": [
    "### 문제\n",
    "- 길이 N의 리스트안에 각 원소마다 초기값이 있고, 1번 쿼리가 주워질때마다 등차수열의 값을 증가시키는 문제이다.\n",
    "\n",
    "### 아이디어\n",
    "- 각 원소에 더해야 하는 등차수열의 공식은 바뀌지 않는다. \n",
    "  - 즉, 시작 위치와 그 길이를 안다면 원소의 값을 구하는 것은 나중에 한꺼번에 처리할 수 있을 것이다. 일종의 오프라인 쿼리 아이디어로.\n",
    "  - DP[i] = `i번째 인덱스에서 처리된 1번 쿼리의 번호`"
   ]
  },
  {
   "cell_type": "code",
   "execution_count": null,
   "metadata": {},
   "outputs": [],
   "source": [
    "import io, os, sys\n",
    "input=io.BytesIO(os.read(0,os.fstat(0).st_size)).readline\n",
    "\n",
    "def sol():\n",
    "  N = int(input())\n",
    "  L = [*map(int, input().split())]\n",
    "  \n",
    "  M = int(input())\n",
    "  Queries = []\n",
    "  ans = []\n",
    "  DP = [0] * N #DP[i] i번째 인덱스에서 가장 최근에 처리된 쿼리의 인덱스\n",
    "  for i in range(M) :\n",
    "    q, *l = map(int, input().split())\n",
    "    if q == 1 :\n",
    "      Queries.append((i, l[0]-1, l[1]-1))\n",
    "    elif q == 2 :\n",
    "      x = l[0] - 1\n",
    "      Queries.append(None)\n",
    "      for i in range(DP[x], len(Queries)) :\n",
    "        if not Queries[i]: continue\n",
    "        _, s, e = Queries[i]\n",
    "        if not (s <= x <= e) : continue #해당 쿼리가 범위안에 없으면 무시\n",
    "        L[x] += x - s + 1\n",
    "\n",
    "      DP[x] = i #현재 쿼리가 갱신되었다.\n",
    "      ans.append(L[x])\n",
    "  sys.stdout.write(\"\\n\".join(map(str, ans)))\n",
    "\n",
    "sol()"
   ]
  },
  {
   "cell_type": "markdown",
   "metadata": {},
   "source": [
    "- TLE. 역시 쿼리 처리가 $\\Omicron(N)$ 이면 뚫을 수가 없다.\n",
    "  - 5만번의 1번쿼리 이후 5만번의 2번쿼리를 하도록 하면 최악케이스가 만들어진다. 이때 25억번 연산하게 되므로 TLE."
   ]
  },
  {
   "cell_type": "markdown",
   "metadata": {},
   "source": [
    "### 아이디어2\n",
    "- lazy로 접근해볼 수 있을수도 있을 것 같다."
   ]
  }
 ],
 "metadata": {
  "language_info": {
   "name": "python"
  },
  "orig_nbformat": 4
 },
 "nbformat": 4,
 "nbformat_minor": 2
}
