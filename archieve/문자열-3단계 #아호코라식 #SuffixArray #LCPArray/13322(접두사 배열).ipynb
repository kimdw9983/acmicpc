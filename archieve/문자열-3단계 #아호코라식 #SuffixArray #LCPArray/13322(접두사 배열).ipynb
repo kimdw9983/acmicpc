{
 "cells": [
  {
   "cell_type": "code",
   "execution_count": null,
   "metadata": {},
   "outputs": [],
   "source": [
    "S = input()\n",
    "ans = []\n",
    "for i in range(len(S)) :\n",
    "  ans.append(i)\n",
    "\n",
    "print(*ans, sep=\"\\n\")"
   ]
  },
  {
   "cell_type": "markdown",
   "metadata": {},
   "source": [
    "### 자력솔(with 난이도 힌트)\n",
    "- 어떤 문자열 $S$ 뒤에 아무 문자 혹은 문자열 $C$ 를 추가한 문자열을 $S + C = S'$ 라고 할 때, $S'$ 는 반드시 $S$ 보다 사전순으로 뒤에 있게 된다.\n",
    "- 따라서 어떤 문자열을 가지고 오던, 그 문자열의 접두사 배열은 1씩 단조증가하는 배열이 만들어진다."
   ]
  }
 ],
 "metadata": {
  "language_info": {
   "name": "python"
  },
  "orig_nbformat": 4
 },
 "nbformat": 4,
 "nbformat_minor": 2
}
