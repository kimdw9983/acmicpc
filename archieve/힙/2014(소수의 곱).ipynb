{
 "cells": [
  {
   "cell_type": "code",
   "execution_count": null,
   "metadata": {},
   "outputs": [],
   "source": [
    "import sys, heapq, itertools\n",
    "input=sys.stdin.readline\n",
    "\n",
    "def sol():\n",
    "  K, N = map(int, input().split())\n",
    "  L = [*map(int, input().split())]\n",
    "  heap = []\n",
    "\n",
    "  #Naive\n",
    "  for i in range(10) : \n",
    "    for w in itertools.combinations_with_replacement(L, i) :\n",
    "      res = 1\n",
    "      for c in w :\n",
    "        res *= c\n",
    "      if res > 2**31 : continue\n",
    "\n",
    "      if len(heap) <= N :\n",
    "        heapq.heappush(heap, -res)\n",
    "      else :\n",
    "        heapq.heappush(heap, -res)\n",
    "        heapq.heappop(heap)\n",
    "\n",
    "  print(-heapq.heappop(heap))\n",
    "\n",
    "sol()"
   ]
  },
  {
   "cell_type": "markdown",
   "metadata": {},
   "source": [
    "### naive \n",
    "- 시간초과가 바로 났다."
   ]
  },
  {
   "cell_type": "code",
   "execution_count": null,
   "metadata": {},
   "outputs": [],
   "source": [
    "import sys, heapq\n",
    "input=sys.stdin.readline\n",
    "\n",
    "def sol():\n",
    "  K, N = map(int, input().split())\n",
    "  L = [*map(int, input().split())]\n",
    "  heap = []\n",
    "\n",
    "  for v in L :\n",
    "    heapq.heappush(heap, v)\n",
    "  \n",
    "  cnt = last = 0\n",
    "  while True :\n",
    "    v = heapq.heappop(heap)\n",
    "    if v == last : continue # 중복된 값이 나왔을 경우 제외한다. (항상 top이 최솟값이기 때문에 중복된 값은 top에만 존재할 수 있다.)\n",
    "    cnt += 1\n",
    "    last = v\n",
    "    if cnt == N : break\n",
    "    for i in L :\n",
    "      heapq.heappush(heap, v*i)\n",
    "  \n",
    "  print(v)\n",
    "\n",
    "sol()"
   ]
  },
  {
   "cell_type": "markdown",
   "metadata": {},
   "source": [
    "### 풀이\n",
    "- 최소힙 큐와 소수 곱의 성질을 이용해서 풀 수 있다.\n",
    "- 우선 최소힙이므로 top에는 가장 작은수가 있다. 이는 힙에 중복된 수가 있어도 항상 pop되는 값은 그보다 같거나 크다는 것이 보장된다."
   ]
  }
 ],
 "metadata": {
  "language_info": {
   "name": "python"
  },
  "orig_nbformat": 4
 },
 "nbformat": 4,
 "nbformat_minor": 2
}
