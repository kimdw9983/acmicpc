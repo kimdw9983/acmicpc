{
 "cells": [
  {
   "cell_type": "code",
   "execution_count": null,
   "metadata": {},
   "outputs": [],
   "source": [
    "import io, os, itertools, math\n",
    "input = io.BytesIO(os.read(0, os.fstat(0).st_size)).readline \n",
    "\n",
    "N, E = map(int, input().split())\n",
    "U = [] * N\n",
    "V = [] * N\n",
    "W = [] * N\n",
    "L = [] * N #i번 행성의 좌표\n",
    "class UF:\n",
    "  def __init__(self, n):\n",
    "    self.p = list(range(n))\n",
    "\n",
    "  def find(self, a):\n",
    "    a_ = a\n",
    "    while a != self.p[a]:\n",
    "      a = self.p[a]\n",
    "    while a_ != a:\n",
    "      self.p[a_], a_ = a, self.p[a_]\n",
    "    return a\n",
    "\n",
    "  def merge(self, a, b):\n",
    "    self.p[self.find(b)] = self.find(a)\n",
    "\n",
    "for _ in range(N):\n",
    "  u, v = map(int, input().split())\n",
    "  L.append((u, v))\n",
    "\n",
    "for w in itertools.combinations(range(N), 2):\n",
    "  U.append(w[0]) #시작점\n",
    "  V.append(w[1]) #도착점\n",
    "  W.append(math.dist(L[w[0]], L[w[1]]))\n",
    "\n",
    "uni = UF(N)\n",
    "for _ in range(E):\n",
    "  a, b = map(int, input().split())\n",
    "  uni.merge(a-1, b-1)\n",
    "\n",
    "def kruskal(uni, U, V, W): \n",
    "  c = 0\n",
    "  L = sorted(range(len(W)), key=lambda x: W[x])\n",
    "  for i in range(len(W)):\n",
    "    u, v = U[L[i]], V[L[i]]\n",
    "    fu, fv = uni.find(u), uni.find(v)\n",
    "    if fu != fv:\n",
    "      c += W[L[i]]\n",
    "      uni.p[fv] = fu\n",
    "\n",
    "  return c\n",
    "\n",
    "answer = kruskal(uni, U, V, W)\n",
    "print(format(answer, \".2f\"))"
   ]
  },
  {
   "attachments": {},
   "cell_type": "markdown",
   "metadata": {},
   "source": [
    "### 풀이\n",
    "- 이미 연결된 통로를 union merge한다 <<< 여기까진 스스로 생각함\n",
    "- N은 1천개 이하이다. 즉 N개의 행성끼리의 거리를 모두 구해서 저장할 수 있었다. \n",
    "  - `itertools.combinations(range(N), 2)`\n",
    "  - 크루스칼에서 W를 구하는 과정을 생각하지 못했는데, 이렇게 했어야 했다.\n",
    "- 좌표가 몇번째 행성인지 고민하는 과정이 조금 길었다.\n",
    "  - 빠르게 index를 저장하고, 그 거리를 W에 저장해야 한다는 부분을 더 빨리 생각했어야 했다."
   ]
  },
  {
   "attachments": {},
   "cell_type": "markdown",
   "metadata": {},
   "source": [
    "### 다른 풀이\n",
    "- https://www.acmicpc.net/source/39853114\n",
    "  - union을 통한 구성 대신 selected라는 list를 만들고 그 selected가 모두 선택됐을 때 모든 간선이 연결된 것과 같다.\n",
    "  - 정렬을 안한것 같다?\n",
    "  - 이미 연결된 통로 사이의 거리를 0으로 뒀다"
   ]
  }
 ],
 "metadata": {
  "language_info": {
   "name": "python"
  },
  "orig_nbformat": 4
 },
 "nbformat": 4,
 "nbformat_minor": 2
}
