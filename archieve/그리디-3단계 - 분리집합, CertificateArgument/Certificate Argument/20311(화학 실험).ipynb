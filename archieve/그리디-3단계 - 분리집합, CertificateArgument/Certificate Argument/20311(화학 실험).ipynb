{
 "cells": [
  {
   "cell_type": "code",
   "execution_count": null,
   "metadata": {},
   "outputs": [],
   "source": [
    "import io, os, heapq, sys\n",
    "input=io.BytesIO(os.read(0,os.fstat(0).st_size)).readline\n",
    "\n",
    "def sol() :\n",
    "  N, K = map(int, input().split())\n",
    "  L0 = [*map(int, input().split())]\n",
    "  L = [(-v, i) for i, v in enumerate(L0, 1)]\n",
    "  heapq.heapify(L)\n",
    "  if max(L0) - (sum(L0) - max(L0)) > 1 :\n",
    "    sys.stdout.write(\"-1\")\n",
    "    return\n",
    "\n",
    "  ans = []\n",
    "  tmp = None\n",
    "  while L :\n",
    "    v, i = heapq.heappop(L)\n",
    "    ans += [i]\n",
    "    if v+1 == 0 : \n",
    "      if tmp :\n",
    "        heapq.heappush(L, tmp)\n",
    "      tmp = None\n",
    "      continue\n",
    "\n",
    "    if tmp : \n",
    "      heapq.heappush(L, tmp)\n",
    "    tmp = (v+1, i) #동일한 숫자를 반복할 순 없으므로 임시 공간에 저장\n",
    "\n",
    "  sys.stdout.write(\" \".join(map(str, ans)))\n",
    "\n",
    "sol()"
   ]
  },
  {
   "cell_type": "markdown",
   "metadata": {},
   "source": [
    "### 자력솔\n",
    "- 관찰 1. ~~가장 큰 수와 2번째로 큰 수의차이가 2보다 크면 올바르게 배치할 수 없다.~~\n",
    "  - 가장 큰 수와 나머지의 합의 차이가 1보다 크면 올바르게 배치할 수 없다.\n",
    "- 배치가 가능하다면, 힙을 이용하여 각 숫자를 모두 배치할 때 까지 heap에서 남은 횟수가 가장 많이 남은 것 부터 배치하되, 같은 숫자를 반복해서 출력하지 않게 하기 위해 `tmp`에 직전에 사용한 숫자를 저장한다.\n",
    "  - 혹은 heappop을 2번하는 방식으로 할 수도 있는듯 하다."
   ]
  }
 ],
 "metadata": {
  "language_info": {
   "name": "python"
  },
  "orig_nbformat": 4
 },
 "nbformat": 4,
 "nbformat_minor": 2
}
