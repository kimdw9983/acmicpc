{
 "cells": [
  {
   "cell_type": "code",
   "execution_count": null,
   "metadata": {},
   "outputs": [],
   "source": [
    "import io, os, heapq\n",
    "input=io.BytesIO(os.read(0,os.fstat(0).st_size)).readline\n",
    "\n",
    "MOD = 1_000_000_007\n",
    "def sol() :\n",
    "  N = int(input())\n",
    "  L = [v for v in map(int, input().split())]\n",
    "  heapq.heapify(L)\n",
    "\n",
    "  ans = 1\n",
    "  while L :\n",
    "    v = heapq.heappop(L)\n",
    "    if L :\n",
    "      v2 = heapq.heappop(L)\n",
    "      res = v * v2\n",
    "      ans *= res\n",
    "      heapq.heappush(L, res)\n",
    "    else :\n",
    "      break\n",
    "  print(ans % MOD)\n",
    "\n",
    "for _ in range(int(input())):\n",
    "  sol()"
   ]
  },
  {
   "cell_type": "markdown",
   "metadata": {},
   "source": [
    "### 자력솔\n",
    "- MOD연산을 좀더 신중히 해야하는 문제이지만 Python이여서 날먹에 성공했다."
   ]
  },
  {
   "cell_type": "code",
   "execution_count": null,
   "metadata": {},
   "outputs": [],
   "source": [
    "import io, os, heapq\n",
    "input=io.BytesIO(os.read(0,os.fstat(0).st_size)).readline\n",
    "\n",
    "MOD = 1_000_000_007\n",
    "def sol() :\n",
    "  N = int(input())\n",
    "  L = [v for v in map(int, input().split())]\n",
    "  heapq.heapify(L)\n",
    "\n",
    "  ans = 1\n",
    "  while L :\n",
    "    v = heapq.heappop(L)\n",
    "    if L :\n",
    "      v2 = heapq.heappop(L)\n",
    "      res = (v * v2) % MOD\n",
    "      ans *= res\n",
    "      ans %= MOD\n",
    "      heapq.heappush(L, v * v2)\n",
    "    else :\n",
    "      break\n",
    "  print(ans % MOD)\n",
    "\n",
    "for _ in range(int(input())):\n",
    "  sol()"
   ]
  },
  {
   "cell_type": "markdown",
   "metadata": {},
   "source": [
    "### 올바른 풀이\n",
    "- 원래라면 이렇게 풀어야 한다.\n",
    "- heapq에서 대소비교할 때 MOD로 나뉘어진 것을 넣지 않도록 주의해야 했던 문제다."
   ]
  }
 ],
 "metadata": {
  "language_info": {
   "name": "python"
  },
  "orig_nbformat": 4
 },
 "nbformat": 4,
 "nbformat_minor": 2
}
