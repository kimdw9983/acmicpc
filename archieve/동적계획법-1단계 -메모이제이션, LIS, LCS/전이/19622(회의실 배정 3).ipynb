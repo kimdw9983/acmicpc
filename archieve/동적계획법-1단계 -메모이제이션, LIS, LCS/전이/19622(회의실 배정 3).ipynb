{
 "cells": [
  {
   "cell_type": "code",
   "execution_count": null,
   "metadata": {},
   "outputs": [],
   "source": [
    "import io, os\n",
    "input=io.BytesIO(os.read(0,os.fstat(0).st_size)).readline\n",
    "\n",
    "def sol() :\n",
    "  N = int(input())\n",
    "  L = [tuple(map(int, input().split())) for _ in range(N)]\n",
    "  L.sort(key=lambda x: (x[1]))\n",
    "\n",
    "  DP = [0] * N\n",
    "  DP[0] = L[0][2]\n",
    "  if N == 1 : return print(DP[0])\n",
    "  DP[1] = max(DP[0], L[1][2])\n",
    "  if N == 2 : return print(DP[1])\n",
    "  for i, v in enumerate(L[2:], 2) :\n",
    "    DP[i] = max(DP[i-1], DP[i-2] + v[2])\n",
    "  \n",
    "  print(DP[-1])\n",
    "\n",
    "sol()"
   ]
  },
  {
   "cell_type": "markdown",
   "metadata": {},
   "source": [
    "### 풀이\n",
    "- 동시에 최대 2개의 회의를 진행할 수 있으므로 회의를 시간순으로 보면서 현재 회의를 포함하고 넘어가는 경우와 그렇지 않는 경우의 두가지경우를 매번 확인하면 정답이 나온다."
   ]
  }
 ],
 "metadata": {
  "language_info": {
   "name": "python"
  },
  "orig_nbformat": 4
 },
 "nbformat": 4,
 "nbformat_minor": 2
}
