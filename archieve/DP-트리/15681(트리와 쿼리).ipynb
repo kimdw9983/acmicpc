{
 "cells": [
  {
   "cell_type": "code",
   "execution_count": null,
   "metadata": {},
   "outputs": [],
   "source": [
    "import io, os, sys\n",
    "sys.setrecursionlimit(10**6)\n",
    "input=io.BytesIO(os.read(0,os.fstat(0).st_size)).readline\n",
    "N, R, Q = map(int, input().split())\n",
    "G = [[] for _ in range(N)]\n",
    "P = [-1] * N\n",
    "for _ in range(N-1):\n",
    "  a, b = map(int, input().split())\n",
    "  G[a-1].append(b-1)\n",
    "  G[b-1].append(a-1)\n",
    "\n",
    "child = [[] for _ in range(N)] #i 번째 노드의 자식들\n",
    "def make_tree(cur, p) :\n",
    "  for n in G[cur] : #연결된 노드중에서\n",
    "    if n == p : continue #부모 노드가 아니면\n",
    "    child[cur].append(n)\n",
    "    P[n] = cur #내가 부모가 되며, 이 연결된 노드의 부모가 내가 된다.\n",
    "    make_tree(n, cur)\n",
    "make_tree(R-1, -1)\n",
    "\n",
    "size = [1] * N\n",
    "def q(cur) :\n",
    "  for n in child[cur] :\n",
    "    q(n)\n",
    "    size[cur] += size[n]\n",
    "q(R-1)\n",
    "\n",
    "for _ in range(Q) :\n",
    "  x = int(input())\n",
    "  sys.stdout.write(f'{str(size[x-1])}\\n')"
   ]
  }
 ],
 "metadata": {
  "language_info": {
   "name": "python"
  },
  "orig_nbformat": 4
 },
 "nbformat": 4,
 "nbformat_minor": 2
}
