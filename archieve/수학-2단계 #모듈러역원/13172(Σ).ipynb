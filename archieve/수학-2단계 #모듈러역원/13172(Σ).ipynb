{
 "cells": [
  {
   "cell_type": "code",
   "execution_count": null,
   "metadata": {},
   "outputs": [],
   "source": [
    "import io, os\n",
    "input=io.BytesIO(os.read(0,os.fstat(0).st_size)).readline\n",
    "\n",
    "from math import gcd\n",
    "def lcm(l) :\n",
    "  ret = 1\n",
    "  for i in l :\n",
    "    ret = ret * i // gcd(ret, i)\n",
    "  return ret\n",
    "\n",
    "MOD = 1_000_000_007\n",
    "def sol() :\n",
    "  M = int(input())\n",
    "  L = []\n",
    "  for _ in range(M) :\n",
    "    L.append(tuple(map(int, input().split())))\n",
    "  \n",
    "  den = lcm([x[0] for x in L])\n",
    "  num = 0\n",
    "  for p, q in L :\n",
    "    num += den // p * q\n",
    "\n",
    "  x = gcd(num, den)\n",
    "  num //= x\n",
    "  den //= x\n",
    "\n",
    "  #den의 모듈러 역원\n",
    "  ans = num * pow(den, -1, MOD) % MOD\n",
    "  assert (ans * den) % MOD == num % MOD\n",
    "  print(ans)\n",
    "  \n",
    "sol()"
   ]
  },
  {
   "cell_type": "markdown",
   "metadata": {},
   "source": [
    "### 자력솔\n",
    "- 모듈러 역원에 대한 문제였다.\n",
    "  - 각 분모를 통분한 후, 분자를 더해준뒤 다시 통분하고나서 모듈러 역원을 구했다.\n",
    "- 문제 입력이 분모, 분자 순으로 주워졌었다.."
   ]
  },
  {
   "cell_type": "code",
   "execution_count": null,
   "metadata": {},
   "outputs": [],
   "source": [
    "import io, os\n",
    "input=io.BytesIO(os.read(0,os.fstat(0).st_size)).readline\n",
    "\n",
    "MOD = 1_000_000_007\n",
    "def sol() :\n",
    "  M = int(input())\n",
    "  L = [tuple(map(int, input().split())) for _ in range(M)]\n",
    "  \n",
    "  ans = 0\n",
    "  for a, b in L :\n",
    "    ans += b * pow(a, -1, MOD) % MOD\n",
    "  \n",
    "  print(ans % MOD)\n",
    "  \n",
    "sol()"
   ]
  },
  {
   "cell_type": "markdown",
   "metadata": {},
   "source": [
    "### 더 짧은 풀이\n",
    "- 문제 자체가 $\\displaystyle (\\sum_{i=1}^{n} \\frac{a_i}{b_i} \\mod X) \\mod X$ 를 구하는 것이므로, \\\n",
    "$\\displaystyle (\\sum_{i=1}^{n}{b \\times a^{-1} \\mod X}) \\mod X$ 으로 구할 수 있다."
   ]
  }
 ],
 "metadata": {
  "language_info": {
   "name": "python"
  },
  "orig_nbformat": 4
 },
 "nbformat": 4,
 "nbformat_minor": 2
}
