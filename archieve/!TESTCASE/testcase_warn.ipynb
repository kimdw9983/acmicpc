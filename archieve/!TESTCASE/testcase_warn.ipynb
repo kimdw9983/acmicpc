{
 "cells": [
  {
   "cell_type": "markdown",
   "metadata": {},
   "source": [
    "# Input not consumed(IRC)\n",
    "- testcase에 대한 input stream이 미처 소모되기 이전에 testcase가 종료되는 경우"
   ]
  }
 ],
 "metadata": {
  "language_info": {
   "name": "python"
  }
 },
 "nbformat": 4,
 "nbformat_minor": 2
}
