{
 "cells": [
  {
   "cell_type": "code",
   "execution_count": null,
   "metadata": {},
   "outputs": [],
   "source": [
    "import io, os, sys\n",
    "input=io.BytesIO(os.read(0,os.fstat(0).st_size)).readline\n",
    "\n",
    "def tarjan(G):\n",
    "  SCC, S, P = [], [], []\n",
    "  D = [0] * len(G)\n",
    " \n",
    "  s = [*range(len(G))]\n",
    "  while s:\n",
    "    x = s.pop()\n",
    "    if x < 0:\n",
    "      d = D[~x] - 1\n",
    "      if P[-1] > d:\n",
    "        SCC.append( sorted(S[d:]) )\n",
    "        del S[d:], P[-1]\n",
    "        for x in SCC[-1]:\n",
    "          D[x] = -1\n",
    "    elif D[x] > 0:\n",
    "      while P[-1] > D[x]:\n",
    "        P.pop()\n",
    "    elif D[x] == 0:\n",
    "      S.append(x)\n",
    "      P.append(len(S))\n",
    "      D[x] = len(S)\n",
    "      s.append(~x)\n",
    "      s += G[x]\n",
    "  return SCC[::-1]\n",
    "\n",
    "V, E = map(int, input().split())\n",
    "G = [[] for _ in range(V+1)]\n",
    "for _ in range(E):\n",
    "  u, v = map(int, input().split())\n",
    "  G[u].append(v)\n",
    "\n",
    "result = sorted(tarjan(G), key = lambda x: x[0])\n",
    "sys.stdout.write(str(len(result) - 1) + '\\n')\n",
    "for scc in result[1:]:\n",
    "  sys.stdout.write(' '.join(map(str, scc)) + ' -1\\n')"
   ]
  }
 ],
 "metadata": {
  "language_info": {
   "name": "python"
  },
  "orig_nbformat": 4
 },
 "nbformat": 4,
 "nbformat_minor": 2
}
