{
 "cells": [
  {
   "cell_type": "code",
   "execution_count": null,
   "metadata": {},
   "outputs": [],
   "source": [
    "import io, os, sys\n",
    "input=io.BytesIO(os.read(0,os.fstat(0).st_size)).readline\n",
    "\n",
    "N = int(input())\n",
    "L = [*(map(int, input().split()))]\n",
    "MAX = 19\n",
    "DP = [[0] * (N+1) for _ in range(MAX)] # 2^19 > 500000, DP[n][k] = f_2^n(k)\n",
    "DP[0] = [0] + L[:]\n",
    "\n",
    "for i, l in enumerate(DP[1:], 1) :\n",
    "  for j, v in enumerate(l) :\n",
    "    l[j] = DP[i-1][DP[i-1][j]]\n",
    "\n",
    "for _ in range(int(input())) :\n",
    "  n, x = map(int, input().split())\n",
    "\n",
    "  cur = x\n",
    "  for i in range(MAX) :\n",
    "    if n & (1 << i) :\n",
    "      cur = DP[i][cur]\n",
    "  \n",
    "  sys.stdout.write(str(cur) + '\\n')"
   ]
  },
  {
   "attachments": {},
   "cell_type": "markdown",
   "metadata": {},
   "source": [
    "- 조건 조금만더 잘읽자. 20만인줄알고 MAX를 18로 했다가 틀렸다.\n",
    "### 풀이\n",
    "- DP[n][k] = $f_{2^n}(k)$ = `k`에서 `2^n`번째 합성함수를 적용한 결과"
   ]
  }
 ],
 "metadata": {
  "language_info": {
   "name": "python"
  },
  "orig_nbformat": 4
 },
 "nbformat": 4,
 "nbformat_minor": 2
}
