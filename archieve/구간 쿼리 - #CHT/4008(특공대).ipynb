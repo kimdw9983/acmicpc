{
 "cells": [
  {
   "attachments": {
    "image.png": {
     "image/png": "[encoded data removed]"
    }
   },
   "cell_type": "markdown",
   "metadata": {},
   "source": [
    "### 접근\n",
    "- 원래 전투력이 $1 \\leq x_i \\leq 100$ 이고 $-5 \\leq a_i \\leq -1$ 이므로 그래프의 개형은 위로 볼록한 2차함수의 모양이 될 것이다.\n",
    "  - 예제 입력의 그래프를 보면 이러한 모양이다.\n",
    "    - ![image.png](attachment:image.png)\n",
    "  - 그래프의 꼭짓점에 최대한 가깝도록 $x$ 의 부분합이 될 수 있는 조합들을 찾아서 대입한다? 나이브한 전략은 이러한 것 같다.\n",
    "- convex hull trick을 사용하는 문제인 걸로 보이지만 문제에서 일차함수를 찾을 수 없다. 어떻게 해야할까?"
   ]
  },
  {
   "cell_type": "markdown",
   "metadata": {},
   "source": [
    "### 풀이\n",
    "- 최댓값을 찾는 문제는 $b[j]$ 가 단조증가할 때 사용할 수 있다. \n",
    "  - 이때, 병사들의 전투력을 더하는 것은 단조 증가를 의미하므로 $x_i \\in X$ 의 누적합을 구하는 것은 단조 증가를 의미한다.\n",
    "    - 여기서 왜 연속합이 자꾸 나올지 생각해봤는데(연속하지 않은 구간에서의 부분합들로만 이루어진 정답이 있을 수 있으니까), \\\n",
    "    문제에서 연속하는 병사들을 나누어야 한다는 내용이 적혀있었다. 상당히 중요한 내용인데 캐치하지 못했었다.\n",
    "    - 누적합을 구하면서 모든 병사를 연속적인 구간으로 나누는 문제인 것을 알았다. 점점 Convex hull trick을 사용할 수 있는 형태에 가까워진다.\n",
    "  - 1부터 i까지의 누적합 $acc[i] = acc[i] + b[i]$ 이라고 정의한다.\n",
    "  - 위 사실을 이용하여 DP 점화식을 세울 수 있다. \n",
    "    - $i \\leq i < n$ 일 때, DP[n] = `max((i 까지의 최적해) + (i+1 ~ n 까지 변형된 전투력을 적용한 값))`  가 된다.\\\n",
    "    $DP[n] = \\max(DP[i] + \\text {(i+1 ~ n 까지 변형된 전투력을 적용한 값)})$\n",
    "    - 구간 $(i, n]$ 의 누적합은 $acc[n] - acc[i]$ 이므로\\\n",
    "    $DP[n] = \\max(DP[i] + a(acc[n] - acc[i])^2 + b(acc[n] - acc[i]) + c)$\\\n",
    "    전개하면 \\\n",
    "    $DP[n] = \\max(DP[i] + a \\cdot acc[n]^2 - 2a \\cdot acc[n] \\cdot acc[i] + a \\cdot acc[i]^2 + b \\cdot acc[n] - b \\cdot acc[i] + c)$\\\n",
    "    정의에 의해 $\\max$ 는 $i$ 의 변화에 증가하므로($n$ 에 대한 함수이므로), $i$ 와 상관없는 항들을 $\\max$ 바깥으로 빼낼 수 있다.\\\n",
    "    $DP[n] = \\max(-2a \\cdot acc[i] \\cdot acc[n] + a \\cdot acc[i]^2 - b \\cdot acc[i] + DP[i]) + a \\cdot acc[n]^2 + b \\cdot acc[n] + c$\\\n",
    "    이제 $acc[n] = x$ 로 치환하면 \\\n",
    "    $DP[n] = \\max(-2a \\cdot acc[i] \\cdot x + a \\cdot acc[i]^2 - b \\cdot acc[i] + DP[i]) + a \\cdot x^2 + b \\cdot x + c$\\\n",
    "    그리고 $\\max$ 내부에서 $x$ \n",
    "  - 기울기가 $-2a \\cdot acc[i]$ 이고 $y$ 절편이 $a \\cdot acc[i]^2 - b \\cdot acc[i] + DP[i]$ 인 직선들을 추가하면 된다."
   ]
  },
  {
   "cell_type": "code",
   "execution_count": null,
   "metadata": {},
   "outputs": [],
   "source": [
    "import io, os\n",
    "input=io.BytesIO(os.read(0,os.fstat(0).st_size)).readline\n",
    "\n",
    "from bisect import bisect_left\n",
    "class CHT :\n",
    "  def __init__(self, A=[], B=[], EPS=1e-7) :\n",
    "    self.A = A\n",
    "    self.B = B\n",
    "    self.I = []\n",
    "    self.X = []\n",
    "    self.i = 0\n",
    "    self.EPS = EPS\n",
    "  \n",
    "  def intersect(self, i, j) :\n",
    "    return (self.B[j] - self.B[i]) / (self.A[i] - self.A[j])\n",
    "\n",
    "  def add(self, a, b, i=None) : #Amortized O(1)\n",
    "    self.A.append(a)\n",
    "    self.B.append(b)\n",
    "    I, X = self.I, self.X\n",
    "    if i is None :\n",
    "      i = self.i\n",
    "      self.i += 1\n",
    "\n",
    "    while True:\n",
    "      if not I:\n",
    "        I.append(i)\n",
    "        break\n",
    "      elif abs(self.A[I[-1]] - self.A[i]) <= self.EPS :\n",
    "        if self.B[I[-1]] > self.B[i] :\n",
    "          break\n",
    "        I.pop()\n",
    "        if X: X.pop()\n",
    "      else:\n",
    "        x = self.intersect(i, I[-1])\n",
    "        if X and x <= X[-1] :\n",
    "          I.pop()\n",
    "          X.pop()\n",
    "        else:\n",
    "          I.append(i)\n",
    "          X.append(x)\n",
    "          break\n",
    "\n",
    "  def query(self, x) : #O(logN)\n",
    "    i = self.I[bisect_left(self.X, x + self.EPS)]\n",
    "    return self.A[i] * x + self.B[i]\n",
    "\n",
    "def sol() :\n",
    "  N = int(input())\n",
    "  a, b, c = map(int, input().split())\n",
    "  L = list(map(int, input().split()))\n",
    "  acc = [0] * (N + 1)\n",
    "  for i, v in enumerate(L) :\n",
    "    acc[i + 1] = acc[i] + v\n",
    "\n",
    "  DP = [0] * (N + 1)\n",
    "  cht = CHT()\n",
    "  cht.add(0, 0)\n",
    "  for n in range(1, N+1) :\n",
    "    DP[n] = a * acc[n] ** 2 + b * acc[n] + c + cht.query(acc[n])\n",
    "    cht.add(-2 * a * acc[n], DP[n] - b * acc[n] + a * acc[n] ** 2)\n",
    "  print(DP[N])\n",
    "\n",
    "sol()"
   ]
  },
  {
   "cell_type": "markdown",
   "metadata": {},
   "source": [
    "- 이때 $n$ 이 증가함에 따라 함수값도 증가하므로 이분탐색을 하지 않는 $\\Omicron(N)$ 으로도 풀 수 있다."
   ]
  }
 ],
 "metadata": {
  "language_info": {
   "name": "python"
  }
 },
 "nbformat": 4,
 "nbformat_minor": 2
}
