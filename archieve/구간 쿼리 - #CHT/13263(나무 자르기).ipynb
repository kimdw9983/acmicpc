{
 "cells": [
  {
   "cell_type": "markdown",
   "metadata": {},
   "source": [
    "### 문제\n",
    "- 왠진 모르겠지만 문제 이해가 참 어려웠다. 첫번째 나무 $a_1 = 1$ 이므로 첫번째로 자를 수 있는 나무는 $a_1$ 밖에 없다. \\\n",
    "해석하자면 전기톱 충전 비용이 $b_1$ 로 최대인 상태로 시작해서 모든 나무를 자르는데에 필요한 최소 충전 비용을 구하는 문제이다.\n",
    "- 따라서 예제 1의 정답은 5 * 5 = 25 이다."
   ]
  },
  {
   "cell_type": "markdown",
   "metadata": {},
   "source": [
    "### 풀이\n",
    "- 점화식을 다음과 같이 정의할 수 있다. \n",
    "  - $dp[i]$ = `i번째 나무까지 자르는데 필요한 최소 충전 비용`\n",
    "- 나무가 완전히 잘리지 않다면 전기톱을 충전할 수 없으므로 초기값은 $dp[1] = b_1 * 1$ 이다.\n",
    "- 한개의 나무를 모두 자르기 전까지 충전 비용이 변하지는 않으므로, 나무를 자를 때 자를 나무를 이것저것 바꾸는 것을 고려할 필요는 없다.\n",
    "  - $i$ 번째 나무를 자르기로 결정했다면 바로 나무의 길이인 $a_i$ 만큼 자르면 된다는 의미이다. \\\n",
    "  즉, `이전까지 자른 최소 충전비용 = 선택했던 나무의 번호 중 최댓값의 충전비용 = x` 라고 할 때, $x \\cdot a_i$ 만큼 더해주면 된다.\n",
    "- 매번 i번째 나무를 골라서 기울기를 줄일 기회가 있으므로, 그 중 최솟값을 더해야 한다\n",
    "- 따라서 최종적으로 $\\displaystyle dp[i] = \\min_{j<i}(dp[j] + a[i] \\cdot b[j])$ 이 된다.\n",
    "- 점화식이 Convex hull trick 을 이용한 최적화 점화식과 같으므로 이를 적용할 수 있다.\n",
    "  - 또한 $a$ 는 단조증가 하므로 $\\Omicron(N)$ 에 해결할 수 있다."
   ]
  },
  {
   "cell_type": "code",
   "execution_count": null,
   "metadata": {},
   "outputs": [],
   "source": [
    "import io, os\n",
    "input=io.BytesIO(os.read(0, os.fstat(0).st_size)).readline\n",
    "\n",
    "def cross(a: tuple[int, int], b: tuple[int, int]):\n",
    "  return (b[1] - a[1]) / (a[0] - b[0])\n",
    "\n",
    "def sol() :\n",
    "  N = int(input())\n",
    "  A = list(map(int, input().split()))\n",
    "  B = list(map(int, input().split()))\n",
    "\n",
    "  S = []\n",
    "  DP = [0] * N\n",
    "  for i in range(1, N):\n",
    "    nl = [B[i-1], DP[i-1], 0] \n",
    "    while S : #새로운 직선을 넣기 전에 top과의 교점을 구해서 top의 시작점보다 교점이 왼쪽에 있으면 pop\n",
    "      nl[2] = cross(S[-1], nl)\n",
    "      if S[-1][2] < nl[2] : break\n",
    "      S.pop()\n",
    "    S.append(nl) #새로운 직선을 넣는다\n",
    "\n",
    "    x = A[i] #현재 x좌표를 포함하는 선분을 이분탐색으로 찾는다.\n",
    "    pos = len(S) - 1\n",
    "    if x < S[-1][2] :\n",
    "      lo, hi = 0, len(S) - 1\n",
    "      while lo + 1 < hi :\n",
    "        mid = (lo + hi) // 2\n",
    "        if x < S[mid][2] : hi = mid\n",
    "        else : lo = mid\n",
    "      pos = lo\n",
    "      \n",
    "    DP[i] = S[pos][0] * x + S[pos][1]\n",
    "  print(DP[-1])\n",
    " \n",
    "sol()"
   ]
  },
  {
   "cell_type": "markdown",
   "metadata": {},
   "source": [
    "- $\\Omicron(N \\log N)$ 풀이"
   ]
  },
  {
   "cell_type": "code",
   "execution_count": null,
   "metadata": {},
   "outputs": [],
   "source": [
    "import io, os\n",
    "input=io.BytesIO(os.read(0, os.fstat(0).st_size)).readline\n",
    "\n",
    "def cross(a: tuple[int, int], b: tuple[int, int]):\n",
    "  return (b[1] - a[1]) / (a[0] - b[0])\n",
    "\n",
    "def sol() :\n",
    "  N = int(input())\n",
    "  A = list(map(int, input().split()))\n",
    "  B = list(map(int, input().split()))\n",
    "\n",
    "  S = []\n",
    "  pos = 0 #현재 S에서 가장 위에 있는 직선의 인덱스\n",
    "  DP = [0] * N\n",
    "  for i in range(1, N):\n",
    "    nl = [B[i-1], DP[i-1], 0] \n",
    "    while S : #새로운 직선을 넣기 전에 top과의 교점을 구해서 top의 시작점보다 교점이 왼쪽에 있으면 pop\n",
    "      nl[2] = cross(S[-1], nl)\n",
    "      if S[-1][2] < nl[2] : break\n",
    "      # 이때 pos가 top이였으면 pos를 같이 감소한다.\n",
    "      S.pop()\n",
    "      if pos == len(S) : pos -= 1\n",
    "    S.append(nl) #새로운 직선을 넣는다\n",
    "\n",
    "    x = A[i]\n",
    "    while pos < len(S) - 1 and S[pos+1][2] < x : #pos가 x좌표를 포함할 때 까지 pos를 증가시킨다.\n",
    "      pos += 1\n",
    "\n",
    "    DP[i] = S[pos][0] * x + S[pos][1]\n",
    "  print(DP[-1])\n",
    " \n",
    "sol()"
   ]
  },
  {
   "cell_type": "markdown",
   "metadata": {},
   "source": [
    "- $\\Omicron(N)$ 풀이"
   ]
  }
 ],
 "metadata": {
  "language_info": {
   "name": "python"
  }
 },
 "nbformat": 4,
 "nbformat_minor": 2
}
