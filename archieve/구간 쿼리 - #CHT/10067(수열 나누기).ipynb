{
 "cells": [
  {
   "cell_type": "markdown",
   "metadata": {},
   "source": [
    "### 아이디어\n",
    "- 문제만 보면 특공대 + 나누는 횟수가 k번으로 제한된 문제처럼 보인다.\n",
    "- 점수의 합산은 구간합을 잘 이용하면 될 것 같다. 단, 구간의 길이가 1인 것을 취급하지 않도록 처리를 추가로 해주어야 할 것이다.\n",
    "- 매번 최대의 값이 나오도록 수열을 자르면 그 값은 최적해가 될까? 된다면 어떻게 증명해야 할까?\n",
    "  - 우선 문제의 예제 풀이는 최적의 값이 나오도록 풀진 않았다. 하지만 매번 최대가 되도록 잘라도 똑같이 108이 나온다(3 5 1)\n",
    "    - 이 부분에서 원본 답의 1 3 5와 자리만 바뀐 순열인 것이 관찰되었다. \\\n",
    "    우연일까? 135로 나올 수 있는 모든 순열 6개에 대해 직접 테스트를 해볼 수 있다.\n",
    "    직접 해보면 `135 153 315 351 513 531`의 결과 모두 108로 최대값임을 알 수 있었다.\n",
    "    - 위 테스트를 통해 한가지 가설을 세울 수 있다.\\\n",
    "    > 매번 최댓값이 나오도록 수열을 자르는 순서로 잘랐을 때 최적해이고, 자르는 순서의 순열 또한 최적해를 만든다.\n",
    "    - 최적해인진 모르겠지만, 순열이 같은 값을 낸다는건 증명할 수 있을 것 같다.\n",
    "    "
   ]
  },
  {
   "cell_type": "code",
   "execution_count": null,
   "metadata": {
    "vscode": {
     "languageId": "plaintext"
    }
   },
   "outputs": [],
   "source": [
    "import io, os \n",
    "input=io.BytesIO(os.read(0,os.fstat(0).st_size)).readline\n",
    "\n",
    "def sol() :\n",
    "  N, K = map(int, input().split())\n",
    "  L = list(map(int, input().split()))\n",
    "  acc = [0] * (N+1)\n",
    "  for i, v in enumerate(L) :\n",
    "    acc[i+1] = acc[i] + v\n",
    "  \n",
    "  accs = []\n",
    "  accs.append(acc)\n",
    "  #나눌 수 있는 구간 합을 둘로 나눴을 때, 그 둘의 곱이 최대인 컷을 찾는다. O(N)\n",
    "  #i = 몇 번째 원소 다음을 잘라야 하는지\n",
    "  \n",
    "  for k in range(K) :\n",
    "\n",
    "sol()"
   ]
  }
 ],
 "metadata": {
  "language_info": {
   "name": "python"
  }
 },
 "nbformat": 4,
 "nbformat_minor": 2
}
