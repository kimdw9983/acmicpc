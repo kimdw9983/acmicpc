{
 "cells": [
  {
   "attachments": {},
   "cell_type": "markdown",
   "metadata": {},
   "source": [
    "# Dynamic programming(동적계획법)\n",
    "- 최적 부분 구조(Optimal Substructure)를 지닌 중복된 하위 문제(Overlapping Subproblems)을 분할 정복으로 풀이하는 문제 해결 패러다임.\n",
    "- `점화식`. 답에대한 공식이 점화식으로 표현되면 DP라고 생각해도 되고, DP로 풀어야 하는 문제는 점화식을 세우려고 시도하면 된다."
   ]
  },
  {
   "attachments": {},
   "cell_type": "markdown",
   "metadata": {},
   "source": [
    "# Longest Increasing Subsequence (LIS, 최장 증가 부분 수열)\n",
    "- https://jason9319.tistory.com/113\n",
    "- `DP[x]` = x번째 수를 마지막으로 하는 LIS의 길이\n",
    "- `i` -> `len(DP)`, `j` -> `i`\n",
    "- inner loop에서 현재 원소(DATA[i])가 이전에 있는 원소들(DATA[j])보다 작은지 확인한다\n",
    "- 위 조건에 맞을 때, DP를 갱신시킨다(`DP[i] = max(DP[i], DP[j] + 1`)"
   ]
  },
  {
   "cell_type": "code",
   "execution_count": null,
   "metadata": {},
   "outputs": [],
   "source": [
    "n = int(input())\n",
    "DATA = list(map(int, input().split()))\n",
    "DP = [1] * n\n",
    "\n",
    "for i, num in enumerate(DATA) :\n",
    "  for j in range(i) :\n",
    "    if DATA[j] < num :\n",
    "      DP[i] = max(DP[i], DP[j] + 1)"
   ]
  },
  {
   "attachments": {},
   "cell_type": "markdown",
   "metadata": {},
   "source": [
    "### n log n\n",
    "- LIS는, 위의 DP에서 마지막 원소가 작을수록, 더욱 긴 LIS를 만드는데에 유리하다는 점을 살펴볼 수 있다.\n",
    "- 이번엔 DP를 `LIS를 이루는데에 가장 유리한 원소들만으로 채워진 것`으로 정의한다.\n",
    "- inner loop에서 이전 원소들을 살피는 과정을 이진탐색 `bisect_left`를 이용하여 시간을 단축시킨다.\n",
    "- 그러나, 가장 왼쪽부터 탐색하여 각 인덱스마다 가능한 가장 작은(유리한) 것으로 교체되기만 하기 때문에, DP는 실제로 형성할 수 없는 LIS가 생성될 수 있다."
   ]
  },
  {
   "cell_type": "code",
   "execution_count": null,
   "metadata": {},
   "outputs": [],
   "source": [
    "import bisect\n",
    "n = int(input())\n",
    "DATA = [*map(int, input().split())]\n",
    "\n",
    "DP = [0]\n",
    "for num in DATA :\n",
    "\tprint(DP)\n",
    "\tif DP[-1] < num :\n",
    "\t\tDP.append(num)\n",
    "\telse :\n",
    "\t\tDP[bisect.bisect_left(DP, num)] = num\n",
    "\n",
    "print(len(DP)-1)"
   ]
  }
 ],
 "metadata": {
  "kernelspec": {
   "display_name": "Python 3",
   "language": "python",
   "name": "python3"
  },
  "language_info": {
   "name": "python",
   "version": "3.11.0"
  },
  "orig_nbformat": 4
 },
 "nbformat": 4,
 "nbformat_minor": 2
}
