{
 "cells": [
  {
   "cell_type": "markdown",
   "metadata": {},
   "source": [
    "## 트라이(Trie)\n",
    "- ![Alt text](assets/trie-1.png)\n",
    "- 사전에서 'cancel'이라는 단어를 찾을 때 c의 색인을 찾고 그다음 a의 색인을 찾고 n -> c... 이런식으로 찾는다. 이러한 순서를 컴퓨터에 적용한 방식이 트라이 구조이다.\n",
    "- 가장 긴 문자열을 $L$, 문자열의 개수를 $N$이라고 할 때\n",
    "  - 트라이를 구축하는 시간복잡도는 $O(LN)$이다.\n",
    "  - 트라이에 추가하는 시간복잡도는 $O(L)$이다.\n",
    "  - 트라이에서 문자열을 찾는 시간복잡도는 $O(L)$이다."
   ]
  },
  {
   "cell_type": "markdown",
   "metadata": {},
   "source": [
    "\n",
    "### 트라이의 동작\n",
    "- 트라이로 구성된 트리 구조를 `trie`, 추가하고자 하는 문자열을 `p`라고 하고, 시작 지점은 루트노드이다\n",
    "  - p의 `i`번째 글자인 `p[i]`으로 가는 간선이 현재 노드에 존재하는지 확인한다. \n",
    "    - 존재한다면 `p[i]`로 가는 간선을 따라 다음노드로 이동한다.\n",
    "    - 존재하지 않는다면 현재 노드에서 `p[i]`로 가는 노드와 간선을 만들고 해당 노드로 이동한다.\n",
    "  - `i`가 `len(p)`가 될 때까지 위 과정을 반복한다."
   ]
  },
  {
   "cell_type": "code",
   "execution_count": 1,
   "metadata": {},
   "outputs": [
    {
     "name": "stdout",
     "output_type": "stream",
     "text": [
      "False\n",
      "True\n",
      "False\n",
      "True\n"
     ]
    }
   ],
   "source": [
    "class Trie:\n",
    "  def __init__(self, *words):\n",
    "    self.root = {}\n",
    "    for word in words: #실제 구현에선 별로 필요없을듯\n",
    "      self.add(word)\n",
    "\n",
    "  def add(self, word):\n",
    "    current_dict = self.root\n",
    "    for letter in word:\n",
    "      current_dict = current_dict.setdefault(letter, {})\n",
    "    current_dict[\"_end_\"] = True #추가한 단어임을 표시한다(add를 추가했는데 ad도 있다고 나오는 것을 방지하기 위해). __contains__가 있을 때 부터 사용\n",
    "    #단어에 \"_end_\"가 포함될 수도 있는 경우 주의\n",
    "\n",
    "  def __contains__(self, word):\n",
    "    current_dict = self.root\n",
    "    for letter in word:\n",
    "      if letter not in current_dict: #해당 노드가 존재하지 않음\n",
    "        return False\n",
    "      current_dict = current_dict[letter]\n",
    "    return \"_end_\" in current_dict #가는 경로는 존재하나(어떤 단어의 접두사이나), 추가한 단어는 아님\n",
    "\n",
    "  def __delitem__(self, word):\n",
    "    current_dict = self.root\n",
    "    nodes = [current_dict]\n",
    "    for letter in word:\n",
    "      current_dict = current_dict[letter]\n",
    "      nodes.append(current_dict)\n",
    "    del current_dict[\"_end_\"]\n",
    "\n",
    "words = [\"apple\", \"app\", \"application\", \"apply\"]\n",
    "T = Trie(*words)\n",
    "T.add(\"add\")\n",
    "T.add(\"addition\")\n",
    "del T[\"addition\"]\n",
    "\n",
    "print(\"addition\" in T)\n",
    "print(\"add\" in T)\n",
    "print(\"ad\" in T)\n",
    "\n",
    "T.add(\"ad\")\n",
    "print(\"ad\" in T)"
   ]
  },
  {
   "cell_type": "code",
   "execution_count": 13,
   "metadata": {},
   "outputs": [],
   "source": [
    "class Trie:\n",
    "  def __init__(self):\n",
    "    self.r = {}\n",
    "\n",
    "  def add(self, s):\n",
    "    cur = self.r\n",
    "    for c in s:\n",
    "      cur = cur.setdefault(c, {})\n",
    "    cur[\"_end_\"] = True\n",
    "\n",
    "  def __contains__(self, s):\n",
    "    cur = self.r\n",
    "    for c in s:\n",
    "      if c not in cur:\n",
    "        return False\n",
    "      cur = cur[c]\n",
    "    return \"_end_\" in cur\n",
    "\n",
    "  def __delitem__(self, s):\n",
    "    cur = self.r\n",
    "    S = [cur]\n",
    "    for c in s:\n",
    "      cur = cur[c]\n",
    "      S.append(cur)\n",
    "    del cur[\"_end_\"]"
   ]
  }
 ],
 "metadata": {
  "kernelspec": {
   "display_name": "Python 3",
   "language": "python",
   "name": "python3"
  },
  "language_info": {
   "codemirror_mode": {
    "name": "ipython",
    "version": 3
   },
   "file_extension": ".py",
   "mimetype": "text/x-python",
   "name": "python",
   "nbconvert_exporter": "python",
   "pygments_lexer": "ipython3",
   "version": "3.11.0"
  },
  "orig_nbformat": 4
 },
 "nbformat": 4,
 "nbformat_minor": 2
}
