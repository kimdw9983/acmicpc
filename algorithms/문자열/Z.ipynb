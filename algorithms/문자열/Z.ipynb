{
 "cells": [
  {
   "cell_type": "markdown",
   "metadata": {},
   "source": [
    "### Z algorithm\n",
    "- Z 알고리즘은 Z 배열을 찾는 알고리즘이다.\n",
    "- 시간복잡도 $\\Omicron(N)$\n",
    "- 문자열 알고리즘이 으레 그렇듯 이전까지 구해놓은 정보를 최대한 활용하여 다음 정보를 빠르게 구한다."
   ]
  },
  {
   "cell_type": "markdown",
   "metadata": {},
   "source": [
    "### Z 배열\n",
    "- Z 배열은 문자열 S의 각 위치 i에서 시작하는 `가장 긴 공통 접두사의 길이`를 저장한 배열이다.\n",
    "  - 길이가 N인 문자열 S에 대해, Z[i] = S와 S[i:]의 가장 긴 공통 접두사의 길이를 저장한다.\n",
    "  - `aaaaa` $\\to$  [X, 4, 3, 2, 1] \n",
    "  - `aaabaab` $\\to$  [X, 2, 1, 0, 2, 1, 0] \n",
    "  - `abacaba` $\\to$ [X, 0, 1, 0, 3, 0, 1]\n",
    "  - 보통 Z[0] 의 값은 정의되지 않는다."
   ]
  },
  {
   "cell_type": "markdown",
   "metadata": {},
   "source": [
    "### 알고리즘의 작동과 원리\n",
    "- Z 배열을 만든다. \n",
    "  - 길이가 $n$ 인 문자열 $S$ 에 대해, 배열 $Z$ 의 성분 $Z[i]$ 는 $S[i]$ 부터 시작하면서 $S$ 의 접두사인 가장 긴 공통 접두사의 길이를 반환한다.\n",
    "  - 즉 $S[i:n] = S[0:n-i]$ 라면 $Z[i] = n-i$ 이다.\n",
    "- 기존 매칭 정보를 활용한다.\n",
    "  - Z 배열을 구하면서 $S[i:i+Z[i]]$ 가 $S$ 의 접두사인것을 안다면, 그 다음 성분은 이 정보를 활용하여 불필요한 연산을 줄인다."
   ]
  },
  {
   "cell_type": "markdown",
   "metadata": {},
   "source": [
    "### 구현\n",
    "- 주석 설명은 13713(문자열과 쿼리 참고)"
   ]
  },
  {
   "cell_type": "code",
   "execution_count": null,
   "metadata": {},
   "outputs": [],
   "source": [
    "def genZ(S):\n",
    "  n = len(S)\n",
    "  Z = [0] * n\n",
    "\n",
    "  l = r = 0\n",
    "  for i in range(1, n):\n",
    "    z = Z[i - l]\n",
    "    if i + z >= r:\n",
    "      z = max(r - i, 0)\n",
    "      while i + z < n and S[z] == S[i + z]:\n",
    "        z += 1\n",
    "      l, r = i, i + z\n",
    "    Z[i] = z\n",
    "  Z[0] = n\n",
    "  return Z"
   ]
  },
  {
   "cell_type": "markdown",
   "metadata": {},
   "source": [
    "### 응용 유형: border 구하기\n",
    "- Z 배열을 활용하여 문자열의 모든 border 후보들을 구할 수 있다. 16229(반복 패턴) 참고\n",
    "- KMP의 Failure function으로도 동일한 것을 구할 수 있다."
   ]
  }
 ],
 "metadata": {
  "language_info": {
   "name": "python"
  },
  "orig_nbformat": 4
 },
 "nbformat": 4,
 "nbformat_minor": 2
}
