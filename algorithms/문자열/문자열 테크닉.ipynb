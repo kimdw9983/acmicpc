{
 "cells": [
  {
   "cell_type": "code",
   "execution_count": null,
   "metadata": {},
   "outputs": [],
   "source": [
    "Z:list"
   ]
  },
  {
   "cell_type": "markdown",
   "metadata": {},
   "source": [
    "### 디버깅 요령\n",
    "- (Z, KMP)특별하게 생각해야하는 반례로, 접두사와 접미사가 같은 경우를 다시 생각해야 한다.\n",
    "- (Z) 팰린드롬일경우 처리를 특별하게 해야한다."
   ]
  },
  {
   "cell_type": "markdown",
   "metadata": {},
   "source": [
    "### binary로 다루기\n",
    "- 대충 ASCII 숫자 list로 다루면 된다는 내용. \n",
    "- 필요하면 `b\"abc\"` 등으로 다루면 된다는 내용"
   ]
  },
  {
   "cell_type": "markdown",
   "metadata": {},
   "source": [
    "### border\n",
    "- border은 어떤 문자열의 접두사이면서 동시에 접미사인 부분문자열을 말한다.\n",
    "- 문자열을 다음과 같이 해석할 수 있다.\n",
    "  - 반복되지 않는 접두사와 반복되는 부분문자열을 연결(concatenate)한 것.\n",
    "  - 위를 각각 $s$ 와 $bd$ 라고 하자. 이 때 $bd$ 를 border라고 한다.\n",
    "    - $bd = S[:k], (1 \\leq k \\leq |S|)$\n",
    "  - 또한 $+$ 를 문자열의 연결, $*$ 을 문자열의 반복이라고 했을 때, 문자열 $S$는 다음과 같다.\n",
    "    - $S = s + bd * n, (0 \\leq n)$\n",
    "  - 이런 패턴의 $S$ 에서, $s$ 는 여러개 존재할 수 있다.\n",
    "    - 예를들어 S = `abcdabcdabcdabc` 일 경우\n",
    "    - 가능한 $s$ 는 `abcd`, `abcdabcd`, `abcdabcdabcd` 이고, \\\n",
    "    이 때의 $bd$ 는 각각 `abc`, `abcdabc`, `abc` 가 된다.\n",
    "- 반대로, $bd$ 이후에 $s$ 가 나오는 문자열도 생각해볼 수 있다.\n",
    "  - $S = bd * n + s, (0 \\leq n)$\n",
    "  - $|S| = N$ 이라고 할 때, $n = (N - |bd|) // |s|$ 이다.\n",
    "- Z로 찾을 수도있고, KMP로 찾을 수도 있다."
   ]
  },
  {
   "cell_type": "markdown",
   "metadata": {},
   "source": [
    "### 구현\n",
    "- 오름차순으로 정렬된 border길이의 후보가 반환된다.\n",
    "- 팰린드롬일 경우, 특수하게 처리해야하니 주의.\n",
    "  - 4354(문자열 제곱)"
   ]
  },
  {
   "cell_type": "code",
   "execution_count": null,
   "metadata": {},
   "outputs": [],
   "source": [
    "BD = [i for i, z in enumerate(reversed(Z), 1) if i == z]"
   ]
  }
 ],
 "metadata": {
  "language_info": {
   "name": "python"
  }
 },
 "nbformat": 4,
 "nbformat_minor": 2
}
