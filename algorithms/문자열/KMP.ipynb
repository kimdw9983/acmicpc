{
 "cells": [
  {
   "attachments": {},
   "cell_type": "markdown",
   "metadata": {},
   "source": [
    "### KMP\n",
    "- 문자열을 비교할 때, 불일치가 발생하면 틀린 문자의 index 이전까지는 일치하는 것을 응용한 알고리즘.\n",
    "- 상태전이함수(failure function)를 이용하여 일치하지 않는 문자가 발생했을 때, 어디로 이동할지를 결정한다.\n",
    "  - pi혹은 prefix table이라고 불리는 list를 반환한다.\n",
    "  - pi[i] = 문자열의 i번째 문자까지 일치하는 가장긴 \"proper\"한 접두사와 접미사의 최대 길이 = 불일치 발견시 얼마나 skip할 수 있는지의 갯수가 적힌 list\n",
    "    - proper은 접두사와 접미사 중에서 `전체 문자열이 아닌` 부분 문자열을 의미한다.\n",
    "      - `abcabc`일 경우 proper = `abc`이다. `abcabcabc`일 경우 proper = `abcabc`이다."
   ]
  },
  {
   "attachments": {},
   "cell_type": "markdown",
   "metadata": {},
   "source": [
    "### 실패함수(Failure Function)\n",
    "- 실패함수는 문자열의 접두사와 접미사가 일치하는 최대길이를 저장한 배열을 반환한다.\n",
    "  - 이때 자기 자신은 제외한다.\n",
    "- 예를 들어, `abcabc`의 경우 `a, ab, abc, abca, abcab`까지는 접두사와 접미사가 일치하지만 `abcabc`는 자기 자신이므로 제외한다.\n",
    "  - `[0, 0, 1, 2, 3]`\n",
    "  - F(i)가 접두사와 접미사가 같은 최대의 길이라고 했을 때, `ababa`에 대해 \n",
    "  - F(1)은 `a` 자기 자신은 포함되지 않으므로 0이다.\n",
    "  - F(2)은 `ab` a와 b가 다르므로 0이다.\n",
    "  - F(3)은 `aba` 첫a와 마지막a가 같으므로 1이다.\n",
    "  - F(4)는 `abab` 앞의 ab와 뒤의 ab가 같으므로 2이다.\n",
    "  - F(5)는 `ababa` 앞의 aba와 뒤의 aba가 같으므로 3이다. (중간 지점을 넘어가도 된다)\n",
    "- Failure Function의 2개의 포인터를 움직이는 것으로 동작한다."
   ]
  },
  {
   "cell_type": "code",
   "execution_count": 1,
   "metadata": {},
   "outputs": [],
   "source": [
    "def partial(s): #상태전이함수, failure function\n",
    "  g, pi = 0, [0] * len(s)\n",
    "  for i in range(1, len(s)):\n",
    "    while g and (s[g] != s[i]): #불일치가 발견됐는데 g가 첫 문자열을 보는 상태가 아니면\n",
    "      g = pi[g - 1] #상태전이 값으로 되돌림\n",
    "    pi[i] = g = g + (s[g] == s[i]) #일치한 경우엔 1을 증가시킨 다음에 pi에 저장한다\n",
    "  \n",
    "  return pi #pi, prefix table\n",
    "\n",
    "def match(s, p): #문자열 list반환\n",
    "  pi = partial(p)\n",
    "\n",
    "  g, idx = 0, []\n",
    "  for i in range(len(s)):\n",
    "    while g and p[g] != s[i]: #불일치가 발견되면\n",
    "      g = pi[g - 1] #상태전이 값으로 되돌림\n",
    "    g += p[g] == s[i] #일치한 경우에 한칸 전진\n",
    "    if g == len(pi): #문자열이 일치하면\n",
    "      idx.append(i + 1 - g)\n",
    "      g = pi[g - 1]\n",
    "\n",
    "  return idx"
   ]
  },
  {
   "cell_type": "code",
   "execution_count": null,
   "metadata": {},
   "outputs": [],
   "source": [
    "def fail(s):\n",
    "  g, pi = 0, [0] * len(s)\n",
    "  for i in range(1, len(s)):\n",
    "    while g and (s[g] != s[i]):\n",
    "      g = pi[g - 1]\n",
    "    pi[i] = g = g + (s[g] == s[i])\n",
    "\n",
    "  return pi\n",
    "\n",
    "def kmp(s, p):\n",
    "  pi = fail(p)\n",
    "\n",
    "  g, idx = 0, []\n",
    "  for i, c in enumerate(s) :\n",
    "    while g and p[g] != c:\n",
    "      g = pi[g - 1]\n",
    "    g += p[g] == c\n",
    "    if g == len(pi):\n",
    "      idx.append(i + 1 - g)\n",
    "      g = pi[g - 1]\n",
    "\n",
    "  return idx\n",
    "\n",
    "def find(s, p):\n",
    "  pi = fail(p)\n",
    "\n",
    "  g = 0\n",
    "  for i in range(len(s)):\n",
    "    while g and p[g] != s[i]:\n",
    "      g = pi[g - 1]\n",
    "    g += p[g] == s[i]\n",
    "    if g == len(pi):\n",
    "      return True\n",
    "\n",
    "  return False"
   ]
  }
 ],
 "metadata": {
  "kernelspec": {
   "display_name": "Python 3",
   "language": "python",
   "name": "python3"
  },
  "language_info": {
   "codemirror_mode": {
    "name": "ipython",
    "version": 3
   },
   "file_extension": ".py",
   "mimetype": "text/x-python",
   "name": "python",
   "nbconvert_exporter": "python",
   "pygments_lexer": "ipython3",
   "version": "3.11.0"
  },
  "orig_nbformat": 4
 },
 "nbformat": 4,
 "nbformat_minor": 2
}
