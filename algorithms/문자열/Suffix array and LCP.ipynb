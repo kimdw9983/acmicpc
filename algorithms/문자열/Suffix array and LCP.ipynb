{
 "cells": [
  {
   "cell_type": "markdown",
   "metadata": {},
   "source": [
    "### Suffix Array 접미사 배열\n",
    "- 문자열 S의 모든 접미사를 사전순으로 정렬한 배열. 각 배열의 원소는 접미사의 시작 인덱스를 의미한다.\n",
    "  - 어떤 문자열 $S$ 에 대해 모든 접미사 배열은 유일하다. 모든 접미사의 길이가 다르므로 같은 단어가 나올 수 없기 때문이다.\n",
    "  - S = 'banana'라면, 접미사는 'banana', 'anana', 'nana', 'ana', 'na', 'a'가 있고, 이를 사전순으로 정렬하면 'a', 'ana', 'anana', 'banana', 'na', 'nana'가 된다.\n",
    "  - 이를 Suffix Array로 표현하면 `[5, 3, 1, 0, 4, 2]`가 된다."
   ]
  },
  {
   "cell_type": "markdown",
   "metadata": {},
   "source": [
    "### $\\Omicron(N \\log^2N)$ Suffix Array의 동작\n",
    "- Manber-Myers 알고리즘이라고도 불린다.\n",
    "- $|S| = N$ 인 문자열 $S$ 에 대해  $d = 1 \\to N$ 까지 다음을 반복한다.\n",
    "  - 모든 접미사를 길이 $d$를 기준으로 정렬한다.\n",
    "  - 정렬된 접미사를 기준으로 $d$ 길이의 접미사 배열을 만든다.\n",
    "  - 만약 $d \\geq N$ 이면 종료한다.\n",
    "  - $d$를 두 배로 늘린다.\n",
    "- d가 2배씩 늘어나고 매번 정렬에 $\\Omicron(N \\log N)$이 걸리므로 전체 시간복잡도는 $\\Omicron(N \\log^2N)$이 된다.\n",
    "- 예를들어 `S = baabaaba` 라고 할 때 앞의 $2d$ 개의 접미사들이 같은 그룹으로 묶어준다. 그룹 번호는 $2d$ 를 사전순으로 정렬했을 때의 순서로 정해준다.\n",
    "  - $d = 0$ 이면 모든 접미사가 다른 그룹으로 묶인다.\n",
    "  - ![Alt text](assets/sa-1.png) \\\n",
    "  $d = 1$ 인 경우, 빨간 줄의 접미사가 공통되는 접미사들이 같은 그룹에 묶여진다. 그리고 각 빨간줄의 사전순서대로 그룹 번호가 매겨진다.\n",
    "  - ![Alt text](assets/sa-2.png) \\\n",
    "  $d = 2$ 인 경우\n",
    "  - ![Alt text](assets/sa-3.png) \\\n",
    "  $d = 4$ 인 경우, 모든 그룹의 크기가 1이 됐으므로 SA가 만들어졌다."
   ]
  },
  {
   "cell_type": "markdown",
   "metadata": {},
   "source": [
    "#### 원리\n",
    "- 우선 $d = 1$ 인 경우 접미사들의 모든 접미사 2글자들을 보고 그룹을 나눈 뒤, 그룹 번호를 매긴다.\n",
    "- 그 다음 단계부터, 이전 단계에서 만든 접미사 배열을 참고하여 정렬한다.\n",
    "  - 우선 그룹 번호가 서로 다른 접미사들은 그 다음 정렬에서도 그 상대적인 순서가 유지된다.\n",
    "    - 예를들어 그룹 1에 `a, b, c`가 있고, 그룹 2에 `d, e`가 있다면, 그 다음 정렬에서 그룹 1이 아무리 나눠져도 그룹 2보다 뒤로 정렬될 순 없다.\n",
    "      - `aa`ba와 `ab`a 의 그룹번호가 각각 1, 2였으므로 그 다음 정렬에서 `aa`ba가 `ab`a보다 뒤로 정렬될 수 없다.\n",
    "    - 따라서 $d = n + 1$ 에서 같은 그룹내의 문자열을 비교할 때에는, 앞의 $2^n$ 글자는 무시하고 뒤의 $2^n$ 글자만 비교하면 된다.\n",
    "      - ab`a`와 ab`aaba`를 비교할 때 앞의 ab는 무시하고 `a`와 `aa`를 비교하면 된다.\n",
    "    - 그런데 뒤의 $2^n$ 글자는 원래 단어의 접미사이며, 이미 그룹 번호가 매겨져있다. 따라서 그룹 번호를 참고하여 정렬하면 된다.\n",
    "      - ab`a`와 ab`aa`를 비교할 때, `a`와 `aa`는 이미 그룹번호가 반드시 부여되어있고,\\\n",
    "       `a`의 그룹 번호가 0이고 `aa`의 그룹 번호가 1이였으니, `a`가 `aa`보다 먼저 오게 된다.\n",
    "    - 그럼에도 뒤의 $2^n$ 글자가 동일하다면 그 다음 정렬에도 같은 그룹에 속하게 된다."
   ]
  },
  {
   "cell_type": "markdown",
   "metadata": {},
   "source": [
    "### LCP(Longest Common Prefix) 배열\n",
    "- 정렬된 접미사 배열에서 바로 뒤의(인접한) 접미사의 가장 긴 공통 접두사의 길이를 저장한 배열.\n",
    "  - 즉 LCP[k] = `k번째 접미사와 k+1번째 접미사가 앞에서부터 몇 글자 같은지`\n",
    "- Suffix Array를 구했다면 $\\Omicron(N)$ 만에 구할 수 있다.\n",
    "- 예를들어 `S = banana`라면, 접미사 배열은 `[5, 3, 1, 0, 4, 2]`가 되고, LCP 배열은 `[1, 3, 0, 0, 2]`가 된다.\n",
    "  - ![Alt text](image.png)"
   ]
  },
  {
   "cell_type": "markdown",
   "metadata": {},
   "source": [
    "#### LCP 배열의 특징\n",
    "- 어떤 문자열의 두 인접한 접미사 $A, B$ 의 LCP가 $z(> 0)$ 이면, \\\n",
    "$A, B$ 에서 앞의 한 글자씩을 뺀 문자열 $A', B'$ 역시 접미사이며, 이들의 LCP는 최소 $z-1$ 이다.\n",
    "  "
   ]
  },
  {
   "cell_type": "markdown",
   "metadata": {},
   "source": [
    "### SAIS/KASAI 구현\n",
    "- 설명 및 증명은 https://infossm.github.io/blog/2021/11/21/linear-suffix-array/ 참고"
   ]
  },
  {
   "cell_type": "code",
   "execution_count": null,
   "metadata": {},
   "outputs": [],
   "source": [
    "def SAIS(A):\n",
    "  n = len(A)\n",
    "  buckets = [0] * (max(A) + 2)\n",
    "  for a in A:\n",
    "    buckets[a + 1] += 1\n",
    "  for b in range(1, len(buckets)):\n",
    "    buckets[b] += buckets[b - 1]\n",
    "  isL = [1] * n\n",
    "  for i in reversed(range(n - 1)):\n",
    "    isL[i] = +(A[i] > A[i + 1]) if A[i] != A[i + 1] else isL[i + 1]\n",
    "\n",
    "  def induced_sort(LMS):\n",
    "    SA = [-1] * (n)\n",
    "    SA.append(n)\n",
    "    endpoint = buckets[1:]\n",
    "    for j in reversed(LMS):\n",
    "      endpoint[A[j]] -= 1\n",
    "      SA[endpoint[A[j]]] = j\n",
    "    startpoint = buckets[:-1]\n",
    "    for i in range(-1, n):\n",
    "      j = SA[i] - 1\n",
    "      if j >= 0 and isL[j]:\n",
    "        SA[startpoint[A[j]]] = j\n",
    "        startpoint[A[j]] += 1\n",
    "    SA.pop()\n",
    "    endpoint = buckets[1:]\n",
    "    for i in reversed(range(n)):\n",
    "      j = SA[i] - 1\n",
    "      if j >= 0 and not isL[j]:\n",
    "        endpoint[A[j]] -= 1\n",
    "        SA[endpoint[A[j]]] = j\n",
    "    return SA\n",
    "\n",
    "  isLMS = [+(i and isL[i - 1] and not isL[i]) for i in range(n)]\n",
    "  isLMS.append(1)\n",
    "  LMS = [i for i in range(n) if isLMS[i]]\n",
    "  if len(LMS) > 1:\n",
    "    SA = induced_sort(LMS)\n",
    "    LMS2 = [i for i in SA if isLMS[i]]\n",
    "    prev = -1\n",
    "    j = 0\n",
    "    for i in LMS2:\n",
    "      i1 = prev\n",
    "      i2 = i\n",
    "      while prev >= 0 and A[i1] == A[i2]:\n",
    "        i1 += 1\n",
    "        i2 += 1\n",
    "        if isLMS[i1] or isLMS[i2]:\n",
    "          j -= isLMS[i1] and isLMS[i2]\n",
    "          break\n",
    "      j += 1\n",
    "      prev = i\n",
    "      SA[i] = j\n",
    "    LMS = [LMS[i] for i in SAIS([SA[i] for i in LMS])]\n",
    "  return induced_sort(LMS)\n",
    "\n",
    "def KASAI(A, SA):\n",
    "  n = len(A)\n",
    "  rank = [0] * n\n",
    "  for i in range(n):\n",
    "    rank[SA[i]] = i\n",
    "  LCP = [0] * (n - 1)\n",
    "  k = 0\n",
    "  for i in range(n):\n",
    "    SAind = rank[i]\n",
    "    if SAind == n - 1:\n",
    "      continue\n",
    "    j = SA[SAind + 1]\n",
    "    while i + k < n and A[i + k] == A[j + k]:\n",
    "      k += 1\n",
    "    LCP[SAind] = k\n",
    "    k -= k > 0\n",
    "  return LCP"
   ]
  }
 ],
 "metadata": {
  "language_info": {
   "name": "python"
  },
  "orig_nbformat": 4
 },
 "nbformat": 4,
 "nbformat_minor": 2
}
