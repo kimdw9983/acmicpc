{
 "cells": [
  {
   "attachments": {},
   "cell_type": "markdown",
   "metadata": {},
   "source": [
    "### 밀러-라빈 소수 판별법\n",
    "- 확률적인 판정 방법이므로 Base의 설정이 중요하다.\n",
    "  - 결정론적으로 판별하기 위한 Base Cheet sheet http://miller-rabin.appspot.com/\n",
    "- n이 $10^6$를 넘어갈 때 부터 사용한다. "
   ]
  },
  {
   "attachments": {},
   "cell_type": "markdown",
   "metadata": {},
   "source": [
    "- $n < 4,759,123,141 \\lessapprox 2^{32}$ 일 경우"
   ]
  },
  {
   "cell_type": "code",
   "execution_count": 4,
   "metadata": {},
   "outputs": [],
   "source": [
    "base = (2, 7, 61)"
   ]
  },
  {
   "cell_type": "markdown",
   "metadata": {},
   "source": [
    "- $n < 2^{62}$ 일 경우"
   ]
  },
  {
   "cell_type": "code",
   "execution_count": null,
   "metadata": {},
   "outputs": [],
   "source": [
    "base = (2, 3, 5, 7, 11, 13, 31, 61, 73)"
   ]
  },
  {
   "cell_type": "markdown",
   "metadata": {},
   "source": [
    "- $n < 2^{64}$일 경우"
   ]
  },
  {
   "cell_type": "code",
   "execution_count": null,
   "metadata": {},
   "outputs": [],
   "source": [
    "base = (2, 325, 9375, 28178, 450775, 9780504, 1795265022)"
   ]
  },
  {
   "cell_type": "code",
   "execution_count": 1,
   "metadata": {},
   "outputs": [],
   "source": [
    "is_prime = lambda a: all(miller(a, n) for n in base)\n",
    "def miller(n, a) : \n",
    "  if not a % n : return True\n",
    "  k = n-1\n",
    "  while True :\n",
    "    tmp = pow(a,k,n)\n",
    "    if tmp == n-1 : return True\n",
    "    if k%2 : return tmp == 1 or tmp == n-1\n",
    "    k //= 2"
   ]
  },
  {
   "cell_type": "markdown",
   "metadata": {},
   "source": [
    "### 폴라드-로\n",
    "- https://blog.naver.com/jinhan814/222141831551\n",
    "- 인수분해 알고리즘이며, 이를 이용해 1 또는 소수가 나올때까지 반복하여 소인수분해에 사용할 수 있다.\n",
    "- 시간복잡도 $\\Omicron(n^{\\frac{1}{4}})$"
   ]
  },
  {
   "cell_type": "markdown",
   "metadata": {},
   "source": [
    "### 폴라드-로 소인수분해\n",
    "- 시간복잡도 $\\Omicron(\\sqrt n \\log n )$\n",
    "  - https://www.geeksforgeeks.org/pollards-rho-algorithm-prime-factorization/"
   ]
  },
  {
   "cell_type": "code",
   "execution_count": null,
   "metadata": {},
   "outputs": [],
   "source": [
    "from math import gcd, isqrt\n",
    "def pollard_rho(n): \n",
    "  for x in reversed(range(10)):\n",
    "    for c in reversed(range(10)):\n",
    "      y = x\n",
    "      d = 1\n",
    "      while d == 1:\n",
    "        x = (x * x + c) % n\n",
    "        y = (y * y + c) % n\n",
    "        y = (y * y + c) % n\n",
    "        d = gcd(n, abs(x - y))\n",
    "      if d != n:\n",
    "        return d\n",
    "\n",
    "base = (2, 325, 9375, 28178, 450775, 9780504, 1795265022)\n",
    "is_prime = lambda a: all(miller(a, n) for n in base)\n",
    "def miller(n, a) : \n",
    "  if not a % n : return True\n",
    "  k = n-1\n",
    "  while True :\n",
    "    tmp = pow(a, k, n)\n",
    "    if tmp == n-1 : return True\n",
    "    if k & 1 : return tmp == 1 or tmp == n-1\n",
    "    k >>= 1\n",
    "\n",
    "def factosization(n):\n",
    "  f = []\n",
    "  while not is_prime(n):\n",
    "    s = isqrt(n)\n",
    "    k = s * (s - 1)\n",
    "    d = gcd(n, k)\n",
    "    if d == 1:\n",
    "      d = pollard_rho(n)\n",
    "    n //= d\n",
    "    f += factosization(d)\n",
    "  if n != 1:\n",
    "    f.append(n)\n",
    "  return f"
   ]
  },
  {
   "cell_type": "markdown",
   "metadata": {},
   "source": [
    "- distinct factors를 구하는 코드"
   ]
  },
  {
   "cell_type": "code",
   "execution_count": null,
   "metadata": {},
   "outputs": [],
   "source": [
    "from collections import Counter\n",
    "def distinct_factos(x):\n",
    "  factos = [1]\n",
    "  for p, exp in Counter(factosization(x)).items():\n",
    "    factos += [p**i * factor for factor in factos for i in range(1, exp + 1)]\n",
    "  return factos"
   ]
  },
  {
   "cell_type": "markdown",
   "metadata": {},
   "source": [
    "### 쓸만한 소수들"
   ]
  },
  {
   "cell_type": "code",
   "execution_count": null,
   "metadata": {},
   "outputs": [],
   "source": [
    "1234567891\n",
    "1999\n",
    "4447\n",
    "5167\n",
    "142857"
   ]
  }
 ],
 "metadata": {
  "kernelspec": {
   "display_name": "Python 3",
   "language": "python",
   "name": "python3"
  },
  "language_info": {
   "codemirror_mode": {
    "name": "ipython",
    "version": 3
   },
   "file_extension": ".py",
   "mimetype": "text/x-python",
   "name": "python",
   "nbconvert_exporter": "python",
   "pygments_lexer": "ipython3",
   "version": "3.11.0"
  },
  "orig_nbformat": 4
 },
 "nbformat": 4,
 "nbformat_minor": 2
}
