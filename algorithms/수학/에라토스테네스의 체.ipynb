{
 "cells": [
  {
   "cell_type": "markdown",
   "metadata": {},
   "source": [
    "# 소수 목록 구하기\n",
    "- 실질적으로 N이 $10^7$ 정도까지만 돌릴 수 있다.\n",
    "\n",
    "##### 에라토스테네스의 체(Sieve of Eratosthenes)\n",
    "- [증명](https://cp-algorithms.com/algebra/sieve-of-eratosthenes.html)\n",
    "- 시간복잡도 $\\Omicron(n \\log n \\log n)$\n",
    "- 공간복잡도 $\\Omicron(n)$"
   ]
  },
  {
   "cell_type": "code",
   "execution_count": null,
   "metadata": {},
   "outputs": [],
   "source": [
    "def eratos(n):\n",
    "  p = [False] * 2 + [True for _ in range(n-1)]\n",
    "  r = 2\n",
    "  while (r * r <= n):\n",
    "    if p[r]:\n",
    "      for i in range(r**2, n+1, r):\n",
    "        p[i] = False\n",
    "    r += 1\n",
    "  return p"
   ]
  },
  {
   "cell_type": "markdown",
   "metadata": {},
   "source": [
    "- set으로 출력"
   ]
  },
  {
   "cell_type": "code",
   "execution_count": null,
   "metadata": {},
   "outputs": [],
   "source": [
    "import math\n",
    "def eratos(n):\n",
    "  if n < 2: return set()\n",
    "  n += 1\n",
    "  P = [1] * (n//2)\n",
    "  for i in range(3, math.isqrt(n) + 1, 2):\n",
    "    if P[i//2]: P[i**2//2::i] = [0]*((n-i**2-1)//(2*i) + 1)\n",
    "\n",
    "  return set([2] + [2*i+1 for i in range(1, n//2) if P[i]])  "
   ]
  }
 ],
 "metadata": {
  "language_info": {
   "name": "python"
  },
  "orig_nbformat": 4
 },
 "nbformat": 4,
 "nbformat_minor": 2
}
