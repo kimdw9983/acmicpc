{
 "cells": [
  {
   "cell_type": "code",
   "execution_count": null,
   "metadata": {},
   "outputs": [],
   "source": [
    "a: int\n",
    "p: int"
   ]
  },
  {
   "cell_type": "markdown",
   "metadata": {},
   "source": [
    "- https://anz1217.tistory.com/108"
   ]
  },
  {
   "attachments": {},
   "cell_type": "markdown",
   "metadata": {},
   "source": [
    "### 유클리드 호제법\n",
    "- 두 수의 최대공약수를 구하는 알고리즘\n",
    "- 두 수 $0 < b < a$ 에 대해 $a = bq + r$ 또는 $a \\equiv r \\pmod b$  이라고 할 때,\n",
    "  - $gcd(a, b) = gcd(b, r)$ 이다.\n",
    "- $r = 0$ 이면 $b$ 가 최대공약수이다.\n",
    "\n",
    "#### 유클리드 호제법의 증명\n",
    "- $\\gcd(a, b) = G$, $\\gcd(b, r) = G'$ 라고 하자.\n",
    "- 서로소인 정수 $A, B$ 에 대해 $a = GA$, $b = GB$ 라고 할 수 있다.\n",
    "- 이를 $a = bq + r$ 에 대입하면, $GA = GBq + r$ 이고, $r = G(A - Bq)$ 이다.\n",
    "  - 여기서 $G$ 는 $b$ 와 $r$ 의 공약수임을 알 수 있다. 즉, $G | G'$ 이다.\n",
    "- $G' = mG$ 로 두자. 그러면 적당한 서로소인 두 정수 $k, l$ 에 대해 $GB = G'k = Gmk, G(A-Bq) = G'l = Gml$ 이 성립한다.\n",
    "  - 양변을 $G$ 로 나누면 $B = mk, A-Bq = ml$ 이다.\n",
    "- $A = ml + Bq = ml + mkq = m(l+kq)$ 에서 $m$ 은 $A$ 와 $B$ 의 공약수인데, $\\gcd(A, B) = 1$ 이므로, 항상 $m = 1$ 이되며, $G' = G$ 이다.\n"
   ]
  },
  {
   "cell_type": "markdown",
   "metadata": {},
   "source": [
    "\n",
    "### 확장 유클리드 호제법\n",
    "- .\n"
   ]
  },
  {
   "cell_type": "code",
   "execution_count": null,
   "metadata": {},
   "outputs": [],
   "source": [
    "def xGCD(a, b):\n",
    "  s, _s = 0, 1\n",
    "  r, _r = b, a\n",
    "  while r:\n",
    "    q = _r // r\n",
    "    _r, r = r, _r - q * r\n",
    "    _s, s = s, _s - q * s\n",
    "  return _r, _s, (_r - _s * a) // b if b else 0"
   ]
  },
  {
   "cell_type": "markdown",
   "metadata": {},
   "source": [
    "### 모듈로 역원\n",
    "- 모듈로 연산 끼리의 덧셈, 뺄셈, 곱셈은 비교적 쉽게 구해지지만, 나눗셈은 그렇지 않다.\n",
    "- 어떤 정수 $a$ 에 대해, $ax \\equiv 1 \\pmod{m}$ 을 만족하는 정수 $x$ 가 존재할 대, $x$ 를 $a$ 에 대한 모듈러 역원이라고 한다.\n",
    "- 즉 모듈러 계에서 $a$ 를 나누는 연산이 필요하다면, 대신 $a$ 의 모듈러 역원 $x$ 를 곱하는 연산을 수행하면 되는 식이다."
   ]
  },
  {
   "attachments": {},
   "cell_type": "markdown",
   "metadata": {},
   "source": [
    "### 소수에서의 모듈로 역원(페르마의 소정리)\n",
    "- $p$가 소수이고, $a$가 정수일 때, 즉 $\\gcd(p, a) = 1$ 일 때 다음을 만족한다.\n",
    "  - $a^p \\equiv a \\pmod p$\n",
    "- 위 식의 양변을 a로 나누면\n",
    "  - $a^{p-1} \\equiv 1 \\pmod p (a ≠ 0)$ \n",
    "- 한번 더 나누면 분모에 위치한 수를 분자로 바꿀 수 있다.\n",
    "  - $a^{p-2} \\equiv \\frac{1}{a}\\pmod p (a ≠ 0)$\n",
    "  - 따라서 $p$ 가 소수일 때 $p$ 와 서로소(a and p is relatively prime; a와 p가 상대적으로 소수인 경우)인 임의의 $a$ 의 모듈로 역원은 $a^{p-2}$ 이다."
   ]
  },
  {
   "cell_type": "markdown",
   "metadata": {},
   "source": [
    "#### 모듈로가 소수일 때\n",
    "- $p$ 가 소수일 때 모듈로 역원은 파이썬의 내장 함수로 구할 수 있다.\n",
    "- 법 p에서 a의 역원은 다음과 같이 출력할 수 있다."
   ]
  },
  {
   "cell_type": "code",
   "execution_count": null,
   "metadata": {},
   "outputs": [],
   "source": [
    "pow(a, -1, p)"
   ]
  },
  {
   "cell_type": "markdown",
   "metadata": {},
   "source": [
    "#### 모듈로가 소수가 아닐 때\n",
    "- $p$ 가 소수가 아닐 때는 확장 유클리드 호제법(xGCD)을 이용해야 한다.\n",
    "- xGCD는 a와 b의 최대공약수 뿐만 아니라, 정수 a, b에 대해\n",
    "  - $ax + by = \\gcd(a, b)$ 를 만족하는 정수 x, y를 계산해준다.\n",
    "  - 여기서 $\\gcd(a, m) = 1$ 이라면, $ax + my = 1$ 이다. \\\n",
    "  이를 법p에서 생각하면 $my$ 가 cancel out 되므로, $ax \\equiv 1 \\pmod m$ 이다. \\\n",
    "  이러한 식을 만족하는 $x = a^{-1}$ 이다."
   ]
  },
  {
   "cell_type": "code",
   "execution_count": null,
   "metadata": {},
   "outputs": [],
   "source": [
    "def xGCD(a, b):\n",
    "  s, _s = 0, 1\n",
    "  r, _r = b, a\n",
    "  while r:\n",
    "    q = _r // r\n",
    "    _r, r = r, _r - q * r\n",
    "    _s, s = s, _s - q * s\n",
    "  return _r, _s, (_r - _s * a) // b if b else 0\n",
    "\n",
    "def modinv(a, m):\n",
    "  g, x, _ = xGCD(a % m, m)\n",
    "  return x % m if g == 1 else None"
   ]
  },
  {
   "cell_type": "markdown",
   "metadata": {},
   "source": [
    "### 오일러 피 함수\n",
    "- $n$ 보다 작고 $n$ 과 서로소인 자연수의 개수를 구하는 함수\n",
    "- $n$ 이 소수일 때, $\\phi(n) = n - 1$ 이다. \n",
    "  - 소수일 경우 약수가 1과 자기 자신밖에 없으므로, 자신을 제외한 모든 수와 서로소이다. 따라서 $n - 1$\n",
    "- 어떤 수가 소수인 수 $p$ 의 거듭제곱 꼴일 때 $\\phi(p^k) = p^k - p^{k-1}$ 이다.\n",
    "  - 소수 $p$ 의 거듭제곱과 서로소가 되려면, $p$ 의 배수가 아니어야 한다. \\\n",
    "  따라서 $p^k$ 에서 $p$ 의 배수인 수는 $p, 2p, 3p, ..., p^{k-1}, p^{k-1}p$ 가 있고, 이러한 개수가 $p^{k-1}$ 개이다.\n",
    "  - 또한 $\\phi(p^a) = p^a - p^{a-1} = p^{a-1}(p - 1) = p^a(1 - \\frac{1}{p})$ 이다.\n",
    "- 두 자연수 $m$ 과 $n$ 이 서로소라면, $\\phi(mn) = \\phi(m) \\times \\phi(n)$ 이다.\n",
    "- https://mathphysics.tistory.com/512"
   ]
  },
  {
   "cell_type": "markdown",
   "metadata": {},
   "source": [
    "### 구현\n",
    "- 시간복잡도: $\\Omicron(N \\log \\log N)$\n",
    "  - $N \\log N$ 보다 느리게 증가하며, 에라토스테네스의 체의 시간복잡도와 같다.\n",
    "- 공간복잡도: $\\Omicron(N)$\n",
    "- 즉 사실상 $10^7$ 정도 까지만 쓸 수 있다. 그보다 큰 숫자는 수학적으로 다른 분석이 필요할 것이다.\n",
    "  - 11689(GCD(n, k) = 1)"
   ]
  },
  {
   "cell_type": "code",
   "execution_count": null,
   "metadata": {},
   "outputs": [],
   "source": [
    "def phi(n):\n",
    "  L = [i if i & 1 else i // 2 for i in range(n + 1)]\n",
    "  for i in range(3, n + 1, 2):\n",
    "    if L[i] != i: continue\n",
    "    for j in range(i, n + 1, i):\n",
    "      L[j] = (L[j] // i) * (i - 1)\n",
    "\n",
    "  return L"
   ]
  },
  {
   "attachments": {},
   "cell_type": "markdown",
   "metadata": {},
   "source": [
    "### 뤼카의 정리\n",
    "- $0 < n, r$ 인 정수와 소수 $p$ 에 대해 뤼카의 정리는 다음과 같은 합동식으로 표현할 수 있다.\n",
    "- $\\displaystyle\\binom{n}{r} \\equiv \\prod^k_{i=0} \\binom{n_i}{r_i}\\pmod p$\n",
    "- $n, r$ 을 $p$ 진법으로 나타낸다면\n",
    "  - $n = n_kp^k + n_{k-1}p^{k-1} + \\cdots + n_1p + n_0$\n",
    "  - $r = r_kp^k + r_{k-1}p^{k-1} + \\cdots + r_1p + r_0$\n",
    "  - $0 \\le i \\le k$ 에 대해 $n_i$ 에서 $r_i$ 를 고르는 조합의 수, 즉 $\\displaystyle\\binom{n_i}{r_i}$ 를 모두 곱하면 $\\displaystyle\\binom{n}{r}$ 을 구할 수 있다."
   ]
  },
  {
   "cell_type": "markdown",
   "metadata": {},
   "source": [
    "#### 구현\n",
    "- $nCr \\mod p$ 를 구하는 함수"
   ]
  },
  {
   "cell_type": "code",
   "execution_count": null,
   "metadata": {},
   "outputs": [],
   "source": [
    "def gnCr(max_n=2 * 10**5, mod=10**9 + 7):\n",
    "  max_n = min(max_n, mod - 1)\n",
    "\n",
    "  fact, inv_fact = [0] * (max_n + 1), [0] * (max_n + 1)\n",
    "  fact[0] = 1\n",
    "  for i in range(max_n):\n",
    "    fact[i + 1] = fact[i] * (i + 1) % mod\n",
    "\n",
    "  inv_fact[-1] = pow(fact[-1], mod - 2, mod)\n",
    "  for i in reversed(range(max_n)):\n",
    "    inv_fact[i] = inv_fact[i + 1] * (i + 1) % mod\n",
    "\n",
    "  def nCr_mod(n, r):\n",
    "    res = 1\n",
    "    while n or r:\n",
    "      a, b = n % mod, r % mod\n",
    "      if a < b: return 0\n",
    "      res = res * fact[a] % mod * inv_fact[b] % mod * inv_fact[a - b] % mod\n",
    "      n //= mod\n",
    "      r //= mod\n",
    "    return res\n",
    "\n",
    "  return nCr_mod"
   ]
  },
  {
   "attachments": {},
   "cell_type": "markdown",
   "metadata": {},
   "source": [
    "### 중국인의 나머지 정리(CRT)\n",
    "- 서로소인 n개의 수에 대해 일정한 나머지를 만족하는 수를 찾는 문제\n",
    "- 모든 $i \\ne j$ 에 대해 $\\gcd(m_i, m_j) = 1$ 일 때, 연립부등식 \\\n",
    "$\\begin{cases} x \\equiv {n_1} \\pmod {m_1} \\\\ x \\equiv {n_2} \\pmod {m_2} \\\\ \\vdots \\\\ x \\equiv {n_k} \\pmod {m_k} \\end{cases}$ 의 해는\n",
    "- $M = \\prod^k_im_i, M_i = \\frac{M}{m_i} $ 일 때\\\n",
    "$\\displaystyle x \\equiv \\sum_{i=1}^k M_i ( M_{i}^{-1} \\pmod {m_i} ) n_i \\pmod M $ 이다\n",
    "- 문제에서 나눠야할 수들이 서로소가 아닐경우 모듈러들끼리 소인수분해 해서 각 소인수에 대한 항등식을 따로따로 만들면 된다."
   ]
  },
  {
   "cell_type": "code",
   "execution_count": null,
   "metadata": {},
   "outputs": [],
   "source": [
    "import math\n",
    "import operator as op\n",
    "from functools import reduce\n",
    "lcm = lambda a, b: a * b // math.gcd(a, b)\n",
    "def crt(a, p):\n",
    "  prod = reduce(op.mul, p, 1)\n",
    "  x = [prod // pi for pi in p]\n",
    "  return sum(a[i] * pow(x[i], p[i] - 2, p[i]) * x[i] for i in range(len(a))) % prod\n",
    "\n",
    "def xGCD(a, b):\n",
    "  s, _s = 0, 1\n",
    "  r, _r = b, a\n",
    "  while r:\n",
    "    q = _r // r\n",
    "    _r, r = r, _r - q * r\n",
    "    _s, s = s, _s - q * s\n",
    "  return _r, _s, (_r - _s * a) // b if b else 0\n",
    "\n",
    "def composite_crt(b, m):\n",
    "  \"\"\"returns x s.t. x = b[i] (mod m[i]) for all i\"\"\"\n",
    "  x, m_prod = 0, 1\n",
    "  for bi, mi in zip(b, m):\n",
    "    g, s, _ = xGCD(m_prod, mi)\n",
    "    if ((bi - x) % mi) % g:\n",
    "      return None\n",
    "    x += m_prod * (s * ((bi - x) % mi) // g)\n",
    "    m_prod = (m_prod * mi) // math.gcd(m_prod, mi)\n",
    "  return x % m_prod"
   ]
  }
 ],
 "metadata": {
  "language_info": {
   "name": "python"
  },
  "orig_nbformat": 4
 },
 "nbformat": 4,
 "nbformat_minor": 2
}
