{
 "cells": [
  {
   "attachments": {},
   "cell_type": "markdown",
   "metadata": {},
   "source": [
    "# 등차수열 합 공식\n",
    "- 첫째항: $a$, 마지막 항: $l$\n",
    "- 제n항(수열의 길이): $n$\n",
    "- $S_n$ = $n(a + l)/ 2$"
   ]
  },
  {
   "cell_type": "code",
   "execution_count": 4,
   "metadata": {},
   "outputs": [
    {
     "name": "stdout",
     "output_type": "stream",
     "text": [
      "60\n"
     ]
    }
   ],
   "source": [
    "a = 1\n",
    "l = 11\n",
    "n = 10\n",
    "Sn = (n * (a + l)) // 2\n",
    "print(Sn)"
   ]
  },
  {
   "attachments": {},
   "cell_type": "markdown",
   "metadata": {},
   "source": [
    "- 첫째 항: $a$\n",
    "- 공차: $d$\n",
    "- 제 n항 : $n$\n",
    "- $S_n$ = $n(2a + (n-1)d) / 2$"
   ]
  },
  {
   "cell_type": "code",
   "execution_count": 5,
   "metadata": {},
   "outputs": [
    {
     "name": "stdout",
     "output_type": "stream",
     "text": [
      "40400\n"
     ]
    }
   ],
   "source": [
    "a = 3\n",
    "d = 2\n",
    "n = 200\n",
    "Sn = n * (2 * a + (n - 1) * d) // 2\n",
    "print(Sn)"
   ]
  }
 ],
 "metadata": {
  "kernelspec": {
   "display_name": "Python 3",
   "language": "python",
   "name": "python3"
  },
  "language_info": {
   "codemirror_mode": {
    "name": "ipython",
    "version": 3
   },
   "file_extension": ".py",
   "mimetype": "text/x-python",
   "name": "python",
   "nbconvert_exporter": "python",
   "pygments_lexer": "ipython3",
   "version": "3.11.0"
  },
  "orig_nbformat": 4
 },
 "nbformat": 4,
 "nbformat_minor": 2
}
