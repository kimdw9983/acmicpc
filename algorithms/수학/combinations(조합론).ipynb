{
 "cells": [
  {
   "cell_type": "code",
   "execution_count": 2,
   "metadata": {},
   "outputs": [],
   "source": [
    "l:str\n",
    "n:int\n",
    "r:int"
   ]
  },
  {
   "attachments": {},
   "cell_type": "markdown",
   "metadata": {},
   "source": [
    "# 조합(Combination)\n",
    "- $nCr$, $\\dbinom {n}{r}$, $C(n, r)$ (n이 큰 숫자가 적힌 곳)\n",
    "- 순서 `상관이 없고`, 중복을 `허용하지 않는` 경우의 수\n",
    "- 이항 계수(Binomial Coefficient)와 같다."
   ]
  },
  {
   "attachments": {},
   "cell_type": "markdown",
   "metadata": {},
   "source": [
    "\n",
    "### 관련 공식\n",
    "- $\\dbinom {n}{r} = \\Large\\frac{n!}{r!(n-r)!} = \\Large\\frac{nPr}{r!}$\n",
    "- $\\dbinom {n}{r} = \\Large\\frac{n!}{k!(n-k)!}$\n",
    "- $\\dbinom {n}{r} = \\dbinom{n}{n-r}$ \n",
    "- $\\dbinom {n}{0} = \\dbinom{n}{n} = 1$\n",
    "- $\\dbinom {n}{r} = \\dbinom{n - 1}{r} + \\dbinom{n-1}{r-1}$, 이를 이용해 거듭제곱을 활용하여 계산 가능"
   ]
  },
  {
   "attachments": {},
   "cell_type": "markdown",
   "metadata": {},
   "source": [
    "### 값 출력\n",
    "- Python 3.8+\n",
    "- 3.11에서 추가로 더 빨라짐"
   ]
  },
  {
   "cell_type": "code",
   "execution_count": null,
   "metadata": {},
   "outputs": [],
   "source": [
    "import math\n",
    "math.comb(n, r)"
   ]
  },
  {
   "attachments": {},
   "cell_type": "markdown",
   "metadata": {},
   "source": [
    "### $\\dbinom{n}{r}$의 모든 조합을 순회하는 iterator\n",
    "- 밑의 코드는 모든 부분집합 출력(공집합 포함여부에 주의)"
   ]
  },
  {
   "cell_type": "code",
   "execution_count": 4,
   "metadata": {},
   "outputs": [
    {
     "name": "stdout",
     "output_type": "stream",
     "text": [
      "a, b, c, d, e, ab, ac, ad, ae, bc, bd, be, cd, ce, de, abc, abd, abe, acd, ace, ade, bcd, bce, bde, cde, abcd, abce, abde, acde, bcde, abcde\n"
     ]
    }
   ],
   "source": [
    "import itertools \n",
    "w = itertools.combinations(l, r)\n",
    "\n",
    "\n",
    "x = []\n",
    "for c in itertools.chain.from_iterable(itertools.combinations(l, r+1) for r in range(n)):\n",
    "  x.append(\"\".join(c))\n",
    "\n",
    "print(\", \".join(x))"
   ]
  },
  {
   "attachments": {},
   "cell_type": "markdown",
   "metadata": {},
   "source": [
    "# 순열(Permutation)\n",
    "- $nPr$, $\\bigg(\\dbinom {n}{r}\\bigg)$, $P(n, r)$\n",
    "- 순서 `상관있고`, 중복을 `허용하지 않는` 경우의 수\n",
    "- 군론에서 치환(permutation)을 의미하며, 치환의 개수가 순열이다.\n"
   ]
  },
  {
   "attachments": {},
   "cell_type": "markdown",
   "metadata": {},
   "source": [
    "\n",
    "### 관련 공식\n",
    "- $nPr = n \\times (n - 1) \\times (n - 2) \\times ... \\times (n - r + 1)$\n",
    "- $nPr = \\dbinom{n}{r} \\times r!$"
   ]
  },
  {
   "cell_type": "code",
   "execution_count": 20,
   "metadata": {},
   "outputs": [
    {
     "data": {
      "text/plain": [
       "60"
      ]
     },
     "execution_count": 20,
     "metadata": {},
     "output_type": "execute_result"
    }
   ],
   "source": [
    "import math\n",
    "math.perm(n, r)"
   ]
  },
  {
   "cell_type": "code",
   "execution_count": 25,
   "metadata": {},
   "outputs": [],
   "source": [
    "import itertools\n",
    "w = itertools.permutations(l, r)"
   ]
  },
  {
   "attachments": {},
   "cell_type": "markdown",
   "metadata": {},
   "source": [
    "\n",
    "## 중복 조합(Multiset coefficient, )\n",
    "- $nHr$\n",
    "- 순서 `상관 없고`, 중복을 `허용하는` 경우의 수\n",
    "\n",
    "### 관련 공식\n",
    "- $nHr = \\dbinom{n + r - 1}{r} = \\dbinom{n + r - 1}{n - 1}$\n",
    "\n",
    "### 예시\n",
    "- 음이아닌 정수 $x, y, z$에 대해 $x + y + z <= 3$을 만족하는 순서쌍 $(x, y, z)$의 개수는?\n",
    "  - $x + y + z + n = 3$을 만족하는 순서쌍 $(x, y, z, n)$을 고르는 경우와 같으므로, $4H3$ = $\\dbinom {6}{3}$ = 20"
   ]
  },
  {
   "cell_type": "code",
   "execution_count": 26,
   "metadata": {},
   "outputs": [],
   "source": [
    "import itertools\n",
    "w = itertools.combinations_with_replacement(l, r)"
   ]
  },
  {
   "attachments": {},
   "cell_type": "markdown",
   "metadata": {},
   "source": [
    "\n",
    "\n",
    "# 중복조합(Combination with Repetition, Product)\n",
    "- $nΠr$, $n^r$\n",
    "- 순서 `상관 있고`, 중복을 `허용하는` 경우의 수\n",
    "- 지수 표현과 같다"
   ]
  },
  {
   "cell_type": "code",
   "execution_count": 28,
   "metadata": {},
   "outputs": [
    {
     "name": "stdout",
     "output_type": "stream",
     "text": [
      "('a', 'a', 'a') ('a', 'a', 'b') ('a', 'a', 'c') ('a', 'a', 'd') ('a', 'a', 'e') ('a', 'b', 'a') ('a', 'b', 'b') ('a', 'b', 'c') ('a', 'b', 'd') ('a', 'b', 'e') ('a', 'c', 'a') ('a', 'c', 'b') ('a', 'c', 'c') ('a', 'c', 'd') ('a', 'c', 'e') ('a', 'd', 'a') ('a', 'd', 'b') ('a', 'd', 'c') ('a', 'd', 'd') ('a', 'd', 'e') ('a', 'e', 'a') ('a', 'e', 'b') ('a', 'e', 'c') ('a', 'e', 'd') ('a', 'e', 'e') ('b', 'a', 'a') ('b', 'a', 'b') ('b', 'a', 'c') ('b', 'a', 'd') ('b', 'a', 'e') ('b', 'b', 'a') ('b', 'b', 'b') ('b', 'b', 'c') ('b', 'b', 'd') ('b', 'b', 'e') ('b', 'c', 'a') ('b', 'c', 'b') ('b', 'c', 'c') ('b', 'c', 'd') ('b', 'c', 'e') ('b', 'd', 'a') ('b', 'd', 'b') ('b', 'd', 'c') ('b', 'd', 'd') ('b', 'd', 'e') ('b', 'e', 'a') ('b', 'e', 'b') ('b', 'e', 'c') ('b', 'e', 'd') ('b', 'e', 'e') ('c', 'a', 'a') ('c', 'a', 'b') ('c', 'a', 'c') ('c', 'a', 'd') ('c', 'a', 'e') ('c', 'b', 'a') ('c', 'b', 'b') ('c', 'b', 'c') ('c', 'b', 'd') ('c', 'b', 'e') ('c', 'c', 'a') ('c', 'c', 'b') ('c', 'c', 'c') ('c', 'c', 'd') ('c', 'c', 'e') ('c', 'd', 'a') ('c', 'd', 'b') ('c', 'd', 'c') ('c', 'd', 'd') ('c', 'd', 'e') ('c', 'e', 'a') ('c', 'e', 'b') ('c', 'e', 'c') ('c', 'e', 'd') ('c', 'e', 'e') ('d', 'a', 'a') ('d', 'a', 'b') ('d', 'a', 'c') ('d', 'a', 'd') ('d', 'a', 'e') ('d', 'b', 'a') ('d', 'b', 'b') ('d', 'b', 'c') ('d', 'b', 'd') ('d', 'b', 'e') ('d', 'c', 'a') ('d', 'c', 'b') ('d', 'c', 'c') ('d', 'c', 'd') ('d', 'c', 'e') ('d', 'd', 'a') ('d', 'd', 'b') ('d', 'd', 'c') ('d', 'd', 'd') ('d', 'd', 'e') ('d', 'e', 'a') ('d', 'e', 'b') ('d', 'e', 'c') ('d', 'e', 'd') ('d', 'e', 'e') ('e', 'a', 'a') ('e', 'a', 'b') ('e', 'a', 'c') ('e', 'a', 'd') ('e', 'a', 'e') ('e', 'b', 'a') ('e', 'b', 'b') ('e', 'b', 'c') ('e', 'b', 'd') ('e', 'b', 'e') ('e', 'c', 'a') ('e', 'c', 'b') ('e', 'c', 'c') ('e', 'c', 'd') ('e', 'c', 'e') ('e', 'd', 'a') ('e', 'd', 'b') ('e', 'd', 'c') ('e', 'd', 'd') ('e', 'd', 'e') ('e', 'e', 'a') ('e', 'e', 'b') ('e', 'e', 'c') ('e', 'e', 'd') ('e', 'e', 'e')\n"
     ]
    }
   ],
   "source": [
    "import itertools\n",
    "w = itertools.product(l, repeat=r)"
   ]
  }
 ],
 "metadata": {
  "kernelspec": {
   "display_name": "Python 3",
   "language": "python",
   "name": "python3"
  },
  "language_info": {
   "codemirror_mode": {
    "name": "ipython",
    "version": 3
   },
   "file_extension": ".py",
   "mimetype": "text/x-python",
   "name": "python",
   "nbconvert_exporter": "python",
   "pygments_lexer": "ipython3",
   "version": "3.11.0"
  },
  "orig_nbformat": 4
 },
 "nbformat": 4,
 "nbformat_minor": 2
}
