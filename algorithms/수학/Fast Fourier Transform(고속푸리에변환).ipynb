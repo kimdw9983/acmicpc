{
 "cells": [
  {
   "cell_type": "markdown",
   "metadata": {},
   "source": [
    "- https://www.teferi.net/ps/%EA%B3%A0%EC%86%8D_%ED%91%B8%EB%A6%AC%EC%97%90_%EB%B3%80%ED%99%98\n",
    "- https://infograph.tistory.com/331\n",
    "- https://supermemi.tistory.com/entry/Convolution%ED%95%A9%EC%84%B1%EA%B3%B1%EC%9D%98-%EC%9B%90%EB%A6%AC%EC%99%80-%EB%AA%A9%EC%A0%81"
   ]
  },
  {
   "cell_type": "markdown",
   "metadata": {},
   "source": [
    "### 합성곱(Convolution)\n",
    "- ![convolution.gif](assets/ftt-image-1.gif)\n",
    "- 함수를 서로 곱해서 합한 것을 합성곱이라고 한다."
   ]
  },
  {
   "cell_type": "markdown",
   "metadata": {},
   "source": [
    "### 구현(FTT)\n",
    "- 실수부의 값을 가져오기 위해서 conv의 값에는 항상 .real을 붙인뒤 round로 감싸야 한다."
   ]
  },
  {
   "cell_type": "code",
   "execution_count": null,
   "metadata": {},
   "outputs": [],
   "source": [
    "import cmath\n",
    "rt = [1]\n",
    "def fft(P):\n",
    "  n = len(P)\n",
    "  P = list(P)\n",
    "  assert n and (n - 1) & n == 0\n",
    "  while 2 * len(rt) < n:\n",
    "    root = cmath.exp(2j * cmath.pi / (4 * len(rt)))\n",
    "    rt.extend([r * root for r in rt])\n",
    "\n",
    "  k = n\n",
    "  while k > 1:\n",
    "    for i in range(n//k):\n",
    "      r = rt[i]\n",
    "      for j1 in range(i*k, i*k + k//2):\n",
    "        j2 = j1 + k//2\n",
    "        z = r * P[j2]\n",
    "        P[j2] = P[j1] - z\n",
    "        P[j1] = P[j1] + z\n",
    "    k //= 2\n",
    "  \n",
    "  rev = [0] * n\n",
    "  for i in range(1, n):\n",
    "    rev[i] = rev[i // 2] // 2 + (i & 1) * n // 2\n",
    "  return [P[r] for r in rev]\n",
    "\n",
    "def ifft(P):\n",
    "  n = len(P)\n",
    "  return fft([P[-i]/n for i in range(n)])\n",
    "\n",
    "def fft_conv(P, Q):\n",
    "  m = len(P) + len(Q) - 1\n",
    "  n = 1 << m.bit_length()\n",
    "\n",
    "  P = P + [0] * (n - len(P))\n",
    "  Q = Q + [0] * (n - len(Q))\n",
    "  P, Q = fft(P), fft(Q)\n",
    "\n",
    "  return ifft([p*q for p,q in zip(P, Q)])[:m]"
   ]
  },
  {
   "cell_type": "markdown",
   "metadata": {},
   "source": [
    "### 구현(NTT)\n",
    "- https://algoshitpo.github.io/2020/05/20/fft-ntt/\n",
    "- https://cubelover.tistory.com/12\n",
    "- 음수를 처리할 수 없다. 적절한 값으로 변환해야 한다.\n",
    "- 매직넘버 $p$ 와 $u$ 는 모듈러 연산에 필요한 원시근(primitive root) 값의 관계이다.\n",
    "  - p와 u의 조합으로 가능한 숫자들은 다음과 같다.\n",
    "  - 167772161 원시근 3, cycle 2^26\n",
    "  - 998244353 원시근 3, cycle 2^23\n",
    "  - 2013265921 원시근 31, cycle 2^27\n"
   ]
  },
  {
   "cell_type": "code",
   "execution_count": null,
   "metadata": {},
   "outputs": [],
   "source": [
    "p = 469762049\n",
    "def ntt(a, inv=False):\n",
    "  n = len(a)\n",
    "  j = 0\n",
    "  for i in range(1,n):\n",
    "    rev = n >> 1\n",
    "    while j >= rev:\n",
    "      j -= rev\n",
    "      rev >>= 1\n",
    "    j += rev\n",
    "    if i < j:\n",
    "      a[i], a[j] = a[j], a[i]\n",
    "\n",
    "  step = 2\n",
    "  while step <= n:\n",
    "    half = step // 2\n",
    "    u = pow(3,p//step,p)\n",
    "    if inv: u = pow(u,p-2,p)\n",
    "    for i in range(0, n, step):\n",
    "      w = 1\n",
    "      for j in range(i, i + half):\n",
    "        v = a[j + half] * w\n",
    "        a[j + half] = (a[j] - v)% p\n",
    "        a[j] += v\n",
    "        a[j] %= p\n",
    "        w *= u\n",
    "        w %= p\n",
    "    step <<= 1\n",
    "\n",
    "  if inv:\n",
    "    invn = p - (p-1) // n\n",
    "    for i in range(n):\n",
    "      a[i] = (a[i] * invn)%p\n",
    "  return a\n",
    "    \n",
    "def ntt_conv(a, b):\n",
    "  s = len(a) + len(b) - 1\n",
    "  n = 1 << s.bit_length()\n",
    "  a += [0 for _ in range(n - len(a))]\n",
    "  b += [0 for _ in range(n - len(b))]\n",
    "  ntt(a)\n",
    "  ntt(b)\n",
    "  for i in range(n):\n",
    "    a[i] *= b[i]\n",
    "  ntt(a,True)\n",
    "  return a"
   ]
  }
 ],
 "metadata": {
  "language_info": {
   "name": "python"
  },
  "orig_nbformat": 4
 },
 "nbformat": 4,
 "nbformat_minor": 2
}
