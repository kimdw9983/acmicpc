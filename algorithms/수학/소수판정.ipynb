{
 "cells": [
  {
   "attachments": {},
   "cell_type": "markdown",
   "metadata": {},
   "source": [
    "# 쓸만한 소수들"
   ]
  },
  {
   "cell_type": "code",
   "execution_count": null,
   "metadata": {},
   "outputs": [],
   "source": [
    "1234567891\n",
    "1999\n",
    "4447\n",
    "5167\n",
    "142857"
   ]
  },
  {
   "attachments": {},
   "cell_type": "markdown",
   "metadata": {},
   "source": [
    "# 소수 판별(Trial Division)\n",
    "- $\\Omicron(\\sqrt{n})$"
   ]
  },
  {
   "cell_type": "code",
   "execution_count": null,
   "metadata": {},
   "outputs": [],
   "source": [
    "import math\n",
    "def is_prime(n):\n",
    "  if n == 2 or n == 3: return True\n",
    "  if n < 2 or n % 2 == 0: return False\n",
    "  if n < 9: return True\n",
    "  if n % 3 == 0: return False\n",
    "  r = math.isqrt(n)\n",
    "  f = 5\n",
    "  while f <= r:\n",
    "    if n % f == 0: return False\n",
    "    if n % (f + 2) == 0: return False\n",
    "    f += 6\n",
    "  return True"
   ]
  },
  {
   "attachments": {},
   "cell_type": "markdown",
   "metadata": {},
   "source": [
    "# 소수 판별(miller rabin)\n",
    "- 확률적인 판정 방법이므로 Base의 설정이 중요하다.\n",
    "  - 결정론적으로 판별하기 위한 Base Cheet sheet http://miller-rabin.appspot.com/\n",
    "- n이 $10^6$를 넘어갈 때 부터 사용한다. "
   ]
  },
  {
   "cell_type": "code",
   "execution_count": 1,
   "metadata": {},
   "outputs": [],
   "source": [
    "def miller(n, a) : \n",
    "  if not a % n : return True\n",
    "  k = n-1\n",
    "  while True :\n",
    "    tmp = pow(a,k,n)\n",
    "    if tmp == n-1 : return True\n",
    "    if k%2 : return tmp == 1 or tmp == n-1\n",
    "    k //= 2"
   ]
  },
  {
   "attachments": {},
   "cell_type": "markdown",
   "metadata": {},
   "source": [
    "##### n < $2^{32}$ 일 경우 \n",
    "- n이 4,759,123,141보다 작을 때 사용한다."
   ]
  },
  {
   "cell_type": "code",
   "execution_count": 4,
   "metadata": {},
   "outputs": [],
   "source": [
    "def is_prime(a) : \n",
    "  for n in (2,7,61) :\n",
    "    if not miller(a, n) : return False\n",
    "  return True"
   ]
  },
  {
   "attachments": {},
   "cell_type": "markdown",
   "metadata": {},
   "source": [
    "##### $n < 2^{64}$일 경우"
   ]
  },
  {
   "cell_type": "code",
   "execution_count": 5,
   "metadata": {},
   "outputs": [],
   "source": [
    "def is_prime(a) :\n",
    "  result = True\n",
    "  for n in (2, 325, 9375, 28178, 450775, 9780504, 1795265022) : \n",
    "    result &= miller(a, n)\n",
    "    if not result : break\n",
    "  return result"
   ]
  },
  {
   "attachments": {},
   "cell_type": "markdown",
   "metadata": {},
   "source": [
    "# 소수 목록 구하기\n",
    "- 기본적으로 에라토스테네스를 돌린다. 그게 실질적인 구현상 빨리 돈다.\n",
    "- 실질적으로 N이 $10^7$ 정도까지만 돌릴 수 있다.\n",
    "\n",
    "##### 에라토스테네스의 체(Sieve of Eratosthenes)\n",
    "- [증명](https://cp-algorithms.com/algebra/sieve-of-eratosthenes.html)\n",
    "- 시간복잡도 $\\Omicron(n \\log n \\log n)$\n",
    "- 공간복잡도 $\\Omicron(n)$"
   ]
  },
  {
   "cell_type": "code",
   "execution_count": 7,
   "metadata": {},
   "outputs": [],
   "source": [
    "def eratos(n):\n",
    "  p = [False] * 2 + [True for _ in range(n-1)]\n",
    "  r = 2\n",
    "  while (r * r <= n):\n",
    "    if p[r]:\n",
    "      for i in range(r**2, n+1, r):\n",
    "        p[i] = False\n",
    "    r += 1\n",
    "  return p"
   ]
  },
  {
   "attachments": {},
   "cell_type": "markdown",
   "metadata": {},
   "source": [
    "#### set으로 출력"
   ]
  },
  {
   "cell_type": "code",
   "execution_count": 1,
   "metadata": {},
   "outputs": [],
   "source": [
    "import math\n",
    "def eratos(n):\n",
    "  if n < 2: return set()\n",
    "  n += 1\n",
    "  P = [1] * (n//2)\n",
    "  for i in range(3, math.isqrt(n) + 1, 2):\n",
    "    if P[i//2]: P[i**2//2::i] = [0]*((n-i**2-1)//(2*i) + 1)\n",
    "\n",
    "  return set([2] + [2*i+1 for i in range(1, n//2) if P[i]])  "
   ]
  }
 ],
 "metadata": {
  "kernelspec": {
   "display_name": "Python 3",
   "language": "python",
   "name": "python3"
  },
  "language_info": {
   "codemirror_mode": {
    "name": "ipython",
    "version": 3
   },
   "file_extension": ".py",
   "mimetype": "text/x-python",
   "name": "python",
   "nbconvert_exporter": "python",
   "pygments_lexer": "ipython3",
   "version": "3.11.0"
  },
  "orig_nbformat": 4
 },
 "nbformat": 4,
 "nbformat_minor": 2
}
