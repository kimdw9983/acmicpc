{
 "cells": [
  {
   "cell_type": "markdown",
   "metadata": {},
   "source": [
    "### 근의 공식\n",
    "- $ax^2+bx+c=0$ 일 때, $x=\\frac{-b\\pm\\sqrt{b^2-4ac}}{2a}$"
   ]
  },
  {
   "cell_type": "markdown",
   "metadata": {},
   "source": [
    "### 두 교점의 x좌표\n",
    "- https://gaussian37.github.io/math-algorithm-intersection_point/"
   ]
  },
  {
   "cell_type": "code",
   "execution_count": null,
   "metadata": {},
   "outputs": [],
   "source": [
    "def cross(a: tuple[int, int], b: tuple[int, int]):\n",
    "  return (b[1] - a[1]) / (a[0] - b[0])"
   ]
  },
  {
   "cell_type": "markdown",
   "metadata": {},
   "source": [
    "### 직선의 방정식\n",
    "- 기울기가 $m$ 이고, $y$ 절편이 $b$ 인 직선의 방정식\n",
    "  - $y=mx+b$\n",
    "- 기울기가 $m$ 이고, 점 $(x_1, y_1)$ 을 지나는 직선의 방정식\n",
    "  - $y-y_1=m(x-x_1)$\n",
    "- 두 점 $(x_1, y_1), (x_2, y_2)$ 에 대해\n",
    "  - $y-y_1 = \\frac{y_2-y_1}{x_2-x_1}(x-x_1), (x_1 \\neq x_2)$\n",
    "    - $y-y_1 = \\frac{dy}{dx}(x-x_1), (x_1 \\neq x_2)$\n",
    "  - $x = x_1$, 단 ($x_1 = x_2$) "
   ]
  }
 ],
 "metadata": {
  "language_info": {
   "name": "python"
  },
  "orig_nbformat": 4
 },
 "nbformat": 4,
 "nbformat_minor": 2
}
