{
 "cells": [
  {
   "cell_type": "markdown",
   "metadata": {},
   "source": [
    "### 근의 공식\n",
    "- $ax^2+bx+c=0$ 일 때, $x=\\frac{-b\\pm\\sqrt{b^2-4ac}}{2a}$"
   ]
  }
 ],
 "metadata": {
  "language_info": {
   "name": "python"
  },
  "orig_nbformat": 4
 },
 "nbformat": 4,
 "nbformat_minor": 2
}
