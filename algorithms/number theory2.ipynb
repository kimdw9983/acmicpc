{
 "cells": [
  {
   "attachments": {},
   "cell_type": "markdown",
   "metadata": {},
   "source": [
    "### 페르마의 소정리\n",
    "- $p$가 소수이고, $a$가 정수일 때 다음을 만족한다.\n",
    "  - $a^p \\equiv a \\pmod p$\n",
    "- 위 식의 양변을 a로 나누면\n",
    "  - $a^{p-1} \\equiv 1 \\pmod p (a ≠ 0)$ \n",
    "- 한번 더 나누면 분모에 위치한 수를 분자로 바꿀 수 있다.\n",
    "  - $a^{p-2} \\equiv \\frac{1}{a}\\pmod p (a ≠ 0)$\n"
   ]
  },
  {
   "attachments": {},
   "cell_type": "markdown",
   "metadata": {},
   "source": [
    "### 뤼카의 정리"
   ]
  },
  {
   "attachments": {},
   "cell_type": "markdown",
   "metadata": {},
   "source": [
    "### 중국인의 나머지 정리(CRT)\n",
    "- 서로소인 n개의 수에 대해 일정한 나머지를 만족하는 수를 찾는 문제\n",
    "- n개의 최소공배수에 일정한 나머지를 더한 값으로 나타난다."
   ]
  },
  {
   "cell_type": "code",
   "execution_count": null,
   "metadata": {},
   "outputs": [],
   "source": [
    "import math\n",
    "import operator as op\n",
    "from functools import reduce\n",
    "\n",
    "lcm = lambda a, b: a * b // math.gcd(a, b)\n",
    "\n",
    "def chinese_remainder(a, p):\n",
    "  \"\"\"returns x s.t. x = a[i] (mod p[i]) where p[i] is prime for all i\"\"\"\n",
    "  prod = reduce(op.mul, p, 1)\n",
    "  x = [prod // pi for pi in p]\n",
    "  return sum(a[i] * pow(x[i], p[i] - 2, p[i]) * x[i] for i in range(len(a))) % prod\n",
    "\n",
    "\n",
    "def extended_gcd(a, b):\n",
    "  \"\"\"returns gcd(a, b), s, r s.t. a * s + b * r == gcd(a, b)\"\"\"\n",
    "  s, old_s = 0, 1\n",
    "  r, old_r = b, a\n",
    "  while r:\n",
    "    q = old_r // r\n",
    "    old_r, r = r, old_r - q * r\n",
    "    old_s, s = s, old_s - q * s\n",
    "  return old_r, old_s, (old_r - old_s * a) // b if b else 0\n",
    "\n",
    "\n",
    "def composite_crt(b, m):\n",
    "  \"\"\"returns x s.t. x = b[i] (mod m[i]) for all i\"\"\"\n",
    "  x, m_prod = 0, 1\n",
    "  for bi, mi in zip(b, m):\n",
    "    g, s, _ = extended_gcd(m_prod, mi)\n",
    "    if ((bi - x) % mi) % g:\n",
    "      return None\n",
    "    x += m_prod * (s * ((bi - x) % mi) // g)\n",
    "    m_prod = (m_prod * mi) // math.gcd(m_prod, mi)\n",
    "  return x % m_prod"
   ]
  },
  {
   "attachments": {},
   "cell_type": "markdown",
   "metadata": {},
   "source": [
    "### 확장 유클리드 알고리즘"
   ]
  },
  {
   "attachments": {},
   "cell_type": "markdown",
   "metadata": {},
   "source": [
    "### 밀러-라빈 소수 판별법"
   ]
  },
  {
   "attachments": {},
   "cell_type": "markdown",
   "metadata": {},
   "source": [
    "### 폴라드 로 소인수 분해"
   ]
  }
 ],
 "metadata": {
  "language_info": {
   "name": "python"
  },
  "orig_nbformat": 4
 },
 "nbformat": 4,
 "nbformat_minor": 2
}
