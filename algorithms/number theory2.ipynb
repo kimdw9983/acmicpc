{
 "cells": [
  {
   "attachments": {},
   "cell_type": "markdown",
   "metadata": {},
   "source": [
    "### 페르마의 소정리\n",
    "- $p$가 소수이고, $a$가 정수일 때 다음을 만족한다.\n",
    "  - $a^p \\equiv a \\pmod p$\n",
    "- 위 식의 양변을 a로 나누면\n",
    "  - $a^{p-1} \\equiv 1 \\pmod p (a ≠ 0)$ \n",
    "- 한번 더 나누면 분모에 위치한 수를 분자로 바꿀 수 있다.\n",
    "  - $a^{p-2} \\equiv \\frac{1}{a}\\pmod p (a ≠ 0)$\n"
   ]
  },
  {
   "attachments": {},
   "cell_type": "markdown",
   "metadata": {},
   "source": [
    "### 뤼카의 정리"
   ]
  },
  {
   "attachments": {},
   "cell_type": "markdown",
   "metadata": {},
   "source": [
    "### 중국인의 나머지 정리(CRT)"
   ]
  },
  {
   "attachments": {},
   "cell_type": "markdown",
   "metadata": {},
   "source": [
    "### 확장 유클리드 알고리즘"
   ]
  },
  {
   "attachments": {},
   "cell_type": "markdown",
   "metadata": {},
   "source": [
    "### 밀러-라빈 소수 판별법"
   ]
  },
  {
   "attachments": {},
   "cell_type": "markdown",
   "metadata": {},
   "source": [
    "### 폴라드 로 소인수 분해"
   ]
  }
 ],
 "metadata": {
  "language_info": {
   "name": "python"
  },
  "orig_nbformat": 4
 },
 "nbformat": 4,
 "nbformat_minor": 2
}
