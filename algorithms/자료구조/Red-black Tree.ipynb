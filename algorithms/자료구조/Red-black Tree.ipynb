{
 "cells": [
  {
   "cell_type": "markdown",
   "metadata": {},
   "source": [
    "- https://m.blog.naver.com/zbqmgldjfh/222453153459"
   ]
  },
  {
   "cell_type": "markdown",
   "metadata": {},
   "source": [
    "### Red-black Tree\n",
    "- ![image.png](./assets/rbt-1.png)\n",
    "- 이진탐색트리에 추가적인 제약을 통해 균형을 맞추고, 새로운 값이 들어올 때에도 균형을 맞춰가는 트리.\n",
    "- std:set, std:map의 기반이 되는 자료구조.\n",
    "- 다음과 같은 성질을 만족한다.\n",
    "  1. 각 노드는 red 또는 black이라는 색깔을 갖는다.\n",
    "  2. 모든 리프 노드(NIL)는 black이다.\n",
    "  3. red 노드는 red 자식을 갖지 않는다.\n",
    "      - 모든 새로운 노드는 red 자식으로 간주하고, 이를 위반할 때 적절히 회전시켜서 위반을 해결한다.\n",
    "  4. 특정 노드에서 하위 NIL 노드까지 모든 경로는 동일한 수의 블랙노드를 통과한다.\n",
    "      - 모든 리프노드에서 black depth가 같다.\n",
    "  5. 결과적으로 각 노드는 하나의 red 자식을 갖게 된다.\n",
    "      - 만약 어떤 노드 N의 자식이 black이였다면, 그 자식의 NIL 자손들이 N의 NIL 자식들과 다른 수의 블랙노드를 통과하게 되므로 4를 만족하지 못한다.\n",
    "- 예시로, black 노드로만 이루어진 완전이진트리는 레드블랙트리이다."
   ]
  },
  {
   "cell_type": "markdown",
   "metadata": {},
   "source": [
    "### 노드의 삽입\n",
    "- Grandparent, parent, node의 관계를 가정하자. 각각을 $G, P, N$ 이라고 하고, $G$ 의 또다른 자식 uncle을 $U$ 라고 하자.\n",
    "  - ![image.png](./assets/rbt-2.png)\n",
    "- 삽입할 노드는 항상 red로 삽입하게 되는데, $G$ 가 red라면 double red가 발생하게 된다.\n",
    "- 이를 해결하기 위해 $U$ 의 색깔에 따라 다음을 수행한다\n",
    "  - ![image.png](./assets/rbt-3.png)\n",
    "  - $U$ 가 black이라면 restructuring 을 수행한다\n",
    "  - $U$ 가 red라면 recoloring 을 수행한다\n"
   ]
  }
 ],
 "metadata": {
  "language_info": {
   "name": "python"
  }
 },
 "nbformat": 4,
 "nbformat_minor": 2
}
