{
 "cells": [
  {
   "cell_type": "markdown",
   "metadata": {},
   "source": [
    "### Sqaure root decomposition(평방분할)\n",
    "- 값 $N$ 개를 $\\Omicron(\\sqrt N)$ 개의 연속한 구간들로 나누어서 관리하는 방법\n",
    "- 각 구간에 속한 값들도 $\\Omicron(\\sqrt N)$ 개로 나눈다. 즉, (구간 수) * (구간 내 원소 수) = $\\sqrt N * \\sqrt N = N$ 이다.\n",
    "- N이 제곱수가 아닌 경우 적당히 올림/내림해서 쓴다."
   ]
  },
  {
   "cell_type": "markdown",
   "metadata": {},
   "source": [
    "### Mo's algorithm\n",
    "- 평방분할을 구간 쿼리에 적용하는 방법\n",
    "- 배열의 업데이트가 없고, 구간 쿼리만 존재하는 경우에 사용할 수 있다.\n",
    "- 쿼리를 정렬한 뒤, 쿼리의 구간을 옮겨가며 쿼리를 처리한다.\n",
    "  - 쿼리를 순서대로 처리하지 않기 때문에 오프라인 쿼리이다.\n",
    "- 구간 쿼리의 처리시간을 $T(N)$, 쿼리의 개수가 $M$ 일때 $\\Omicron(M + T(N) * N \\sqrt N)$ 의 시간복잡도를 가진다."
   ]
  },
  {
   "cell_type": "markdown",
   "metadata": {},
   "source": [
    "#### 11659 구간 합 구하기 4\n",
    "- Mo's는 구조가 여기서 크게 달라지지 않는다."
   ]
  },
  {
   "cell_type": "code",
   "execution_count": null,
   "metadata": {},
   "outputs": [],
   "source": [
    "import io, os, math, sys\n",
    "input=io.BytesIO(os.read(0,os.fstat(0).st_size)).readline\n",
    "\n",
    "def sol() :\n",
    "  N, M = map(int, input().split())\n",
    "  L = [*map(int, input().split())]\n",
    "\n",
    "  sqrtN = math.isqrt(N)\n",
    "  Q = []\n",
    "  for i in range(M):\n",
    "    s, e = map(int, input().split())\n",
    "    Q.append((s-1, e, i))\n",
    "  Q.sort(key=lambda x: (x[0] // sqrtN, x[1])) #쿼리를 평방분할한다.\n",
    "\n",
    "  #첫번째 쿼리를 직접 구한다\n",
    "  acc = 0\n",
    "  res = [0] * M\n",
    "  s, e = Q[0][0], Q[0][1]\n",
    "  for i in range(s, e):\n",
    "    acc += L[i]\n",
    "  res[Q[0][2]] = acc\n",
    "\n",
    "  #바로 이전 쿼리의 결과를 이용해서 새로운 쿼리를 구한다.\n",
    "  for ns, ne, idx in Q[1:]:\n",
    "    while ns < s: #이전쿼리보다 s가 작으면 왼쪽으로 구간을 확장하면서 더한다.\n",
    "      s -= 1\n",
    "      acc += L[s]\n",
    "    \n",
    "    while e < ne: #이전쿼리보다 e가 크면 오른쪽으로 구간을 확장하면서 더한다.\n",
    "      acc += L[e]\n",
    "      e += 1\n",
    "    \n",
    "    while ns > s: #이전쿼리보다 s가 크면 왼쪽으로 구간을 축소하면서 뺀다.\n",
    "      acc -= L[s]\n",
    "      s += 1\n",
    "    \n",
    "    while e > ne: #이전쿼리보다 e가 작으면 오른쪽으로 구간을 축소하면서 뺀다.\n",
    "      e -= 1\n",
    "      acc -= L[e]\n",
    "    \n",
    "    res[idx] = acc #쿼리의 결과를 저장한다.\n",
    "  \n",
    "  sys.stdout.write('\\n'.join(map(str, res)))\n",
    "\n",
    "sol()"
   ]
  },
  {
   "cell_type": "markdown",
   "metadata": {},
   "source": [
    "- 쿼리를 정렬하는데에 $\\Omicron(M \\log M)$ 의 시간이 소요된다.\n",
    "- 이전 쿼리로부터 영역을 확장해야 하므로, 첫번째 쿼리는 직접 구해준다.\n",
    "  - $\\Omicron(N)$\n",
    "- 구간 쿼리의 처리 시간은 슬라이딩 윈도우로 구할 수 있다.\n",
    "  - $T(N) = \\Omicron(1)$\n",
    "- 이제 각 평방분할이 어떻게 되는지 살펴보자.\n",
    "  - 어떤 쿼리를 $\\sqrt N$ 개의 블럭으로 평방분할 했을 때, 블럭 내에있는 $\\sqrt N$ 개의 쿼리의 구간 $Q_i = [(s_1, e_1), (s_2, e_2), ... (s_n, e_n)]$ 에 대하여,\n",
    "  1. 이전 쿼리와 같은 블록($\\frac {s}{\\sqrt N}$) 에 속하는 경우\n",
    "      - 이전 쿼리와 $s$ 의 차이는 최대 $\\sqrt N$ 이다. 따라서 총합 $\\Omicron(N \\sqrt N)$ 만큼 $s$ 가 변화한다.\n",
    "      - 같은 블럭에 속해있는 한, $e$ 는 증가하는 순으로만 정렬돼있으므로, 같은 블럭내의 최댓값 $\\max(Q.e)$ 에서 최솟값 $\\min(Q.e)$ 의 차이만큼만 움직이게 된다. 즉 단조 증가한다.\n",
    "        - 한 블럭 $Q$ 에서 $e$ 는 최대 $N$ 만큼만 변화한다.\n",
    "      - 이러한 블럭이 $\\Omicron(\\sqrt N)$ 개 있으므로 총합 $\\Omicron(N \\sqrt N)$ 만큼 $e$ 가 변화한다.\n",
    "  2. 이전 쿼리와 블럭이 다른 경우\n",
    "      - 이 경우 $s$ 는 최대 $N$ 만큼 변화한다.\n",
    "      - 쿼리를 $\\sqrt N$ 개의 블럭으로 분할했으므로, 이런 경우는 최대 $\\Omicron(\\sqrt N)$ 번밖에 일어나지 않는다.\n",
    "        - 서로다른 블럭의 index 차이가 $\\Omicron(\\sqrt N)$ 이므로, 전체 총합은 $\\Omicron(N \\sqrt N)$ 이다.\n",
    "      - $e$ 는 $\\Omicron(N)$ 만큼 바뀌고, 이 경우는 $\\Omicron(\\sqrt N)$ 번 일어난다.\n",
    "        - 전체 총합은 $\\Omicron(N \\sqrt N)$ 이다.\n",
    "  - $s, e$ 의 변화량의 총합은 $\\Omicron(N \\sqrt N)$ 이다.\n",
    "    - 따라서 쿼리를 전부 처리하는데 걸리는 시간은 $\\Omicron(M + N \\sqrt N)$ 이다.\n",
    "- 전체 시간복잡도는 $\\Omicron(M \\log M + N \\sqrt N)$ 이다."
   ]
  },
  {
   "cell_type": "markdown",
   "metadata": {},
   "source": [
    "### 문제 유형\n",
    "- 구분되는 수의 개수를 세기\n",
    "- 정확히 k번 등장하는 수의 개수를 세기"
   ]
  }
 ],
 "metadata": {
  "language_info": {
   "name": "python"
  },
  "orig_nbformat": 4
 },
 "nbformat": 4,
 "nbformat_minor": 2
}
