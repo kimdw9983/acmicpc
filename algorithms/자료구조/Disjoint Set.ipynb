{
 "cells": [
  {
   "cell_type": "markdown",
   "metadata": {},
   "source": [
    "### 분리집합(Distjoint Set)\n",
    "- ![UnionFindKruskalDemo.gif](assets/disjoint-1.gif)\n",
    "- 서로소 집합이라고도 불리며, 공통 원소가 없는 두 집합을 의미한다.\n",
    "- union과 find 2개의 연산으로 조작할 수 있다.\n",
    "  - union: 2개의 원소가 포함된 집합을 하나의 집합으로 합치는 연산\n",
    "  - find: 특정 원소가 속한 집합이 어떤 집합인지 알려주는 연산 \n",
    "- 두가지 연산은 거의 $O(1)$에 가능하다.\n",
    "  - 기술적으로는 아커만함수 $O(\\alpha(N))$이지만, $\\alpha(N)$은 아주 느리게 증가하기 때문에 $O(1)$로 간주한다.\n",
    "- 구현상, 각 원소가 어느 집합에 속해 있는지를 저장하는 배열을 이용하여 집합을 표현한다."
   ]
  },
  {
   "cell_type": "markdown",
   "metadata": {},
   "source": [
    "### 경로 압축(Path Compression)\n",
    "- 만약 입력이 linked list/치우쳐진 트리와 같은 형태로 주어진다면, find 연산은 $O(N)$이 걸리게 될 것이다. 이를 해결하기 위해 경로 압축을 사용한다.\n",
    "- find 연산을 실행한 뒤에, 해당 노드가 속한 집합의 루트 노드를 부모 노드로 바로 갱신한다."
   ]
  },
  {
   "cell_type": "markdown",
   "metadata": {},
   "source": [
    "### Union by Rank(Size)\n",
    "- union 연산을 실행할 때, 두 집합의 크기를 비교하여 더 작은 쪽을 큰 쪽에 붙이는 방식이다.\n",
    "- 이를 통해 find 연산의 시간 복잡도를 $O(\\log N)$으로 줄일 수 있다.\n",
    "- Disjoint set상의 일부 정보를 손실시킨다. 예를들어 union 한 순서에 따라 부모의 정점 번호가 자식의 정점번호보다 더 작은 것이 선택될 수 있다.\\\n",
    "만약 그러한 부분이 중요한 문제라면 이 최적화가 적용되지 않은 코드로 시도해보자.\n",
    "  - 이러한 내용이 중요하게 여겨졌던 문제: 16566(카드 게임)"
   ]
  },
  {
   "cell_type": "markdown",
   "metadata": {},
   "source": [
    "### 사이클 판별\n",
    "- union-find 알고리즘은 그래프 내에서의 사이클을 판별할 때 사용할 수 있다.\n",
    "- 간선을 하나씩 확인하며, 간선의 두 노드가 서로 같은 집합에 속하는지 확인한다.\n",
    "  - 서로 다른 집합에 속한다면, 두 노드를 union 연산을 실행한다.\n",
    "  - 서로 같은 집합에 속한다면, 사이클이 발생한 것이다."
   ]
  },
  {
   "cell_type": "markdown",
   "metadata": {},
   "source": [
    "### 유니온 파인드"
   ]
  },
  {
   "cell_type": "code",
   "execution_count": null,
   "metadata": {},
   "outputs": [],
   "source": [
    "class UF:\n",
    "  def __init__(self, n):\n",
    "    self.p = list(range(n))\n",
    "\n",
    "  def find(self, a):\n",
    "    a_ = a\n",
    "    while a != self.p[a]:\n",
    "      a = self.p[a]\n",
    "    while a_ != a:\n",
    "      self.p[a_], a_ = a, self.p[a_]\n",
    "    return a\n",
    "\n",
    "  def merge(self, a, b):\n",
    "    self.p[self.find(b)] = self.find(a)"
   ]
  },
  {
   "cell_type": "markdown",
   "metadata": {},
   "source": [
    "### 분리집합 유니온\n",
    "- reminder: `union(a, b)` : `b`의 부모를 `a`로 설정한다. 즉, `a`가 더 높은 노드가 된다.\n",
    "- `if self.s[a] < self.s[b]:` 의 부분에서 Union by size 최적화가 적용돼있다."
   ]
  },
  {
   "cell_type": "code",
   "execution_count": null,
   "metadata": {},
   "outputs": [],
   "source": [
    "class DSU:\n",
    "  def __init__(self, n):\n",
    "    self.P = list(range(n))\n",
    "    self.s = [1] * n\n",
    "    # self.ns = n\n",
    "\n",
    "  def find(self, a):\n",
    "    _a = a\n",
    "    while a != self.P[a]:\n",
    "      a = self.P[a]\n",
    "    while _a != a:\n",
    "      self.P[_a], _a = a, self.P[_a]\n",
    "    return a\n",
    "\n",
    "  def union(self, a, b):\n",
    "    a, b = self.find(a), self.find(b)\n",
    "    if a != b:\n",
    "      if self.s[a] < self.s[b]:\n",
    "        a, b = b, a\n",
    "\n",
    "      # self.ns -= 1\n",
    "      self.P[b] = a\n",
    "      self.s[a] += self.s[b]"
   ]
  }
 ],
 "metadata": {
  "language_info": {
   "name": "python"
  },
  "orig_nbformat": 4
 },
 "nbformat": 4,
 "nbformat_minor": 2
}
