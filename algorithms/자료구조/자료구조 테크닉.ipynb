{
 "cells": [
  {
   "cell_type": "markdown",
   "metadata": {},
   "source": [
    "- 유명한 well-known, 혹은 자료구조 패턴중에서 그 심도가 깊거나 응용이 많은경우 따로 파일을 만들어서 정리한다. 그 외의 테크닉 및 설계법은 이곳에 정리한다.\n"
   ]
  },
  {
   "cell_type": "markdown",
   "metadata": {},
   "source": [
    "### 설계 패턴(세그먼트 트리)\n",
    "- 세그먼트 트리로 원소의 등장횟수를 저장하기"
   ]
  },
  {
   "cell_type": "markdown",
   "metadata": {},
   "source": [
    "### 테크닉 일람\n",
    "- Counting Inversion\n",
    "- 세그먼트 트리를 이용한 스위핑\n",
    "- 연속 구간합의 최댓값(금광 세그)\n",
    "  - https://jungmonster.tistory.com/126"
   ]
  }
 ],
 "metadata": {
  "language_info": {
   "name": "python"
  }
 },
 "nbformat": 4,
 "nbformat_minor": 2
}
