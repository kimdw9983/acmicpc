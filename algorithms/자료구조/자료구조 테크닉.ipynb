{
 "cells": [
  {
   "cell_type": "markdown",
   "metadata": {},
   "source": [
    "- 유명한 well-known, 혹은 자료구조 패턴중에서 그 심도가 깊거나 응용이 많은경우 따로 파일을 만들어서 정리한다. 그 외의 테크닉 및 설계법은 이곳에 정리한다.\n"
   ]
  },
  {
   "cell_type": "markdown",
   "metadata": {},
   "source": [
    "### 설계 패턴(세그먼트 트리)\n",
    "- 세그먼트 트리로 원소의 등장횟수를 저장하기"
   ]
  },
  {
   "cell_type": "markdown",
   "metadata": {},
   "source": [
    "### 테크닉 일람\n",
    "- Counting Inversion\n",
    "- 세그먼트 트리를 이용한 스위핑\n",
    "- 최대 연속합(금광 세그)\n",
    "  - https://jungmonster.tistory.com/126"
   ]
  },
  {
   "cell_type": "markdown",
   "metadata": {},
   "source": [
    "### MEX 구하기\n",
    "- MEX는 다음과 같이 정의된다.\n",
    "  - $\\text{mex}(L) = \\min\\{m \\in \\mathbb{N} \\mid m \\notin L\\}$\n",
    "  - 문제에 따라서 최솟값이 0또는 1일 수 있는 점은 유의.\n",
    "- 세그먼트 트리와 Trie로 구현할 수 있다.\n",
    "  - Trie로는 그냥 쿼리와 다를바가 없으므로 $O(S)$ 이 걸린다. 이때 $S$ 는 $N$ 을 2진법으로 표현했을 때의 길이.\n",
    "  - (레이지)세그먼트 트리는 $O(\\log N)$ 에 구할 수 있다.\n",
    "- 원리는 서브노드 트리의 개수를 세어두고, greedy하게 자식을 선택하는 것.\n",
    "  - 루트 노드부터 시작해서 좌측 -> 우측 순서로 자식을 살펴본다. \n",
    "  - 이때, 좌측 노드의 서브트리의 개수가 꽉차지 않은 상태라면 좌측을 선택한다. 그곳에 MEX가 존재한다는 뜻이니.\n",
    "  - 그렇지 않다면, 좌측노드의 서브트리의 개수를 누적 시킨 뒤, 우측을 선택한다."
   ]
  },
  {
   "cell_type": "markdown",
   "metadata": {},
   "source": [
    "### 구현 (Trie)\n",
    "- 자세한건 16902(mex) 참고"
   ]
  },
  {
   "cell_type": "code",
   "execution_count": null,
   "metadata": {},
   "outputs": [],
   "source": [
    "def query(self, n):\n",
    "  cur = self.root\n",
    "  res = 0\n",
    "  for i in reversed(range(self.depth)) :\n",
    "    v = (n >> i) & 1\n",
    "    if not cur.child[v] :\n",
    "      break\n",
    "    elif cur.child[v].n == (1 << i) :\n",
    "      cur = cur[not v] \n",
    "      res += 1 << i\n",
    "    else :\n",
    "      cur = cur[v]\n",
    "  return res"
   ]
  },
  {
   "cell_type": "markdown",
   "metadata": {},
   "source": [
    "### 구현(Lazy segment tree)\n",
    "- 자세한건 16910(mex와 쿼리) 참고"
   ]
  },
  {
   "cell_type": "code",
   "execution_count": null,
   "metadata": {},
   "outputs": [],
   "source": [
    "def mex(self):\n",
    "  res = 0\n",
    "  i = 1\n",
    "  while i < self.size:\n",
    "    self._apply(i)\n",
    "    if self.seg[i * 2] < self.cnt[i * 2]:\n",
    "      i = i * 2\n",
    "    else:\n",
    "      res += self.cnt[i * 2]\n",
    "      i = i * 2 + 1\n",
    "  return res"
   ]
  }
 ],
 "metadata": {
  "language_info": {
   "name": "python"
  }
 },
 "nbformat": 4,
 "nbformat_minor": 2
}
