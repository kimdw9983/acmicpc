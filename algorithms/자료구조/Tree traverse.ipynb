{
 "cells": [
  {
   "cell_type": "markdown",
   "metadata": {},
   "source": [
    "### 순회 방법\n",
    "- 전위 순회: `root -> left -> right`\n",
    "- 중위 순회: `left -> root -> right`\n",
    "- 후위 순회: `left -> right -> root`\n",
    "- 레벨 순회: `root -> root.left -> root.right -> root.left.left -> root.left.right -> root.right.left -> root.right.right -> ...`"
   ]
  }
 ],
 "metadata": {
  "language_info": {
   "name": "python"
  }
 },
 "nbformat": 4,
 "nbformat_minor": 2
}
