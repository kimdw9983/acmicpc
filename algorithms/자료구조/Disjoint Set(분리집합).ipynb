{
 "cells": [
  {
   "cell_type": "markdown",
   "metadata": {},
   "source": [
    "### 분리집합(Distjoint Set)\n",
    "- ![UnionFindKruskalDemo.gif](assets/disjoint-1.gif)\n",
    "- 서로소 집합이라고도 불리며, 공통 원소가 없는 두 집합을 의미한다.\n",
    "- union과 find 2개의 연산으로 조작할 수 있다.\n",
    "  - union: 2개의 원소가 포함된 집합을 하나의 집합으로 합치는 연산\n",
    "  - find: 특정 원소가 속한 집합이 어떤 집합인지 알려주는 연산 \n",
    "- 두가지 연산은 거의 $O(1)$에 가능하다.\n",
    "  - 기술적으로는 아커만함수 $O(\\alpha(N))$이지만, $\\alpha(N)$은 아주 느리게 증가하기 때문에 $O(1)$로 간주한다.\n",
    "- 구현상, 각 원소가 어느 집합에 속해 있는지를 저장하는 배열을 이용하여 집합을 표현한다."
   ]
  },
  {
   "cell_type": "markdown",
   "metadata": {},
   "source": [
    "### 경로 압축(Path Compression)\n",
    "- 만약 입력이 linked list/치우쳐진 트리와 같은 형태로 주어진다면, find 연산은 $O(N)$이 걸리게 될 것이다. 이를 해결하기 위해 경로 압축을 사용한다.\n",
    "- find 연산을 실행한 뒤에, 해당 노드가 속한 집합의 루트 노드를 부모 노드로 바로 갱신한다."
   ]
  },
  {
   "cell_type": "markdown",
   "metadata": {},
   "source": [
    "### Union by Rank/Size \n",
    "- union 연산을 실행할 때, 두 집합의 크기를 비교하여 더 작은 쪽을 큰 쪽에 붙이는 방식이다.\n",
    "- 이를 통해 find 연산의 시간 복잡도를 $O(\\log N)$으로 줄일 수 있다."
   ]
  },
  {
   "cell_type": "markdown",
   "metadata": {},
   "source": [
    "### 사이클 판별\n",
    "- union-find 알고리즘은 그래프 내에서의 사이클을 판별할 때 사용할 수 있다.\n",
    "- 간선을 하나씩 확인하며, 간선의 두 노드가 서로 같은 집합에 속하는지 확인한다.\n",
    "  - 서로 다른 집합에 속한다면, 두 노드를 union 연산을 실행한다.\n",
    "  - 서로 같은 집합에 속한다면, 사이클이 발생한 것이다."
   ]
  },
  {
   "cell_type": "markdown",
   "metadata": {},
   "source": [
    "### 유니온 파인드"
   ]
  },
  {
   "cell_type": "code",
   "execution_count": null,
   "metadata": {},
   "outputs": [],
   "source": [
    "class UF:\n",
    "  def __init__(self, n):\n",
    "    self.p = list(range(n))\n",
    "\n",
    "  def find(self, a):\n",
    "    a_ = a\n",
    "    while a != self.p[a]:\n",
    "      a = self.p[a]\n",
    "    while a_ != a:\n",
    "      self.p[a_], a_ = a, self.p[a_]\n",
    "    return a\n",
    "\n",
    "  def merge(self, a, b):\n",
    "    self.p[self.find(b)] = self.find(a)"
   ]
  },
  {
   "cell_type": "markdown",
   "metadata": {},
   "source": [
    "### 분리집합 유니온"
   ]
  },
  {
   "cell_type": "code",
   "execution_count": null,
   "metadata": {},
   "outputs": [],
   "source": [
    "class DSU:\n",
    "  def __init__(self, n):\n",
    "    self.P = list(range(n))\n",
    "    self.s = [1] * n\n",
    "    # self.ns = n\n",
    "\n",
    "  def find(self, a):\n",
    "    _a = a\n",
    "    while a != self.P[a]:\n",
    "      a = self.P[a]\n",
    "    while _a != a:\n",
    "      self.P[_a], _a = a, self.P[_a]\n",
    "    return a\n",
    "\n",
    "  def union(self, a, b):\n",
    "    a, b = self.find(a), self.find(b)\n",
    "    if a != b:\n",
    "      if self.s[a] < self.s[b]:\n",
    "        a, b = b, a\n",
    "\n",
    "      # self.ns -= 1\n",
    "      self.P[b] = a\n",
    "      self.s[a] += self.s[b]"
   ]
  },
  {
   "cell_type": "code",
   "execution_count": null,
   "metadata": {},
   "outputs": [],
   "source": [
    "class DisjointSetUnion:\n",
    "  def __init__(self, n):\n",
    "    self.parent = list(range(n))\n",
    "    self.size = [1] * n\n",
    "    self.num_sets = n\n",
    "\n",
    "  def find(self, a):\n",
    "    acopy = a\n",
    "    while a != self.parent[a]: \n",
    "      a = self.parent[a]\n",
    "    while acopy != a: # path compression\n",
    "      self.parent[acopy], acopy = a, self.parent[acopy]\n",
    "    return a\n",
    "\n",
    "  def union(self, a, b):\n",
    "    a, b = self.find(a), self.find(b)\n",
    "    if a != b: # \n",
    "      if self.size[a] < self.size[b]: # union-by-size\n",
    "        a, b = b, a\n",
    "\n",
    "      self.num_sets -= 1 \n",
    "      self.parent[b] = a \n",
    "      self.size[a] += self.size[b] # union-by-size"
   ]
  }
 ],
 "metadata": {
  "language_info": {
   "name": "python"
  },
  "orig_nbformat": 4
 },
 "nbformat": 4,
 "nbformat_minor": 2
}
