{
 "cells": [
  {
   "cell_type": "markdown",
   "metadata": {},
   "source": [
    "### 세그먼트 트리\n",
    "- 구간을 보존하고 있는 트리이다.\n",
    "- 부모 노드는 자식들의 구간의 합을 가지고 있고, 모든 구간이 연속적이여야 한다.\n",
    "- 루트는 전체 구간을 포함해야 한다.\n",
    "- 따라서 보통 완전 이진트리를 통해 구현한다.\n",
    "  - ![image.png](assets/segment-tree-1.png)\n",
    "  - 값의 개수가 $2^n$의 꼴이 아닌경우, 의미없는 값이나 기본 값으로 채워서 포화 이진트리를 형성하는게 보통이다.\n",
    "    - 그러려면 최소의 값을 찾아서 크기를 재조정하는 전처리 과정이 필요하다.\n",
    "  - 이를 통해 값이 N개일 때 트리의 높이가 $logN$가 되도록 만들 수 있게된다.\n",
    "  - 전반적으로 힙을 저장하는 구조와 비슷하게, 왼쪽/오른쪽의 순서로 노드 번호를 매겨서 접근하기 쉽게 한다.\n",
    "- 세그먼트 트리의 구성에는 $O(N)$의 시간이 걸리며, update에는 $O(logN)$의 시간이 걸린다."
   ]
  },
  {
   "attachments": {},
   "cell_type": "markdown",
   "metadata": {},
   "source": [
    "### 구현\n",
    "- 재귀에 비해 2.5배쯤 빠른 비재귀로 구현한 버전 비재귀 코드는 2042 & 11505(구간 합&곱 구하기) 참고\n",
    "- 가끔 IndexError가 날 경우 입력으로 들어갈 list의 사이즈를 1 더 늘려주면 해결된다. \n",
    "  - https://github.com/cheran-senthil/PyRival/issues/82\n",
    "  - 대충 사이즈가 power of 2로 주워졌을 때, `query(len, len)`이나 `query(len, len, value)`를 호출하면 생긴다는 내용."
   ]
  },
  {
   "cell_type": "code",
   "execution_count": null,
   "metadata": {},
   "outputs": [],
   "source": [
    "from operator import add\n",
    "class ST:\n",
    "  def __init__(self, L, f=add, default=0):\n",
    "    self._def = default\n",
    "    self._f = f\n",
    "    self._len = len(L)\n",
    "    self._size = _size = 1 << (self._len - 1).bit_length()\n",
    "\n",
    "    self.L = [default] * (2 * _size)\n",
    "    self.L[_size:_size + self._len] = L\n",
    "    for i in reversed(range(_size)):\n",
    "      self.L[i] = f(self.L[i + i], self.L[i + i + 1])\n",
    "\n",
    "  def __delitem__(self, i):\n",
    "    self[i] = self._def\n",
    "\n",
    "  def __getitem__(self, i):\n",
    "    return self.L[i + self._size]\n",
    "\n",
    "  def __setitem__(self, i, v):\n",
    "    i += self._size\n",
    "    self.L[i] = v\n",
    "    i >>= 1\n",
    "    while i:\n",
    "      self.L[i] = self._f(self.L[2 * i], self.L[2 * i + 1])\n",
    "      i >>= 1\n",
    "\n",
    "  def __len__(self):\n",
    "    return self._len\n",
    "\n",
    "  def query(self, s, e):\n",
    "    s += self._size\n",
    "    e += self._size\n",
    "\n",
    "    l = r = self._def\n",
    "    while s < e: \n",
    "      if s & 1:\n",
    "        l = self._f(l, self.L[s])\n",
    "        s += 1\n",
    "      if e & 1:\n",
    "        e -= 1\n",
    "        r = self._f(self.L[e], r)\n",
    "      s >>= 1\n",
    "      e >>= 1\n",
    "\n",
    "    return self._f(l, r)"
   ]
  }
 ],
 "metadata": {
  "language_info": {
   "name": "python"
  },
  "orig_nbformat": 4
 },
 "nbformat": 4,
 "nbformat_minor": 2
}
