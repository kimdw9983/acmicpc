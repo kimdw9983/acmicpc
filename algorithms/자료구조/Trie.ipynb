{
 "cells": [
  {
   "cell_type": "markdown",
   "metadata": {},
   "source": [
    "## 트라이(Trie)\n",
    "- ![Alt text](assets/trie-1.png)\n",
    "- 사전에서 'cancel'이라는 단어를 찾을 때 c의 색인을 찾고 그다음 a의 색인을 찾고 n -> c... 이런식으로 찾는다. 이러한 순서를 컴퓨터에 적용한 방식이 트라이 구조이다.\n",
    "- 트라이 상의 가장 긴 문자열을 $S$, 문자열의 개수를 $N$이라고 할 때\n",
    "  - 트라이를 구축하는 시간복잡도는 $O(LN)$이다.\n",
    "  - 트라이에 추가하는 시간복잡도는 $O(S)$이다.\n",
    "  - 트라이에서 문자열을 찾는 시간복잡도는 $O(S)$이다."
   ]
  },
  {
   "cell_type": "markdown",
   "metadata": {},
   "source": [
    "\n",
    "### 트라이의 동작\n",
    "- 트라이로 구성된 트리 구조를 `trie`, 추가하고자 하는 문자열을 `p`라고 하고, 시작 지점은 루트노드이다\n",
    "  - p의 `i`번째 글자인 `p[i]`으로 가는 간선이 현재 노드에 존재하는지 확인한다. \n",
    "    - 존재한다면 `p[i]`로 가는 간선을 따라 다음노드로 이동한다.\n",
    "    - 존재하지 않는다면 현재 노드에서 `p[i]`로 가는 노드와 간선을 만들고 해당 노드로 이동한다.\n",
    "  - `i`가 `len(p)`가 될 때까지 위 과정을 반복한다."
   ]
  },
  {
   "cell_type": "markdown",
   "metadata": {},
   "source": [
    "### 구현\n",
    "- 주석은 5052(전화번호 목록) 참고"
   ]
  },
  {
   "cell_type": "code",
   "execution_count": 13,
   "metadata": {},
   "outputs": [],
   "source": [
    "class Trie:\n",
    "  def __init__(self):\n",
    "    self.root = {}\n",
    "\n",
    "  def add(self, s):\n",
    "    cur = self.root\n",
    "    for c in s:\n",
    "      cur = cur.setdefault(c, {})\n",
    "    cur[\"_end_\"] = True\n",
    "\n",
    "  def __delitem__(self, s):\n",
    "    cur = self.root\n",
    "    S = [cur]\n",
    "    for c in s:\n",
    "      cur = cur[c]\n",
    "      S.append(cur)\n",
    "    del cur[\"_end_\"]\n",
    "\n",
    "  def query(self, s): #implement this\n",
    "    cur = self.root\n",
    "    for c in s:\n",
    "      if c not in cur:\n",
    "        return False\n",
    "      cur = cur[c]\n",
    "    return \"_end_\" in cur"
   ]
  },
  {
   "cell_type": "markdown",
   "metadata": {},
   "source": [
    "### 비트마스크와 트라이\n",
    "- 나올 수 있는 문자열이 0과 1로만 이루어져 있기 때문에 비트마스크를 이용하여 트라이를 구현할 수 있다.\n",
    "- 특히 XOR 관련 문제에서 많이 나온다."
   ]
  },
  {
   "cell_type": "markdown",
   "metadata": {},
   "source": [
    "### 이진 트라이 구현\n",
    "- 쿼리는 xor했을 때 mex를 구한다. 주석은 16902(mex) 참고"
   ]
  },
  {
   "cell_type": "code",
   "execution_count": null,
   "metadata": {},
   "outputs": [],
   "source": [
    "class Node:\n",
    "  def __init__(self):\n",
    "    self.child = [None, None]\n",
    "    self.n = 0\n",
    "  \n",
    "  def __contains__(self, k: bool):\n",
    "    return self.child[k] is not None\n",
    "  \n",
    "  def __getitem__(self, k: bool):\n",
    "    if self.child[k] is not None: return self.child[k]\n",
    "    self.child[k] = Node()\n",
    "    return self.child[k]\n",
    "\n",
    "  def add(self, k: bool) :\n",
    "    if self.child[k] is not None : return\n",
    "    self.child[k] = Node() \n",
    "\n",
    "class BinaryTrie:\n",
    "  def __init__(self, depth=32):\n",
    "    self.root = Node()\n",
    "    self.depth = depth\n",
    "\n",
    "  def __contains__(self, n) :\n",
    "    cur = self.root\n",
    "    for i in reversed(range(self.depth)) :\n",
    "      v = (n >> i) & 1\n",
    "      if v not in cur : return False\n",
    "      cur = cur[v]\n",
    "    return True\n",
    "\n",
    "  def add(self, n): #assume no duplicates, O(self.depth)\n",
    "    cur = self.root\n",
    "    for i in reversed(range(self.depth)) :\n",
    "      v = (n >> i) & 1\n",
    "      cur.add(v)\n",
    "      cur.n += 1\n",
    "      cur = cur[v]\n",
    "    cur.n += 1\n",
    "\n",
    "  def __delitem__(self, n) : #O(self.depth)\n",
    "    cur = self.root\n",
    "    for i in reversed(range(self.depth)) :\n",
    "      v = (n >> i) & 1\n",
    "      if v not in cur : return False\n",
    "      cur.n -= 1\n",
    "\n",
    "      if cur.child[v].n == 1 :\n",
    "        cur.child[v] = None\n",
    "        return True\n",
    "    \n",
    "      cur = cur[v]\n",
    "    return True\n",
    "\n",
    "  def __repr__(self): #print all value in decesnding order. O(self.depth * 2^self.depth)\n",
    "    cur = self.root\n",
    "    S = [(cur, 0, 0)]\n",
    "    res = []\n",
    "    while S :\n",
    "      u, d, x = S.pop()\n",
    "      if u.n == 1 and d == self.depth:\n",
    "        res.append(str(x))\n",
    "        continue\n",
    "        \n",
    "      for i, v in enumerate(u.child) :\n",
    "        if not v : continue\n",
    "        S.append((v, d+1, x*2+i))\n",
    "      \n",
    "    return f\"[{' '.join(res)}]\"\n",
    "\n",
    "  def query(self, n):\n",
    "    cur = self.root\n",
    "    res = 0\n",
    "    for i in reversed(range(self.depth)) :\n",
    "      v = (n >> i) & 1\n",
    "      if not cur.child[v] :\n",
    "        break\n",
    "      elif cur.child[v].n == (1 << i) :\n",
    "        cur = cur[not v] \n",
    "        res += 1 << i\n",
    "      else :\n",
    "        cur = cur[v]\n",
    "    return res"
   ]
  }
 ],
 "metadata": {
  "kernelspec": {
   "display_name": "Python 3",
   "language": "python",
   "name": "python3"
  },
  "language_info": {
   "codemirror_mode": {
    "name": "ipython",
    "version": 3
   },
   "file_extension": ".py",
   "mimetype": "text/x-python",
   "name": "python",
   "nbconvert_exporter": "python",
   "pygments_lexer": "ipython3",
   "version": "3.11.0"
  },
  "orig_nbformat": 4
 },
 "nbformat": 4,
 "nbformat_minor": 2
}
