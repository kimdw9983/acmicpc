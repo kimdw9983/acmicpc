{
 "cells": [
  {
   "cell_type": "markdown",
   "metadata": {},
   "source": [
    "### 최소공통조상(LCA)\n",
    "- 트리에서 임의의 두 정점의 공통된 조상 중에서 가장 가까운 조상을 찾는 문제\n",
    "- ![image.png](assets/lca-1.png)\n",
    "  - 위 트리에서 10과 6의 LCA는 2가 된다.\n",
    "- 선형 시간내에 LCA를 찾는 알고리즘은 다음과 같다.\n",
    "  - 정점 `A`에서 부모로 가는 경로 `p`를 구한다.\n",
    "  - 정점 `B`에서 부모로 가는 경로를 탐색 하는 중에 `p`에 있는 정점을 만나면 그 정점이 LCA가 된다."
   ]
  },
  {
   "cell_type": "markdown",
   "metadata": {},
   "source": [
    "### 희소 배열(Sparse Table)\n",
    "- 정적인 데이터의 집합(집합의 원소가 변하지 않는)에 대한 빠른 쿼리를 처리하기 위한 자료구조\n",
    "  - 이때 데이터의 기록 대상을 미리 구할 수 있어야 하며, 데이터의 기록 대상이 변하지 않아야 한다.\n",
    "- 특정 구간의 최소값, 최대값, GCD, LCA 등을 구하는데 사용할 수 있다.\n",
    "\n",
    "#### 예시\n",
    "- ![image.png](assets/lca-2.png)\n",
    "- 위 그래프에서 임의의 정점 `v`를 잡아 `k` 칸 움직이면 도착하는 정점을 구하는 문제를 생각해보자.\n",
    "  - `k=1`이면 각 v에 대해서 `4 3 5 2 1 5 3 6 6`라고 표현할 수 있다.\n",
    "- 모든 정점 `v`에 대해 `k=2`일 때의 정점을 구해보면 다음과 같다.\n",
    "  - ![image-2.png](assets/lca-3.png)\n",
    "  - `2 5 1 3 4 1 5 5 5`\n",
    "  - 사실 이는 `k=1`일 때의 결과를 이용해 구할 수 있다.\n",
    "- 마찬가지로 `k=4`일 때의 결과도 `k=2`일 때의 결과를 이용해 구할 수 있다.\n",
    "  - ![image-3.png](assets/lca-4.png)\n",
    "  - `5 4 2 1 3 2 4 4 4`\n",
    "- 즉 $k^n$에서 $n$이 2의 거듭제곱의 꼴일 때 $k^n$은 $k^{n-1}$에서 쉽게 구할 수 있다.\n",
    "- $n$이 2의 거듭제곱이 아니라면 (ex. $n=7$) 거듭제곱의 꼴로 만들어준 후에 구할 수 있다.\n",
    "  - $n=7$이면 $n=4+2+1$이므로 $k^7=k^4*k^2*k^1$이다.\n",
    "- 따라서 $k^n$을 구할 때 $k^{2^i}$를 구해놓으면 $k^n$을 $O(logn)$에 구할 수 있다."
   ]
  },
  {
   "cell_type": "code",
   "execution_count": null,
   "metadata": {},
   "outputs": [],
   "source": [
    "import sys, io, os\n",
    "input=io.BytesIO(os.read(0,os.fstat(0).st_size)).readline\n",
    "\n",
    "N = int(input())\n",
    "T = [[] for _ in range(N+1)]\n",
    "P = [-1] * (N+1) #i번째 노드의 부모 노드의 번호\n",
    "L = [0] * (N+1) #노드의 높이\n",
    "for _ in range(N-1) :\n",
    "  a, b = map(int, input().split())\n",
    "  T[a].append(b)\n",
    "  T[b].append(a)\n",
    "\n",
    "def dfs(T, P, L, root=1) :\n",
    "  vis = [False] * (N+1)\n",
    "  vis[1] = True\n",
    "  Q = [root]\n",
    "  l = 1\n",
    "  while Q :\n",
    "    nextQ = []\n",
    "    while Q:\n",
    "      u = Q.pop()\n",
    "      for v in T[u] :\n",
    "        if not vis[v] :\n",
    "          vis[v] = True\n",
    "          P[0][v] = u\n",
    "          L[v] = l\n",
    "          nextQ.append(v)\n",
    "    Q = nextQ\n",
    "    l += 1\n",
    "\n",
    "MAX = 17\n",
    "L = [0] * (N+1) #노드의 높이\n",
    "P = [[0] * (N+1) for _ in range(MAX)] #P[i][j] : j의 2^i번째 부모\n",
    "dfs(T, P, L)\n",
    "for i, l in enumerate(P[1:], 1) : #O(NlogN)\n",
    "  for j in range(N+1) :\n",
    "    l[j] = P[i-1][P[i-1][j]]\n",
    "\n",
    "for _ in range(int(input())) :\n",
    "  a, b = map(int, input().split())\n",
    "  \n",
    "  if L[a] < L[b] : #a가 더 깊은 노드가 되도록\n",
    "    a, b = b, a\n",
    "  \n",
    "  for i in range(MAX-1, -1, -1) : #a와 b의 높이를 맞춰준다. (logN)\n",
    "    if L[a] - L[b] >= (1 << i) :\n",
    "      a = P[i][a]\n",
    "\n",
    "  #두 정점의 높이가 같으므로 2^i와 2^(i+1) 안에 공통 조상이 존재한다. 즉, P에서 찾을 수 있게된다.\n",
    "  #2^i씩 동시에 올라가면서 공통 조상을 찾는다. (logN)\n",
    "  if a != b:\n",
    "    for i in range(MAX-1, -1, -1) :\n",
    "      if P[i][a] != -1 and P[i][a] != P[i][b] :\n",
    "        a = P[i][a]\n",
    "        b = P[i][b]\n",
    "    a = P[0][a] #a와 b의 부모가 같으므로, a의 부모를 출력한다.\n",
    "  sys.stdout.write(str(a) + '\\n')"
   ]
  },
  {
   "attachments": {},
   "cell_type": "markdown",
   "metadata": {},
   "source": [
    "- 마지막의 `P[0][a]` 부분은 LCA를 출력할 필요가 없을 경우 하지 않는다.\n",
    "- (마지막 루프에서)a와 b의 공통조상을 찾는 과정에서 필요한 연산이 있을 경우, 각각의 커서를 옮기기 전(`P[i][a]`등을 하기 전)에 진행해야 한다."
   ]
  }
 ],
 "metadata": {
  "language_info": {
   "name": "python"
  },
  "orig_nbformat": 4
 },
 "nbformat": 4,
 "nbformat_minor": 2
}
