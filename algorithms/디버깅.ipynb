{
 "cells": [
  {
   "cell_type": "markdown",
   "metadata": {},
   "source": [
    "- NameError: 모든 경우에서 출력하고자 하는 변수가 정의돼있는지 확인\n",
    "- TypeError\n",
    "  - `sys.stdout.write()`에 문자열이 아닌게 들어가있나 확인\n",
    "  "
   ]
  }
 ],
 "metadata": {
  "language_info": {
   "name": "python"
  },
  "orig_nbformat": 4
 },
 "nbformat": 4,
 "nbformat_minor": 2
}
