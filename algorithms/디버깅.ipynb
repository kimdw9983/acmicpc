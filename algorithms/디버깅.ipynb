{
 "cells": [
  {
   "cell_type": "markdown",
   "metadata": {},
   "source": [
    "- NameError: 모든 경우에서 출력하고자 하는 변수가 정의돼있는지 확인\n",
    "- TypeError\n",
    "  - `sys.stdout.write()`에 문자열이 아닌게 들어가있나 확인\n",
    "- IndexError: 입력에 범위 밖에 인덱스가 들어갈 수 있는지 확인\n",
    "  - 최솟값 또는 최댓값에 대한 케이스 확인\n",
    "  - $10^6$ 을 10만으로 착각하고 있지는 않는지 검토"
   ]
  }
 ],
 "metadata": {
  "language_info": {
   "name": "python"
  },
  "orig_nbformat": 4
 },
 "nbformat": 4,
 "nbformat_minor": 2
}
