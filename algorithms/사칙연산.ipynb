{
 "cells": [
  {
   "cell_type": "markdown",
   "metadata": {},
   "source": [
    "### float('inf')와 큰 수 INF\n",
    "- ![연산표](./assets/inf.png)\n",
    "- `INF` 는 의미상, 무한대를 의미`해야` 한다. 문제의 연산으로 나올 수 없는 큰 수를 둘 수도 있고, 있고 `float('inf')` 를 둘 수도 있다.\n",
    "- `float('inf')` 는 무한대($\\infin$)와 같은 성질을 가지고 있다고 생각하면 편하다. 산술 연산에 있어서 몇 가지 정답에 영향을 줄만한 내용은 다음과 같다.\n",
    "  - `1 + inf = inf`: inf에 어떤 수를 더하거나 빼도 inf이다. \n",
    "    - `sum()`을 썼을 때 원소중에 inf가 하나라도 있으면 그건 inf가 된다.\n",
    "  - `-1 * inf = -inf`: inf는 부호의 변화를 줄 수 있는 연산에 영향을 받는다.\n",
    "  - `inf * inf = inf`: inf끼리 곱한 것은 inf이다.\n",
    "  - `inf > 777777777777777777777777 == True`: inf는 어떤 수보다 크다.\n",
    "    - vice versa. `-inf < -7777777777777777777777777777 == True`\n",
    "  - `inf < inf == inf > inf == False`: inf 끼리의 lt, gt 연산은 항상 False이다.\n",
    "    - 다만, `inf < -inf` 등으로 inf끼리 방향이 반대면 상식적인 의미 상에서 비교가 가능하다. 왼쪽 식의 논리값은 `False`.\n",
    "  - `inf == inf == True`: inf 끼리의 eq 연산은 항상 True이다.\n",
    "    - 비슷하게, `inf <= inf == inf >= inf == True`, 즉 le, ge 연산도 항상 True이다.\n",
    "  - `nan`을 만들게 된다면 의미있는 산술을 수행할 수 없어진다. 이산 수학도에게 있어서 말도 안되는 연산들이지만, 오류를 발생시키지 않으므로 주의해야 한다.\\\n",
    "    `inf` 에 의해 `nan`이 만들어지는 예시는 다음과 같다.\n",
    "    - `inf - inf`, `inf + inf`\n",
    "    - `inf / inf = nan`\n",
    "- `float('inf')` 는 디버깅 할 때 inf 로 출력돼서 보기 좋다. 위에서 언급되는 산술적인 문제가 없다면 `float('inf')` 를 써도 된다."
   ]
  }
 ],
 "metadata": {
  "language_info": {
   "name": "python"
  }
 },
 "nbformat": 4,
 "nbformat_minor": 2
}
