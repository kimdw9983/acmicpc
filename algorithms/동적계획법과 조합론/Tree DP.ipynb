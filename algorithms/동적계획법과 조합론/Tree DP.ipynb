{
 "cells": [
  {
   "cell_type": "code",
   "execution_count": null,
   "metadata": {},
   "outputs": [],
   "source": [
    "N: int\n",
    "G: list"
   ]
  },
  {
   "cell_type": "markdown",
   "metadata": {},
   "source": [
    "### 트리에서의 DP\n",
    "- 일반적으로 사용하는 dfs 템플릿은 전위순회이다."
   ]
  },
  {
   "cell_type": "code",
   "execution_count": null,
   "metadata": {},
   "outputs": [],
   "source": [
    "vis = [False] * (N+1)\n",
    "S = [1] \n",
    "while S :\n",
    "  v = S.pop()\n",
    "  vis[v] = True\n",
    "  for u in G[v] :\n",
    "    if vis[u] : continue\n",
    "    #do something in preorder\n",
    "    S.append(u)"
   ]
  },
  {
   "cell_type": "markdown",
   "metadata": {},
   "source": [
    "### 구현\n",
    "- 트리를 후위순회(하위트리 모두 방문 후 부모로) 하면서 서브트리의 노드의 개수를 구하는 코드이다.\n",
    "- 코드 설명은 15681(트리와 쿼리) 참고"
   ]
  },
  {
   "cell_type": "code",
   "execution_count": null,
   "metadata": {},
   "outputs": [],
   "source": [
    "def po(root) :\n",
    "  vis = [False] * N\n",
    "  S = [root]\n",
    "  PO = []\n",
    "  while S:\n",
    "    cur = S[-1]\n",
    "    vis[cur] = True\n",
    "    leaf = True\n",
    "    for n in G[cur] :\n",
    "      if not vis[n] :\n",
    "        S.append(n)\n",
    "        leaf = False\n",
    "    \n",
    "    if leaf :\n",
    "      PO.append(S.pop())\n",
    "  return PO\n",
    "\n",
    "PO = po(0)\n",
    "vis = [False] * N\n",
    "dp = [1] * N\n",
    "for cur in PO:\n",
    "  for p in G[cur] :\n",
    "    if vis[p] : continue\n",
    "    dp[p] += dp[cur]\n",
    "  vis[cur] = True"
   ]
  }
 ],
 "metadata": {
  "language_info": {
   "name": "python"
  },
  "orig_nbformat": 4
 },
 "nbformat": 4,
 "nbformat_minor": 2
}
