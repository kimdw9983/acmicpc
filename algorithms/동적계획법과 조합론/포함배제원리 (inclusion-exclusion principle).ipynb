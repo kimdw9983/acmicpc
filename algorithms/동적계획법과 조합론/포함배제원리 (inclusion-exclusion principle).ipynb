{
 "cells": [
  {
   "attachments": {},
   "cell_type": "markdown",
   "metadata": {},
   "source": [
    "### Inclusion-Exclusion Principle(포함배제원리)\n",
    "- 포함배제원리는 집합의 크기를 구하는데 유용하게 사용된다.\n",
    "- $|A \\cup B|$ = $|A|$ + $|B|$ - $|A \\cap B|$\n",
    "- $|A \\cup B \\cup C|$ = $|A|$ + $|B|$ + $|C|$ - $|A \\cap B|$ - $|A \\cap C|$ - $|B \\cap C|$ + $|A \\cap B \\cap C|$\n",
    "- 이런 식의 흐름을 교집합의 개수가 `N`개가 되게끔 일반화한 것이라고 보면 된다.\n",
    "- $|A_1 \\cup A_2 \\cup ... \\cup A_n|$ = $\\sum_{i=1}^{n} |A_i|$ - $\\sum_{1 \\leq i < j \\leq n} |A_i \\cap A_j|$ + $\\sum_{1 \\leq i < j < k \\leq n} |A_i \\cap A_j \\cap A_k|$ - $\\sum_{1 \\leq i < j < k < l \\leq n} |A_i \\cap A_j \\cap A_k \\cap A_l|$ + ...\n",
    "- `홀수` 개의 교집합은 `더하고` / `짝수`개의 교집합은 `뺀다`."
   ]
  },
  {
   "cell_type": "markdown",
   "metadata": {},
   "source": [
    "- 상태가 $K$ 일 때의 집합 $A$ 라고 하자. 그리고 상태가 $K+1$ 일 때의 집합 $A'$ 는 $A$ 를 포함한다고 하자.\\\n",
    "구하고자 하는 정답은 중복되는 $A$ 의 부분을 계산하지 말아야 한다고 할때\n",
    "- 이 중복되는 부분을 빼는 방법이 포함배제원리이다."
   ]
  }
 ],
 "metadata": {
  "language_info": {
   "name": "python"
  },
  "orig_nbformat": 4
 },
 "nbformat": 4,
 "nbformat_minor": 2
}
