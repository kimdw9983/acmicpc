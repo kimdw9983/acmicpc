{
 "cells": [
  {
   "cell_type": "markdown",
   "metadata": {},
   "source": [
    "### 선형 점화식의 고속 계산\n",
    "- 다음과 같은 점화식이 있다.\n",
    "  - $a_{n+3} = a_{n+2} + 2a_{n+1} + a_n$\n",
    "- 이를 행렬로 표현하면 다음과 같다.\n",
    "  - $\\begin{bmatrix} a_{n+3} \\\\ a_{n+2} \\\\ a_{n+1} \\end{bmatrix} = \\begin{bmatrix} 1 & 2 & 1 \\\\ 1 & 0 & 0 \\\\ 0 & 1 & 0 \\end{bmatrix} \\begin{bmatrix} a_{n+2} \\\\ a_{n+1} \\\\ a_n \\end{bmatrix}$\n",
    "- 이때 $A = \\begin{bmatrix} 1 & 2 & 1 \\\\ 1 & 0 & 0 \\\\ 0 & 1 & 0 \\end{bmatrix}$이라고 정의한다면\n",
    "  - 행렬의 거듭제곱 성질에 의해 아래와 같이 표현할 수 있다.\n",
    "  - $\\begin{bmatrix} a_{n+3} \\\\ a_{n+2} \\\\ a_{n+1} \\end{bmatrix} = A \\begin{bmatrix} a_{n+2} \\\\ a_{n+1} \\\\ a_n \\end{bmatrix} = A^2 \\begin{bmatrix} a_{n+1} \\\\ a_n \\\\ a_{n-1} \\end{bmatrix} = A^3 \\begin{bmatrix} a_n \\\\ a_{n-1} \\\\ a_{n-2} \\end{bmatrix} = \\cdots = A^n \\begin{bmatrix} a_3 \\\\ a_2 \\\\ a_1 \\end{bmatrix}$\n",
    "  - 따라서 $A^n$을 구하면 행렬 곱을 사용해 $a_n$, $a_{n+1}$, $a_{n+2}$, $a_{n+3}$등은 상수시간만에 구할 수 있게 된다.\n",
    "  - $A^n$은 행렬의 거듭제곱을 이용해 $O(\\log n)$시간에 구할 수 있다.\n",
    "    - 예전에 정리해뒀으므로 설명은 생략한다.\n",
    "  - 항이 M개인 행렬의 곱셈은 연산당 $O(M^3)$시간이 걸리므로 $A^n$을 구하는데 $O(M^3 \\log n)$시간이 걸린다.\n",
    "\n",
    "### 선형 점화식 이외의 점화식의 고속 계산\n",
    "- 어떤 점화식을 행렬로 표현한다면 선형 점화식이 아니더라도 표현할 수 있다.\n",
    "  - $b_{n+3} = b_{n+2} + a_{n+1} + a_n$\n",
    "  - $a_{n+1} = b_{n+1} + a_n$\n",
    "  - $\\begin{bmatrix} b_{n+3} \\\\ b_{n+2} \\\\ a_{n+2} \\\\ a_{n+1} \\end{bmatrix} $ = $\\begin{bmatrix} 1 & 0 & 1 & 1 \\\\ 1 & 0 & 0 & 0 \\\\ 1 & 0 & 1 & 0 \\\\ 0 & 0 & 1 & 0 \\end{bmatrix} \\begin{bmatrix} b_{n+2} \\\\ b_{n+1} \\\\ a_{n+1} \\\\ a_n \\end{bmatrix}$\n",
    "- 또한 동차 점화식이 아니더라도 표현할 수 있다.\n",
    "  - $a_{n+2} = a_{n+1} + 3a_n + 2$\n",
    "  - $\\begin{bmatrix} a_{n+2} \\\\ a_{n+1} \\\\ 2 \\end{bmatrix} = \\begin{bmatrix} 1 & 3 & 1 \\\\ 1 & 0 & 0 \\\\ 0 & 0 & 1 \\end{bmatrix} \\begin{bmatrix} a_{n+1} \\\\ a_n \\\\ 2 \\end{bmatrix}$"
   ]
  }
 ],
 "metadata": {
  "language_info": {
   "name": "python"
  },
  "orig_nbformat": 4
 },
 "nbformat": 4,
 "nbformat_minor": 2
}
