{
 "cells": [
  {
   "cell_type": "markdown",
   "metadata": {},
   "source": [
    "- 유명한 well-known, 혹은 DP 설계 패턴중에서 그 심도가 깊거나 응용이 많은경우 따로 파일을 만들어서 정리한다. 그 외의 테크닉 및 설계법은 이곳에 정리한다.\n"
   ]
  },
  {
   "cell_type": "markdown",
   "metadata": {},
   "source": [
    "### Bottom-Up과 Top-Down, 그리고 그래프 이론\n",
    "- 처음에 DP문제를 풀때 두 가지 방법이 있다고 배웠겠지만, 어느 순간부터 DP문제를 푸는 방법은 대부분 그것을 고민할 필요 없이 정해진 방법으로 풀게 된다.\n",
    "- 하지만 이 둘의 차이를 위상정렬과 그래프 이론의 관점에서 바라볼 필요는 있다.\n",
    "- DP는 기본적으로 sub-problem을 위상정렬 순서로 풀어나가는 것이라고 볼 수 있다.\\\n",
    "어떤 problem을 해결하기 위해선 하위 sub-problem의 해를 알아야 하고, 그 sub-problem 또한 더 하위의 답을 알아야 하는 구조이고, 결국 base case까지 도달하게 된다.\n",
    "  - Top-down은 sub-problem은 필요할 때 구해져 있는 것으로 생각할 수 있다. \\\n",
    "  만약 그러한 sub-problem이 계산돼있지 않다면, 재귀 호출을 통해 하위 문제를 계산하게 되는데, \\\n",
    "  이러한 호출은 자연스럽게 위상 정렬을 따르게 된다.\n",
    "  - Bottom-up은 가장 작은 sub-problem, 즉 base case로부터 더 상위의 sub-problem을 푸는 방식이다.\\\n",
    "  base case는 dependancy가 없는 노드, 혹은 진입차수가 0인 노드라고 본다면, \\\n",
    "  이것 또한 위상정렬을 따르게 된다는 것을 알 수 있다.\n",
    "  - 마치 위상 정렬을 구현하는 두가지 방법 DFS/Kahn's 방법과 유사하다. \\\n",
    "  다만 모든 노드의 진입 차수를 미리 계산해게 되는(진입차수가 0인 노드를 찾기 위해서이다) Kahn's와 달리, 그러한 시작지점을 미리 알고있는 것의 차이이다.\n",
    "- sub-problem의 결과를 `DP` 테이블에 저장하거나, memoization을 사용하는 것은 `visited`의 구현과도 비슷하다고 볼 수 있다.\n",
    "  - 둘다 중복되는 계산을 피하기 위한 것이다."
   ]
  },
  {
   "cell_type": "markdown",
   "metadata": {},
   "source": [
    "### 설계 패턴\n",
    "- [조합론적 설계](./조합론.ipynb)\n",
    "- 단일 for문\n",
    "  - `DP[k]`: optimal solution on stage `k`\n",
    "- 2중 for문\n",
    "  - `DP[i]`: optimal solution for `L[:i]`\n",
    "  - `DP[k][i]`: on stage `k`, optimal solution for `L[:i]`.\n",
    "    - 이때 `k`에 무식하게 모든 상태를 저장하게끔 하는, 비트집합으로 표현할 수도 있다. 비트마스킹 DP 참고.\n",
    "  - `DP[k][i]`: on stage `k`, optimal solution when selecting `i` method.\n",
    "  - `DP[i][j]`: optimal solution when force selecting `i` on range `L[i:j]`\n",
    "- 3중 for문\n",
    "  - `DP[k][i]`\n",
    "  - `DP[k][i][j]`"
   ]
  },
  {
   "cell_type": "markdown",
   "metadata": {},
   "source": [
    "### 테크닉 일람\n",
    "- 원형 수열에서 DP : 1번째 원소를 제거한 경우를 고려해야 한다. 만약 `1번째 원소`라고 불리는 것이 여러개라면,(ex. 초라기) 그 하나하나를 모두 고려해야 한다.\n",
    "  - 또한 부분 해를 구하는 연산이 교환 법칙을 만족하지 않는 경우, $\\binom {i}{j}$ 가지만 개만 고려할게 아니라, $i^j$ 가지를 고려해야 한다.\n",
    "- 최대 연속합: 자료구조로 더 빠르게 푸는 방법이 존재하지만, 너무 웰노운이라서 DP버전도 알아둬야 할 것 같다.\n",
    "  - DP[i]: `L[:i]`에서 최대 연속합\n",
    "  - $f(i) = \\begin{cases} \\max(f(i-1) + L[i], L[i]) &\\text{if } i > 0 \\\\ L[0] &\\text{if }i =0 \\end{cases}$\n",
    "  - 시간복잡도 $O(N)$\n",
    "    - $O(N \\log^2 N)$ 으로도 풀 수도 있다. [자료구조 테크닉](../자료구조/자료구조%20테크닉.ipynb) 참고\n",
    "- 해 역추적하기: 최적해와 더불어 그러한 최적해를 구성하는 선택도 저장한 뒤, 그 과정을 역추적하여 최적해를 만드는 해도 출력하는 방법. \n",
    "  - 보통 `idx` 를 골랐을 때 최적해가 되는 값을 `val` 이라고 한다면, \\\n",
    "  최적해를 저장하는 `DP`와 동일한 구조의 저장공간 `trace` 을 만든 뒤에, `val`은 `DP`에, `idx`는 `trace`에 저장하는 식으로 구현한다.\n",
    "- (사전순으로)k번째 답 구성하기: 사전순으로 정답을 구성할 수 있는 DP 알고리즘을 구성하고, k번째 이전의 답은 skip하는 방식으로 구현한다.\n",
    "  - 연습문제: 18892(가장 긴 증가하는 부분 수열 ks)"
   ]
  },
  {
   "cell_type": "markdown",
   "metadata": {},
   "source": [
    "### 토글링\n",
    "- 상태 전이 과정에서 바로 이전 상태만 필요한 경우, 메모리를 절약하는 테크닉\n",
    "- 28346(XOR Necklace)\n",
    "- 1126(같은 탑)"
   ]
  },
  {
   "cell_type": "code",
   "execution_count": null,
   "metadata": {},
   "outputs": [],
   "source": [
    "# type: ignore\n",
    "CUR = 0\n",
    "NXT = CUR ^ 1\n",
    "DP[NXT] = L[CUR] + 1\n",
    "\n",
    "CUR = NXT"
   ]
  }
 ],
 "metadata": {
  "language_info": {
   "name": "python"
  }
 },
 "nbformat": 4,
 "nbformat_minor": 2
}
