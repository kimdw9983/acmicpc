{
 "cells": [
  {
   "cell_type": "markdown",
   "metadata": {},
   "source": [
    "### 단조 큐 최적화\n",
    "- DP[i] = min(D[j] + C(j, i)) 단, $1 \\le j < i$\n",
    "- 조건: $i < j$인 임의의 $i, j$에 대해 다음을 만족하는 지점 cross(i, j)가 존재\n",
    "  - cross(i, j) > k이면 DP[i] + C(i, k) < D[j] + C(j, k)\n",
    "  - cross(i, k) <= k이면 DP[i] + C(i, k) >= D[j] + C(j, k)"
   ]
  }
 ],
 "metadata": {
  "language_info": {
   "name": "python"
  }
 },
 "nbformat": 4,
 "nbformat_minor": 2
}
