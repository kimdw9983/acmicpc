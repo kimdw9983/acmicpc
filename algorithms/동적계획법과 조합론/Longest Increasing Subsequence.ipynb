{
 "cells": [
  {
   "cell_type": "code",
   "execution_count": null,
   "metadata": {},
   "outputs": [],
   "source": [
    "N: int\n",
    "L: list[int]"
   ]
  },
  {
   "attachments": {},
   "cell_type": "markdown",
   "metadata": {},
   "source": [
    "# Longest Increasing Subsequence (LIS, 최장 증가 부분 수열)\n",
    "- $\\text{DP[x] = L[:x]에서의 LIS의 길이}$\n",
    "- $L[i = 0 \\to N]$ 를 순회하면서 그 앞에있는 인덱스의 $DP[j = 0 \\to i]$ 를 비교한다.\\\n",
    "만약 $L[j] < L[i]$ 이면 $L[j]$ 까지 구성된 LIS 뒤에 $L[i]$ 를 포함시킬 수 있다는 뜻이므로, 최적부분해의 후보 $L[j]+1$ 를 구할 수 있다. \\\n",
    "$DP[i] = \\max(DP[i], L[j]+1) $ 를 통해 최적부분해를 갱신한다.\n",
    "- 시간복잡도: $O(\\frac {N^2}{2})$ = $O(N^2)$"
   ]
  },
  {
   "cell_type": "code",
   "execution_count": null,
   "metadata": {},
   "outputs": [],
   "source": [
    "DP = [1] * N\n",
    "for i, v in enumerate(L) :\n",
    "  for j in range(i) :\n",
    "    if L[j] < v :\n",
    "      DP[i] = max(DP[i], DP[j] + 1)"
   ]
  },
  {
   "cell_type": "markdown",
   "metadata": {},
   "source": [
    "- $\\text{DP[x] = L[x:]에서의 LIS의 길이}$ 로 정의한 구현\n",
    "  - 아직 섣부른 관찰이지만, 위 문제와 방향이 반대이니, 맨 앞에서부터 i 개만큼 살펴보는 iterative와, 뒤에서부터 i개씩 살펴보는 recursive와 동일한게 아닐까 싶다.\n",
    "  - 주석은 18892(가장 긴 증가하는 부분 수열 ks) 참고"
   ]
  },
  {
   "cell_type": "code",
   "execution_count": null,
   "metadata": {},
   "outputs": [],
   "source": [
    "DP = [-1] * (N + 1)\n",
    "def LIS(s) :\n",
    "  ret = DP[s + 1]\n",
    "  if ret != -1 : return ret\n",
    "\n",
    "  ret = 1\n",
    "  for i in range(s + 1, N) :\n",
    "    if s == -1 or L[s] < L[i] :\n",
    "      ret = max(ret, LIS(i) + 1)\n",
    "  DP[s+1] = ret\n",
    "  return ret"
   ]
  },
  {
   "attachments": {},
   "cell_type": "markdown",
   "metadata": {},
   "source": [
    "### $O(n \\log n)$ LIS\n",
    "- LIS는, 위의 DP에서 마지막 원소가 작을수록, 더욱 긴 LIS를 만드는데에 유리하다는 점을 살펴볼 수 있다.\n",
    "- 이번엔 DP를 `LIS를 이루는데에 가장 유리한 원소들만으로 채워진 것`으로 정의한다.\n",
    "  - 즉, `DP[i] = 길이가 i인 부분 수열 중에서 마지막 원소가 가장 작은 것`을 의미한다.\n",
    "  - 이때, DP[0]은 $-\\infty$로 정의한다\n",
    "- inner loop에서 이전 원소들을 살피는 과정을 이진탐색 `bisect_left`를 이용하여 시간을 단축시킨다.\n",
    "- 그러나, 가장 왼쪽부터 탐색하여 각 인덱스마다 가능한 가장 작은(유리한) 것으로 교체되기만 하기 때문에, DP는 실제로 형성할 수 없는 LIS가 생성될 수 있다.\n",
    "  - https://strncat.github.io/jekyll/update/2019/06/25/longest-increasing-subsequence.html 증명"
   ]
  },
  {
   "cell_type": "code",
   "execution_count": 3,
   "metadata": {},
   "outputs": [
    {
     "name": "stdout",
     "output_type": "stream",
     "text": [
      "[0]\n",
      "[0, 3]\n",
      "[0, 3, 5]\n",
      "[0, 2, 5]\n",
      "[0, 2, 5, 6]\n",
      "3\n"
     ]
    }
   ],
   "source": [
    "import bisect\n",
    "n = int(input())\n",
    "L = [*map(int, input().split())]\n",
    "\n",
    "DP = [0]\n",
    "for n in L :\n",
    "\tprint(DP)\n",
    "\tif DP[-1] < n : #DP는 정렬돼있으므로, n은 DP의 마지막 원소보다 크다. 이 경우에 맨 뒤에 n을 추가한다.\n",
    "\t\tDP.append(n)\n",
    "\telse :\n",
    "\t\tDP[bisect.bisect_left(DP, n)] = n #n보다 큰 원소 중 가장 작은 원소를 n으로 대체한다.\n",
    "\n",
    "print(len(DP)-1)"
   ]
  },
  {
   "attachments": {},
   "cell_type": "markdown",
   "metadata": {},
   "source": [
    "### 배열 출력하기(최단거리 역추적)\n",
    "- DP에 들어가는 값의 인덱스를 저장하는 배열(`l`)을 하나 더 만들어서, DP를 갱신할 때마다 해당 인덱스를 저장한다.\n",
    "- LIS의 길이 값 부터 역추적하여`DP[::-1]`, 처음으로 해당 길이의 index가 나오는 원소를 뽑아서 출력하면 완성"
   ]
  },
  {
   "cell_type": "code",
   "execution_count": 7,
   "metadata": {},
   "outputs": [
    {
     "name": "stdout",
     "output_type": "stream",
     "text": [
      "[-inf] [0, 0, 0, 0, 0]\n",
      "[-inf, 3] [1, 0, 0, 0, 0]\n",
      "[-inf, 3, 5] [1, 2, 0, 0, 0]\n",
      "[-inf, 2, 5] [1, 2, 1, 0, 0]\n",
      "[-inf, 2, 5, 6] [1, 2, 1, 3, 0]\n",
      "[-inf, 1, 5, 6] [1, 2, 1, 3, 1]\n",
      "3\n",
      "3 5 6\n"
     ]
    }
   ],
   "source": [
    "import bisect\n",
    "N = int(input())\n",
    "L = [*map(int, input().split())]\n",
    "l = [0] * N\n",
    "DP = [-float(\"inf\")]\n",
    "MAX = 0 \n",
    "\n",
    "for i, n in enumerate(L) : \n",
    "\tprint(DP, l)\n",
    "\tif DP[-1] < n: \n",
    "\t\tDP.append(n)\n",
    "\t\tl[i] = len(DP) - 1 #최고치로 변경\n",
    "\t\tMAX = l[i]\n",
    "\telse:\n",
    "\t\tl[i] = bisect.bisect_left(DP, n) #원소를 집어넣을 곳을 찾는다.\n",
    "\t\tDP[l[i]] = n #가장 유리한 값으로 변경\n",
    "print(DP, l)\n",
    "print(MAX)\n",
    "\n",
    "res = []\n",
    "for i, v in enumerate(l[::-1]):\n",
    "\tif v == MAX:\n",
    "\t\tres.append(L[N-i-1])\n",
    "\t\tMAX -= 1\n",
    "print(\" \".join(map(str, res[::-1])))"
   ]
  },
  {
   "cell_type": "code",
   "execution_count": null,
   "metadata": {},
   "outputs": [],
   "source": [
    "import bisect\n",
    "N = int(input())\n",
    "L = [*map(int, input().split())]\n",
    "l = [0] * N\n",
    "DP = [-float(\"inf\")]\n",
    "MAX = 0 \n",
    "\n",
    "for i, n in enumerate(L) : \n",
    "\tif DP[-1] < n: \n",
    "\t\tDP.append(n)\n",
    "\t\tl[i] = len(DP) - 1\n",
    "\t\tMAX = l[i]\n",
    "\telse:\n",
    "\t\tl[i] = bisect.bisect_left(DP, n)\n",
    "\t\tDP[l[i]] = n\n",
    "\n",
    "res = []\n",
    "for i, v in enumerate(l[::-1]):\n",
    "\tif v == MAX:\n",
    "\t\tres.append(L[N-i-1])\n",
    "\t\tMAX -= 1\n",
    "print(\" \".join(map(str, res[::-1])))"
   ]
  }
 ],
 "metadata": {
  "kernelspec": {
   "display_name": "Python 3",
   "language": "python",
   "name": "python3"
  },
  "language_info": {
   "codemirror_mode": {
    "name": "ipython",
    "version": 3
   },
   "file_extension": ".py",
   "mimetype": "text/x-python",
   "name": "python",
   "nbconvert_exporter": "python",
   "pygments_lexer": "ipython3",
   "version": "3.11.0"
  },
  "orig_nbformat": 4
 },
 "nbformat": 4,
 "nbformat_minor": 2
}
