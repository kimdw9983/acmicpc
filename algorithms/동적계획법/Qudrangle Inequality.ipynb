{
 "cells": [
  {
   "cell_type": "markdown",
   "metadata": {},
   "source": [
    "### Monge Array\n",
    "- ![Monge Array](./assets/DnC-1.png)\n",
    "- 뜬금 없지만 알려진 자료에서 혼동이 있는것 같아, 관련된 Monge Array를 먼저 알아보자.\n",
    "  - Monge array $A$ 는 $M \\times N$ 인 행렬에서 $1 \\leq w < y \\leq M \\text{ and } 1 \\leq x < z \\leq N$ 을 만족하는 임의의 $w, x, y, z$ 에 대해서 \\\n",
    "  $A[w, x] + A[y, z] \\leq A[w, z] + A[y, x]$ 를 만족하는 행렬을 뜻한다.\n",
    "  - Monge array는 후술할 Quadrangle Inequality 의 성질을 만족한다. 즉, 충분조건이다.\n",
    "  - 보통 Monge array의 특성을 통해 DP 최적화를 하는 문제에 대해서는 Quadrangle Inequality의 성질도 보통 만족하고, \\\n",
    "  $C[i][j]$ 를 `(1차원 list에서)구간 [i,j]를 사용했을 때의 비용`을 뜻하므로 일단은 같다고 봐도 되는 것 같다. 아마도. "
   ]
  },
  {
   "cell_type": "markdown",
   "metadata": {},
   "source": [
    "### Quadrangle Inequality(사각 부등식)\n",
    "- 2차원 vector $C[i][j]$ 가 Quadrangle Inequality 의 성질을 만족한다는 것은 다음과 같다.\n",
    "  - 임의의 배열 위에서 $a \\leq b \\leq c \\leq d$ 에 대해 $C[a][c] + C[b][d] \\leq C[a][d] + C[b][c]$ 가 성립한다.\n",
    "  - 배열위의 두 점을 기준으로 사각형을 만들었을 때, $\\diagdown$ 끝점에 위치한 모서리의 값 두 개를 서로 더한 것과  $\\diagup$ 끝점을 더한 것을 비교하면\\\n",
    "  후자가 항상 더 크거나 같은 것을 알 수 있다."
   ]
  },
  {
   "cell_type": "markdown",
   "metadata": {},
   "source": [
    "### Quadrangle Inequality의 성질 \n",
    "- 서로 다른 Quadrangle Inequality를 만족하는 행렬 $A, B$ 를 더해도 Quadrangle Inequality를 만족한다.\n",
    "  - (증명) 행렬 $A, B$ 가 Quadrangle Inequality를 만족하고 $C = A + B$ 일 때\\\n",
    "  $A[a, c] + A[b, d] \\leq A[a, d] + A[b, c]$\\\n",
    "  $B[a, c] + B[b, d] \\leq B[a, d] + B[b, c]$\\\n",
    "  양 변을 더하면 \n",
    "  $C[a, c] + C[b, d] \\leq C[a, d] + C[b, c]$ 가 성립한다.\n",
    "- 음이 아닌 정수 $x, y$ 와 Quadrangle Inequality를 만족하는 행렬 $A, B$ 가 있을 때 $xA + yB$ 도 Quadrangle Inequality를 만족한다.\n",
    "- 각 행마다 원소의 값이 최소이면서 가장 왼쪽에 있는 원소의 인덱스는 단조증가한다.\n",
    "  - ![Find minimum in each row](./assets/DnC-2.png)\n",
    "  - $\\displaystyle f(x) = \\arg \\min_{i \\leq j \\leq m} A[x, j]$ 일 때 $1 \\leq i < n$ 에 대해 $f(i) \\leq f(i+1)$ 이 성립한다.\n",
    "  - (증명, 귀류법) $f(i) > f(i+1)$ 인 행렬의 행 $i$ 가 존재한다고 하자.\\\n",
    "  $i$ 행에서 값이 최소이면서 가장 왼쪽에 있는 원소는 $A[i, f(i)]$ 라고 표현할 수 있고, $i + 1$ 행에선 $A[i+1, f(i+1)]$ 이다.\\\n",
    "  행의 번호가 늘어났으므로(c < d), $A[i, f(i)] < A[i, f(i+1)]$ 이고, $A[i + 1, f(i+1)] \\leq A[i+1, f(i)]$ 이기 때문에,\\\n",
    "  $A[i, f(i)] + A[i+1, f(i+1)] < A[i, f(i+1)] + A[i+1, f(i)]$ 이다.\\\n",
    "  $f(i) > f(i+1)$ 인데, c에 해당하는 $f(i)$ 가 $d$ 에 해당하는 $f(i+1)$ 보다 오른쪽에 있음에도 불구하고, 좌항이 더 작다는 것은 Quadrangle Inequality의 조건에 위배된다.\\\n",
    "  따라서 $f(i) \\leq f(i+1)$ 이 성립한다."
   ]
  },
  {
   "cell_type": "markdown",
   "metadata": {},
   "source": [
    "### Quadrangle Inequality 발견하는 법과 그 증명\n",
    "- $C[i][j]$ 를 적용하는 대상의 list가 단조증가할 경우(0이상의 누적합배열 등)"
   ]
  },
  {
   "cell_type": "markdown",
   "metadata": {},
   "source": [
    "- #### Theorem\n",
    "  - Let $C[i][j]$ is sum of range $[i, j]$ on increasing sequence.\n",
    "  - For any $c < d$ \n",
    "    - let $ \\text{opt}_c $ be the smallest $ k_1 $ (if multiple exist) that minimizes $ C[k_1][c] $\n",
    "    - let $ \\text{opt}_d $ be the smallest $ k_2 $ (if multiple exist) that minimizes $ C[k_2][d] $\n",
    "  - Then $ \\text{opt}_c \\leq \\text{opt}_d $ always holds.\n",
    "    - 이때는 hold가 satisfy보다 더 명확한 표현같다.\\\n",
    "    서술 대상의 꼴이 일부 변화했음에도 그 성질이 계속 유지된다는 뉘앙스를 더 잘 전달하기 때문.\n",
    "- #### Lemma 1\n",
    "  - It satisfies $ C[x][c] \\leq C[x][d] $ for $ x < c, d $.\n",
    "    - If $ c = d $, it is trivially true\n",
    "      - trivially true: 자명하다의 또 다른 표현\n",
    "    - If $ c < d $, let $ d = c + 1 $(which is the smallest possible step), it satisfies $ C[x][c] \\leq C[x][d] $. \\\n",
    "    For any larger $ d $, it also holds because the sequence is increasing.\n",
    "- #### Lemma 2\n",
    "  - It satisfies $ C[x][c] \\geq C[y][c] $ for $ x < y < c $.\n",
    "    - If $ x = y $, it is trivially true.\n",
    "    - If $ x < y $, let $ y = x + 1 $, it satisfies $ C[x][c] \\geq C[y][c] $. \\\n",
    "    For any $ y' $ where $ y < y' \\leq c $, it also holds because the sequence is increasing.\n",
    "- #### Proof of Theorem\n",
    "  - According to Lemma 1, we already know that $ C[x][c] \\leq C[x][d] $. \\\n",
    "  Therefore, for the RHS of the equation, it is possible to decrease $ C[x][d] $ by increasing $ x $.\n",
    "  - According to Lemma 2, increasing $ x $ will result in a lower $ C[x][d] $. \n",
    "  - Let $ x = \\text{opt}_c $, then for the RHS, $ x $ has the possibility to be increased to minimize $ C[x][d] $. \\\n",
    "  Let this value of $ x $ that minimizes $ C[x][d] $ be $ \\text{opt}_d $.\n",
    "    - decreased가 minimize로 고쳐졌다. 이게 맞다.\n",
    "  - Therefore, $ \\text{opt}_c \\leq \\text{opt}_d $ satisfies for an increasing sequence.\n",
    "- $opt_c \\leq opt_d$ 를 보였으므로 Quadrangle Inequality를 만족한다."
   ]
  },
  {
   "cell_type": "markdown",
   "metadata": {},
   "source": [
    "### 활용\n",
    "- $C$ 가 Quadrangle Inequality를 만족한다면, DnC 최적화를 적용할 수 있다.(충분 조건)\n",
    "- $C$ 가 Quadrangle Inequality를 만족하면서 $C[a][d] \\geq C[b][c]$ 를 만족하면 Knuth 최적화를 적용할 수 있다."
   ]
  }
 ],
 "metadata": {
  "language_info": {
   "name": "python"
  }
 },
 "nbformat": 4,
 "nbformat_minor": 2
}
