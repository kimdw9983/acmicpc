{
 "cells": [
  {
   "cell_type": "markdown",
   "metadata": {},
   "source": [
    "### berlekamp_massey 벌레캠프 메시 알고리즘\n",
    "- 위키의 설명으로는 수열을 만들 수 있는 가장 작은 선형 귀환 시프트 레지스터를 찾는 알고리즘이라고 한다.\n",
    "  - 즉 선형 점화식의 최소 다항식을 구한다는 것이다.\n",
    "  - 우리 입장에선, 특정한 DP의 점화식을 찾아주는 알고리즘이라고 받아들이면 될 것 같다.\n",
    "\n",
    "### 사용법\n",
    "- "
   ]
  },
  {
   "cell_type": "code",
   "execution_count": null,
   "metadata": {},
   "outputs": [],
   "source": [
    "MOD = 10**9 + 7\n",
    "\n",
    "def berlekamp_massey(s):\n",
    "  n = len(s)\n",
    "  L, m = 0, 0\n",
    "  C, B, T = [0] * n, [0] * n, []\n",
    "  C[0], B[0] = 1, 1\n",
    "\n",
    "  b = 1\n",
    "  for i in range(n):\n",
    "    m += 1\n",
    "    d = s[i] % MOD\n",
    "    for j in range(1, L + 1):\n",
    "      d = (d + C[j] * s[i - j]) % MOD\n",
    "\n",
    "    if not d:\n",
    "      continue\n",
    "\n",
    "    T = C[:]\n",
    "    coef = (d * pow(b, MOD - 2, MOD)) % MOD\n",
    "    for j in range(m, n):\n",
    "      C[j] = (C[j] - coef * B[j - m]) % MOD\n",
    "    if 2 * L > i:\n",
    "      continue\n",
    "    L = i + 1 - L\n",
    "    B, b, m = T[:], d, 0\n",
    "\n",
    "  return [-C[i] % MOD for i in range(1, L + 1)]"
   ]
  },
  {
   "cell_type": "markdown",
   "metadata": {},
   "source": [
    "### 선형 점화식 구하기\n",
    "- "
   ]
  },
  {
   "cell_type": "code",
   "execution_count": null,
   "metadata": {},
   "outputs": [],
   "source": [
    "def linear_rec(S, tr, k):\n",
    "  n = len(S)\n",
    "\n",
    "  def combine(a, b):\n",
    "    res = [0] * (2 * n + 1)\n",
    "    for i in range(n + 1):\n",
    "      for j in range(n + 1):\n",
    "        res[i + j] = (res[i + j] + a[i] * b[j]) % MOD\n",
    "\n",
    "    for i in range(2 * n, n, -1):\n",
    "      for j in range(n):\n",
    "        res[i - 1 - j] = (res[i - 1 - j] + res[i] * tr[j]) % MOD\n",
    "    return res[:n + 1]\n",
    "\n",
    "  pol, e = [0] * (n + 1), [0] * (n + 1)\n",
    "  pol[0], e[1] = 1, 1\n",
    "\n",
    "  k += 1\n",
    "  while k:\n",
    "    if k & 1:\n",
    "      pol = combine(pol, e)\n",
    "    e = combine(e, e)\n",
    "    k >>= 1\n",
    "\n",
    "  res = 0\n",
    "  for i in range(n):\n",
    "    res = (res + pol[i + 1] * S[i]) % MOD\n",
    "  return res"
   ]
  }
 ],
 "metadata": {
  "language_info": {
   "name": "python"
  },
  "orig_nbformat": 4
 },
 "nbformat": 4,
 "nbformat_minor": 2
}
