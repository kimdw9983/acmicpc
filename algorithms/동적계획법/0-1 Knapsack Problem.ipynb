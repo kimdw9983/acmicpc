{
 "cells": [
  {
   "cell_type": "code",
   "execution_count": null,
   "metadata": {},
   "outputs": [],
   "source": [
    "K = 3\n",
    "W = [20, 30, 30]\n",
    "V = [60, 100, 120]"
   ]
  },
  {
   "cell_type": "code",
   "execution_count": null,
   "metadata": {},
   "outputs": [],
   "source": [
    "dp = [[0] * (K+1) for _ in range(len(W))]\n",
    "for i in range(len(W)) :\n",
    "  for j in range(K) :\n",
    "    if j < W[i] :\n",
    "      dp[i][j] = dp[i-1][j]\n",
    "    else :\n",
    "      dp[i][j] = max(dp[i-1][j], dp[i-1][j-W[i]] + V[i])"
   ]
  },
  {
   "cell_type": "markdown",
   "metadata": {},
   "source": [
    "### 1차원 최적화"
   ]
  },
  {
   "cell_type": "code",
   "execution_count": null,
   "metadata": {},
   "outputs": [],
   "source": [
    "dp = [0] * (K+1)\n",
    "cur = 0\n",
    "for i in range(len(W)):\n",
    "  w, v = W[i], V[i]\n",
    "  cur = min(K-1, cur + w)\n",
    "  for j in range(cur, w-1, -1):\n",
    "    dp[j] = max(dp[j], dp[j-w]+v)"
   ]
  }
 ],
 "metadata": {
  "language_info": {
   "name": "python"
  },
  "orig_nbformat": 4
 },
 "nbformat": 4,
 "nbformat_minor": 2
}
