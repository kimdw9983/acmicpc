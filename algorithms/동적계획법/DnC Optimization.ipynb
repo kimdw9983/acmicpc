{
 "cells": [
  {
   "cell_type": "markdown",
   "metadata": {},
   "source": [
    "### DnC(Divide & Conquer) optimization\n",
    "- 점화식: $DP[i][j] = \\min_{k<j}DP[i-1][k] + C(k, j)$\n",
    "- 조건: $C[i][j]$ 가 Quadrangle Inequality를 만족 (충분조건)\\\n",
    "혹은 $DP(t, i) = DP(t-1, j) + C(j, i)$를 만족하는 가장 작은 $j$ 가 $P(t, i)$ 라고 할 때, $P(t, i) \\leq P(t, i+1)$ 를 만족.\n",
    "- Naive complexity: $O(N^3)$\n",
    "  - $DP(t, 1 \\to N)$ 을 계산할 때 $O(N^2)$ 이 걸리므로 총 $O(KN^2)$ 이 걸린다.\n",
    "- Optimized complexity: $O(N^2\\log N)$\n",
    "  - 가능한 $t$ 의 개수를 $T$ 라고 하면, 이 최적화를 적용했을 때 $O(TN\\log N)$ 으로 줄일 수 있다."
   ]
  },
  {
   "cell_type": "markdown",
   "metadata": {},
   "source": [
    "### 원리\n",
    "- $s \\leq i \\leq e$ 인 $i$ 에 대해 $D(t, i)$ 를 계산한다고 해보자.\\\n",
    "그리고 $DP[t][i] := D(t, i)$ 에 저장한다고 하자.\n",
    "- $DP[t-1]$ 을 구해놨다면 구간 $[s, e]$ 의 중점 $m = (s + e) / 2$ 에 대해 $D(t, m)$ 은 $O(N)$ 에 계산할 수 있고, 동시에 $P(t, m)$ 도 구할 수 있다.\n",
    "- 조건에서 $P(t, i) \\leq P(t, i + 1)$ 이 성립하기 때문에 $s \\leq i \\leq m-1$ 에 대해서 $D(t, i)$ 를 계산할 때 $j$ 의 범위를 $P(t, m)$ 이하로 제한해도 되고, \\\n",
    "$m+1 \\leq i' \\leq e$ 인 $D(t, i')$ 는 $j$ 의 범위를 $P(t, m)$ 이상으로 제한해도 된다."
   ]
  },
  {
   "cell_type": "markdown",
   "metadata": {},
   "source": [
    "### DnC 최적화의 증명\n",
    "- Lemma. 임의의 $c < d$ 에 대해서 \\\n",
    "$opt_c = DP[i-1][k] + C[k][c] \\text{ 를 최소화 하는 그러한 }k$ \\\n",
    "$opt_d = DP[i-1][k] + C[k][d] \\text{ 를 최소화 하는 그러한 }k$ 라고 하자.\\\n",
    "그리고 만약 그러한 $k$ 가 여러개라면, 가장 작은 $k$ 를 고른다고 하자.\\\n",
    "이때 $opt_c \\leq opt_d$ 를 만족한다.\n",
    "- (귀류법) 그렇지 않다고 하자. 즉, $opt_c > opt_d$ 이다.(c가 수직선 상에서 더 오른쪽에 있다는 뜻이다) 이를 통해 2개의 식을 유도할 수 있다.\\\n",
    "$DP[i-1][opt_c] + C[opt_c][c] > DP[i-1][opt_d] + C[opt_d][c]$\\\n",
    "$DP[i-1][opt_d] + C[opt_d][d] > DP[i-1][opt_c] + C[opt_c][d]$\\\n",
    "두 개의 식을 더한다. DP~ 부분은 동일하므로 cancel out 되어 나머지 부분만 더하게 되고, 다음 식이 유도된다.\\\n",
    "$C[opt_d][d] + C[opt_c][c] > C[opt_d][c] + C[opt_c][d]$\\\n",
    "$opt_c > opt_d$ 이니까, 일반성을 해치지 않고 $b = opt_c, a = opt_d$ 로 두면, \\\n",
    "$C[a][d] + C[b][c] > C[a][c] + C[b][d]$\\\n",
    "이는 Quadrangle Inequality의 정의에 모순된다.\n",
    "- 따라서 점화식에서 $opt_c \\leq opt_d$ 를 보이면 DnC 최적화를 사용할 수 있다."
   ]
  },
  {
   "cell_type": "markdown",
   "metadata": {},
   "source": [
    "### 구현\n",
    "- 보통 템플릿에 주석을 적진 않지만, 문제마다 구현해야할 것이 많이 달라 주석을 적어두었다.\n",
    "- 기본적으로 `calc` 를 구현해놓고 `calc(i, j)` 가 최소인 구간을 찾는 것이다.\\\n",
    "`for i in range(opt, r)` 구간은 $O(N)$ 으로 최솟값을 찾는 과정이다.\n",
    "- 구간을 나눠야 하는 곳이 여러번이라면 $DP$ 를 2차원으로 설계하고(13261 탈옥), \\\n",
    "전체 중 최댓값을 구하는 문제 등에선 `ans` 를 갱신하는 방법으로 설계하면 될 것 같다.\n",
    "- `k` 는 $opt$ 가 될 후보라고 생각하면 된다."
   ]
  },
  {
   "cell_type": "code",
   "execution_count": null,
   "metadata": {},
   "outputs": [],
   "source": [
    "calc = lambda i, j: (j - i) #C(i, j)\n",
    "def DnC(N, M):\n",
    "  S = [(0, N - 1, 0, M - 1)]\n",
    "  ans = 0\n",
    "\n",
    "  while S:\n",
    "    s, e, l, r = S.pop()\n",
    "    if s > e: continue\n",
    "    m = (s + e) // 2\n",
    "    \n",
    "    k = r \n",
    "    for i in range(k, r):\n",
    "      if calc(k, m) < calc(i, m): #inplement operation for \n",
    "        k = i \n",
    "\n",
    "    ans = max(ans, calc(k, m)) #calculate answer\n",
    "\n",
    "    S.append((s, m - 1, l, k))\n",
    "    S.append((m + 1, e, k, r))\n",
    "\n",
    "  return ans"
   ]
  }
 ],
 "metadata": {
  "language_info": {
   "name": "python"
  }
 },
 "nbformat": 4,
 "nbformat_minor": 2
}
