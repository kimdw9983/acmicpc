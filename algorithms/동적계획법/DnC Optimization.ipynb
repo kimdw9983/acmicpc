{
 "cells": [
  {
   "cell_type": "markdown",
   "metadata": {},
   "source": [
    "### DnC(Divide & Conquer) optimization\n",
    "- 점화식: $DP[i][j] = \\min_{k<j}DP[i-1][k] + C(k, j)$\n",
    "- 조건: $DP(t, i) = DP(t-1, j) + C(j, i)$를 만족하는 가장 작은 $j$ 가 $P(t, i)$ 라고 할 때, $P(t, i) \\leq P(t, i+1)$ 를 만족.\n",
    "- Naive 하게 계산할 경우 $DP(t, 1 \\to N)$ 을 계산할 때 $\\Omicron(N^2)$ 이 걸리므로 총 $\\Omicron(KN^2)$ 이 걸린다.\n",
    "- 가능한 $t$ 의 개수를 $T$ 라고 하면, 이 최적화를 적용했을 때 $\\Omicron(TN\\log N)$ 으로 줄일 수 있다."
   ]
  },
  {
   "cell_type": "markdown",
   "metadata": {},
   "source": [
    "### 원리\n",
    "- $s \\leq i \\leq e$ 인 $i$ 에 대해 $D(t, i)$ 를 계산한다고 해보자.\\\n",
    "그리고 $DP[t][i] := D(t, i)$ 에 저장한다고 하자.\n",
    "- $DP[t-1]$ 을 구해놨다면 구간 $[s, e]$ 의 중점 $m = (s + e) / 2$ 에 대해 $D(t, m)$ 은 $\\Omicron(N)$ 에 계산할 수 있고, 동시에 $P(t, m)$ 도 구할 수 있다.\n",
    "- 조건에서 $P(t, i) \\leq P(t, i + 1)$ 이 성립하기 때문에 $s \\leq i \\leq m-1$ 에 대해서 $D(t, i)$ 를 계산할 때 $j$ 의 범위를 $P(t, m)$ 이하로 제한해도 되고, \\\n",
    "$m+1 \\leq i' \\leq e$ 인 $D(t, i')$ 는 $j$ 의 범위를 $P(t, m)$ 이상으로 제한해도 된다."
   ]
  },
  {
   "cell_type": "markdown",
   "metadata": {},
   "source": [
    "### Monge Array\n",
    "- ![Monge Array](./assets/DnC-1.png)\n",
    "- 2차원 배열 $C[i][j]$ 가 Monge Array 라는 조건을 만족한다는 것은 다음과 같다.\n",
    "  - 임의의 배열 위의 점 $a \\leq b \\leq c \\leq d$ 에 대해 $C[a][c] + C[b][d] \\leq C[a][d] + C[b][c]$ 가 성립한다.\\\n",
    "  보통 $C[i][j]$ 가 `구간 [i, j] 를 사용했을 때의 비용`을 뜻하니, 한쪽 구간이 다른쪽 구간을 포함하고 있으면, 그렇지 않도록 풀어주는 것이 이득이라는 것을 의미한다.\n",
    "  - 위의 예시 배열에서 $\\searrow$ 방향으로 조건에 맞는 끝점의 행렬 값 두 개를 서로 더한 것과  $\\swarrow$ 방향으로 더한 것을 비교하면 후자가 항상 더 크거나 같은 것을 알 수 있다."
   ]
  },
  {
   "cell_type": "markdown",
   "metadata": {},
   "source": [
    "### DnC 최적화의 증명\n",
    "- Lemma. 임의의 $c < d$ 에 대해서 \\\n",
    "$opt_c = DP[i-1][k] + C[k][c] \\text{ 를 최소화 하는 그러한 }k$ \\\n",
    "$opt_d = DP[i-1][k] + C[k][d] \\text{ 를 최소화 하는 그러한 }k$ 라고 하자.\\\n",
    "그리고 만약 그러한 $k$ 가 여러개라면, 가장 작은 $k$ 를 고른다고 하자.\\\n",
    "이때 $opt_c \\leq opt_d$ 를 만족한다.\n",
    "- (귀류법) 그렇지 않다고 하자. 즉, $opt_c > opt_d$ 이다.(c가 수직선 상에서 더 오른쪽에 있다는 뜻이다) 이를 통해 2개의 식을 유도할 수 있다.\\\n",
    "$DP[i-1][opt_c] + C[opt_c][c] > DP[i-1][opt_d] + C[opt_d][c]$\\\n",
    "$DP[i-1][opt_d] + C[opt_d][d] > DP[i-1][opt_c] + C[opt_c][d]$\\\n",
    "두 개의 식을 더한다. DP~ 부분은 동일하므로 cancel out 되어 나머지 부분만 더하게 되고, 다음 식이 유도된다.\\\n",
    "$C[opt_d][d] + C[opt_c][c] > C[opt_d][c] + C[opt_c][d]$\\\n",
    "$opt_c > opt_d$ 이니까 $b = opt_c, a = opt_d$ 로 두면, \\\n",
    "$C[a][d] + C[b][c] > C[a][c] + C[b][d]$\\\n",
    "이는 Monge array의 정의에 모순된다.\n",
    "- 따라서 점화식에서 $opt_c \\leq opt_d$ 를 보이면 DnC 최적화를 사용할 수 있다."
   ]
  },
  {
   "cell_type": "markdown",
   "metadata": {},
   "source": [
    "\n",
    "### Monge array의 성질 \n",
    "- 서로 다른 Monge array 두 개를 더해도 Monge array 이다.\n",
    "  - (증명) 행렬 $A, B$ 가 monge array 이고 $C = A + B$ 일 때\\\n",
    "  $A[a, c] + A[b, d] \\leq A[a, d] + A[b, c]$\\\n",
    "  $B[a, c] + B[b, d] \\leq B[a, d] + B[b, c]$\\\n",
    "  양 변을 더하면 \n",
    "  $C[a, c] + C[b, d] \\leq C[a, d] + C[b, c]$ 가 성립한다.\n",
    "- 음이 아닌 정수 $x, y$ 와 monge array $A, B$ 가 있을 때 $xA + yB$ 도 monge array 이다.\n",
    "- 각 행마다 원소의 값이 최소이면서 가장 왼쪽에 있는 원소의 인덱스는 단조증가한다.\n",
    "  - ![Find minimum in each row](./assets/DnC-2.png)\n",
    "  - $\\displaystyle f(x) = \\arg \\min_{i \\leq j \\leq m} A[x, j]$ 일 때 $1 \\leq i < n$ 에 대해 $f(i) \\leq f(i+1)$ 이 성립한다.\n",
    "  - (증명, 귀류법) $f(i) > f(i+1)$ 인 행렬의 행 $i$ 가 존재한다고 하자.\\\n",
    "  $i$ 행에서 값이 최소이면서 가장 왼쪽에 있는 원소는 $A[i, f(i)]$ 라고 표현할 수 있고, $i + 1$ 행에선 $A[i+1, f(i+1)]$ 이다.\\\n",
    "  행의 번호가 늘어났으므로(c < d), $A[i, f(i)] < A[i, f(i+1)]$ 이고, $A[i + 1, f(i+1)] \\leq A[i+1, f(i)]$ 이기 때문에,\\\n",
    "  $A[i, f(i)] + A[i+1, f(i+1)] < A[i, f(i+1)] + A[i+1, f(i)]$ 이다.\\\n",
    "  $f(i) > f(i+1)$ 인데, c에 해당하는 $f(i)$ 가 $d$ 에 해당하는 $f(i+1)$ 보다 오른쪽에 있음에도 불구하고, 좌항이 더 작다는 것은 Monge array 의 조건에 위배된다.\\\n",
    "  따라서 $f(i) \\leq f(i+1)$ 이 성립한다.\n",
    "- $C$ 가 Monge Array 라는 조건을 만족한다면, DnC 최적화를 적용할 수 있다.(충분 조건)"
   ]
  },
  {
   "cell_type": "markdown",
   "metadata": {},
   "source": [
    "### 구현"
   ]
  },
  {
   "cell_type": "code",
   "execution_count": null,
   "metadata": {},
   "outputs": [],
   "source": [
    "def DnC(N, D, T, V):\n",
    "  S = [(0, N - 1, 0, N - 1)]\n",
    "  ans = 0\n",
    "  calc = lambda i, j: (j - i) * T[j] + V[i]\n",
    "\n",
    "  while S:\n",
    "    s, e, l, r = S.pop()\n",
    "\n",
    "    if s > e: continue\n",
    "\n",
    "    m = (s + e) // 2\n",
    "    k = max(l, m - D)\n",
    "    for i in range(k, min(m, r) + 1):\n",
    "      if calc(k, m) < calc(i, m):\n",
    "        k = i\n",
    "\n",
    "    ans = max(ans, calc(k, m))\n",
    "\n",
    "    S.append((s, m - 1, l, k))\n",
    "    S.append((m + 1, e, k, r))\n",
    "\n",
    "  return ans"
   ]
  }
 ],
 "metadata": {
  "language_info": {
   "name": "python"
  }
 },
 "nbformat": 4,
 "nbformat_minor": 2
}
