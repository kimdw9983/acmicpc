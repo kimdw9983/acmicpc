{
 "cells": [
  {
   "cell_type": "markdown",
   "metadata": {},
   "source": [
    "### Knuth's Optimization\n",
    "- 점화식: $DP[i][j] = \\min_{i < k < j}(DP[i][k] + DP[k][j] + C[i][j])$\n",
    "  - 즉, 구간 $[i, j)$ 에 대한 최소값을 구하는 문제\n",
    "  - 또한, $C[i][j]$ 가 $k$ 에 대해 의존성이 없음을 강조하기 위해 $\\min$ 바깥으로 꺼낸 점화식도 많이 보인다.\n",
    "- 조건: $C[i][j]$ 가 Quadrangle Inequality를 만족하고, $C[a][d] \\geq C[b][c] \\text{ for } a \\leq b \\leq c \\leq d$, 즉 단조성\n",
    "- Naive Complexity: $O(N^3)$\n",
    "- Optimized Complexity: $O(N^2)$\n",
    "- 어떠한 구간을 쪼개는 형태의 동적 계획법을 최적화한다."
   ]
  },
  {
   "cell_type": "markdown",
   "metadata": {},
   "source": [
    "### 성질\n",
    "- $C[i][j]$ 가 Quadrangle Inequality를 만족하고, $C[a][d] \\geq C[b][c]$ 를 만족한다고 하자. \\\n",
    "만약 $opt_[i][j] = DP[i][j] \\text { 를 최솟 값으로 만드는 k}$ 이고, 만약 그러한 $k$ 가 여러개라면 만약 가장 작은 $k$ 를 고른다고 할 때, 다음이 성립한다.\n",
    "  - lemma. $opt[i][j-1] \\leq opt[i][j] \\leq opt[i+1][j]$\n",
    "    - 우측 방향으로 단조증가 하며, 아래 방향으로도 단조증가 한다.\n",
    "  - proof: https://dl.acm.org/doi/10.1145/800141.804691\n",
    "- 위 lemma를 사용하여 $j - i$(구간 사이의 길이)가 증가하는 순서대로 DP를 채울 때, $O(N^2)$ 의 시간 복잡도를 얻을 수 있다.\n",
    "  - $j-i = 1$ 일 경우 살펴볼 구간이 하나여서 $DP[i][j]$ 와 $opt[i][j]$ 를 바로 얻을 수 있고, \\\n",
    "  그 이상일 때의 대해서는 $opt[i][j - 1] \\leq k \\leq opt[i+1][j]$ 구간을 순회하면 된다.\\\n",
    "  총 루프 도는 횟수를 $j - i = k + 1$ 라고 두었을 때\\\n",
    "  $\\displaystyle \\sum_{0 < k < N}(opt[i+1][i+k+1] - opt[i][i+k]) = opt[i+k][N] - opt[1][k-1] \\leq N$ 이므로 하나의 $j-i$ 에 대해서 $O(N)$ 이므로, 총 $O(N^2)$ 이다.\n"
   ]
  },
  {
   "cell_type": "markdown",
   "metadata": {},
   "source": [
    "### 구현\n",
    "- 코드 주석 및 쿼리는 13974(파일 합치기 2) 참고."
   ]
  },
  {
   "cell_type": "code",
   "execution_count": null,
   "metadata": {},
   "outputs": [],
   "source": [
    "def C(i, j) :\n",
    "  pass\n",
    "\n",
    "INF = float('inf')\n",
    "def knuth_opt(N, K) :\n",
    "  DP = [[INF] * (N+1) for _ in range(K+1)] \n",
    "  K = [[0] * (N+1) for _ in range(K+1)]\n",
    "  for d in range(1, N+1) :\n",
    "    DP[d-1][d] = 0 \n",
    "    K[d-1][d] = d\n",
    "\n",
    "  for d in range(2, N+1) :\n",
    "    for i in range(N-d+1) :\n",
    "      j = i + d\n",
    "      for k in range(K[i][j-1], K[i+1][j]+1) :\n",
    "        res = DP[i][k] + DP[k][j]# + C(i, j)\n",
    "        if DP[i][j] > res :\n",
    "          DP[i][j] = res\n",
    "          K[i][j] = k\n",
    "  \n",
    "  return DP, K"
   ]
  },
  {
   "cell_type": "markdown",
   "metadata": {},
   "source": [
    "### 더 알아보기\n",
    "- 참고: https://tistory.joonhyung.xyz/15 \n",
    "  - 13975(파일 합치기 3)은 Huffman coding, 파일합치기 1,2,4는 alphabetical Huffman coding 혹은 Hu-Tucker coding이라고 한다.\n",
    "  - 이걸 $O(N \\log N)$ 에 푸는 알고리즘을 Garsia-Wachs algorithm 이라고 한다.\n",
    "    - Garsia-Wachs 는 $\\displaystyle C[i][j] = \\sum_{k=i}^jL[k]$ 의 형태의 부분합에 대해서 최적화를 한다."
   ]
  }
 ],
 "metadata": {
  "language_info": {
   "name": "python"
  }
 },
 "nbformat": 4,
 "nbformat_minor": 2
}
