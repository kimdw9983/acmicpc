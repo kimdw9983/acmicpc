{
 "cells": [
  {
   "cell_type": "markdown",
   "metadata": {},
   "source": [
    "- 유명한 well-known, 혹은 DP 설계 패턴중에서 그 심도가 깊거나 응용이 많은경우 따로 파일을 만들어서 정리한다. 그 외의 테크닉 및 설계법은 이곳에 정리한다.\n"
   ]
  },
  {
   "cell_type": "markdown",
   "metadata": {},
   "source": [
    "### 설계 패턴\n",
    "- 단일 for문\n",
    "  - `DP[k]`: optimal solution on stage `k`\n",
    "- 2중 for문\n",
    "  - `DP[i]`: optimal solution for `L[:i]`\n",
    "  - `DP[k][i]`: on stage `k`, optimal solution for `L[:i]`.\n",
    "    - 이때 `k`에 무식하게 모든 상태를 저장하게끔 하는, 비트집합으로 표현할 수도 있다. 비트마스킹 DP 참고.\n",
    "  - `DP[k][i]`: on stage `k`, optimal solution when selecting `i` method.\n",
    "- 3중 for문\n",
    "  - `DP[k][i]`\n",
    "  - `DP[k][i][j]`"
   ]
  },
  {
   "cell_type": "markdown",
   "metadata": {},
   "source": [
    "### 테크닉 일람\n",
    "- 해 역추적하기: 최적해와 더불어 그러한 최적해를 구성하는 선택도 저장한 뒤, 그 과정을 역추적하여 최적해를 만드는 해도 출력하는 방법. \n",
    "  - 보통 `idx` 를 골랐을 때 최적해가 되는 값을 `val` 이라고 한다면, \\\n",
    "  최적해를 저장하는 `DP`와 동일한 구조의 저장공간 `trace` 을 만든 뒤에, `val`은 `DP`에, `idx`는 `trace`에 저장하는 식으로 구현한다.\n",
    "- toggling(토글링): 상태 전이 과정에서 바로 이전 상태만 필요한 경우, 메모리를 절약하는 테크닉\n",
    "- (사전순으로)k번째 답 구성하기: 사전순으로 정답을 구성할 수 있는 DP 알고리즘을 구성하고, k번째 이전의 답은 skip하는 방식으로 구현한다.\n",
    "  - 연습문제: 18892(가장 긴 증가하는 부분 수열 ks)"
   ]
  }
 ],
 "metadata": {
  "language_info": {
   "name": "python"
  }
 },
 "nbformat": 4,
 "nbformat_minor": 2
}
