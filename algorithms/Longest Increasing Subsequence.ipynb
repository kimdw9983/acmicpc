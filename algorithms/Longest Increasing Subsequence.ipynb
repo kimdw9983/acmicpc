{
 "cells": [
  {
   "attachments": {},
   "cell_type": "markdown",
   "metadata": {},
   "source": [
    "# Dynamic programming(동적계획법)\n",
    "- 최적 부분 구조(Optimal Substructure)를 지닌 중복된 하위 문제(Overlapping Subproblems)을 분할 정복으로 풀이하는 문제 해결 패러다임.\n",
    "- `점화식`. 답에대한 공식이 점화식으로 표현되면 DP라고 생각해도 되고, DP로 풀어야 하는 문제는 점화식을 세우려고 시도하면 된다."
   ]
  },
  {
   "attachments": {},
   "cell_type": "markdown",
   "metadata": {},
   "source": [
    "# Longest Increasing Subsequence (LIS, 최장 증가 부분 수열)\n",
    "- https://jason9319.tistory.com/113\n",
    "- `DP[x]` = x번째 수를 마지막으로 하는 LIS의 길이\n",
    "- `i` -> `len(DP)`, `j` -> `i`\n",
    "- inner loop에서 현재 원소(DATA[i])가 이전에 있는 원소들(DATA[j])보다 작은지 확인한다\n",
    "- 위 조건에 맞을 때, DP를 갱신시킨다(`DP[i] = max(DP[i], DP[j] + 1`)"
   ]
  },
  {
   "cell_type": "code",
   "execution_count": null,
   "metadata": {},
   "outputs": [],
   "source": [
    "n = int(input())\n",
    "DATA = list(map(int, input().split()))\n",
    "DP = [1] * n\n",
    "\n",
    "for i, n in enumerate(DATA) :\n",
    "  for j in range(i) :\n",
    "    if DATA[j] < n :\n",
    "      DP[i] = max(DP[i], DP[j] + 1)"
   ]
  },
  {
   "attachments": {},
   "cell_type": "markdown",
   "metadata": {},
   "source": [
    "### n log n\n",
    "- LIS는, 위의 DP에서 마지막 원소가 작을수록, 더욱 긴 LIS를 만드는데에 유리하다는 점을 살펴볼 수 있다.\n",
    "- 이번엔 DP를 `LIS를 이루는데에 가장 유리한 원소들만으로 채워진 것`으로 정의한다.\n",
    "  - 즉, `DP[i] = 길이가 i인 부분 수열 중에서 마지막 원소가 가장 작은 것`을 의미한다.\n",
    "  - 이때, DP[0]은 $-\\infty$로 정의한다\n",
    "- inner loop에서 이전 원소들을 살피는 과정을 이진탐색 `bisect_left`를 이용하여 시간을 단축시킨다.\n",
    "- 그러나, 가장 왼쪽부터 탐색하여 각 인덱스마다 가능한 가장 작은(유리한) 것으로 교체되기만 하기 때문에, DP는 실제로 형성할 수 없는 LIS가 생성될 수 있다.\n",
    "  - https://strncat.github.io/jekyll/update/2019/06/25/longest-increasing-subsequence.html 증명"
   ]
  },
  {
   "cell_type": "code",
   "execution_count": 3,
   "metadata": {},
   "outputs": [
    {
     "name": "stdout",
     "output_type": "stream",
     "text": [
      "[0]\n",
      "[0, 3]\n",
      "[0, 3, 5]\n",
      "[0, 2, 5]\n",
      "[0, 2, 5, 6]\n",
      "3\n"
     ]
    }
   ],
   "source": [
    "import bisect\n",
    "n = int(input())\n",
    "DATA = [*map(int, input().split())]\n",
    "\n",
    "DP = [0]\n",
    "for n in DATA :\n",
    "\tprint(DP)\n",
    "\tif DP[-1] < n : #DP는 정렬돼있으므로, n은 DP의 마지막 원소보다 크다. 이 경우에 맨 뒤에 n을 추가한다.\n",
    "\t\tDP.append(n)\n",
    "\telse :\n",
    "\t\tDP[bisect.bisect_left(DP, n)] = n #n보다 큰 원소 중 가장 작은 원소를 n으로 대체한다.\n",
    "\n",
    "print(len(DP)-1)"
   ]
  },
  {
   "attachments": {},
   "cell_type": "markdown",
   "metadata": {},
   "source": [
    "### 배열 출력하기(최단거리 역추적)\n",
    "- DP에 들어가는 값의 인덱스를 저장하는 배열(`l`)을 하나 더 만들어서, DP를 갱신할 때마다 해당 인덱스를 저장한다.\n",
    "- LIS의 길이 값 부터 역추적하여`DP[::-1]`, 처음으로 해당 길이의 index가 나오는 원소를 뽑아서 출력하면 완성"
   ]
  },
  {
   "cell_type": "code",
   "execution_count": 7,
   "metadata": {},
   "outputs": [
    {
     "name": "stdout",
     "output_type": "stream",
     "text": [
      "[-inf] [0, 0, 0, 0, 0]\n",
      "[-inf, 3] [1, 0, 0, 0, 0]\n",
      "[-inf, 3, 5] [1, 2, 0, 0, 0]\n",
      "[-inf, 2, 5] [1, 2, 1, 0, 0]\n",
      "[-inf, 2, 5, 6] [1, 2, 1, 3, 0]\n",
      "[-inf, 1, 5, 6] [1, 2, 1, 3, 1]\n",
      "3\n",
      "3 5 6\n"
     ]
    }
   ],
   "source": [
    "import bisect\n",
    "N = int(input())\n",
    "DATA = [*map(int, input().split())]\n",
    "l = [0] * N\n",
    "DP = [-float(\"inf\")]\n",
    "MAX = 0 \n",
    "\n",
    "for i, n in enumerate(DATA) : \n",
    "\tprint(DP, l)\n",
    "\tif DP[-1] < n: \n",
    "\t\tDP.append(n)\n",
    "\t\tl[i] = len(DP) - 1 #최고치로 변경\n",
    "\t\tMAX = l[i]\n",
    "\telse:\n",
    "\t\tl[i] = bisect.bisect_left(DP, n) #원소를 집어넣을 곳을 찾는다.\n",
    "\t\tDP[l[i]] = n #가장 유리한 값으로 변경\n",
    "print(DP, l)\n",
    "print(MAX)\n",
    "\n",
    "res = []\n",
    "for i, v in enumerate(l[::-1]):\n",
    "\tif v == MAX:\n",
    "\t\tres.append(DATA[N-i-1])\n",
    "\t\tMAX -= 1\n",
    "print(\" \".join(map(str, res[::-1])))"
   ]
  }
 ],
 "metadata": {
  "kernelspec": {
   "display_name": "Python 3",
   "language": "python",
   "name": "python3"
  },
  "language_info": {
   "codemirror_mode": {
    "name": "ipython",
    "version": 3
   },
   "file_extension": ".py",
   "mimetype": "text/x-python",
   "name": "python",
   "nbconvert_exporter": "python",
   "pygments_lexer": "ipython3",
   "version": "3.11.0"
  },
  "orig_nbformat": 4
 },
 "nbformat": 4,
 "nbformat_minor": 2
}
