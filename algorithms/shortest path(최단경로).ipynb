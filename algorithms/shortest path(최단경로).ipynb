{
 "cells": [
  {
   "attachments": {},
   "cell_type": "markdown",
   "metadata": {},
   "source": [
    "# 데이크스트라(Dijkstra's algorithm)\n",
    "- 다음 1번과 2번을 반복하는 알고리즘이다.\n",
    "  1. 아직 방문하지 않은 노드중 가장 (거리가)가까운(가중치) 노드를 찾는다\n",
    "  2. 그 노드와 인접한 노드들에 대해서 거리를 갱신한다.\n",
    "- \"그리디 BFS\"로 해석할 수도 있다.\n",
    "- 다음과 같은 경우 사용할 수 없다.\n",
    "  - 음의 가중치가 존재하는 경우\n",
    "  - 음의 사이클이 존재하는 경우\n",
    "- 다음의 경우 특별히 최적화할 수 있다.\n",
    "  - Edge의 weight가 0또는 1만 있을 경우(0-1 BFS)\n",
    "  - Edge의 weight가 두 종류만 있을 때(위에 것의 일반화?)\n",
    "    - https://justicehui.github.io/2018/08/30/DijkstraOpt/\n",
    " - 모든 노드가 유향 가중그래프여야 한다.\n",
    " - `parents`는 그러한 최단경로를 역추적할 때 사용."
   ]
  },
  {
   "cell_type": "code",
   "execution_count": null,
   "metadata": {},
   "outputs": [],
   "source": [
    "from heapq import heappop, heappush\n",
    "INF = float(\"inf\") #inf로 안되는 경우가 있으므로 주의\n",
    "\n",
    "def dijkstra(G, s):\n",
    "  n = len(G)\n",
    "  dist, parents = [INF] * n, [-1] * n\n",
    "  dist[s] = 0\n",
    "\n",
    "  Q = [(0, s)]\n",
    "  while Q:\n",
    "    path_len, v = heappop(Q)\n",
    "    if path_len != dist[v]: continue # 이미 더 빠른 경로로 고쳐져있었을 경우(heap이기 때문에 큐 안의 w의 값을 직접 바꿀 수 없다)\n",
    "    for w, edge_len in G[v]: #인접한 경로들을 탐색\n",
    "      if edge_len + path_len >= dist[w]: continue #P[A] + P[A][B]가 더 먼 경우 continue\n",
    "      dist[w], parents[w] = edge_len + path_len, v\n",
    "      heappush(Q, (edge_len + path_len, w))\n",
    "\n",
    "  return dist, parents"
   ]
  },
  {
   "cell_type": "code",
   "execution_count": null,
   "metadata": {},
   "outputs": [],
   "source": [
    "from heapq import heappop, heappush\n",
    "INF = float(\"inf\")\n",
    "\n",
    "def dij(G, s):\n",
    "  n = len(G)\n",
    "  D = [INF] * n\n",
    "  D[s] = 0\n",
    "\n",
    "  Q = [(0, s)]\n",
    "  while Q:\n",
    "    pl, v = heappop(Q)\n",
    "    if pl != D[v]: continue\n",
    "    for w, el in G[v]:\n",
    "      if el + pl >= D[w]: continue\n",
    "      D[w] = el + pl\n",
    "      heappush(Q, (el + pl, w))\n",
    "\n",
    "  return D"
   ]
  },
  {
   "attachments": {},
   "cell_type": "markdown",
   "metadata": {},
   "source": [
    "# 벨만-포드(Bellman-Ford) 알고리즘\n",
    "- 음수로 이루어진 사이클이 만들어지면 해답이 없는 경우로 생각할 수 있다.\n",
    "- 시간복잡도 $O(VE)$"
   ]
  },
  {
   "cell_type": "code",
   "execution_count": null,
   "metadata": {},
   "outputs": [],
   "source": [
    "def bellman_ford(V, E, s):\n",
    "  dist = [float(\"inf\")] * V\n",
    "  pred = [None] * V\n",
    "\n",
    "  dist[s] = 0\n",
    "\n",
    "  for _ in range(V):\n",
    "    for u, v, d in E:\n",
    "      if dist[u] + d >= dist[v]: continue\n",
    "      dist[v] = dist[u] + d\n",
    "      pred[v] = u\n",
    "\n",
    "  \"\"\"Sanity Check\n",
    "  for u, v, d in E:\n",
    "    if dist[u] + d < dist[v]:\n",
    "      return None\n",
    "  \"\"\"\n",
    "\n",
    "  return dist, pred"
   ]
  },
  {
   "cell_type": "code",
   "execution_count": null,
   "metadata": {},
   "outputs": [],
   "source": [
    "INF = 1234567891\n",
    "\n",
    "def bf(V, E, s):\n",
    "  D = [INF] * V\n",
    "  D[s] = 0\n",
    "\n",
    "  for _ in range(V):\n",
    "    for u, v, d in E:\n",
    "      if D[u] + d >= D[v] : continue\n",
    "      D[v] = D[u] + d\n",
    "  return D"
   ]
  },
  {
   "attachments": {},
   "cell_type": "markdown",
   "metadata": {},
   "source": [
    "# 플로이드-워셜(Floyd-Warshall) 알고리즘\n",
    "- 시간복잡도 $O(n^3)$\n",
    "- 모든 정점 사이의 거리를 구할 수 있다.\n",
    "- DP를 기반으로 설계되었다.\n",
    "  - 최단 경로(DP): shortestPath(i, j, k) $i$부터 $j$까지 $i$~$k$정점만 사용할 때의 최단 거리"
   ]
  },
  {
   "cell_type": "code",
   "execution_count": null,
   "metadata": {},
   "outputs": [],
   "source": [
    "def floyd_warshall(V, E):\n",
    "  dist = [[0 if i == j else float(\"inf\") for i in range(V)] for j in range(V)]\n",
    "  pred = [[None] * V for _ in range(V)]\n",
    "\n",
    "  for u, v, d in E:\n",
    "    dist[u][v] = d\n",
    "    pred[u][v] = u\n",
    "\n",
    "  for k in range(V):\n",
    "    for i in range(V):\n",
    "      for j in range(V):\n",
    "        if dist[i][k] + dist[k][j] >= dist[i][j]: continue\n",
    "        dist[i][j] = dist[i][k] + dist[k][j]\n",
    "        pred[i][j] = pred[k][j]\n",
    "  \"\"\"Sanity Check\n",
    "  for u, v, d in E:\n",
    "    if dist[u] + d < dist[v]:\n",
    "      return None\n",
    "  \"\"\"\n",
    "\n",
    "  return dist, pred"
   ]
  },
  {
   "cell_type": "code",
   "execution_count": null,
   "metadata": {},
   "outputs": [],
   "source": [
    "INF = 1234567891\n",
    "\n",
    "def fw(V, E):\n",
    "  D = [[0 if i == j else INF for i in range(V)] for j in range(V)]\n",
    "\n",
    "  for u, v, d in E:\n",
    "    D[u][v] = d\n",
    "\n",
    "  for k in range(V):\n",
    "    for l in D:\n",
    "      for j, v in enumerate(l):\n",
    "        if l[k] + D[k][j] >= v: continue\n",
    "        l[j] = l[k] + D[k][j]\n",
    "\n",
    "  return D"
   ]
  }
 ],
 "metadata": {
  "language_info": {
   "name": "python"
  },
  "orig_nbformat": 4
 },
 "nbformat": 4,
 "nbformat_minor": 2
}
