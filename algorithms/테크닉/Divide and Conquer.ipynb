{
 "cells": [
  {
   "cell_type": "markdown",
   "metadata": {},
   "source": [
    "### 분할정복(Divide and Conquer)\n",
    "- 어떤 문제의 정해가 $O(N \\log N)$ 이상이고, $O(\\log N)$ 스텝만큼의 sub-procedure를 수행할 것 같다면, 발상해봐야 하는 테크닉.\n",
    "  - 대충 $O(N^2 \\log N)$ 이든 $O(N \\log^2 N)$ 이든 $\\log N$ 이 들어갈 것 같은 풀이에 대한 접근법이다."
   ]
  }
 ],
 "metadata": {
  "language_info": {
   "name": "python"
  }
 },
 "nbformat": 4,
 "nbformat_minor": 2
}
