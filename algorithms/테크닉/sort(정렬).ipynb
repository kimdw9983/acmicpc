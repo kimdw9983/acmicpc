{
 "cells": [
  {
   "cell_type": "code",
   "execution_count": null,
   "metadata": {},
   "outputs": [],
   "source": [
    "K: int"
   ]
  },
  {
   "cell_type": "markdown",
   "metadata": {},
   "source": [
    "### Strict weak ordering\n",
    "- 정렬 기준(criteria)은 여러개가 있을 수 있다. 이때 여러개의 정렬 기준중에서 대소 관계를 알기에 모호한 정의가 나오지 않도록 수학적으로 정의한 이진술어를 Strict weak ordering이라고 한다.\n",
    "- 기본적으로 \"less than\" 의 여부를 Boolean으로 정의한다. C++을 많이 안해봐서 방향이 존나 햇갈린다. 구현상에서 쓰이는 표현으로 정리해보자.\n",
    "  - $comp(a, b)$ = `a 가 더 작은가? = 정렬 됐을때 a가 더 왼쪽에 오는가? = a의 인덱스가 더 작은가?` 이다. \\\n",
    "  즉, $comp(a, b)$ 가 true 이면, a가 b보다 왼쪽에 오게 된다.\n",
    "- 이때, a, b가 복잡한 형태의 구조체이고, 여러개의 정렬 기준을 가질 수 있다. \\\n",
    "집합 $S$ 에 대한 이진 관계 $\\prec$ 가 Strict weak ordering이라고 할 때 다음을 만족한다.\n",
    "  - irreflexive(비반사성): 모든 a에 대해, 자기 자신은 자기 자신보다 작지 않다.\n",
    "    - $\\forall a \\in S, \\neg (a \\prec a)$\n",
    "  - transitive(전이성): 모든 a, b, c에 대해, a가 b보다 작고, b가 c보다 작다면, a는 c보다 작다.\n",
    "    - $\\forall a, b, c \\in S, a \\prec b \\land b \\prec c \\implies a \\prec c$\n",
    "  - asymmetric(비대칭성): $a \\prec b$ 이면, $b \\prec a$는 그 역이여야 한다(if $a \\prec b$, then it is not the case that $b \\prec a$).\n",
    "    - $\\forall a, b \\in S, a \\prec b \\implies \\neg (b \\prec a)$\n",
    "  - transitivity of equivalence(동등성의 전이성): a와 b가 비교 불가능하고(즉, a == b), b와 c가 비교 불가능하면, a와 c도 비교 불가능하다.\n",
    "    - $\\forall a, b, c \\in S, \\neg (a \\prec b) \\land \\neg (b \\prec c) \\implies \\neg (a \\prec c)$\n",
    "- 각각을 위반하는 케이스를 살펴보자. `comp(a, b)` 에 대한 코드라고 하자.\n",
    "  1. violation of irreflexive\n",
    "      - `return a <= b`\n",
    "      - 자기 자신의 비교에 대한 진리값은 false여야 한다. 하지만 `a == b` 일때 true가 나오므로, 비반사성을 위반한다.\n",
    "  2. violation of transitive \n",
    "      - `if a.x == b.x: return a.y < b.y`\\\n",
    "        `return a.y > b.y`\n",
    "      - 비교 기준이 x 값에 따라 바뀌고 있어 정렬 기준이 모호해졌다. 이는 전이성을 위반한다.\n",
    "  3. violation of asymmatric\n",
    "      - `if a.x == 3: return a.x < b.x`\\\n",
    "      `return a.y < b.y`\n",
    "      - comp(a, b)와 comp(b, a) 의 진리값은 항상 달라야 하지만, `a.x == 3` 일때는 둘의 진리값이 같을 수 있으므로, 비대칭성을 위반한다.\\\n",
    "      `a.x == 3 || b.x == 3` 으로 바꾸면 해결된다.\n",
    "  4. violation of transitivity of equivalence\n",
    "      - `if a.x != b.x:`\\\n",
    "      `　if a.y == b.y: return a`\\\n",
    "      `　return a.y < b.y`\\\n",
    "      `return a.x < b.x`\n",
    "      - `a.x == b.x` 이고 `a.y == b.y` 일 때, 즉 x와 y기준으로 비교 불가능하지만, 임의로 a가 앞에 오도록 정의했다. 이는 동등성의 전이성을 위반한다."
   ]
  },
  {
   "cell_type": "markdown",
   "metadata": {},
   "source": [
    "### 하이브리드 정렬 알고리즘\n",
    "- KMP와 Boyer-Moore 을 합친 Two-way string-matching 알고리즘도 하이브리드 알고리즘이라고 볼 수 있다."
   ]
  },
  {
   "cell_type": "markdown",
   "metadata": {},
   "source": [
    "### introsort(introspective) sort\n",
    "- 평균 시간복잡도와 최악케이스의 성능을 개선한 `quicksort + insertion sort + heapsort`의 하이브리드 정렬 알고리즘.\n",
    "- 시간복잡도: $O(N \\log N)$\n",
    "- 알고리즘의 동작은 다음과 같다.\n",
    "  - 정렬 중 파티션의 크기가 특정 임계(16) 이하라면 insertion sort를 수행한다.\n",
    "  - 파티션의 수가 특정 크기($2 \\log N$) 을 초과하면 heap sort를 수행한다.\n",
    "  - 그 외에는 quick sort를 수행한다."
   ]
  },
  {
   "cell_type": "markdown",
   "metadata": {},
   "source": [
    "### Tim sort\n",
    "- https://d2.naver.com/helloworld/0315536"
   ]
  },
  {
   "cell_type": "markdown",
   "metadata": {},
   "source": [
    "## 구현\n",
    "- 다음은 Python을 사용하면서 여러가지 정렬 테크닉들을 모아둔 snippet이다."
   ]
  },
  {
   "attachments": {},
   "cell_type": "markdown",
   "metadata": {},
   "source": [
    "### 사전순 정렬\n",
    "- 가장 왼쪽 원소부터 비교한다. 첫 번째 원소가 같으면 2번째 원소를 비교한다. 이를 반복한다.\n",
    "  - cpp의 `pair<int, int, ...>` 에 대한 sort() 의 기본 정렬 방법(comp arg를 넣지 않은 것)과 behavior이 같다."
   ]
  },
  {
   "cell_type": "code",
   "execution_count": 1,
   "metadata": {},
   "outputs": [
    {
     "data": {
      "text/plain": [
       "[[1, 0], [1, 2], [1, 4], [2, 1], [2, 3], [3, 4]]"
      ]
     },
     "execution_count": 1,
     "metadata": {},
     "output_type": "execute_result"
    }
   ],
   "source": [
    "v = [[1,2], [2,3], [3,4], [1,4], [1,0], [2,1]]\n",
    "sorted(v, key=lambda x: x)"
   ]
  },
  {
   "attachments": {},
   "cell_type": "markdown",
   "metadata": {},
   "source": [
    "### 정렬 기준(criteria) 변경\n",
    "- 두번째 원소인 x[1]을 정렬의 첫번째 기준으로 한다."
   ]
  },
  {
   "cell_type": "code",
   "execution_count": 1,
   "metadata": {},
   "outputs": [
    {
     "data": {
      "text/plain": [
       "[[1, 2], [1, 4], [1, 0], [2, 3], [2, 1], [3, 4]]"
      ]
     },
     "execution_count": 1,
     "metadata": {},
     "output_type": "execute_result"
    }
   ],
   "source": [
    "v = [[1,2], [2,3], [3,4], [1,4], [1,0], [2,1]]\n",
    "sorted(v, key = lambda x: x[1])"
   ]
  },
  {
   "attachments": {},
   "cell_type": "markdown",
   "metadata": {},
   "source": [
    "### 기준 여러개 및 기준 우선 순위\n",
    "- criteria마다 오름차순과 내림차순 여부를 반대로 정할 수 있다."
   ]
  },
  {
   "cell_type": "code",
   "execution_count": 2,
   "metadata": {},
   "outputs": [
    {
     "data": {
      "text/plain": [
       "[[1, 4], [1, 2], [1, 0], [2, 3], [2, 1], [3, 4]]"
      ]
     },
     "execution_count": 2,
     "metadata": {},
     "output_type": "execute_result"
    }
   ],
   "source": [
    "v = [[1,2], [2,3], [3,4], [1,4], [1,0], [2,1]]\n",
    "sorted(v, key=lambda x: (x[0], -x[1]))"
   ]
  },
  {
   "attachments": {},
   "cell_type": "markdown",
   "metadata": {},
   "source": [
    "### 길이가 같은 여러 배열의 값을 기준으로 정렬\n",
    "- 정렬 기준을 여러개로 지정할 수 있다.\n",
    "- 아래는 array1, array2, array3의 순서대로 우선순위를 지정한다.\n",
    "- 활용예 : 1422(숫자의 신)"
   ]
  },
  {
   "cell_type": "code",
   "execution_count": 1,
   "metadata": {},
   "outputs": [
    {
     "name": "stdout",
     "output_type": "stream",
     "text": [
      "('d', 'b', 'c', 'e', 'a')\n"
     ]
    }
   ],
   "source": [
    "arr = ['a', 'b', 'c', 'd', 'e']\n",
    "array1 = [3, 1, 2, 1, 2]\n",
    "array2 = [0, 1, 0, 0, 1]\n",
    "array3 = [2, 3, 1, 2, 1]\n",
    "\n",
    "# zip the arrays together\n",
    "zipped = list(zip(arr, array1, array2, array3))\n",
    "\n",
    "# sort the zipped list\n",
    "sorted_zipped = sorted(zipped, key=lambda x: (x[1], x[2], x[3]))\n",
    "\n",
    "# unzip the sorted list to get the sorted 'arr'\n",
    "sorted_arr, _, _, _ = zip(*sorted_zipped)\n",
    "\n",
    "print(sorted_arr)"
   ]
  },
  {
   "cell_type": "markdown",
   "metadata": {},
   "source": [
    "### 정렬된 원소의 인덱스를 출력\n",
    "- iterable K를 정렬했을 때, 원래 있던 각 원소가 정렬된 배열에서 몇번째에 위치하는지를 출력한다."
   ]
  },
  {
   "cell_type": "code",
   "execution_count": null,
   "metadata": {},
   "outputs": [],
   "source": [
    "order = sorted(range(len(K)), key=K.__getitem__)"
   ]
  }
 ],
 "metadata": {
  "kernelspec": {
   "display_name": "Python 3",
   "language": "python",
   "name": "python3"
  },
  "language_info": {
   "codemirror_mode": {
    "name": "ipython",
    "version": 3
   },
   "file_extension": ".py",
   "mimetype": "text/x-python",
   "name": "python",
   "nbconvert_exporter": "python",
   "pygments_lexer": "ipython3",
   "version": "3.11.0"
  },
  "orig_nbformat": 4
 },
 "nbformat": 4,
 "nbformat_minor": 2
}
