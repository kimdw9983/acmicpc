{
 "cells": [
  {
   "cell_type": "markdown",
   "metadata": {},
   "source": [
    "### imos법\n",
    "- 누적합 응용 테크닉\n",
    "- 시작과 끝에 대해서 누적합의 변화량을 기록한 뒤, 누적합을 구한다.\n",
    "- $|L| = l$ 인 list $L$ 이 있다고 할때,\n",
    "- $0 \\le a, b \\lt l$ 의 구간 $[a, b]$ 에 대해 $w$ 를 더하는 연산 $Q_1$ 은 다음과 같다.\n",
    "  - $Q_1(a, b, w): \\begin{cases} L[a] := L[a] + w \\\\ L[b+1] := L[b+1] - w \\end{cases}$\n",
    "  - 각각의 원소를 더해두는 것이 아닌, 시작과 끝 부분에 변화량만을 기록함으로써, 효율적으로 구간합을 저장할 수 있다.\n",
    "- $0 \\le c, d \\le l$ 의 구간합 $[c, d]$ 를 구하는 함수 $Q_2$ 는 다음과 같다.\n",
    "  - $Q_2(c, d) = \\displaystyle\\sum_{i=0}^d{L_i} - \\sum_{i=0}^{c-1}{L_i}$\n",
    "- 혹은 구간합 list 전체를 반환하는 함수 $Q_3$ 은 다음과 같다.\n",
    "  - $Q_3() = \\displaystyle\\sum_{i=0}^{l-1}{L_i}$"
   ]
  },
  {
   "cell_type": "markdown",
   "metadata": {},
   "source": [
    "### Segment Tree와 imos 법\n",
    "- lazy-propagation을 사용하지 않아도 된다는 구간 쿼리 문제에서 이 접근법을 사용하면 된다.\n",
    "- $Q_2$ 연산의 특성상 세그먼트 트리를 사용하면 $\\Omicron(\\log N)$ 으로 구간 누적합을 구할 수 있다.\n",
    "- 잘 푼 문제는 14268(회사 문화 2) 참고"
   ]
  }
 ],
 "metadata": {
  "language_info": {
   "name": "python"
  },
  "orig_nbformat": 4
 },
 "nbformat": 4,
 "nbformat_minor": 2
}
