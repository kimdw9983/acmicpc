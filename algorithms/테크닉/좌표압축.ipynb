{
 "cells": [
  {
   "cell_type": "code",
   "execution_count": null,
   "metadata": {},
   "outputs": [],
   "source": [
    "L: list"
   ]
  },
  {
   "cell_type": "code",
   "execution_count": null,
   "metadata": {},
   "outputs": [],
   "source": [
    "cmp = {v: i for i, v in enumerate(sorted(set(L)))}"
   ]
  },
  {
   "cell_type": "code",
   "execution_count": null,
   "metadata": {},
   "outputs": [],
   "source": [
    "Q = [(s, e) for s, e in map(int, input().split())]\n",
    "cmp = set()\n",
    "for s, e in Q :\n",
    "  cmp.add(s)\n",
    "  cmp.add(e)\n",
    "  \n",
    "rcmp = sorted(set(L))\n",
    "cmp = {v: i for i, v in enumerate(rcmp)}"
   ]
  }
 ],
 "metadata": {
  "language_info": {
   "name": "python"
  }
 },
 "nbformat": 4,
 "nbformat_minor": 2
}
