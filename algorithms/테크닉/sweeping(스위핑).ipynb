{
 "cells": [
  {
   "attachments": {},
   "cell_type": "markdown",
   "metadata": {},
   "source": [
    "### 스위핑\n",
    "- 어떤 선이나 공간을 한쪽 방향부터 시작해 스캔하면서 마주치는 요소들에 대해 처리를 하는 알고리즘\n",
    "\n",
    "### 2170(선 긋기)\n",
    "- 수평선 위에 선분을 그리는데, 이전에 그린 선분과 겹치는 부분을 제외한 길이의 합을 구하는 문제\n",
    "- 선분의 시작점을 기준으로 정렬한 후, 스위핑을 진행한다.\n",
    "- 총 3가지 경우를 처리하면 된다.\n",
    "    1. 선분이 새로 시작되는 경우\n",
    "    2. 선분이 겹치지만 일부는 겹치지 않는 경우(확장)\n",
    "    3. 선분이 완전히 겹치는 경우"
   ]
  },
  {
   "cell_type": "code",
   "execution_count": null,
   "metadata": {},
   "outputs": [],
   "source": [
    "import io, os\n",
    "input=io.BytesIO(os.read(0,os.fstat(0).st_size)).readline\n",
    "\n",
    "N = int(input())\n",
    "L = []\n",
    "for _ in range(N):\n",
    "  L.append([*map(int, input().split())])\n",
    "\n",
    "L.sort(key=lambda x: x[0])\n",
    "MAX = 1_000_000_000\n",
    "answer = 0\n",
    "l = r = -MAX\n",
    "for s, e in L:\n",
    "  if r < s : #구간을 합칠 수 없는 경우\n",
    "    answer += r - l\n",
    "    l = s\n",
    "    r = e\n",
    "  else : #확장할 수 있으면 확장한다.\n",
    "    r = max(r, e)\n",
    "\n",
    "answer += r - l\n",
    "print(answer)"
   ]
  }
 ],
 "metadata": {
  "language_info": {
   "name": "python"
  },
  "orig_nbformat": 4
 },
 "nbformat": 4,
 "nbformat_minor": 2
}
