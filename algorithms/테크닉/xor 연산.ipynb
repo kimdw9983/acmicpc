{
 "cells": [
  {
   "cell_type": "markdown",
   "metadata": {},
   "source": [
    "- https://m.blog.naver.com/oidoman/221145674383\n",
    "- 교환법칙이 성립한다.\n",
    "- 결합법칙이 성립한다.\n",
    "- 항등원이 0이다.\n",
    "- 역원이 자기 자신이다."
   ]
  }
 ],
 "metadata": {
  "language_info": {
   "name": "python"
  }
 },
 "nbformat": 4,
 "nbformat_minor": 2
}
