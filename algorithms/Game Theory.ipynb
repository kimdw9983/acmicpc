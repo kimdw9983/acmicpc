{
 "cells": [
  {
   "cell_type": "markdown",
   "metadata": {},
   "source": [
    "### 게임이론?\n",
    "- 여러 economic agent(경제주체)가 모여 decision making을 하는 상황을 game situation이라 한다.\n",
    "- 대표적인 성질으로 interdependence(상호의존성)이 있다.\n",
    "  - 참가자의 관점, 즉 귀납적인 관점에서의 표현이 strategic consideration(전략적 고려)이다. \n",
    "- `economic agent들이 interdependence 아래에서 strategic consideration을 할 때, 어떤 decision making을 해야 하는가?\n",
    "- 정치학, 경제학, 사회학, 생물학, 군사학, 컴퓨터과학 등 여러 학문에 매우 큰 영향을 끼쳤다.\n",
    "\n",
    "### 체르멜로 정리\n",
    "- "
   ]
  }
 ],
 "metadata": {
  "language_info": {
   "name": "python"
  }
 },
 "nbformat": 4,
 "nbformat_minor": 2
}
