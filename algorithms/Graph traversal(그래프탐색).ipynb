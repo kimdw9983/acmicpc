{
 "cells": [
  {
   "cell_type": "code",
   "execution_count": 1,
   "metadata": {},
   "outputs": [],
   "source": [
    "#V, N = 정점의 개수\n",
    "V:int\n",
    "N:int\n",
    "#E, M = 간선의 개수\n",
    "E:int\n",
    "M:int\n",
    "#u -> v로 가는 간선이 존재\n",
    "u:int\n",
    "v:int"
   ]
  },
  {
   "attachments": {},
   "cell_type": "markdown",
   "metadata": {},
   "source": [
    "# DFS\n",
    "- `V`: vertex; 정점의 개수, `G`: graph, `S`: stack, `s`: s; 시작 정점, `vis`: visited\n",
    "- 유향(directed)그래프나 간선 연결과 관련된 구현의 경우 `connect()`의 구현을 바꿀 것.\n",
    "- `S += G[v]`해당 노드에 연결된 간선 추가하는 것이다. \n",
    "  - 방문할 정점 번호의 규칙이 다를경우 `G[v]`를 변경한다.\n",
    "- 위상정렬된 DAG(비순환 그래프)를 찾는데에도 쓰인다"
   ]
  },
  {
   "cell_type": "code",
   "execution_count": null,
   "metadata": {},
   "outputs": [],
   "source": [
    "G = [[] for _ in range(V)]\n",
    "for _ in range(E):\n",
    "  G[u-1].append(v-1)\n",
    "  G[v-1].append(u-1)\n",
    "\n",
    "def dfs(G, s):\n",
    "  S = [s]\n",
    "  vis = [False for _ in range(V)]\n",
    "\n",
    "  while S:\n",
    "    v = S.pop()\n",
    "    if not V[v]:\n",
    "      vis[v] = True\n",
    "      S += G[v]"
   ]
  },
  {
   "attachments": {},
   "cell_type": "markdown",
   "metadata": {},
   "source": [
    "## 재귀 구현(참고용)"
   ]
  },
  {
   "cell_type": "code",
   "execution_count": null,
   "metadata": {},
   "outputs": [],
   "source": [
    "def dfs(G, vis, s):\n",
    "  if not vis[s] :\n",
    "    vis[s] = True\n",
    "\n",
    "  for x in G[s] :\n",
    "    if vis[x] : continue\n",
    "    dfs(G, vis, x)"
   ]
  },
  {
   "attachments": {},
   "cell_type": "markdown",
   "metadata": {},
   "source": [
    "# BFS\n",
    "- `V`: vertex; 정점의 개수, `G`: graph, `s`: s; 시작 정점, `vis`: visited, `Q`: Queue\n",
    "- Python의 `Queue.queue`도 내부 구현에 `collections.deque`를 사용한다.\n",
    "- BFS는 각 정점사이의 최단경로로 방문한다.\n",
    "- 짝수개의 크기를 가진 사이클을 찾아내는 방식으로 이분그래프를 판별할 수 있다.\n",
    "- 그래프의 연결 요소를 찾는데에도 쓰인다"
   ]
  },
  {
   "cell_type": "code",
   "execution_count": null,
   "metadata": {},
   "outputs": [],
   "source": [
    "import collections\n",
    "\n",
    "G = [[] for _ in range(V)]\n",
    "for _ in range(E):\n",
    "  G[u-1].append(v-1)\n",
    "  G[v-1].append(u-1)\n",
    "\n",
    "def bfs(G, s):\n",
    "  Q = collections.deque([s])\n",
    "  vis = [False for _ in range(V + 1)]\n",
    "  vis[s] = True\n",
    "\n",
    "  while Q:\n",
    "    v = Q.popleft()\n",
    "    for i in G[v]: \n",
    "      if vis[i]: continue\n",
    "      vis[i] = True\n",
    "      Q += [i]"
   ]
  },
  {
   "attachments": {},
   "cell_type": "markdown",
   "metadata": {},
   "source": [
    "# 그래프 순회(미로 찾기)\n",
    "- `dx, dy`: 우하좌상(시계방향)\n",
    "  - 이동 방법이 인접한 상하좌우가 아닐경우 바꾼다(7562 나이트의 이동)\n",
    "- `if not (0 <= nx < N and 0 <= ny < M) : continue` 경계에 닿을 경우\n",
    "- `if not G[nx][ny]: continue` 접근 가능 여부 \n",
    "- `Q.append((nx, ny))` 이전"
   ]
  },
  {
   "cell_type": "code",
   "execution_count": null,
   "metadata": {},
   "outputs": [],
   "source": [
    "def trav(G, s, N, M) :\n",
    "  #Q = collections.deque([s])\n",
    "  Q = [s]\n",
    "  # vis = [[False] * M for _ in range(N)]\n",
    "  # vis[s[0]][s[1]] = True\n",
    "  while Q :\n",
    "    x, y = Q.pop()\n",
    "\n",
    "    for dx, dy in [(0, 1), (1, 0), (0, -1), (-1, 0)] :\n",
    "      nx = x + dx\n",
    "      ny = y + dy\n",
    "\n",
    "      if not (0 <= nx < N and 0 <= ny < M): continue\n",
    "      # if vis[nx][ny]: continue\n",
    "      if not G[nx][ny]: continue\n",
    "\n",
    "      #vis[nx][ny] = True\n",
    "      Q.append((nx, ny)) "
   ]
  },
  {
   "attachments": {},
   "cell_type": "markdown",
   "metadata": {},
   "source": [
    "# 후위 순위\n",
    "- tree DP 문제 풀 때 유용\n",
    "- 0-index, iterative DFS\n",
    "- 설명은 15681(트리와 쿼리) 참고"
   ]
  },
  {
   "cell_type": "code",
   "execution_count": null,
   "metadata": {},
   "outputs": [],
   "source": [
    "G = [[] for _ in range(N)]\n",
    "for _ in range(N-1):\n",
    "  a, b = map(int, input().split())\n",
    "  G[a-1].append(b-1)\n",
    "  G[b-1].append(a-1)\n",
    "\n",
    "def po(G, r) :\n",
    "  vis = [False] * N\n",
    "  S = [r-1]\n",
    "  PO = []\n",
    "\n",
    "  while S:\n",
    "    cur = S[-1]\n",
    "    vis[cur] = True\n",
    "    leaf = True\n",
    "    for n in G[cur] :\n",
    "      if not vis[n] :\n",
    "        S.append(n)\n",
    "        leaf = False\n",
    "\n",
    "  if leaf :\n",
    "    PO.append(S.pop())\n",
    "  \n",
    "  for cur in PO:\n",
    "    # base case\n",
    "    for d in G[cur] :\n",
    "      if vis[d] :\n",
    "        pass #this is parent\n",
    "      else :\n",
    "        pass #this is child"
   ]
  }
 ],
 "metadata": {
  "kernelspec": {
   "display_name": "Python 3",
   "language": "python",
   "name": "python3"
  },
  "language_info": {
   "codemirror_mode": {
    "name": "ipython",
    "version": 3
   },
   "file_extension": ".py",
   "mimetype": "text/x-python",
   "name": "python",
   "nbconvert_exporter": "python",
   "pygments_lexer": "ipython3",
   "version": "3.11.0"
  },
  "orig_nbformat": 4
 },
 "nbformat": 4,
 "nbformat_minor": 2
}
