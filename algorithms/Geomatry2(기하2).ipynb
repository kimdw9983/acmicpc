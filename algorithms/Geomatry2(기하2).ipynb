{
 "cells": [
  {
   "cell_type": "markdown",
   "metadata": {},
   "source": [
    "### 오일러 지표(Euler characteristic)\n",
    "- 임의의 볼록다면체에 대해 `꼭짓점의 수` - `모서리의 수` + `면의 수` = 2 가 성립한다.\n",
    "  - χ(오일러 지표) = V - E + F = 2\n",
    "- 면이 없는 그래프의 경우 단순히 `χ = V - E`가 성립하고, 보다 고차원에서는 `χ = 점 - 선 + 면 - 3차원의 무언가 + 4차원의 무언가 + ...`으로 확장할 수 있다."
   ]
  }
 ],
 "metadata": {
  "language_info": {
   "name": "python"
  },
  "orig_nbformat": 4
 },
 "nbformat": 4,
 "nbformat_minor": 2
}
