{
 "cells": [
  {
   "cell_type": "markdown",
   "metadata": {},
   "source": [
    "- ![image.png](assets/time-complexity-1.png)\n",
    "- 오해하면 안될것이, 만약 $\\Theta(O^2)$ 면, 적어도 $O^2$ 이상의 시간복잡도를 가진다는 것이다.\n",
    "- https://wiki.python.org/moin/TimeComplexity"
   ]
  }
 ],
 "metadata": {
  "language_info": {
   "name": "python"
  },
  "orig_nbformat": 4
 },
 "nbformat": 4,
 "nbformat_minor": 2
}
