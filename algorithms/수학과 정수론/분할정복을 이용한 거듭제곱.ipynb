{
 "cells": [
  {
   "cell_type": "code",
   "execution_count": null,
   "metadata": {},
   "outputs": [],
   "source": [
    "A = 123\n",
    "B = 345\n",
    "C = 1234567891"
   ]
  },
  {
   "cell_type": "markdown",
   "metadata": {},
   "source": [
    "## 분할정복을 이용한 거듭 제곱\n",
    "- $A^{X * Y}$ = $(A^X)^Y$ 인 성질을 이용해서 거듭제곱을 최적화할 수 있다.\n",
    "- $A^B$를 구할 때, B가 짝수이면 $A^{\\frac {B}{2}} * A^{\\frac {B}{2}}$로 분할하여 계산한다.\n",
    "  - 예를들어 $A^4$ = $(A^2)^2$로 계산할 수 있다.\n",
    "- $A^B$를 구할 때, B가 홀수이면 $A^{\\frac {B-1}{2}} * A^{\\frac {B-1}{2}} * A$로 분할하여 계산한다.\n",
    "  - 예를들어 $A^5$ = $(A^2)^2 * A$로 계산할 수 있다.\n",
    "- 이를 이용해 N번의 연산을 하는 O(N)을 $O(logN)$으로 줄일 수 있다."
   ]
  },
  {
   "cell_type": "code",
   "execution_count": null,
   "metadata": {},
   "outputs": [],
   "source": [
    "dp = [A%C]\n",
    "X = 1\n",
    "for b in range(B.bit_length()) :\n",
    "  x = dp[-1]\n",
    "  dp.append(x**2 % C)\n",
    "  if B & (1<<b) : \n",
    "    X *= x\n",
    "X % C"
   ]
  },
  {
   "cell_type": "markdown",
   "metadata": {},
   "source": [
    "### $A^B \\mod C$ 구하기\n",
    "- Python에선 별다른 구현 없이 해당 값을 구할 수 있다."
   ]
  },
  {
   "cell_type": "code",
   "execution_count": null,
   "metadata": {},
   "outputs": [],
   "source": [
    "pow(A, B, C)"
   ]
  }
 ],
 "metadata": {
  "language_info": {
   "name": "python"
  },
  "orig_nbformat": 4
 },
 "nbformat": 4,
 "nbformat_minor": 2
}
