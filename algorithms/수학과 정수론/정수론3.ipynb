{
 "cells": [
  {
   "cell_type": "markdown",
   "metadata": {},
   "source": [
    "### 오일러 피 함수\n",
    "- $n$ 보다 작고 $n$ 과 서로소인 자연수의 개수를 구하는 함수\n",
    "- $n$ 이 소수일 때, $\\phi(n) = n - 1$ 이다. \n",
    "  - 소수일 경우 약수가 1과 자기 자신밖에 없으므로, 자신을 제외한 모든 수와 서로소이다. 따라서 $n - 1$\n",
    "- 어떤 수가 소수인 수 $p$ 의 거듭제곱 꼴일 때 $\\phi(p^k) = p^k - p^{k-1}$ 이다.\n",
    "  - 소수 $p$ 의 거듭제곱과 서로소가 되려면, $p$ 의 배수가 아니어야 한다. \\\n",
    "  따라서 $p^k$ 에서 $p$ 의 배수인 수는 $p, 2p, 3p, ..., p^{k-1}, p^{k-1}p$ 가 있고, 이러한 개수가 $p^{k-1}$ 개이다.\n",
    "  - 또한 $\\phi(p^a) = p^a - p^{a-1} = p^{a-1}(p - 1) = p^a(1 - \\frac{1}{p})$ 이다.\n",
    "- 두 자연수 $m$ 과 $n$ 이 서로소라면, $\\phi(mn) = \\phi(m) \\times \\phi(n)$ 이다.\n",
    "- https://mathphysics.tistory.com/512\n",
    "- https://rkm0959.tistory.com/181"
   ]
  },
  {
   "cell_type": "markdown",
   "metadata": {},
   "source": [
    "### 구현\n",
    "- 시간복잡도: $O(N \\log \\log N)$\n",
    "  - $N \\log N$ 보다 느리게 증가하며, 에라토스테네스의 체의 시간복잡도와 같다.\n",
    "- 공간복잡도: $O(N)$\n",
    "- 즉 사실상 $10^7$ 정도 까지만 쓸 수 있다. 그보다 큰 숫자는 수학적으로 다른 분석이 필요할 것이다.\n",
    "  - 11689(GCD(n, k) = 1)"
   ]
  },
  {
   "cell_type": "code",
   "execution_count": null,
   "metadata": {},
   "outputs": [],
   "source": [
    "def phi(n):\n",
    "  L = [i if i & 1 else i // 2 for i in range(n + 1)]\n",
    "  for i in range(3, n + 1, 2):\n",
    "    if L[i] != i: continue\n",
    "    for j in range(i, n + 1, i):\n",
    "      L[j] = (L[j] // i) * (i - 1)\n",
    "\n",
    "  return L"
   ]
  },
  {
   "cell_type": "markdown",
   "metadata": {},
   "source": [
    "### 뤼카의 정리\n",
    "- $0 < n, r$ 인 정수와 소수 $p$ 에 대해 뤼카의 정리는 다음과 같은 합동식으로 표현할 수 있다.\n",
    "- $\\displaystyle\\binom{n}{r} \\equiv \\prod^k_{i=0} \\binom{n_i}{r_i}\\pmod p$\n",
    "- $n, r$ 을 $p$ 진법으로 나타낸다면\n",
    "  - $n = n_kp^k + n_{k-1}p^{k-1} + \\cdots + n_1p + n_0$\n",
    "  - $r = r_kp^k + r_{k-1}p^{k-1} + \\cdots + r_1p + r_0$\n",
    "  - $0 \\le i \\le k$ 에 대해 $n_i$ 에서 $r_i$ 를 고르는 조합의 수, 즉 $\\displaystyle\\binom{n_i}{r_i}$ 를 모두 곱하면 $\\displaystyle\\binom{n}{r}$ 을 구할 수 있다."
   ]
  },
  {
   "cell_type": "markdown",
   "metadata": {},
   "source": [
    "### 중국인의 나머지 정리(CRT)\n",
    "- 서로소인 n개의 수에 대해 일정한 나머지를 만족하는 수를 찾는 문제\n",
    "- 모든 $i \\ne j$ 에 대해 $\\gcd(m_i, m_j) = 1$ 일 때, 연립부등식 \\\n",
    "$\\begin{cases} x \\equiv {n_1} \\pmod {m_1} \\\\ x \\equiv {n_2} \\pmod {m_2} \\\\ \\vdots \\\\ x \\equiv {n_k} \\pmod {m_k} \\end{cases}$ 의 해는\n",
    "- $M = \\prod^k_im_i, M_i = \\frac{M}{m_i} $ 일 때\\\n",
    "$\\displaystyle x \\equiv \\sum_{i=1}^k M_i ( M_{i}^{-1} \\pmod {m_i} ) n_i \\pmod M $ 이다\n",
    "- 문제에서 나눠야할 수들이 서로소가 아닐경우 모듈러들끼리 소인수분해 해서 각 소인수에 대한 항등식을 따로따로 만들면 된다."
   ]
  },
  {
   "cell_type": "code",
   "execution_count": null,
   "metadata": {},
   "outputs": [],
   "source": [
    "import math\n",
    "import operator as op\n",
    "from functools import reduce\n",
    "lcm = lambda a, b: a * b // math.gcd(a, b)\n",
    "def crt(a, p):\n",
    "  prod = reduce(op.mul, p, 1)\n",
    "  x = [prod // pi for pi in p]\n",
    "  return sum(a[i] * pow(x[i], p[i] - 2, p[i]) * x[i] for i in range(len(a))) % prod\n",
    "\n",
    "def xGCD(a, b):\n",
    "  s, _s = 0, 1\n",
    "  r, _r = b, a\n",
    "  while r:\n",
    "    q = _r // r\n",
    "    _r, r = r, _r - q * r\n",
    "    _s, s = s, _s - q * s\n",
    "  return _r, _s, (_r - _s * a) // b if b else 0\n",
    "\n",
    "def composite_crt(b, m):\n",
    "  \"\"\"returns x s.t. x = b[i] (mod m[i]) for all i\"\"\"\n",
    "  x, m_prod = 0, 1\n",
    "  for bi, mi in zip(b, m):\n",
    "    g, s, _ = xGCD(m_prod, mi)\n",
    "    if ((bi - x) % mi) % g:\n",
    "      return None\n",
    "    x += m_prod * (s * ((bi - x) % mi) // g)\n",
    "    m_prod = (m_prod * mi) // math.gcd(m_prod, mi)\n",
    "  return x % m_prod"
   ]
  }
 ],
 "metadata": {
  "language_info": {
   "name": "python"
  }
 },
 "nbformat": 4,
 "nbformat_minor": 2
}
