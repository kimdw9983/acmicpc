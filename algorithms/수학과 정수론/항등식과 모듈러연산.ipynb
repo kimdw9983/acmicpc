{
 "cells": [
  {
   "cell_type": "markdown",
   "metadata": {},
   "source": [
    "## 모듈러 연산(합동식)\n",
    "- $a \\equiv b \\pmod m$ : a를 m으로 나눈 나머지가 b와 같다.\n",
    "  - $m | (a-b)$ : (a-b)는 m의 배수이다"
   ]
  },
  {
   "cell_type": "markdown",
   "metadata": {},
   "source": [
    "\n",
    "### 성질과 증명\n",
    "- (반사성) $a \\equiv a \\pmod m$ 이다.\n",
    "  - $a - a = 0$이고, $m * 0 = 0$이므로 m | 0 이다. 따라서 $a \\equiv a \\pmod m$이다.\n",
    "- (대칭성) $a \\equiv b \\pmod m$ 이면 $b \\equiv a \\pmod m$이다.\n",
    "  - $a \\equiv b \\pmod m$이므로 $m | (a-b)$이다. 또한 $m | (a-b)$ 이므로 $m | (b-a)$이다. 따라서 $b \\equiv a \\pmod m$이다.\n",
    "- (추이성) $a \\equiv b \\pmod m$ 이고 $b \\equiv c \\pmod m$이면 $a \\equiv c \\pmod m$이다.\n",
    "  - $a \\equiv b \\pmod m$이므로 $m | (a-b)$이다. 또한 $b \\equiv c \\pmod m$이므로 $m | (b-c)$이다. 따라서 $m | (a-b) + (b-c)$이므로, $m | (a-c)$이다. 따라서 $a \\equiv c \\pmod m$이다.\n",
    "- $A \\equiv B \\pmod m$ 이고 $C \\equiv D \\pmod m$ 이면 \n",
    "  - $A±C \\equiv B±D \\pmod m$ (복부호동순)\n",
    "  - $AC \\equiv BD \\pmod m$\n",
    "- $A \\equiv B \\pmod m$ 이면 $A^k \\equiv B^k \\pmod m$"
   ]
  },
  {
   "cell_type": "markdown",
   "metadata": {},
   "source": [
    "### 모듈러 연산의 분배법칙\n",
    "- $(a ± b) \\mod m = (a \\mod m ± b \\mod m) \\mod m$ (복부호동순)\n",
    "  - 가끔 $-$ 연산을 할 때 음수의 모듈러가 나와서 p를 더하는 공식이 있는데, python에선 이를 자동으로 처리해주니 일단 이렇게만 알면 될듯.\n",
    "- $(a * b) \\mod m = (a \\mod m * b \\mod m) \\mod m$"
   ]
  },
  {
   "cell_type": "markdown",
   "metadata": {},
   "source": [
    "### 모듈러 연산의 역원\n",
    "- $(a \\div b) \\mod p = (a \\cdot b^{p-2}) \\mod p = (a \\mod p * b^{p-2} \\mod p) \\mod p$ (페르마의 소정리)\n",
    "  - 모듈러인 $p$ 가 소수일 때에만 성립한다.\n",
    "  - $b^{p-2}$는 $b$의 모듈러 역원이다."
   ]
  }
 ],
 "metadata": {
  "language_info": {
   "name": "python"
  }
 },
 "nbformat": 4,
 "nbformat_minor": 2
}
