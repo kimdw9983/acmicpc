{
 "cells": [
  {
   "cell_type": "code",
   "execution_count": null,
   "metadata": {},
   "outputs": [],
   "source": [
    "a: int; p: int"
   ]
  },
  {
   "cell_type": "markdown",
   "metadata": {},
   "source": [
    "- https://anz1217.tistory.com/108"
   ]
  },
  {
   "attachments": {},
   "cell_type": "markdown",
   "metadata": {},
   "source": [
    "## 유클리드 호제법\n",
    "- 두 수의 최대공약수를 구하는 알고리즘\n",
    "- 두 수 $0 < b < a$ 에 대해 $a = bq + r$ 또는 $a \\equiv r \\pmod b$  이라고 할 때,\n",
    "  - $gcd(a, b) = gcd(b, r)$ 이다.\n",
    "- $r = 0$ 이면 $b$ 가 최대공약수이다."
   ]
  },
  {
   "cell_type": "markdown",
   "metadata": {},
   "source": [
    "\n",
    "#### 유클리드 호제법의 증명\n",
    "- $\\gcd(a, b) = G$, $\\gcd(b, r) = G'$ 라고 하자.\n",
    "- 서로소인 정수 $A, B$ 에 대해 $a = GA$, $b = GB$ 라고 할 수 있다.\n",
    "- 이를 $a = bq + r$ 에 대입하면, $GA = GBq + r$ 이고, $r = G(A - Bq)$ 이다.\n",
    "  - 여기서 $G$ 는 $b$ 와 $r$ 의 공약수임을 알 수 있다. 즉, $G | G'$ 이다.\n",
    "- $G' = mG$ 로 두자. 그러면 적당한 서로소인 두 정수 $k, l$ 에 대해 $GB = G'k = Gmk, G(A-Bq) = G'l = Gml$ 이 성립한다.\n",
    "  - 양변을 $G$ 로 나누면 $B = mk, A-Bq = ml$ 이다.\n",
    "- $A = ml + Bq = ml + mkq = m(l+kq)$ 에서 $m$ 은 $A$ 와 $B$ 의 공약수인데, $\\gcd(A, B) = 1$ 이므로, 항상 $m = 1$ 이되며, $G' = G$ 이다."
   ]
  },
  {
   "cell_type": "markdown",
   "metadata": {},
   "source": [
    "### 확장 유클리드 호제법\n",
    "- xGCD는 a와 b의 최대공약수 뿐만 아니라, 정수 a, b에 대해\n",
    "  - $ax + by = \\gcd(a, b)$ 를 만족하는 정수 x, y를 계산해준다."
   ]
  },
  {
   "cell_type": "code",
   "execution_count": null,
   "metadata": {},
   "outputs": [],
   "source": [
    "def xGCD(a, b):\n",
    "  s, _s = 0, 1\n",
    "  r, _r = b, a\n",
    "  while r:\n",
    "    q = _r // r\n",
    "    _r, r = r, _r - q * r\n",
    "    _s, s = s, _s - q * s\n",
    "  return _r, _s, (_r - _s * a) // b if b else 0"
   ]
  },
  {
   "cell_type": "markdown",
   "metadata": {},
   "source": [
    "## 페르마의 소정리\n",
    "- $p$ 가 소수이고, $a$ 가 정수일 때, 즉 $\\gcd(p, a) = 1$ 일 때 다음을 만족한다.\n",
    "  - $a^p \\equiv a \\pmod p$\n",
    "- 이를 약간 변형하여 모듈로의 역원을 구할 수 있다.\n",
    "  - $a^{p-1} \\equiv 1 \\pmod p (a ≠ 0)$ \n",
    "  - $a^{p-2} \\equiv \\frac{1}{a}\\pmod p (a ≠ 0)$\n",
    "  - 따라서 $p$ 가 소수일 때 $p$ 와 서로소(a and p is relatively prime; a와 p가 상대적으로 소수인 경우)인 임의의 $a$ 의 모듈로 역원은 $a^{p-2}$ 이다."
   ]
  },
  {
   "cell_type": "markdown",
   "metadata": {},
   "source": [
    "## 모듈로 역원\n",
    "- 모듈로 연산 끼리의 덧셈, 뺄셈, 곱셈은 비교적 쉽게 구해지지만, 나눗셈은 그렇지 않다.\n",
    "- 어떤 정수 $a$ 에 대해, $ax \\equiv 1 \\pmod{m}$ 을 만족하는 정수 $x$ 가 존재할 대, $x$ 를 $a$ 에 대한 모듈러 역원이라고 한다.\n",
    "- 즉 모듈러 계에서 $a$ 를 나누는 연산이 필요하다면, 대신 $a$ 의 모듈러 역원 $x$ 를 곱하는 연산을 수행하면 되는 식이다."
   ]
  },
  {
   "cell_type": "markdown",
   "metadata": {},
   "source": [
    "#### 모듈로가 소수일 때\n",
    "- $p$ 가 소수일 때 모듈로 역원은 파이썬의 내장 함수로 구할 수 있다.\n",
    "- 법 p에서 a의 역원은 다음과 같이 출력할 수 있다."
   ]
  },
  {
   "cell_type": "code",
   "execution_count": null,
   "metadata": {},
   "outputs": [],
   "source": [
    "pow(a, -1, p)"
   ]
  },
  {
   "cell_type": "markdown",
   "metadata": {},
   "source": [
    "#### 모듈로가 소수가 아닐 때\n",
    "- $p$ 가 소수가 아닐 때는 확장 유클리드 호제법을 이용해야 한다.\n",
    "  - 여기서 $\\gcd(a, m) = 1$ 이라면, $ax + my = 1$ 이다. \\\n",
    "  이를 $\\mod p$ 에서 생각하면 $my$ 가 cancel out 되므로, $ax \\equiv 1 \\pmod m$ 이다. \\\n",
    "  이러한 식을 만족하는 $x = a^{-1}$ 이다."
   ]
  },
  {
   "cell_type": "code",
   "execution_count": null,
   "metadata": {},
   "outputs": [],
   "source": [
    "def xGCD(a, b):\n",
    "  s, _s = 0, 1\n",
    "  r, _r = b, a\n",
    "  while r:\n",
    "    q = _r // r\n",
    "    _r, r = r, _r - q * r\n",
    "    _s, s = s, _s - q * s\n",
    "  return _r, _s, (_r - _s * a) // b if b else 0\n",
    "\n",
    "def modinv(a, m):\n",
    "  g, x, _ = xGCD(a % m, m)\n",
    "  return x % m if g == 1 else None"
   ]
  },
  {
   "cell_type": "markdown",
   "metadata": {},
   "source": [
    "#### $\\binom {n}{r} \\mod p$\n",
    "- $p$ 는 소수여야 한다.\n",
    "- 시간복잡도: `max_n`을 $N$, 모듈러를 $p$ 라고 할 때\n",
    "  - 전처리 : $O(N + \\log p)$\n",
    "  - 쿼리: $O(\\log_p N)$\n",
    "- 원리는 13977(이항 계수와 쿼리) 참고"
   ]
  },
  {
   "cell_type": "code",
   "execution_count": null,
   "metadata": {},
   "outputs": [],
   "source": [
    "def gnCr(max_n, p=10**9+7):\n",
    "  max_n = min(max_n, p - 1)\n",
    "\n",
    "  F, iF = [0] * (max_n + 1), [0] * (max_n + 1)\n",
    "  F[0] = 1\n",
    "  for i in range(max_n):\n",
    "    F[i+1] = F[i] * (i+1) % p\n",
    "  \n",
    "  iF[-1] = pow(F[-1], -1, p)\n",
    "  for i in reversed(range(max_n)):\n",
    "    iF[i] = iF[i+1] * (i+1) % p\n",
    "\n",
    "  def nCr(n, r):\n",
    "    if n < r: return 0\n",
    "    res = 1\n",
    "    while n or r:\n",
    "      a, b = n % p, r % p\n",
    "      if a < b: return 0\n",
    "      res = res * F[a] % p\n",
    "      res = res * iF[b] % p\n",
    "      res = res * iF[a-b] % p\n",
    "      n //= p\n",
    "      r //= p\n",
    "    return res\n",
    "  return nCr"
   ]
  }
 ],
 "metadata": {
  "language_info": {
   "name": "python"
  },
  "orig_nbformat": 4
 },
 "nbformat": 4,
 "nbformat_minor": 2
}
