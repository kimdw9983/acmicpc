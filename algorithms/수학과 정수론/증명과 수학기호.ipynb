{
 "cells": [
  {
   "cell_type": "markdown",
   "metadata": {},
   "source": [
    "- without loss of generality(WLoG): 일반성을 잃지 않고. 증명의 편의를 위해.\n",
    "  - 그 다음에 나타나는 대상의 임의적인 선택이 전제를 특정 경우로 좁히지만 일반적으로 증명의 유효성에 영향을 미치지 않는다는 가정을 나타내는 데 사용.\\\n",
    "  명시되지 않은 다른 경우는 제시된 것과 기본적으로 동일하고 충분히 유사한 논리를 통해 증명한다.\n",
    "  - 예를들어, $b = a+1$ 이라고 하고, $a$ 를 임의로 짝수로 지정해도 상관 없다. 적용할 대상에 $a$ 가 홀수였다고 하더라도, $b$ 와 $a$ 의 서로 바꾸기만 한다면 되기 때문이다."
   ]
  },
  {
   "cell_type": "markdown",
   "metadata": {},
   "source": [
    "- 함수 정의에서의 $\\mid$ = such that, 그러한. \n",
    "  - ex) $y = \\{ 2 \\cdot x \\mid x \\in X \\}$  는 기본적으로 집합 $X$ 에 있는 그러한 $x$ 에 대해 $y = 2 \\cdot x$ 인 집합을 의미한다.\n"
   ]
  }
 ],
 "metadata": {
  "language_info": {
   "name": "python"
  }
 },
 "nbformat": 4,
 "nbformat_minor": 2
}
