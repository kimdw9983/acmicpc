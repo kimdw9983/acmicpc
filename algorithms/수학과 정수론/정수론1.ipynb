{
 "cells": [
  {
   "cell_type": "code",
   "execution_count": null,
   "metadata": {},
   "outputs": [],
   "source": [
    "A: int;B: int"
   ]
  },
  {
   "attachments": {},
   "cell_type": "markdown",
   "metadata": {},
   "source": [
    "#### 참고 문서 \n",
    "- http://www.parkjonghyuk.net/lecture/ComSec/chap08.pdf\n",
    "- 정수론과 기하학은 증명을 잘 이해해야 한다고 한다."
   ]
  },
  {
   "cell_type": "markdown",
   "metadata": {},
   "source": [
    "### 약수(factors)\n",
    "- $b = an$ 인 정수 $n$ 이 존재할 때 $b$ 는 0 이 아닌 정수 $a$ 로 나누어진다.\n",
    "- $a | b$ 라고 표시하며, $a$ 를 $b$ 의 약수라고 한다.\n",
    "- 또한 이때 $b$ 는 $a$ 의 배수이다.\n",
    "- $a <= b$"
   ]
  },
  {
   "attachments": {},
   "cell_type": "markdown",
   "metadata": {},
   "source": [
    "### n의 모든 약수 출력(all factors)\n",
    "- 시간복잡도 $O(\\sqrt n)$"
   ]
  },
  {
   "cell_type": "code",
   "execution_count": 1,
   "metadata": {},
   "outputs": [],
   "source": [
    "import math\n",
    "\n",
    "def factos(n) :\n",
    "  if not n : return [0]\n",
    "  l = []\n",
    "  for i in range(1, math.isqrt(n) + 1): \n",
    "    if not n % i:\n",
    "      l.append(i)\n",
    "      l.append(n//i)\n",
    "  return l[::2] + l[-3 if l[-1]==l[-2] else -1::-2]"
   ]
  },
  {
   "attachments": {},
   "cell_type": "markdown",
   "metadata": {},
   "source": [
    "### 최대 공약수($\\gcd$)\n",
    "- Python 3.9 버전 이후 gcd에 *args를 활용할 수 있다.\n",
    "- 두 자연수 a, b에 대해 $gcd(a, b) = 1$이라면 a와 b는 서로소이다.\n",
    "- 분수를 통분할 때에도 쓰인다"
   ]
  },
  {
   "cell_type": "code",
   "execution_count": null,
   "metadata": {},
   "outputs": [],
   "source": [
    "import math\n",
    "math.gcd(A, B)"
   ]
  },
  {
   "attachments": {},
   "cell_type": "markdown",
   "metadata": {},
   "source": [
    "### 최소 공배수(lcm)"
   ]
  },
  {
   "cell_type": "code",
   "execution_count": null,
   "metadata": {},
   "outputs": [],
   "source": [
    "import math\n",
    "def lcm(m, n) :\n",
    "  return m*n//math.gcd(m, n)"
   ]
  }
 ],
 "metadata": {
  "kernelspec": {
   "display_name": "Python 3",
   "language": "python",
   "name": "python3"
  },
  "language_info": {
   "codemirror_mode": {
    "name": "ipython",
    "version": 3
   },
   "file_extension": ".py",
   "mimetype": "text/x-python",
   "name": "python",
   "nbconvert_exporter": "python",
   "pygments_lexer": "ipython3",
   "version": "3.11.0"
  },
  "orig_nbformat": 4
 },
 "nbformat": 4,
 "nbformat_minor": 2
}
