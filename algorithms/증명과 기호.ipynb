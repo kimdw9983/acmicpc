{
 "cells": [
  {
   "cell_type": "markdown",
   "metadata": {},
   "source": [
    "- (WLOG)without loss of generality: 일반성을 잃지 않고. 증명의 편의를 위해.\n",
    "  - 그 다음에 나타나는 대상의 임의적인 선택이 전제를 특정 경우로 좁히지만 일반적으로 증명의 유효성에 영향을 미치지 않는다는 가정을 나타내는 데 사용.\\\n",
    "  명시되지 않은 다른 경우는 제시된 것과 기본적으로 동일하고 충분히 유사한 논리를 통해 증명한다.\n",
    "  - 예를들어, $b = a+1$ 이라고 하고, $a$ 를 임의로 짝수로 지정해도 상관 없다. 적용할 대상에 $a$ 가 홀수였다고 하더라도, $b$ 와 $a$ 의 서로 바꾸기만 한다면 되기 때문이다."
   ]
  },
  {
   "cell_type": "markdown",
   "metadata": {},
   "source": [
    "- 함수 정의에서의 $\\mid$ = such that, for which, 그러한. \n",
    "  - ex) $y = \\{ 2 \\cdot x \\mid x \\in X \\}$  는 기본적으로 집합 $X$ 에 있는 그러한 $x$ 에 대해 $y = 2 \\cdot x$ 인 집합을 의미한다.\n"
   ]
  },
  {
   "cell_type": "markdown",
   "metadata": {},
   "source": [
    "- $\\arg$\n",
    "  - 최적화 문제에 대한 최대값 혹은 최솟값을 갖는 값을 정의하는 연산자. \n",
    "  - $\\arg \\max_j$ 라고 하면, subscript로 들어가는 $j$가 $\\max$ 연산의 대상이 된다. 즉, $j$ 가 $\\max$ 여야 한다는 것이다.\n",
    "  - ex) $\\arg \\max_j f(j)$ 는 $f(j)$ 가 최대가 되는 $j$ 를 의미한다.\n",
    "  - ex) $\\arg \\max_j \\{j \\mid L_i < L_j\\}$ 는 $L_i$ 보다 큰 $L_j$ 중에서 가장 큰 $j$ 를 의미한다."
   ]
  },
  {
   "cell_type": "markdown",
   "metadata": {},
   "source": [
    "- $:$\n",
    "  - 정의에 대한 설명\n",
    "    - 좌건엔 정의되는 대상(축약), 우건엔 정의에 대한 설명이 온다.\n",
    "  - 표현에 대한 제약\n",
    "    - 좌건에 대한 제약이 우건에 온다.\n",
    "    - ex) $f(x) = x^2 : x \\in \\mathbb{R}$ \n",
    "      - $f(x) = x^2$ 이고, $x$ 가 실수인 경우에 대한 함수를 의미한다.\n",
    "    - ex) $k \\in \\Z^+ : 2^{k-1} \\leq d < 2^k$\n",
    "      - 양의 정수 $k$ 에 대해, $2^{k-1} \\leq d < 2^k$ 를 만족하는 $d$ 가 $k$ 라는 것을 의미한다.\n",
    "      - $k : k \\in Z^+ \\text{and } 2^{k-1} \\leq d < 2^k $ 라고도 표현할 수 있다"
   ]
  },
  {
   "cell_type": "markdown",
   "metadata": {},
   "source": [
    "- $\\exist$ : 존재한다"
   ]
  },
  {
   "cell_type": "markdown",
   "metadata": {},
   "source": [
    "- $\\Z^+$: 양의 정수"
   ]
  }
 ],
 "metadata": {
  "language_info": {
   "name": "python"
  }
 },
 "nbformat": 4,
 "nbformat_minor": 2
}
