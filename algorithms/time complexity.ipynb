{
 "cells": [
  {
   "cell_type": "markdown",
   "metadata": {},
   "source": [
    "- ![image.png](assets/time-complexity-1.png)\n",
    "- 오해하면 안될것이, 만약 $\\Theta(O^2)$ 면, 적어도 $O^2$ 이상의 시간복잡도를 가진다는 것이다.\n",
    "- https://wiki.python.org/moin/TimeComplexity"
   ]
  },
  {
   "cell_type": "markdown",
   "metadata": {},
   "source": [
    "### 빠른 Cheat sheet\n",
    "- ![Alt text](assets/time/image.png)\n",
    "  - `plot of y=log N and y=log log N and y=log^2 N and y=sqrt(N) and y=N and y=sqrt(N) log N for N=0 to 100` on WolframAlpha\n",
    "- $\\log \\log N < \\sqrt N \\log N < \\log N < \\sqrt N < \\log^2 N < N < N \\log \\log N$\n",
    "  - $\\log \\log N = \\log (\\log N)$ 이다. $N \\log \\log N$ 이 에라토스테네스, phi 함수 등에서 사용된다.\n",
    "  - $ \\sqrt N \\log N$ 은 폴라드-로 인수분해에서 사용된다."
   ]
  },
  {
   "cell_type": "markdown",
   "metadata": {},
   "source": [
    "### 시간복잡도에서의 $\\log$ 에 대해\n",
    "- 어떤 반복문을 돌면서 한 step당 줄어드는 비율이 $\\frac 1{N}$ 이라면, 해당 반복문은 $log_N$ 에 비례한다고 볼 수 있다.\n",
    "- 이분탐색은, 한 step 당 범위가 $1 \\over 2$ 씩 줄어든다. 따라서 $\\log_2 N$ 이다. \n",
    "  - 컴공 계열에선 $\\log_2$ 의 밑 $_2$ 를 생략하고 $\\log$ 라고 표현해서 간과하기 쉽다.\n",
    "- 어떤 특수한, 특히 정수론 문제를 풀다보면 이렇게 줄어드는 비율이 특이할 수 있는데, 이때의 몫 또한 $\\log$ 의 밑으로 간다. \\\n",
    "다음은 인상 깊었은 시간복잡도를 가진 문제.\n",
    "  - 13977(이항 계수와 쿼리): $O(X + M \\log_p X)$"
   ]
  }
 ],
 "metadata": {
  "language_info": {
   "name": "python"
  },
  "orig_nbformat": 4
 },
 "nbformat": 4,
 "nbformat_minor": 2
}
