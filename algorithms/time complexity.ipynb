{
 "cells": [
  {
   "cell_type": "markdown",
   "metadata": {},
   "source": [
    "- ![image.png](assets/time-complexity-1.png)\n",
    "- 오해하면 안될것이, 만약 $\\Theta(O^2)$ 면, 적어도 $O^2$ 이상의 시간복잡도를 가진다는 것이다.\n",
    "- https://wiki.python.org/moin/TimeComplexity"
   ]
  },
  {
   "cell_type": "markdown",
   "metadata": {},
   "source": [
    "### 빠른 Cheat sheet\n",
    "- ![Alt text](assets/time/image.png)\n",
    "  - `plot of y=log N and y=log log N and y=log^2 N and y=sqrt(N) and y=N and y=sqrt(N) log N for N=0 to 100` on WolframAlpha\n",
    "- $\\log \\log N < \\sqrt N \\log N < \\log N < \\sqrt N < \\log^2 N < N < N \\log \\log N$\n",
    "  - $\\log \\log N = \\log (\\log N)$ 이다. $N \\log \\log N$ 이 에라토스테네스, phi 함수 등에서 사용된다.\n",
    "  - $ \\sqrt N \\log N$ 은 폴라드-로 인수분해에서 사용된다."
   ]
  }
 ],
 "metadata": {
  "language_info": {
   "name": "python"
  },
  "orig_nbformat": 4
 },
 "nbformat": 4,
 "nbformat_minor": 2
}
