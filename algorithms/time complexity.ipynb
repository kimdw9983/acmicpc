{
 "cells": [
  {
   "cell_type": "markdown",
   "metadata": {},
   "source": [
    "- ![image.png](assets/time-complexity-1.png)\n",
    "- 오해하면 안될것이, 만약 $\\Theta(O^2)$ 면, 적어도 $O^2$ 이상의 시간복잡도를 가진다는 것이다.\n",
    "- https://wiki.python.org/moin/TimeComplexity"
   ]
  },
  {
   "cell_type": "markdown",
   "metadata": {},
   "source": [
    "### 빠른 Cheat sheet\n",
    "- ![Alt text](assets/time/image.png)\n",
    "  - `plot of y=log N and y=log log N and y=log^2 N and y=sqrt(N) and y=N and y=sqrt(N) log N for N=0 to 100` on WolframAlpha\n",
    "- $\\log \\log N < \\sqrt N \\log N < \\log N < \\sqrt N < \\log^2 N < N < N \\log \\log N$\n",
    "  - $\\log \\log N = \\log (\\log N)$ 이다. $N \\log \\log N$ 이 에라토스테네스, phi 함수 등에서 사용된다.\n",
    "  - $ \\sqrt N \\log N$ 은 폴라드-로 인수분해에서 사용된다."
   ]
  },
  {
   "cell_type": "markdown",
   "metadata": {},
   "source": [
    "### 시간복잡도에서의 $\\log$ 에 대해\n",
    "- 어떤 반복문을 돌면서 한 step당 줄어드는 비율이 $\\frac 1{N}$ 이라면, 해당 반복문은 $log_N$ 에 비례한다고 볼 수 있다.\n",
    "- 이분탐색은, 한 step 당 범위가 $1 \\over 2$ 씩 줄어든다. 따라서 $\\log_2 N$ 이다. \n",
    "  - 컴공 계열에선 $\\log_2$ 의 밑 $_2$ 를 생략하고 $\\log$ 라고 표현해서 간과하기 쉽다.\n",
    "- 어떤 특수한, 특히 정수론 문제를 풀다보면 이렇게 줄어드는 비율이 특이할 수 있는데, 이때의 몫 또한 $\\log$ 의 밑으로 간다. \\\n",
    "다음은 인상 깊었은 시간복잡도를 가진 문제.\n",
    "  - 13977(이항 계수와 쿼리): $O(X + M \\log_p X)$"
   ]
  },
  {
   "cell_type": "markdown",
   "metadata": {},
   "source": [
    "### 구현 관련(현실 time complexity)\n",
    "- 쓸모없는 최적화로 코딩시간을 낭비하지 않는다.\n",
    "  - 예를 들어, 기하 문제에서 같은 점이 있으면 더 이상의 처리 없이 정답이 0으로 확정 되는 경우가 있다고 하자.\n",
    "  - 이때, 입력받는중에 같은 점이 있는지 확인하는 코드를 추가하면, 평균 속도는 개선되지만 최악 속도는 오히려 더 느려질 수 있다.\n",
    "    - early return을 할거라면, 입력 중에 매번 if문 한개를 추가해야 한다. \\\n",
    "    입력에 따라 이건 시간복잡도에 영향을 줄 수도 있다.\\\n",
    "    심지어, 바이트코드상 최선인 `[v for v in L if v == x]` 이런 패턴으로 입력을 받아도,\\\n",
    "    모두 다른점이 입력되는 케이스에선 바이트코드만 늘리는 셈이 된다.\n",
    "    - set()을 쓴다고 해도, 해싱해야한다. 해싱은 느리다.\n",
    "  - 현재 분기의 복잡성을 줄이거나 구현 편의상 넣는게 아닌, 순수 속도 개선을 위한 사소한 최적화라면, 고민조차 하지말자. 정답부터 맞고 생각하자."
   ]
  }
 ],
 "metadata": {
  "language_info": {
   "name": "python"
  },
  "orig_nbformat": 4
 },
 "nbformat": 4,
 "nbformat_minor": 2
}
