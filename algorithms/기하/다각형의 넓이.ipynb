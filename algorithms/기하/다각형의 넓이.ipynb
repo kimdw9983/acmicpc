{
 "cells": [
  {
   "cell_type": "markdown",
   "metadata": {},
   "source": [
    "### 헤론의 공식\n",
    "- 삼각형의 세 변의 길이가 a, b, c일 때\n",
    "- `s = (a+b+c)/2` 라고 할 때\n",
    "- `넓이 = sqrt(s(s-a)(s-b)(s-c))`\n",
    "- 직선으로 쌓인 도형은 무조건 삼각형으로 만들 수 있다.\n",
    "- 이를 이용해 다각형의 넓이를 구할 수 있다.\n",
    "\n",
    "# 다각형의 면적\n",
    "- 두 벡터의 외적은 두 벡터가 이루는 평행사변형의 넓이와 같다.\n",
    "  - 이 넓이를 2로 나눈다면 삼각형이 되고\n",
    "- 모든 n각형은 삼각형으로 나눌 수 있다.\n",
    "- 따라서 한 꼭짓점을 기준으로, 각 꼭짓점마다의 외적을 모두 더한것에 절대값을 취하고 2로 나누면 다각형의 넓이가 된다.\n",
    "  - 벡터를 넣는 순서에 따라 값이 양수/음수가 나오기 때문에 절대값을 취해야한다.\n",
    "\n",
    "### 오목/볼록\n",
    "- 동일한 기준으로 만들어진 다각형에서, 어떤 벡터사이의 외적은 다른 외적의 값과 부호가 다를 수 있다.\n",
    "  - 즉, CCW의 부호가 반대이다\n",
    "- 이를 시각화 하면 다음과 같다.\n",
    "  - ![image-2.png](assets/area-of-polygon-1.png)\n",
    "- 해당 면적은 부호가 반대이므로, 모든 외적의 값을 더한다면, 자연스럽게 그 값은 면적에서 빠지게 될 것이다.\n",
    "  - 즉, 오목한 부분의 넓이가 빠지는 것과 같다.\n",
    "- 따라서 각 외적의 값을 모두 더한 다음에, 최종 결과에 절대값을 취한다면 다각형의 넓이는 문제없이 나오게 된다."
   ]
  },
  {
   "cell_type": "markdown",
   "metadata": {},
   "source": [
    "### 구현 예시\n",
    "- 각 다각형의 점들을 순회하면서 CCW(P[0], P[i], P[i+1])의 값을 모두 더한 다음 2로 나눈다."
   ]
  },
  {
   "cell_type": "code",
   "execution_count": null,
   "metadata": {},
   "outputs": [],
   "source": [
    "ccw = lambda o, a, b: (a[0] - o[0]) * (b[1] - o[1]) - (a[1] - o[1]) * (b[0] - o[0])\n",
    "def get_area(P: list) :\n",
    "  if len(P) < 3 : return print(0)\n",
    "\n",
    "  area = 0\n",
    "  for i, v1 in enumerate(P) :\n",
    "    v2 = P[(i + 1) % len(P)]\n",
    "    area += ccw(P[0], v1, v2)\n",
    "  \n",
    "  return abs(area) // 2"
   ]
  }
 ],
 "metadata": {
  "language_info": {
   "name": "python"
  },
  "orig_nbformat": 4
 },
 "nbformat": 4,
 "nbformat_minor": 2
}
