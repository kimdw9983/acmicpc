{
 "cells": [
  {
   "cell_type": "markdown",
   "metadata": {},
   "source": [
    "### 선분 교차\n",
    "- 두개의 선분이 서로 교차하는지 여부를 찾는 문제이다.\n",
    "- disjoint: 두 선분에 공통으로 포함되는 점이 존재하지 않는다.\n",
    "- intersecting: 두 선분이 서로 교차한다.\n",
    "  - crossing: 두 선분에 공통되는 점이 하나이고, 그 선분은 어떤 선분의 끝점이 아니다.\n",
    "  - touching: 두 선분에 공통되는 점이 하나이고, 그 선분은 어떤 선분의 끝점이다.\n",
    "  - overlapping: 두 선분에 공통되는 점들이 여러개이다 = 선분을 이룬다.\n",
    "  - containing: 한 선분이 다른 선분에 포함된다.\n",
    "  - same: 두 선분이 일치한다."
   ]
  },
  {
   "cell_type": "markdown",
   "metadata": {},
   "source": [
    "### 샤모스 호이(Shamos-Hoey) 알고리즘\n",
    "- 두 선분이 교차하는지 판별은 $O(1)$에 할 수 있다.\n",
    "  - 모든 선분에 대해 각각 선분 교차판정을 수행하면 $O(N^2)$이 걸린다.\n",
    "- 이 문제를 스위핑을 기반으로 $O(N \\log N)$에 풀 수 있는 알고리즘\n",
    "- https://qwerasdfzxcl.tistory.com/18"
   ]
  }
 ],
 "metadata": {
  "language_info": {
   "name": "python"
  },
  "orig_nbformat": 4
 },
 "nbformat": 4,
 "nbformat_minor": 2
}
