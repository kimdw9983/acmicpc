{
 "cells": [
  {
   "cell_type": "markdown",
   "metadata": {},
   "source": [
    "### 선분 교차\n",
    "- 두개의 선분이 서로 교차하는지 여부를 찾는 문제이다.\n",
    "- disjoint: 두 선분에 공통으로 포함되는 점이 존재하지 않는다.\n",
    "  - parallel: 두 선분이 평행하다.\n",
    "- intersecting: 두 선분이 서로 교차한다.\n",
    "  - crossing: 두 선분에 공통되는 점이 하나이고, 그 선분은 어떤 선분의 끝점이 아니다.\n",
    "  - touching: 두 선분에 공통되는 점이 하나이고, 그 선분은 어떤 선분의 끝점이다.\n",
    "  - overlapping: 두 선분에 공통되는 점들이 여러개이다 = 선분을 이룬다.\n",
    "  - containing: 한 선분이 다른 선분에 포함된다.\n",
    "  - same: 두 선분이 일치한다."
   ]
  },
  {
   "cell_type": "markdown",
   "metadata": {},
   "source": [
    "### 교차 여부만 확인"
   ]
  },
  {
   "cell_type": "code",
   "execution_count": null,
   "metadata": {},
   "outputs": [],
   "source": [
    "ccw = lambda o, a, b: (a[0] - o[0]) * (b[1] - o[1]) - (a[1] - o[1]) * (b[0] - o[0])\n",
    "def cross(a, b) :\n",
    "  t1 = ccw(a[0], a[1], b[0]) * ccw(a[0], a[1], b[1])\n",
    "  t2 = ccw(b[0], b[1], a[0]) * ccw(b[0], b[1], a[1])\n",
    "  if t1 < 0 and t2 < 0 : return True\n",
    "  if t1 == 0 and t2 == 0: return b[0] <= a[1] and a[0] <= b[1]\n",
    "  return t1 <= 0 and t2 <= 0"
   ]
  },
  {
   "cell_type": "markdown",
   "metadata": {},
   "source": [
    "### 모든 케이스 분류\n",
    "- overlapping과 containing의 구현은 진행중."
   ]
  },
  {
   "cell_type": "code",
   "execution_count": null,
   "metadata": {},
   "outputs": [],
   "source": [
    "ccw = lambda o, a, b: (a[0] - o[0]) * (b[1] - o[1]) - (a[1] - o[1]) * (b[0] - o[0])\n",
    "def swap(A, B) :\n",
    "  A, B = sorted([A, B], key= lambda x: (x[0], x[1]))\n",
    "  return *A, *B\n",
    "\n",
    "def cmp(ax, ay, bx, by) :\n",
    "  if ax == bx :  return ay <= by\n",
    "  else : return ax <= bx \n",
    "\n",
    "def cross(a, b):\n",
    "  c1 = ccw(a[0], a[1], b[0])\n",
    "  c2 = ccw(a[0], a[1], b[1])\n",
    "  c3 = ccw(b[0], b[1], a[0])\n",
    "  c4 = ccw(b[0], b[1], a[1])\n",
    "  t1 = c1 * c2\n",
    "  t2 = c3 * c4\n",
    "\n",
    "  if t1 > 0 or t2 > 0: return \"disjoint\"\n",
    "  elif t1 < 0 and t2 < 0: return \"crossing\"\n",
    "  elif t1 == 0 and t2 == 0:\n",
    "    x1, y1, x2, y2 = swap((a[0][0], a[0][1]), (a[1][0], a[1][1]))\n",
    "    x3, y3, x4, y4 = swap((b[0][0], b[0][1]), (b[1][0], b[1][1]))\n",
    "\n",
    "    if not (cmp(x3, y3, x2, y2) and cmp(x1, y1, x4, y4)) : return \"parallel\"\n",
    "    if (x1, y1) == (x3, y3) and (x2, y2) == (x4, y4): return \"same\"\n",
    "    elif ((c1 * c4) == 0 and c2 != 0) or ((c2 * c3) == 0 and c1 != 0) or (a[1][0] == b[0][0] and a[1][1] == b[0][1]) or (a[0][0] == b[1][0] and a[0][1] == b[1][1]) : return \"touching\"\n",
    "\n",
    "    #TODO: 한 직선의 좌표가 다른 직선의 좌표를 포함하는 경우\n",
    "    elif (cmp(x1, y1, x3, y3) and cmp(x4, y4, x1, y1)) or (cmp(x1, y1, x4, y4) and cmp(x3, y3, x1, y1)) or (cmp(x2, y2, x3, y3) and cmp(x4, y4, x2, y2)) or (cmp(x2, y2, x4, y4) and cmp(x3, y3, x2, y2)):  return \"containing\"\n",
    "    return \"overlapping\"\n",
    "  return \"touching\""
   ]
  },
  {
   "cell_type": "markdown",
   "metadata": {},
   "source": [
    "### 점이 선분 위에 있는지 여부 확인"
   ]
  },
  {
   "cell_type": "code",
   "execution_count": null,
   "metadata": {},
   "outputs": [],
   "source": [
    "ccw = lambda o, a, b: (a[0] - o[0]) * (b[1] - o[1]) - (a[1] - o[1]) * (b[0] - o[0])\n",
    "def lies(a, b, p) :\n",
    "  if not min(a[0], b[0]) <= p[0] <= max(a[0], b[0]) and min(a[1], b[1]) <= p[1] <= max(a[1], b[1]): return False\n",
    "  return ccw(a, b, p) == 0"
   ]
  },
  {
   "cell_type": "markdown",
   "metadata": {},
   "source": [
    "### 샤모스 호이(Shamos-Hoey) 알고리즘\n",
    "- 두 선분이 교차하는지 판별은 $O(1)$에 할 수 있다.\n",
    "  - 모든 선분에 대해 각각 선분 교차판정을 수행하면 $O(N^2)$이 걸린다.\n",
    "- 이 문제를 스위핑을 기반으로 $O(N \\log N)$에 풀 수 있는 알고리즘\n",
    "- https://qwerasdfzxcl.tistory.com/18"
   ]
  }
 ],
 "metadata": {
  "language_info": {
   "name": "python"
  },
  "orig_nbformat": 4
 },
 "nbformat": 4,
 "nbformat_minor": 2
}
