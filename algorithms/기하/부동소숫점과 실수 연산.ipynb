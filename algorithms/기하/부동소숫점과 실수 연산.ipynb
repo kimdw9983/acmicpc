{
 "cells": [
  {
   "cell_type": "code",
   "execution_count": null,
   "metadata": {},
   "outputs": [],
   "source": [
    "res:float"
   ]
  },
  {
   "cell_type": "markdown",
   "metadata": {},
   "source": [
    "### EPS 테크닉\n",
    "- 반올림, 올림, 내림 전부 부동소수점 오차에 의해 원하는 값이 나오지 않을 수 있다. \n",
    "- off-by-epsilon 으로 틀리고싶지 않다면 아래와 같이 테크닉을 사용하자."
   ]
  },
  {
   "cell_type": "markdown",
   "metadata": {},
   "source": [
    "#### 같은지 확인\n",
    "- EPS보다 작으면 같은 것으로 간주한다."
   ]
  },
  {
   "cell_type": "code",
   "execution_count": null,
   "metadata": {},
   "outputs": [],
   "source": [
    "EPS = 1e-9\n",
    "if res < EPS :\n",
    "  pass #consider as equal"
   ]
  },
  {
   "cell_type": "markdown",
   "metadata": {},
   "source": [
    "#### 소숫점 2자리까지 올림"
   ]
  },
  {
   "cell_type": "code",
   "execution_count": null,
   "metadata": {},
   "outputs": [],
   "source": [
    "EPS = 1e-12\n",
    "if res - float(f\"{res:.2f}\") > EPS :\n",
    "  res += 0.01"
   ]
  },
  {
   "cell_type": "markdown",
   "metadata": {},
   "source": [
    "### 오사오입(round-to-nearest-even)과 사사오입(round off)\n",
    "- Python과 JavaScript는 round-to-nearest-even 방식으로 반올림을 한다.\n",
    "  - 5의 앞자리가 짝수면 내림, 홀수면 올림을 한다.\n",
    "- 반면 다른 언어는 사사오입을 요구해서 별것도 아닌 문제에서 정신이 나갈 수도 있다.\n",
    "  - 4 이하의 숫자는 내리고, 5 이상의 숫자는 올린다.\n",
    "- 이 역시 EPS만큼 더하는 것을 통해 해결할 수 있다."
   ]
  },
  {
   "cell_type": "code",
   "execution_count": null,
   "metadata": {},
   "outputs": [],
   "source": [
    "EPS = 1e-12\n",
    "print(round(2.5)) #2\n",
    "print(round(2.5 + EPS)) #3, 사사오입"
   ]
  },
  {
   "cell_type": "markdown",
   "metadata": {},
   "source": [
    "#### 소숫점 2자리까지 반올림"
   ]
  },
  {
   "cell_type": "code",
   "execution_count": null,
   "metadata": {},
   "outputs": [],
   "source": [
    "EPS = 1e-12\n",
    "round(res + EPS, 2)"
   ]
  }
 ],
 "metadata": {
  "language_info": {
   "name": "python"
  }
 },
 "nbformat": 4,
 "nbformat_minor": 2
}
