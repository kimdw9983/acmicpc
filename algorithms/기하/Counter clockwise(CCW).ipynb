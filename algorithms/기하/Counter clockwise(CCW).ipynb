{
 "cells": [
  {
   "cell_type": "markdown",
   "metadata": {},
   "source": [
    "# CCW\n",
    "- ![image.png](assets/ccw-1.png)\n",
    "- 세 점 A, B, C가 있을 때 벡터 AB와 벡터 AC의 외적을 통해 세 점의 방향 관계를 알 수 있다.\n",
    "\n",
    "\n",
    "### CCW 방법\n",
    "- 점 A, B, C가 있을때 기준이 되는 점을 C로 잡는다.\n",
    "  - ![image-3.png](assets/ccw-2.png)\n",
    "- 벡터 CA와 벡터 AB를 만든다.\n",
    "  - ![image-5.png](assets/ccw-3.png)\n",
    "- 벡터 CA와 벡터 AB의 외적을 구한다. 2차원 이기때문에 Z값에 0을 넣는다.\n",
    "  - 계산한 값은 $(0, 0, ad-bc)$ 가 나오게 된다\n",
    "  - ![image-6.png](assets/ccw-4.png)\n",
    "- 따라서 다음과 같은 공식이 성립한다.\n",
    "  - ![image-4.png](assets/ccw-5.png)\n",
    "- 계산하면 다음과 같은 값이 다오며, 이 값이 양수이기 때문에 반시계 방향임을 알 수 있다.\n",
    "  - ![image-7.png](assets/ccw-6.png)\n"
   ]
  },
  {
   "cell_type": "markdown",
   "metadata": {},
   "source": [
    "- 점 o, a, b에 대해 $\\overrightarrow{oa}$와 $\\overrightarrow{ob}$의 외적"
   ]
  },
  {
   "cell_type": "code",
   "execution_count": null,
   "metadata": {},
   "outputs": [],
   "source": [
    "ccw = lambda o, a, b: (a[0] - o[0]) * (b[1] - o[1]) - (a[1] - o[1]) * (b[0] - o[0])"
   ]
  },
  {
   "cell_type": "markdown",
   "metadata": {},
   "source": [
    "- 점 a, b, c, d에 대해 $\\overrightarrow{ab}$와 $\\overrightarrow{cd}$의 외적"
   ]
  },
  {
   "cell_type": "code",
   "execution_count": null,
   "metadata": {},
   "outputs": [],
   "source": [
    "ccw2 = lambda a, b, c, d: (b[0] - a[0]) * (d[1] - c[1]) - (b[1] - a[1]) * (d[0] - c[0])"
   ]
  }
 ],
 "metadata": {
  "language_info": {
   "name": "python"
  },
  "orig_nbformat": 4
 },
 "nbformat": 4,
 "nbformat_minor": 2
}
