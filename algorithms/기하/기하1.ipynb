{
 "cells": [
  {
   "cell_type": "code",
   "execution_count": null,
   "metadata": {},
   "outputs": [],
   "source": [
    "P1: tuple[int, int]\n",
    "P2: tuple[int, int]"
   ]
  },
  {
   "cell_type": "markdown",
   "metadata": {},
   "source": [
    "### 원의 넓이와 둘레\n",
    "- $r$: 반지름\n",
    "- 원의 넓이: $S = \\pi r^2$\n",
    "- 원의 둘레: $L = 2\\pi r$"
   ]
  },
  {
   "cell_type": "markdown",
   "metadata": {},
   "source": [
    "### 피타고라스의 정리\n",
    "- ![image.png](assets/geometry1-1.png)\n",
    "- 직각삼각형의 빗변의 제곱은 두 직각변의 제곱의 합과 같다.\n",
    "- 밑변을 a, 높이를 b라고 하면, 빗변 c는 다음과 같다.\n",
    "  - $c^2 = a^2 + b^2$\n",
    "  - $c = \\sqrt{a^2 + b^2}$"
   ]
  },
  {
   "cell_type": "markdown",
   "metadata": {},
   "source": [
    "### 삼각비\n",
    "- ![image.png](assets/geometry1-2.png)\n",
    "- sin = $\\frac {높이}{빗변}$\n",
    "- cos = $\\frac {밑변}{빗변}$\n",
    "- tan = $\\frac {높이}{밑변}$\n",
    "- 먼저 써지는 획이 `분모`, 나중에 써지는 획이 `분자`"
   ]
  },
  {
   "attachments": {},
   "cell_type": "markdown",
   "metadata": {},
   "source": [
    "## 두 점 사이의 거리\n",
    "- 당연히 유클리안 거리이다.\n",
    "- 부동소수점으로 표현됨에 주의"
   ]
  },
  {
   "cell_type": "code",
   "execution_count": 3,
   "metadata": {},
   "outputs": [
    {
     "data": {
      "text/plain": [
       "1.0"
      ]
     },
     "execution_count": 3,
     "metadata": {},
     "output_type": "execute_result"
    }
   ],
   "source": [
    "import math\n",
    "math.dist(P1, P2)"
   ]
  },
  {
   "cell_type": "markdown",
   "metadata": {},
   "source": [
    "## 라디안\n",
    "- ![image.png](assets/geometry1-3.png)\n",
    "- 어느 한 원이 원점을 중심으로 반지름의 길이만큼 한 방향 움직였을 때 대응하는 각의 크기\n",
    "\n",
    "### 라디안 -> 각도"
   ]
  },
  {
   "cell_type": "code",
   "execution_count": 6,
   "metadata": {},
   "outputs": [
    {
     "data": {
      "text/plain": [
       "90.0"
      ]
     },
     "execution_count": 6,
     "metadata": {},
     "output_type": "execute_result"
    }
   ],
   "source": [
    "import math\n",
    "math.degrees(1.5707963267948966)"
   ]
  },
  {
   "attachments": {},
   "cell_type": "markdown",
   "metadata": {},
   "source": [
    "### 각도 -> 라디안"
   ]
  },
  {
   "cell_type": "code",
   "execution_count": 7,
   "metadata": {},
   "outputs": [
    {
     "data": {
      "text/plain": [
       "1.5707963267948966"
      ]
     },
     "execution_count": 7,
     "metadata": {},
     "output_type": "execute_result"
    }
   ],
   "source": [
    "math.radians(90)"
   ]
  },
  {
   "attachments": {},
   "cell_type": "markdown",
   "metadata": {},
   "source": [
    "### 극좌표계 -> 직교좌표계 변환\n",
    "- 좌표 회전 method\n",
    "- 25308(방사형 그래프)"
   ]
  },
  {
   "cell_type": "code",
   "execution_count": 9,
   "metadata": {},
   "outputs": [
    {
     "name": "stdout",
     "output_type": "stream",
     "text": [
      "x1, y1(5, 9)을 30도 회전시킨 좌표는 (4.330127018922194, 4.499999999999999)\n"
     ]
    }
   ],
   "source": [
    "x1 = 5\n",
    "y1 = 9\n",
    "degree = 30\n",
    "\n",
    "radian = math.radians(degree)\n",
    "x2 = x1 * math.cos(radian)\n",
    "y2 = y1 * math.sin(radian)\n",
    "print(f'x1, y1({x1}, {y1})을 {degree}도 회전시킨 좌표는 ({x2}, {y2})')"
   ]
  },
  {
   "cell_type": "markdown",
   "metadata": {},
   "source": [
    "### 두 교점의 x좌표\n",
    "- https://gaussian37.github.io/math-algorithm-intersection_point/"
   ]
  },
  {
   "cell_type": "code",
   "execution_count": null,
   "metadata": {},
   "outputs": [],
   "source": [
    "def cross(a: tuple[int, int], b: tuple[int, int]):\n",
    "  return (b[1] - a[1]) / (a[0] - b[0])"
   ]
  },
  {
   "cell_type": "markdown",
   "metadata": {},
   "source": [
    "### 직선 관련 스니펫"
   ]
  },
  {
   "cell_type": "code",
   "execution_count": null,
   "metadata": {},
   "outputs": [],
   "source": [
    "import math, itertools\n",
    "def get_2dline(p1, p2):\n",
    "    if p1 == p2:\n",
    "        return (0, 0, 0)\n",
    "    _p1, _p2 = min(p1, p2), max(p1, p2)\n",
    "    a, b, c = _p2[1] - _p1[1], _p1[0] - _p2[0], _p1[1] * _p2[0] - _p1[0] * _p2[1]\n",
    "    g = math.gcd(math.gcd(a, b), c)\n",
    "    return (a // g, b // g, c // g)\n",
    "\n",
    "# 2d line: ax + by + c = 0  is  (a, b, c)\n",
    "#          ax + by + c = 0     ((a, b, c),\n",
    "# 3d line: dx + ez + f = 0  is  (d, e, f),\n",
    "#          gy + hz + i = 0      (g, h, i))\n",
    "\n",
    "get_line = lambda p1, p2: map(get_2dline, itertools.combinations(p1, 2), itertools.combinations(p2, 2))\n",
    "is_parallel = lambda l1, l2: l1[0] * l2[1] == l2[0] * l1[1]\n",
    "is_same = lambda l1, l2: is_parallel(l1, l2) and (l1[1] * l2[2] == l2[1] * l1[2])\n",
    "collinear = lambda p1, p2, p3: is_same(get_2dline(p1, p2), get_2dline(p2, p3))\n",
    "intersect = (lambda l1, l2: None if is_parallel(l1, l2) else (\n",
    "    (l2[1] * l1[2] - l1[1] * l2[2]) / (l2[0] * l1[1] - l1[0] * l2[1]),\n",
    "    (l1[0] * l2[2] - l1[2] * l2[0]) / (l2[0] * l1[1] - l1[0] * l2[1]),\n",
    "))\n",
    "rotate = lambda p, theta, origin=(0, 0): (\n",
    "    origin[0] + (p[0] - origin[0]) * math.cos(theta) - (p[1] - origin[1]) * math.sin(theta),\n",
    "    origin[1] + (p[0] - origin[0]) * math.sin(theta) + (p[1] - origin[1]) * math.cos(theta),\n",
    ")"
   ]
  }
 ],
 "metadata": {
  "kernelspec": {
   "display_name": "Python 3",
   "language": "python",
   "name": "python3"
  },
  "language_info": {
   "codemirror_mode": {
    "name": "ipython",
    "version": 3
   },
   "file_extension": ".py",
   "mimetype": "text/x-python",
   "name": "python",
   "nbconvert_exporter": "python",
   "pygments_lexer": "ipython3",
   "version": "3.11.0"
  },
  "orig_nbformat": 4
 },
 "nbformat": 4,
 "nbformat_minor": 2
}
