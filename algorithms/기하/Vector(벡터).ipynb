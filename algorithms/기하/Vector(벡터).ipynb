{
 "cells": [
  {
   "cell_type": "markdown",
   "metadata": {},
   "source": [
    "### 참고\n",
    "- https://darkpgmr.tistory.com/121\n",
    "- https://physicsinmyview.com/2020/10/dot-product-vs-cross-product.html"
   ]
  },
  {
   "cell_type": "markdown",
   "metadata": {},
   "source": [
    "### 벡터(Vector)\n",
    "- 벡터는 크기와 방향을 가지는 물리량을 표현하는 것으로, 벡터의 크기는 절대값으로 표현하고, 방향은 단위벡터로 표현한다.\n",
    "- ![image.png](assets/vector-1.png)\n",
    "\n",
    "### 벡터의 연산\n",
    "- 벡터의 연산은 덧셈, 뺄셈, 스칼라곱, 내적, 외적이 있다.\n",
    "- 벡터의 덧셈과 뺄셈은 벡터의 각 성분을 더하거나 빼는 것이다.\n",
    "  - $U ± V = (U_x ± V_x, U_y ± V_y)$ 복부호동순\n",
    "- 벡터의 스칼라곱은 벡터의 각 성분에 스칼라를 곱하는 것이다.\n",
    "  - $kU = (kU_x, kU_y)$"
   ]
  },
  {
   "cell_type": "markdown",
   "metadata": {},
   "source": [
    "### 벡터의 내적과 외적\n",
    "- ![image.png](assets/vector-2.png)"
   ]
  },
  {
   "cell_type": "markdown",
   "metadata": {},
   "source": [
    "### 내적(Dot product)\n",
    "- 내적은 벡터 크기와 벡터 사이 각도의 코사인 곱이다.\n",
    "  - (기하학적 정의) $a * b = |a||b|cos\\theta$\n",
    "  - (대수적; 좌표상의 정의) $a * b = a_xb_x + a_yb_y( + a_zb_z$)\n",
    "  - 두 벡터간의 각도를 구할 때 쓰인다.\n",
    "  - 결과값으로 스칼라량, 즉 하나의 상수 값이 나온다.\n",
    "  - 분배법칙과 교환법칙이 성립한다.  \n",
    "    - $a * b = b * a$\n",
    "    - $a * (b + c) = a * b + a * c$"
   ]
  },
  {
   "cell_type": "markdown",
   "metadata": {},
   "source": [
    "### 두 벡터 사이의 사이각\n",
    "- ![image.png](assets/vector-3.png)\n",
    "- 두 벡터의 절대적인 사이각은 다음과 같이 정의된다.\n",
    "  - $\\theta= \\arccos(\\frac{a * b}{|a||b|}) = \\arccos(\\frac{x_1x_2+y_1y_2+z_1z_2}{{\\sqrt{x_1^2+y_1^2+z_1^2}\\sqrt{x_2^2+y_2^2+z_2^2}}})$"
   ]
  },
  {
   "cell_type": "markdown",
   "metadata": {},
   "source": [
    "### 두 직선 사이의 사이각\n",
    "- ![image-2.png](assets/vector-4.png)\n",
    "- 위 그림처럼 어떻게 벡터를 잡느냐에 따라서 서로 다른 2개의 사이각이 나올 수 있는데,\\\n",
    "보통은 최소 사이각을 계산하는 것이 일반적이다.\n",
    "- 직선 $L_1$ 상의 임의의 두 점 $(a_1, b_1), (a_2, b_2)$에 대한 벡터 $v1 = (a_2-a_1, b_2-b_1)$ \\\n",
    "직선 $L_2$ 상의 임의의 두 점 $(c_1, d_1), (c_2, d_2)$에 대한 벡터 $v2 = (c_2-c_1, d_2-d_1)$이라고 할 때, \\\n",
    "$L_1$과 $L_2$의 최소 사이각 $\\theta_1$은 $min(\\theta_1, \\pi - \\theta_1)$이다.\n",
    "  - $\\theta_1 = arccos(\\frac{v1 * v2}{|v1||v2|})$ \\\n",
    "  $\\theta = min(\\theta_1, \\pi - \\theta_1)$"
   ]
  },
  {
   "cell_type": "markdown",
   "metadata": {},
   "source": [
    "### 외적(Cross product)\n",
    "- ![image.png](assets/vector-5.png)\n",
    "- 외적은 두 벡터에 수직인 법선 벡터가 나온다.\n",
    "  - (기하학적 정의)$a * b = |a||b|sin\\theta$\n",
    "  - (대수적 정의) $a * b = \\begin{vmatrix}i & j & k \\\\ a_x & a_y & a_z \\\\ b_x & b_y & b_z \\end{vmatrix} $단, $i = (1, 0, 0), j = (0, 1, 0), k = (0, 0, 1)$는 좌표축 단위벡터\\\n",
    "  $= (a_yb_z - a_zb_y, a_zb_x - a_xb_z, a_xb_y - a_yb_x)$\n",
    "  - 3차원 공간에서 정의되는 개념이지만, $z = 0$이라고 생각하면 2차원 평면에서 계산 가능하다.\n",
    "  - 결과값으로 두 벡터의 수직인 법선 벡터(사진의 보라색 선)식이 나온다.\n",
    "  - 결과값은 두 벡터가 이루는 평행사변형의 넓이와 같다.\n",
    "  - 교환법칙이 성립하지 않는다. 즉 $a * b$와 $b * a$는 다르다."
   ]
  }
 ],
 "metadata": {
  "language_info": {
   "name": "python"
  },
  "orig_nbformat": 4
 },
 "nbformat": 4,
 "nbformat_minor": 2
}
