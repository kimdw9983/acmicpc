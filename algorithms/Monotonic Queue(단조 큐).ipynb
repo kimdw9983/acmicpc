{
 "cells": [
  {
   "attachments": {
    "image.png": {
     "image/png": "[encoded data removed]"
    }
   },
   "cell_type": "markdown",
   "metadata": {},
   "source": [
    "## 단조 큐\n",
    "- Queue에 들어있는 어떠한 값들의 집합이 단조성을 가지고 있을 때, 이를 단조 큐라고 한다.\n",
    "  - 단조성: 값이 증가하거나 감소하는 성질을 가진다.\n",
    "  - ![image.png](attachment:image.png)\\\n",
    "  (단조증가 함수)\n",
    "  - LIS 등이 있을 수 있을 것 같다.\n",
    "- 이를 활용하기 위해서 Deque을 사용한다."
   ]
  },
  {
   "cell_type": "markdown",
   "metadata": {},
   "source": [
    "\n",
    "### 응용(11003) - 어떤 수열의 특정 길이 이하의 부분 수열에서 최소(최대)값을 찾기\n",
    "- 어떤 구간에서 최소값보다 큰 수를 무시한다면 큐 안에 최소값만 유지시킬 수 있다는 아이디어.\n",
    "- 이를 단조 큐를 이용해 $O(N)$만에 빠르게 답을 구할 수 있다.\n",
    "- 수열 `L`, 덱 `DQ`에 대해서\n",
    "    1. 구간 조건(구간의 길이)에 만족하지 않는 수들을 pop_left()한다.\n",
    "    2. `L`을 순회하면서 `DQ`에 `L[i]`를 넣기 전에 `DQ`에서 `L[i]`보다 같거나 큰 값들을 모두 제거한다.\n",
    "        - 이를 통해 `L[i]`보다 큰 수들을 무시할 수 있게 된다.\n",
    "        - `같거나 큰 값들`에서 같은 값을 반드시 포함시켜야 구간의 길이를 벗어나는 케이스를 제외시킬 수 있다.\n",
    "    2. `L[i]`를 `DQ`에 append한다.\n",
    "- 이를 통해 `DQ`의 원소들은 단조성을 유지할 수 있게 되며, `DQ[0]`에는 현재 구간에서 최소값이 들어있게 된다."
   ]
  },
  {
   "cell_type": "markdown",
   "metadata": {},
   "source": [
    "### 단조 큐 최적화\n",
    "- 지금 단계에서 배울건 아닌듯하다.\n",
    "\n",
    "### 점화식 꼴\n",
    "- DP[i] = min(D[j] + C(j, i)) 단, $1 \\le j < i$\n",
    "- 조건: $i < j$인 임의의 $i, j$에 대해 다음을 만족하는 지점 cross(i, j)가 존재\n",
    "  - cross(i, j) > k이면 DP[i] + C(i, k) < D[j] + C(j, k)\n",
    "  - cross(i, k) <= k이면 DP[i] + C(i, k) >= D[j] + C(j, k)"
   ]
  }
 ],
 "metadata": {
  "language_info": {
   "name": "python"
  },
  "orig_nbformat": 4
 },
 "nbformat": 4,
 "nbformat_minor": 2
}
