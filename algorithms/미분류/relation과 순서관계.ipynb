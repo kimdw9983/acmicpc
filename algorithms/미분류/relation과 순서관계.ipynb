{
 "cells": [
  {
   "cell_type": "markdown",
   "metadata": {},
   "source": [
    "### tuple(튜플)\n",
    "- 순서쌍은 $(x, y)$ 와 같이 2개의 순서를 가진 원소를 나열한 쌍이다. 이것을 확장하여 $n$개의 원소를 나열한 순서쌍을 $n$-튜플이라고 한다.\n",
    "- 벡터공간의 원소인 벡터의 기초가 된다.\n",
    "- 튜플은 원소의 순서가 중요하다. 순서가 다르면 다른 튜플이다."
   ]
  },
  {
   "cell_type": "markdown",
   "metadata": {},
   "source": [
    "### relation(관계)\n",
    "- 어떤 집합 $V$ 에 어떤 임의의 이항 관계 $\\preceq$ 가 정의되어있다는 것을 표현한다고 할 때, $(V, \\preceq)$ 로 표기한다.\n",
    "- 혹은 그러한 이항 관계가 집합의 원소에 대해 어떻게 정의되어있는지를 표현하고 싶을 땐, $\\forall v \\in V, (v \\preceq v)$ 등과 같이 표현한다.\n",
    "  - 모든 $V$ 의 원소 $v$ 에 대해 $v \\preceq v$ 가 성립한다 = 반사성"
   ]
  }
 ],
 "metadata": {
  "language_info": {
   "name": "python"
  }
 },
 "nbformat": 4,
 "nbformat_minor": 2
}
