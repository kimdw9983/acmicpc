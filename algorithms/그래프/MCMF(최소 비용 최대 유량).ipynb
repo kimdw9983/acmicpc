{
 "cells": [
  {
   "cell_type": "markdown",
   "metadata": {},
   "source": [
    "### MCMF(최소 비용 최대 유량)\n",
    "- 최소 비용을 이용하여 최대 유량을 흘리는 문제.\n",
    "- 즉 기존의 유량 그래프 내의 간선에 비용 정보가 추가된 문제이다.\n",
    "- 유량이 최대일 때 그 비용의 합을 최소로 하는 문제이다."
   ]
  },
  {
   "cell_type": "markdown",
   "metadata": {},
   "source": [
    "### SPFA(Shortest Path Faster Algorithm)\n",
    "- Ford-Fulkerson, Edmond-Karp 알고리즘과 비슷하게 매번 경로를 찾아 더 이상의 경로가 없을 때 까지 유량을 흘리는데, 그 경로를 최단 경로로 찾는다.\n",
    "  - 여기서 최단경로란, `Source에서 Sink로 가는 최소 비용의 거리` = 간선의 가중치가 비용이라고 생각하고 그 최소비용을 찾는다.\n",
    "- 매번 최단 경로를 찾고, 그 경로를 통해 흐를 수 있는 최대 유량을 찾은 후 흘려보내면서, 그 결과에 이번에 찾은 경로의 `비용 합` * `유량`을 더해준다.\n",
    "- 보통 최단 경로를 변형한 알고리즘을 사용하지만, 적어도 음의 가중치를 사용할 수 있어야 한다.\n",
    "  - 따라서 Bellman-Ford를 변형한 SPFA를 사용한다.\n",
    "  - 시간복잡도는 $O(VEf^*)$ 이다.\n",
    "- 최소 비용으로 이분매칭을 하는 경우는 헝가리안 알고리즘을 사용한다고 한다."
   ]
  },
  {
   "cell_type": "markdown",
   "metadata": {},
   "source": [
    "### 구현\n",
    "- 좀 많이 느린 포드포커슨 스타일 구현이 11408(열혈강호 5)에 있다. $1 \\le V \\le 800$ 의 범위에서 TLE 없이 문제를 풀 수 있었다.\n",
    "- 현재 구현은 Dinic 스타일 최적화를 적용한 코드"
   ]
  },
  {
   "cell_type": "code",
   "execution_count": null,
   "metadata": {},
   "outputs": [],
   "source": [
    "import collections\n",
    "INF = 1 << 30\n",
    "class MCMF:\n",
    "  def __init__(self, V, src, snk) :\n",
    "    self.len = V\n",
    "    self.G = [[] for _ in range(V)]\n",
    "    self.C = [[0] * V for _ in range(V)]\n",
    "    self.F = [[0] * V for _ in range(V)]\n",
    "    self.W = [[0] * V for _ in range(V)]\n",
    "    self.chk = [False] * V\n",
    "    self.vis = [False] * V\n",
    "    self.lvl = [0] * V\n",
    "    self.src = src\n",
    "    self.snk = snk\n",
    "    self.mc = 0\n",
    "\n",
    "  def add(self, u, v, w, c) :\n",
    "    self.G[u].append(v)\n",
    "    self.G[v].append(u)\n",
    "    self.W[u][v] = w\n",
    "    self.W[v][u] = -w\n",
    "    self.C[u][v] = c\n",
    "\n",
    "  def bfs(self) :\n",
    "    Q = collections.deque([self.src])\n",
    "    inQ = [False] * self.len \n",
    "    lvl = [INF] * self.len\n",
    "    lvl[self.src] = 0\n",
    "\n",
    "    while Q :\n",
    "      u = Q.popleft()\n",
    "      inQ[u] = False\n",
    "\n",
    "      for v in self.G[u] :\n",
    "        if self.C[u][v] > self.F[u][v] and lvl[v] > lvl[u] + self.W[u][v] :\n",
    "          lvl[v] = lvl[u] + self.W[u][v]\n",
    "          if not inQ[v] :\n",
    "            Q.append(v)\n",
    "            inQ[v] = True\n",
    "    \n",
    "    self.lvl = lvl\n",
    "    return self.lvl[self.snk] != INF\n",
    "\n",
    "  def dfs(self, u, w) :\n",
    "    if u == self.snk : return w\n",
    "    flow = w\n",
    "    self.vis[u] = True\n",
    "\n",
    "    for v in self.G[u] :\n",
    "      if not flow : break\n",
    "      if not self.vis[v] and not self.chk[v] and self.C[u][v] - self.F[u][v] > 0 and self.lvl[v] == self.lvl[u] + self.W[u][v] :\n",
    "        res = self.dfs(v, min(flow, self.C[u][v] - self.F[u][v]))\n",
    "        if res == 0 : \n",
    "          self.chk[v] = True\n",
    "          continue\n",
    "        self.F[u][v] += res\n",
    "        self.F[v][u] -= res\n",
    "        self.mc += res * self.W[u][v]\n",
    "        flow -= res\n",
    "    \n",
    "    self.vis[u] = False\n",
    "    return w - flow\n",
    "\n",
    "  def calc(self) :\n",
    "    mf = 0\n",
    "    while self.bfs() :\n",
    "      self.chk = [False] * self.len\n",
    "      self.vis = [False] * self.len\n",
    "      mf += self.dfs(self.src, INF)\n",
    "    return self.mc, mf"
   ]
  },
  {
   "cell_type": "markdown",
   "metadata": {},
   "source": [
    "### TODO\n",
    "- 인접 List SFPA?\n",
    "- 인기가 없는 알고리즘인지 템플릿 구하기가 영 쉽지 않다\n",
    "- https://www.teferi.net/ps/%EC%B5%9C%EC%86%8C_%EB%B9%84%EC%9A%A9_%EC%B5%9C%EB%8C%80_%EC%9C%A0%EB%9F%89\n",
    "- https://cp-algorithms.com/graph/min_cost_flow.html#implementation"
   ]
  },
  {
   "cell_type": "markdown",
   "metadata": {},
   "source": [
    "### 팁\n",
    "- 무한루프가 걸린다면 V를 잘못 정했거나, 음의 사이클이 발생한 것이다.\n",
    "  - 특히 V는 아무리 크게 잡더라도 오답을 내지 않으므로 예제입력을 다루다가 발견하지 못할 수 있다.\n",
    "- 간선 연결, 특히 G의 연결 순서가 수행시간에 지대한 영향을 미친다. \n",
    "  - 이유 없이 TLE가 계속 난다면 src나 snk의 연결순서를 바꿔보자\n",
    "  - 11405(책 구매하기) 참고"
   ]
  }
 ],
 "metadata": {
  "language_info": {
   "name": "python"
  },
  "orig_nbformat": 4
 },
 "nbformat": 4,
 "nbformat_minor": 2
}
