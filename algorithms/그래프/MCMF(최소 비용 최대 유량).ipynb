{
 "cells": [
  {
   "cell_type": "markdown",
   "metadata": {},
   "source": [
    "### MCMF(최소 비용 최대 유량)\n",
    "- 최소 비용을 이용하여 최대 유량을 흘리는 문제.\n",
    "- 즉 기존의 유량 그래프 내의 간선에 비용 정보가 추가된 문제이다.\n",
    "- 유량이 최대일 때 그 비용의 합을 최소로 하는 문제이다."
   ]
  },
  {
   "cell_type": "markdown",
   "metadata": {},
   "source": [
    "### SPFA(Shortest Path Faster Algorithm)\n",
    "- Ford-Fulkerson, Edmond-Karp 알고리즘과 비슷하게 매번 경로를 찾아 더 이상의 경로가 없을 때 까지 유량을 흘리는데, 그 경로를 최단 경로로 찾는다.\n",
    "  - 여기서 최단경로란, `Source에서 Sink로 가는 최소 비용의 거리` = 간선의 가중치가 비용이라고 생각하고 그 최소비용을 찾는다.\n",
    "- 매번 최단 경로를 찾고, 그 경로를 통해 흐를 수 있는 최대 유량을 찾은 후 흘려보내면서, 그 결과에 이번에 찾은 경로의 `비용 합` * `유량`을 더해준다.\n",
    "- 보통 최단 경로를 변형한 알고리즘을 사용하지만, 적어도 음의 가중치를 사용할 수 있어야 한다.\n",
    "  - 따라서 Bellman-Ford를 변형한 SPFA를 사용한다.\n",
    "  - 시간복잡도는 $\\Omicron(VEf^*)$ 이다.\n",
    "- 최소 비용으로 이분매칭을 하는 경우는 헝가리안 알고리즘을 사용한다고 한다."
   ]
  },
  {
   "cell_type": "markdown",
   "metadata": {},
   "source": [
    "### 구현\n",
    "- 좀 많이 느리긴 한데, $1 \\le V \\le 800$ 의 범위에서 TLE 없이 문제를 풀 수 있었다.\n",
    "- 주석은 11408(열혈강호 5) 참고"
   ]
  },
  {
   "cell_type": "code",
   "execution_count": null,
   "metadata": {},
   "outputs": [],
   "source": [
    "import collections\n",
    "INF = 1 << 30\n",
    "class MCMF:\n",
    "  def __init__(self, n) :\n",
    "    self.len = n\n",
    "    self.G = [[] for _ in range(n)]\n",
    "    self.C = [[0] * n for _ in range(n)]\n",
    "    self.F = [[0] * n for _ in range(n)]\n",
    "    self.W = [[0] * n for _ in range(n)]\n",
    "\n",
    "  def addEdge(self, u, v, c, w) :\n",
    "    self.G[u].append(v)\n",
    "    self.G[v].append(u)\n",
    "    self.C[u][v] = c\n",
    "    self.W[u][v] = w\n",
    "    self.W[v][u] = -w\n",
    "\n",
    "  def SPFA(self, src, snk):\n",
    "    mc = mf = 0\n",
    "    while True :\n",
    "      vis = [False] * self.len\n",
    "      dist = [INF] * self.len\n",
    "      par = [-1] * self.len\n",
    "\n",
    "      Q = collections.deque([src])\n",
    "      dist[src] = 0\n",
    "      vis[src] = True\n",
    "      while Q :\n",
    "        u = Q.popleft()\n",
    "        vis[u] = False\n",
    "        for v in self.G[u] :\n",
    "          if self.C[u][v] - self.F[u][v] > 0 and dist[v] > dist[u] + self.W[u][v] :\n",
    "            dist[v] = dist[u] + self.W[u][v]\n",
    "            par[v] = u\n",
    "            if not vis[v] :\n",
    "              vis[v] = True\n",
    "              Q.append(v)\n",
    "\n",
    "      if par[snk] == -1 : break\n",
    "\n",
    "      flow = INF\n",
    "      u = snk\n",
    "      while u != src :\n",
    "        flow = min(flow, self.C[par[u]][u] - self.F[par[u]][u])\n",
    "        u = par[u]\n",
    "      \n",
    "      u = snk\n",
    "      while u != src :\n",
    "        mc += flow * self.W[par[u]][u]\n",
    "        self.F[par[u]][u] += flow\n",
    "        self.F[u][par[u]] -= flow\n",
    "        u = par[u]\n",
    "\n",
    "      mf += 1\n",
    "\n",
    "    return mc, mf"
   ]
  },
  {
   "cell_type": "markdown",
   "metadata": {},
   "source": [
    "### TODO\n",
    "- 인접 List SFPA?\n",
    "- 인기가 없는 알고리즘인지 템플릿 구하기가 영 쉽지 않다\n",
    "- https://www.teferi.net/ps/%EC%B5%9C%EC%86%8C_%EB%B9%84%EC%9A%A9_%EC%B5%9C%EB%8C%80_%EC%9C%A0%EB%9F%89\n",
    "- https://cp-algorithms.com/graph/min_cost_flow.html#implementation"
   ]
  }
 ],
 "metadata": {
  "language_info": {
   "name": "python"
  },
  "orig_nbformat": 4
 },
 "nbformat": 4,
 "nbformat_minor": 2
}
