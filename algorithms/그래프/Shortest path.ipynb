{
 "cells": [
  {
   "cell_type": "markdown",
   "metadata": {},
   "source": [
    "## 최단 경로 알고리즘\n",
    "- 그래프의 간선에 가중치를 둘 수 있고, 이때 각 정점에 방문하는 최단 경로를 구할 수 있다.\n",
    "  - 유명한 최단경로 알고리즘 3개를 기술한다.\n",
    "- 최단 경로는 음수 사이클이 존재하면 정답을 구할 수 없다. \n",
    "  - 음수 사이클을 계속 순환하면 음의 inf로 발산하여 최단 경로의 의미가 없기 때문."
   ]
  },
  {
   "cell_type": "markdown",
   "metadata": {},
   "source": [
    "### 구현 일람\n",
    "- INF 처리와 관련한 내용은 [사칙연산](./../사칙연산.ipynb) 을 참고."
   ]
  },
  {
   "attachments": {},
   "cell_type": "markdown",
   "metadata": {},
   "source": [
    "## 데이크스트라(Dijkstra's)\n",
    "- 음수가 아닌 가중치를 가지는 그래프에서 최단 경로를 찾는 알고리즘.\n",
    "- 힙을 사용하므로 시간 복잡도는 $O(E \\log V)$ 이다.\n",
    "\n",
    "### 데이크스트라의 동작\n",
    "- 다음 1번과 2번을 반복하는 알고리즘이다.\n",
    "  1. 아직 방문하지 않은 노드중 가장 (거리가)가까운(가중치) 노드를 찾는다\n",
    "  2. 그 노드와 인접한 노드들에 대해서 거리를 갱신한다.\n",
    "- \"그리디 BFS\"로 해석할 수도 있다.\n",
    "- 다음과 같은 경우 사용할 수 없다.\n",
    "  - 음의 가중치가 존재하는 경우\n",
    "  - 음의 사이클이 존재하는 경우\n",
    " - 모든 노드가 유향 가중그래프여야 한다."
   ]
  },
  {
   "cell_type": "markdown",
   "metadata": {},
   "source": [
    "### 구현 및 팁\n",
    "- 주석은 1753(최단경로) 참고\n",
    "- `P`는 최단경로를 역추적할 때 사용.\n",
    "- 큰 틀에서 다익은 정점을 그리디하게 선택하는 BFS 이다.\n",
    "  - [DFS and BFS](./DFS%20and%20BFS.ipynb)의 내용을 참고하여 BFS 내부문 잘 설계해서 비효율적인 구현을 하지 않도록 주의.\n",
    "  - 현재 정점을 pop 한 이후에 추가적인 처리를 할 수도 있다.\n",
    "    - i개의 간선을 이용하여 도달할 수 있는 최단 경로 구하기: 13907(세금)"
   ]
  },
  {
   "cell_type": "code",
   "execution_count": null,
   "metadata": {},
   "outputs": [],
   "source": [
    "from heapq import heappop, heappush\n",
    "\n",
    "INF = 1234567891\n",
    "def DIJ(G: list, s: int):\n",
    "  D = [INF] * len(G)\n",
    "  P = [-1] * len(G)\n",
    "  D[s] = 0\n",
    "\n",
    "  Q = [(0, s)]\n",
    "  while Q:\n",
    "    uw, u = heappop(Q)\n",
    "    if uw != D[u]: continue\n",
    "    for v, vw in G[u]:\n",
    "      if vw + uw >= D[v]: continue\n",
    "      D[v] = vw + uw\n",
    "      P[v] = u\n",
    "      heappush(Q, (vw + uw, v))\n",
    "\n",
    "  return D, P"
   ]
  },
  {
   "cell_type": "markdown",
   "metadata": {},
   "source": [
    "### 다익스트라 최적화 및 SPFA\n",
    "- TODO\n",
    "- 다음의 경우 특별히 최적화할 수 있다.\n",
    "  - Edge의 weight가 0또는 1만 있을 경우(0-1 BFS)\n",
    "  - Edge의 weight가 두 종류만 있을 때(위에 것의 일반화?)\n",
    "    - https://justicehui.github.io/2018/08/30/DijkstraOpt/"
   ]
  },
  {
   "attachments": {},
   "cell_type": "markdown",
   "metadata": {},
   "source": [
    "## 벨만-포드(Bellman-Ford)\n",
    "- 음수 가중치의 처리가 가능한 최단경로 알고리즘\n",
    "- 시간복잡도 $O(VE)$"
   ]
  },
  {
   "cell_type": "markdown",
   "metadata": {},
   "source": [
    "### 벨만 포드 동작\n",
    "- 몰루"
   ]
  },
  {
   "cell_type": "markdown",
   "metadata": {},
   "source": [
    "### 구현"
   ]
  },
  {
   "cell_type": "code",
   "execution_count": null,
   "metadata": {},
   "outputs": [],
   "source": [
    "INF = 1234567891\n",
    "def BF(N: int, E: list[tuple[int, int, int|float]], s: int):\n",
    "  D = [INF] * N\n",
    "  P = [None] * N\n",
    "\n",
    "  D[s] = 0\n",
    "  for _ in range(N):\n",
    "    for u, v, w in E:\n",
    "      if D[u] + w >= D[v]: continue\n",
    "      D[v] = D[u] + w\n",
    "      P[v] = u\n",
    "\n",
    "  \"\"\" check negative cycle\n",
    "  for u, v, w in E:\n",
    "    if D[u] + w < D[v]:\n",
    "      return None\n",
    "  \"\"\"\n",
    "\n",
    "  return D, P"
   ]
  },
  {
   "attachments": {},
   "cell_type": "markdown",
   "metadata": {},
   "source": [
    "## 플로이드-워셜(Floyd-Warshall)\n",
    "- 모든 정점 사이의 최단거리를 구할 수 있다.\n",
    "- 시간복잡도 $O(V^3)$, 공간복잡도 $O(V^2)$\n",
    "  - 간선 개수 $E$ 는 완전 그래프의 $V^2$ 보다 작으므로 정복된다."
   ]
  },
  {
   "cell_type": "markdown",
   "metadata": {},
   "source": [
    "### 플로이드 워셜 동작\n",
    "- DP를 기반으로 설계되었다.\n",
    "  - 최단 경로(DP): `C(i, j, k)` `i`부터 `j`까지 $i$~$k$정점만 사용할 때의 최단 거리"
   ]
  },
  {
   "cell_type": "markdown",
   "metadata": {},
   "source": [
    "### 구현 및 팁\n",
    "- 중복 정점 및 무향 간선 처리에 유의\n",
    "  - 문제의 논리에서 간선중 최댓값을 생각해야 할지, 최솟값을 생각해야 할지 잘 생각해야 한다.\n",
    "  - 이 템플릿은 단방향 간선으로만 입력한다. 역방향은 추가로 적어야 한다.\n",
    "- 그래프 문제이고 `N` 이 $> 500$ 정도로 작다면 플로이드의 결과, 즉 모든 정점과 정점사이의 거리를 알았을 때를 가정하고 생각해보면 좋다.\n",
    "- 원리가 된 DP의 의미를 잘 생각해본다면, 자기 자신과의 정점을 이은, self path가 존재하더라도, 방해받지 않고 `INF`로 초기화해도 된다.\n",
    "  - 어짜피 간선을 입력 받는 과정에서 self path는 `INF` 의 초기화 이후로도 반영이 된다.\n",
    "  - 특히 그런 문제의 논리에서, 현재 정점에서의 self path만 생각할 것이 아니라, 현재 정점에서 다른 정점을 보는 방향으로도 self path도 생각해야 한다.\\\n",
    "  음수가 아니고서야 self path 를 거치는 게 이득일리 없기 때문."
   ]
  },
  {
   "cell_type": "code",
   "execution_count": null,
   "metadata": {},
   "outputs": [],
   "source": [
    "INF = 1234567891\n",
    "def FW(N: int, E: list[tuple[int, int, int|float]]):\n",
    "  D = [[0 if u == v else INF for u in range(N)] for v in range(N)]\n",
    "  P = [[None] * N for _ in range(N)]\n",
    "\n",
    "  for u, v, w in E:\n",
    "    D[u][v] = w\n",
    "\n",
    "  for m in range(N):\n",
    "    for u, l in enumerate(D):\n",
    "      for v, w in enumerate(l):\n",
    "        if l[m] + D[m][v] >= w: continue\n",
    "        l[v] = l[m] + D[m][v]\n",
    "        P[u][v] = P[m][v]\n",
    "\n",
    "  \"\"\" check negative cycle\n",
    "  for u, v, w in E: \n",
    "    if D[u] + v < D[v]:\n",
    "      return None\n",
    "  \"\"\"\n",
    "\n",
    "  return D, P"
   ]
  }
 ],
 "metadata": {
  "kernelspec": {
   "display_name": "Python 3",
   "language": "python",
   "name": "python3"
  },
  "language_info": {
   "codemirror_mode": {
    "name": "ipython",
    "version": 3
   },
   "file_extension": ".py",
   "mimetype": "text/x-python",
   "name": "python",
   "nbconvert_exporter": "python",
   "pygments_lexer": "ipython3",
   "version": "3.11.0"
  },
  "orig_nbformat": 4
 },
 "nbformat": 4,
 "nbformat_minor": 2
}
