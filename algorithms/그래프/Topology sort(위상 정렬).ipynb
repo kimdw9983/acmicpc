{
 "cells": [
  {
   "cell_type": "markdown",
   "metadata": {},
   "source": [
    "### 위상정렬\n",
    "- 비순환 방향 그래프(DAG)에 대해 정점을 선형으로 정렬하는 것.\n",
    "  - 모든 간선 (u,v)에 대해 u가 v보다 먼저 오는 순서로 정렬된다.\n",
    "- DAG가 아닌 그래프에 대해선 위상정렬을 할 수 없다.\n",
    "  - ![image.png](assets/topo-1.png)\n",
    "  - 사이클이 있는경우 (u,v)가 먼저오는지 (v,u)가 먼저오는지 알 수 없기 때문이다.\n",
    "- 위상정렬은 여러가지 답이 존재할 수 있다.\n",
    "- 이를 응용하여 컴파일 작업 순서 결정, git등의 버전 히스토리 관리, 교착상태 탐지 등을 할 수 있다.\n",
    "  - 전후/우열 관계 등이 주워진 작업들을 위상정렬하면 순서를 정할 수 있다.\n"
   ]
  },
  {
   "attachments": {},
   "cell_type": "markdown",
   "metadata": {},
   "source": [
    "\n",
    "### DFS 구현\n",
    "- `vis`, `T`: 위상정렬 stack\n",
    "1. 그래프에서 방문하지 않은 정점 `u`을 선택하여 모든 정점을 방문할 때까지 다음 재귀함수 `R(u)`를 호출한다.\n",
    "    1. 현재 방문한 정점 `u`를 방문한 것으로 처리한다.\n",
    "    2. `u`에 인접한 정점들 중 방문하지 않은 모든 정점들 `v`에 대해\n",
    "        1. `v`를 방문한 것으로 처리한다.\n",
    "        2. `R(v)`를 호출한다.\n",
    "    3. `u`를 `T`에 push한다. \n",
    "2. `T`를 출력한다.       "
   ]
  },
  {
   "cell_type": "code",
   "execution_count": null,
   "metadata": {},
   "outputs": [],
   "source": [
    "def toposort(G): #0-index\n",
    "  res, vis = [], [False] * len(G) #그래프의 방문하지 않는 모든 정점들을 DFS로 방문하는 구현\n",
    "  stack = [*range(len(G))] \n",
    "  while stack:\n",
    "    node = stack.pop()\n",
    "    if node < 0: #음수이다 = DFS를 하면서 추가된 정점 번호이다 = 처음에 stack에 추가했던 정점이 아니다.\n",
    "      res.append(~node) #bitwise not(-x-1), 이미 not된 값을 다시 not한 것이므로 원래 값을 집어넣는다.\n",
    "    elif not vis[node]: #처음에 stack에 추가했던 정점을 방문하지 않은 경우\n",
    "      vis[node] = True\n",
    "      stack.append(~node) #현재 노드의 not값\n",
    "      stack += G[node] # 인접한 정점 추가\n",
    "\n",
    "  # cycle check\n",
    "  for node in res:\n",
    "    if any(vis[nei] for nei in G[node]):\n",
    "      return None\n",
    "    vis[node] = False #2번 이상 vis를 방문하는 것이므로 사이클\n",
    "\n",
    "  return res[::-1]"
   ]
  },
  {
   "cell_type": "code",
   "execution_count": null,
   "metadata": {},
   "outputs": [],
   "source": [
    "N, M = map(int, input().split())\n",
    "G = [[] for _ in range(N)]\n",
    "for _ in range(M):\n",
    "  u, v = map(int, input().split())\n",
    "  G[u-1].append(v-1)\n",
    "\n",
    "def topo(G):\n",
    "  res, vis = [], [False] * len(G)\n",
    "  S = [*range(len(G))] \n",
    "  while S:\n",
    "    V = S.pop()\n",
    "    if V < 0:\n",
    "      res.append(~V)\n",
    "    elif not vis[V]:\n",
    "      vis[V] = True\n",
    "      S.append(~V)\n",
    "      S += G[V]\n",
    "\n",
    "  for V in res:\n",
    "    if any(vis[nei] for nei in G[V]):\n",
    "      return None\n",
    "    vis[V] = False\n",
    "\n",
    "  return res[::-1]"
   ]
  },
  {
   "attachments": {},
   "cell_type": "markdown",
   "metadata": {},
   "source": [
    "\n",
    "### BFS 구현 (Kahn's algorithm)\n",
    "- `vis`, `Q`: queue, `IN`: 진입차수, `T`: 위상정렬 list\n",
    "0. 진입 차수를 저장하는 배열을 만든다.\n",
    "    - `IN[i]: 정점 i로 들어오는 정점의 개수`\n",
    "1. 진입 차수가 0인 정점을 큐에 삽입한다.\n",
    "2. `IN[i]` = `vis[i]`를 방문한 것으로 처리하고 i를 `Q`에 enqueue한다.\n",
    "3. queue가 빌 때까지 다음을 반복한다.\n",
    "    1. dequeue한 정점 `t`을 `T`에 추가한다.\n",
    "    2. `t`에 인접한 정점 중 방문하지 않은 모든 정점들 `u`에 대해\n",
    "        1. `IN[u]`를 1 감소시킨다.\n",
    "        2. `IN[u]`가 0이 되면 `Q`에 enqueue한다.\n",
    "4. `T`를 출력한다.\n",
    "- 이때 `Q`를 heap으로 다루면 사전순으로 정렬된 순서를 반환할 수 있다."
   ]
  },
  {
   "cell_type": "code",
   "execution_count": null,
   "metadata": {},
   "outputs": [],
   "source": [
    "N, M = map(int, input().split())\n",
    "G = [[] for _ in range(N)]\n",
    "for _ in range(M):\n",
    "  u, v = map(int, input().split())\n",
    "  G[u-1].append(v-1)\n",
    "\n",
    "def kahn(graph):\n",
    "  n = len(graph)\n",
    "\n",
    "  indeg, idx = [0] * n, [0] * n\n",
    "  for i in range(n):\n",
    "    for e in graph[i]:\n",
    "      indeg[e] += 1\n",
    "\n",
    "  q, res = [], []\n",
    "  for i in range(n):\n",
    "    if indeg[i] == 0:\n",
    "      q.append(i)\n",
    "\n",
    "  nr = 0\n",
    "  while q:\n",
    "    res.append(q.pop())\n",
    "    idx[res[-1]], nr = nr, nr + 1\n",
    "    for e in graph[res[-1]]:\n",
    "      indeg[e] -= 1\n",
    "      if indeg[e] == 0:\n",
    "        q.append(e)\n",
    "\n",
    "  return res, idx, nr == n"
   ]
  },
  {
   "attachments": {},
   "cell_type": "markdown",
   "metadata": {},
   "source": [
    "- 인접한 정점을 사전순으로 찾아야 할 경우 사용"
   ]
  },
  {
   "cell_type": "code",
   "execution_count": null,
   "metadata": {},
   "outputs": [],
   "source": [
    "from heapq import heappop, heappush\n",
    "\n",
    "def kahn(G):\n",
    "  n = len(G)\n",
    "\n",
    "  IN, idx = [0] * n, [0] * n\n",
    "  for i in range(n):\n",
    "    for e in G[i]:\n",
    "      IN[e] += 1\n",
    "\n",
    "  q, res = [], []\n",
    "  for i in range(n):\n",
    "    if IN[i] == 0:\n",
    "      heappush(q, i)\n",
    "\n",
    "  nr = 0\n",
    "  while q:\n",
    "    res.append(heappop(q))\n",
    "    idx[res[-1]], nr = nr, nr + 1\n",
    "    for e in G[res[-1]]:\n",
    "      IN[e] -= 1\n",
    "      if IN[e] == 0:\n",
    "        heappush(q, e)\n",
    "\n",
    "  return res, idx, nr == n"
   ]
  }
 ],
 "metadata": {
  "language_info": {
   "name": "python"
  },
  "orig_nbformat": 4
 },
 "nbformat": 4,
 "nbformat_minor": 2
}
