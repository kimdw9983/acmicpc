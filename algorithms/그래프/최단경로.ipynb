{
 "cells": [
  {
   "attachments": {},
   "cell_type": "markdown",
   "metadata": {},
   "source": [
    "# 데이크스트라(Dijkstra's algorithm)\n",
    "- 다음 1번과 2번을 반복하는 알고리즘이다.\n",
    "  1. 아직 방문하지 않은 노드중 가장 (거리가)가까운(가중치) 노드를 찾는다\n",
    "  2. 그 노드와 인접한 노드들에 대해서 거리를 갱신한다.\n",
    "- \"그리디 BFS\"로 해석할 수도 있다.\n",
    "- 다음과 같은 경우 사용할 수 없다.\n",
    "  - 음의 가중치가 존재하는 경우\n",
    "  - 음의 사이클이 존재하는 경우\n",
    " - 모든 노드가 유향 가중그래프여야 한다."
   ]
  },
  {
   "cell_type": "markdown",
   "metadata": {},
   "source": [
    "### 구현\n",
    "- 힙을 사용하므로 시간 복잡도는 $O(E \\log V)$ 이다.\n",
    "- 주석은 1753(최단경로) 참고\n",
    "- `P`는 최단경로를 역추적할 때 사용."
   ]
  },
  {
   "cell_type": "code",
   "execution_count": null,
   "metadata": {},
   "outputs": [],
   "source": [
    "from heapq import heappop, heappush\n",
    "\n",
    "INF = 1234567891\n",
    "def DIJ(G: list, s: int):\n",
    "  D, P = [INF] * len(G), [-1] * len(G)\n",
    "  D[s] = 0\n",
    "\n",
    "  Q = [(0, s)]\n",
    "  while Q:\n",
    "    uw, u = heappop(Q)\n",
    "    if uw != D[u]: continue\n",
    "    for v, vw in G[u]:\n",
    "      if vw + uw >= D[v]: continue\n",
    "      D[v] = vw + uw\n",
    "      P[v] = u\n",
    "      heappush(Q, (vw + uw, v))\n",
    "\n",
    "  return D, P"
   ]
  },
  {
   "cell_type": "markdown",
   "metadata": {},
   "source": [
    "### 다익스트라 최적화\n",
    "- TODO\n",
    "- 다음의 경우 특별히 최적화할 수 있다.\n",
    "  - Edge의 weight가 0또는 1만 있을 경우(0-1 BFS)\n",
    "  - Edge의 weight가 두 종류만 있을 때(위에 것의 일반화?)\n",
    "    - https://justicehui.github.io/2018/08/30/DijkstraOpt/"
   ]
  },
  {
   "attachments": {},
   "cell_type": "markdown",
   "metadata": {},
   "source": [
    "# 벨만-포드(Bellman-Ford) 알고리즘\n",
    "- 음수로 이루어진 사이클이 있으면 이 알고리즘은 정답을 구할 수 없다.\n",
    "- 시간복잡도 $O(VE)$"
   ]
  },
  {
   "cell_type": "code",
   "execution_count": null,
   "metadata": {},
   "outputs": [],
   "source": [
    "INF = 1234567891\n",
    "def BF(V: int, E: list, s: int):\n",
    "  D = [INF] * V\n",
    "  P = [None] * V\n",
    "\n",
    "  D[s] = 0\n",
    "  for _ in range(V):\n",
    "    for u, v, d in E:\n",
    "      if D[u] + d >= D[v]: continue\n",
    "      D[v] = D[u] + d\n",
    "      P[v] = u\n",
    "\n",
    "  \"\"\" check negative cycle\n",
    "  for u, v, d in E:\n",
    "    if D[u] + d < D[v]:\n",
    "      return None\n",
    "  \"\"\"\n",
    "\n",
    "  return D, P"
   ]
  },
  {
   "attachments": {},
   "cell_type": "markdown",
   "metadata": {},
   "source": [
    "# 플로이드-워셜(Floyd-Warshall) 알고리즘\n",
    "- 시간복잡도 $O(n^3)$\n",
    "- 모든 정점 사이의 거리를 구할 수 있다.\n",
    "- DP를 기반으로 설계되었다.\n",
    "  - 최단 경로(DP): shortestPath(i, j, k) $i$부터 $j$까지 $i$~$k$정점만 사용할 때의 최단 거리\n",
    "- 입력 받을 때 off-by-one으로 제대로 간선 입력이 되지 않을 수 있으니 주의"
   ]
  },
  {
   "cell_type": "code",
   "execution_count": null,
   "metadata": {},
   "outputs": [],
   "source": [
    "INF = 1234567891\n",
    "def FW(V: int, E: list):\n",
    "  D = [[0 if u == v else INF for u in range(V)] for v in range(V)]\n",
    "  P = [[None] * V for _ in range(V)]\n",
    "\n",
    "  for u, w, w in E:\n",
    "    D[u][w] = w\n",
    "\n",
    "  for m in range(V):\n",
    "    for u, l in enumerate(D):\n",
    "      for v, w in enumerate(l):\n",
    "        if l[m] + D[m][v] >= w: continue\n",
    "        l[v] = l[m] + D[m][v]\n",
    "        P[u][v] = P[m][v]\n",
    "\n",
    "  \"\"\" check negative cycle\n",
    "  for u, w, w in E: \n",
    "    if D[u] + d < D[w]:\n",
    "      return None\n",
    "  \"\"\"\n",
    "\n",
    "  return D, P"
   ]
  }
 ],
 "metadata": {
  "kernelspec": {
   "display_name": "Python 3",
   "language": "python",
   "name": "python3"
  },
  "language_info": {
   "codemirror_mode": {
    "name": "ipython",
    "version": 3
   },
   "file_extension": ".py",
   "mimetype": "text/x-python",
   "name": "python",
   "nbconvert_exporter": "python",
   "pygments_lexer": "ipython3",
   "version": "3.11.0"
  },
  "orig_nbformat": 4
 },
 "nbformat": 4,
 "nbformat_minor": 2
}
