{
 "cells": [
  {
   "cell_type": "code",
   "execution_count": null,
   "metadata": {},
   "outputs": [],
   "source": [
    "N: int\n",
    "G: list"
   ]
  },
  {
   "cell_type": "markdown",
   "metadata": {},
   "source": [
    "### ETT(Euler Tour Technique)"
   ]
  },
  {
   "cell_type": "markdown",
   "metadata": {},
   "source": [
    "### 구현\n",
    "- 주석은 16404(주식회사 승범이네) 참고"
   ]
  },
  {
   "cell_type": "code",
   "execution_count": null,
   "metadata": {},
   "outputs": [],
   "source": [
    "def ett(root) :\n",
    "  cnt = 0\n",
    "  IN = [0] * (N+1)\n",
    "  OUT = [0] * (N+1)\n",
    "  S = [(root, -1)]\n",
    "  while S:\n",
    "    x, p = S[-1]\n",
    "\n",
    "    if IN[x] == 0:\n",
    "      cnt += 1\n",
    "      IN[x] = cnt\n",
    "      for nx in G[x]:\n",
    "        if nx == p: continue\n",
    "        S.append((nx, x))\n",
    "    else:\n",
    "      S.pop()\n",
    "      OUT[x] = cnt\n",
    "  \n",
    "  return IN, OUT"
   ]
  }
 ],
 "metadata": {
  "language_info": {
   "name": "python"
  },
  "orig_nbformat": 4
 },
 "nbformat": 4,
 "nbformat_minor": 2
}
