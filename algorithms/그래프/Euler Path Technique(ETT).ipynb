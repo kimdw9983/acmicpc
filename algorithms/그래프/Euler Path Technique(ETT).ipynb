{
 "cells": [
  {
   "cell_type": "code",
   "execution_count": null,
   "metadata": {},
   "outputs": [],
   "source": [
    "N: int\n",
    "G: list"
   ]
  },
  {
   "cell_type": "markdown",
   "metadata": {},
   "source": [
    "### ETT(Euler Tour Technique)\n",
    "- 트리를 선형으로 펼쳐서 풀이하는 기법\n",
    "  - 어떤 정점에서 시작해서 reachable 한 정점을 모두 방문한 것에 순서를 기록해두는 것이 ETT.\n",
    "  - 이 조건상 그래프는 전순서 관계를 만들 수 있어야 한다. 즉, 사이클이 없어야 한다.\n",
    "  - dfs로 순서를 기록하기 때문에, dfs의 방문순서를 따른다\n",
    "- https://anz1217.tistory.com/41"
   ]
  },
  {
   "cell_type": "markdown",
   "metadata": {},
   "source": [
    "\n",
    "### 풀이 요령\n",
    "- `IN`과 `OUT`을 둘다 손으로 쓰면서 기록해보고, 그 감각을 익혀야 한다.\n",
    "  - 그리고 그것이 dfs로 탐색한 위상정렬 순서라는점도 감각으로 익혀야 한다.\n",
    "- $\\text {IN}[s], \\text {OUT}[e]$: `s` 에서 `e`으로 갈 때 위상정렬 순서로 거치는 경로 그 자체.\n",
    "  - 위상정렬 그 자체이므로, `s` 와 `e` 사이의 서브 노드 개수를 셀 수도 있다."
   ]
  },
  {
   "cell_type": "markdown",
   "metadata": {},
   "source": [
    "### 구현\n",
    "- 주석은 16404(주식회사 승범이네) 참고\n",
    "- 쿼리는 `IN[u], OUT[u]`: IN부터 OUT까지의 경로에 있는 정점들의 쿼리합\n",
    "- `disc`: discovery time"
   ]
  },
  {
   "cell_type": "code",
   "execution_count": null,
   "metadata": {},
   "outputs": [],
   "source": [
    "def ett(G, N, s) :\n",
    "  disc = 0\n",
    "  IN = [0] * (N+1)\n",
    "  OUT = [0] * (N+1)\n",
    "  S = [(s, -1)]\n",
    "  while S:\n",
    "    u, p = S[-1]\n",
    "\n",
    "    if IN[u] == 0:\n",
    "      disc += 1\n",
    "      IN[u] = disc\n",
    "      for v in G[u]:\n",
    "        if v == p: continue\n",
    "        S.append((v, u))\n",
    "    else:\n",
    "      S.pop()\n",
    "      OUT[u] = disc\n",
    "  \n",
    "  return IN, OUT"
   ]
  }
 ],
 "metadata": {
  "language_info": {
   "name": "python"
  },
  "orig_nbformat": 4
 },
 "nbformat": 4,
 "nbformat_minor": 2
}
