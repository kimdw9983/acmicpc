{
 "cells": [
  {
   "cell_type": "markdown",
   "metadata": {},
   "source": [
    "https://ttl-blog.tistory.com/956#%E2%9C%94%EF%B8%8F%20%EC%A0%95%EB%A6%AC%201-1"
   ]
  },
  {
   "cell_type": "markdown",
   "metadata": {},
   "source": [
    "### Connected Component(연결 요소)\n",
    "- 그래프 $G$ 의 Connected Component인 $G'$ 는 다음과 같이 정의할 수 있다.\n",
    "  - $\\text{Connected Component } G' \\text{ of } G :$ Maximal conntected subgraph of $G$\n",
    "- Connected Component의 정의를 다음과 같이 해석할 수 있다.\n",
    "  - $G'$ 에서 추가적으로 $G$ 에 존재하는 아무 정점 하나를 추가하는 순간 disconnected(단절) 되며, $G'$ 는 가능한 모든 간선을 포함하고 있어야 한다.\n",
    "    - 즉, induced subgraph를 의미한다."
   ]
  },
  {
   "cell_type": "markdown",
   "metadata": {},
   "source": [
    "### Connected Component의 특성\n",
    "- ![Alt text](image-7.png)\n",
    "  - $G$ 의 연결정보 (a)와, 그 연결정보를 DFS Tree로 표현한 DFS Forest(b)가 있다."
   ]
  },
  {
   "cell_type": "markdown",
   "metadata": {},
   "source": [
    "### 단절점(Articulation Point)\n",
    "- 하나의 컴포넌트로 구성된 무방향 그래프에서 특정 정점을 제거했을 때 두개 이상의 컴포넌트로 나누어지는 그러한 정점을 보고 단절점이라 한다.\n",
    "  - ![art p](image.png)\n",
    "  - 그림에서 2, 4, 6번 정점을 제거하면 그래프가 둘로 나뉘어지게 된다."
   ]
  },
  {
   "cell_type": "markdown",
   "metadata": {},
   "source": [
    "#### 단절점의 특성\n",
    "- 루트 노드로 잡은 정점의 자식이 2개 이상이면 루트 노드는 단절점이다.\n",
    "  - 그래프를 DFS로 탐색한 DFS Tree로 표현하면 직관적으로 알 수 있다. 다음 그래프과 같은 그래프 연결이 있다고 할 때,\\\n",
    "  ![Alt text](image-2.png)\\\n",
    "  위 그래프를 DFS Tree로 표현하면 다음과 같다. \\\n",
    "  ![Alt text](image-1.png)\\\n",
    "  이때 루트 노드인 1번 정점을 제거하면 4번과 6번 정점이 떼어져 Connected Component가 2개로 나뉘어지게 된다.\\\n",
    "  ![Alt text](image-3.png)\n",
    "- 단절점에 바로 인접해있는 정점들의 쌍은 단절점이 없으면 우회로로 인해 연결되어있지 않아야 한다. 즉, 우회 경로가 없다. 이 사실을 통해 다음을 도출할 수 있다.\n",
    "  - 단절점이 아닌 정점 v에 대해, v의 자식 노드들 중에서 v를 거치지 않고 v의 조상으로 가는 경로가 존재하면 v는 단절점이다.\n",
    "  - DFS를 이용하여 정점들의 방문 순서를 기록해두고 v를 거치지 않고 a보다 빠른 방문 번호를 가진 정점으로 갈 수 있다면 단절점이 될 것이다.\n",
    "  - 위의 DFS Tree를 오름차순으로 정렬한 그래프\\\n",
    "  ![Alt text](image-4.png)\\\n",
    "  에 대해서 2번 정점, 즉 더 낮은 정점 번호로 갈 수 있는 경로가 있는 정점을 제거한다면 \\\n",
    "  ![Alt text](image-6.png)\\\n",
    "  3번 정점은 더 낮은 정점으로 가는 경로(빨간색)를 통해 닿을 수 있으므로, 2번은 단절점이 아니다.\\\n",
    "  ![Alt text](image-5.png)\\\n",
    "  반면 그러한 경로가 없는 5번 정점을 제거하면 그래프가 나뉘어 지게 되며, 5번은 단절점이 된다."
   ]
  },
  {
   "cell_type": "markdown",
   "metadata": {},
   "source": [
    "### 단절점 알고리즘\n",
    "1. DFS를 이용하여 각 정점의 방문 순서를 기록한다.\n",
    "2. 각 정점의 방문 순서를 기록하는 배열을 이용하여 각 정점의 자식 정점들이 방문할 수 있는 가장 높은 정점의 번호를 기록한다.\n",
    "    - 이때, 자식 정점들이 방문할 수 있는 가장 높은 정점의 번호는 자식 정점들이 방문할 수 있는 정점들 중 가장 작은 번호를 가진 정점의 번호이다.\n",
    "3. 단절점은 루트 정점이거나, 자식 정점들이 방문할 수 있는 가장 높은 정점의 번호가 자신의 방문 순서보다 큰 정점이다."
   ]
  },
  {
   "cell_type": "markdown",
   "metadata": {},
   "source": [
    "### 단절점 알고리즘 구현\n",
    "- 주석은 11266(단절점) 참고"
   ]
  },
  {
   "cell_type": "code",
   "execution_count": null,
   "metadata": {},
   "outputs": [],
   "source": [
    "def AP(G) :\n",
    "  V = len(G)\n",
    "  low = [0] * V\n",
    "  pre = [0] * V\n",
    "  art = [False] * V\n",
    "  cnt = 0\n",
    "\n",
    "  def dfs(u, p) :\n",
    "    nonlocal cnt\n",
    "    cnt += 1\n",
    "    low[u] = pre[u] = cnt\n",
    "    child = 0\n",
    "    for v in G[u] :\n",
    "      if not pre[v] :\n",
    "        child += 1\n",
    "        dfs(v, u)\n",
    "        low[u] = min(low[u], low[v])\n",
    "        if low[v] >= pre[u] :\n",
    "          art[u] = True\n",
    "      elif v != p :\n",
    "        low[u] = min(low[u], pre[v])\n",
    "    if p == -1 and child == 1 :\n",
    "      art[u] = False\n",
    "\n",
    "  for u in range(V) :\n",
    "    if not pre[u] :\n",
    "      dfs(u, -1)\n",
    "  return art"
   ]
  }
 ],
 "metadata": {
  "language_info": {
   "name": "python"
  },
  "orig_nbformat": 4
 },
 "nbformat": 4,
 "nbformat_minor": 2
}
