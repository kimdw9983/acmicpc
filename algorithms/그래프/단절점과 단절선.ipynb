{
 "cells": [
  {
   "cell_type": "markdown",
   "metadata": {},
   "source": [
    "https://ttl-blog.tistory.com/956"
   ]
  },
  {
   "cell_type": "markdown",
   "metadata": {},
   "source": [
    "### Connected Component(연결 요소)\n",
    "- 그래프 $G$ 의 Connected Component인 $G'$ 는 다음과 같이 정의할 수 있다.\n",
    "  - $\\text{Connected Component } G' \\text{ of } G :$ Maximal conntected subgraph of $G$\n",
    "- Connected Component의 정의를 다음과 같이 해석할 수 있다.\n",
    "  - $G'$ 에서 추가적으로 $G$ 에 존재하는 아무 정점 하나를 추가하는 순간 disconnected(단절) 되며, $G'$ 는 가능한 모든 간선을 포함하고 있어야 한다.\n",
    "    - 즉, induced subgraph를 의미한다."
   ]
  },
  {
   "cell_type": "markdown",
   "metadata": {},
   "source": [
    "### Connected Component의 특성\n",
    "- ![Alt text](assets/ap-7.png)\n",
    "  - 어떤 그래프 $G$ (a)와, 그 연결정보를 DFS Tree로 표현한 DFS Forest(b)가 있다.\n",
    "- connected component로 $G$의 정점들의 집합(vertex set)을 분리할(partitioning) 수 있다.\n",
    "- DFS Forest를 이루는 각각의 DFS Tree는 Graph의 Connected Component에 대응된다.\n",
    "- 따라서 DFS 알고리즘 중 한번 explore를 호출할 때마다 새로운 connected component에 속한 정점들을 모두 방문한다."
   ]
  },
  {
   "cell_type": "markdown",
   "metadata": {},
   "source": [
    "#### Connected Component 특성의 증명\n",
    "- (귀류법) 정점 $v$ 에서 explore를 호출할 때 $v$ 와 동일한 connected component에 속한 어떠한 정점 $u$ 를 방문하지 않는다.\n",
    "- $v$와 $u$가 같은 connected component에 속하므로, 그 둘 사이에는 경로가 존재한다.\n",
    "- 이때 다음을 가정해보자.\n",
    "  1. 둘 사이의 경로에서 마지막으로 방문하는 정점을 $z$ 라고 하자.\n",
    "  2. $z$ 바로 다음에 오는 정점을 $w$ 라고 하자.\n",
    "- explore는 두 점을 잇는 간선이 존재하면 반드시 방문 처리를 한다.\n",
    "- 그러나 $(z, w) \\in E$ 즉 $z$ 와 $w$ 사이에 간선이 존재하는데도 불구하고, 방문하지 않으니 이는 $z$ 와 adjacent한 모든 정점을 방문한다는 사실에 모순된다.\n",
    "  - $w$ 가 방문 되었어야했다. 즉, $z$ 는 마지막으로 방문한 정점이 아니게 된다.\n",
    "- 따라서 한번 explore를 호출할 때마다 새로운 connected component에 속한 정점들을 모두 방문한다."
   ]
  },
  {
   "cell_type": "markdown",
   "metadata": {},
   "source": [
    "### 단절점(Articulation Point, Cut Vertex)\n",
    "- $G$ 가 connected undirected graph라고 하자.\n",
    "- $G$ 의 어떤 정점 $v$ 와, $v$ 와 연결된(incident) 모든 간선들을 제거할 경우, $G$ 가 disconnected 된다면\\\n",
    "정점 $v$ 를 $G$ 의 단절점(Articulation Point)라고 한다."
   ]
  },
  {
   "cell_type": "markdown",
   "metadata": {},
   "source": [
    "#### 단절점의 특성\n",
    "- 루트 노드로 잡은 정점의 자식이 2개 이상이면 루트 노드는 단절점이다.\n",
    "  - 그래프를 DFS로 탐색한 DFS Tree로 표현하면 직관적으로 알 수 있다. 다음 그래프과 같은 그래프 연결이 있다고 할 때,\\\n",
    "  ![Alt text](assets/ap-2.png)\\\n",
    "  위 그래프를 DFS Tree로 표현하면 다음과 같다. \\\n",
    "  ![Alt text](assets/ap-1.png)\\\n",
    "  이때 루트 노드인 1번 정점을 제거하면 4번과 6번 정점이 떼어져 Connected Component가 2개로 나뉘어지게 된다.\\\n",
    "  ![Alt text](assets/ap-3.png)\n",
    "  - 좀더 일반적으로 증명할 수 있다. \\\n",
    "  루트 노드 $r$ 이 두 자식 $a, b$ 를 가진다고 해보자.\\\n",
    "  만약 DFS tree의 간선 $(r, a)$ 와 $(r, b)$ 를 포함하는 cycle이 존재한다면, 둘 중 하나는 back edge가 되어야 하므로 모순된다.\\\n",
    "  따라서 루트 노드가 제거된다면 $a$ 와 $b 사이에는 경로가 없으므로, $G$ 는 disconnected 된다.\\\n",
    "  즉, $r$ 은 단절점이다.\n",
    "    - ![ra, rb를 포함하는 사이클](assets/ap-8.png)\n",
    "- $s$ 가 $v$ 의 child 노드이고, $s$ 의 descendant(s를 포함한 자손)와 $v$의 proper ancestor(v를 포함하지 않는 조상)을 연결하는 back edge가 존재하지 않으면 $v$ 는 단절점이다.\n",
    "  - DFS를 이용하여 정점들의 방문 순서를 기록해두고 v를 거치지 않고 a보다 빠른 방문 번호를 가진 정점으로 갈 수 있다면 단절점이 될 것이다.\n",
    "  - 위의 DFS Tree를 오름차순으로 정렬한 그래프\\\n",
    "  ![Alt text](assets/ap-4.png)\\\n",
    "  에 대해서 2번 정점, 즉 더 낮은 정점 번호로 갈 수 있는 경로가 있는 정점을 제거한다면 \\\n",
    "  ![Alt text](assets/ap-6.png)\\\n",
    "  3번 정점은 더 낮은 정점으로 가는 경로(빨간색)를 통해 닿을 수 있으므로, 2번은 단절점이 아니다.\\\n",
    "  ![Alt text](assets/ap-5.png)\\\n",
    "  반면 그러한 경로가 없는 5번 정점을 제거하면 그래프가 나뉘어 지게 되며, 5번은 단절점이 된다.\n",
    "- DFS Tree의 leaf 노드는 단절점이 아니다.\n",
    "  - leaf 노드는 child 노드가 없기 때문에 해당 node를 제거해도 나머지는 여전히 tree 구조이며, tree의 정의(사이클이 없으며 connected 되어있다)에 의해 해당 그래프는 connected 하다."
   ]
  },
  {
   "cell_type": "markdown",
   "metadata": {},
   "source": [
    "### 단절점 알고리즘\n",
    "1. DFS를 이용하여 각 정점의 방문 순서를 기록한다.\n",
    "2. 각 정점의 방문 순서를 기록하는 배열을 이용하여 각 정점의 자식 정점들이 방문할 수 있는 가장 높은 정점의 번호를 기록한다.\n",
    "    - 이때, 자식 정점들이 방문할 수 있는 가장 높은 정점의 번호는 자식 정점들이 방문할 수 있는 정점들 중 가장 작은 번호를 가진 정점의 번호이다.\n",
    "3. 단절점은 루트 정점이거나, 자식 정점들이 방문할 수 있는 가장 높은 정점의 번호가 자신의 방문 순서보다 큰 정점이다."
   ]
  },
  {
   "cell_type": "markdown",
   "metadata": {},
   "source": [
    "### 단절점 알고리즘 구현\n",
    "- $O(N + M)$\n",
    "- 주석은 11266(단절점) 참고"
   ]
  },
  {
   "cell_type": "code",
   "execution_count": null,
   "metadata": {},
   "outputs": [],
   "source": [
    "def AP(G):\n",
    "  V = len(G)\n",
    "  D = [0] * V\n",
    "  low = [0] * V\n",
    "  par = [-1] * V \n",
    "  child = [0] * V\n",
    "  AP = [False] * V\n",
    "\n",
    "  cnt = 1\n",
    "  s = [*range(V)]\n",
    "  while s:\n",
    "    v = s.pop()\n",
    "    if v < 0:\n",
    "      v = ~v\n",
    "      u = par[v]\n",
    "      if u != -1:\n",
    "        child[u] += 1\n",
    "        if low[v] >= D[u]:\n",
    "          AP[u] = True\n",
    "        low[u] = min(low[u], low[v])\n",
    "      elif u == -1 and child[v] == 1 :\n",
    "        AP[v] = False\n",
    "      continue\n",
    "\n",
    "    if D[v]: continue\n",
    "\n",
    "    D[v] = cnt\n",
    "    low[v] = cnt\n",
    "    cnt += 1\n",
    "\n",
    "    s.append(~v)\n",
    "    for w in G[v]:\n",
    "      if not D[w]:\n",
    "        par[w] = v\n",
    "        s.append(w)\n",
    "      elif w != par[v]:\n",
    "        low[v] = min(low[v], D[w])\n",
    "\n",
    "  res = []\n",
    "  for i, v in enumerate(AP):\n",
    "    if v: res.append(i)\n",
    "\n",
    "  return res"
   ]
  },
  {
   "cell_type": "markdown",
   "metadata": {},
   "source": [
    "### 단절선(Articulation Edge, Bridge) \n",
    "- $G$ 의 어떤 간선 $e$ 를 제거할 경우, $G$ 가 disconnected 된다면 간선 $e$ 를 $G$ 의 단절선(Articulation Edge)라고 한다."
   ]
  },
  {
   "cell_type": "markdown",
   "metadata": {},
   "source": [
    "### 단절선 알고리즘 구현\n",
    "- $O(N + M)$\n",
    "- 주석은 11400(단절선) 참고"
   ]
  },
  {
   "cell_type": "code",
   "execution_count": null,
   "metadata": {},
   "outputs": [],
   "source": [
    "def AE(G):\n",
    "  V = len(G)\n",
    "  D = [0] * V\n",
    "  low = [0] * V\n",
    "  par = [-1] * V \n",
    "  AE = set()\n",
    "\n",
    "  cnt = 1\n",
    "  s = [*range(V)]\n",
    "  while s:\n",
    "    v = s.pop()\n",
    "    if v < 0:\n",
    "      v = ~v\n",
    "      u = par[v]\n",
    "      if low[v] > D[u]:\n",
    "        AE.add((min(u, v), max(u, v)))\n",
    "      low[u] = min(low[u], low[v])\n",
    "\n",
    "    if D[v]: continue\n",
    "\n",
    "    D[v] = cnt\n",
    "    low[v] = cnt\n",
    "    cnt += 1\n",
    "\n",
    "    s.append(~v)\n",
    "    for w in G[v]:\n",
    "      if w == par[v]: continue\n",
    "      if not D[w]:\n",
    "        par[w] = v\n",
    "        s.append(w)\n",
    "      else :\n",
    "        low[v] = min(low[v], D[w])\n",
    "\n",
    "  return AE"
   ]
  }
 ],
 "metadata": {
  "language_info": {
   "name": "python"
  },
  "orig_nbformat": 4
 },
 "nbformat": 4,
 "nbformat_minor": 2
}
