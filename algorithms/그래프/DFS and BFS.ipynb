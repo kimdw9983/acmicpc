{
 "cells": [
  {
   "cell_type": "markdown",
   "metadata": {},
   "source": [
    "### 변수명 정리\n",
    "- 그래프만 특별히 주석과 함께 정리해둔다."
   ]
  },
  {
   "cell_type": "code",
   "execution_count": 1,
   "metadata": {},
   "outputs": [],
   "source": [
    "#시작 정점\n",
    "s:int;r:int;src:int\n",
    "#도착 정점\n",
    "e:int; snk:int\n",
    "#V(특히 플로우에서), N: 정점의 개수\n",
    "V:int; N:int\n",
    "#M: 간선의 개수\n",
    "M:int\n",
    "#u -> v로 가는 간선이 존재\n",
    "u:int; v:int\n",
    "#그래프\n",
    "G: list[list[int]]\n",
    "#간선 그룹\n",
    "E: list[list[tuple|int]]"
   ]
  },
  {
   "attachments": {},
   "cell_type": "markdown",
   "metadata": {},
   "source": [
    "### DFS\n",
    "- DFS의 순회 순서는 정말 많은 의미를 가진다. 언젠간 전부 정리해야지\n",
    "- 어떤 그래프를 위상정렬하는 순서로 이동한다."
   ]
  },
  {
   "cell_type": "markdown",
   "metadata": {},
   "source": [
    "### 구현"
   ]
  },
  {
   "cell_type": "code",
   "execution_count": null,
   "metadata": {},
   "outputs": [],
   "source": [
    "S = [s]\n",
    "vis = [False for _ in range(N)]\n",
    "\n",
    "while S:\n",
    "  u = S.pop()\n",
    "  if vis[u]: continue\n",
    "  vis[u] = True\n",
    "  S += G[u]"
   ]
  },
  {
   "attachments": {},
   "cell_type": "markdown",
   "metadata": {},
   "source": [
    "### 재귀 구현(참고용)\n",
    "- 만약 최단 경로의 내부 구현을 만든다면, 아래와 같은 구조를 비재귀로 만들듯이 만들어야 한다.\n",
    "- 특히, `vis` 처리와 early return을 잘 해야한다. 그렇지 않으면 한 차원 더 들어가면서 TLE가 나기 쉬움.\n",
    "  - 13141(Ignition)에서 고생한 것 참고."
   ]
  },
  {
   "cell_type": "code",
   "execution_count": null,
   "metadata": {},
   "outputs": [],
   "source": [
    "def dfs(G, vis, s):\n",
    "  if not vis[s] :\n",
    "    vis[s] = True\n",
    "\n",
    "  for x in G[s] :\n",
    "    if vis[x] : continue\n",
    "    dfs(G, vis, x)"
   ]
  },
  {
   "attachments": {},
   "cell_type": "markdown",
   "metadata": {},
   "source": [
    "### BFS\n",
    "- BFS는 각 정점사이의 최단경로로 방문한다.\n",
    "- 짝수개의 크기를 가진 사이클을 찾아내는 방식으로 이분그래프를 판별할 수 있다.\n",
    "- 그래프의 연결 요소를 찾는데에도 쓰인다."
   ]
  },
  {
   "cell_type": "markdown",
   "metadata": {},
   "source": [
    "### 구현\n",
    "- deque을 사용하지 않아도 된다.\n",
    "  - 각 스탭에서 넣는 순서가 중요하다면 Q[::-1]을 사용할 것\n",
    "- 각 한 스텝에서 진행해야 하는 일들을 고려해서 내부 Q에다 구현하면 된다.\n",
    "- 재방문을 최소화 하기 위해선 주석의 흐름을 따라가면 된다. 반대로 쓰지 않도록 주의"
   ]
  },
  {
   "cell_type": "code",
   "execution_count": null,
   "metadata": {},
   "outputs": [],
   "source": [
    "Q, nQ = [s], []\n",
    "vis = [False] * (N+1)\n",
    "vis[s] = True\n",
    "\n",
    "while Q:\n",
    "  #initialize something\n",
    "  while Q :\n",
    "    u = Q.pop()\n",
    "    # Do something with u\n",
    "    # if escape_condition: continue\n",
    "\n",
    "    for v in G[u]:\n",
    "      if vis[v]: continue\n",
    "      vis[v] = True\n",
    "      nQ.append(v)\n",
    "  Q, nQ = nQ, Q\n",
    "  #Q = Q[::-1]\n",
    "  #level += 1"
   ]
  },
  {
   "attachments": {},
   "cell_type": "markdown",
   "metadata": {},
   "source": [
    "### 그래프 인접 순회(미로 찾기)\n",
    "- `dx, dy`: 우하좌상(E방향부터 시계방향)\n",
    "  - 이동 방법이 인접한 상하좌우가 아니라면 적절히 변경할 수 있다.\n",
    "    - 7562(나이트의 이동)\n",
    "- `if not (0 <= nx < N and 0 <= ny < M) : continue` 경계에 닿을 경우\n",
    "- `if not G[nx][ny]: continue` 접근 가능 여부 "
   ]
  },
  {
   "cell_type": "code",
   "execution_count": null,
   "metadata": {},
   "outputs": [],
   "source": [
    "Q = [s]\n",
    "while Q :\n",
    "  x, y = Q.pop()\n",
    "\n",
    "  for dx, dy in [(0, 1), (1, 0), (0, -1), (-1, 0)] :\n",
    "    nx, ny = x + dx, y + dy\n",
    "\n",
    "    if not (0 <= nx < N and 0 <= ny < M): continue\n",
    "    # if vis[nx][ny]: continue\n",
    "    if not G[nx][ny]: continue\n",
    "\n",
    "    #vis[nx][ny] = True\n",
    "    Q.append((nx, ny)) "
   ]
  },
  {
   "attachments": {},
   "cell_type": "markdown",
   "metadata": {},
   "source": [
    "### 후위 순위\n",
    "- tree DP 참고"
   ]
  }
 ],
 "metadata": {
  "kernelspec": {
   "display_name": "Python 3",
   "language": "python",
   "name": "python3"
  },
  "language_info": {
   "codemirror_mode": {
    "name": "ipython",
    "version": 3
   },
   "file_extension": ".py",
   "mimetype": "text/x-python",
   "name": "python",
   "nbconvert_exporter": "python",
   "pygments_lexer": "ipython3",
   "version": "3.11.5"
  },
  "orig_nbformat": 4
 },
 "nbformat": 4,
 "nbformat_minor": 2
}
