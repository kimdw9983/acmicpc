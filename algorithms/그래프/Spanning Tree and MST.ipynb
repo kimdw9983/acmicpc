{
 "cells": [
  {
   "attachments": {},
   "cell_type": "markdown",
   "metadata": {},
   "source": [
    "# Spanning Tree\n",
    "-  그래프의 최소 연결 부분 그래프를 의미한다. \n",
    "- 모두 연결돼있으면서, 간선 수가 가장 적다는 뜻이다.\n",
    "- n개의 정점을 가지는 그래프의 최소 간선의 수는 n-1개이다. (필요충분조건)\n",
    "- 반대로 그래프가 n-1개의 간선으로 연결된 경우, 그 그래프는 그것은 tree이자 spanning tree가 된다.\n"
   ]
  },
  {
   "cell_type": "markdown",
   "metadata": {},
   "source": [
    "\n",
    "### 신장 트리의 조건\n",
    "  - 본래의 그래프의 모든 노드를 포함해야한다.\n",
    "  - 그래프의 모든 노드 n개가 서로 연결되어 있어야하며, 그 간선의 수는 n-1개이다.\n",
    "  - 트리의 속성을 만족시켜야한다. (사이클이 존재하지 않는다.)\n",
    "  - DFS, BFS를 이용하여 탐색도중에 발견한 간선을 모으면 신장트리를 구성할 수 있다.\n",
    "  - 하나의 그래프에는 많은 신장트리를 만들 수 있다(그래프에서 신장트리를 만들 수 있는 방법은 여러가지일 수 있다.)\n",
    "    - ![image.png](assets/st-1.png)"
   ]
  },
  {
   "attachments": {},
   "cell_type": "markdown",
   "metadata": {},
   "source": [
    "\n",
    "# Minimum spanning tree(MST, 최소신장트리)\n",
    "- Spanning tree중에서 간선들의 가중치의 합이 최소인 tree.\n",
    "  - 현실에서 가중치는 `길이, 비용, 전송시간` 등으로 볼 수 있으며, 문제에 이러한 표현이 있는 경우를 대비해 참고한다.\n",
    "- 그래프에서 신장트리를 만드는 방법이 여러개 있고, 그중에서 가중치의 합이 최소인 신장트리를 말한다."
   ]
  },
  {
   "attachments": {},
   "cell_type": "markdown",
   "metadata": {},
   "source": [
    "### MST의 특징\n",
    "- 간선의 가중치의 합이 최소이다.\n",
    "- n개의 정점을 가지는 그래프의 최소 간선의 수는 n-1개이다. (필요충분조건)\n",
    "- 사이클이 포함되어서는 안된다."
   ]
  },
  {
   "attachments": {},
   "cell_type": "markdown",
   "metadata": {},
   "source": [
    "### Kruskal MST\n",
    "- greedy를 이용하여 네트워크의 모든 정점을 최소비용으로 연결하는 최적 해답을 구한다.\n",
    "- 각 단계에서 사이클을 이루지 않는 최소비용 간선을 선택한다.\n",
    "- 이전 단계에서 만들어진 신장트리와 상관없이 최소 간선만 선택한다.\n",
    "- 시간복잡도는 $O(n log n)$이며, 희소그래프가 주워질 경우 적합하다.\n"
   ]
  },
  {
   "cell_type": "markdown",
   "metadata": {},
   "source": [
    "\n",
    "### Kruskal 알고리즘 동작\n",
    "- ![image.png](assets/st-2.png)\n",
    "1. 그래프의 간선들을 가중치의 오름차순으로 정렬한다.\n",
    "2. 가중치가 가장 낮은 간선을 선택한다.\n",
    "    - 이때, 사이클을 형성하는 간선을 union find를 통해 제외한다.\n",
    "3. 해당 간선을 현재의 MST에 추가한다."
   ]
  },
  {
   "cell_type": "markdown",
   "metadata": {},
   "source": [
    "### 구현"
   ]
  },
  {
   "cell_type": "code",
   "execution_count": null,
   "metadata": {},
   "outputs": [],
   "source": [
    "def sol():\n",
    "  N, E = map(int, input().split())\n",
    "  U = []\n",
    "  V = []\n",
    "  W = []\n",
    "  for _ in range(E):\n",
    "    u, v, w = map(int, input().split())\n",
    "    U.append(u-1)\n",
    "    V.append(v-1)\n",
    "    W.append(w)\n",
    "\n",
    "class UF:\n",
    "  def __init__(self, n):\n",
    "    self.p = list(range(n))\n",
    "\n",
    "  def find(self, a):\n",
    "    a_ = a\n",
    "    while a != self.p[a]:\n",
    "      a = self.p[a]\n",
    "    while a_ != a:\n",
    "      self.p[a_], a_ = a, self.p[a_]\n",
    "    return a\n",
    "\n",
    "  def merge(self, a, b):\n",
    "    self.p[self.find(b)] = self.find(a)\n",
    "\n",
    "def kruskal(n, U, V, W): \n",
    "  uni = UF(n)\n",
    "  c, merge_cnt = 0, 0\n",
    "  mst_u, mst_v = [], []\n",
    "  L = sorted(range(len(W)), key=lambda x: W[x])\n",
    "  for i in range(len(W)):\n",
    "    u, v = U[L[i]], V[L[i]]\n",
    "    fu, fv = uni.find(u), uni.find(v)\n",
    "    if fu == fv: continue\n",
    "    c += W[L[i]]\n",
    "    merge_cnt += 1\n",
    "    uni.p[fv] = fu\n",
    "    mst_u.append(u), mst_v.append(v) \n",
    "\n",
    "  return c, mst_u, mst_v, n == 1 + merge_cnt \n",
    "  #c: 최소신장 연결비용\n",
    "  #mst_u, mst_v: 최소신장트리를 구성하는 간선들의 출발점과 도착점(각 i번째 간선에 대해 mst_u[i]에서 mst_v[i]로 연결하면 MST가 만들어진다.)\n",
    "  #n == 1 + merge_cnt : 모든 노드가 연결됐는지 확인(입력으로 주워진 간선 전부가 MST에 포함됐는지 확인)\n"
   ]
  },
  {
   "attachments": {},
   "cell_type": "markdown",
   "metadata": {},
   "source": [
    "- 비용만 구하는 버전"
   ]
  },
  {
   "cell_type": "code",
   "execution_count": null,
   "metadata": {},
   "outputs": [],
   "source": [
    "N, E = map(int, input().split())\n",
    "U = [0] * E\n",
    "V = [0] * E\n",
    "W = [0] * E\n",
    "for i in range(E):\n",
    "  u, v, w = map(int, input().split())\n",
    "  U[i], V[i], W[i] = u-1, v-1, w\n",
    "\n",
    "class UF:\n",
    "  def __init__(self, n):\n",
    "    self.p = list(range(n))\n",
    "\n",
    "  def find(self, a):\n",
    "    a_ = a\n",
    "    while a != self.p[a]:\n",
    "      a = self.p[a]\n",
    "    while a_ != a:\n",
    "      self.p[a_], a_ = a, self.p[a_]\n",
    "    return a\n",
    "\n",
    "  def merge(self, a, b):\n",
    "    self.p[self.find(b)] = self.find(a)\n",
    "\n",
    "def kruskal(n, U, V, W): \n",
    "  uni = UF(n)\n",
    "  c = 0\n",
    "  L = sorted(range(len(W)), key=lambda x: W[x])\n",
    "  for i in range(len(W)):\n",
    "    u, v = U[L[i]], V[L[i]]\n",
    "    fu, fv = uni.find(u), uni.find(v)\n",
    "    if fu != fv:\n",
    "      c += W[L[i]]\n",
    "      uni.p[fv] = fu\n",
    "\n",
    "  return c"
   ]
  },
  {
   "attachments": {},
   "cell_type": "markdown",
   "metadata": {},
   "source": [
    "### Prim MST\n",
    "- 시작정점에서 출발해서 신장트리 집합을 단계적으로 확장해나가는 방법.\n",
    "- $O(n^2)$의 시간복잡도를 가지며, 밀집그래프가 주워질 경우 적합하다.\n",
    "  - 주 반복문이 정점의 수 n만큼 반복, 내부 반복문이 n번 반복"
   ]
  },
  {
   "attachments": {},
   "cell_type": "markdown",
   "metadata": {},
   "source": [
    "### Prim MST 동작\n",
    "1. 시작 정점을 MST 집합에 포함시킨다.\n",
    "2. 앞 단계에서 만들어진 MST 집합에 인접한 정점들 중에서 최소 간선으로 연결된 정점을 선택하여 트리를 확장한다.\n",
    "    - 즉, 가장 낮은 가중치를 탐색한다(비 정렬이므로 O(n))\n",
    "3. 위 과정을 n-1개의 간선을 가질 때 까지 반복한다."
   ]
  },
  {
   "cell_type": "code",
   "execution_count": null,
   "metadata": {},
   "outputs": [],
   "source": [
    "import heapq\n",
    "\n",
    "N, E = map(int, input().split())\n",
    "G = [[] for _ in range(N+1)]\n",
    "for i in range(E):\n",
    "  u, v, w = map(int, input().split())\n",
    "  G[u].append((v, w))\n",
    "\n",
    "def prim(graph_used):\n",
    "  vis=[]\n",
    "  heap=[[1,0]]\n",
    "  prim = set() #사용된 정점? 사용처가 없다\n",
    "  mincost=0\n",
    "\n",
    "  while len(heap) > 0:\n",
    "    node, cost = heapq.heappop(heap)\n",
    "    if node in vis:\n",
    "      continue\n",
    "\n",
    "    mincost += cost\n",
    "    prim.add(node)\n",
    "    vis.append(node)\n",
    "\n",
    "    for distance, adjacent in graph_used[node]:\n",
    "      if adjacent not in vis:\n",
    "        heapq.heappush(heap, [distance, adjacent])\n",
    "\n",
    "  return mincost"
   ]
  },
  {
   "attachments": {},
   "cell_type": "markdown",
   "metadata": {},
   "source": [
    "- 간선도 출력하는 문제(메모리 사용량에 주의)"
   ]
  },
  {
   "cell_type": "code",
   "execution_count": null,
   "metadata": {},
   "outputs": [],
   "source": [
    "N, E = map(int, input().split())\n",
    "G = [[float(\"inf\")] * (N+1) for _ in range(N+1)]\n",
    "for i in range(E):\n",
    "  u, v, w = map(int, input().split())\n",
    "  G[u][v] = w\n",
    "  G[v][u] = w\n",
    "\n",
    "def prim(n, adj):\n",
    "  total_weight = 0\n",
    "  selected, min_e = [False] * (n+1), [[float(\"inf\"), -1] for _ in range(n+1)]\n",
    "  mst_edges = []\n",
    "\n",
    "  min_e[1][0] = 0\n",
    "\n",
    "  for _ in range(n):\n",
    "    v = -1\n",
    "\n",
    "    for j in range(1, n+1):\n",
    "      if (not selected[j]) and ((v == -1) or (min_e[j][0] < min_e[v][0])):\n",
    "        v = j\n",
    "\n",
    "    if min_e[v][0] == float(\"inf\"):\n",
    "      return None, None\n",
    "\n",
    "    selected[v] = True\n",
    "    total_weight += min_e[v][0]\n",
    "\n",
    "    if min_e[v][1] != -1:\n",
    "      mst_edges.append((v, min_e[v][1]))\n",
    "\n",
    "    for to in range(1, n+1):\n",
    "      if adj[v][to] < min_e[to][0]:\n",
    "        min_e[to] = [adj[v][to], v]\n",
    "\n",
    "  return mst_edges, total_weight"
   ]
  }
 ],
 "metadata": {
  "kernelspec": {
   "display_name": "Python 3",
   "language": "python",
   "name": "python3"
  },
  "language_info": {
   "codemirror_mode": {
    "name": "ipython",
    "version": 3
   },
   "file_extension": ".py",
   "mimetype": "text/x-python",
   "name": "python",
   "nbconvert_exporter": "python",
   "pygments_lexer": "ipython3",
   "version": "3.11.0"
  },
  "orig_nbformat": 4
 },
 "nbformat": 4,
 "nbformat_minor": 2
}
