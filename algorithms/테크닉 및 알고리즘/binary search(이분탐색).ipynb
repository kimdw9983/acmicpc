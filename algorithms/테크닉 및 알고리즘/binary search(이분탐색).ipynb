{
 "cells": [
  {
   "cell_type": "code",
   "execution_count": 1,
   "metadata": {},
   "outputs": [],
   "source": [
    "lo:int\n",
    "hi:int\n",
    "desc: function\n",
    "l:list[int]\n",
    "x:int"
   ]
  },
  {
   "cell_type": "markdown",
   "metadata": {},
   "source": [
    "# 이분탐색(Binary search)\n",
    "- 정렬된 리스트에서 특정한 값의 위치를 찾는 알고리즘\n",
    "- 특정한 기준을 전후로 boolean값이 변하지 않는 경우\n",
    "  - ![image.png](assets/binary-search-1.png)"
   ]
  },
  {
   "cell_type": "code",
   "execution_count": 6,
   "metadata": {},
   "outputs": [
    {
     "data": {
      "text/plain": [
       "6"
      ]
     },
     "execution_count": 6,
     "metadata": {},
     "output_type": "execute_result"
    }
   ],
   "source": [
    "import bisect\n",
    "bisect.bisect_right(l, x)"
   ]
  },
  {
   "cell_type": "markdown",
   "metadata": {},
   "source": [
    "- ![image.png](assets/binary-search-2.png)\n",
    "- x보다 왼쪽에 있는 숫자는 모두 x보다 같거나 작다\n",
    "  - all $e$ in `l[:i]`, $e \\le x$\n",
    "- x보다 오른쪽에 있는 숫자는 x보다 크다.\n",
    "  - all $e$ in `l[i:]`, $e > x$\n",
    "- `upper_bound`와 같다."
   ]
  },
  {
   "cell_type": "code",
   "execution_count": 7,
   "metadata": {},
   "outputs": [
    {
     "data": {
      "text/plain": [
       "4"
      ]
     },
     "execution_count": 7,
     "metadata": {},
     "output_type": "execute_result"
    }
   ],
   "source": [
    "import bisect\n",
    "bisect.bisect_left(l, x)"
   ]
  },
  {
   "cell_type": "markdown",
   "metadata": {},
   "source": [
    "- ![image.png](assets/binary-search-3.png)\n",
    "- x보다 왼쪽에 있는 숫자는 모두 x보다 작다(이 부분은 `bisect_right`와 같다.)\n",
    "  - all $e$ in `l[:i]`, $e < x$\n",
    "- x보다 오른쪽에 있는 숫자는 x와 같거나 크다.\n",
    "  - all $e$ in `l[i:]`, $e >= x$\n",
    "- `lower_bound`와 같다."
   ]
  },
  {
   "cell_type": "markdown",
   "metadata": {},
   "source": [
    "### 매개변수 탐색(Parametric search)\n",
    "- 조합 최적화 방법 중 하나로 특정 조건을 만족하는 해를 구하는 방법\n",
    "- $O(\\log N)$으로 문제를 해결할 수 있다.\n",
    "\n",
    "### 성립 조건\n",
    "- 특정 조건을 만족하는 최댓값/최소값을 구하는 문제이거나, 그러한 형태로 변형이 가능해야 한다.\n",
    "  - ex) 200g이하의 고기 중 최댓값을 구하여라\n",
    "- 조건에 대해서 구하려는 구간에 있는 모든 값은 조건을 만족해야 하고, 그렇지 않은 값은 조건을 만족하지 않아야 한다.\n",
    "- 답의 범위가 이산적이거나(eg.정수) 허용 오차범위가 있어야 한다.\n",
    "  - 이분탐색으로는 정답에 한없이 가까워질 순 있으나, 정확한 값을 구할 순 없다."
   ]
  },
  {
   "cell_type": "markdown",
   "metadata": {},
   "source": [
    "### 구간의 최대값을 찾기\n",
    "- 결정함수가 성립하면 탐색범위를 오른쪽으로 선택한다.\n",
    "- hi는 가능한 구간 최대값보다 커야한다.\n",
    "- while문을 빠져나올 땐 결정함수가 False일 때 나오므로, mid값 외에 다른 값들을 출력하게 된다면 결정함수가 True일 때`ans` 저장해야 한다."
   ]
  },
  {
   "cell_type": "code",
   "execution_count": null,
   "metadata": {},
   "outputs": [],
   "source": [
    "while lo + 1 < hi:\n",
    "  mid = (lo + hi) // 2\n",
    "  if desc(mid):\n",
    "    lo = mid\n",
    "    ans = mid\n",
    "  else:\n",
    "    hi = mid"
   ]
  },
  {
   "cell_type": "markdown",
   "metadata": {},
   "source": [
    "### 구간의 최소값을 찾기\n",
    "- 결정함수가 성립하면 탐색범위를 왼쪽으로 선택한다.\n",
    "- lo는 가능한 구간 최소값보다 작아야한다.\n",
    "  - $(lo, hi]$"
   ]
  },
  {
   "cell_type": "code",
   "execution_count": null,
   "metadata": {},
   "outputs": [],
   "source": [
    "while lo + 1 < hi:\n",
    "  mid = (lo + hi) // 2\n",
    "  if desc(mid):\n",
    "    hi = mid\n",
    "    ans = mid\n",
    "  else:\n",
    "    lo = mid"
   ]
  }
 ],
 "metadata": {
  "kernelspec": {
   "display_name": "Python 3",
   "language": "python",
   "name": "python3"
  },
  "language_info": {
   "codemirror_mode": {
    "name": "ipython",
    "version": 3
   },
   "file_extension": ".py",
   "mimetype": "text/x-python",
   "name": "python",
   "nbconvert_exporter": "python",
   "pygments_lexer": "ipython3",
   "version": "3.11.0"
  },
  "orig_nbformat": 4
 },
 "nbformat": 4,
 "nbformat_minor": 2
}
