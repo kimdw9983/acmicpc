{
 "cells": [
  {
   "cell_type": "markdown",
   "metadata": {},
   "source": [
    "### 팰린드롬의 성질\n",
    "- 문자열 $s$ 에 어떤 문자 $c'$ 를 붙였을 때 $s$ 가 팰린드롬인 경우는 $s$ 가 하나의 문자로 이루어져있고, $c'$ 가 $s$ 의 문자와 같은 경우이다.\n",
    "- $s = c_1c_2c_3...c_{n-1}c_n$ 라고 했을 때, $(c_1 = c_n) \\land (c_2 = c_{n-1}) \\land ... \\land (c_{\\frac{n}{2}} = c_{\\frac{n}{2}+1})$ 이면 팰린드롬이다.\n",
    "- 문자열의 중심을 $x$ 라고 할 때 $s[x-1]$ 과 $s[x+1]$ 은 같아야 한다."
   ]
  }
 ],
 "metadata": {
  "language_info": {
   "name": "python"
  }
 },
 "nbformat": 4,
 "nbformat_minor": 2
}
