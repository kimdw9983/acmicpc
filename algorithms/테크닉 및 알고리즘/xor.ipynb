{
 "cells": [
  {
   "cell_type": "markdown",
   "metadata": {},
   "source": [
    "### XOR 연산의 성질\n",
    "- boolean $a, b$ 에 대해, $a \\oplus b$ 는 $a$ 와 $b$ 중 정확히 하나만 참일 때 참이다.\n",
    "  - $a \\oplus b = (\\lnot a \\land b) \\lor (a \\land \\lnot b)$\n",
    "- 교환법칙이 성립한다.\n",
    "  - $a \\oplus b = b \\oplus a$\n",
    "- 결합법칙이 성립한다.\n",
    "  - $a \\oplus (b \\oplus C) = (a \\oplus b) \\oplus C$\n",
    "- 항등원이 0이다.\n",
    "  - $a \\oplus 0 = a$\n",
    "- 역원이 자기 자신이다.\n",
    "  - $a \\oplus a = 0$\n",
    "  - 이 식에 $\\oplus b$ 연산을 짝수번 진행할 경우에도 $a$ 로 값에 변화가 없다.12844(XOR) 참고\n",
    "- $\\oplus 1$ 을 통해 NOT 연산을 할 수 있다. 혹은 complement를 반환한다고 볼 수 있다.\n",
    "  - $a \\oplus 1 = \\lnot a$"
   ]
  },
  {
   "cell_type": "markdown",
   "metadata": {},
   "source": [
    "\n",
    "### boolean 집합에서의 XOR 연산\n",
    "- 어떤 정수 $x, y$ 를 binary로 표현했을 때, 각 bit 표현에 대해 1은 `true`, 0은 `false` 에 대응시켜 boolean으로 표현할 수 있다.\\\n",
    "그렇게 만든 boolean의 집합을 각각 $A, B'$, $|A| = n, |B'| = m$ 이라하자. 그리고 일반성을 잃지 않고 $n \\leq m$ 이라고 하자.\\\n",
    "$B'$ 의 뒤에 $m - n$ 개의 `false` 를 추가하여 $n$ 개의 원소를 가지는 집합을 $B$, 즉 $|A| = |B|$ 일 때, \\\n",
    "$A \\oplus B$ 는 각 집합의 원소에 대해 $\\oplus$ 연산을 적용한 것으로 정의할 수 있다.\n",
    "  - $A = a'_1a'_2 \\cdots a'_n, B = b'_1b'_2 \\cdots b'_m 0 \\cdots 0(m-n\\text{ 개의 0 추가})$ 일 때,\\\n",
    "  $A \\oplus B = \\{a_i \\oplus b_i \\mid a_i \\in A, b_i \\in B \\}$\n",
    "- 이진 유한체 $GF(2^n), n \\in \\mathbb{N}$ 으로도 정의할 수 있다.\n",
    "- $A \\oplus B = (\\lnot A \\land B) \\lor (A \\land \\lnot B) = A + B - 2 \\cdot (A \\land B)$\n",
    "  - 집합의 관점에서 본다면, $A^\\complement + B^\\complement$ 인 셈이고, 여집합의 크기는 $A \\land B$ 이니, $A + B - 2 \\cdot (A \\land B)$ 가 된다.\n",
    "  - 이때 $A, B \\geq 0$ 이라면 $A \\land B \\leq A, B$ 이므로, $A \\oplus B \\geq 0$ 이다.\n",
    "- $A \\oplus B$ 는, $A$ 도 $B$ 도 아닌 다른 형태일 수 있다. 그러한 $A \\oplus B = X$ 라고 할 때, $X \\oplus B$ 는 곧 $A$ 가 된다. \\\n",
    "이는 어떤 관점에서 본다면 $A$ 를 $B$ 와의 $\\oplus$ 을 통해 암호화 하고, 다시 $B$ 를 통해 복호화하는 과정이라고도 볼 수 있다.\n",
    "- `false` 로 이루어진 길이 $|A|$ 의 boolean 집합 $C$ 가 있다고 할 때, \\\n",
    "$A \\oplus \\lnot C$ 는 $A$ 의 보수, 혹은 $A$ 의 모든 비트를 반전시킨 수를 반환한다.\n",
    "  - $A \\oplus \\lnot C = A^\\complement$\n",
    "- 가감산이 동일하다. 즉, 등호를 넘어갈 때 부호가 바뀐다는 개념이 없다. 그대로 넘어간다.\n",
    "  - $X \\oplus 3 = 6$ 이라고 할 때, $X$ 를 구하는 방법은 $X = 3 \\oplus 6$ 이다.\n",
    "  - $X \\oplus 3 \\oplus 3 = 6 \\oplus 3$ 이고, $X \\oplus 0 = 6 \\oplus 3$ 이고, 곧 $X = 6 \\oplus 3$ 이다.\n",
    "- 집합의 `true` 의 개수를 세는 함수를 $f(X)$ 라고 하고, 집합 내의 모든 원소를 xor하는 함수를 $C(X) = x_1 \\oplus x_2 \\oplus \\cdots \\oplus x_n$ 라고 하자.\\\n",
    "이때 $f(X)$ 가 홀수인 경우 오직 그 경우에만 $C(X)$ 가 `true` 이다.\n",
    "  - $C(X) \\iff (f(X) \\mod 2 = 1)$"
   ]
  },
  {
   "cell_type": "markdown",
   "metadata": {},
   "source": [
    "### 풀이 팁\n",
    "- 관찰하려 할 때, 반드시 0이 포함된 케이스도 생각해야 한다. 0이 없는 수열에선 성립하는 관찰이, 0이 포함됐을 때 완전히 무너진 케이스가 있었다.\n",
    "  - 16902(mex)"
   ]
  }
 ],
 "metadata": {
  "language_info": {
   "name": "python"
  }
 },
 "nbformat": 4,
 "nbformat_minor": 2
}
