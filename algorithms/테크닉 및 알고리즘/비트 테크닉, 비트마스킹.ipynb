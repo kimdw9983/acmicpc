{
 "cells": [
  {
   "cell_type": "code",
   "execution_count": null,
   "metadata": {},
   "outputs": [],
   "source": [
    "n: int;i: int; dp: list; k: int; a:int; b:int"
   ]
  },
  {
   "cell_type": "markdown",
   "metadata": {},
   "source": [
    "### 연산자 적용순서\n",
    "- 비트 연산자를 사용함에 있어서 실수를 줄이고, 코드를 깔끔하게 하려면 이 순서를 알아야 한다.\n",
    "- Python의 연산자 적용 순서는 다음과 같다\n",
    "  1. parentheses `()`\n",
    "  2. exponentiation `**`\n",
    "  3. unary minus `-`, unary plus `+`\n",
    "  4. multiplication `*`, division `/`, floor division `//`, remainder `%`\n",
    "  5. addition `+`, subtraction `-`\n",
    "  6. bitwise shift `<<`, `>>`\n",
    "  7. bitwise AND `&`\n",
    "  8. bitwise XOR `^`\n",
    "  9. bitwise OR `|`\n",
    "  10. comparison `in`, `not in`, `is`, `is not`, `<`, `<=`, `>`, `>=`, `!=`, `==`\n",
    "  11. logical NOT `not`\n",
    "  12. logical AND `and`\n",
    "  13. logical OR `or`\n",
    "- 전부 왼쪽에서 오른쪽으로 진행된다. \n",
    "- 크게 외워야할 흐름은 다음과 같다\n",
    "  - `제곱 **`이 가장 먼저 수행된다.\n",
    "  - `사칙연산 * / + -` 뒤에 `쉬프트 연산 << >>`이 수행된다.\n",
    "  - `쉬프트 연산` 다음에 `비트 연산 ^ & |`이 수행된다. \n",
    "  - `비트 연산` 다음에 `비교 연산 == in <= != is`이 수행된다.\n",
    "  - `영어로 된 비교 연산 not and or`은 가장 나중에 수행된다."
   ]
  },
  {
   "attachments": {},
   "cell_type": "markdown",
   "metadata": {},
   "source": [
    "#### 2의 제곱수인지 판단\n",
    "- 1, 2, 4, 8, 16, 32, ..."
   ]
  },
  {
   "cell_type": "code",
   "execution_count": null,
   "metadata": {},
   "outputs": [],
   "source": [
    "(n&(~(n-1)))==n "
   ]
  },
  {
   "cell_type": "markdown",
   "metadata": {},
   "source": [
    "#### 오른쪽에서 i번째 bit의 값 확인"
   ]
  },
  {
   "cell_type": "code",
   "execution_count": null,
   "metadata": {},
   "outputs": [],
   "source": [
    "(n >> i) & 1"
   ]
  },
  {
   "attachments": {},
   "cell_type": "markdown",
   "metadata": {},
   "source": [
    "#### MSB(맨 왼쪽) bit 제거\n",
    "- MSB(Most Significant Bit) 제거\n",
    "- Leftmost bit\n",
    "- $15 = 10100_2 \\rarr 0100_2 = 7$"
   ]
  },
  {
   "cell_type": "code",
   "execution_count": null,
   "metadata": {},
   "outputs": [],
   "source": [
    "n^(1<<n.bit_length()-1)"
   ]
  },
  {
   "attachments": {},
   "cell_type": "markdown",
   "metadata": {},
   "source": [
    "#### n bit 비트마스크\n",
    "- 1의 개수가 n개인 비트마스크"
   ]
  },
  {
   "cell_type": "code",
   "execution_count": null,
   "metadata": {},
   "outputs": [],
   "source": [
    "(1 << n) - 1"
   ]
  },
  {
   "attachments": {},
   "cell_type": "markdown",
   "metadata": {},
   "source": [
    "#### (오른쪽에서) 5번째 비트 켜기\n",
    "- $15 = 10100_2 \\rarr 110100_2 = 31$"
   ]
  },
  {
   "cell_type": "code",
   "execution_count": null,
   "metadata": {},
   "outputs": [],
   "source": [
    "n | (1 << 4)"
   ]
  },
  {
   "cell_type": "markdown",
   "metadata": {},
   "source": [
    "#### 5번째 비트 끄기"
   ]
  },
  {
   "cell_type": "code",
   "execution_count": null,
   "metadata": {},
   "outputs": [],
   "source": [
    "n & ~(1 << 4)"
   ]
  },
  {
   "attachments": {},
   "cell_type": "markdown",
   "metadata": {},
   "source": [
    "#### 오른쪽에서 3번째에 있는 bit의 값(bitwise AND)\n",
    "- $15 = 10100_2$\n",
    "- +1하는 것에 주의"
   ]
  },
  {
   "cell_type": "code",
   "execution_count": null,
   "metadata": {},
   "outputs": [],
   "source": [
    "n & (1 << 2)"
   ]
  },
  {
   "attachments": {},
   "cell_type": "markdown",
   "metadata": {},
   "source": [
    "#### 1-bit-off subsets\n",
    "- 주워진 입력에서 비트가 한개 없는 모든 서브셋을 출력하는 함수\n",
    "- $7 = 111_2$ 이면, $f(111_2) = \\{110_2, 101_2, 011_2\\}$\n",
    "- 비트마스크 DP을 top-down으로 풀어낼 때 유용\n",
    "  - n <= 20 일때에도 재귀 제한 걱정 x"
   ]
  },
  {
   "cell_type": "code",
   "execution_count": 1,
   "metadata": {},
   "outputs": [],
   "source": [
    "def sub(n):\n",
    "  len = n.bit_length()\n",
    "  for i in range(len):\n",
    "    if n & (1 << i):\n",
    "      sub = n & ~(1 << i)\n",
    "      yield sub"
   ]
  },
  {
   "attachments": {},
   "cell_type": "markdown",
   "metadata": {},
   "source": [
    "### Bottom-Up bitfield DP\n",
    "- 비트필드 DP 문제 패턴에서 바텀업으로 풀 때 사용되는 패턴\n",
    "- `for b in (1 << n): DP[b|(1<<i)] += DP[b]`\n",
    "  - b는 현재상태, b|(1<<i)는 i번째를 포함한, 다음 상태(구현따라 다를 수 있으니 주의)\n",
    "- 코드는 1086(박성원)을 푸는데 사용한 참고용 풀이"
   ]
  },
  {
   "cell_type": "code",
   "execution_count": 3,
   "metadata": {},
   "outputs": [],
   "source": [
    "for b in range(1<<n):\n",
    "  for i in range(n):\n",
    "      if b&(1<<i): continue\n",
    "      for j in range(k):\n",
    "          dp[b|(1<<i)][r[i][j]]+=dp[b][j]"
   ]
  },
  {
   "cell_type": "markdown",
   "metadata": {},
   "source": [
    "#### n번째 비트마다 다른 조건 달기\n",
    "- 조건 `a`는 1번째 자리, 조건 `b`는 0번째 자리\n",
    "- 이미 해당 칸의 비트가 켜져있으면 그대로 유지\n",
    "- 18015(어려운 계단 수)"
   ]
  },
  {
   "cell_type": "code",
   "execution_count": null,
   "metadata": {},
   "outputs": [],
   "source": [
    "nk = k | a << 1 | b"
   ]
  },
  {
   "cell_type": "markdown",
   "metadata": {},
   "source": [
    "### 비트셋 테크닉\n",
    "- https://stackoverflow.com/questions/3946086/python-equivalent-to-javas-bitset"
   ]
  },
  {
   "cell_type": "code",
   "execution_count": null,
   "metadata": {},
   "outputs": [],
   "source": [
    "b = 0          # The empty bitset :)\n",
    "b |= 1 << i    # Set\n",
    "b & 1 << i     # Test\n",
    "b &= ~(1 << i) # Reset\n",
    "b ^= 1 << i    # Flip i\n",
    "b = ~b         # Flip all"
   ]
  }
 ],
 "metadata": {
  "kernelspec": {
   "display_name": "Python 3",
   "language": "python",
   "name": "python3"
  },
  "language_info": {
   "codemirror_mode": {
    "name": "ipython",
    "version": 3
   },
   "file_extension": ".py",
   "mimetype": "text/x-python",
   "name": "python",
   "nbconvert_exporter": "python",
   "pygments_lexer": "ipython3",
   "version": "3.11.5"
  },
  "orig_nbformat": 4
 },
 "nbformat": 4,
 "nbformat_minor": 2
}
