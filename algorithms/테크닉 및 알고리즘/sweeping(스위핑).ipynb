{
 "cells": [
  {
   "attachments": {},
   "cell_type": "markdown",
   "metadata": {},
   "source": [
    "### 스위핑\n",
    "- 부분 순서 관계를 만들 수 있는 구간을 제약하는 criteria 를 기준으로, 가장 작은 것 부터 증가하는 방향으로만 살펴보면서 문제를 해결하는 방법\n",
    "  - 내가 정의한건데 뭔 개떡같은 소리냐면, \\\n",
    "  한 `기준`을 정하고, 그 기준이 정한 `좁은 시야`에서, `한쪽 방향`으로만 살펴봐도 문제를 풀 수 있다는 의미이다.\n",
    "  - criteria: 기준. `sorted(L, key=lambda x: x[0])` 에서 이 `key` 가 criteria이다. \n",
    "  - 부분 순서 관계를 만들 수 있는, 가장 작은 것 부터: 보통 정렬이 많이 들어가서 묻히는 감이 있지만, \\\n",
    "  가장 작은 것부터 한쪽 방향으로만 보려면 집합내에 부분 순서 관계가 성립해야 한다.\n",
    "  - 구간을 제약하는: 집합의 전체범위보다 작은 범위를 살펴본다는 뜻이다.\n",
    "  - 증가하는 방향으로만 살펴보면서: 뒤돌아보지 않는다는 것에서 중요하다. 즉, 이미 지나간 것은 다시 볼 필요가 없다.\n",
    "\n",
    "### 2170(선 긋기)\n",
    "- 수평선 위에 선분을 그리는데, 이전에 그린 선분과 겹치는 부분을 제외한 길이의 합을 구하는 문제\n",
    "- 선분의 시작점을 기준으로 정렬한 후, 스위핑을 진행한다.\n",
    "- 총 3가지 경우를 처리하면 된다.\n",
    "    1. 선분이 새로 시작되는 경우\n",
    "    2. 선분이 겹치지만 일부는 겹치지 않는 경우(확장)\n",
    "    3. 선분이 완전히 겹치는 경우"
   ]
  },
  {
   "cell_type": "code",
   "execution_count": null,
   "metadata": {},
   "outputs": [],
   "source": [
    "import io, os\n",
    "input=io.BytesIO(os.read(0,os.fstat(0).st_size)).readline\n",
    "\n",
    "N = int(input())\n",
    "L = []\n",
    "for _ in range(N):\n",
    "  L.append([*map(int, input().split())])\n",
    "\n",
    "L.sort(key=lambda x: x[0])\n",
    "MAX = 1_000_000_000\n",
    "answer = 0\n",
    "l = r = -MAX\n",
    "for s, e in L:\n",
    "  if r < s : #구간을 합칠 수 없는 경우\n",
    "    answer += r - l\n",
    "    l = s\n",
    "    r = e\n",
    "  else : #확장할 수 있으면 확장한다.\n",
    "    r = max(r, e)\n",
    "\n",
    "answer += r - l\n",
    "print(answer)"
   ]
  }
 ],
 "metadata": {
  "language_info": {
   "name": "python"
  },
  "orig_nbformat": 4
 },
 "nbformat": 4,
 "nbformat_minor": 2
}
