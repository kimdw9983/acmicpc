{
 "cells": [
  {
   "cell_type": "code",
   "execution_count": null,
   "metadata": {},
   "outputs": [],
   "source": [
    "cond: bool L: list"
   ]
  },
  {
   "attachments": {},
   "cell_type": "markdown",
   "metadata": {},
   "source": [
    "# 투 포인터\n",
    "- 두개의 포인터를 유지하면서 조건에 따라 포인터를 적합한 한쪽으로 이동하는 것을 반복하는 알고리즘\n",
    "- 동일한 포인터의 조합을 보통 반복해서 보지 않으므로, 보통 $O(N)$만큼 걸린다.\n",
    "- 한쪽에서 출발하는 포인터의 경우, 오른쪽 끝까지 갈때까지 돌려야 한다.\n",
    "- 양쪽 끝에서 출발하는 포인터의 경우, 두 포인터가 만날때까지 돌려야 한다.\n",
    "  - 이 경우에 반복횟수를 n-1이 될 떄까지 하면 된다."
   ]
  },
  {
   "cell_type": "markdown",
   "metadata": {},
   "source": [
    "### 구현\n",
    "- 순행함수 `fwd`와 역행함수 `bwd` 를 정의하고, $N$ 이 소진될때까지 $l \\to r$ 까지의 범위를 조건 `cond`와 비교한다."
   ]
  },
  {
   "cell_type": "code",
   "execution_count": null,
   "metadata": {},
   "outputs": [],
   "source": [
    "def fwd(i) :\n",
    "  pass\n",
    "  \n",
    "def bwd(i) :\n",
    "  pass\n",
    "\n",
    "l = r = 0\n",
    "for i, v in L :\n",
    "  r += 1\n",
    "  fwd(i)\n",
    "  while l < r and (i - v) > cond :\n",
    "    bwd(i)\n",
    "    l += 1\n",
    "  \n",
    "  #answer query"
   ]
  }
 ],
 "metadata": {
  "language_info": {
   "name": "python"
  },
  "orig_nbformat": 4
 },
 "nbformat": 4,
 "nbformat_minor": 2
}
