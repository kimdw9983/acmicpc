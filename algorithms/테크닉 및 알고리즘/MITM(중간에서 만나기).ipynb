{
 "cells": [
  {
   "attachments": {},
   "cell_type": "markdown",
   "metadata": {},
   "source": [
    "# Meet in the middle\n",
    "- n이 적당히 클 때 둘로 나누어서 나누어진 두 그룹의 상관관계를 이용해서 푸는 방법\n",
    "- $2^{40}$ 정도일 때 이 경우를 모두 계산하면 1조가 넘지만, 둘로 나누면 $2^{20} = 약100만$으로 충분히 계산 가능하다.\n",
    "- 두 그룹 사이의 관계가 어떠한지 잘 파악해서 풀어야 한다."
   ]
  },
  {
   "attachments": {},
   "cell_type": "markdown",
   "metadata": {},
   "source": [
    "### 1208(부분수열의 합 2) 해설"
   ]
  },
  {
   "cell_type": "code",
   "execution_count": null,
   "metadata": {},
   "outputs": [],
   "source": [
    "import itertools, sys\n",
    "input= sys.stdin.readline\n",
    "N, S = map(int, input().split())\n",
    "l = [*map(int, input().split())]\n",
    "\n",
    "def calc(l) :\n",
    "  d = {}\n",
    "\n",
    "  #l의 부분 집합들의 합을 모두 구해본다(N^2)\n",
    "  for c in itertools.chain.from_iterable(itertools.combinations(l, r+1) for r in range(N)) :\n",
    "    x = sum(c)\n",
    "    d[x] = d.get(x, 0) + 1\n",
    "\n",
    "  return d\n",
    "\n",
    "A, B = calc(l[:N//2]), calc(l[N//2:]) #각각 모든 구간합이 저장되어있다.\n",
    "\n",
    "answer = 0\n",
    "for k, v in A.items() :\n",
    "  if S-k in B: #n(A ∩ B), (B의)S-k + (A의)k = S이므로,\n",
    "    answer += B[S-k] * v #그 경우들을 고르는 경우의 수를 구해서 넣으면 된다. 각각 독립적인 사건이므로 n(A) * n(B)\n",
    "  if k == S : #A에서 S가 나온 경우 n(A)\n",
    "    answer += v\n",
    "\n",
    "if S in B : #B에서 S가 나온 경우 n(B)\n",
    "  answer += B[S]\n",
    "\n",
    "print(answer)"
   ]
  }
 ],
 "metadata": {
  "language_info": {
   "name": "python"
  },
  "orig_nbformat": 4
 },
 "nbformat": 4,
 "nbformat_minor": 2
}
