{
 "cells": [
  {
   "cell_type": "code",
   "execution_count": null,
   "metadata": {},
   "outputs": [],
   "source": [
    "import sys\n",
    "input = sys.stdin.readline\n",
    "\n",
    "M, N = map(int, input().split())\n",
    "d = {}\n",
    "for _ in range(M):\n",
    "  s = input().rstrip()\n",
    "  if len(s) < N : continue\n",
    "  d[s] = d.get(s, 0) + 1\n",
    "\n",
    "l = sorted(d.items(), key=lambda x: (-x[1], -len(x[0]), x[0]))\n",
    "sys.stdout.write(\"\\n\".join(map(str, [ll[0] for ll in l])))"
   ]
  }
 ],
 "metadata": {
  "language_info": {
   "name": "python"
  },
  "orig_nbformat": 4
 },
 "nbformat": 4,
 "nbformat_minor": 2
}
