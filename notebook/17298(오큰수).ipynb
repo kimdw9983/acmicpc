{
 "cells": [
  {
   "cell_type": "code",
   "execution_count": null,
   "metadata": {},
   "outputs": [],
   "source": [
    "import sys\n",
    "input = sys.stdin.readline\n",
    "N = int(input())\n",
    "A = [*map(int, input().split())]\n",
    "\n",
    "l = [-1] * N #정답리스트\n",
    "stack = [A[-1]]\n",
    "for e, v in enumerate(A[-2::-1]) :\n",
    "  i = N-e-2\n",
    "  if v >= stack[-1] : #현재 값이 스택의 top보다 값이 더 클 때\n",
    "    while stack : \n",
    "      if v < stack[-1] :\n",
    "        l[i] = stack[-1] #정답 넣기\n",
    "        break\n",
    "      stack.pop() #현재 값보다 큰 수가 나오기 전까지 pop\n",
    "    stack.append(v) #이 이후로 top은 \n",
    "  else :\n",
    "    l[i] = stack[-1] #가장 최근의 큰 수가 정답(오큰수)\n",
    "    stack.append(v) #top을 push 하여 갱신\n",
    "\n",
    "sys.stdout.write((\" \".join(map(str, l))))"
   ]
  }
 ],
 "metadata": {
  "language_info": {
   "name": "python"
  },
  "orig_nbformat": 4
 },
 "nbformat": 4,
 "nbformat_minor": 2
}
