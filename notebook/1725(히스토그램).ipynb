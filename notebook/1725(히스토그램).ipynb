{
 "cells": [
  {
   "cell_type": "code",
   "execution_count": null,
   "metadata": {},
   "outputs": [],
   "source": [
    "import sys\n",
    "input=sys.stdin.readline\n",
    "\n",
    "N = int(input())\n",
    "\n",
    "S = []\n",
    "i = -1\n",
    "for e in range(N) : #높이가 0이 아닌 값이 나올때까지\n",
    "  v = int(input())\n",
    "  if not v : continue\n",
    "  S.append([v, 1])\n",
    "  i = e\n",
    "  break\n",
    "\n",
    "answer = 0\n",
    "if i != -1 :\n",
    "  for _ in range(N-i-1) :\n",
    "    v = int(input())\n",
    "    if S[-1][0] <= v :\n",
    "      for i in range(len(S)) : #연속으로 나온 값을 모두 +1 한다.\n",
    "        S[i][1] += 1\n",
    "\n",
    "    if S[-1][0] < v :\n",
    "      S.append([v, 1])\n",
    "    \n",
    "    if S[-1][0] > v :\n",
    "      while S :\n",
    "        if S[-1][0] <= v : break\n",
    "        h, w = S.pop()\n",
    "        answer = max(answer, w * h)\n",
    "      \n",
    "      if not S :\n",
    "        S.append([v, w+1]) #이런 경우가 더 있을 것.\n",
    "      else : #S는 v보다 작거나 같은 것들만 남아있다.\n",
    "        for i in range(len(S)) : #연속으로 나온 값을 모두 +1 한다.\n",
    "          S[i][1] += 1\n",
    "\n",
    "        if S[-1][0] < v :\n",
    "          S.append([v, w+1])\n",
    "\n",
    "for v in S :\n",
    "  w, h = v\n",
    "  answer = max(answer, w * h)\n",
    "\n",
    "print(answer)"
   ]
  },
  {
   "attachments": {},
   "cell_type": "markdown",
   "metadata": {},
   "source": [
    "- 1, 2, 3, 4... 이런식의 증가하는 규칙의 입력이 주워지면 길이+1을 하는 반복문을 매번 돌게 되므로 O(N^2) 이 됨. TLE"
   ]
  },
  {
   "cell_type": "code",
   "execution_count": null,
   "metadata": {},
   "outputs": [],
   "source": [
    "import sys\n",
    "input=sys.stdin.readline\n",
    "\n",
    "N = int(input())\n",
    "\n",
    "S = [] #정답에 사용될 높이들의 후보가 될 수 있는 값의 index를 저장.\n",
    "l = []\n",
    "for _ in range(N) :\n",
    "  l.append(int(input()))\n",
    "l.append(0) #마지막에 모든 stack의 넓이 계산하기 위해.\n",
    "\n",
    "answer = 0\n",
    "for i, v in enumerate(l) :\n",
    "  while S and l[S[-1]] > v : #top보다 현재 높이가 더 낮을 때\n",
    "    h = l[S.pop()]\n",
    "    w = i if not S else i - S[-1] - 1 #(현재 index - 마지막으로 높이를 저장한 index - 1) = 필요한 너비\n",
    "    answer = max(answer, h * w)\n",
    "  S.append(i)\n",
    "\n",
    "print(answer)"
   ]
  },
  {
   "attachments": {},
   "cell_type": "markdown",
   "metadata": {},
   "source": [
    "So instead of storing both width and height and increasing the width value by one(if it stayed in stack) on each enumeration which makes it O(n^2) in worst case(ascending sequence) and cause TLE,\n",
    "\n",
    "This stores indexes to calculate width and acquire needed height from pre-saved list, 'hist'.\n",
    "The idea of getting needed width is to subtract the top index which holds the 'current' highest height to current index and 1 which is ideally to express the length of occurrence. Also it does handle the case when stack is empty which is the case the incoming bar's height is minimum of all current stack.\n",
    "\n",
    "Also the addition of 0 at the end of hist is great skill to learn for more clean code purpose as it automatically calculates all remaining squares because its equal to the minimum possible answer value."
   ]
  }
 ],
 "metadata": {
  "language_info": {
   "name": "python"
  },
  "orig_nbformat": 4
 },
 "nbformat": 4,
 "nbformat_minor": 2
}
