{
 "cells": [
  {
   "attachments": {},
   "cell_type": "markdown",
   "metadata": {},
   "source": [
    "# 틀린 유도"
   ]
  },
  {
   "cell_type": "code",
   "execution_count": 11,
   "metadata": {},
   "outputs": [
    {
     "name": "stdout",
     "output_type": "stream",
     "text": [
      "84\n",
      "70\n"
     ]
    }
   ],
   "source": [
    "N = int(input())\n",
    "print(f\"{ N*(N-1)*(N-2)*(N-3)//10 }\")\n",
    "res = 0\n",
    "for i in range(1, N-1) : \n",
    "  for j in range(i+1, N) :\n",
    "    for k in range(j+1, N+1) :\n",
    "      for l in range(k+1, N+2) : \n",
    "        res += 1\n",
    "\n",
    "print(res) "
   ]
  },
  {
   "cell_type": "code",
   "execution_count": 3,
   "metadata": {},
   "outputs": [
    {
     "name": "stdout",
     "output_type": "stream",
     "text": [
      "35\n",
      "35\n"
     ]
    }
   ],
   "source": [
    "N = int(input())\n",
    "print(f\"{ N*(N-1)*(N-2)//6 }\")\n",
    "\n",
    "res = 0\n",
    "for i in range(1, N-1) : \n",
    "  for j in range(i+1, N) :\n",
    "    for k in range(j+1, N+1) :\n",
    "      res += 1\n",
    "\n",
    "print(res)"
   ]
  },
  {
   "cell_type": "code",
   "execution_count": 10,
   "metadata": {},
   "outputs": [
    {
     "name": "stdout",
     "output_type": "stream",
     "text": [
      "35\n"
     ]
    }
   ],
   "source": [
    "import math\n",
    "N = 7\n",
    "f = math.factorial\n",
    "#C(N, 3)\n",
    "print(f(N) // (f(3) * f(N-3)))\n"
   ]
  }
 ],
 "metadata": {
  "kernelspec": {
   "display_name": "Python 3",
   "language": "python",
   "name": "python3"
  },
  "language_info": {
   "codemirror_mode": {
    "name": "ipython",
    "version": 3
   },
   "file_extension": ".py",
   "mimetype": "text/x-python",
   "name": "python",
   "nbconvert_exporter": "python",
   "pygments_lexer": "ipython3",
   "version": "3.11.0"
  },
  "orig_nbformat": 4
 },
 "nbformat": 4,
 "nbformat_minor": 2
}
