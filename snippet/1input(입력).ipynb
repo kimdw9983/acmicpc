{
 "cells": [
  {
   "attachments": {},
   "cell_type": "markdown",
   "metadata": {},
   "source": [
    "# 많은 입력이 예상될 때"
   ]
  },
  {
   "cell_type": "code",
   "execution_count": 1,
   "metadata": {},
   "outputs": [],
   "source": [
    "import sys\n",
    "input=sys.stdin.readline"
   ]
  },
  {
   "attachments": {},
   "cell_type": "markdown",
   "metadata": {},
   "source": [
    "# 띄어쓰기로 구분된 값을 여러 변수에 할당\n",
    "- 예시: `foo bar` 입력을 각각 변수 `M, N`에 할당해야 할 경우"
   ]
  },
  {
   "cell_type": "code",
   "execution_count": null,
   "metadata": {},
   "outputs": [],
   "source": [
    "M, N = input().split()"
   ]
  },
  {
   "attachments": {},
   "cell_type": "markdown",
   "metadata": {},
   "source": [
    "- 각 입력을 int로 변환해서 할댕해야 할 경우 `3 2`를 변수 `M, N`에 할당"
   ]
  },
  {
   "cell_type": "code",
   "execution_count": 2,
   "metadata": {},
   "outputs": [],
   "source": [
    "M, N = map(int, input().split())"
   ]
  },
  {
   "attachments": {},
   "cell_type": "markdown",
   "metadata": {},
   "source": [
    "# N개의 입력 처리\n",
    "```\n",
    "N\n",
    "1\n",
    "2\n",
    "3\n",
    "4\n",
    "...\n",
    "N\n",
    "```"
   ]
  },
  {
   "cell_type": "code",
   "execution_count": 3,
   "metadata": {},
   "outputs": [],
   "source": [
    "N = int(input())\n",
    "for T in range(N):\n",
    "  pass"
   ]
  },
  {
   "attachments": {},
   "cell_type": "markdown",
   "metadata": {},
   "source": [
    "- 매우 많은 입력이 예상될 때 빠른 처리\n",
    "  - 띄어쓰기 구분 없이 파일 전체를 read\n",
    "  - 한줄씩 처리하고 버리는 위 구현과 달리 메모리 사용이 다소 많아지므로 주의"
   ]
  },
  {
   "cell_type": "code",
   "execution_count": null,
   "metadata": {},
   "outputs": [],
   "source": [
    "l = open(0).read().lstrip(\"0123456789\").split()"
   ]
  },
  {
   "cell_type": "code",
   "execution_count": null,
   "metadata": {},
   "outputs": [],
   "source": [
    "#숫자로 parse\n",
    "l = [*map(int,open(0).read().lstrip(\"0123456789\").split())]"
   ]
  },
  {
   "attachments": {},
   "cell_type": "markdown",
   "metadata": {},
   "source": [
    "# 한 줄에 많은 입력을 처리\n",
    "```\n",
    "N\n",
    "1 2 3 4 5 6 ... N\n",
    "```"
   ]
  },
  {
   "cell_type": "code",
   "execution_count": 7,
   "metadata": {},
   "outputs": [],
   "source": [
    "input()\n",
    "l = map(int, input().split())"
   ]
  },
  {
   "attachments": {},
   "cell_type": "markdown",
   "metadata": {},
   "source": [
    "- 위와 마찬가지로 많은 입력 처리"
   ]
  },
  {
   "cell_type": "code",
   "execution_count": null,
   "metadata": {},
   "outputs": [],
   "source": [
    "l = [*map(int,open(0).read().lstrip(\"0123456789\").split())]"
   ]
  },
  {
   "attachments": {},
   "cell_type": "markdown",
   "metadata": {},
   "source": [
    "# grid 입력\n",
    "```\n",
    "M N\n",
    "e1 e2 e3... eM\n",
    "eM+1 eM+2 ... e2M\n",
    "...\n",
    "eM-N+1... eMN\n",
    "```\n",
    "- `M`은 사용되지 않음"
   ]
  },
  {
   "cell_type": "code",
   "execution_count": null,
   "metadata": {},
   "outputs": [],
   "source": [
    "import sys\n",
    "input=sys.stdin.readline\n",
    "\n",
    "M, N = map(int, input().split())\n",
    "grid = [[*map(int, input().split())] for _ in range(N)]"
   ]
  },
  {
   "attachments": {},
   "cell_type": "markdown",
   "metadata": {},
   "source": [
    "# 무한 입력 (EOF 처리)"
   ]
  },
  {
   "cell_type": "code",
   "execution_count": 8,
   "metadata": {},
   "outputs": [],
   "source": [
    "while True :\n",
    "  try :\n",
    "    pass\n",
    "  except EOFError:\n",
    "    break"
   ]
  }
 ],
 "metadata": {
  "kernelspec": {
   "display_name": "Python 3",
   "language": "python",
   "name": "python3"
  },
  "language_info": {
   "codemirror_mode": {
    "name": "ipython",
    "version": 3
   },
   "file_extension": ".py",
   "mimetype": "text/x-python",
   "name": "python",
   "nbconvert_exporter": "python",
   "pygments_lexer": "ipython3",
   "version": "3.11.0"
  },
  "orig_nbformat": 4
 },
 "nbformat": 4,
 "nbformat_minor": 2
}
