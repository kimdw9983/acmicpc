{
 "cells": [
  {
   "attachments": {},
   "cell_type": "markdown",
   "metadata": {},
   "source": [
    "# 재귀 제한"
   ]
  },
  {
   "cell_type": "code",
   "execution_count": null,
   "metadata": {},
   "outputs": [],
   "source": [
    "import sys\n",
    "sys.setrecursionlimit(10**6)"
   ]
  },
  {
   "cell_type": "code",
   "execution_count": null,
   "metadata": {},
   "outputs": [],
   "source": [
    "#V는 정점의 개수이다\n",
    "V = 10"
   ]
  },
  {
   "attachments": {},
   "cell_type": "markdown",
   "metadata": {},
   "source": [
    "# DFS 기본형\n",
    "\n",
    "- 메모리부터 위험하므로 참고용으로 쓸 것"
   ]
  },
  {
   "cell_type": "code",
   "execution_count": null,
   "metadata": {},
   "outputs": [],
   "source": [
    "import sys\n",
    "input=sys.stdin.readline\n",
    "\n",
    "N, M, R = map(int, input().split())\n",
    "\n",
    "G = [[False] * (N + 1) for _ in range(N + 1)]\n",
    "V = [False] * (N + 1)\n",
    "\n",
    "for _ in range(M) :\n",
    "  u, v = map(int, input().split())\n",
    "  G[u][v] = True\n",
    "  G[v][u] = True\n",
    " \n",
    "def dfs(s):\n",
    "  V[s] = True\n",
    "  for i, v in enumerate(G[s]):\n",
    "    if not v or V[i] : continue\n",
    "    dfs(i)\n",
    "\n",
    "dfs(R)"
   ]
  },
  {
   "attachments": {},
   "cell_type": "markdown",
   "metadata": {},
   "source": [
    "# DFS\n",
    "- `V`: vertex; 정점의 개수, `G`: graph, `S`: stack, `s`: s; 시작 정점, `vis`: visited\n",
    "- 유향(directed)그래프나 간선 연결과 관련된 구현의 경우 `connect()`의 구현을 바꿀 것.\n",
    "- `S += G[v]`해당 노드에 연결된 간선 추가하는 것이다. \n",
    "  - 방문할 정점 번호의 규칙이 다를경우 `G[v]`를 변경한다."
   ]
  },
  {
   "cell_type": "code",
   "execution_count": null,
   "metadata": {},
   "outputs": [],
   "source": [
    "G = [[] for _ in range(V + 1)]\n",
    "def connect(G, u, v):\n",
    "  G[u].append(v)\n",
    "  G[v].append(u)\n",
    "\n",
    "def dfs(G, s):\n",
    "  S = [s]\n",
    "  vis = [False for _ in range(V + 1)]\n",
    "\n",
    "  while S:\n",
    "    v = S.pop()\n",
    "    if not V[v]:\n",
    "      vis[v] = True\n",
    "      S += G[v] "
   ]
  },
  {
   "attachments": {},
   "cell_type": "markdown",
   "metadata": {},
   "source": [
    "## 재귀 구현"
   ]
  },
  {
   "cell_type": "code",
   "execution_count": null,
   "metadata": {},
   "outputs": [],
   "source": [
    "import sys\n",
    "sys.setrecursionlimit(10**6)\n",
    "\n",
    "G = [[] for _ in range(V + 1)]\n",
    "def connect(G, u, v):\n",
    "  G[u].append(v)\n",
    "  G[v].append(u)\n",
    "\n",
    "def dfs(G, vis, s):\n",
    "  if not vis[s] :\n",
    "    vis[s] = True\n",
    "\n",
    "  for x in G[s] :\n",
    "    if vis[x] : continue\n",
    "    dfs(G, vis, x)"
   ]
  },
  {
   "attachments": {},
   "cell_type": "markdown",
   "metadata": {},
   "source": [
    "# BFS\n",
    "- `V`: vertex; 정점의 개수, `G`: graph, `s`: s; 시작 정점, `vis`: visited, `Q`: Queue\n",
    "- Python의 `Queue.queue`도 내부 구현에 `collections.deque`를 사용한다."
   ]
  },
  {
   "cell_type": "code",
   "execution_count": null,
   "metadata": {},
   "outputs": [],
   "source": [
    "import collections\n",
    "\n",
    "G = [[] for _ in range(V + 1)]\n",
    "def connect(G, u, v):\n",
    "  G[u].append(v)\n",
    "  G[v].append(u)\n",
    "\n",
    "def bfs(G, s):\n",
    "  Q = collections.deque([s])\n",
    "  vis = [False for _ in range(V + 1)]\n",
    "  vis[s] = True\n",
    "\n",
    "  while Q:\n",
    "    v = Q.popleft()\n",
    "    for i in G[v]: \n",
    "      if vis[i]: continue\n",
    "      vis[i] = True\n",
    "      Q += [i]"
   ]
  },
  {
   "attachments": {},
   "cell_type": "markdown",
   "metadata": {},
   "source": [
    "## collections 없는 BFS\n",
    "- 조금 더 빠름.\n",
    "- 실제로 BFS가 탐색하는 것과는 약간 다르므로 주의"
   ]
  },
  {
   "cell_type": "code",
   "execution_count": null,
   "metadata": {},
   "outputs": [],
   "source": [
    "G = [[] for _ in range(V + 1)]\n",
    "def connect(G, u, v):\n",
    "  G[u].append(v)\n",
    "  G[v].append(u)\n",
    "\n",
    "def bfs(G, s):\n",
    "  Q = [s]\n",
    "  vis = [False for _ in range(V + 1)]\n",
    "  vis[s] = True\n",
    "\n",
    "  while Q:\n",
    "    v = Q.pop()\n",
    "    for i in reversed(G[v]): \n",
    "      if vis[i]: continue\n",
    "      vis[i] = True\n",
    "      Q = [i] + Q"
   ]
  },
  {
   "attachments": {},
   "cell_type": "markdown",
   "metadata": {},
   "source": [
    "# 그래프 순회(미로 찾기)\n",
    "- `if not (0 <= nx < N and 0 <= ny < M) : continue` 경계에 닿을 경우\n",
    "- `if not G[nx][ny]: continue` 접근 가능 여부 "
   ]
  },
  {
   "cell_type": "code",
   "execution_count": null,
   "metadata": {},
   "outputs": [],
   "source": [
    "dx = [-1, 0, 1, 0]\n",
    "dy = [0, 1, 0, -1]\n",
    "\n",
    "Q = []\n",
    "Q.append((0, 0))\n",
    "while Q :\n",
    "  x, y = Q.pop()\n",
    "\n",
    "  for i in range(4):\n",
    "    nx = x + dx[i]\n",
    "    ny = y + dy[i]\n",
    "\n",
    "    if not (0 <= nx < N and 0 <= ny < M): continue\n",
    "    if not G[nx][ny]: continue\n",
    "\n",
    "    Q.append((nx, ny)) "
   ]
  }
 ],
 "metadata": {
  "language_info": {
   "name": "python"
  },
  "orig_nbformat": 4
 },
 "nbformat": 4,
 "nbformat_minor": 2
}
