{
 "cells": [
  {
   "attachments": {},
   "cell_type": "markdown",
   "metadata": {},
   "source": [
    "# DFS 기본형"
   ]
  },
  {
   "cell_type": "code",
   "execution_count": null,
   "metadata": {},
   "outputs": [],
   "source": [
    "import sys\n",
    "input=sys.stdin.readline\n",
    "\n",
    "N, M, R = map(int, input().split())\n",
    "\n",
    "G = [[False] * (N + 1) for _ in range(N + 1)]\n",
    "V = [False] * (N + 1)\n",
    "\n",
    "for _ in range(M) :\n",
    "  u, v = map(int, input().split())\n",
    "  G[u][v] = True\n",
    "  G[v][u] = True\n",
    " \n",
    "def DFS(s):\n",
    "  V[s] = True\n",
    "  for i, v in enumerate(G[s]):\n",
    "    if not v or V[i] : continue\n",
    "    DFS(i)\n",
    "\n",
    "DFS(R)\n",
    "\n",
    "sys.stdout.write('\\n'.join(map(str, answer)))"
   ]
  }
 ],
 "metadata": {
  "language_info": {
   "name": "python"
  },
  "orig_nbformat": 4
 },
 "nbformat": 4,
 "nbformat_minor": 2
}
