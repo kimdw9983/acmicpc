{
 "cells": [
  {
   "attachments": {},
   "cell_type": "markdown",
   "metadata": {},
   "source": [
    "### 사전순 정렬\n",
    "- 가장 왼쪽이 첫번째 기준이 된다"
   ]
  },
  {
   "cell_type": "code",
   "execution_count": 1,
   "metadata": {},
   "outputs": [
    {
     "data": {
      "text/plain": [
       "[[1, 0], [1, 2], [1, 4], [2, 1], [2, 3], [3, 4]]"
      ]
     },
     "execution_count": 1,
     "metadata": {},
     "output_type": "execute_result"
    }
   ],
   "source": [
    "v = [[1,2], [2,3], [3,4], [1,4], [1,0], [2,1]]\n",
    "sorted(v, key=lambda x: x)"
   ]
  },
  {
   "attachments": {},
   "cell_type": "markdown",
   "metadata": {},
   "source": [
    "### 정렬 기준(criteria) 변경\n",
    "- 두번째 원소인 x[1]을 정렬의 첫번째 기준으로 한다."
   ]
  },
  {
   "cell_type": "code",
   "execution_count": 1,
   "metadata": {},
   "outputs": [
    {
     "data": {
      "text/plain": [
       "[[1, 2], [1, 4], [1, 0], [2, 3], [2, 1], [3, 4]]"
      ]
     },
     "execution_count": 1,
     "metadata": {},
     "output_type": "execute_result"
    }
   ],
   "source": [
    "v = [[1,2], [2,3], [3,4], [1,4], [1,0], [2,1]]\n",
    "sorted(v, key = lambda x: x[1])"
   ]
  },
  {
   "attachments": {},
   "cell_type": "markdown",
   "metadata": {},
   "source": [
    "### 기준 여러개 및 기준 우선 순위\n",
    "- `x[0]`을 가장 우선적인 기준으로 정렬\n",
    "- `x[0]`이 가장 낮고, `x[1]`이 가장 높은 순서"
   ]
  },
  {
   "cell_type": "code",
   "execution_count": 2,
   "metadata": {},
   "outputs": [
    {
     "data": {
      "text/plain": [
       "[[1, 4], [1, 2], [1, 0], [2, 3], [2, 1], [3, 4]]"
      ]
     },
     "execution_count": 2,
     "metadata": {},
     "output_type": "execute_result"
    }
   ],
   "source": [
    "v = [[1,2], [2,3], [3,4], [1,4], [1,0], [2,1]]\n",
    "sorted(v, key=lambda x: (x[0], -x[1]))"
   ]
  },
  {
   "attachments": {},
   "cell_type": "markdown",
   "metadata": {},
   "source": [
    "### 길이가 같은 여러 배열의 값을 기준으로 정렬\n",
    "- 정렬 기준을 여러개로 지정할 수 있다.\n",
    "- 아래는 array1, array2, array3의 순서대로 우선순위를 지정한다.\n",
    "- 활용예 : 1422(숫자의 신)"
   ]
  },
  {
   "cell_type": "code",
   "execution_count": 1,
   "metadata": {},
   "outputs": [
    {
     "name": "stdout",
     "output_type": "stream",
     "text": [
      "('d', 'b', 'c', 'e', 'a')\n"
     ]
    }
   ],
   "source": [
    "arr = ['a', 'b', 'c', 'd', 'e']\n",
    "array1 = [3, 1, 2, 1, 2]\n",
    "array2 = [0, 1, 0, 0, 1]\n",
    "array3 = [2, 3, 1, 2, 1]\n",
    "\n",
    "# zip the arrays together\n",
    "zipped = list(zip(arr, array1, array2, array3))\n",
    "\n",
    "# sort the zipped list\n",
    "sorted_zipped = sorted(zipped, key=lambda x: (x[1], x[2], x[3]))\n",
    "\n",
    "# unzip the sorted list to get the sorted 'arr'\n",
    "sorted_arr, _, _, _ = zip(*sorted_zipped)\n",
    "\n",
    "print(sorted_arr)"
   ]
  }
 ],
 "metadata": {
  "kernelspec": {
   "display_name": "Python 3",
   "language": "python",
   "name": "python3"
  },
  "language_info": {
   "codemirror_mode": {
    "name": "ipython",
    "version": 3
   },
   "file_extension": ".py",
   "mimetype": "text/x-python",
   "name": "python",
   "nbconvert_exporter": "python",
   "pygments_lexer": "ipython3",
   "version": "3.11.0"
  },
  "orig_nbformat": 4
 },
 "nbformat": 4,
 "nbformat_minor": 2
}
