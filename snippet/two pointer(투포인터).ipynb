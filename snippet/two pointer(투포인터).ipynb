{
 "cells": [
  {
   "attachments": {},
   "cell_type": "markdown",
   "metadata": {},
   "source": [
    "# 투 포인터\n",
    "- 두개의 포인터를 유지하면서 조건에 따라 포인터를 적합한 한쪽으로 이동하는 것을 반복하는 알고리즘\n",
    "- 동일한 포인터의 조합을 보통 반복해서 보지 않으므로, 보통 $O(N)$만큼 걸린다.\n",
    "- 한쪽에서 출발하는 포인터의 경우, 오른쪽 끝까지 갈때까지 돌려야 한다.\n",
    "- 양쪽 끝에서 출발하는 포인터의 경우, 두 포인터가 만날때까지 돌려야 한다.\n",
    "  - 이 경우에 반복횟수를 n-1이 될 떄까지 하면 된다."
   ]
  },
  {
   "cell_type": "code",
   "execution_count": null,
   "metadata": {},
   "outputs": [],
   "source": [
    "import sys\n",
    "input = sys.stdin.readline\n",
    "\n",
    "N = int(input())\n",
    "l = [*map(int, input().split())]\n",
    "l.sort()\n",
    "x = int(input())\n",
    "\n",
    "sen, een = enumerate(l), enumerate(l[::-1])\n",
    "s, a = next(sen)\n",
    "answer = 0\n",
    "for i, b in een:\n",
    "  e = N - i - 1\n",
    "  while a + b < x and s < e: #a +b 가 더 작다 = s를 오른쪽으로 옮겨야 한다\n",
    "    s, a = next(sen)\n",
    "    if s >= e:\n",
    "      break\n",
    "\n",
    "  if s < e and a + b == x:\n",
    "    s, a = next(sen)\n",
    "    answer += 1\n",
    "\n",
    "print(answer)"
   ]
  }
 ],
 "metadata": {
  "language_info": {
   "name": "python"
  },
  "orig_nbformat": 4
 },
 "nbformat": 4,
 "nbformat_minor": 2
}
