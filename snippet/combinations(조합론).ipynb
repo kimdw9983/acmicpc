{
 "cells": [
  {
   "cell_type": "code",
   "execution_count": null,
   "metadata": {},
   "outputs": [],
   "source": []
  },
  {
   "attachments": {},
   "cell_type": "markdown",
   "metadata": {},
   "source": [
    "## 조합(Combination)\n",
    "- $nCr$, $\\dbinom {n}{r}$, $C(n, r)$\n",
    "- 순서 `상관이 없고`, 중복을 `허용하지 않는` 경우의 수\n",
    "- $\\dbinom {n}{r} = \\dbinom{n}{n-r}$ \n",
    "- $\\dbinom {n}{0} = \\dbinom{n}{n} = 1$\n",
    "- $\\dbinom {n}{r} = \\dbinom{n - 1}{r} + \\dbinom{n-1}{r-1}$, 이를 이용해 거듭제곱을 활용하여 계산 가능\n",
    "\n",
    "## 순열(Permutation)\n",
    "- $nPr$, $\\bigg(\\dbinom {n}{r}\\bigg)$\n",
    "- 순서 `상관이 없고`, 중복을 `허용하는` 경우의 수\n",
    "\n",
    "## 중복 조합(Multiset coefficient, )\n",
    "- $nHr$\n",
    "- 순서 `상관 있고`, 중복을 `허용하지 않는` 경우의 수\n",
    "\n",
    "# 중복조합(Combination with Repetition, Product)\n",
    "- $nΠr$\n",
    "- 순서 `상관 있고`, 중복을 `허용하는` 경우의 수"
   ]
  }
 ],
 "metadata": {
  "language_info": {
   "name": "python"
  },
  "orig_nbformat": 4
 },
 "nbformat": 4,
 "nbformat_minor": 2
}
