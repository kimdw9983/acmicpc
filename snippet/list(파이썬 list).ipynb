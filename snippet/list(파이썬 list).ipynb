{
 "cells": [
  {
   "attachments": {},
   "cell_type": "markdown",
   "metadata": {},
   "source": [
    "# 조건부 필터"
   ]
  },
  {
   "cell_type": "code",
   "execution_count": 4,
   "metadata": {},
   "outputs": [
    {
     "name": "stdout",
     "output_type": "stream",
     "text": [
      "[True, True, True]\n",
      "[True, True, True]\n"
     ]
    }
   ],
   "source": [
    "l = [True, False, True, True, False]\n",
    "\n",
    "print(list(filter(None, l)))\n",
    "print([v for v in l if v])"
   ]
  },
  {
   "attachments": {},
   "cell_type": "markdown",
   "metadata": {},
   "source": [
    "### index가 필요한 경우"
   ]
  },
  {
   "cell_type": "code",
   "execution_count": 3,
   "metadata": {},
   "outputs": [
    {
     "data": {
      "text/plain": [
       "[2, 3, 5]"
      ]
     },
     "execution_count": 3,
     "metadata": {},
     "output_type": "execute_result"
    }
   ],
   "source": [
    "C = [False, False, True, True, False, True]\n",
    "\n",
    "import itertools\n",
    "[*itertools.compress(range(len(l)), l)]\n",
    "[i for i, v in enumerate(C) if v]"
   ]
  },
  {
   "attachments": {},
   "cell_type": "markdown",
   "metadata": {},
   "source": [
    "#### 벤치마크"
   ]
  },
  {
   "cell_type": "code",
   "execution_count": 6,
   "metadata": {},
   "outputs": [
    {
     "name": "stdout",
     "output_type": "stream",
     "text": [
      "compress time: 0.0031854999251663685\n",
      "enumerate time: 0.003842199919745326\n"
     ]
    }
   ],
   "source": [
    "import timeit\n",
    "import itertools\n",
    "\n",
    "C = [False, False, True, True, False, True]\n",
    "\n",
    "compress_time = timeit.timeit(lambda: [*itertools.compress(range(len(C)), C)], number=10000)\n",
    "enumerate_time = timeit.timeit(lambda: [i for i, v in enumerate(C) if v], number=10000)\n",
    "\n",
    "print(f'compress time: {compress_time}')\n",
    "print(f'enumerate time: {enumerate_time}')"
   ]
  }
 ],
 "metadata": {
  "kernelspec": {
   "display_name": "Python 3",
   "language": "python",
   "name": "python3"
  },
  "language_info": {
   "codemirror_mode": {
    "name": "ipython",
    "version": 3
   },
   "file_extension": ".py",
   "mimetype": "text/x-python",
   "name": "python",
   "nbconvert_exporter": "python",
   "pygments_lexer": "ipython3",
   "version": "3.11.0"
  },
  "orig_nbformat": 4
 },
 "nbformat": 4,
 "nbformat_minor": 2
}
