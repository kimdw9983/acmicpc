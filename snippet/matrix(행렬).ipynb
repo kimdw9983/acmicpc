{
 "cells": [
  {
   "cell_type": "code",
   "execution_count": 1,
   "metadata": {},
   "outputs": [],
   "source": [
    "mod: int"
   ]
  },
  {
   "attachments": {},
   "cell_type": "markdown",
   "metadata": {},
   "source": [
    "### 행렬 제곱\n",
    "- eye는 단위 행렬을 반환한다.\n",
    "- 당연히 행렬은 정사각형이여야 한다.\n",
    "- 그래프의 인접 행렬을 `N`번 제곱하면, `M[x][y]`에 대해 `(x, y)를 N번 거쳐서 가는 경우의 수`를 구할 수 있다."
   ]
  },
  {
   "cell_type": "code",
   "execution_count": null,
   "metadata": {},
   "outputs": [],
   "source": [
    "m_mul = lambda A, B: [[sum(i * j % mod for i, j in zip(row, col)) for col in zip(*B)] for row in A]\n",
    "\n",
    "def eye(l) :\n",
    "  m = [[0] * l for _ in range(l)]\n",
    "  for i, row in enumerate(m):\n",
    "    row[i] = 1\n",
    "  return m\n",
    "\n",
    "def m_pow(m, p):\n",
    "  base = eye(len(m))\n",
    "\n",
    "  if p == 0:\n",
    "    return base\n",
    "\n",
    "  while p > 1:\n",
    "    if p & 1 == 1:\n",
    "      base = m_mul(base, m)\n",
    "    m = m_mul(m, m)\n",
    "    p >>= 1\n",
    "  return m_mul(base, m)"
   ]
  },
  {
   "attachments": {},
   "cell_type": "markdown",
   "metadata": {},
   "source": [
    "#### p가 0이하인 정수일 수도 있을 때\n",
    "- 선형대수학 문제에 사용될 듯 하다."
   ]
  },
  {
   "cell_type": "code",
   "execution_count": null,
   "metadata": {},
   "outputs": [],
   "source": [
    "from copy import deepcopy\n",
    "\n",
    "def m_pow(m, p):\n",
    "  base = eye(len(m))\n",
    "  if p < 0:\n",
    "    return m_pow(mat_inv(m), -p)\n",
    "\n",
    "  if p == 0:\n",
    "    return base\n",
    "\n",
    "  while p > 1:\n",
    "    if p & 1 == 1:\n",
    "      base = mul(base, m)\n",
    "    m = mul(m, m)\n",
    "    p >>= 1\n",
    "  return mul(base, m)\n",
    "\n",
    "def mat_inv(A):\n",
    "  B = deepcopy(A)\n",
    "  n = len(A)\n",
    "  col = list(range(n))\n",
    "\n",
    "  tmp = [[0] * n for _ in range(n)]\n",
    "  for i in range(n):\n",
    "    tmp[i][i] = 1\n",
    "\n",
    "  for i in range(n):\n",
    "    r = c = i\n",
    "    for j in range(i, n):\n",
    "      for k in range(i, n):\n",
    "        if abs(B[j][k]) > abs(B[r][c]):\n",
    "          r, c = j, k\n",
    "    if B[r][c] == 0:\n",
    "      return B\n",
    "\n",
    "    B[i], B[r] = B[r], B[i]\n",
    "    tmp[i], tmp[r] = tmp[r], tmp[i]\n",
    "    for j in range(n):\n",
    "      B[j][i], B[j][c] = B[j][c], B[j][i]\n",
    "      tmp[j][i], tmp[j][c] = tmp[j][c], tmp[j][i]\n",
    "    col[i], col[c] = col[c], col[i]\n",
    "    v = B[i][i]\n",
    "    for j in range(i + 1, n):\n",
    "      f = B[j][i] / v\n",
    "      B[j][i] = 0\n",
    "      for k in range(i + 1, n):\n",
    "        B[j][k] -= f * B[i][k]\n",
    "      for k in range(n):\n",
    "        tmp[j][k] -= f * tmp[i][k]\n",
    "\n",
    "    for j in range(i + 1, n):\n",
    "      B[i][j] /= v\n",
    "\n",
    "    for j in range(n):\n",
    "      tmp[i][j] /= v\n",
    "    B[i][i] = 1\n",
    "\n",
    "  for i in reversed(range(n)):\n",
    "    for j in range(i):\n",
    "      v = B[j][i]\n",
    "      for k in range(n):\n",
    "        tmp[j][k] -= v * tmp[i][k]\n",
    "\n",
    "  for i in range(n):\n",
    "    for j in range(n):\n",
    "      B[col[i]][col[j]] = tmp[i][j]\n",
    "  return B"
   ]
  },
  {
   "attachments": {},
   "cell_type": "markdown",
   "metadata": {},
   "source": [
    "### 행렬 덧셈"
   ]
  },
  {
   "cell_type": "code",
   "execution_count": 2,
   "metadata": {},
   "outputs": [],
   "source": [
    "m_add = lambda *m: [[sum(el) for el in zip(*row)] for row in zip(*m)]\n",
    "m_add = lambda *m: [[sum(el % mod) for el in zip(*row)] for row in zip(*m)]"
   ]
  },
  {
   "attachments": {},
   "cell_type": "markdown",
   "metadata": {},
   "source": [
    "### 행렬 뺄셈"
   ]
  },
  {
   "cell_type": "code",
   "execution_count": 3,
   "metadata": {},
   "outputs": [],
   "source": [
    "m_sub = lambda A, B: [[i - j for i, j in zip(*row)] for row in zip(A, B)]\n",
    "m_sub = lambda A, B: [[(i - j) % mod for i, j in zip(*row)] for row in zip(A, B)]"
   ]
  },
  {
   "attachments": {},
   "cell_type": "markdown",
   "metadata": {},
   "source": [
    "### 행렬 곱셈"
   ]
  },
  {
   "cell_type": "code",
   "execution_count": null,
   "metadata": {},
   "outputs": [],
   "source": [
    "m_mul = lambda A, B: [[sum(i * j for i, j in zip(row, col)) for col in zip(*B)] for row in A]\n",
    "m_mul = lambda A, B: [[sum(i * j % mod for i, j in zip(row, col)) for col in zip(*B)] for row in A]"
   ]
  },
  {
   "attachments": {},
   "cell_type": "markdown",
   "metadata": {},
   "source": [
    "### 행렬-벡터 곱셈"
   ]
  },
  {
   "cell_type": "code",
   "execution_count": null,
   "metadata": {},
   "outputs": [],
   "source": [
    "v_mul = lambda mat, vec: [sum(a * b for a, b in zip(row, vec)) for row in mat]\n",
    "v_mul = lambda mat, vec: [sum(a * b % mod for a, b in zip(row, vec)) for row in mat]"
   ]
  }
 ],
 "metadata": {
  "kernelspec": {
   "display_name": "Python 3",
   "language": "python",
   "name": "python3"
  },
  "language_info": {
   "codemirror_mode": {
    "name": "ipython",
    "version": 3
   },
   "file_extension": ".py",
   "mimetype": "text/x-python",
   "name": "python",
   "nbconvert_exporter": "python",
   "pygments_lexer": "ipython3",
   "version": "3.11.0"
  },
  "orig_nbformat": 4
 },
 "nbformat": 4,
 "nbformat_minor": 2
}
