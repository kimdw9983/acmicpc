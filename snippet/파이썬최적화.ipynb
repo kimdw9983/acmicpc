{
 "cells": [
  {
   "attachments": {},
   "cell_type": "markdown",
   "metadata": {},
   "source": [
    "- 전역변수에 접근하는 시간은 로컬변수에 접근하는 시간보다 유의미하게 느리다"
   ]
  }
 ],
 "metadata": {
  "language_info": {
   "name": "python"
  },
  "orig_nbformat": 4
 },
 "nbformat": 4,
 "nbformat_minor": 2
}
