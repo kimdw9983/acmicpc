{
 "cells": [
  {
   "attachments": {},
   "cell_type": "markdown",
   "metadata": {},
   "source": [
    "- `print()`는 느리다. 입력이 많을것으로 예상되는 경우, `input=sys.stdin.readline`을 사용한다.\n",
    "  - `input = io.BytesIO(os.read(0, os.fstat(0).st_size)).readline`을 사용할 수 있는데, 원리를 모르겠다. TODO.\n",
    "- 전역변수에 접근하는 시간은 로컬변수에 접근하는 시간보다 유의미하게 느리다.\n",
    "  - 따라서 가능한 경우, 전역 범위에 변수를 선언하는것보단, \\\n",
    "  문제를 푸는 함수(`def sol(): ...`)를 선언해서 그 TC 안에서 필요한 변수들을 사용하는 것이 좋다.\n",
    "- 파이썬의 index 접근은 생각보다 비효율적이다.\n",
    "  - 예를들어 list `l`을 index인 `i`로 접근하려 할 때, \\\n",
    "  `for i in range(len(l)): l[i]`보다, `for v in l: v`가 더 빠르며, \\\n",
    "  index가 필요할 경우 `for i, v in enumerate(l): i, v`를 사용하는 것이 더 빠르다.\n",
    "  - 하지만 list의 길이를 동적으로 두어 append 하는 것(`l.append(x)`)보다, \\\n",
    "  l의 길이를 fixed 해놓고, `l[i] = x`를 사용하는 것이 더 빠르다.\n",
    "    - https://www.acmicpc.net/source/61132478 `l[i] = x` 구현. 492ms\n",
    "    - https://www.acmicpc.net/source/61132338 `l.append(x)` 구현. 540ms"
   ]
  }
 ],
 "metadata": {
  "language_info": {
   "name": "python"
  },
  "orig_nbformat": 4
 },
 "nbformat": 4,
 "nbformat_minor": 2
}
